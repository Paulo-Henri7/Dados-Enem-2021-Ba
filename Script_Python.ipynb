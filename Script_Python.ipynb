{
  "nbformat": 4,
  "nbformat_minor": 0,
  "metadata": {
    "colab": {
      "provenance": []
    },
    "kernelspec": {
      "name": "python3",
      "display_name": "Python 3"
    },
    "language_info": {
      "name": "python"
    }
  },
  "cells": [
    {
      "cell_type": "markdown",
      "source": [
        "#1 - Sintaxe básica"
      ],
      "metadata": {
        "id": "0Y3_c2PlIQeJ"
      }
    },
    {
      "cell_type": "code",
      "execution_count": null,
      "metadata": {
        "colab": {
          "base_uri": "https://localhost:8080/"
        },
        "id": "PHYzkAqLDk7s",
        "outputId": "d227772d-0c34-48a2-b1d3-1236b897206c"
      },
      "outputs": [
        {
          "output_type": "stream",
          "name": "stdout",
          "text": [
            "Olá mundo!\n"
          ]
        }
      ],
      "source": [
        "print(\"Olá mundo!\")"
      ]
    },
    {
      "cell_type": "code",
      "source": [
        "print('Olá mundo!')"
      ],
      "metadata": {
        "colab": {
          "base_uri": "https://localhost:8080/"
        },
        "id": "V8t3cDiuIzbJ",
        "outputId": "3fa46c70-c1c8-440a-dfd3-59228f18c392"
      },
      "execution_count": null,
      "outputs": [
        {
          "output_type": "stream",
          "name": "stdout",
          "text": [
            "Olá mundo!\n"
          ]
        }
      ]
    },
    {
      "cell_type": "code",
      "source": [
        "\"\"\" Comentário\n",
        "    Comentário 2\n",
        "    Comentário 3\n",
        "\"\"\""
      ],
      "metadata": {
        "colab": {
          "base_uri": "https://localhost:8080/",
          "height": 36
        },
        "id": "bqujl2N_I0xx",
        "outputId": "fb1def93-76f9-44a8-c6e5-4d794fae82f8"
      },
      "execution_count": null,
      "outputs": [
        {
          "output_type": "execute_result",
          "data": {
            "text/plain": [
              "' Comentário\\n    Comentário 2\\n    Comentário 3\\n'"
            ],
            "application/vnd.google.colaboratory.intrinsic+json": {
              "type": "string"
            }
          },
          "metadata": {},
          "execution_count": 3
        }
      ]
    },
    {
      "cell_type": "code",
      "source": [
        "print(\"Olá \\nMundo\\n!\")"
      ],
      "metadata": {
        "colab": {
          "base_uri": "https://localhost:8080/"
        },
        "id": "tPwmEUYLJIZ6",
        "outputId": "cf4da3ff-f4a5-4505-9f3b-eedcdb07e574"
      },
      "execution_count": null,
      "outputs": [
        {
          "output_type": "stream",
          "name": "stdout",
          "text": [
            "Olá \n",
            "Mundo\n",
            "!\n"
          ]
        }
      ]
    },
    {
      "cell_type": "markdown",
      "source": [
        "#2 - Operadores matemáticos"
      ],
      "metadata": {
        "id": "goEwrSSoJfZ9"
      }
    },
    {
      "cell_type": "code",
      "source": [
        "#Soma\n",
        "1 + 3"
      ],
      "metadata": {
        "colab": {
          "base_uri": "https://localhost:8080/"
        },
        "id": "_ZNpcCETJUCb",
        "outputId": "57160865-20d5-4073-99da-27b2f69c88ef"
      },
      "execution_count": null,
      "outputs": [
        {
          "output_type": "execute_result",
          "data": {
            "text/plain": [
              "4"
            ]
          },
          "metadata": {},
          "execution_count": 5
        }
      ]
    },
    {
      "cell_type": "code",
      "source": [
        "#Subtração\n",
        "3 - 4"
      ],
      "metadata": {
        "colab": {
          "base_uri": "https://localhost:8080/"
        },
        "id": "6cQCvdwLJjjF",
        "outputId": "90c95259-3930-4afc-b01f-ead42a7adad6"
      },
      "execution_count": null,
      "outputs": [
        {
          "output_type": "execute_result",
          "data": {
            "text/plain": [
              "-1"
            ]
          },
          "metadata": {},
          "execution_count": 6
        }
      ]
    },
    {
      "cell_type": "code",
      "source": [
        "#Multiplicação\n",
        "3 * 3"
      ],
      "metadata": {
        "colab": {
          "base_uri": "https://localhost:8080/"
        },
        "id": "4-mhZBZoJn3O",
        "outputId": "6a974009-19b0-462f-a52b-399cabcca85b"
      },
      "execution_count": null,
      "outputs": [
        {
          "output_type": "execute_result",
          "data": {
            "text/plain": [
              "9"
            ]
          },
          "metadata": {},
          "execution_count": 7
        }
      ]
    },
    {
      "cell_type": "code",
      "source": [
        "#Divisão\n",
        "9 / 3"
      ],
      "metadata": {
        "colab": {
          "base_uri": "https://localhost:8080/"
        },
        "id": "FPRY9GPnJqEF",
        "outputId": "68dc27bf-6e63-4cad-a704-9ea16e891b85"
      },
      "execution_count": null,
      "outputs": [
        {
          "output_type": "execute_result",
          "data": {
            "text/plain": [
              "3.0"
            ]
          },
          "metadata": {},
          "execution_count": 8
        }
      ]
    },
    {
      "cell_type": "code",
      "source": [
        "#Exponenciação\n",
        "2 ** 3"
      ],
      "metadata": {
        "colab": {
          "base_uri": "https://localhost:8080/"
        },
        "id": "Hj42s3umJrv9",
        "outputId": "5df9663c-3f17-4aff-bafb-46c699deb410"
      },
      "execution_count": null,
      "outputs": [
        {
          "output_type": "execute_result",
          "data": {
            "text/plain": [
              "8"
            ]
          },
          "metadata": {},
          "execution_count": 9
        }
      ]
    },
    {
      "cell_type": "code",
      "source": [
        "#Resto da divisão\n",
        "3 % 4"
      ],
      "metadata": {
        "colab": {
          "base_uri": "https://localhost:8080/"
        },
        "id": "aTkr470lJtZV",
        "outputId": "3de984d8-3f1b-4a23-9319-6ab780511855"
      },
      "execution_count": null,
      "outputs": [
        {
          "output_type": "execute_result",
          "data": {
            "text/plain": [
              "3"
            ]
          },
          "metadata": {},
          "execution_count": 10
        }
      ]
    },
    {
      "cell_type": "code",
      "source": [
        "#Divisão de chão\n",
        "3 // 4"
      ],
      "metadata": {
        "colab": {
          "base_uri": "https://localhost:8080/"
        },
        "id": "bpbaK4u_J5zm",
        "outputId": "a6e7aaa9-c98e-4388-ca40-da7abf4ca69d"
      },
      "execution_count": null,
      "outputs": [
        {
          "output_type": "execute_result",
          "data": {
            "text/plain": [
              "0"
            ]
          },
          "metadata": {},
          "execution_count": 11
        }
      ]
    },
    {
      "cell_type": "code",
      "source": [
        "3 / 4"
      ],
      "metadata": {
        "colab": {
          "base_uri": "https://localhost:8080/"
        },
        "id": "R_GKtmVOKAKR",
        "outputId": "5c60d59d-6ef5-4d77-d33e-522042ecb513"
      },
      "execution_count": null,
      "outputs": [
        {
          "output_type": "execute_result",
          "data": {
            "text/plain": [
              "0.75"
            ]
          },
          "metadata": {},
          "execution_count": 12
        }
      ]
    },
    {
      "cell_type": "code",
      "source": [
        "#Priorização\n",
        "2 + 2 * 5"
      ],
      "metadata": {
        "colab": {
          "base_uri": "https://localhost:8080/"
        },
        "id": "YQvdT3HOKB43",
        "outputId": "e274fbac-bfde-4009-e49a-9068fa3f96bd"
      },
      "execution_count": null,
      "outputs": [
        {
          "output_type": "execute_result",
          "data": {
            "text/plain": [
              "12"
            ]
          },
          "metadata": {},
          "execution_count": 13
        }
      ]
    },
    {
      "cell_type": "code",
      "source": [
        "(2 + 2) * 5"
      ],
      "metadata": {
        "colab": {
          "base_uri": "https://localhost:8080/"
        },
        "id": "P9NHXNqOKJv4",
        "outputId": "4a7aeeb5-3dff-47be-905e-32cd042a2a92"
      },
      "execution_count": null,
      "outputs": [
        {
          "output_type": "execute_result",
          "data": {
            "text/plain": [
              "20"
            ]
          },
          "metadata": {},
          "execution_count": 14
        }
      ]
    },
    {
      "cell_type": "markdown",
      "source": [
        "#3 - Variáveis"
      ],
      "metadata": {
        "id": "RhautTScLFUw"
      }
    },
    {
      "cell_type": "code",
      "source": [
        "Nome = \"Pedro\""
      ],
      "metadata": {
        "id": "vVVeN2v1KLJi"
      },
      "execution_count": null,
      "outputs": []
    },
    {
      "cell_type": "code",
      "source": [
        "print(Nome)"
      ],
      "metadata": {
        "colab": {
          "base_uri": "https://localhost:8080/"
        },
        "id": "ceWjuBfHLLt3",
        "outputId": "0f00d200-98a2-4e65-ba86-ed602b9a6e9d"
      },
      "execution_count": null,
      "outputs": [
        {
          "output_type": "stream",
          "name": "stdout",
          "text": [
            "Pedro\n"
          ]
        }
      ]
    },
    {
      "cell_type": "code",
      "source": [
        "Nome_Qualquer = \"Antônio\""
      ],
      "metadata": {
        "id": "D-ovhXSrLMYW"
      },
      "execution_count": null,
      "outputs": []
    },
    {
      "cell_type": "code",
      "source": [
        "Nome_Qualquer"
      ],
      "metadata": {
        "colab": {
          "base_uri": "https://localhost:8080/",
          "height": 36
        },
        "id": "0DSxHkyALW4o",
        "outputId": "fe831781-6d2a-4dca-9b4f-1a0df35c5d47"
      },
      "execution_count": null,
      "outputs": [
        {
          "output_type": "execute_result",
          "data": {
            "text/plain": [
              "'Antônio'"
            ],
            "application/vnd.google.colaboratory.intrinsic+json": {
              "type": "string"
            }
          },
          "metadata": {},
          "execution_count": 18
        }
      ]
    },
    {
      "cell_type": "code",
      "source": [
        "Var_Text = \"Qualquer coisa\""
      ],
      "metadata": {
        "id": "D5s_DnQ-LYXX"
      },
      "execution_count": null,
      "outputs": []
    },
    {
      "cell_type": "code",
      "source": [
        "Var_Text_2 = str(\"É Texto\")"
      ],
      "metadata": {
        "id": "aXIU9N2ZLbMZ"
      },
      "execution_count": null,
      "outputs": []
    },
    {
      "cell_type": "code",
      "source": [
        "print(Var_Text)\n",
        "print(Var_Text_2)"
      ],
      "metadata": {
        "colab": {
          "base_uri": "https://localhost:8080/"
        },
        "id": "_A0JpngWLgDw",
        "outputId": "e7119ae4-5b92-4753-8f89-2c36441d9367"
      },
      "execution_count": null,
      "outputs": [
        {
          "output_type": "stream",
          "name": "stdout",
          "text": [
            "Qualquer coisa\n",
            "É Texto\n"
          ]
        }
      ]
    },
    {
      "cell_type": "code",
      "source": [
        "Var_Int_01 = 100\n",
        "Var_Int_02 = int(300)\n",
        "\n",
        "print(Var_Int_01)\n",
        "print(Var_Int_02)"
      ],
      "metadata": {
        "colab": {
          "base_uri": "https://localhost:8080/"
        },
        "id": "8E1WEynPLlPQ",
        "outputId": "ac1920fa-d1ed-4e6b-acf8-1da5b46b1156"
      },
      "execution_count": null,
      "outputs": [
        {
          "output_type": "stream",
          "name": "stdout",
          "text": [
            "100\n",
            "300\n"
          ]
        }
      ]
    },
    {
      "cell_type": "code",
      "source": [
        "Var_Float_01 = 10.9\n",
        "Var_Float_02 = float(9.5)\n",
        "\n",
        "print(Var_Float_01)\n",
        "print(Var_Float_02)"
      ],
      "metadata": {
        "colab": {
          "base_uri": "https://localhost:8080/"
        },
        "id": "GEmCW9zDLzMJ",
        "outputId": "847b1bb4-880d-483d-e548-fb6511bedc00"
      },
      "execution_count": null,
      "outputs": [
        {
          "output_type": "stream",
          "name": "stdout",
          "text": [
            "10.9\n",
            "9.5\n"
          ]
        }
      ]
    },
    {
      "cell_type": "code",
      "source": [
        "Var_Bool_01 = True\n",
        "Var_Bool_02 = False\n",
        "\n",
        "print(Var_Bool_01)\n",
        "print(Var_Bool_02)"
      ],
      "metadata": {
        "colab": {
          "base_uri": "https://localhost:8080/"
        },
        "id": "DIdGyalXMDGE",
        "outputId": "06ac3735-041d-47f5-da0c-7f704531059e"
      },
      "execution_count": null,
      "outputs": [
        {
          "output_type": "stream",
          "name": "stdout",
          "text": [
            "True\n",
            "False\n"
          ]
        }
      ]
    },
    {
      "cell_type": "markdown",
      "source": [
        "#4 - Tipos de dados"
      ],
      "metadata": {
        "id": "rYOc0bXlMjD5"
      }
    },
    {
      "cell_type": "code",
      "source": [
        "Lista_01 = [1,2,3,4,5,6,7,8]"
      ],
      "metadata": {
        "id": "JtJBG-jGMJJD"
      },
      "execution_count": null,
      "outputs": []
    },
    {
      "cell_type": "code",
      "source": [
        "print(Lista_01)"
      ],
      "metadata": {
        "colab": {
          "base_uri": "https://localhost:8080/"
        },
        "id": "J14tcvBsUdXW",
        "outputId": "12a30092-5914-4424-c4ce-fa6639413dfb"
      },
      "execution_count": null,
      "outputs": [
        {
          "output_type": "stream",
          "name": "stdout",
          "text": [
            "[1, 2, 3, 4, 5, 6, 7, 8]\n"
          ]
        }
      ]
    },
    {
      "cell_type": "code",
      "source": [
        "Lista_02 = [\"Nome\", \"Sobrenome\",\"Idade\", 18]"
      ],
      "metadata": {
        "id": "SnEpvvGHUeo2"
      },
      "execution_count": null,
      "outputs": []
    },
    {
      "cell_type": "code",
      "source": [
        "Lista_02"
      ],
      "metadata": {
        "colab": {
          "base_uri": "https://localhost:8080/"
        },
        "id": "zByj6J1PUlMI",
        "outputId": "25f0cc29-bd95-4937-c714-7f162521b33c"
      },
      "execution_count": null,
      "outputs": [
        {
          "output_type": "execute_result",
          "data": {
            "text/plain": [
              "['Nome', 'Sobrenome', 'Idade', 18]"
            ]
          },
          "metadata": {},
          "execution_count": 28
        }
      ]
    },
    {
      "cell_type": "code",
      "source": [
        "Lista_03 = [\"Nome\",19,True, [1,2,3,\"PA\"]]"
      ],
      "metadata": {
        "id": "z7BQMjkDUl2W"
      },
      "execution_count": null,
      "outputs": []
    },
    {
      "cell_type": "code",
      "source": [
        "Lista_03"
      ],
      "metadata": {
        "colab": {
          "base_uri": "https://localhost:8080/"
        },
        "id": "JYLpvmboUzgp",
        "outputId": "20ff1b54-68ed-4e36-84dc-fdb5afab887a"
      },
      "execution_count": null,
      "outputs": [
        {
          "output_type": "execute_result",
          "data": {
            "text/plain": [
              "['Nome', 19, True, [1, 2, 3, 'PA']]"
            ]
          },
          "metadata": {},
          "execution_count": 30
        }
      ]
    },
    {
      "cell_type": "code",
      "source": [
        "Tupla_01 = (1,2,3,4)\n",
        "Tupla_02 = (\"Texto\",True, 12, 2.98)"
      ],
      "metadata": {
        "id": "LnPTHb-lU2O3"
      },
      "execution_count": null,
      "outputs": []
    },
    {
      "cell_type": "code",
      "source": [
        "print(Tupla_01)\n",
        "print(Tupla_02)"
      ],
      "metadata": {
        "colab": {
          "base_uri": "https://localhost:8080/"
        },
        "id": "IA6CQDYYVC7a",
        "outputId": "d26aea1b-0693-4da8-93ee-8b24c200436e"
      },
      "execution_count": null,
      "outputs": [
        {
          "output_type": "stream",
          "name": "stdout",
          "text": [
            "(1, 2, 3, 4)\n",
            "('Texto', True, 12, 2.98)\n"
          ]
        }
      ]
    },
    {
      "cell_type": "code",
      "source": [
        "dicionario_01 = {\n",
        "    \"Nome\":\"Antonio\",\n",
        "    \"Idade\":19,\n",
        "    \"Lista\":Lista_01,\n",
        "    \"Tupla\":Tupla_02\n",
        "    }\n",
        "dicionario_01"
      ],
      "metadata": {
        "colab": {
          "base_uri": "https://localhost:8080/"
        },
        "id": "V_HLVM8bVFQZ",
        "outputId": "7e8f8bd9-0291-4aeb-db4f-b39e265afb4c"
      },
      "execution_count": null,
      "outputs": [
        {
          "output_type": "execute_result",
          "data": {
            "text/plain": [
              "{'Nome': 'Antonio',\n",
              " 'Idade': 19,\n",
              " 'Lista': [1, 2, 3, 4, 5, 6, 7, 8],\n",
              " 'Tupla': ('Texto', True, 12, 2.98)}"
            ]
          },
          "metadata": {},
          "execution_count": 33
        }
      ]
    },
    {
      "cell_type": "markdown",
      "source": [
        "#5 - Nomeação de variáveis"
      ],
      "metadata": {
        "id": "kaDemvV2Vqt6"
      }
    },
    {
      "cell_type": "code",
      "source": [
        "Laranja, Melao, Limao = 1,2,3\n",
        "\n",
        "print(Laranja, Melao, Limao)"
      ],
      "metadata": {
        "colab": {
          "base_uri": "https://localhost:8080/"
        },
        "id": "tjDPGEr7VU0c",
        "outputId": "377204d4-85ae-4c15-aa0e-a1461bb29c99"
      },
      "execution_count": null,
      "outputs": [
        {
          "output_type": "stream",
          "name": "stdout",
          "text": [
            "1 2 3\n"
          ]
        }
      ]
    },
    {
      "cell_type": "code",
      "source": [
        "Morango = Uva = Kiwi = 100\n",
        "\n",
        "print(Morango, Uva, Kiwi)"
      ],
      "metadata": {
        "colab": {
          "base_uri": "https://localhost:8080/"
        },
        "id": "R5nXOD0yV4a3",
        "outputId": "38a71d28-5a05-4cd2-a6b0-be22a5c21dee"
      },
      "execution_count": null,
      "outputs": [
        {
          "output_type": "stream",
          "name": "stdout",
          "text": [
            "100 100 100\n"
          ]
        }
      ]
    },
    {
      "cell_type": "code",
      "source": [
        "Lista_Carros = [\"VW\",\"Audi\",\"Tesla\"]"
      ],
      "metadata": {
        "id": "v3bepop-WAf1"
      },
      "execution_count": null,
      "outputs": []
    },
    {
      "cell_type": "code",
      "source": [
        "Marca_01, Marca_02, Marca_03 = Lista_Carros"
      ],
      "metadata": {
        "id": "lsZ6q7uuWNJI"
      },
      "execution_count": null,
      "outputs": []
    },
    {
      "cell_type": "code",
      "source": [
        "print(Marca_01, Marca_02, Marca_03)"
      ],
      "metadata": {
        "colab": {
          "base_uri": "https://localhost:8080/"
        },
        "id": "clmuWIAkWQ9m",
        "outputId": "91b0bb43-4329-49a8-d8e4-2bf2f55520df"
      },
      "execution_count": null,
      "outputs": [
        {
          "output_type": "stream",
          "name": "stdout",
          "text": [
            "VW Audi Tesla\n"
          ]
        }
      ]
    },
    {
      "cell_type": "code",
      "source": [
        "Nome = \"Joao\"\n",
        "Sobrenome = \"Sousa\"\n",
        "\n",
        "Nome_completo = Nome + \" \" + Sobrenome"
      ],
      "metadata": {
        "id": "ZNkm3zkPWZNi"
      },
      "execution_count": null,
      "outputs": []
    },
    {
      "cell_type": "code",
      "source": [
        "print(Nome_completo)"
      ],
      "metadata": {
        "colab": {
          "base_uri": "https://localhost:8080/"
        },
        "id": "4x38r5LoWm0x",
        "outputId": "ac769b63-7be8-4cb0-d7b5-4777d742b7e3"
      },
      "execution_count": null,
      "outputs": [
        {
          "output_type": "stream",
          "name": "stdout",
          "text": [
            "Joao Sousa\n"
          ]
        }
      ]
    },
    {
      "cell_type": "code",
      "source": [
        "Nome = \"Jonas \"\n",
        "Idade = 23\n",
        "\n",
        "Nome + str(Idade) + \" anos\""
      ],
      "metadata": {
        "colab": {
          "base_uri": "https://localhost:8080/",
          "height": 36
        },
        "id": "rJEg4u8gWn6S",
        "outputId": "97aefa31-5799-448e-d83f-5fb160386224"
      },
      "execution_count": null,
      "outputs": [
        {
          "output_type": "execute_result",
          "data": {
            "text/plain": [
              "'Jonas 23 anos'"
            ],
            "application/vnd.google.colaboratory.intrinsic+json": {
              "type": "string"
            }
          },
          "metadata": {},
          "execution_count": 41
        }
      ]
    },
    {
      "cell_type": "code",
      "source": [
        "Investimento = 1000\n",
        "Juros = \"0.2\"\n",
        "\n",
        "print(float(Investimento) * float(Juros))\n",
        "\n",
        "Valor_ganhado = (float(Investimento) * float(Juros)) + Investimento\n",
        "\n",
        "print(Valor_ganhado)"
      ],
      "metadata": {
        "colab": {
          "base_uri": "https://localhost:8080/"
        },
        "id": "LhDJo0D0W0_Z",
        "outputId": "f5940c3d-8070-4c73-b58e-d24f75742bda"
      },
      "execution_count": null,
      "outputs": [
        {
          "output_type": "stream",
          "name": "stdout",
          "text": [
            "200.0\n",
            "1200.0\n"
          ]
        }
      ]
    },
    {
      "cell_type": "markdown",
      "source": [
        "#6 -  Tipo de informação"
      ],
      "metadata": {
        "id": "jIXBUy_QXjjr"
      }
    },
    {
      "cell_type": "code",
      "source": [
        "String = \"Olá mundo\"\n",
        "Inteiro = 10\n",
        "Flutuante = 10.5\n",
        "Complex = complex(1j)\n",
        "Lista = list((\"Maça\",\"Banana\"))\n",
        "Tupla = tuple((\"A\",\"Z\"))\n",
        "Range = range(5)\n",
        "Dicionario = dict(nome = \"Antonio\", idade = 19)\n",
        "Set = set((\"A\",\"B\",\"C\"))\n",
        "Frozenset = frozenset( (\"A\",\"B\",\"C\"))\n",
        "Booleano = bool( 5)\n",
        "Byte = bytes(5)\n",
        "Byte_Array = bytearray(5)\n",
        "Memoryview = memoryview( bytes(5))\n",
        "\n",
        "from datetime import datetime\n",
        "Data = datetime.today().date()"
      ],
      "metadata": {
        "id": "TPktyCj5W86S"
      },
      "execution_count": null,
      "outputs": []
    },
    {
      "cell_type": "code",
      "source": [
        "type(String)"
      ],
      "metadata": {
        "colab": {
          "base_uri": "https://localhost:8080/"
        },
        "id": "8ZsYbi-6YfpJ",
        "outputId": "569afbcc-8751-4a87-a8d9-639ff102f80c"
      },
      "execution_count": null,
      "outputs": [
        {
          "output_type": "execute_result",
          "data": {
            "text/plain": [
              "str"
            ]
          },
          "metadata": {},
          "execution_count": 44
        }
      ]
    },
    {
      "cell_type": "code",
      "source": [
        "type(Inteiro)"
      ],
      "metadata": {
        "colab": {
          "base_uri": "https://localhost:8080/"
        },
        "id": "LrTKmG25YvDy",
        "outputId": "28047dae-1046-4cea-d5af-5a567d5fee08"
      },
      "execution_count": null,
      "outputs": [
        {
          "output_type": "execute_result",
          "data": {
            "text/plain": [
              "int"
            ]
          },
          "metadata": {},
          "execution_count": 45
        }
      ]
    },
    {
      "cell_type": "code",
      "source": [
        "type(Dicionario)"
      ],
      "metadata": {
        "colab": {
          "base_uri": "https://localhost:8080/"
        },
        "id": "f0P0DUYlYv_7",
        "outputId": "14c96aff-6551-4a0d-ebb5-1746bda273ab"
      },
      "execution_count": null,
      "outputs": [
        {
          "output_type": "execute_result",
          "data": {
            "text/plain": [
              "dict"
            ]
          },
          "metadata": {},
          "execution_count": 46
        }
      ]
    },
    {
      "cell_type": "code",
      "source": [
        "type(Byte)"
      ],
      "metadata": {
        "colab": {
          "base_uri": "https://localhost:8080/"
        },
        "id": "IKgT1JAjYxHL",
        "outputId": "2361fca8-8c2b-4aca-ca4b-ff6f1dd0432a"
      },
      "execution_count": null,
      "outputs": [
        {
          "output_type": "execute_result",
          "data": {
            "text/plain": [
              "bytes"
            ]
          },
          "metadata": {},
          "execution_count": 47
        }
      ]
    },
    {
      "cell_type": "code",
      "source": [
        "type(Data)"
      ],
      "metadata": {
        "colab": {
          "base_uri": "https://localhost:8080/"
        },
        "id": "a2MsqOSbYyqL",
        "outputId": "51f349c7-285a-45db-b292-419ee79b99a3"
      },
      "execution_count": null,
      "outputs": [
        {
          "output_type": "execute_result",
          "data": {
            "text/plain": [
              "datetime.date"
            ]
          },
          "metadata": {},
          "execution_count": 48
        }
      ]
    },
    {
      "cell_type": "markdown",
      "source": [
        "#7 - Round"
      ],
      "metadata": {
        "id": "fOlNZp90ZRSn"
      }
    },
    {
      "cell_type": "code",
      "source": [
        "Numero = 10.48906453524"
      ],
      "metadata": {
        "id": "r7h74GOXY0TN"
      },
      "execution_count": null,
      "outputs": []
    },
    {
      "cell_type": "code",
      "source": [
        "round(Numero,2)"
      ],
      "metadata": {
        "colab": {
          "base_uri": "https://localhost:8080/"
        },
        "id": "yyMiFgxJZXPm",
        "outputId": "7f3fb68a-a259-4980-fca2-311cae9d1185"
      },
      "execution_count": null,
      "outputs": [
        {
          "output_type": "execute_result",
          "data": {
            "text/plain": [
              "10.49"
            ]
          },
          "metadata": {},
          "execution_count": 50
        }
      ]
    },
    {
      "cell_type": "code",
      "source": [
        "round(Numero)"
      ],
      "metadata": {
        "colab": {
          "base_uri": "https://localhost:8080/"
        },
        "id": "PB-TTZuJZYUh",
        "outputId": "10feb9a7-d0f9-4bd4-c1be-9016271d2556"
      },
      "execution_count": null,
      "outputs": [
        {
          "output_type": "execute_result",
          "data": {
            "text/plain": [
              "10"
            ]
          },
          "metadata": {},
          "execution_count": 51
        }
      ]
    },
    {
      "cell_type": "markdown",
      "source": [
        "#8 - Len"
      ],
      "metadata": {
        "id": "YlDU7FaRZwU1"
      }
    },
    {
      "cell_type": "code",
      "source": [
        "Lista = [1,2,3,4,5]\n",
        "Dicionario = {\"Nome\":\"Antonio\",\"Idade\":19}\n",
        "Tupla = (1,2,3)\n",
        "String = \"Olá mundo!\""
      ],
      "metadata": {
        "id": "-KD4JnMXZf42"
      },
      "execution_count": null,
      "outputs": []
    },
    {
      "cell_type": "code",
      "source": [
        "print(\"Tamanho lista:\" , len(Lista))\n",
        "print(\"Tamanho dicionário:\" , len(Dicionario))\n",
        "print(\"Tamanho tupla:\" , len(Tupla))\n",
        "print(\"Tamanho string:\" , len(String))"
      ],
      "metadata": {
        "colab": {
          "base_uri": "https://localhost:8080/"
        },
        "id": "vyZ9bUXdcQ6t",
        "outputId": "2d7eb345-7ac5-4159-faea-98725e5cc4b0"
      },
      "execution_count": null,
      "outputs": [
        {
          "output_type": "stream",
          "name": "stdout",
          "text": [
            "Tamanho lista: 5\n",
            "Tamanho dicionário: 2\n",
            "Tamanho tupla: 3\n",
            "Tamanho string: 10\n"
          ]
        }
      ]
    },
    {
      "cell_type": "markdown",
      "source": [
        "#9 - Fatiamento de Strings"
      ],
      "metadata": {
        "id": "vZUIztiMc4xG"
      }
    },
    {
      "cell_type": "code",
      "source": [
        "String = \"Aprender python é top!\"\n",
        "\n",
        "print(type(String))\n",
        "print(len(String))"
      ],
      "metadata": {
        "colab": {
          "base_uri": "https://localhost:8080/"
        },
        "id": "V0Zn26WgcXoP",
        "outputId": "0d0ad126-7cf0-4f57-d11c-8897e5e2d514"
      },
      "execution_count": null,
      "outputs": [
        {
          "output_type": "stream",
          "name": "stdout",
          "text": [
            "<class 'str'>\n",
            "22\n"
          ]
        }
      ]
    },
    {
      "cell_type": "code",
      "source": [
        "String[0]"
      ],
      "metadata": {
        "colab": {
          "base_uri": "https://localhost:8080/",
          "height": 36
        },
        "id": "_bE5o88ddAOw",
        "outputId": "80336e2f-9d7a-4d0b-e86c-0836741d75dd"
      },
      "execution_count": null,
      "outputs": [
        {
          "output_type": "execute_result",
          "data": {
            "text/plain": [
              "'A'"
            ],
            "application/vnd.google.colaboratory.intrinsic+json": {
              "type": "string"
            }
          },
          "metadata": {},
          "execution_count": 55
        }
      ]
    },
    {
      "cell_type": "code",
      "source": [
        "String[:8]+ String[8] +String[9:]"
      ],
      "metadata": {
        "colab": {
          "base_uri": "https://localhost:8080/",
          "height": 36
        },
        "id": "xU0zeSqadOED",
        "outputId": "c567d042-c0ec-40b4-c077-66eb1fc26208"
      },
      "execution_count": null,
      "outputs": [
        {
          "output_type": "execute_result",
          "data": {
            "text/plain": [
              "'Aprender python é top!'"
            ],
            "application/vnd.google.colaboratory.intrinsic+json": {
              "type": "string"
            }
          },
          "metadata": {},
          "execution_count": 56
        }
      ]
    },
    {
      "cell_type": "code",
      "source": [
        "String[-1]"
      ],
      "metadata": {
        "colab": {
          "base_uri": "https://localhost:8080/",
          "height": 36
        },
        "id": "Aa25DdjmdVCp",
        "outputId": "2e152520-54e5-4209-f13c-4a97936cc3c8"
      },
      "execution_count": null,
      "outputs": [
        {
          "output_type": "execute_result",
          "data": {
            "text/plain": [
              "'!'"
            ],
            "application/vnd.google.colaboratory.intrinsic+json": {
              "type": "string"
            }
          },
          "metadata": {},
          "execution_count": 57
        }
      ]
    },
    {
      "cell_type": "code",
      "source": [
        "String[-10:]"
      ],
      "metadata": {
        "colab": {
          "base_uri": "https://localhost:8080/",
          "height": 36
        },
        "id": "i3CPQDLCdiAq",
        "outputId": "c01f720a-2d37-484a-979e-e3d2da9e7897"
      },
      "execution_count": null,
      "outputs": [
        {
          "output_type": "execute_result",
          "data": {
            "text/plain": [
              "'hon é top!'"
            ],
            "application/vnd.google.colaboratory.intrinsic+json": {
              "type": "string"
            }
          },
          "metadata": {},
          "execution_count": 58
        }
      ]
    },
    {
      "cell_type": "code",
      "source": [
        "CPF = \"CPF :000.111.222-23\""
      ],
      "metadata": {
        "id": "Sy6U1VQXdpdb"
      },
      "execution_count": null,
      "outputs": []
    },
    {
      "cell_type": "code",
      "source": [
        "CPF[5:]"
      ],
      "metadata": {
        "colab": {
          "base_uri": "https://localhost:8080/",
          "height": 36
        },
        "id": "VqYrzZuzdwc2",
        "outputId": "748e8d40-3ca2-4843-d651-404a35654d3f"
      },
      "execution_count": null,
      "outputs": [
        {
          "output_type": "execute_result",
          "data": {
            "text/plain": [
              "'000.111.222-23'"
            ],
            "application/vnd.google.colaboratory.intrinsic+json": {
              "type": "string"
            }
          },
          "metadata": {},
          "execution_count": 60
        }
      ]
    },
    {
      "cell_type": "code",
      "source": [
        "CPF[-14:]"
      ],
      "metadata": {
        "colab": {
          "base_uri": "https://localhost:8080/",
          "height": 36
        },
        "id": "WddPm4y9d7V-",
        "outputId": "074961ee-ecb0-4921-f211-4d778adcf507"
      },
      "execution_count": null,
      "outputs": [
        {
          "output_type": "execute_result",
          "data": {
            "text/plain": [
              "'000.111.222-23'"
            ],
            "application/vnd.google.colaboratory.intrinsic+json": {
              "type": "string"
            }
          },
          "metadata": {},
          "execution_count": 61
        }
      ]
    },
    {
      "cell_type": "markdown",
      "source": [
        "#10 - Manipulação de Strings"
      ],
      "metadata": {
        "id": "1Add65fceQ8s"
      }
    },
    {
      "cell_type": "code",
      "source": [
        "String = \"Olá mundo!\"\n",
        "print(String)"
      ],
      "metadata": {
        "colab": {
          "base_uri": "https://localhost:8080/"
        },
        "id": "TNdlPxGjeTV-",
        "outputId": "a9b7992b-7ebf-457f-ec6a-e142bc52fbbe"
      },
      "execution_count": null,
      "outputs": [
        {
          "output_type": "stream",
          "name": "stdout",
          "text": [
            "Olá mundo!\n"
          ]
        }
      ]
    },
    {
      "cell_type": "code",
      "source": [
        "len(String)"
      ],
      "metadata": {
        "colab": {
          "base_uri": "https://localhost:8080/"
        },
        "id": "F_ZC-VgAeg3n",
        "outputId": "b943993a-e34b-4a38-950d-aef315ebe789"
      },
      "execution_count": null,
      "outputs": [
        {
          "output_type": "execute_result",
          "data": {
            "text/plain": [
              "10"
            ]
          },
          "metadata": {},
          "execution_count": 63
        }
      ]
    },
    {
      "cell_type": "code",
      "source": [
        "type(String)"
      ],
      "metadata": {
        "colab": {
          "base_uri": "https://localhost:8080/"
        },
        "id": "AyzC_tCPehdX",
        "outputId": "44ade234-08c4-4c5a-e14b-b9f121dcd16b"
      },
      "execution_count": null,
      "outputs": [
        {
          "output_type": "execute_result",
          "data": {
            "text/plain": [
              "str"
            ]
          },
          "metadata": {},
          "execution_count": 64
        }
      ]
    },
    {
      "cell_type": "code",
      "source": [
        "String + \"Concatenado!\""
      ],
      "metadata": {
        "colab": {
          "base_uri": "https://localhost:8080/",
          "height": 36
        },
        "id": "p4XgO0DUejGt",
        "outputId": "3e36585a-90f3-47d3-d201-3f736373deba"
      },
      "execution_count": null,
      "outputs": [
        {
          "output_type": "execute_result",
          "data": {
            "text/plain": [
              "'Olá mundo!Concatenado!'"
            ],
            "application/vnd.google.colaboratory.intrinsic+json": {
              "type": "string"
            }
          },
          "metadata": {},
          "execution_count": 65
        }
      ]
    },
    {
      "cell_type": "code",
      "source": [
        "String.replace(\"!\",\"?\")"
      ],
      "metadata": {
        "colab": {
          "base_uri": "https://localhost:8080/",
          "height": 36
        },
        "id": "jV8SQrY1emlA",
        "outputId": "b409b197-5bae-49da-a61a-d3cb82fdde49"
      },
      "execution_count": null,
      "outputs": [
        {
          "output_type": "execute_result",
          "data": {
            "text/plain": [
              "'Olá mundo?'"
            ],
            "application/vnd.google.colaboratory.intrinsic+json": {
              "type": "string"
            }
          },
          "metadata": {},
          "execution_count": 66
        }
      ]
    },
    {
      "cell_type": "code",
      "source": [
        "String.replace(\"mundo!\",\"terra?\")"
      ],
      "metadata": {
        "colab": {
          "base_uri": "https://localhost:8080/",
          "height": 36
        },
        "id": "-bBV3Oxtes_6",
        "outputId": "eba2e7e2-2021-4c11-a9d9-930c18e4371f"
      },
      "execution_count": null,
      "outputs": [
        {
          "output_type": "execute_result",
          "data": {
            "text/plain": [
              "'Olá terra?'"
            ],
            "application/vnd.google.colaboratory.intrinsic+json": {
              "type": "string"
            }
          },
          "metadata": {},
          "execution_count": 67
        }
      ]
    },
    {
      "cell_type": "code",
      "source": [
        "CPF = \"CPF : 000.111.222-23\""
      ],
      "metadata": {
        "id": "ngMqrbjpey_h"
      },
      "execution_count": null,
      "outputs": []
    },
    {
      "cell_type": "code",
      "source": [
        "CPF.replace(\"CPF : \", \"\")"
      ],
      "metadata": {
        "colab": {
          "base_uri": "https://localhost:8080/",
          "height": 36
        },
        "id": "egCZoyGFe4Pp",
        "outputId": "0d1cf60f-1a41-4cf4-e74b-fd14960b9174"
      },
      "execution_count": null,
      "outputs": [
        {
          "output_type": "execute_result",
          "data": {
            "text/plain": [
              "'000.111.222-23'"
            ],
            "application/vnd.google.colaboratory.intrinsic+json": {
              "type": "string"
            }
          },
          "metadata": {},
          "execution_count": 69
        }
      ]
    },
    {
      "cell_type": "code",
      "source": [
        "String.startswith(\"Olá\")"
      ],
      "metadata": {
        "colab": {
          "base_uri": "https://localhost:8080/"
        },
        "id": "RqRCWPpne7_q",
        "outputId": "6d35735b-5e51-44de-b702-107844647709"
      },
      "execution_count": null,
      "outputs": [
        {
          "output_type": "execute_result",
          "data": {
            "text/plain": [
              "True"
            ]
          },
          "metadata": {},
          "execution_count": 70
        }
      ]
    },
    {
      "cell_type": "code",
      "source": [
        "String.startswith(\"ola\")"
      ],
      "metadata": {
        "colab": {
          "base_uri": "https://localhost:8080/"
        },
        "id": "spUMqE-rfE7C",
        "outputId": "fa23b335-cba7-434b-a21c-d99c61214b79"
      },
      "execution_count": null,
      "outputs": [
        {
          "output_type": "execute_result",
          "data": {
            "text/plain": [
              "False"
            ]
          },
          "metadata": {},
          "execution_count": 71
        }
      ]
    },
    {
      "cell_type": "code",
      "source": [
        "String.endswith(\"!\")"
      ],
      "metadata": {
        "colab": {
          "base_uri": "https://localhost:8080/"
        },
        "id": "5gbJ3jn0fGdC",
        "outputId": "2f85b9a0-51bc-44f0-b213-95ac864c1293"
      },
      "execution_count": null,
      "outputs": [
        {
          "output_type": "execute_result",
          "data": {
            "text/plain": [
              "True"
            ]
          },
          "metadata": {},
          "execution_count": 72
        }
      ]
    },
    {
      "cell_type": "code",
      "source": [
        "String.endswith(\"mundo!\")"
      ],
      "metadata": {
        "colab": {
          "base_uri": "https://localhost:8080/"
        },
        "id": "GAGbOngKfRPM",
        "outputId": "dc4e2837-0ad4-4651-d4a7-b825a533d0c2"
      },
      "execution_count": null,
      "outputs": [
        {
          "output_type": "execute_result",
          "data": {
            "text/plain": [
              "True"
            ]
          },
          "metadata": {},
          "execution_count": 73
        }
      ]
    },
    {
      "cell_type": "code",
      "source": [
        "String.endswith(\"Mundo!\")"
      ],
      "metadata": {
        "colab": {
          "base_uri": "https://localhost:8080/"
        },
        "id": "7OP8Ww5-fTLE",
        "outputId": "7328dcc5-d2cb-4d2a-d4c7-d8941343688c"
      },
      "execution_count": null,
      "outputs": [
        {
          "output_type": "execute_result",
          "data": {
            "text/plain": [
              "False"
            ]
          },
          "metadata": {},
          "execution_count": 74
        }
      ]
    },
    {
      "cell_type": "code",
      "source": [
        "#Contar palavras ou letras\n",
        "String.count(\"!\")"
      ],
      "metadata": {
        "colab": {
          "base_uri": "https://localhost:8080/"
        },
        "id": "D9qYqsIcfVAL",
        "outputId": "8e0a4796-4dac-414a-f1b6-e9bd2853583d"
      },
      "execution_count": null,
      "outputs": [
        {
          "output_type": "execute_result",
          "data": {
            "text/plain": [
              "1"
            ]
          },
          "metadata": {},
          "execution_count": 75
        }
      ]
    },
    {
      "cell_type": "code",
      "source": [
        "String.count(\" \")"
      ],
      "metadata": {
        "colab": {
          "base_uri": "https://localhost:8080/"
        },
        "id": "svMMyyv3flBF",
        "outputId": "bf9959df-2c99-43b1-f201-3a674fb32b55"
      },
      "execution_count": null,
      "outputs": [
        {
          "output_type": "execute_result",
          "data": {
            "text/plain": [
              "1"
            ]
          },
          "metadata": {},
          "execution_count": 76
        }
      ]
    },
    {
      "cell_type": "code",
      "source": [
        "#Transformação do texto\n",
        "Nome = \"joao\"\n",
        "print(Nome)"
      ],
      "metadata": {
        "colab": {
          "base_uri": "https://localhost:8080/"
        },
        "id": "SckofyxZfmc1",
        "outputId": "708ee2dd-1479-453c-ab0a-05bede96bbd4"
      },
      "execution_count": null,
      "outputs": [
        {
          "output_type": "stream",
          "name": "stdout",
          "text": [
            "joao\n"
          ]
        }
      ]
    },
    {
      "cell_type": "code",
      "source": [
        "print(Nome.capitalize())"
      ],
      "metadata": {
        "colab": {
          "base_uri": "https://localhost:8080/"
        },
        "id": "xEX_WXW9fnp1",
        "outputId": "543a2ebb-509a-4cb3-f543-8eedab79b473"
      },
      "execution_count": null,
      "outputs": [
        {
          "output_type": "stream",
          "name": "stdout",
          "text": [
            "Joao\n"
          ]
        }
      ]
    },
    {
      "cell_type": "code",
      "source": [
        "#Verificar existencia de digitos\n",
        "CPF = \"123456789\""
      ],
      "metadata": {
        "id": "pR_FtNNxf8F-"
      },
      "execution_count": null,
      "outputs": []
    },
    {
      "cell_type": "code",
      "source": [
        "CPF.isdigit()"
      ],
      "metadata": {
        "colab": {
          "base_uri": "https://localhost:8080/"
        },
        "id": "cl4Zojh8gLbC",
        "outputId": "47935b36-8394-45fd-8d1b-5880ef40dd98"
      },
      "execution_count": null,
      "outputs": [
        {
          "output_type": "execute_result",
          "data": {
            "text/plain": [
              "True"
            ]
          },
          "metadata": {},
          "execution_count": 80
        }
      ]
    },
    {
      "cell_type": "code",
      "source": [
        "CPF = \"123456789ad\""
      ],
      "metadata": {
        "id": "xpLMEXNzgO5o"
      },
      "execution_count": null,
      "outputs": []
    },
    {
      "cell_type": "code",
      "source": [
        "CPF.isdigit()"
      ],
      "metadata": {
        "colab": {
          "base_uri": "https://localhost:8080/"
        },
        "id": "u9_PJouMgU1o",
        "outputId": "77cbaba7-ac76-4a2b-a054-899e99a01e25"
      },
      "execution_count": null,
      "outputs": [
        {
          "output_type": "execute_result",
          "data": {
            "text/plain": [
              "False"
            ]
          },
          "metadata": {},
          "execution_count": 82
        }
      ]
    },
    {
      "cell_type": "code",
      "source": [
        "String.isalpha()"
      ],
      "metadata": {
        "colab": {
          "base_uri": "https://localhost:8080/"
        },
        "id": "-hvpvM4VgWap",
        "outputId": "ff18da7e-f6d7-4783-fa44-22987ed2f86e"
      },
      "execution_count": null,
      "outputs": [
        {
          "output_type": "execute_result",
          "data": {
            "text/plain": [
              "False"
            ]
          },
          "metadata": {},
          "execution_count": 83
        }
      ]
    },
    {
      "cell_type": "code",
      "source": [
        "Nome.upper()"
      ],
      "metadata": {
        "colab": {
          "base_uri": "https://localhost:8080/",
          "height": 36
        },
        "id": "Pd67Y_FGjHze",
        "outputId": "39ee945b-374a-4506-ed10-ead585520b02"
      },
      "execution_count": null,
      "outputs": [
        {
          "output_type": "execute_result",
          "data": {
            "text/plain": [
              "'JOAO'"
            ],
            "application/vnd.google.colaboratory.intrinsic+json": {
              "type": "string"
            }
          },
          "metadata": {},
          "execution_count": 84
        }
      ]
    },
    {
      "cell_type": "code",
      "source": [
        "Nome.lower()"
      ],
      "metadata": {
        "colab": {
          "base_uri": "https://localhost:8080/",
          "height": 36
        },
        "id": "VIty4a7IjKyv",
        "outputId": "013756da-750e-4e1c-aede-ab4f02ed4f8c"
      },
      "execution_count": null,
      "outputs": [
        {
          "output_type": "execute_result",
          "data": {
            "text/plain": [
              "'joao'"
            ],
            "application/vnd.google.colaboratory.intrinsic+json": {
              "type": "string"
            }
          },
          "metadata": {},
          "execution_count": 85
        }
      ]
    },
    {
      "cell_type": "code",
      "source": [
        "Frase = \"Hoje o dia está quente!\""
      ],
      "metadata": {
        "id": "AmEOPATtjTRa"
      },
      "execution_count": null,
      "outputs": []
    },
    {
      "cell_type": "code",
      "source": [
        "Frase.find(\"dia\")"
      ],
      "metadata": {
        "colab": {
          "base_uri": "https://localhost:8080/"
        },
        "id": "aF-7iy1ljdcw",
        "outputId": "3e1542a2-f086-4779-accf-ab1718101b32"
      },
      "execution_count": null,
      "outputs": [
        {
          "output_type": "execute_result",
          "data": {
            "text/plain": [
              "7"
            ]
          },
          "metadata": {},
          "execution_count": 87
        }
      ]
    },
    {
      "cell_type": "code",
      "source": [
        "Frase[Frase.find(\"dia\")]"
      ],
      "metadata": {
        "colab": {
          "base_uri": "https://localhost:8080/",
          "height": 36
        },
        "id": "ugfVAv9kjgHA",
        "outputId": "0269054c-4e35-4d7d-89ae-77150ee10a48"
      },
      "execution_count": null,
      "outputs": [
        {
          "output_type": "execute_result",
          "data": {
            "text/plain": [
              "'d'"
            ],
            "application/vnd.google.colaboratory.intrinsic+json": {
              "type": "string"
            }
          },
          "metadata": {},
          "execution_count": 88
        }
      ]
    },
    {
      "cell_type": "code",
      "source": [
        "Frase.find(\"está\")"
      ],
      "metadata": {
        "colab": {
          "base_uri": "https://localhost:8080/"
        },
        "id": "rr-ZJx6LjkPJ",
        "outputId": "7fc94b5b-fb51-486a-9d95-6cdb2a2f4143"
      },
      "execution_count": null,
      "outputs": [
        {
          "output_type": "execute_result",
          "data": {
            "text/plain": [
              "11"
            ]
          },
          "metadata": {},
          "execution_count": 89
        }
      ]
    },
    {
      "cell_type": "code",
      "source": [
        "Frase.find(\"sda\")"
      ],
      "metadata": {
        "colab": {
          "base_uri": "https://localhost:8080/"
        },
        "id": "uta1p4Ngjnmx",
        "outputId": "e11baaea-7802-4a00-db03-94e194c1de3b"
      },
      "execution_count": null,
      "outputs": [
        {
          "output_type": "execute_result",
          "data": {
            "text/plain": [
              "-1"
            ]
          },
          "metadata": {},
          "execution_count": 90
        }
      ]
    },
    {
      "cell_type": "code",
      "source": [
        "Nome_Completo = \"       Paulo Ferreira          \"\n",
        "print(Nome_Completo)\n",
        "print(Nome_Completo.strip())"
      ],
      "metadata": {
        "colab": {
          "base_uri": "https://localhost:8080/"
        },
        "id": "zAiuBw60jouZ",
        "outputId": "5b54ae2d-1022-4938-b365-027b9da982f1"
      },
      "execution_count": null,
      "outputs": [
        {
          "output_type": "stream",
          "name": "stdout",
          "text": [
            "       Paulo Ferreira          \n",
            "Paulo Ferreira\n"
          ]
        }
      ]
    },
    {
      "cell_type": "code",
      "source": [
        "Endereco = \"Avenida Sao Paulo, Centro, SP\""
      ],
      "metadata": {
        "id": "rGf_aMHGj3mK"
      },
      "execution_count": null,
      "outputs": []
    },
    {
      "cell_type": "code",
      "source": [
        "Endereco.split(\" \")"
      ],
      "metadata": {
        "colab": {
          "base_uri": "https://localhost:8080/"
        },
        "id": "k-M4KQvZkKbb",
        "outputId": "ca94f5a9-276e-4fa3-ae16-9f996c72f6d8"
      },
      "execution_count": null,
      "outputs": [
        {
          "output_type": "execute_result",
          "data": {
            "text/plain": [
              "['Avenida', 'Sao', 'Paulo,', 'Centro,', 'SP']"
            ]
          },
          "metadata": {},
          "execution_count": 93
        }
      ]
    },
    {
      "cell_type": "code",
      "source": [
        "Endereco.split(\",\")"
      ],
      "metadata": {
        "colab": {
          "base_uri": "https://localhost:8080/"
        },
        "id": "LOXqUSRPkMkL",
        "outputId": "095794b5-9d94-4c86-e0c7-1fd2a88787d5"
      },
      "execution_count": null,
      "outputs": [
        {
          "output_type": "execute_result",
          "data": {
            "text/plain": [
              "['Avenida Sao Paulo', ' Centro', ' SP']"
            ]
          },
          "metadata": {},
          "execution_count": 94
        }
      ]
    },
    {
      "cell_type": "markdown",
      "source": [
        "#11 - Input"
      ],
      "metadata": {
        "id": "Oyhg2EGRkjNj"
      }
    },
    {
      "cell_type": "code",
      "source": [
        "input(\"Digite algo: \")"
      ],
      "metadata": {
        "colab": {
          "base_uri": "https://localhost:8080/",
          "height": 53
        },
        "id": "Qaynnlt1kOsb",
        "outputId": "588aa48b-053c-4909-f93f-536fd24038de"
      },
      "execution_count": null,
      "outputs": [
        {
          "name": "stdout",
          "output_type": "stream",
          "text": [
            "Digite algo: l\n"
          ]
        },
        {
          "output_type": "execute_result",
          "data": {
            "text/plain": [
              "'l'"
            ],
            "application/vnd.google.colaboratory.intrinsic+json": {
              "type": "string"
            }
          },
          "metadata": {},
          "execution_count": 95
        }
      ]
    },
    {
      "cell_type": "code",
      "source": [
        "Nome, Idade = input(\"Digite seu nome: \"), input(\"Digite sua idade: \")\n",
        "Idade = input(\"Digite sua idade: \")\n",
        "print(\"Seu nome: \" + Nome + \" , sua idade: \" + Idade)"
      ],
      "metadata": {
        "colab": {
          "base_uri": "https://localhost:8080/"
        },
        "id": "w5UARZE3kZ1k",
        "outputId": "fb41b991-32dd-47cc-ead0-e1579fec7196"
      },
      "execution_count": null,
      "outputs": [
        {
          "output_type": "stream",
          "name": "stdout",
          "text": [
            "Digite seu nome: h\n",
            "Digite sua idade: 3\n",
            "Digite sua idade: 7\n",
            "Seu nome: h , sua idade: 7\n"
          ]
        }
      ]
    },
    {
      "cell_type": "code",
      "source": [
        "Nome, Idade = input(\"Digite seu nome: \"), input(\"Digite sua idade: \")\n",
        "print(\"Seu nome: \" + Nome + \" , sua idade: \" + Idade)"
      ],
      "metadata": {
        "id": "WDZi-9cZk6uv",
        "colab": {
          "base_uri": "https://localhost:8080/"
        },
        "outputId": "b9aa7f10-e6e2-442f-ce77-8334ae15c4d9"
      },
      "execution_count": null,
      "outputs": [
        {
          "output_type": "stream",
          "name": "stdout",
          "text": [
            "Digite seu nome: ui\n",
            "Digite sua idade: h\n",
            "Seu nome: ui , sua idade: h\n"
          ]
        }
      ]
    },
    {
      "cell_type": "markdown",
      "source": [
        "#12 - Operadores de comparação"
      ],
      "metadata": {
        "id": "Eiq10cBOlFgp"
      }
    },
    {
      "cell_type": "code",
      "source": [
        "10 == 10"
      ],
      "metadata": {
        "colab": {
          "base_uri": "https://localhost:8080/"
        },
        "id": "rmdzvRLXlJCr",
        "outputId": "6e105689-2897-412a-ad59-c11363276b97"
      },
      "execution_count": null,
      "outputs": [
        {
          "output_type": "execute_result",
          "data": {
            "text/plain": [
              "True"
            ]
          },
          "metadata": {},
          "execution_count": 98
        }
      ]
    },
    {
      "cell_type": "code",
      "source": [
        "10 == 8"
      ],
      "metadata": {
        "colab": {
          "base_uri": "https://localhost:8080/"
        },
        "id": "f4D-FB28lNko",
        "outputId": "456badf6-db4c-43d0-cfe4-fce6b32f5394"
      },
      "execution_count": null,
      "outputs": [
        {
          "output_type": "execute_result",
          "data": {
            "text/plain": [
              "False"
            ]
          },
          "metadata": {},
          "execution_count": 99
        }
      ]
    },
    {
      "cell_type": "code",
      "source": [
        "10 != 10"
      ],
      "metadata": {
        "colab": {
          "base_uri": "https://localhost:8080/"
        },
        "id": "cjsgGz-dlPwS",
        "outputId": "546432ac-2376-4211-cd29-2d97ec0c255e"
      },
      "execution_count": null,
      "outputs": [
        {
          "output_type": "execute_result",
          "data": {
            "text/plain": [
              "False"
            ]
          },
          "metadata": {},
          "execution_count": 100
        }
      ]
    },
    {
      "cell_type": "code",
      "source": [
        "10 != 9"
      ],
      "metadata": {
        "colab": {
          "base_uri": "https://localhost:8080/"
        },
        "id": "NNEpvin0lSFR",
        "outputId": "a98a0234-a14f-42d0-f9f7-0bcb4830ed47"
      },
      "execution_count": null,
      "outputs": [
        {
          "output_type": "execute_result",
          "data": {
            "text/plain": [
              "True"
            ]
          },
          "metadata": {},
          "execution_count": 101
        }
      ]
    },
    {
      "cell_type": "code",
      "source": [
        "10 > 9"
      ],
      "metadata": {
        "colab": {
          "base_uri": "https://localhost:8080/"
        },
        "id": "0pBQSRyIlTOx",
        "outputId": "8c14dddb-bc8e-4737-d591-4d81a748d50e"
      },
      "execution_count": null,
      "outputs": [
        {
          "output_type": "execute_result",
          "data": {
            "text/plain": [
              "True"
            ]
          },
          "metadata": {},
          "execution_count": 102
        }
      ]
    },
    {
      "cell_type": "code",
      "source": [
        "10 > 11"
      ],
      "metadata": {
        "colab": {
          "base_uri": "https://localhost:8080/"
        },
        "id": "SHOcNRzdlpJr",
        "outputId": "d8407da6-a641-4492-88ff-e4719d84c722"
      },
      "execution_count": null,
      "outputs": [
        {
          "output_type": "execute_result",
          "data": {
            "text/plain": [
              "False"
            ]
          },
          "metadata": {},
          "execution_count": 103
        }
      ]
    },
    {
      "cell_type": "code",
      "source": [
        "10 > 10"
      ],
      "metadata": {
        "colab": {
          "base_uri": "https://localhost:8080/"
        },
        "id": "Lr3hBLWblqQT",
        "outputId": "2006e929-057f-4862-ab8d-301b5edbafdd"
      },
      "execution_count": null,
      "outputs": [
        {
          "output_type": "execute_result",
          "data": {
            "text/plain": [
              "False"
            ]
          },
          "metadata": {},
          "execution_count": 104
        }
      ]
    },
    {
      "cell_type": "code",
      "source": [
        "10 >= 10"
      ],
      "metadata": {
        "colab": {
          "base_uri": "https://localhost:8080/"
        },
        "id": "0_O5t6WzlvYe",
        "outputId": "a46a9c67-dab5-43b2-c84e-8d24bfddbc6f"
      },
      "execution_count": null,
      "outputs": [
        {
          "output_type": "execute_result",
          "data": {
            "text/plain": [
              "True"
            ]
          },
          "metadata": {},
          "execution_count": 105
        }
      ]
    },
    {
      "cell_type": "code",
      "source": [
        "10 >= 11"
      ],
      "metadata": {
        "colab": {
          "base_uri": "https://localhost:8080/"
        },
        "id": "cYcpSeoElzDV",
        "outputId": "a2f709f5-3663-480a-cb65-de4246509bb1"
      },
      "execution_count": null,
      "outputs": [
        {
          "output_type": "execute_result",
          "data": {
            "text/plain": [
              "False"
            ]
          },
          "metadata": {},
          "execution_count": 106
        }
      ]
    },
    {
      "cell_type": "code",
      "source": [
        "10 < 5"
      ],
      "metadata": {
        "colab": {
          "base_uri": "https://localhost:8080/"
        },
        "id": "GcKhJvbbl0Sj",
        "outputId": "fd060b7f-e1dc-4bc3-96d0-f91e5e026d10"
      },
      "execution_count": null,
      "outputs": [
        {
          "output_type": "execute_result",
          "data": {
            "text/plain": [
              "False"
            ]
          },
          "metadata": {},
          "execution_count": 107
        }
      ]
    },
    {
      "cell_type": "code",
      "source": [
        "10 < 20"
      ],
      "metadata": {
        "colab": {
          "base_uri": "https://localhost:8080/"
        },
        "id": "nuE2j7TDl3Is",
        "outputId": "de754182-d63d-4ec7-8eeb-9a20e99f7605"
      },
      "execution_count": null,
      "outputs": [
        {
          "output_type": "execute_result",
          "data": {
            "text/plain": [
              "True"
            ]
          },
          "metadata": {},
          "execution_count": 108
        }
      ]
    },
    {
      "cell_type": "markdown",
      "source": [
        "#13 - Operadores lógicos"
      ],
      "metadata": {
        "id": "RdQvziJow6yu"
      }
    },
    {
      "cell_type": "markdown",
      "source": [
        "Para o \"and\" retornar verdadeiro ambas as declarações precisam ser verdadeiras"
      ],
      "metadata": {
        "id": "dsHqwAfaxViJ"
      }
    },
    {
      "cell_type": "code",
      "source": [
        "8 > 7"
      ],
      "metadata": {
        "id": "efV3ktGCl4SL",
        "colab": {
          "base_uri": "https://localhost:8080/"
        },
        "outputId": "c794670e-7e75-4371-b811-caf07640808e"
      },
      "execution_count": null,
      "outputs": [
        {
          "output_type": "execute_result",
          "data": {
            "text/plain": [
              "True"
            ]
          },
          "metadata": {},
          "execution_count": 109
        }
      ]
    },
    {
      "cell_type": "code",
      "source": [
        "2 < 10"
      ],
      "metadata": {
        "colab": {
          "base_uri": "https://localhost:8080/"
        },
        "id": "5Sqni92MxJiY",
        "outputId": "53bc146d-0482-4adf-aa00-ab701a8cb5db"
      },
      "execution_count": null,
      "outputs": [
        {
          "output_type": "execute_result",
          "data": {
            "text/plain": [
              "True"
            ]
          },
          "metadata": {},
          "execution_count": 110
        }
      ]
    },
    {
      "cell_type": "code",
      "source": [
        "(8 > 7) and (2 < 10)"
      ],
      "metadata": {
        "colab": {
          "base_uri": "https://localhost:8080/"
        },
        "id": "TseDrgrBxL13",
        "outputId": "4fe93904-601a-4f11-c5a2-ecf0019d5ee2"
      },
      "execution_count": null,
      "outputs": [
        {
          "output_type": "execute_result",
          "data": {
            "text/plain": [
              "True"
            ]
          },
          "metadata": {},
          "execution_count": 111
        }
      ]
    },
    {
      "cell_type": "code",
      "source": [
        "(10 > 2) and (10 > 20)"
      ],
      "metadata": {
        "colab": {
          "base_uri": "https://localhost:8080/"
        },
        "id": "-Ma6CCkkxN_K",
        "outputId": "97631faf-11da-4254-c72a-9077058ef82f"
      },
      "execution_count": null,
      "outputs": [
        {
          "output_type": "execute_result",
          "data": {
            "text/plain": [
              "False"
            ]
          },
          "metadata": {},
          "execution_count": 112
        }
      ]
    },
    {
      "cell_type": "markdown",
      "source": [
        "Para o \"or\" só uma das condições precisa ser verdadeira, as outras podem ser falsas"
      ],
      "metadata": {
        "id": "hvEj7prNx6Ay"
      }
    },
    {
      "cell_type": "code",
      "source": [
        "(10 > 5) or (10 > 9)"
      ],
      "metadata": {
        "colab": {
          "base_uri": "https://localhost:8080/"
        },
        "id": "HSKrKCSlxSEg",
        "outputId": "731e163a-8b30-49a0-ceef-76e9b4f6250c"
      },
      "execution_count": null,
      "outputs": [
        {
          "output_type": "execute_result",
          "data": {
            "text/plain": [
              "True"
            ]
          },
          "metadata": {},
          "execution_count": 113
        }
      ]
    },
    {
      "cell_type": "code",
      "source": [
        "(10 > 5) or (10 == 9)"
      ],
      "metadata": {
        "colab": {
          "base_uri": "https://localhost:8080/"
        },
        "id": "sxO-4xsmxuWM",
        "outputId": "b68dda6d-1743-49a6-bca4-124fb0c2e09a"
      },
      "execution_count": null,
      "outputs": [
        {
          "output_type": "execute_result",
          "data": {
            "text/plain": [
              "True"
            ]
          },
          "metadata": {},
          "execution_count": 114
        }
      ]
    },
    {
      "cell_type": "code",
      "source": [
        "(10 < 5) or (10 == 9)"
      ],
      "metadata": {
        "colab": {
          "base_uri": "https://localhost:8080/"
        },
        "id": "YhQNfQYnxwri",
        "outputId": "e89e5eca-f47f-463e-c934-20714e81279f"
      },
      "execution_count": null,
      "outputs": [
        {
          "output_type": "execute_result",
          "data": {
            "text/plain": [
              "False"
            ]
          },
          "metadata": {},
          "execution_count": 115
        }
      ]
    },
    {
      "cell_type": "markdown",
      "source": [
        "O \"not\" inverte o resultado, ou seja, se for verdadeiro vira falso, se for falso vira verdadeiro"
      ],
      "metadata": {
        "id": "CGU934NjyAlF"
      }
    },
    {
      "cell_type": "code",
      "source": [
        "lista = [2,4,6,8]"
      ],
      "metadata": {
        "id": "8iFzUFrzxyTq"
      },
      "execution_count": null,
      "outputs": []
    },
    {
      "cell_type": "code",
      "source": [
        "2 in lista"
      ],
      "metadata": {
        "colab": {
          "base_uri": "https://localhost:8080/"
        },
        "id": "KJbl6Qh9yJCm",
        "outputId": "a4470a83-f9b1-4195-d288-432decd0ebda"
      },
      "execution_count": null,
      "outputs": [
        {
          "output_type": "execute_result",
          "data": {
            "text/plain": [
              "True"
            ]
          },
          "metadata": {},
          "execution_count": 117
        }
      ]
    },
    {
      "cell_type": "code",
      "source": [
        "2 not in lista"
      ],
      "metadata": {
        "colab": {
          "base_uri": "https://localhost:8080/"
        },
        "id": "a8aq916gyKp0",
        "outputId": "1c1428be-4d44-47e5-c04c-986ef8c857ab"
      },
      "execution_count": null,
      "outputs": [
        {
          "output_type": "execute_result",
          "data": {
            "text/plain": [
              "False"
            ]
          },
          "metadata": {},
          "execution_count": 118
        }
      ]
    },
    {
      "cell_type": "code",
      "source": [
        "10 in lista"
      ],
      "metadata": {
        "colab": {
          "base_uri": "https://localhost:8080/"
        },
        "id": "3-7EFiVlyLqs",
        "outputId": "d17c6fdf-9666-4b14-fc5a-63a33de5a054"
      },
      "execution_count": null,
      "outputs": [
        {
          "output_type": "execute_result",
          "data": {
            "text/plain": [
              "False"
            ]
          },
          "metadata": {},
          "execution_count": 119
        }
      ]
    },
    {
      "cell_type": "code",
      "source": [
        "10 not in lista"
      ],
      "metadata": {
        "colab": {
          "base_uri": "https://localhost:8080/"
        },
        "id": "0yxRSx5TyOze",
        "outputId": "b0b5971f-d190-4ac8-97e1-d115bb5f466a"
      },
      "execution_count": null,
      "outputs": [
        {
          "output_type": "execute_result",
          "data": {
            "text/plain": [
              "True"
            ]
          },
          "metadata": {},
          "execution_count": 120
        }
      ]
    },
    {
      "cell_type": "markdown",
      "source": [
        "#14 - Operadores de identidade"
      ],
      "metadata": {
        "id": "QFCKgjxlyfA2"
      }
    },
    {
      "cell_type": "code",
      "source": [
        "String_01 = \"Olá mundo!\"\n",
        "String_02 = \"Olá mundo!\""
      ],
      "metadata": {
        "id": "B_xOADwPyPiN"
      },
      "execution_count": null,
      "outputs": []
    },
    {
      "cell_type": "code",
      "source": [
        "type(String_01) == type(String_02)"
      ],
      "metadata": {
        "colab": {
          "base_uri": "https://localhost:8080/"
        },
        "id": "GzOOYNuuyjv3",
        "outputId": "9a097b76-6d72-4808-a52e-c7b074e22db9"
      },
      "execution_count": null,
      "outputs": [
        {
          "output_type": "execute_result",
          "data": {
            "text/plain": [
              "True"
            ]
          },
          "metadata": {},
          "execution_count": 122
        }
      ]
    },
    {
      "cell_type": "code",
      "source": [
        "type(String_01) != type(String_02)"
      ],
      "metadata": {
        "colab": {
          "base_uri": "https://localhost:8080/"
        },
        "id": "nv39OMK0yyn5",
        "outputId": "b1c1079e-f954-4194-df8d-ce49b0826f02"
      },
      "execution_count": null,
      "outputs": [
        {
          "output_type": "execute_result",
          "data": {
            "text/plain": [
              "False"
            ]
          },
          "metadata": {},
          "execution_count": 123
        }
      ]
    },
    {
      "cell_type": "code",
      "source": [
        "type(String_01) is type(String_02)"
      ],
      "metadata": {
        "colab": {
          "base_uri": "https://localhost:8080/"
        },
        "id": "yqLM0cktyrW3",
        "outputId": "81a0039c-8286-468f-b4f4-eae2e29932ab"
      },
      "execution_count": null,
      "outputs": [
        {
          "output_type": "execute_result",
          "data": {
            "text/plain": [
              "True"
            ]
          },
          "metadata": {},
          "execution_count": 124
        }
      ]
    },
    {
      "cell_type": "code",
      "source": [
        "type(String_01) is not type(String_02)"
      ],
      "metadata": {
        "colab": {
          "base_uri": "https://localhost:8080/"
        },
        "id": "S7FppQo9yuzn",
        "outputId": "8b6443b5-3409-48ca-ff65-34fb16e66ae0"
      },
      "execution_count": null,
      "outputs": [
        {
          "output_type": "execute_result",
          "data": {
            "text/plain": [
              "False"
            ]
          },
          "metadata": {},
          "execution_count": 125
        }
      ]
    },
    {
      "cell_type": "markdown",
      "source": [
        "#15 - Operadores de associação"
      ],
      "metadata": {
        "id": "vF1Y8wTKy3Kk"
      }
    },
    {
      "cell_type": "code",
      "source": [
        "Lista_Acoes = [\"Magalu\",\"Petrobras\",\"Carrefour\"]"
      ],
      "metadata": {
        "id": "OGKq46zaywXQ"
      },
      "execution_count": null,
      "outputs": []
    },
    {
      "cell_type": "code",
      "source": [
        "\"Petrobras\" in Lista_Acoes"
      ],
      "metadata": {
        "colab": {
          "base_uri": "https://localhost:8080/"
        },
        "id": "iB3Ef9KnzBsh",
        "outputId": "3a8db201-5a0a-40d8-e34f-53eadf8b7e79"
      },
      "execution_count": null,
      "outputs": [
        {
          "output_type": "execute_result",
          "data": {
            "text/plain": [
              "True"
            ]
          },
          "metadata": {},
          "execution_count": 127
        }
      ]
    },
    {
      "cell_type": "code",
      "source": [
        "\"Petr\" in Lista_Acoes"
      ],
      "metadata": {
        "colab": {
          "base_uri": "https://localhost:8080/"
        },
        "id": "pn6fU2wjzG2B",
        "outputId": "29c8c916-5bea-4595-832b-c2f332ca1314"
      },
      "execution_count": null,
      "outputs": [
        {
          "output_type": "execute_result",
          "data": {
            "text/plain": [
              "False"
            ]
          },
          "metadata": {},
          "execution_count": 128
        }
      ]
    },
    {
      "cell_type": "code",
      "source": [
        "\"zzz\" in Lista_Acoes"
      ],
      "metadata": {
        "colab": {
          "base_uri": "https://localhost:8080/"
        },
        "id": "UviQmOMpzI77",
        "outputId": "15dc0cf1-cde9-41e7-d4e3-42f00306ccb1"
      },
      "execution_count": null,
      "outputs": [
        {
          "output_type": "execute_result",
          "data": {
            "text/plain": [
              "False"
            ]
          },
          "metadata": {},
          "execution_count": 129
        }
      ]
    },
    {
      "cell_type": "code",
      "source": [
        "\"Petrobras\" not in Lista_Acoes"
      ],
      "metadata": {
        "colab": {
          "base_uri": "https://localhost:8080/"
        },
        "id": "wLt25exKzKY6",
        "outputId": "b95a8516-dba0-4a31-ae76-18df6fb5dba0"
      },
      "execution_count": null,
      "outputs": [
        {
          "output_type": "execute_result",
          "data": {
            "text/plain": [
              "False"
            ]
          },
          "metadata": {},
          "execution_count": 130
        }
      ]
    },
    {
      "cell_type": "code",
      "source": [
        "\"Petr\" not in Lista_Acoes"
      ],
      "metadata": {
        "colab": {
          "base_uri": "https://localhost:8080/"
        },
        "id": "26jM3XbzzMYs",
        "outputId": "7fe18cbe-a4a1-4be9-f882-5e63ee0093fa"
      },
      "execution_count": null,
      "outputs": [
        {
          "output_type": "execute_result",
          "data": {
            "text/plain": [
              "True"
            ]
          },
          "metadata": {},
          "execution_count": 131
        }
      ]
    },
    {
      "cell_type": "code",
      "source": [
        "\"zzz\" not in Lista_Acoes"
      ],
      "metadata": {
        "colab": {
          "base_uri": "https://localhost:8080/"
        },
        "id": "L1eNUPMUzNnK",
        "outputId": "61fbac35-5879-415d-e485-914f1d0cfe74"
      },
      "execution_count": null,
      "outputs": [
        {
          "output_type": "execute_result",
          "data": {
            "text/plain": [
              "True"
            ]
          },
          "metadata": {},
          "execution_count": 132
        }
      ]
    },
    {
      "cell_type": "markdown",
      "source": [
        "#16 - Manipulando listas"
      ],
      "metadata": {
        "id": "wEjd1T7hzSg4"
      }
    },
    {
      "cell_type": "code",
      "source": [
        "Lista_Vazia = []\n",
        "Lista_Vazia"
      ],
      "metadata": {
        "colab": {
          "base_uri": "https://localhost:8080/"
        },
        "id": "dcB5yTDHzO9y",
        "outputId": "cd97654c-bf3c-45d3-b255-a96b961c6618"
      },
      "execution_count": null,
      "outputs": [
        {
          "output_type": "execute_result",
          "data": {
            "text/plain": [
              "[]"
            ]
          },
          "metadata": {},
          "execution_count": 133
        }
      ]
    },
    {
      "cell_type": "code",
      "source": [
        "Lista_Vazia.append(1)\n",
        "Lista_Vazia.append(2)\n",
        "Lista_Vazia.append(3)\n",
        "Lista_Vazia.append(\"Valor\")"
      ],
      "metadata": {
        "id": "s2VEJDQP1Wed"
      },
      "execution_count": null,
      "outputs": []
    },
    {
      "cell_type": "code",
      "source": [
        "Lista_Vazia"
      ],
      "metadata": {
        "colab": {
          "base_uri": "https://localhost:8080/"
        },
        "id": "hOLQ8rae1bZN",
        "outputId": "19ea2d94-5718-45be-99c9-116ef1267a0e"
      },
      "execution_count": null,
      "outputs": [
        {
          "output_type": "execute_result",
          "data": {
            "text/plain": [
              "[1, 2, 3, 'Valor']"
            ]
          },
          "metadata": {},
          "execution_count": 135
        }
      ]
    },
    {
      "cell_type": "code",
      "source": [
        "len(Lista_Vazia)"
      ],
      "metadata": {
        "colab": {
          "base_uri": "https://localhost:8080/"
        },
        "id": "MlCeEoSb1goO",
        "outputId": "172ba29e-33ef-4dc6-a985-274da8d6c515"
      },
      "execution_count": null,
      "outputs": [
        {
          "output_type": "execute_result",
          "data": {
            "text/plain": [
              "4"
            ]
          },
          "metadata": {},
          "execution_count": 136
        }
      ]
    },
    {
      "cell_type": "code",
      "source": [
        "print(Lista_Vazia[0])\n",
        "print(Lista_Vazia[1])\n",
        "print(Lista_Vazia[2])\n",
        "print(Lista_Vazia[3])"
      ],
      "metadata": {
        "colab": {
          "base_uri": "https://localhost:8080/"
        },
        "id": "JCngC1yy1kHf",
        "outputId": "7ac61f4d-97a6-42e5-e872-0f48fa4410ab"
      },
      "execution_count": null,
      "outputs": [
        {
          "output_type": "stream",
          "name": "stdout",
          "text": [
            "1\n",
            "2\n",
            "3\n",
            "Valor\n"
          ]
        }
      ]
    },
    {
      "cell_type": "code",
      "source": [
        "Lista_Vazia[-1]"
      ],
      "metadata": {
        "colab": {
          "base_uri": "https://localhost:8080/",
          "height": 36
        },
        "id": "cLpohtpg1ppu",
        "outputId": "a1413974-fc17-465b-e203-e1bf725544a2"
      },
      "execution_count": null,
      "outputs": [
        {
          "output_type": "execute_result",
          "data": {
            "text/plain": [
              "'Valor'"
            ],
            "application/vnd.google.colaboratory.intrinsic+json": {
              "type": "string"
            }
          },
          "metadata": {},
          "execution_count": 138
        }
      ]
    },
    {
      "cell_type": "code",
      "source": [
        "Lista_Vazia[2:]"
      ],
      "metadata": {
        "colab": {
          "base_uri": "https://localhost:8080/"
        },
        "id": "X-oYDkcb1xPl",
        "outputId": "66f629f3-da6e-41e6-9f2e-ed63a5a6b907"
      },
      "execution_count": null,
      "outputs": [
        {
          "output_type": "execute_result",
          "data": {
            "text/plain": [
              "[3, 'Valor']"
            ]
          },
          "metadata": {},
          "execution_count": 139
        }
      ]
    },
    {
      "cell_type": "code",
      "source": [
        "Lista_Vazia[:]"
      ],
      "metadata": {
        "colab": {
          "base_uri": "https://localhost:8080/"
        },
        "id": "FyT4FrhK1xNP",
        "outputId": "735046d7-b9bf-4383-c25a-e225f4560168"
      },
      "execution_count": null,
      "outputs": [
        {
          "output_type": "execute_result",
          "data": {
            "text/plain": [
              "[1, 2, 3, 'Valor']"
            ]
          },
          "metadata": {},
          "execution_count": 140
        }
      ]
    },
    {
      "cell_type": "code",
      "source": [
        "print(Lista_Vazia)\n",
        "\n",
        "Lista_Vazia.clear()\n",
        "\n",
        "print(Lista_Vazia)"
      ],
      "metadata": {
        "colab": {
          "base_uri": "https://localhost:8080/"
        },
        "id": "IYtttDJc1xK2",
        "outputId": "b2cc938d-688f-4de0-fa4e-06d3ded03690"
      },
      "execution_count": null,
      "outputs": [
        {
          "output_type": "stream",
          "name": "stdout",
          "text": [
            "[1, 2, 3, 'Valor']\n",
            "[]\n"
          ]
        }
      ]
    },
    {
      "cell_type": "code",
      "source": [
        "Lista_Vazia.append(1)\n",
        "Lista_Vazia.append(2)\n",
        "Lista_Vazia.append(3)\n",
        "Lista_Vazia.append(\"Valor\")"
      ],
      "metadata": {
        "id": "ZMu4VVwY2MsR"
      },
      "execution_count": null,
      "outputs": []
    },
    {
      "cell_type": "code",
      "source": [
        "Lista_Vazia"
      ],
      "metadata": {
        "colab": {
          "base_uri": "https://localhost:8080/"
        },
        "id": "pWWH-4mq2NYk",
        "outputId": "c81f13ad-a724-4b4b-9e8c-33f353503c00"
      },
      "execution_count": null,
      "outputs": [
        {
          "output_type": "execute_result",
          "data": {
            "text/plain": [
              "[1, 2, 3, 'Valor']"
            ]
          },
          "metadata": {},
          "execution_count": 143
        }
      ]
    },
    {
      "cell_type": "code",
      "source": [
        "Lista_Vazia.insert(0,\"0\")"
      ],
      "metadata": {
        "id": "e_GUB0mv1xIX"
      },
      "execution_count": null,
      "outputs": []
    },
    {
      "cell_type": "code",
      "source": [
        "Lista_Vazia"
      ],
      "metadata": {
        "colab": {
          "base_uri": "https://localhost:8080/"
        },
        "id": "jC2L8tRn1xGU",
        "outputId": "418f92cb-6837-4ef3-d7c8-57e2680daf59"
      },
      "execution_count": null,
      "outputs": [
        {
          "output_type": "execute_result",
          "data": {
            "text/plain": [
              "['0', 1, 2, 3, 'Valor']"
            ]
          },
          "metadata": {},
          "execution_count": 145
        }
      ]
    },
    {
      "cell_type": "code",
      "source": [
        "Lista_Vazia.insert(2,1.5)"
      ],
      "metadata": {
        "id": "ASW1etvX1xDY"
      },
      "execution_count": null,
      "outputs": []
    },
    {
      "cell_type": "code",
      "source": [
        "Lista_Vazia"
      ],
      "metadata": {
        "colab": {
          "base_uri": "https://localhost:8080/"
        },
        "id": "bKVsSK7A2b-0",
        "outputId": "64323c38-93c7-4377-bb40-46cb3354ef4f"
      },
      "execution_count": null,
      "outputs": [
        {
          "output_type": "execute_result",
          "data": {
            "text/plain": [
              "['0', 1, 1.5, 2, 3, 'Valor']"
            ]
          },
          "metadata": {},
          "execution_count": 147
        }
      ]
    },
    {
      "cell_type": "code",
      "source": [
        "Lista_Vazia.insert(4,2.5)"
      ],
      "metadata": {
        "id": "SkRUn8Yv2c40"
      },
      "execution_count": null,
      "outputs": []
    },
    {
      "cell_type": "code",
      "source": [
        "Lista_Vazia"
      ],
      "metadata": {
        "colab": {
          "base_uri": "https://localhost:8080/"
        },
        "id": "3--uDjLK2jkD",
        "outputId": "c01d0cbc-27ca-4074-cd10-5777840f9ff6"
      },
      "execution_count": null,
      "outputs": [
        {
          "output_type": "execute_result",
          "data": {
            "text/plain": [
              "['0', 1, 1.5, 2, 2.5, 3, 'Valor']"
            ]
          },
          "metadata": {},
          "execution_count": 149
        }
      ]
    },
    {
      "cell_type": "code",
      "source": [
        "Lista_01 = [1,2,3]\n",
        "Lista_02 = [4,5,6]"
      ],
      "metadata": {
        "id": "2k2Z82IT2jyb"
      },
      "execution_count": null,
      "outputs": []
    },
    {
      "cell_type": "code",
      "source": [
        "Lista_01.extend(Lista_02)"
      ],
      "metadata": {
        "id": "0qrAw-VH2r10"
      },
      "execution_count": null,
      "outputs": []
    },
    {
      "cell_type": "code",
      "source": [
        "Lista_01"
      ],
      "metadata": {
        "colab": {
          "base_uri": "https://localhost:8080/"
        },
        "id": "oQaZHpZk2vM-",
        "outputId": "e579e4ab-82d2-41d7-8e19-27167bf82e4d"
      },
      "execution_count": null,
      "outputs": [
        {
          "output_type": "execute_result",
          "data": {
            "text/plain": [
              "[1, 2, 3, 4, 5, 6]"
            ]
          },
          "metadata": {},
          "execution_count": 152
        }
      ]
    },
    {
      "cell_type": "code",
      "source": [
        "Lista_01.remove(5)"
      ],
      "metadata": {
        "id": "vlrmaBoA2xPl"
      },
      "execution_count": null,
      "outputs": []
    },
    {
      "cell_type": "code",
      "source": [
        "Lista_01"
      ],
      "metadata": {
        "colab": {
          "base_uri": "https://localhost:8080/"
        },
        "id": "48C7dKKg24R1",
        "outputId": "a044e0e3-37ad-4e84-8d30-fa4133f3675a"
      },
      "execution_count": null,
      "outputs": [
        {
          "output_type": "execute_result",
          "data": {
            "text/plain": [
              "[1, 2, 3, 4, 6]"
            ]
          },
          "metadata": {},
          "execution_count": 154
        }
      ]
    },
    {
      "cell_type": "code",
      "source": [
        "Lista_String = [\"Olá\",\"Banana\",\"Roupa\"]"
      ],
      "metadata": {
        "id": "aAGJsN9-24lf"
      },
      "execution_count": null,
      "outputs": []
    },
    {
      "cell_type": "code",
      "source": [
        "Lista_String.remove(\"O\")"
      ],
      "metadata": {
        "colab": {
          "base_uri": "https://localhost:8080/",
          "height": 141
        },
        "id": "vjpR7BDk3EUm",
        "outputId": "5c1f9acb-8e94-443c-df49-737717dcf20e"
      },
      "execution_count": null,
      "outputs": [
        {
          "output_type": "error",
          "ename": "ValueError",
          "evalue": "list.remove(x): x not in list",
          "traceback": [
            "\u001b[0;31m---------------------------------------------------------------------------\u001b[0m",
            "\u001b[0;31mValueError\u001b[0m                                Traceback (most recent call last)",
            "\u001b[0;32m/tmp/ipython-input-1830144448.py\u001b[0m in \u001b[0;36m<cell line: 0>\u001b[0;34m()\u001b[0m\n\u001b[0;32m----> 1\u001b[0;31m \u001b[0mLista_String\u001b[0m\u001b[0;34m.\u001b[0m\u001b[0mremove\u001b[0m\u001b[0;34m(\u001b[0m\u001b[0;34m\"O\"\u001b[0m\u001b[0;34m)\u001b[0m\u001b[0;34m\u001b[0m\u001b[0;34m\u001b[0m\u001b[0m\n\u001b[0m",
            "\u001b[0;31mValueError\u001b[0m: list.remove(x): x not in list"
          ]
        }
      ]
    },
    {
      "cell_type": "code",
      "source": [
        "Lista_String.remove(\"Olá\")"
      ],
      "metadata": {
        "id": "8vrZ2nIi3HSG"
      },
      "execution_count": null,
      "outputs": []
    },
    {
      "cell_type": "code",
      "source": [
        "Lista_01"
      ],
      "metadata": {
        "colab": {
          "base_uri": "https://localhost:8080/"
        },
        "id": "6FTgp-v63Rn-",
        "outputId": "7cf47418-f991-45fc-b31c-0a7417182330"
      },
      "execution_count": null,
      "outputs": [
        {
          "output_type": "execute_result",
          "data": {
            "text/plain": [
              "[1, 2, 3, 4, 6]"
            ]
          },
          "metadata": {},
          "execution_count": 158
        }
      ]
    },
    {
      "cell_type": "code",
      "source": [
        "Lista_01.pop(0)"
      ],
      "metadata": {
        "colab": {
          "base_uri": "https://localhost:8080/"
        },
        "id": "uctwwrPl3IHP",
        "outputId": "23fae400-802f-4501-eb6c-3b1b50e3b3a2"
      },
      "execution_count": null,
      "outputs": [
        {
          "output_type": "execute_result",
          "data": {
            "text/plain": [
              "1"
            ]
          },
          "metadata": {},
          "execution_count": 159
        }
      ]
    },
    {
      "cell_type": "code",
      "source": [
        "Lista_01"
      ],
      "metadata": {
        "colab": {
          "base_uri": "https://localhost:8080/"
        },
        "id": "-8ine_sz3Tsv",
        "outputId": "3f9853ed-765e-4ebc-cbfe-e429c30d385e"
      },
      "execution_count": null,
      "outputs": [
        {
          "output_type": "execute_result",
          "data": {
            "text/plain": [
              "[2, 3, 4, 6]"
            ]
          },
          "metadata": {},
          "execution_count": 160
        }
      ]
    },
    {
      "cell_type": "code",
      "source": [
        "Lista_ABC = [\"Z\",\"C\",\"F\",\"H\",\"A\"]\n",
        "Lista_ABC"
      ],
      "metadata": {
        "colab": {
          "base_uri": "https://localhost:8080/"
        },
        "id": "5ruxpGer3UjP",
        "outputId": "7979aaa8-a6d3-489e-c9d4-6606f90dfa1a"
      },
      "execution_count": null,
      "outputs": [
        {
          "output_type": "execute_result",
          "data": {
            "text/plain": [
              "['Z', 'C', 'F', 'H', 'A']"
            ]
          },
          "metadata": {},
          "execution_count": 161
        }
      ]
    },
    {
      "cell_type": "code",
      "source": [
        "Lista_ABC.sort()\n",
        "Lista_ABC"
      ],
      "metadata": {
        "colab": {
          "base_uri": "https://localhost:8080/"
        },
        "id": "r_U-2biB3cKT",
        "outputId": "41afec2e-8a9d-4d73-da96-6c2d05f80a2b"
      },
      "execution_count": null,
      "outputs": [
        {
          "output_type": "execute_result",
          "data": {
            "text/plain": [
              "['A', 'C', 'F', 'H', 'Z']"
            ]
          },
          "metadata": {},
          "execution_count": 162
        }
      ]
    },
    {
      "cell_type": "code",
      "source": [
        "Lista_ABC.sort(reverse=True)\n",
        "Lista_ABC"
      ],
      "metadata": {
        "colab": {
          "base_uri": "https://localhost:8080/"
        },
        "id": "Uv6SOQLP3cMn",
        "outputId": "82e6601d-9607-4d60-efe6-38ed5097ecd3"
      },
      "execution_count": null,
      "outputs": [
        {
          "output_type": "execute_result",
          "data": {
            "text/plain": [
              "['Z', 'H', 'F', 'C', 'A']"
            ]
          },
          "metadata": {},
          "execution_count": 163
        }
      ]
    },
    {
      "cell_type": "code",
      "source": [
        "Lista_Nova = Lista_ABC.copy()"
      ],
      "metadata": {
        "id": "Hr1doZlB3cPK"
      },
      "execution_count": null,
      "outputs": []
    },
    {
      "cell_type": "code",
      "source": [
        "Lista_Nova"
      ],
      "metadata": {
        "colab": {
          "base_uri": "https://localhost:8080/"
        },
        "id": "22pFWWta3cUE",
        "outputId": "47035110-f5db-4959-c760-8b76f47fb8e6"
      },
      "execution_count": null,
      "outputs": [
        {
          "output_type": "execute_result",
          "data": {
            "text/plain": [
              "['Z', 'H', 'F', 'C', 'A']"
            ]
          },
          "metadata": {},
          "execution_count": 165
        }
      ]
    },
    {
      "cell_type": "code",
      "source": [
        "Lista_Nova.index(\"H\")"
      ],
      "metadata": {
        "colab": {
          "base_uri": "https://localhost:8080/"
        },
        "id": "Lfzxnz9a3cW2",
        "outputId": "e1f0fee2-abd9-4711-e314-9f8b9942fc81"
      },
      "execution_count": null,
      "outputs": [
        {
          "output_type": "execute_result",
          "data": {
            "text/plain": [
              "1"
            ]
          },
          "metadata": {},
          "execution_count": 166
        }
      ]
    },
    {
      "cell_type": "code",
      "source": [
        "Lista_Nova.index(\"A\")"
      ],
      "metadata": {
        "colab": {
          "base_uri": "https://localhost:8080/"
        },
        "id": "ThVKY7pZ3wov",
        "outputId": "bbcb2f23-274d-4e45-c4e8-6775012aa45c"
      },
      "execution_count": null,
      "outputs": [
        {
          "output_type": "execute_result",
          "data": {
            "text/plain": [
              "4"
            ]
          },
          "metadata": {},
          "execution_count": 167
        }
      ]
    },
    {
      "cell_type": "markdown",
      "source": [
        "#17 - Pacote externo - Datetime"
      ],
      "metadata": {
        "id": "8bmrIrZQL77J"
      }
    },
    {
      "cell_type": "code",
      "source": [
        "type(\"01/01/2025\")"
      ],
      "metadata": {
        "colab": {
          "base_uri": "https://localhost:8080/"
        },
        "id": "38bQnSyh3wmO",
        "outputId": "15251025-08ca-47cd-9aa5-f3e79a1985bb"
      },
      "execution_count": null,
      "outputs": [
        {
          "output_type": "execute_result",
          "data": {
            "text/plain": [
              "str"
            ]
          },
          "metadata": {},
          "execution_count": 168
        }
      ]
    },
    {
      "cell_type": "code",
      "source": [
        "import datetime as dt"
      ],
      "metadata": {
        "id": "kgfKmd3A3wjn"
      },
      "execution_count": null,
      "outputs": []
    },
    {
      "cell_type": "code",
      "source": [
        "Dia_Hoje = dt.datetime.today()"
      ],
      "metadata": {
        "id": "X5vceciG3wg5"
      },
      "execution_count": null,
      "outputs": []
    },
    {
      "cell_type": "code",
      "source": [
        "print(Dia_Hoje)"
      ],
      "metadata": {
        "colab": {
          "base_uri": "https://localhost:8080/"
        },
        "id": "6C6rPX9k3weZ",
        "outputId": "f96e5244-138e-42ec-f8c3-f8c95e7c3c59"
      },
      "execution_count": null,
      "outputs": [
        {
          "output_type": "stream",
          "name": "stdout",
          "text": [
            "2025-09-13 17:48:35.444709\n"
          ]
        }
      ]
    },
    {
      "cell_type": "code",
      "source": [
        "type(Dia_Hoje)"
      ],
      "metadata": {
        "colab": {
          "base_uri": "https://localhost:8080/"
        },
        "id": "05UoKL03MZ41",
        "outputId": "17ffd568-7cdc-4a39-b47d-dd0acbcb556b"
      },
      "execution_count": null,
      "outputs": [
        {
          "output_type": "execute_result",
          "data": {
            "text/plain": [
              "datetime.datetime"
            ]
          },
          "metadata": {},
          "execution_count": 172
        }
      ]
    },
    {
      "cell_type": "code",
      "source": [
        "print(dt.datetime.today().date())"
      ],
      "metadata": {
        "colab": {
          "base_uri": "https://localhost:8080/"
        },
        "id": "zoYna88DMh91",
        "outputId": "0fc1a966-baf0-4498-de51-e7b5c6a7b7c7"
      },
      "execution_count": null,
      "outputs": [
        {
          "output_type": "stream",
          "name": "stdout",
          "text": [
            "2025-09-13\n"
          ]
        }
      ]
    },
    {
      "cell_type": "code",
      "source": [
        "Data = dt.datetime.today().date()"
      ],
      "metadata": {
        "id": "Vt9J6qQBMiup"
      },
      "execution_count": null,
      "outputs": []
    },
    {
      "cell_type": "code",
      "source": [
        "Ano = Data.year\n",
        "Mes = Data.month\n",
        "Dia = Data.day"
      ],
      "metadata": {
        "id": "HTpL7eSTMisa"
      },
      "execution_count": null,
      "outputs": []
    },
    {
      "cell_type": "code",
      "source": [
        "print(Ano)\n",
        "print(Mes)\n",
        "print(Dia)"
      ],
      "metadata": {
        "colab": {
          "base_uri": "https://localhost:8080/"
        },
        "id": "WF6gjWZcMips",
        "outputId": "7d81b4a4-3f3d-44ac-cbac-90c5306fd906"
      },
      "execution_count": null,
      "outputs": [
        {
          "output_type": "stream",
          "name": "stdout",
          "text": [
            "2025\n",
            "9\n",
            "13\n"
          ]
        }
      ]
    },
    {
      "cell_type": "code",
      "source": [
        "Data_Antiga = dt.date(2025,1,1)\n",
        "Data_Antiga"
      ],
      "metadata": {
        "colab": {
          "base_uri": "https://localhost:8080/"
        },
        "id": "tWw8gPCuMinC",
        "outputId": "0b82f599-abcc-497a-dc4d-9748a82cd58f"
      },
      "execution_count": null,
      "outputs": [
        {
          "output_type": "execute_result",
          "data": {
            "text/plain": [
              "datetime.date(2025, 1, 1)"
            ]
          },
          "metadata": {},
          "execution_count": 177
        }
      ]
    },
    {
      "cell_type": "code",
      "source": [
        "type(Data_Antiga)"
      ],
      "metadata": {
        "colab": {
          "base_uri": "https://localhost:8080/"
        },
        "id": "c_bmo0VJNU3Q",
        "outputId": "50f2e6ec-978a-4d35-bc7f-fd42f3dd6f81"
      },
      "execution_count": null,
      "outputs": [
        {
          "output_type": "execute_result",
          "data": {
            "text/plain": [
              "datetime.date"
            ]
          },
          "metadata": {},
          "execution_count": 178
        }
      ]
    },
    {
      "cell_type": "code",
      "source": [
        "Data"
      ],
      "metadata": {
        "colab": {
          "base_uri": "https://localhost:8080/"
        },
        "id": "aW-K7RXGNU0x",
        "outputId": "453cbbb1-b240-4013-f627-70992c748359"
      },
      "execution_count": null,
      "outputs": [
        {
          "output_type": "execute_result",
          "data": {
            "text/plain": [
              "datetime.date(2025, 9, 13)"
            ]
          },
          "metadata": {},
          "execution_count": 179
        }
      ]
    },
    {
      "cell_type": "code",
      "source": [
        "Data - Data_Antiga"
      ],
      "metadata": {
        "colab": {
          "base_uri": "https://localhost:8080/"
        },
        "id": "FOEWmnAjNUx1",
        "outputId": "760a2a08-39dd-40c4-a240-6f82c5a1f614"
      },
      "execution_count": null,
      "outputs": [
        {
          "output_type": "execute_result",
          "data": {
            "text/plain": [
              "datetime.timedelta(days=255)"
            ]
          },
          "metadata": {},
          "execution_count": 180
        }
      ]
    },
    {
      "cell_type": "code",
      "source": [
        "Data.strftime(\"%d/%m/%y\")"
      ],
      "metadata": {
        "colab": {
          "base_uri": "https://localhost:8080/",
          "height": 36
        },
        "id": "0eOsRXs2NUqB",
        "outputId": "c45b4067-ed4d-4f42-e039-be58995ba398"
      },
      "execution_count": null,
      "outputs": [
        {
          "output_type": "execute_result",
          "data": {
            "text/plain": [
              "'13/09/25'"
            ],
            "application/vnd.google.colaboratory.intrinsic+json": {
              "type": "string"
            }
          },
          "metadata": {},
          "execution_count": 181
        }
      ]
    },
    {
      "cell_type": "code",
      "source": [
        "print(Data)\n",
        "\n",
        "print(Data + dt.timedelta(days=30))"
      ],
      "metadata": {
        "colab": {
          "base_uri": "https://localhost:8080/"
        },
        "id": "-vXkC0etNUno",
        "outputId": "db35e03a-cfb1-4e88-e89b-9a2dbbe9a03c"
      },
      "execution_count": null,
      "outputs": [
        {
          "output_type": "stream",
          "name": "stdout",
          "text": [
            "2025-09-13\n",
            "2025-10-13\n"
          ]
        }
      ]
    },
    {
      "cell_type": "markdown",
      "source": [
        "#18 - Pacote externo - Time"
      ],
      "metadata": {
        "id": "9qRcIX-kPEq4"
      }
    },
    {
      "cell_type": "code",
      "source": [
        "import time as tm"
      ],
      "metadata": {
        "id": "IIQlflcQMike"
      },
      "execution_count": null,
      "outputs": []
    },
    {
      "cell_type": "code",
      "source": [
        "print(\"Comecei agora...\")\n",
        "tm.sleep(0.9)\n",
        "print(\"Terminei\")"
      ],
      "metadata": {
        "colab": {
          "base_uri": "https://localhost:8080/"
        },
        "id": "gBJJfXHGOdSE",
        "outputId": "0af24534-b7f4-4d07-bdf1-381bf3f935e8"
      },
      "execution_count": null,
      "outputs": [
        {
          "output_type": "stream",
          "name": "stdout",
          "text": [
            "Comecei agora...\n",
            "Terminei\n"
          ]
        }
      ]
    },
    {
      "cell_type": "code",
      "source": [
        "Agora = tm.localtime()\n",
        "print(Agora)\n",
        "print(\"Tipo: \" , type(Agora))"
      ],
      "metadata": {
        "colab": {
          "base_uri": "https://localhost:8080/"
        },
        "id": "F9FHi2i5OdUl",
        "outputId": "ec7f8eb8-0559-4e5c-ab31-1206b19651f0"
      },
      "execution_count": null,
      "outputs": [
        {
          "output_type": "stream",
          "name": "stdout",
          "text": [
            "time.struct_time(tm_year=2025, tm_mon=9, tm_mday=13, tm_hour=17, tm_min=48, tm_sec=37, tm_wday=5, tm_yday=256, tm_isdst=0)\n",
            "Tipo:  <class 'time.struct_time'>\n"
          ]
        }
      ]
    },
    {
      "cell_type": "code",
      "source": [
        "tm.strftime(\"%d/%m/%y , %H:%M:%S\", Agora)"
      ],
      "metadata": {
        "colab": {
          "base_uri": "https://localhost:8080/",
          "height": 36
        },
        "id": "a9gVDYILOdXS",
        "outputId": "e3758f6f-2135-4cf6-a80f-9cb342160f02"
      },
      "execution_count": null,
      "outputs": [
        {
          "output_type": "execute_result",
          "data": {
            "text/plain": [
              "'13/09/25 , 17:48:37'"
            ],
            "application/vnd.google.colaboratory.intrinsic+json": {
              "type": "string"
            }
          },
          "metadata": {},
          "execution_count": 186
        }
      ]
    },
    {
      "cell_type": "code",
      "source": [
        "Data_Texto = \"21 June, 2021\"\n",
        "tm.strftime(\"%d/%m/%y\",tm.strptime(Data_Texto, \"%d %B, %Y\"))"
      ],
      "metadata": {
        "colab": {
          "base_uri": "https://localhost:8080/",
          "height": 36
        },
        "id": "81sJlOR9OdaH",
        "outputId": "bdab47af-6f9c-4dcb-f016-eb0634094524"
      },
      "execution_count": null,
      "outputs": [
        {
          "output_type": "execute_result",
          "data": {
            "text/plain": [
              "'21/06/21'"
            ],
            "application/vnd.google.colaboratory.intrinsic+json": {
              "type": "string"
            }
          },
          "metadata": {},
          "execution_count": 187
        }
      ]
    },
    {
      "cell_type": "code",
      "source": [
        "Data_Ex_01 = \"01/10/2023\"\n",
        "tm.strptime(Data_Ex_01, \"%d/%m/%Y\")"
      ],
      "metadata": {
        "colab": {
          "base_uri": "https://localhost:8080/"
        },
        "id": "xInBhbu6R7C8",
        "outputId": "7a7adc32-a5d0-4c29-d67b-56805e7815d9"
      },
      "execution_count": null,
      "outputs": [
        {
          "output_type": "execute_result",
          "data": {
            "text/plain": [
              "time.struct_time(tm_year=2023, tm_mon=10, tm_mday=1, tm_hour=0, tm_min=0, tm_sec=0, tm_wday=6, tm_yday=274, tm_isdst=-1)"
            ]
          },
          "metadata": {},
          "execution_count": 188
        }
      ]
    },
    {
      "cell_type": "markdown",
      "source": [
        "#19 - Pacote externo - Math"
      ],
      "metadata": {
        "id": "4mdNHCBuT4Bl"
      }
    },
    {
      "cell_type": "code",
      "source": [
        "import math"
      ],
      "metadata": {
        "id": "nUSu8s2cSVM5"
      },
      "execution_count": null,
      "outputs": []
    },
    {
      "cell_type": "code",
      "source": [
        "Tupla = (10, 5 , 20 ,30 ,40)"
      ],
      "metadata": {
        "id": "aCTIknI8T8-S"
      },
      "execution_count": null,
      "outputs": []
    },
    {
      "cell_type": "code",
      "source": [
        "min(Tupla)"
      ],
      "metadata": {
        "colab": {
          "base_uri": "https://localhost:8080/"
        },
        "id": "7VvsHatKT_2r",
        "outputId": "d2b7fe7d-a914-4b65-c6cf-516e07d66259"
      },
      "execution_count": null,
      "outputs": [
        {
          "output_type": "execute_result",
          "data": {
            "text/plain": [
              "5"
            ]
          },
          "metadata": {},
          "execution_count": 191
        }
      ]
    },
    {
      "cell_type": "code",
      "source": [
        "max(Tupla)"
      ],
      "metadata": {
        "colab": {
          "base_uri": "https://localhost:8080/"
        },
        "id": "mLFqPaCGUBZK",
        "outputId": "3420c356-b864-4134-d6eb-e4188020d625"
      },
      "execution_count": null,
      "outputs": [
        {
          "output_type": "execute_result",
          "data": {
            "text/plain": [
              "40"
            ]
          },
          "metadata": {},
          "execution_count": 192
        }
      ]
    },
    {
      "cell_type": "code",
      "source": [
        "abs(-5.56)"
      ],
      "metadata": {
        "colab": {
          "base_uri": "https://localhost:8080/"
        },
        "id": "u4eB2zL6UCm7",
        "outputId": "506d7934-8f50-460b-91bb-e22696b8abec"
      },
      "execution_count": null,
      "outputs": [
        {
          "output_type": "execute_result",
          "data": {
            "text/plain": [
              "5.56"
            ]
          },
          "metadata": {},
          "execution_count": 193
        }
      ]
    },
    {
      "cell_type": "code",
      "source": [
        "pow(2,3)"
      ],
      "metadata": {
        "colab": {
          "base_uri": "https://localhost:8080/"
        },
        "id": "QLOgbf-kUE5q",
        "outputId": "d2acba61-4faf-4586-ee85-bbf05c1e965a"
      },
      "execution_count": null,
      "outputs": [
        {
          "output_type": "execute_result",
          "data": {
            "text/plain": [
              "8"
            ]
          },
          "metadata": {},
          "execution_count": 194
        }
      ]
    },
    {
      "cell_type": "code",
      "source": [
        "math.sqrt(81)"
      ],
      "metadata": {
        "colab": {
          "base_uri": "https://localhost:8080/"
        },
        "id": "dKIGSu5_UTT1",
        "outputId": "085e107a-0b3c-4f8d-8a61-01e74414c547"
      },
      "execution_count": null,
      "outputs": [
        {
          "output_type": "execute_result",
          "data": {
            "text/plain": [
              "9.0"
            ]
          },
          "metadata": {},
          "execution_count": 195
        }
      ]
    },
    {
      "cell_type": "code",
      "source": [
        "print(math.ceil(1.01))\n",
        "print(math.ceil(1.3))\n",
        "print(math.ceil(1.5))\n",
        "print(math.ceil(1.9))"
      ],
      "metadata": {
        "colab": {
          "base_uri": "https://localhost:8080/"
        },
        "id": "C3NDEqeyUZX8",
        "outputId": "7c7684c4-977c-4053-c2a7-d00bec0ee7c2"
      },
      "execution_count": null,
      "outputs": [
        {
          "output_type": "stream",
          "name": "stdout",
          "text": [
            "2\n",
            "2\n",
            "2\n",
            "2\n"
          ]
        }
      ]
    },
    {
      "cell_type": "code",
      "source": [
        "print(math.floor(1.01))\n",
        "print(math.floor(1.3))\n",
        "print(math.floor(1.5))\n",
        "print(math.floor(1.9))"
      ],
      "metadata": {
        "colab": {
          "base_uri": "https://localhost:8080/"
        },
        "id": "eiI4Bn4qUhBs",
        "outputId": "5f094a47-1f01-4281-ce8f-275c2bd42721"
      },
      "execution_count": null,
      "outputs": [
        {
          "output_type": "stream",
          "name": "stdout",
          "text": [
            "1\n",
            "1\n",
            "1\n",
            "1\n"
          ]
        }
      ]
    },
    {
      "cell_type": "code",
      "source": [
        "math.pi"
      ],
      "metadata": {
        "colab": {
          "base_uri": "https://localhost:8080/"
        },
        "id": "zCBmlSMvUtxo",
        "outputId": "4eaa577e-c67a-4bb2-a5ff-9492604fced8"
      },
      "execution_count": null,
      "outputs": [
        {
          "output_type": "execute_result",
          "data": {
            "text/plain": [
              "3.141592653589793"
            ]
          },
          "metadata": {},
          "execution_count": 198
        }
      ]
    },
    {
      "cell_type": "code",
      "source": [
        "math.cos(90)"
      ],
      "metadata": {
        "colab": {
          "base_uri": "https://localhost:8080/"
        },
        "id": "SB-Pfn0VUxr7",
        "outputId": "32205412-d851-4083-8e72-f68ac2a1535b"
      },
      "execution_count": null,
      "outputs": [
        {
          "output_type": "execute_result",
          "data": {
            "text/plain": [
              "-0.4480736161291701"
            ]
          },
          "metadata": {},
          "execution_count": 199
        }
      ]
    },
    {
      "cell_type": "code",
      "source": [
        "math.sin(90)"
      ],
      "metadata": {
        "colab": {
          "base_uri": "https://localhost:8080/"
        },
        "id": "K8sehcRUU0Am",
        "outputId": "b3c70827-b8c6-4237-8d15-aa229107aae4"
      },
      "execution_count": null,
      "outputs": [
        {
          "output_type": "execute_result",
          "data": {
            "text/plain": [
              "0.8939966636005579"
            ]
          },
          "metadata": {},
          "execution_count": 200
        }
      ]
    },
    {
      "cell_type": "markdown",
      "source": [
        "#20 - Pacote externo - Random"
      ],
      "metadata": {
        "id": "OLRz-eXzVGbr"
      }
    },
    {
      "cell_type": "code",
      "source": [
        "import random as rd"
      ],
      "metadata": {
        "id": "ytibQXkMVFuT"
      },
      "execution_count": null,
      "outputs": []
    },
    {
      "cell_type": "code",
      "source": [
        "Lista = [1,2,3,4,5,6,7,8]"
      ],
      "metadata": {
        "id": "ooRJQVQFU1cm"
      },
      "execution_count": null,
      "outputs": []
    },
    {
      "cell_type": "code",
      "source": [
        "rd.choice(Lista)"
      ],
      "metadata": {
        "colab": {
          "base_uri": "https://localhost:8080/"
        },
        "id": "2dmbk9xkVTTx",
        "outputId": "79e05ff6-5674-48a4-8502-79089ec17889"
      },
      "execution_count": null,
      "outputs": [
        {
          "output_type": "execute_result",
          "data": {
            "text/plain": [
              "5"
            ]
          },
          "metadata": {},
          "execution_count": 203
        }
      ]
    },
    {
      "cell_type": "code",
      "source": [
        "Palavra = \"Paulo\""
      ],
      "metadata": {
        "id": "nDotDKywVYLN"
      },
      "execution_count": null,
      "outputs": []
    },
    {
      "cell_type": "code",
      "source": [
        "rd.choice(Palavra)"
      ],
      "metadata": {
        "colab": {
          "base_uri": "https://localhost:8080/",
          "height": 36
        },
        "id": "wR-oHLnsVoLz",
        "outputId": "04d85dfe-7946-48c9-9bdd-d6ffe3852950"
      },
      "execution_count": null,
      "outputs": [
        {
          "output_type": "execute_result",
          "data": {
            "text/plain": [
              "'P'"
            ],
            "application/vnd.google.colaboratory.intrinsic+json": {
              "type": "string"
            }
          },
          "metadata": {},
          "execution_count": 205
        }
      ]
    },
    {
      "cell_type": "code",
      "source": [
        "rd.random()"
      ],
      "metadata": {
        "colab": {
          "base_uri": "https://localhost:8080/"
        },
        "id": "nxm_hfNfVp7v",
        "outputId": "0d09af47-b4d9-466e-d14e-12283c8162f2"
      },
      "execution_count": null,
      "outputs": [
        {
          "output_type": "execute_result",
          "data": {
            "text/plain": [
              "0.29845191811897664"
            ]
          },
          "metadata": {},
          "execution_count": 206
        }
      ]
    },
    {
      "cell_type": "code",
      "source": [
        "rd.randint(0,10)"
      ],
      "metadata": {
        "colab": {
          "base_uri": "https://localhost:8080/"
        },
        "id": "jYKoqksWVtYr",
        "outputId": "a27e7efc-cc03-4e57-eedc-571584ac811c"
      },
      "execution_count": null,
      "outputs": [
        {
          "output_type": "execute_result",
          "data": {
            "text/plain": [
              "10"
            ]
          },
          "metadata": {},
          "execution_count": 207
        }
      ]
    },
    {
      "cell_type": "markdown",
      "source": [
        "#21 - Pacote externo - Statistics"
      ],
      "metadata": {
        "id": "dK931sacWTBJ"
      }
    },
    {
      "cell_type": "code",
      "source": [
        "import statistics as st"
      ],
      "metadata": {
        "id": "U1vZVGFYWSPw"
      },
      "execution_count": null,
      "outputs": []
    },
    {
      "cell_type": "code",
      "source": [
        "Lista = [12 , 15 , 28, 56 ,78, 15, 80]"
      ],
      "metadata": {
        "id": "NyGslTHvV2QD"
      },
      "execution_count": null,
      "outputs": []
    },
    {
      "cell_type": "code",
      "source": [
        "sum(Lista) / len(Lista)"
      ],
      "metadata": {
        "colab": {
          "base_uri": "https://localhost:8080/"
        },
        "id": "eroHvXITWhLH",
        "outputId": "059cce2d-114e-4b89-aa73-9eb929c25a43"
      },
      "execution_count": null,
      "outputs": [
        {
          "output_type": "execute_result",
          "data": {
            "text/plain": [
              "40.57142857142857"
            ]
          },
          "metadata": {},
          "execution_count": 210
        }
      ]
    },
    {
      "cell_type": "code",
      "source": [
        "st.mean(Lista)"
      ],
      "metadata": {
        "colab": {
          "base_uri": "https://localhost:8080/"
        },
        "id": "TMNirAJyWkiQ",
        "outputId": "10c9e1f8-b01f-4050-d06a-53f97bd110a9"
      },
      "execution_count": null,
      "outputs": [
        {
          "output_type": "execute_result",
          "data": {
            "text/plain": [
              "40.57142857142857"
            ]
          },
          "metadata": {},
          "execution_count": 211
        }
      ]
    },
    {
      "cell_type": "code",
      "source": [
        "st.median(Lista)"
      ],
      "metadata": {
        "colab": {
          "base_uri": "https://localhost:8080/"
        },
        "id": "_bgEzdqrWuII",
        "outputId": "89789e41-af5c-4cee-8580-cdad051c45ff"
      },
      "execution_count": null,
      "outputs": [
        {
          "output_type": "execute_result",
          "data": {
            "text/plain": [
              "28"
            ]
          },
          "metadata": {},
          "execution_count": 212
        }
      ]
    },
    {
      "cell_type": "code",
      "source": [
        "st.mode(Lista)"
      ],
      "metadata": {
        "colab": {
          "base_uri": "https://localhost:8080/"
        },
        "id": "V-9h2qv3W0uB",
        "outputId": "edafc56e-4f76-4ac5-f230-abc862c08bd1"
      },
      "execution_count": null,
      "outputs": [
        {
          "output_type": "execute_result",
          "data": {
            "text/plain": [
              "15"
            ]
          },
          "metadata": {},
          "execution_count": 213
        }
      ]
    },
    {
      "cell_type": "markdown",
      "source": [
        "#22 - IF"
      ],
      "metadata": {
        "id": "J-ZEltoaXkc5"
      }
    },
    {
      "cell_type": "code",
      "source": [
        "Chuva = False\n",
        "\n",
        "if (Chuva):\n",
        "  print(\"Pegar guarda chuva\")\n",
        "else:\n",
        "  print(\"Não pegar guarda chuva\")"
      ],
      "metadata": {
        "colab": {
          "base_uri": "https://localhost:8080/"
        },
        "id": "CknMLVMvW3Fc",
        "outputId": "5caa1a8e-400d-4245-8eaf-ace4335461f9"
      },
      "execution_count": null,
      "outputs": [
        {
          "output_type": "stream",
          "name": "stdout",
          "text": [
            "Não pegar guarda chuva\n"
          ]
        }
      ]
    },
    {
      "cell_type": "code",
      "source": [
        "Idade = 18\n",
        "\n",
        "if (Idade >= 18):\n",
        "  print(\"Você é maior de idade\")"
      ],
      "metadata": {
        "colab": {
          "base_uri": "https://localhost:8080/"
        },
        "id": "Leu47xtSX7K-",
        "outputId": "a81c0c1a-e939-48c9-a5d8-cdf2c12cb576"
      },
      "execution_count": null,
      "outputs": [
        {
          "output_type": "stream",
          "name": "stdout",
          "text": [
            "Você é maior de idade\n"
          ]
        }
      ]
    },
    {
      "cell_type": "code",
      "source": [
        "Idade = 15\n",
        "\n",
        "if (Idade >= 18):\n",
        "  print(\"Você é maior de idade\")"
      ],
      "metadata": {
        "id": "MNtFfRoxYZOz"
      },
      "execution_count": null,
      "outputs": []
    },
    {
      "cell_type": "code",
      "source": [
        "Idade = 22\n",
        "\n",
        "if (Idade >= 18):\n",
        "  print(\"Você é maior de idade\")"
      ],
      "metadata": {
        "colab": {
          "base_uri": "https://localhost:8080/"
        },
        "id": "_MIJHNppYodz",
        "outputId": "35de5803-757f-4e33-9d04-9f3f0550e4ff"
      },
      "execution_count": null,
      "outputs": [
        {
          "output_type": "stream",
          "name": "stdout",
          "text": [
            "Você é maior de idade\n"
          ]
        }
      ]
    },
    {
      "cell_type": "code",
      "source": [
        "Idade = 22\n",
        "\n",
        "if (Idade >= 18):\n",
        "  print(\"Você é maior de idade\")\n",
        "else:\n",
        "  print(\"Você é menor de idade\")"
      ],
      "metadata": {
        "colab": {
          "base_uri": "https://localhost:8080/"
        },
        "id": "mS4MjcciYn1f",
        "outputId": "b3687395-6f23-4506-e3ea-5d0a008165a9"
      },
      "execution_count": null,
      "outputs": [
        {
          "output_type": "stream",
          "name": "stdout",
          "text": [
            "Você é maior de idade\n"
          ]
        }
      ]
    },
    {
      "cell_type": "code",
      "source": [
        "Idade = 11\n",
        "\n",
        "if (Idade >= 18):\n",
        "  print(\"Você é maior de idade\")\n",
        "else:\n",
        "  print(\"Você é menor de idade\")"
      ],
      "metadata": {
        "colab": {
          "base_uri": "https://localhost:8080/"
        },
        "id": "XtXXyKcnYnzd",
        "outputId": "3759c22d-08a2-4fb8-b61a-42fac1f4decf"
      },
      "execution_count": null,
      "outputs": [
        {
          "output_type": "stream",
          "name": "stdout",
          "text": [
            "Você é menor de idade\n"
          ]
        }
      ]
    },
    {
      "cell_type": "code",
      "source": [
        "Idade = 15\n",
        "\n",
        "if (Idade >= 18):\n",
        "  print(\"Você é maior de idade\")\n",
        "else:\n",
        "  print(\"Você é menor de idade\")"
      ],
      "metadata": {
        "colab": {
          "base_uri": "https://localhost:8080/"
        },
        "id": "-CZW3FvjYnwm",
        "outputId": "6b88be0c-f0b3-426f-81c6-1c46e8cb7f17"
      },
      "execution_count": null,
      "outputs": [
        {
          "output_type": "stream",
          "name": "stdout",
          "text": [
            "Você é menor de idade\n"
          ]
        }
      ]
    },
    {
      "cell_type": "code",
      "source": [
        "Idade = 18\n",
        "\n",
        "if (Idade >= 18):\n",
        "  print(\"Você é maior de idade\")\n",
        "else:\n",
        "  print(\"Você é menor de idade\")"
      ],
      "metadata": {
        "colab": {
          "base_uri": "https://localhost:8080/"
        },
        "id": "b5_qEFrsYnuA",
        "outputId": "bda6e810-8957-4f73-e887-3ae9433765a1"
      },
      "execution_count": null,
      "outputs": [
        {
          "output_type": "stream",
          "name": "stdout",
          "text": [
            "Você é maior de idade\n"
          ]
        }
      ]
    },
    {
      "cell_type": "code",
      "source": [
        "Idade = 15\n",
        "\n",
        "if (Idade >= 18):\n",
        "  print(\"Você é maior de idade\")\n",
        "elif (15 <= Idade <= 17):\n",
        "  print(\"Seus pais podem te autorizar\")\n",
        "else:\n",
        "  print(\"Você é menor de idade\")"
      ],
      "metadata": {
        "colab": {
          "base_uri": "https://localhost:8080/"
        },
        "id": "0lvC8K_OYnrb",
        "outputId": "b7f39975-6d01-4fb3-8e4b-b24109389681"
      },
      "execution_count": null,
      "outputs": [
        {
          "output_type": "stream",
          "name": "stdout",
          "text": [
            "Seus pais podem te autorizar\n"
          ]
        }
      ]
    },
    {
      "cell_type": "code",
      "source": [
        "Idade = 17\n",
        "\n",
        "if (Idade >= 18):\n",
        "  print(\"Você é maior de idade\")\n",
        "elif (15 <= Idade <= 17):\n",
        "  print(\"Seus pais podem te autorizar\")\n",
        "else:\n",
        "  print(\"Você é menor de idade\")"
      ],
      "metadata": {
        "colab": {
          "base_uri": "https://localhost:8080/"
        },
        "id": "2NA-xmhUYnoq",
        "outputId": "5d2beb2c-d20d-43ef-99ae-15eae724644c"
      },
      "execution_count": null,
      "outputs": [
        {
          "output_type": "stream",
          "name": "stdout",
          "text": [
            "Seus pais podem te autorizar\n"
          ]
        }
      ]
    },
    {
      "cell_type": "code",
      "source": [
        "Idade = 14\n",
        "\n",
        "if (Idade >= 18):\n",
        "  print(\"Você é maior de idade\")\n",
        "elif (15 <= Idade <= 17):\n",
        "  print(\"Seus pais podem te autorizar\")\n",
        "else:\n",
        "  print(\"Você é menor de idade\")"
      ],
      "metadata": {
        "colab": {
          "base_uri": "https://localhost:8080/"
        },
        "id": "FVy8ax9-Ynll",
        "outputId": "b94726b3-9606-43db-9b40-9876378b6e12"
      },
      "execution_count": null,
      "outputs": [
        {
          "output_type": "stream",
          "name": "stdout",
          "text": [
            "Você é menor de idade\n"
          ]
        }
      ]
    },
    {
      "cell_type": "code",
      "source": [
        "Idade = 18\n",
        "\n",
        "if (Idade >= 18):\n",
        "  print(\"Você é maior de idade\")\n",
        "elif (15 <= Idade <= 17):\n",
        "  print(\"Seus pais podem te autorizar\")\n",
        "else:\n",
        "  print(\"Você é menor de idade\")"
      ],
      "metadata": {
        "colab": {
          "base_uri": "https://localhost:8080/"
        },
        "id": "ggV7wsvcYnjh",
        "outputId": "0847a6fa-d846-4dee-b91b-f9150a8cd7a6"
      },
      "execution_count": null,
      "outputs": [
        {
          "output_type": "stream",
          "name": "stdout",
          "text": [
            "Você é maior de idade\n"
          ]
        }
      ]
    },
    {
      "cell_type": "markdown",
      "source": [
        "#23 - Loop FOR"
      ],
      "metadata": {
        "id": "DYcM_24KTKrr"
      }
    },
    {
      "cell_type": "code",
      "source": [
        "for i in range(11):\n",
        "  print(i * 10)"
      ],
      "metadata": {
        "id": "muPitdCCZz0s",
        "colab": {
          "base_uri": "https://localhost:8080/"
        },
        "outputId": "1e58e70a-67cc-4a93-d085-39baa1772df4"
      },
      "execution_count": null,
      "outputs": [
        {
          "output_type": "stream",
          "name": "stdout",
          "text": [
            "0\n",
            "10\n",
            "20\n",
            "30\n",
            "40\n",
            "50\n",
            "60\n",
            "70\n",
            "80\n",
            "90\n",
            "100\n"
          ]
        }
      ]
    },
    {
      "cell_type": "code",
      "source": [
        "for i in range(1,11):\n",
        "  print(i)"
      ],
      "metadata": {
        "id": "B0CPgTY9Zzye",
        "colab": {
          "base_uri": "https://localhost:8080/"
        },
        "outputId": "2ac782b0-891c-43a2-d2bb-e557e5825b1d"
      },
      "execution_count": null,
      "outputs": [
        {
          "output_type": "stream",
          "name": "stdout",
          "text": [
            "1\n",
            "2\n",
            "3\n",
            "4\n",
            "5\n",
            "6\n",
            "7\n",
            "8\n",
            "9\n",
            "10\n"
          ]
        }
      ]
    },
    {
      "cell_type": "code",
      "source": [
        "for i in range(0,100 + 5,5):\n",
        "  print(i)"
      ],
      "metadata": {
        "id": "t6R1TzHaZzvt",
        "colab": {
          "base_uri": "https://localhost:8080/"
        },
        "outputId": "c869a51e-ff07-428e-a5f8-7192da7a3f05"
      },
      "execution_count": null,
      "outputs": [
        {
          "output_type": "stream",
          "name": "stdout",
          "text": [
            "0\n",
            "5\n",
            "10\n",
            "15\n",
            "20\n",
            "25\n",
            "30\n",
            "35\n",
            "40\n",
            "45\n",
            "50\n",
            "55\n",
            "60\n",
            "65\n",
            "70\n",
            "75\n",
            "80\n",
            "85\n",
            "90\n",
            "95\n",
            "100\n"
          ]
        }
      ]
    },
    {
      "cell_type": "code",
      "source": [
        "for i in range(0,100 + 10,10):\n",
        "  print(i)"
      ],
      "metadata": {
        "id": "nXrkT-IKZztB",
        "colab": {
          "base_uri": "https://localhost:8080/"
        },
        "outputId": "68745fe8-58f0-4e13-8ac5-ad4ef5537a36"
      },
      "execution_count": null,
      "outputs": [
        {
          "output_type": "stream",
          "name": "stdout",
          "text": [
            "0\n",
            "10\n",
            "20\n",
            "30\n",
            "40\n",
            "50\n",
            "60\n",
            "70\n",
            "80\n",
            "90\n",
            "100\n"
          ]
        }
      ]
    },
    {
      "cell_type": "code",
      "source": [
        "Lista_Paises  = [\"Brasil\",\"Argentina\",\"Uruguai\",\"Paraguai\"]"
      ],
      "metadata": {
        "id": "vpYS5vSNZzqC"
      },
      "execution_count": null,
      "outputs": []
    },
    {
      "cell_type": "code",
      "source": [
        "for i in Lista_Paises:\n",
        "  print(i)"
      ],
      "metadata": {
        "id": "bjrzEeg5ZznF",
        "colab": {
          "base_uri": "https://localhost:8080/"
        },
        "outputId": "81b13885-5788-4002-b35c-315e3320bf2b"
      },
      "execution_count": null,
      "outputs": [
        {
          "output_type": "stream",
          "name": "stdout",
          "text": [
            "Brasil\n",
            "Argentina\n",
            "Uruguai\n",
            "Paraguai\n"
          ]
        }
      ]
    },
    {
      "cell_type": "code",
      "source": [
        "for i in Lista_Paises[1]:\n",
        "  print(i)"
      ],
      "metadata": {
        "id": "jQzmMenWZzj2",
        "colab": {
          "base_uri": "https://localhost:8080/"
        },
        "outputId": "63de9731-578e-4822-d908-010defac776c"
      },
      "execution_count": null,
      "outputs": [
        {
          "output_type": "stream",
          "name": "stdout",
          "text": [
            "A\n",
            "r\n",
            "g\n",
            "e\n",
            "n\n",
            "t\n",
            "i\n",
            "n\n",
            "a\n"
          ]
        }
      ]
    },
    {
      "cell_type": "code",
      "source": [
        "for i in Lista_Paises[2:]:\n",
        "  print(i)"
      ],
      "metadata": {
        "colab": {
          "base_uri": "https://localhost:8080/"
        },
        "id": "37rQFDmvXalY",
        "outputId": "df5cdb9d-c59a-4507-a9ce-c8eef51135d9"
      },
      "execution_count": null,
      "outputs": [
        {
          "output_type": "stream",
          "name": "stdout",
          "text": [
            "Uruguai\n",
            "Paraguai\n"
          ]
        }
      ]
    },
    {
      "cell_type": "code",
      "source": [
        "Lista_Paises  = [\"Brasil\",\"Argentina\",\"Uruguai\",\"Paraguai\",\"Colombia\",\"Bolivia\",\"Equador\"]"
      ],
      "metadata": {
        "id": "4Soi26CbZzhD"
      },
      "execution_count": null,
      "outputs": []
    },
    {
      "cell_type": "code",
      "source": [
        "for i in Lista_Paises:\n",
        "  print(i.upper()[:2])"
      ],
      "metadata": {
        "id": "mB1ZyngVZzeU",
        "colab": {
          "base_uri": "https://localhost:8080/"
        },
        "outputId": "c54a5eec-4542-4834-ee91-23c9b8bd69cb"
      },
      "execution_count": null,
      "outputs": [
        {
          "output_type": "stream",
          "name": "stdout",
          "text": [
            "BR\n",
            "AR\n",
            "UR\n",
            "PA\n",
            "CO\n",
            "BO\n",
            "EQ\n"
          ]
        }
      ]
    },
    {
      "cell_type": "code",
      "source": [
        "Lista_Paises  = [\"Brasil\",\"Argentina\",\"Uruguai\",\"Paraguai\",\"Colombia\",\"Bolivia\",\"Equador\", \"2\"]\n",
        "\n",
        "for i in Lista_Paises:\n",
        "  print(i.upper()[:2])"
      ],
      "metadata": {
        "id": "VqH0x78SZzbK",
        "colab": {
          "base_uri": "https://localhost:8080/"
        },
        "outputId": "e54019db-bf9c-41df-c8f1-5ae50e882b4e"
      },
      "execution_count": null,
      "outputs": [
        {
          "output_type": "stream",
          "name": "stdout",
          "text": [
            "BR\n",
            "AR\n",
            "UR\n",
            "PA\n",
            "CO\n",
            "BO\n",
            "EQ\n",
            "2\n"
          ]
        }
      ]
    },
    {
      "cell_type": "code",
      "source": [
        "Lista_Paises  = [\"Brasil\",\"Argentina\",\"Uruguai\",\"Paraguai\",\"Colombia\",\"Bolivia\",\"Equador\", \"2\"]\n",
        "\n",
        "for Pais in Lista_Paises:\n",
        "  if (Pais == \"Uruguai\"):\n",
        "    print(Pais, \"é bicampeão da copa do mundo\")"
      ],
      "metadata": {
        "colab": {
          "base_uri": "https://localhost:8080/"
        },
        "id": "wMU8hceYVcOU",
        "outputId": "4b488b3b-9973-4139-f23f-34152be761d0"
      },
      "execution_count": null,
      "outputs": [
        {
          "output_type": "stream",
          "name": "stdout",
          "text": [
            "Uruguai é bicampeão da copa do mundo\n"
          ]
        }
      ]
    },
    {
      "cell_type": "code",
      "source": [
        "for i in range(len(Lista_Paises) + 1):\n",
        "  print(i)"
      ],
      "metadata": {
        "colab": {
          "base_uri": "https://localhost:8080/"
        },
        "id": "Iv3YgN4UVsMx",
        "outputId": "21733112-e5e2-4038-d095-a4af85432be8"
      },
      "execution_count": null,
      "outputs": [
        {
          "output_type": "stream",
          "name": "stdout",
          "text": [
            "0\n",
            "1\n",
            "2\n",
            "3\n",
            "4\n",
            "5\n",
            "6\n",
            "7\n",
            "8\n"
          ]
        }
      ]
    },
    {
      "cell_type": "code",
      "source": [
        "for i in range(len(Lista_Paises)):\n",
        "  print(Lista_Paises[i])"
      ],
      "metadata": {
        "colab": {
          "base_uri": "https://localhost:8080/"
        },
        "id": "cIao-jKyWdrw",
        "outputId": "406a9fa9-34f4-4ad0-86b3-deaf448332f3"
      },
      "execution_count": null,
      "outputs": [
        {
          "output_type": "stream",
          "name": "stdout",
          "text": [
            "Brasil\n",
            "Argentina\n",
            "Uruguai\n",
            "Paraguai\n",
            "Colombia\n",
            "Bolivia\n",
            "Equador\n",
            "2\n"
          ]
        }
      ]
    },
    {
      "cell_type": "code",
      "source": [
        "for i in range(0, len(Lista_Paises), 2):\n",
        "  print(Lista_Paises[i])"
      ],
      "metadata": {
        "colab": {
          "base_uri": "https://localhost:8080/"
        },
        "id": "S9yI0Pd8Wgsb",
        "outputId": "c0e57cbe-207f-476b-aa23-bf06cffc69b6"
      },
      "execution_count": null,
      "outputs": [
        {
          "output_type": "stream",
          "name": "stdout",
          "text": [
            "Brasil\n",
            "Uruguai\n",
            "Colombia\n",
            "Equador\n"
          ]
        }
      ]
    },
    {
      "cell_type": "code",
      "source": [
        "for x, Pais in enumerate(Lista_Paises):\n",
        "  print(x, Pais)"
      ],
      "metadata": {
        "colab": {
          "base_uri": "https://localhost:8080/"
        },
        "id": "drPsWoqwW1-y",
        "outputId": "19f50d62-dca0-4da1-9bce-5a8807448098"
      },
      "execution_count": null,
      "outputs": [
        {
          "output_type": "stream",
          "name": "stdout",
          "text": [
            "0 Brasil\n",
            "1 Argentina\n",
            "2 Uruguai\n",
            "3 Paraguai\n",
            "4 Colombia\n",
            "5 Bolivia\n",
            "6 Equador\n",
            "7 2\n"
          ]
        }
      ]
    },
    {
      "cell_type": "code",
      "source": [
        "for Pais in range(len(Lista_Paises)):\n",
        "  print(Pais, Lista_Paises[Pais])"
      ],
      "metadata": {
        "colab": {
          "base_uri": "https://localhost:8080/"
        },
        "id": "-snjkQ_gXkz-",
        "outputId": "dfc0eb63-ea3c-4ddc-cb8d-b4986f24ef40"
      },
      "execution_count": null,
      "outputs": [
        {
          "output_type": "stream",
          "name": "stdout",
          "text": [
            "0 Brasil\n",
            "1 Argentina\n",
            "2 Uruguai\n",
            "3 Paraguai\n",
            "4 Colombia\n",
            "5 Bolivia\n",
            "6 Equador\n",
            "7 2\n"
          ]
        }
      ]
    },
    {
      "cell_type": "code",
      "source": [
        "x = 0\n",
        "\n",
        "for Pais in Lista_Paises:\n",
        "  print(x, Pais)\n",
        "\n",
        "  x += 1"
      ],
      "metadata": {
        "colab": {
          "base_uri": "https://localhost:8080/"
        },
        "id": "ISGTZ2cOYAng",
        "outputId": "50de8e5e-9649-40f1-c9a9-07c3590a43a8"
      },
      "execution_count": null,
      "outputs": [
        {
          "output_type": "stream",
          "name": "stdout",
          "text": [
            "0 Brasil\n",
            "1 Argentina\n",
            "2 Uruguai\n",
            "3 Paraguai\n",
            "4 Colombia\n",
            "5 Bolivia\n",
            "6 Equador\n",
            "7 2\n"
          ]
        }
      ]
    },
    {
      "cell_type": "code",
      "source": [
        "print([Num ** 3  for Num in range(0,10,2)])\n",
        "print(type([Num for Num in range(0,10,2)]))"
      ],
      "metadata": {
        "colab": {
          "base_uri": "https://localhost:8080/"
        },
        "id": "jKcR2ASSYVYF",
        "outputId": "834f8571-c511-460e-97de-5efa413f22eb"
      },
      "execution_count": null,
      "outputs": [
        {
          "output_type": "stream",
          "name": "stdout",
          "text": [
            "[0, 8, 64, 216, 512]\n",
            "<class 'list'>\n"
          ]
        }
      ]
    },
    {
      "cell_type": "code",
      "source": [
        "Lista = [Num ** 2  for Num in range(0,10,2)]\n",
        "Lista"
      ],
      "metadata": {
        "colab": {
          "base_uri": "https://localhost:8080/"
        },
        "id": "G5yVbac2ZOJr",
        "outputId": "57d86e4b-cc4c-4faf-b8ee-0e38f5592569"
      },
      "execution_count": null,
      "outputs": [
        {
          "output_type": "execute_result",
          "data": {
            "text/plain": [
              "[0, 4, 16, 36, 64]"
            ]
          },
          "metadata": {},
          "execution_count": 245
        }
      ]
    },
    {
      "cell_type": "code",
      "source": [
        "Lista = []\n",
        "\n",
        "for i in range(11):\n",
        "  Lista.append(i)\n",
        "\n",
        "print(Lista)"
      ],
      "metadata": {
        "colab": {
          "base_uri": "https://localhost:8080/"
        },
        "id": "eca0fgp3ZOMA",
        "outputId": "0b3bf457-4d25-4850-d50d-f5da680b74ef"
      },
      "execution_count": null,
      "outputs": [
        {
          "output_type": "stream",
          "name": "stdout",
          "text": [
            "[0, 1, 2, 3, 4, 5, 6, 7, 8, 9, 10]\n"
          ]
        }
      ]
    },
    {
      "cell_type": "markdown",
      "source": [
        "#23 - Loop WHILE"
      ],
      "metadata": {
        "id": "NQT8EWP3cDyC"
      }
    },
    {
      "cell_type": "code",
      "source": [
        "Cont = 0\n",
        "\n",
        "while (Cont <= 10):\n",
        "  print(Cont)\n",
        "  Cont += 1"
      ],
      "metadata": {
        "colab": {
          "base_uri": "https://localhost:8080/"
        },
        "collapsed": true,
        "id": "0Gwq8hTeZONw",
        "outputId": "deed9ce8-36bb-4247-b632-2f54e779bdb4"
      },
      "execution_count": null,
      "outputs": [
        {
          "output_type": "stream",
          "name": "stdout",
          "text": [
            "0\n",
            "1\n",
            "2\n",
            "3\n",
            "4\n",
            "5\n",
            "6\n",
            "7\n",
            "8\n",
            "9\n",
            "10\n"
          ]
        }
      ]
    },
    {
      "cell_type": "code",
      "source": [
        "Loop = 0\n",
        "\n",
        "while (Loop <= 10):\n",
        "  print(Loop)\n",
        "\n",
        "  if Loop == 5:\n",
        "    for i in range(10+1):\n",
        "      print(i)\n",
        "\n",
        "  Loop += 1"
      ],
      "metadata": {
        "colab": {
          "base_uri": "https://localhost:8080/"
        },
        "id": "Ic-iLoMfZOSC",
        "outputId": "83803539-e88a-4bdc-ca27-428b06383e12"
      },
      "execution_count": null,
      "outputs": [
        {
          "output_type": "stream",
          "name": "stdout",
          "text": [
            "0\n",
            "1\n",
            "2\n",
            "3\n",
            "4\n",
            "5\n",
            "0\n",
            "1\n",
            "2\n",
            "3\n",
            "4\n",
            "5\n",
            "6\n",
            "7\n",
            "8\n",
            "9\n",
            "10\n",
            "6\n",
            "7\n",
            "8\n",
            "9\n",
            "10\n"
          ]
        }
      ]
    },
    {
      "cell_type": "code",
      "source": [
        "import random as rd\n",
        "\n",
        "c = 0\n",
        "\n",
        "while True:\n",
        "\n",
        "  Jogador_01 = rd.randint(0,5)\n",
        "  Jogador_02 = rd.randint(0,50)\n",
        "\n",
        "  if (Jogador_01 > Jogador_02):\n",
        "    print(\"Jogador 1 ganhou!\")\n",
        "    print(Jogador_01 , \"X\", Jogador_02)\n",
        "    break\n",
        "\n",
        "  c += 1\n",
        "\n",
        "print(c)"
      ],
      "metadata": {
        "colab": {
          "base_uri": "https://localhost:8080/"
        },
        "id": "mpdxd5p7ZOUE",
        "outputId": "6a71f911-339f-46c3-f32f-012dbf1fa855"
      },
      "execution_count": null,
      "outputs": [
        {
          "output_type": "stream",
          "name": "stdout",
          "text": [
            "Jogador 1 ganhou!\n",
            "5 X 2\n",
            "20\n"
          ]
        }
      ]
    },
    {
      "cell_type": "markdown",
      "source": [
        "#24 - Break e Continue"
      ],
      "metadata": {
        "id": "lgLH_azSfktL"
      }
    },
    {
      "cell_type": "code",
      "source": [
        "Lista = [\"Morango\",\"Pera\",\"Uva\",\"Abacaxi\"]\n",
        "\n",
        "for i in Lista:\n",
        "  print(i)"
      ],
      "metadata": {
        "colab": {
          "base_uri": "https://localhost:8080/"
        },
        "id": "CPmUv5AAeY76",
        "outputId": "fc88630d-b782-41c7-ace8-ec0aecac37c7"
      },
      "execution_count": null,
      "outputs": [
        {
          "output_type": "stream",
          "name": "stdout",
          "text": [
            "Morango\n",
            "Pera\n",
            "Uva\n",
            "Abacaxi\n"
          ]
        }
      ]
    },
    {
      "cell_type": "code",
      "source": [
        "Lista = [\"Morango\",\"Pera\",\"Uva\",\"Abacaxi\"]\n",
        "\n",
        "for i in Lista:\n",
        "  print(i)\n",
        "\n",
        "  if (i == \"Uva\"):\n",
        "    break"
      ],
      "metadata": {
        "colab": {
          "base_uri": "https://localhost:8080/"
        },
        "id": "EToHko1jfyYU",
        "outputId": "45cfc3c9-72b0-4814-9e4d-624c4aa6f58f"
      },
      "execution_count": null,
      "outputs": [
        {
          "output_type": "stream",
          "name": "stdout",
          "text": [
            "Morango\n",
            "Pera\n",
            "Uva\n"
          ]
        }
      ]
    },
    {
      "cell_type": "code",
      "source": [
        "for i in range(11):\n",
        "\n",
        "  if (i == 5):\n",
        "    continue\n",
        "    print(\"Cheguei no \", i, \" e já sai\")\n",
        "\n",
        "\n",
        "  print(i)"
      ],
      "metadata": {
        "colab": {
          "base_uri": "https://localhost:8080/"
        },
        "id": "3fjf01NLf6HQ",
        "outputId": "06a0b1be-8a12-4958-9037-099cea42ce1d"
      },
      "execution_count": null,
      "outputs": [
        {
          "output_type": "stream",
          "name": "stdout",
          "text": [
            "0\n",
            "1\n",
            "2\n",
            "3\n",
            "4\n",
            "6\n",
            "7\n",
            "8\n",
            "9\n",
            "10\n"
          ]
        }
      ]
    },
    {
      "cell_type": "markdown",
      "source": [
        "#25 - Funções"
      ],
      "metadata": {
        "id": "863XaSGhgy2W"
      }
    },
    {
      "cell_type": "code",
      "source": [
        "def Boas_vindas():\n",
        "  print(\"Olá 👋!\")"
      ],
      "metadata": {
        "id": "UJ5J1T21gLh4"
      },
      "execution_count": null,
      "outputs": []
    },
    {
      "cell_type": "code",
      "source": [
        "Boas_vindas()"
      ],
      "metadata": {
        "colab": {
          "base_uri": "https://localhost:8080/"
        },
        "id": "DQBhKAmgiZxc",
        "outputId": "f7714f50-590c-4bbb-9beb-366b278949d0"
      },
      "execution_count": null,
      "outputs": [
        {
          "output_type": "stream",
          "name": "stdout",
          "text": [
            "Olá 👋!\n"
          ]
        }
      ]
    },
    {
      "cell_type": "code",
      "source": [
        "def Soma(V1, V2):\n",
        "  Soma = V1 + V2\n",
        "  print(Soma)"
      ],
      "metadata": {
        "id": "a_OCsAZYia5k"
      },
      "execution_count": null,
      "outputs": []
    },
    {
      "cell_type": "code",
      "source": [
        "Soma(1,9)"
      ],
      "metadata": {
        "colab": {
          "base_uri": "https://localhost:8080/"
        },
        "id": "HhN3BsmSisip",
        "outputId": "a1b7fa5b-65ce-4ce6-b190-0d03631eca9d"
      },
      "execution_count": null,
      "outputs": [
        {
          "output_type": "stream",
          "name": "stdout",
          "text": [
            "10\n"
          ]
        }
      ]
    },
    {
      "cell_type": "code",
      "source": [
        "Soma(-1,-9)"
      ],
      "metadata": {
        "colab": {
          "base_uri": "https://localhost:8080/"
        },
        "id": "uIAoP0eqisk0",
        "outputId": "7ca3e195-fe88-447a-9742-eeaf677aae83"
      },
      "execution_count": null,
      "outputs": [
        {
          "output_type": "stream",
          "name": "stdout",
          "text": [
            "-10\n"
          ]
        }
      ]
    },
    {
      "cell_type": "code",
      "source": [
        "Soma(1,-9)"
      ],
      "metadata": {
        "colab": {
          "base_uri": "https://localhost:8080/"
        },
        "id": "-EREPMAbisnI",
        "outputId": "2f4138b1-ed48-45a8-aa34-8b2b87ce9673"
      },
      "execution_count": null,
      "outputs": [
        {
          "output_type": "stream",
          "name": "stdout",
          "text": [
            "-8\n"
          ]
        }
      ]
    },
    {
      "cell_type": "code",
      "source": [
        "Soma(-1,9)"
      ],
      "metadata": {
        "colab": {
          "base_uri": "https://localhost:8080/"
        },
        "id": "PgGJ_0UQisp9",
        "outputId": "30b15b85-581a-425c-d4f4-63e186735e01"
      },
      "execution_count": null,
      "outputs": [
        {
          "output_type": "stream",
          "name": "stdout",
          "text": [
            "8\n"
          ]
        }
      ]
    },
    {
      "cell_type": "code",
      "source": [
        "import random as rd\n",
        "\n",
        "for i in range(11):\n",
        "  V1 = rd.random() * 10\n",
        "  V2 = rd.random() * 10\n",
        "  Soma(V1,V2)"
      ],
      "metadata": {
        "colab": {
          "base_uri": "https://localhost:8080/"
        },
        "id": "JO9WIZXoisul",
        "outputId": "7a23c790-a9cd-4432-80a6-1d501bb4bc8c"
      },
      "execution_count": null,
      "outputs": [
        {
          "output_type": "stream",
          "name": "stdout",
          "text": [
            "10.083749222897831\n",
            "18.42990350472533\n",
            "12.489341261827512\n",
            "11.64877634992426\n",
            "6.264656845026368\n",
            "13.895180765418596\n",
            "8.651257768225348\n",
            "9.495884378208135\n",
            "6.005350555080047\n",
            "2.847200502805034\n",
            "1.7545196653852035\n"
          ]
        }
      ]
    },
    {
      "cell_type": "markdown",
      "source": [
        "#26 - Lambda"
      ],
      "metadata": {
        "id": "t7mCmXnckB9v"
      }
    },
    {
      "cell_type": "code",
      "source": [
        "Funcao_Soma  = lambda valor : valor + 10"
      ],
      "metadata": {
        "id": "qo-0KgmJiswp"
      },
      "execution_count": null,
      "outputs": []
    },
    {
      "cell_type": "code",
      "source": [
        "Funcao_Soma(15)"
      ],
      "metadata": {
        "colab": {
          "base_uri": "https://localhost:8080/"
        },
        "id": "hQAa8Dr2isym",
        "outputId": "f8e6e567-c70d-4bda-a999-73f278cdb3ce"
      },
      "execution_count": null,
      "outputs": [
        {
          "output_type": "execute_result",
          "data": {
            "text/plain": [
              "25"
            ]
          },
          "metadata": {},
          "execution_count": 262
        }
      ]
    },
    {
      "cell_type": "code",
      "source": [
        "Funcao_Soma_02 = lambda Valor_01, Valor_02 : Valor_01 + Valor_02"
      ],
      "metadata": {
        "id": "MMc9v2tRkmz3"
      },
      "execution_count": null,
      "outputs": []
    },
    {
      "cell_type": "code",
      "source": [
        "Funcao_Soma_02(10,5)"
      ],
      "metadata": {
        "colab": {
          "base_uri": "https://localhost:8080/"
        },
        "id": "poQxTPcrk2aY",
        "outputId": "c9594cdb-77d4-41df-cc9e-fe34ca256c7e"
      },
      "execution_count": null,
      "outputs": [
        {
          "output_type": "execute_result",
          "data": {
            "text/plain": [
              "15"
            ]
          },
          "metadata": {},
          "execution_count": 264
        }
      ]
    },
    {
      "cell_type": "code",
      "source": [
        "Funcao_Investimento = lambda Investimento, Juros : (Investimento * Juros) + Investimento"
      ],
      "metadata": {
        "id": "mPTapqz6k3yh"
      },
      "execution_count": null,
      "outputs": []
    },
    {
      "cell_type": "code",
      "source": [
        "Funcao_Investimento(1000,0.2)"
      ],
      "metadata": {
        "colab": {
          "base_uri": "https://localhost:8080/"
        },
        "id": "jEr9B92elTgj",
        "outputId": "113282c6-4798-4826-adcc-d26d153b8fe1"
      },
      "execution_count": null,
      "outputs": [
        {
          "output_type": "execute_result",
          "data": {
            "text/plain": [
              "1200.0"
            ]
          },
          "metadata": {},
          "execution_count": 266
        }
      ]
    },
    {
      "cell_type": "code",
      "source": [
        "Exemplo = lambda Valor : \"Verdadeiro\" if (Valor % 2 == 0) else \"Falso\""
      ],
      "metadata": {
        "id": "0wGZTWvIlVW7"
      },
      "execution_count": null,
      "outputs": []
    },
    {
      "cell_type": "code",
      "source": [
        "Exemplo(5)"
      ],
      "metadata": {
        "colab": {
          "base_uri": "https://localhost:8080/",
          "height": 36
        },
        "id": "boXDYFjFlry1",
        "outputId": "f535a919-af72-458f-aea7-279031f6ff03"
      },
      "execution_count": null,
      "outputs": [
        {
          "output_type": "execute_result",
          "data": {
            "text/plain": [
              "'Falso'"
            ],
            "application/vnd.google.colaboratory.intrinsic+json": {
              "type": "string"
            }
          },
          "metadata": {},
          "execution_count": 268
        }
      ]
    },
    {
      "cell_type": "code",
      "source": [
        "Exemplo(10)"
      ],
      "metadata": {
        "colab": {
          "base_uri": "https://localhost:8080/",
          "height": 36
        },
        "id": "jGROjJhxls_l",
        "outputId": "6e4dfcf3-944f-4488-de87-b0e1bcc53c6a"
      },
      "execution_count": null,
      "outputs": [
        {
          "output_type": "execute_result",
          "data": {
            "text/plain": [
              "'Verdadeiro'"
            ],
            "application/vnd.google.colaboratory.intrinsic+json": {
              "type": "string"
            }
          },
          "metadata": {},
          "execution_count": 269
        }
      ]
    },
    {
      "cell_type": "markdown",
      "source": [
        "#27 - Try"
      ],
      "metadata": {
        "id": "6tcBFddVmSGm"
      }
    },
    {
      "cell_type": "code",
      "source": [
        "try:\n",
        "  0/0\n",
        "  print(\"Sem erro!\")\n",
        "except:\n",
        "  print(\"Erro!\")"
      ],
      "metadata": {
        "colab": {
          "base_uri": "https://localhost:8080/"
        },
        "id": "mgpZPZVFluUV",
        "outputId": "39f87d1e-bec1-44db-ff52-5e11db4bf937"
      },
      "execution_count": null,
      "outputs": [
        {
          "output_type": "stream",
          "name": "stdout",
          "text": [
            "Erro!\n"
          ]
        }
      ]
    },
    {
      "cell_type": "code",
      "source": [
        "try:\n",
        "  #0/0\n",
        "  print(\"Sem erro!\")\n",
        "except:\n",
        "  print(\"Erro!\")"
      ],
      "metadata": {
        "colab": {
          "base_uri": "https://localhost:8080/"
        },
        "id": "0Kx5TIkhmrAS",
        "outputId": "311bd30a-204e-40e9-f451-9a4c7cd6d748"
      },
      "execution_count": null,
      "outputs": [
        {
          "output_type": "stream",
          "name": "stdout",
          "text": [
            "Sem erro!\n"
          ]
        }
      ]
    },
    {
      "cell_type": "code",
      "source": [
        "try:\n",
        "  0/0\n",
        "  print(\"Sem erro!\")\n",
        "\n",
        "except:\n",
        "  print(\"Erro!\")\n",
        "\n",
        "finally:\n",
        "  print(\"Fui executado com e sem erro\")"
      ],
      "metadata": {
        "colab": {
          "base_uri": "https://localhost:8080/"
        },
        "id": "eqeiWyygm9zm",
        "outputId": "f57ba29a-fc75-4bb7-b9ff-5e2313c355d4"
      },
      "execution_count": null,
      "outputs": [
        {
          "output_type": "stream",
          "name": "stdout",
          "text": [
            "Erro!\n",
            "Fui executado com e sem erro\n"
          ]
        }
      ]
    },
    {
      "cell_type": "code",
      "source": [
        "try:\n",
        "  #0/0\n",
        "  print(\"Sem erro!\")\n",
        "\n",
        "except:\n",
        "  print(\"Erro!\")\n",
        "\n",
        "finally:\n",
        "  print(\"Fui executado com e sem erro\")"
      ],
      "metadata": {
        "colab": {
          "base_uri": "https://localhost:8080/"
        },
        "id": "WmXnjRlbm9tu",
        "outputId": "6275d156-5941-424f-f3df-cfb6ffa01b12"
      },
      "execution_count": null,
      "outputs": [
        {
          "output_type": "stream",
          "name": "stdout",
          "text": [
            "Sem erro!\n",
            "Fui executado com e sem erro\n"
          ]
        }
      ]
    },
    {
      "cell_type": "markdown",
      "source": [
        "#28 - Classes"
      ],
      "metadata": {
        "id": "kt7h4X-ZNKiR"
      }
    },
    {
      "cell_type": "code",
      "source": [
        "class Pessoa:\n",
        "\n",
        "#Método construtor\n",
        "  def __init__(self, Nome, Idade):\n",
        "    self.Nome = Nome\n",
        "    self.Idade = Idade\n",
        "\n",
        "#Função\n",
        "\n",
        "  def Boas_vindas(self):\n",
        "    print(f\"Olá {self.Nome}, seja bem-vindo!\")\n",
        "\n",
        "  def Recusado(self):\n",
        "    print(\"Seu acesso foi negado!\")\n",
        "\n",
        "  def Maior_Idade(self):\n",
        "    if (self.Idade >=18):\n",
        "      print(\"Usuário é maior de idade\")\n",
        "      self.Boas_vindas()\n",
        "    else:\n",
        "      print(\"Usuário é menor de idade\")\n",
        "      self.Recusado()"
      ],
      "metadata": {
        "id": "ORS40YFJMZxk"
      },
      "execution_count": null,
      "outputs": []
    },
    {
      "cell_type": "code",
      "source": [
        "Pessoa_1 = Pessoa(\"Paulo\",18)"
      ],
      "metadata": {
        "id": "nvL8-uZwPjAU"
      },
      "execution_count": null,
      "outputs": []
    },
    {
      "cell_type": "code",
      "source": [
        "Pessoa_1.Maior_Idade()"
      ],
      "metadata": {
        "colab": {
          "base_uri": "https://localhost:8080/"
        },
        "id": "r0bJMMjpPjbY",
        "outputId": "e8a6000e-0034-4edc-8429-b7afd091b187"
      },
      "execution_count": null,
      "outputs": [
        {
          "output_type": "stream",
          "name": "stdout",
          "text": [
            "Usuário é maior de idade\n",
            "Olá Paulo, seja bem-vindo!\n"
          ]
        }
      ]
    },
    {
      "cell_type": "code",
      "source": [
        "Pessoa_1 = Pessoa(\"Paulo\",18)"
      ],
      "metadata": {
        "id": "Ro2WFBJzPjeO"
      },
      "execution_count": null,
      "outputs": []
    },
    {
      "cell_type": "code",
      "source": [
        "Pessoa_2 = Pessoa(\"Joao\",14)"
      ],
      "metadata": {
        "id": "DM7-AKJSPjg8"
      },
      "execution_count": null,
      "outputs": []
    },
    {
      "cell_type": "code",
      "source": [
        "Pessoa_1.Maior_Idade()"
      ],
      "metadata": {
        "colab": {
          "base_uri": "https://localhost:8080/"
        },
        "id": "lKLjbN5wPjj-",
        "outputId": "cfd51452-7658-43c5-d24c-ee03fcc7c7c6"
      },
      "execution_count": null,
      "outputs": [
        {
          "output_type": "stream",
          "name": "stdout",
          "text": [
            "Usuário é maior de idade\n",
            "Olá Paulo, seja bem-vindo!\n"
          ]
        }
      ]
    },
    {
      "cell_type": "markdown",
      "source": [
        "#29 - Pacotes/Módulos"
      ],
      "metadata": {
        "id": "0DgrKYr2RLgi"
      }
    },
    {
      "cell_type": "code",
      "source": [
        "#import django\n",
        "#ModuleNotFoundError: No module named 'django'  / Da erro por eu não ter baixado esse pacote\n",
        "\n",
        "#import datetime / Esse funciona por já ter sido baixado"
      ],
      "metadata": {
        "id": "Co0F5P6RPjnj"
      },
      "execution_count": null,
      "outputs": []
    },
    {
      "cell_type": "code",
      "source": [
        "#Sintaxe\n",
        "#pip install (Nome pacote)\n",
        "\n",
        "#Ex"
      ],
      "metadata": {
        "id": "cRQXjHpHRRP-"
      },
      "execution_count": null,
      "outputs": []
    },
    {
      "cell_type": "code",
      "source": [
        "!pip install pandas"
      ],
      "metadata": {
        "colab": {
          "base_uri": "https://localhost:8080/"
        },
        "id": "Yp4e9uuzR6ch",
        "outputId": "ed0b0aa9-23d7-47b1-ff04-48b0544aee25"
      },
      "execution_count": null,
      "outputs": [
        {
          "output_type": "stream",
          "name": "stdout",
          "text": [
            "Requirement already satisfied: pandas in /usr/local/lib/python3.12/dist-packages (2.2.2)\n",
            "Requirement already satisfied: numpy>=1.26.0 in /usr/local/lib/python3.12/dist-packages (from pandas) (2.0.2)\n",
            "Requirement already satisfied: python-dateutil>=2.8.2 in /usr/local/lib/python3.12/dist-packages (from pandas) (2.9.0.post0)\n",
            "Requirement already satisfied: pytz>=2020.1 in /usr/local/lib/python3.12/dist-packages (from pandas) (2025.2)\n",
            "Requirement already satisfied: tzdata>=2022.7 in /usr/local/lib/python3.12/dist-packages (from pandas) (2025.2)\n",
            "Requirement already satisfied: six>=1.5 in /usr/local/lib/python3.12/dist-packages (from python-dateutil>=2.8.2->pandas) (1.17.0)\n"
          ]
        }
      ]
    },
    {
      "cell_type": "markdown",
      "source": [
        "#30 - Print formatado"
      ],
      "metadata": {
        "id": "wZf4aZ82SDkY"
      }
    },
    {
      "cell_type": "code",
      "source": [
        "print(\"A soma de 2 + 2 é:\",2+2)"
      ],
      "metadata": {
        "colab": {
          "base_uri": "https://localhost:8080/"
        },
        "id": "-ql15rX9R73x",
        "outputId": "97b0beb7-38f9-4b95-c33f-7ca276bada6b"
      },
      "execution_count": null,
      "outputs": [
        {
          "output_type": "stream",
          "name": "stdout",
          "text": [
            "A soma de 2 + 2 é: 4\n"
          ]
        }
      ]
    },
    {
      "cell_type": "code",
      "source": [
        "print(f\"A soma de 2 + 2 é: {2 + 2}\")"
      ],
      "metadata": {
        "colab": {
          "base_uri": "https://localhost:8080/"
        },
        "id": "X1L1u7w8SJBK",
        "outputId": "f1ab6aa2-0838-4a29-d450-a3373efc40e8"
      },
      "execution_count": null,
      "outputs": [
        {
          "output_type": "stream",
          "name": "stdout",
          "text": [
            "A soma de 2 + 2 é: 4\n"
          ]
        }
      ]
    },
    {
      "cell_type": "code",
      "source": [
        "print(\"A soma de 2 + 2 é: {}\".format(2+2))"
      ],
      "metadata": {
        "colab": {
          "base_uri": "https://localhost:8080/"
        },
        "id": "iXiCte3ySQ6O",
        "outputId": "91f7aed0-79d2-4f1a-d2bd-65b19e774c31"
      },
      "execution_count": null,
      "outputs": [
        {
          "output_type": "stream",
          "name": "stdout",
          "text": [
            "A soma de 2 + 2 é: 4\n"
          ]
        }
      ]
    },
    {
      "cell_type": "markdown",
      "source": [
        "# Análise de dados com Pandas"
      ],
      "metadata": {
        "id": "T0w0-Ivli8GQ"
      }
    },
    {
      "cell_type": "code",
      "source": [
        "#!pip install polars"
      ],
      "metadata": {
        "id": "BZZULnx3SfGE"
      },
      "execution_count": 4,
      "outputs": []
    },
    {
      "cell_type": "code",
      "source": [
        "import pandas as pd\n",
        "import numpy as np\n",
        "import polars as pl\n",
        "import matplotlib.pyplot as plt\n",
        "pd.set_option(\"display.max_columns\", 100)"
      ],
      "metadata": {
        "id": "7BE6xWCKjCS0"
      },
      "execution_count": 5,
      "outputs": []
    },
    {
      "cell_type": "markdown",
      "source": [
        "Carregando os dados"
      ],
      "metadata": {
        "id": "gDZQS86_kMzv"
      }
    },
    {
      "cell_type": "code",
      "source": [
        "dados = pd.read_csv(\"/content/dados_enem_2021_BA.csv\")"
      ],
      "metadata": {
        "id": "skZOZkx6joXt"
      },
      "execution_count": 6,
      "outputs": []
    },
    {
      "cell_type": "markdown",
      "source": [
        "A base de dados PRECISA ter 266194 linhas e 51 colunas"
      ],
      "metadata": {
        "id": "ox_tnlGWeXDF"
      }
    },
    {
      "cell_type": "code",
      "source": [
        "dados.shape"
      ],
      "metadata": {
        "colab": {
          "base_uri": "https://localhost:8080/"
        },
        "id": "v5O4zHs7eVFN",
        "outputId": "6a8b3d3c-4ce4-400c-821f-bcc5c7c2f17b"
      },
      "execution_count": 7,
      "outputs": [
        {
          "output_type": "execute_result",
          "data": {
            "text/plain": [
              "(266194, 51)"
            ]
          },
          "metadata": {},
          "execution_count": 7
        }
      ]
    },
    {
      "cell_type": "code",
      "source": [
        "#Lendo os 5 primeiros registros\n",
        "dados.head()"
      ],
      "metadata": {
        "id": "tb-74CrajoS8",
        "colab": {
          "base_uri": "https://localhost:8080/",
          "height": 226
        },
        "outputId": "56ddd21d-80df-4fcd-9a27-a344d933f066"
      },
      "execution_count": 8,
      "outputs": [
        {
          "output_type": "execute_result",
          "data": {
            "text/plain": [
              "   NU_INSCRICAO  NU_ANO  TP_FAIXA_ETARIA TP_SEXO  TP_ESTADO_CIVIL  \\\n",
              "0  210051128744    2021                4       F                1   \n",
              "1  210054173438    2021                5       F                1   \n",
              "2  210052118573    2021                3       F                1   \n",
              "3  210052350230    2021               10       F                1   \n",
              "4  210053156861    2021                9       M                1   \n",
              "\n",
              "   TP_COR_RACA  TP_NACIONALIDADE  TP_ST_CONCLUSAO  TP_ANO_CONCLUIU  TP_ESCOLA  \\\n",
              "0            3                 1                2                0          2   \n",
              "1            2                 1                2                0          2   \n",
              "2            3                 1                2                0          2   \n",
              "3            2                 1                1                8          1   \n",
              "4            2                 1                1                5          1   \n",
              "\n",
              "   TP_ENSINO  IN_TREINEIRO  CO_MUNICIPIO_ESC NO_MUNICIPIO_ESC  CO_UF_ESC  \\\n",
              "0        1.0             0               NaN              NaN        NaN   \n",
              "1        1.0             0         2927408.0         Salvador       29.0   \n",
              "2        1.0             0               NaN              NaN        NaN   \n",
              "3        NaN             0               NaN              NaN        NaN   \n",
              "4        NaN             0               NaN              NaN        NaN   \n",
              "\n",
              "  SG_UF_ESC  TP_DEPENDENCIA_ADM_ESC  TP_LOCALIZACAO_ESC  TP_SIT_FUNC_ESC  \\\n",
              "0       NaN                     NaN                 NaN              NaN   \n",
              "1        BA                     1.0                 1.0              1.0   \n",
              "2       NaN                     NaN                 NaN              NaN   \n",
              "3       NaN                     NaN                 NaN              NaN   \n",
              "4       NaN                     NaN                 NaN              NaN   \n",
              "\n",
              "   CO_MUNICIPIO_PROVA NO_MUNICIPIO_PROVA  CO_UF_PROVA SG_UF_PROVA  \\\n",
              "0             2927200        Ruy Barbosa           29          BA   \n",
              "1             2927408           Salvador           29          BA   \n",
              "2             2903201          Barreiras           29          BA   \n",
              "3             2928802      Santo Estêvão           29          BA   \n",
              "4             2910800   Feira de Santana           29          BA   \n",
              "\n",
              "   TP_PRESENCA_CN  TP_PRESENCA_CH  TP_PRESENCA_LC  TP_PRESENCA_MT  \\\n",
              "0               1               1               1               1   \n",
              "1               0               0               0               0   \n",
              "2               1               1               1               1   \n",
              "3               1               1               1               1   \n",
              "4               1               1               1               1   \n",
              "\n",
              "   CO_PROVA_CN  CO_PROVA_CH  CO_PROVA_LC  CO_PROVA_MT  NU_NOTA_CN  NU_NOTA_CH  \\\n",
              "0        909.0        881.0        892.0        899.0       507.6       539.2   \n",
              "1          NaN          NaN          NaN          NaN         NaN         NaN   \n",
              "2        912.0        882.0        891.0        901.0       439.6       437.7   \n",
              "3        911.0        880.0        890.0        902.0       548.1       619.5   \n",
              "4       1014.0       1000.0       1004.0       1010.0       465.2       613.1   \n",
              "\n",
              "   NU_NOTA_LC  NU_NOTA_MT                                TX_RESPOSTAS_CN  \\\n",
              "0       494.6       413.3  BAEDEBDECCEAEDDCBDEDAEECEEEDBDECBDCECBCCDABED   \n",
              "1         NaN         NaN                                            NaN   \n",
              "2       455.9       446.2  BCEDEACAEDCEDCBDDCCAADABADDEBEECBACDCCABBDCCA   \n",
              "3       676.3       386.6  CCAECCADEAADDEDDEECEDDEADDDCACDEDCDCDEADBEDDE   \n",
              "4       522.1       579.6  CDCCBDBBDCBACEBDACBCACADBCBECCEBCDDEBDACEECCD   \n",
              "\n",
              "                                 TX_RESPOSTAS_CH  \\\n",
              "0  EEEBAABCBCDBEAEBEACEDDEDECACBDBCDACECDAECBCBD   \n",
              "1                                            NaN   \n",
              "2  AAEADCDCAAADCBBBAABBEAEDABCDAACDDCBDAAABAABBB   \n",
              "3  DBBEADDCABABCECEAEBEAEDCBCAEABEEDEBBEAABCBDCD   \n",
              "4  CCBAADECCBACBECCBEADAEBEACBEBBEADEBBABDACDEBC   \n",
              "\n",
              "                                     TX_RESPOSTAS_LC  \\\n",
              "0  99999ACAEEEEBDEACDACDEABCEABBDEDBAEEBDEEACDBAC...   \n",
              "1                                                NaN   \n",
              "2  EDBEC99999DDAAEBBDCDBBAABDECAADAEACCDABCEABABE...   \n",
              "3  ABCCA99999DDCACDCACABBEAAEBDAEEBDEEAADACEEDDDB...   \n",
              "4  BADCE99999DABAABBABBBCEDBDCDABEABCBBDCACBABAAA...   \n",
              "\n",
              "                                 TX_RESPOSTAS_MT  TP_LINGUA  \\\n",
              "0  BACEACDACBAAAEDCECABBACDCDBBA.CEABCDADADBECBE          1   \n",
              "1                                            NaN          0   \n",
              "2  EBBEBDCCDDCDCBADABBBCCEABDADCBCCACBDACDCDADCE          0   \n",
              "3  CAAAAAAAAAAAAAAAAAAAAAAAAAAAAAAAAAAAAAAAAAAAA          0   \n",
              "4  CCBACBBCCCCEDDDDCBCCDCACCCBBBDDDBCBADDBCABACA          0   \n",
              "\n",
              "                                  TX_GABARITO_CN  \\\n",
              "0  EDECABEDABCBEBACCDCBBEEBBCBDAAECDCBDCDBBBADCD   \n",
              "1                                            NaN   \n",
              "2  DABCEDEBEEBBCABEDDCBCBECDADCDAACBDCCCDBBBEBAB   \n",
              "3  CDBBBCABEDEDEAAEBACCCBDABCDCBCBDECDADCDBBEEBB   \n",
              "4  CDBBBCABEDEDEAAEBACCCBDABCDCBCBDECDADCDBBEEBB   \n",
              "\n",
              "                                  TX_GABARITO_CH  \\\n",
              "0  BEECCAEABADBCAEBAAEEDDEBBBADBCBAAEEBBBADCCBBA   \n",
              "1                                            NaN   \n",
              "2  EBAAEADBCACBBABEECBAAEEBBBADCBADBCEDDEBBCAEAB   \n",
              "3  BBBAAEECBBABEECEBAAEADBCACAEABEDDEBBBADBCBADC   \n",
              "4  BBBAAEECBBABEECEBAAEADBCACAEABEDDEBBBADBCBADC   \n",
              "\n",
              "                                      TX_GABARITO_LC  \\\n",
              "0  ABBACAAECACDBDDADEBDDCBDCEDBEDDBBBBDCEEAADABAC...   \n",
              "1                                                NaN   \n",
              "2  ACABBACAEADCEADABDACDCEABDDADBEDDDEBBACCDDDCCE...   \n",
              "3  ABBCAEAACADDCACDCADABBBBDEBBACEADCEBDDACEEDDDB...   \n",
              "4  ABBCAEAACADDCACDCADABBBBDEBBACEADCEBDDACEEDDDB...   \n",
              "\n",
              "                                  TX_GABARITO_MT  TP_STATUS_REDACAO  \\\n",
              "0  EEXEBABDDCECCBCCECDCAEBADEABBDBDEDCEDCCADDCAB                1.0   \n",
              "1                                            NaN                NaN   \n",
              "2  DCCAEBABDDCABEECCBCCEXADDCEECDEBADCABBDBDEDCE                1.0   \n",
              "3  ECCCABBDBDDDCEDDCABXEEEBABEDCEDCCAEBADBCCECDA                1.0   \n",
              "4  ECCCABBDBDDDCEDDCABXEEEBABEDCEDCCAEBADBCCECDA                1.0   \n",
              "\n",
              "   NU_NOTA_COMP1  NU_NOTA_COMP2  NU_NOTA_COMP3  NU_NOTA_COMP4  NU_NOTA_COMP5  \\\n",
              "0           80.0          120.0           80.0           80.0           20.0   \n",
              "1            NaN            NaN            NaN            NaN            NaN   \n",
              "2           80.0          120.0           80.0          100.0           80.0   \n",
              "3          120.0          120.0          100.0          120.0          120.0   \n",
              "4          100.0          120.0          100.0          120.0          100.0   \n",
              "\n",
              "   NU_NOTA_REDACAO  \n",
              "0            380.0  \n",
              "1              NaN  \n",
              "2            460.0  \n",
              "3            580.0  \n",
              "4            540.0  "
            ],
            "text/html": [
              "\n",
              "  <div id=\"df-010a2f2f-ca69-403b-90f9-75953f330c42\" class=\"colab-df-container\">\n",
              "    <div>\n",
              "<style scoped>\n",
              "    .dataframe tbody tr th:only-of-type {\n",
              "        vertical-align: middle;\n",
              "    }\n",
              "\n",
              "    .dataframe tbody tr th {\n",
              "        vertical-align: top;\n",
              "    }\n",
              "\n",
              "    .dataframe thead th {\n",
              "        text-align: right;\n",
              "    }\n",
              "</style>\n",
              "<table border=\"1\" class=\"dataframe\">\n",
              "  <thead>\n",
              "    <tr style=\"text-align: right;\">\n",
              "      <th></th>\n",
              "      <th>NU_INSCRICAO</th>\n",
              "      <th>NU_ANO</th>\n",
              "      <th>TP_FAIXA_ETARIA</th>\n",
              "      <th>TP_SEXO</th>\n",
              "      <th>TP_ESTADO_CIVIL</th>\n",
              "      <th>TP_COR_RACA</th>\n",
              "      <th>TP_NACIONALIDADE</th>\n",
              "      <th>TP_ST_CONCLUSAO</th>\n",
              "      <th>TP_ANO_CONCLUIU</th>\n",
              "      <th>TP_ESCOLA</th>\n",
              "      <th>TP_ENSINO</th>\n",
              "      <th>IN_TREINEIRO</th>\n",
              "      <th>CO_MUNICIPIO_ESC</th>\n",
              "      <th>NO_MUNICIPIO_ESC</th>\n",
              "      <th>CO_UF_ESC</th>\n",
              "      <th>SG_UF_ESC</th>\n",
              "      <th>TP_DEPENDENCIA_ADM_ESC</th>\n",
              "      <th>TP_LOCALIZACAO_ESC</th>\n",
              "      <th>TP_SIT_FUNC_ESC</th>\n",
              "      <th>CO_MUNICIPIO_PROVA</th>\n",
              "      <th>NO_MUNICIPIO_PROVA</th>\n",
              "      <th>CO_UF_PROVA</th>\n",
              "      <th>SG_UF_PROVA</th>\n",
              "      <th>TP_PRESENCA_CN</th>\n",
              "      <th>TP_PRESENCA_CH</th>\n",
              "      <th>TP_PRESENCA_LC</th>\n",
              "      <th>TP_PRESENCA_MT</th>\n",
              "      <th>CO_PROVA_CN</th>\n",
              "      <th>CO_PROVA_CH</th>\n",
              "      <th>CO_PROVA_LC</th>\n",
              "      <th>CO_PROVA_MT</th>\n",
              "      <th>NU_NOTA_CN</th>\n",
              "      <th>NU_NOTA_CH</th>\n",
              "      <th>NU_NOTA_LC</th>\n",
              "      <th>NU_NOTA_MT</th>\n",
              "      <th>TX_RESPOSTAS_CN</th>\n",
              "      <th>TX_RESPOSTAS_CH</th>\n",
              "      <th>TX_RESPOSTAS_LC</th>\n",
              "      <th>TX_RESPOSTAS_MT</th>\n",
              "      <th>TP_LINGUA</th>\n",
              "      <th>TX_GABARITO_CN</th>\n",
              "      <th>TX_GABARITO_CH</th>\n",
              "      <th>TX_GABARITO_LC</th>\n",
              "      <th>TX_GABARITO_MT</th>\n",
              "      <th>TP_STATUS_REDACAO</th>\n",
              "      <th>NU_NOTA_COMP1</th>\n",
              "      <th>NU_NOTA_COMP2</th>\n",
              "      <th>NU_NOTA_COMP3</th>\n",
              "      <th>NU_NOTA_COMP4</th>\n",
              "      <th>NU_NOTA_COMP5</th>\n",
              "      <th>NU_NOTA_REDACAO</th>\n",
              "    </tr>\n",
              "  </thead>\n",
              "  <tbody>\n",
              "    <tr>\n",
              "      <th>0</th>\n",
              "      <td>210051128744</td>\n",
              "      <td>2021</td>\n",
              "      <td>4</td>\n",
              "      <td>F</td>\n",
              "      <td>1</td>\n",
              "      <td>3</td>\n",
              "      <td>1</td>\n",
              "      <td>2</td>\n",
              "      <td>0</td>\n",
              "      <td>2</td>\n",
              "      <td>1.0</td>\n",
              "      <td>0</td>\n",
              "      <td>NaN</td>\n",
              "      <td>NaN</td>\n",
              "      <td>NaN</td>\n",
              "      <td>NaN</td>\n",
              "      <td>NaN</td>\n",
              "      <td>NaN</td>\n",
              "      <td>NaN</td>\n",
              "      <td>2927200</td>\n",
              "      <td>Ruy Barbosa</td>\n",
              "      <td>29</td>\n",
              "      <td>BA</td>\n",
              "      <td>1</td>\n",
              "      <td>1</td>\n",
              "      <td>1</td>\n",
              "      <td>1</td>\n",
              "      <td>909.0</td>\n",
              "      <td>881.0</td>\n",
              "      <td>892.0</td>\n",
              "      <td>899.0</td>\n",
              "      <td>507.6</td>\n",
              "      <td>539.2</td>\n",
              "      <td>494.6</td>\n",
              "      <td>413.3</td>\n",
              "      <td>BAEDEBDECCEAEDDCBDEDAEECEEEDBDECBDCECBCCDABED</td>\n",
              "      <td>EEEBAABCBCDBEAEBEACEDDEDECACBDBCDACECDAECBCBD</td>\n",
              "      <td>99999ACAEEEEBDEACDACDEABCEABBDEDBAEEBDEEACDBAC...</td>\n",
              "      <td>BACEACDACBAAAEDCECABBACDCDBBA.CEABCDADADBECBE</td>\n",
              "      <td>1</td>\n",
              "      <td>EDECABEDABCBEBACCDCBBEEBBCBDAAECDCBDCDBBBADCD</td>\n",
              "      <td>BEECCAEABADBCAEBAAEEDDEBBBADBCBAAEEBBBADCCBBA</td>\n",
              "      <td>ABBACAAECACDBDDADEBDDCBDCEDBEDDBBBBDCEEAADABAC...</td>\n",
              "      <td>EEXEBABDDCECCBCCECDCAEBADEABBDBDEDCEDCCADDCAB</td>\n",
              "      <td>1.0</td>\n",
              "      <td>80.0</td>\n",
              "      <td>120.0</td>\n",
              "      <td>80.0</td>\n",
              "      <td>80.0</td>\n",
              "      <td>20.0</td>\n",
              "      <td>380.0</td>\n",
              "    </tr>\n",
              "    <tr>\n",
              "      <th>1</th>\n",
              "      <td>210054173438</td>\n",
              "      <td>2021</td>\n",
              "      <td>5</td>\n",
              "      <td>F</td>\n",
              "      <td>1</td>\n",
              "      <td>2</td>\n",
              "      <td>1</td>\n",
              "      <td>2</td>\n",
              "      <td>0</td>\n",
              "      <td>2</td>\n",
              "      <td>1.0</td>\n",
              "      <td>0</td>\n",
              "      <td>2927408.0</td>\n",
              "      <td>Salvador</td>\n",
              "      <td>29.0</td>\n",
              "      <td>BA</td>\n",
              "      <td>1.0</td>\n",
              "      <td>1.0</td>\n",
              "      <td>1.0</td>\n",
              "      <td>2927408</td>\n",
              "      <td>Salvador</td>\n",
              "      <td>29</td>\n",
              "      <td>BA</td>\n",
              "      <td>0</td>\n",
              "      <td>0</td>\n",
              "      <td>0</td>\n",
              "      <td>0</td>\n",
              "      <td>NaN</td>\n",
              "      <td>NaN</td>\n",
              "      <td>NaN</td>\n",
              "      <td>NaN</td>\n",
              "      <td>NaN</td>\n",
              "      <td>NaN</td>\n",
              "      <td>NaN</td>\n",
              "      <td>NaN</td>\n",
              "      <td>NaN</td>\n",
              "      <td>NaN</td>\n",
              "      <td>NaN</td>\n",
              "      <td>NaN</td>\n",
              "      <td>0</td>\n",
              "      <td>NaN</td>\n",
              "      <td>NaN</td>\n",
              "      <td>NaN</td>\n",
              "      <td>NaN</td>\n",
              "      <td>NaN</td>\n",
              "      <td>NaN</td>\n",
              "      <td>NaN</td>\n",
              "      <td>NaN</td>\n",
              "      <td>NaN</td>\n",
              "      <td>NaN</td>\n",
              "      <td>NaN</td>\n",
              "    </tr>\n",
              "    <tr>\n",
              "      <th>2</th>\n",
              "      <td>210052118573</td>\n",
              "      <td>2021</td>\n",
              "      <td>3</td>\n",
              "      <td>F</td>\n",
              "      <td>1</td>\n",
              "      <td>3</td>\n",
              "      <td>1</td>\n",
              "      <td>2</td>\n",
              "      <td>0</td>\n",
              "      <td>2</td>\n",
              "      <td>1.0</td>\n",
              "      <td>0</td>\n",
              "      <td>NaN</td>\n",
              "      <td>NaN</td>\n",
              "      <td>NaN</td>\n",
              "      <td>NaN</td>\n",
              "      <td>NaN</td>\n",
              "      <td>NaN</td>\n",
              "      <td>NaN</td>\n",
              "      <td>2903201</td>\n",
              "      <td>Barreiras</td>\n",
              "      <td>29</td>\n",
              "      <td>BA</td>\n",
              "      <td>1</td>\n",
              "      <td>1</td>\n",
              "      <td>1</td>\n",
              "      <td>1</td>\n",
              "      <td>912.0</td>\n",
              "      <td>882.0</td>\n",
              "      <td>891.0</td>\n",
              "      <td>901.0</td>\n",
              "      <td>439.6</td>\n",
              "      <td>437.7</td>\n",
              "      <td>455.9</td>\n",
              "      <td>446.2</td>\n",
              "      <td>BCEDEACAEDCEDCBDDCCAADABADDEBEECBACDCCABBDCCA</td>\n",
              "      <td>AAEADCDCAAADCBBBAABBEAEDABCDAACDDCBDAAABAABBB</td>\n",
              "      <td>EDBEC99999DDAAEBBDCDBBAABDECAADAEACCDABCEABABE...</td>\n",
              "      <td>EBBEBDCCDDCDCBADABBBCCEABDADCBCCACBDACDCDADCE</td>\n",
              "      <td>0</td>\n",
              "      <td>DABCEDEBEEBBCABEDDCBCBECDADCDAACBDCCCDBBBEBAB</td>\n",
              "      <td>EBAAEADBCACBBABEECBAAEEBBBADCBADBCEDDEBBCAEAB</td>\n",
              "      <td>ACABBACAEADCEADABDACDCEABDDADBEDDDEBBACCDDDCCE...</td>\n",
              "      <td>DCCAEBABDDCABEECCBCCEXADDCEECDEBADCABBDBDEDCE</td>\n",
              "      <td>1.0</td>\n",
              "      <td>80.0</td>\n",
              "      <td>120.0</td>\n",
              "      <td>80.0</td>\n",
              "      <td>100.0</td>\n",
              "      <td>80.0</td>\n",
              "      <td>460.0</td>\n",
              "    </tr>\n",
              "    <tr>\n",
              "      <th>3</th>\n",
              "      <td>210052350230</td>\n",
              "      <td>2021</td>\n",
              "      <td>10</td>\n",
              "      <td>F</td>\n",
              "      <td>1</td>\n",
              "      <td>2</td>\n",
              "      <td>1</td>\n",
              "      <td>1</td>\n",
              "      <td>8</td>\n",
              "      <td>1</td>\n",
              "      <td>NaN</td>\n",
              "      <td>0</td>\n",
              "      <td>NaN</td>\n",
              "      <td>NaN</td>\n",
              "      <td>NaN</td>\n",
              "      <td>NaN</td>\n",
              "      <td>NaN</td>\n",
              "      <td>NaN</td>\n",
              "      <td>NaN</td>\n",
              "      <td>2928802</td>\n",
              "      <td>Santo Estêvão</td>\n",
              "      <td>29</td>\n",
              "      <td>BA</td>\n",
              "      <td>1</td>\n",
              "      <td>1</td>\n",
              "      <td>1</td>\n",
              "      <td>1</td>\n",
              "      <td>911.0</td>\n",
              "      <td>880.0</td>\n",
              "      <td>890.0</td>\n",
              "      <td>902.0</td>\n",
              "      <td>548.1</td>\n",
              "      <td>619.5</td>\n",
              "      <td>676.3</td>\n",
              "      <td>386.6</td>\n",
              "      <td>CCAECCADEAADDEDDEECEDDEADDDCACDEDCDCDEADBEDDE</td>\n",
              "      <td>DBBEADDCABABCECEAEBEAEDCBCAEABEEDEBBEAABCBDCD</td>\n",
              "      <td>ABCCA99999DDCACDCACABBEAAEBDAEEBDEEAADACEEDDDB...</td>\n",
              "      <td>CAAAAAAAAAAAAAAAAAAAAAAAAAAAAAAAAAAAAAAAAAAAA</td>\n",
              "      <td>0</td>\n",
              "      <td>CDBBBCABEDEDEAAEBACCCBDABCDCBCBDECDADCDBBEEBB</td>\n",
              "      <td>BBBAAEECBBABEECEBAAEADBCACAEABEDDEBBBADBCBADC</td>\n",
              "      <td>ABBCAEAACADDCACDCADABBBBDEBBACEADCEBDDACEEDDDB...</td>\n",
              "      <td>ECCCABBDBDDDCEDDCABXEEEBABEDCEDCCAEBADBCCECDA</td>\n",
              "      <td>1.0</td>\n",
              "      <td>120.0</td>\n",
              "      <td>120.0</td>\n",
              "      <td>100.0</td>\n",
              "      <td>120.0</td>\n",
              "      <td>120.0</td>\n",
              "      <td>580.0</td>\n",
              "    </tr>\n",
              "    <tr>\n",
              "      <th>4</th>\n",
              "      <td>210053156861</td>\n",
              "      <td>2021</td>\n",
              "      <td>9</td>\n",
              "      <td>M</td>\n",
              "      <td>1</td>\n",
              "      <td>2</td>\n",
              "      <td>1</td>\n",
              "      <td>1</td>\n",
              "      <td>5</td>\n",
              "      <td>1</td>\n",
              "      <td>NaN</td>\n",
              "      <td>0</td>\n",
              "      <td>NaN</td>\n",
              "      <td>NaN</td>\n",
              "      <td>NaN</td>\n",
              "      <td>NaN</td>\n",
              "      <td>NaN</td>\n",
              "      <td>NaN</td>\n",
              "      <td>NaN</td>\n",
              "      <td>2910800</td>\n",
              "      <td>Feira de Santana</td>\n",
              "      <td>29</td>\n",
              "      <td>BA</td>\n",
              "      <td>1</td>\n",
              "      <td>1</td>\n",
              "      <td>1</td>\n",
              "      <td>1</td>\n",
              "      <td>1014.0</td>\n",
              "      <td>1000.0</td>\n",
              "      <td>1004.0</td>\n",
              "      <td>1010.0</td>\n",
              "      <td>465.2</td>\n",
              "      <td>613.1</td>\n",
              "      <td>522.1</td>\n",
              "      <td>579.6</td>\n",
              "      <td>CDCCBDBBDCBACEBDACBCACADBCBECCEBCDDEBDACEECCD</td>\n",
              "      <td>CCBAADECCBACBECCBEADAEBEACBEBBEADEBBABDACDEBC</td>\n",
              "      <td>BADCE99999DABAABBABBBCEDBDCDABEABCBBDCACBABAAA...</td>\n",
              "      <td>CCBACBBCCCCEDDDDCBCCDCACCCBBBDDDBCBADDBCABACA</td>\n",
              "      <td>0</td>\n",
              "      <td>CDBBBCABEDEDEAAEBACCCBDABCDCBCBDECDADCDBBEEBB</td>\n",
              "      <td>BBBAAEECBBABEECEBAAEADBCACAEABEDDEBBBADBCBADC</td>\n",
              "      <td>ABBCAEAACADDCACDCADABBBBDEBBACEADCEBDDACEEDDDB...</td>\n",
              "      <td>ECCCABBDBDDDCEDDCABXEEEBABEDCEDCCAEBADBCCECDA</td>\n",
              "      <td>1.0</td>\n",
              "      <td>100.0</td>\n",
              "      <td>120.0</td>\n",
              "      <td>100.0</td>\n",
              "      <td>120.0</td>\n",
              "      <td>100.0</td>\n",
              "      <td>540.0</td>\n",
              "    </tr>\n",
              "  </tbody>\n",
              "</table>\n",
              "</div>\n",
              "    <div class=\"colab-df-buttons\">\n",
              "\n",
              "  <div class=\"colab-df-container\">\n",
              "    <button class=\"colab-df-convert\" onclick=\"convertToInteractive('df-010a2f2f-ca69-403b-90f9-75953f330c42')\"\n",
              "            title=\"Convert this dataframe to an interactive table.\"\n",
              "            style=\"display:none;\">\n",
              "\n",
              "  <svg xmlns=\"http://www.w3.org/2000/svg\" height=\"24px\" viewBox=\"0 -960 960 960\">\n",
              "    <path d=\"M120-120v-720h720v720H120Zm60-500h600v-160H180v160Zm220 220h160v-160H400v160Zm0 220h160v-160H400v160ZM180-400h160v-160H180v160Zm440 0h160v-160H620v160ZM180-180h160v-160H180v160Zm440 0h160v-160H620v160Z\"/>\n",
              "  </svg>\n",
              "    </button>\n",
              "\n",
              "  <style>\n",
              "    .colab-df-container {\n",
              "      display:flex;\n",
              "      gap: 12px;\n",
              "    }\n",
              "\n",
              "    .colab-df-convert {\n",
              "      background-color: #E8F0FE;\n",
              "      border: none;\n",
              "      border-radius: 50%;\n",
              "      cursor: pointer;\n",
              "      display: none;\n",
              "      fill: #1967D2;\n",
              "      height: 32px;\n",
              "      padding: 0 0 0 0;\n",
              "      width: 32px;\n",
              "    }\n",
              "\n",
              "    .colab-df-convert:hover {\n",
              "      background-color: #E2EBFA;\n",
              "      box-shadow: 0px 1px 2px rgba(60, 64, 67, 0.3), 0px 1px 3px 1px rgba(60, 64, 67, 0.15);\n",
              "      fill: #174EA6;\n",
              "    }\n",
              "\n",
              "    .colab-df-buttons div {\n",
              "      margin-bottom: 4px;\n",
              "    }\n",
              "\n",
              "    [theme=dark] .colab-df-convert {\n",
              "      background-color: #3B4455;\n",
              "      fill: #D2E3FC;\n",
              "    }\n",
              "\n",
              "    [theme=dark] .colab-df-convert:hover {\n",
              "      background-color: #434B5C;\n",
              "      box-shadow: 0px 1px 3px 1px rgba(0, 0, 0, 0.15);\n",
              "      filter: drop-shadow(0px 1px 2px rgba(0, 0, 0, 0.3));\n",
              "      fill: #FFFFFF;\n",
              "    }\n",
              "  </style>\n",
              "\n",
              "    <script>\n",
              "      const buttonEl =\n",
              "        document.querySelector('#df-010a2f2f-ca69-403b-90f9-75953f330c42 button.colab-df-convert');\n",
              "      buttonEl.style.display =\n",
              "        google.colab.kernel.accessAllowed ? 'block' : 'none';\n",
              "\n",
              "      async function convertToInteractive(key) {\n",
              "        const element = document.querySelector('#df-010a2f2f-ca69-403b-90f9-75953f330c42');\n",
              "        const dataTable =\n",
              "          await google.colab.kernel.invokeFunction('convertToInteractive',\n",
              "                                                    [key], {});\n",
              "        if (!dataTable) return;\n",
              "\n",
              "        const docLinkHtml = 'Like what you see? Visit the ' +\n",
              "          '<a target=\"_blank\" href=https://colab.research.google.com/notebooks/data_table.ipynb>data table notebook</a>'\n",
              "          + ' to learn more about interactive tables.';\n",
              "        element.innerHTML = '';\n",
              "        dataTable['output_type'] = 'display_data';\n",
              "        await google.colab.output.renderOutput(dataTable, element);\n",
              "        const docLink = document.createElement('div');\n",
              "        docLink.innerHTML = docLinkHtml;\n",
              "        element.appendChild(docLink);\n",
              "      }\n",
              "    </script>\n",
              "  </div>\n",
              "\n",
              "\n",
              "    <div id=\"df-593c0d41-3e3d-471d-bd8a-55a815e51703\">\n",
              "      <button class=\"colab-df-quickchart\" onclick=\"quickchart('df-593c0d41-3e3d-471d-bd8a-55a815e51703')\"\n",
              "                title=\"Suggest charts\"\n",
              "                style=\"display:none;\">\n",
              "\n",
              "<svg xmlns=\"http://www.w3.org/2000/svg\" height=\"24px\"viewBox=\"0 0 24 24\"\n",
              "     width=\"24px\">\n",
              "    <g>\n",
              "        <path d=\"M19 3H5c-1.1 0-2 .9-2 2v14c0 1.1.9 2 2 2h14c1.1 0 2-.9 2-2V5c0-1.1-.9-2-2-2zM9 17H7v-7h2v7zm4 0h-2V7h2v10zm4 0h-2v-4h2v4z\"/>\n",
              "    </g>\n",
              "</svg>\n",
              "      </button>\n",
              "\n",
              "<style>\n",
              "  .colab-df-quickchart {\n",
              "      --bg-color: #E8F0FE;\n",
              "      --fill-color: #1967D2;\n",
              "      --hover-bg-color: #E2EBFA;\n",
              "      --hover-fill-color: #174EA6;\n",
              "      --disabled-fill-color: #AAA;\n",
              "      --disabled-bg-color: #DDD;\n",
              "  }\n",
              "\n",
              "  [theme=dark] .colab-df-quickchart {\n",
              "      --bg-color: #3B4455;\n",
              "      --fill-color: #D2E3FC;\n",
              "      --hover-bg-color: #434B5C;\n",
              "      --hover-fill-color: #FFFFFF;\n",
              "      --disabled-bg-color: #3B4455;\n",
              "      --disabled-fill-color: #666;\n",
              "  }\n",
              "\n",
              "  .colab-df-quickchart {\n",
              "    background-color: var(--bg-color);\n",
              "    border: none;\n",
              "    border-radius: 50%;\n",
              "    cursor: pointer;\n",
              "    display: none;\n",
              "    fill: var(--fill-color);\n",
              "    height: 32px;\n",
              "    padding: 0;\n",
              "    width: 32px;\n",
              "  }\n",
              "\n",
              "  .colab-df-quickchart:hover {\n",
              "    background-color: var(--hover-bg-color);\n",
              "    box-shadow: 0 1px 2px rgba(60, 64, 67, 0.3), 0 1px 3px 1px rgba(60, 64, 67, 0.15);\n",
              "    fill: var(--button-hover-fill-color);\n",
              "  }\n",
              "\n",
              "  .colab-df-quickchart-complete:disabled,\n",
              "  .colab-df-quickchart-complete:disabled:hover {\n",
              "    background-color: var(--disabled-bg-color);\n",
              "    fill: var(--disabled-fill-color);\n",
              "    box-shadow: none;\n",
              "  }\n",
              "\n",
              "  .colab-df-spinner {\n",
              "    border: 2px solid var(--fill-color);\n",
              "    border-color: transparent;\n",
              "    border-bottom-color: var(--fill-color);\n",
              "    animation:\n",
              "      spin 1s steps(1) infinite;\n",
              "  }\n",
              "\n",
              "  @keyframes spin {\n",
              "    0% {\n",
              "      border-color: transparent;\n",
              "      border-bottom-color: var(--fill-color);\n",
              "      border-left-color: var(--fill-color);\n",
              "    }\n",
              "    20% {\n",
              "      border-color: transparent;\n",
              "      border-left-color: var(--fill-color);\n",
              "      border-top-color: var(--fill-color);\n",
              "    }\n",
              "    30% {\n",
              "      border-color: transparent;\n",
              "      border-left-color: var(--fill-color);\n",
              "      border-top-color: var(--fill-color);\n",
              "      border-right-color: var(--fill-color);\n",
              "    }\n",
              "    40% {\n",
              "      border-color: transparent;\n",
              "      border-right-color: var(--fill-color);\n",
              "      border-top-color: var(--fill-color);\n",
              "    }\n",
              "    60% {\n",
              "      border-color: transparent;\n",
              "      border-right-color: var(--fill-color);\n",
              "    }\n",
              "    80% {\n",
              "      border-color: transparent;\n",
              "      border-right-color: var(--fill-color);\n",
              "      border-bottom-color: var(--fill-color);\n",
              "    }\n",
              "    90% {\n",
              "      border-color: transparent;\n",
              "      border-bottom-color: var(--fill-color);\n",
              "    }\n",
              "  }\n",
              "</style>\n",
              "\n",
              "      <script>\n",
              "        async function quickchart(key) {\n",
              "          const quickchartButtonEl =\n",
              "            document.querySelector('#' + key + ' button');\n",
              "          quickchartButtonEl.disabled = true;  // To prevent multiple clicks.\n",
              "          quickchartButtonEl.classList.add('colab-df-spinner');\n",
              "          try {\n",
              "            const charts = await google.colab.kernel.invokeFunction(\n",
              "                'suggestCharts', [key], {});\n",
              "          } catch (error) {\n",
              "            console.error('Error during call to suggestCharts:', error);\n",
              "          }\n",
              "          quickchartButtonEl.classList.remove('colab-df-spinner');\n",
              "          quickchartButtonEl.classList.add('colab-df-quickchart-complete');\n",
              "        }\n",
              "        (() => {\n",
              "          let quickchartButtonEl =\n",
              "            document.querySelector('#df-593c0d41-3e3d-471d-bd8a-55a815e51703 button');\n",
              "          quickchartButtonEl.style.display =\n",
              "            google.colab.kernel.accessAllowed ? 'block' : 'none';\n",
              "        })();\n",
              "      </script>\n",
              "    </div>\n",
              "\n",
              "    </div>\n",
              "  </div>\n"
            ],
            "application/vnd.google.colaboratory.intrinsic+json": {
              "type": "dataframe",
              "variable_name": "dados"
            }
          },
          "metadata": {},
          "execution_count": 8
        }
      ]
    },
    {
      "cell_type": "code",
      "source": [
        "#Lendo os 5 últimos registros\n",
        "dados.tail()"
      ],
      "metadata": {
        "colab": {
          "base_uri": "https://localhost:8080/",
          "height": 226
        },
        "id": "9nszqjeFK-A_",
        "outputId": "d5e37ad3-bc89-4055-b77f-805da4da75b3"
      },
      "execution_count": 9,
      "outputs": [
        {
          "output_type": "execute_result",
          "data": {
            "text/plain": [
              "        NU_INSCRICAO  NU_ANO  TP_FAIXA_ETARIA TP_SEXO  TP_ESTADO_CIVIL  \\\n",
              "266189  210051432069    2021               12       M                1   \n",
              "266190  210051106175    2021               14       M                2   \n",
              "266191  210051995005    2021               11       M                0   \n",
              "266192  210053234415    2021               12       M                2   \n",
              "266193  210054027870    2021                5       F                1   \n",
              "\n",
              "        TP_COR_RACA  TP_NACIONALIDADE  TP_ST_CONCLUSAO  TP_ANO_CONCLUIU  \\\n",
              "266189            3                 1                1                0   \n",
              "266190            2                 1                1                0   \n",
              "266191            2                 1                1               12   \n",
              "266192            2                 1                1               15   \n",
              "266193            2                 1                1                2   \n",
              "\n",
              "        TP_ESCOLA  TP_ENSINO  IN_TREINEIRO  CO_MUNICIPIO_ESC NO_MUNICIPIO_ESC  \\\n",
              "266189          1        NaN             0               NaN              NaN   \n",
              "266190          1        NaN             0               NaN              NaN   \n",
              "266191          1        NaN             0               NaN              NaN   \n",
              "266192          1        NaN             0               NaN              NaN   \n",
              "266193          1        NaN             0               NaN              NaN   \n",
              "\n",
              "        CO_UF_ESC SG_UF_ESC  TP_DEPENDENCIA_ADM_ESC  TP_LOCALIZACAO_ESC  \\\n",
              "266189        NaN       NaN                     NaN                 NaN   \n",
              "266190        NaN       NaN                     NaN                 NaN   \n",
              "266191        NaN       NaN                     NaN                 NaN   \n",
              "266192        NaN       NaN                     NaN                 NaN   \n",
              "266193        NaN       NaN                     NaN                 NaN   \n",
              "\n",
              "        TP_SIT_FUNC_ESC  CO_MUNICIPIO_PROVA NO_MUNICIPIO_PROVA  CO_UF_PROVA  \\\n",
              "266189              NaN             2900702         Alagoinhas           29   \n",
              "266190              NaN             2918407           Juazeiro           29   \n",
              "266191              NaN             2927408           Salvador           29   \n",
              "266192              NaN             2927408           Salvador           29   \n",
              "266193              NaN             2927408           Salvador           29   \n",
              "\n",
              "       SG_UF_PROVA  TP_PRESENCA_CN  TP_PRESENCA_CH  TP_PRESENCA_LC  \\\n",
              "266189          BA               0               0               0   \n",
              "266190          BA               0               0               0   \n",
              "266191          BA               0               0               0   \n",
              "266192          BA               0               0               0   \n",
              "266193          BA               0               0               0   \n",
              "\n",
              "        TP_PRESENCA_MT  CO_PROVA_CN  CO_PROVA_CH  CO_PROVA_LC  CO_PROVA_MT  \\\n",
              "266189               0          NaN          NaN          NaN          NaN   \n",
              "266190               0          NaN          NaN          NaN          NaN   \n",
              "266191               0          NaN          NaN          NaN          NaN   \n",
              "266192               0          NaN          NaN          NaN          NaN   \n",
              "266193               0          NaN          NaN          NaN          NaN   \n",
              "\n",
              "        NU_NOTA_CN  NU_NOTA_CH  NU_NOTA_LC  NU_NOTA_MT TX_RESPOSTAS_CN  \\\n",
              "266189         NaN         NaN         NaN         NaN             NaN   \n",
              "266190         NaN         NaN         NaN         NaN             NaN   \n",
              "266191         NaN         NaN         NaN         NaN             NaN   \n",
              "266192         NaN         NaN         NaN         NaN             NaN   \n",
              "266193         NaN         NaN         NaN         NaN             NaN   \n",
              "\n",
              "       TX_RESPOSTAS_CH TX_RESPOSTAS_LC TX_RESPOSTAS_MT  TP_LINGUA  \\\n",
              "266189             NaN             NaN             NaN          1   \n",
              "266190             NaN             NaN             NaN          1   \n",
              "266191             NaN             NaN             NaN          1   \n",
              "266192             NaN             NaN             NaN          1   \n",
              "266193             NaN             NaN             NaN          0   \n",
              "\n",
              "       TX_GABARITO_CN TX_GABARITO_CH TX_GABARITO_LC TX_GABARITO_MT  \\\n",
              "266189            NaN            NaN            NaN            NaN   \n",
              "266190            NaN            NaN            NaN            NaN   \n",
              "266191            NaN            NaN            NaN            NaN   \n",
              "266192            NaN            NaN            NaN            NaN   \n",
              "266193            NaN            NaN            NaN            NaN   \n",
              "\n",
              "        TP_STATUS_REDACAO  NU_NOTA_COMP1  NU_NOTA_COMP2  NU_NOTA_COMP3  \\\n",
              "266189                NaN            NaN            NaN            NaN   \n",
              "266190                NaN            NaN            NaN            NaN   \n",
              "266191                NaN            NaN            NaN            NaN   \n",
              "266192                NaN            NaN            NaN            NaN   \n",
              "266193                NaN            NaN            NaN            NaN   \n",
              "\n",
              "        NU_NOTA_COMP4  NU_NOTA_COMP5  NU_NOTA_REDACAO  \n",
              "266189            NaN            NaN              NaN  \n",
              "266190            NaN            NaN              NaN  \n",
              "266191            NaN            NaN              NaN  \n",
              "266192            NaN            NaN              NaN  \n",
              "266193            NaN            NaN              NaN  "
            ],
            "text/html": [
              "\n",
              "  <div id=\"df-b3a6dd78-00bf-4069-814f-06483ac0aeaa\" class=\"colab-df-container\">\n",
              "    <div>\n",
              "<style scoped>\n",
              "    .dataframe tbody tr th:only-of-type {\n",
              "        vertical-align: middle;\n",
              "    }\n",
              "\n",
              "    .dataframe tbody tr th {\n",
              "        vertical-align: top;\n",
              "    }\n",
              "\n",
              "    .dataframe thead th {\n",
              "        text-align: right;\n",
              "    }\n",
              "</style>\n",
              "<table border=\"1\" class=\"dataframe\">\n",
              "  <thead>\n",
              "    <tr style=\"text-align: right;\">\n",
              "      <th></th>\n",
              "      <th>NU_INSCRICAO</th>\n",
              "      <th>NU_ANO</th>\n",
              "      <th>TP_FAIXA_ETARIA</th>\n",
              "      <th>TP_SEXO</th>\n",
              "      <th>TP_ESTADO_CIVIL</th>\n",
              "      <th>TP_COR_RACA</th>\n",
              "      <th>TP_NACIONALIDADE</th>\n",
              "      <th>TP_ST_CONCLUSAO</th>\n",
              "      <th>TP_ANO_CONCLUIU</th>\n",
              "      <th>TP_ESCOLA</th>\n",
              "      <th>TP_ENSINO</th>\n",
              "      <th>IN_TREINEIRO</th>\n",
              "      <th>CO_MUNICIPIO_ESC</th>\n",
              "      <th>NO_MUNICIPIO_ESC</th>\n",
              "      <th>CO_UF_ESC</th>\n",
              "      <th>SG_UF_ESC</th>\n",
              "      <th>TP_DEPENDENCIA_ADM_ESC</th>\n",
              "      <th>TP_LOCALIZACAO_ESC</th>\n",
              "      <th>TP_SIT_FUNC_ESC</th>\n",
              "      <th>CO_MUNICIPIO_PROVA</th>\n",
              "      <th>NO_MUNICIPIO_PROVA</th>\n",
              "      <th>CO_UF_PROVA</th>\n",
              "      <th>SG_UF_PROVA</th>\n",
              "      <th>TP_PRESENCA_CN</th>\n",
              "      <th>TP_PRESENCA_CH</th>\n",
              "      <th>TP_PRESENCA_LC</th>\n",
              "      <th>TP_PRESENCA_MT</th>\n",
              "      <th>CO_PROVA_CN</th>\n",
              "      <th>CO_PROVA_CH</th>\n",
              "      <th>CO_PROVA_LC</th>\n",
              "      <th>CO_PROVA_MT</th>\n",
              "      <th>NU_NOTA_CN</th>\n",
              "      <th>NU_NOTA_CH</th>\n",
              "      <th>NU_NOTA_LC</th>\n",
              "      <th>NU_NOTA_MT</th>\n",
              "      <th>TX_RESPOSTAS_CN</th>\n",
              "      <th>TX_RESPOSTAS_CH</th>\n",
              "      <th>TX_RESPOSTAS_LC</th>\n",
              "      <th>TX_RESPOSTAS_MT</th>\n",
              "      <th>TP_LINGUA</th>\n",
              "      <th>TX_GABARITO_CN</th>\n",
              "      <th>TX_GABARITO_CH</th>\n",
              "      <th>TX_GABARITO_LC</th>\n",
              "      <th>TX_GABARITO_MT</th>\n",
              "      <th>TP_STATUS_REDACAO</th>\n",
              "      <th>NU_NOTA_COMP1</th>\n",
              "      <th>NU_NOTA_COMP2</th>\n",
              "      <th>NU_NOTA_COMP3</th>\n",
              "      <th>NU_NOTA_COMP4</th>\n",
              "      <th>NU_NOTA_COMP5</th>\n",
              "      <th>NU_NOTA_REDACAO</th>\n",
              "    </tr>\n",
              "  </thead>\n",
              "  <tbody>\n",
              "    <tr>\n",
              "      <th>266189</th>\n",
              "      <td>210051432069</td>\n",
              "      <td>2021</td>\n",
              "      <td>12</td>\n",
              "      <td>M</td>\n",
              "      <td>1</td>\n",
              "      <td>3</td>\n",
              "      <td>1</td>\n",
              "      <td>1</td>\n",
              "      <td>0</td>\n",
              "      <td>1</td>\n",
              "      <td>NaN</td>\n",
              "      <td>0</td>\n",
              "      <td>NaN</td>\n",
              "      <td>NaN</td>\n",
              "      <td>NaN</td>\n",
              "      <td>NaN</td>\n",
              "      <td>NaN</td>\n",
              "      <td>NaN</td>\n",
              "      <td>NaN</td>\n",
              "      <td>2900702</td>\n",
              "      <td>Alagoinhas</td>\n",
              "      <td>29</td>\n",
              "      <td>BA</td>\n",
              "      <td>0</td>\n",
              "      <td>0</td>\n",
              "      <td>0</td>\n",
              "      <td>0</td>\n",
              "      <td>NaN</td>\n",
              "      <td>NaN</td>\n",
              "      <td>NaN</td>\n",
              "      <td>NaN</td>\n",
              "      <td>NaN</td>\n",
              "      <td>NaN</td>\n",
              "      <td>NaN</td>\n",
              "      <td>NaN</td>\n",
              "      <td>NaN</td>\n",
              "      <td>NaN</td>\n",
              "      <td>NaN</td>\n",
              "      <td>NaN</td>\n",
              "      <td>1</td>\n",
              "      <td>NaN</td>\n",
              "      <td>NaN</td>\n",
              "      <td>NaN</td>\n",
              "      <td>NaN</td>\n",
              "      <td>NaN</td>\n",
              "      <td>NaN</td>\n",
              "      <td>NaN</td>\n",
              "      <td>NaN</td>\n",
              "      <td>NaN</td>\n",
              "      <td>NaN</td>\n",
              "      <td>NaN</td>\n",
              "    </tr>\n",
              "    <tr>\n",
              "      <th>266190</th>\n",
              "      <td>210051106175</td>\n",
              "      <td>2021</td>\n",
              "      <td>14</td>\n",
              "      <td>M</td>\n",
              "      <td>2</td>\n",
              "      <td>2</td>\n",
              "      <td>1</td>\n",
              "      <td>1</td>\n",
              "      <td>0</td>\n",
              "      <td>1</td>\n",
              "      <td>NaN</td>\n",
              "      <td>0</td>\n",
              "      <td>NaN</td>\n",
              "      <td>NaN</td>\n",
              "      <td>NaN</td>\n",
              "      <td>NaN</td>\n",
              "      <td>NaN</td>\n",
              "      <td>NaN</td>\n",
              "      <td>NaN</td>\n",
              "      <td>2918407</td>\n",
              "      <td>Juazeiro</td>\n",
              "      <td>29</td>\n",
              "      <td>BA</td>\n",
              "      <td>0</td>\n",
              "      <td>0</td>\n",
              "      <td>0</td>\n",
              "      <td>0</td>\n",
              "      <td>NaN</td>\n",
              "      <td>NaN</td>\n",
              "      <td>NaN</td>\n",
              "      <td>NaN</td>\n",
              "      <td>NaN</td>\n",
              "      <td>NaN</td>\n",
              "      <td>NaN</td>\n",
              "      <td>NaN</td>\n",
              "      <td>NaN</td>\n",
              "      <td>NaN</td>\n",
              "      <td>NaN</td>\n",
              "      <td>NaN</td>\n",
              "      <td>1</td>\n",
              "      <td>NaN</td>\n",
              "      <td>NaN</td>\n",
              "      <td>NaN</td>\n",
              "      <td>NaN</td>\n",
              "      <td>NaN</td>\n",
              "      <td>NaN</td>\n",
              "      <td>NaN</td>\n",
              "      <td>NaN</td>\n",
              "      <td>NaN</td>\n",
              "      <td>NaN</td>\n",
              "      <td>NaN</td>\n",
              "    </tr>\n",
              "    <tr>\n",
              "      <th>266191</th>\n",
              "      <td>210051995005</td>\n",
              "      <td>2021</td>\n",
              "      <td>11</td>\n",
              "      <td>M</td>\n",
              "      <td>0</td>\n",
              "      <td>2</td>\n",
              "      <td>1</td>\n",
              "      <td>1</td>\n",
              "      <td>12</td>\n",
              "      <td>1</td>\n",
              "      <td>NaN</td>\n",
              "      <td>0</td>\n",
              "      <td>NaN</td>\n",
              "      <td>NaN</td>\n",
              "      <td>NaN</td>\n",
              "      <td>NaN</td>\n",
              "      <td>NaN</td>\n",
              "      <td>NaN</td>\n",
              "      <td>NaN</td>\n",
              "      <td>2927408</td>\n",
              "      <td>Salvador</td>\n",
              "      <td>29</td>\n",
              "      <td>BA</td>\n",
              "      <td>0</td>\n",
              "      <td>0</td>\n",
              "      <td>0</td>\n",
              "      <td>0</td>\n",
              "      <td>NaN</td>\n",
              "      <td>NaN</td>\n",
              "      <td>NaN</td>\n",
              "      <td>NaN</td>\n",
              "      <td>NaN</td>\n",
              "      <td>NaN</td>\n",
              "      <td>NaN</td>\n",
              "      <td>NaN</td>\n",
              "      <td>NaN</td>\n",
              "      <td>NaN</td>\n",
              "      <td>NaN</td>\n",
              "      <td>NaN</td>\n",
              "      <td>1</td>\n",
              "      <td>NaN</td>\n",
              "      <td>NaN</td>\n",
              "      <td>NaN</td>\n",
              "      <td>NaN</td>\n",
              "      <td>NaN</td>\n",
              "      <td>NaN</td>\n",
              "      <td>NaN</td>\n",
              "      <td>NaN</td>\n",
              "      <td>NaN</td>\n",
              "      <td>NaN</td>\n",
              "      <td>NaN</td>\n",
              "    </tr>\n",
              "    <tr>\n",
              "      <th>266192</th>\n",
              "      <td>210053234415</td>\n",
              "      <td>2021</td>\n",
              "      <td>12</td>\n",
              "      <td>M</td>\n",
              "      <td>2</td>\n",
              "      <td>2</td>\n",
              "      <td>1</td>\n",
              "      <td>1</td>\n",
              "      <td>15</td>\n",
              "      <td>1</td>\n",
              "      <td>NaN</td>\n",
              "      <td>0</td>\n",
              "      <td>NaN</td>\n",
              "      <td>NaN</td>\n",
              "      <td>NaN</td>\n",
              "      <td>NaN</td>\n",
              "      <td>NaN</td>\n",
              "      <td>NaN</td>\n",
              "      <td>NaN</td>\n",
              "      <td>2927408</td>\n",
              "      <td>Salvador</td>\n",
              "      <td>29</td>\n",
              "      <td>BA</td>\n",
              "      <td>0</td>\n",
              "      <td>0</td>\n",
              "      <td>0</td>\n",
              "      <td>0</td>\n",
              "      <td>NaN</td>\n",
              "      <td>NaN</td>\n",
              "      <td>NaN</td>\n",
              "      <td>NaN</td>\n",
              "      <td>NaN</td>\n",
              "      <td>NaN</td>\n",
              "      <td>NaN</td>\n",
              "      <td>NaN</td>\n",
              "      <td>NaN</td>\n",
              "      <td>NaN</td>\n",
              "      <td>NaN</td>\n",
              "      <td>NaN</td>\n",
              "      <td>1</td>\n",
              "      <td>NaN</td>\n",
              "      <td>NaN</td>\n",
              "      <td>NaN</td>\n",
              "      <td>NaN</td>\n",
              "      <td>NaN</td>\n",
              "      <td>NaN</td>\n",
              "      <td>NaN</td>\n",
              "      <td>NaN</td>\n",
              "      <td>NaN</td>\n",
              "      <td>NaN</td>\n",
              "      <td>NaN</td>\n",
              "    </tr>\n",
              "    <tr>\n",
              "      <th>266193</th>\n",
              "      <td>210054027870</td>\n",
              "      <td>2021</td>\n",
              "      <td>5</td>\n",
              "      <td>F</td>\n",
              "      <td>1</td>\n",
              "      <td>2</td>\n",
              "      <td>1</td>\n",
              "      <td>1</td>\n",
              "      <td>2</td>\n",
              "      <td>1</td>\n",
              "      <td>NaN</td>\n",
              "      <td>0</td>\n",
              "      <td>NaN</td>\n",
              "      <td>NaN</td>\n",
              "      <td>NaN</td>\n",
              "      <td>NaN</td>\n",
              "      <td>NaN</td>\n",
              "      <td>NaN</td>\n",
              "      <td>NaN</td>\n",
              "      <td>2927408</td>\n",
              "      <td>Salvador</td>\n",
              "      <td>29</td>\n",
              "      <td>BA</td>\n",
              "      <td>0</td>\n",
              "      <td>0</td>\n",
              "      <td>0</td>\n",
              "      <td>0</td>\n",
              "      <td>NaN</td>\n",
              "      <td>NaN</td>\n",
              "      <td>NaN</td>\n",
              "      <td>NaN</td>\n",
              "      <td>NaN</td>\n",
              "      <td>NaN</td>\n",
              "      <td>NaN</td>\n",
              "      <td>NaN</td>\n",
              "      <td>NaN</td>\n",
              "      <td>NaN</td>\n",
              "      <td>NaN</td>\n",
              "      <td>NaN</td>\n",
              "      <td>0</td>\n",
              "      <td>NaN</td>\n",
              "      <td>NaN</td>\n",
              "      <td>NaN</td>\n",
              "      <td>NaN</td>\n",
              "      <td>NaN</td>\n",
              "      <td>NaN</td>\n",
              "      <td>NaN</td>\n",
              "      <td>NaN</td>\n",
              "      <td>NaN</td>\n",
              "      <td>NaN</td>\n",
              "      <td>NaN</td>\n",
              "    </tr>\n",
              "  </tbody>\n",
              "</table>\n",
              "</div>\n",
              "    <div class=\"colab-df-buttons\">\n",
              "\n",
              "  <div class=\"colab-df-container\">\n",
              "    <button class=\"colab-df-convert\" onclick=\"convertToInteractive('df-b3a6dd78-00bf-4069-814f-06483ac0aeaa')\"\n",
              "            title=\"Convert this dataframe to an interactive table.\"\n",
              "            style=\"display:none;\">\n",
              "\n",
              "  <svg xmlns=\"http://www.w3.org/2000/svg\" height=\"24px\" viewBox=\"0 -960 960 960\">\n",
              "    <path d=\"M120-120v-720h720v720H120Zm60-500h600v-160H180v160Zm220 220h160v-160H400v160Zm0 220h160v-160H400v160ZM180-400h160v-160H180v160Zm440 0h160v-160H620v160ZM180-180h160v-160H180v160Zm440 0h160v-160H620v160Z\"/>\n",
              "  </svg>\n",
              "    </button>\n",
              "\n",
              "  <style>\n",
              "    .colab-df-container {\n",
              "      display:flex;\n",
              "      gap: 12px;\n",
              "    }\n",
              "\n",
              "    .colab-df-convert {\n",
              "      background-color: #E8F0FE;\n",
              "      border: none;\n",
              "      border-radius: 50%;\n",
              "      cursor: pointer;\n",
              "      display: none;\n",
              "      fill: #1967D2;\n",
              "      height: 32px;\n",
              "      padding: 0 0 0 0;\n",
              "      width: 32px;\n",
              "    }\n",
              "\n",
              "    .colab-df-convert:hover {\n",
              "      background-color: #E2EBFA;\n",
              "      box-shadow: 0px 1px 2px rgba(60, 64, 67, 0.3), 0px 1px 3px 1px rgba(60, 64, 67, 0.15);\n",
              "      fill: #174EA6;\n",
              "    }\n",
              "\n",
              "    .colab-df-buttons div {\n",
              "      margin-bottom: 4px;\n",
              "    }\n",
              "\n",
              "    [theme=dark] .colab-df-convert {\n",
              "      background-color: #3B4455;\n",
              "      fill: #D2E3FC;\n",
              "    }\n",
              "\n",
              "    [theme=dark] .colab-df-convert:hover {\n",
              "      background-color: #434B5C;\n",
              "      box-shadow: 0px 1px 3px 1px rgba(0, 0, 0, 0.15);\n",
              "      filter: drop-shadow(0px 1px 2px rgba(0, 0, 0, 0.3));\n",
              "      fill: #FFFFFF;\n",
              "    }\n",
              "  </style>\n",
              "\n",
              "    <script>\n",
              "      const buttonEl =\n",
              "        document.querySelector('#df-b3a6dd78-00bf-4069-814f-06483ac0aeaa button.colab-df-convert');\n",
              "      buttonEl.style.display =\n",
              "        google.colab.kernel.accessAllowed ? 'block' : 'none';\n",
              "\n",
              "      async function convertToInteractive(key) {\n",
              "        const element = document.querySelector('#df-b3a6dd78-00bf-4069-814f-06483ac0aeaa');\n",
              "        const dataTable =\n",
              "          await google.colab.kernel.invokeFunction('convertToInteractive',\n",
              "                                                    [key], {});\n",
              "        if (!dataTable) return;\n",
              "\n",
              "        const docLinkHtml = 'Like what you see? Visit the ' +\n",
              "          '<a target=\"_blank\" href=https://colab.research.google.com/notebooks/data_table.ipynb>data table notebook</a>'\n",
              "          + ' to learn more about interactive tables.';\n",
              "        element.innerHTML = '';\n",
              "        dataTable['output_type'] = 'display_data';\n",
              "        await google.colab.output.renderOutput(dataTable, element);\n",
              "        const docLink = document.createElement('div');\n",
              "        docLink.innerHTML = docLinkHtml;\n",
              "        element.appendChild(docLink);\n",
              "      }\n",
              "    </script>\n",
              "  </div>\n",
              "\n",
              "\n",
              "    <div id=\"df-8c595c86-0b91-4725-b0a8-a94c5a7bbb5b\">\n",
              "      <button class=\"colab-df-quickchart\" onclick=\"quickchart('df-8c595c86-0b91-4725-b0a8-a94c5a7bbb5b')\"\n",
              "                title=\"Suggest charts\"\n",
              "                style=\"display:none;\">\n",
              "\n",
              "<svg xmlns=\"http://www.w3.org/2000/svg\" height=\"24px\"viewBox=\"0 0 24 24\"\n",
              "     width=\"24px\">\n",
              "    <g>\n",
              "        <path d=\"M19 3H5c-1.1 0-2 .9-2 2v14c0 1.1.9 2 2 2h14c1.1 0 2-.9 2-2V5c0-1.1-.9-2-2-2zM9 17H7v-7h2v7zm4 0h-2V7h2v10zm4 0h-2v-4h2v4z\"/>\n",
              "    </g>\n",
              "</svg>\n",
              "      </button>\n",
              "\n",
              "<style>\n",
              "  .colab-df-quickchart {\n",
              "      --bg-color: #E8F0FE;\n",
              "      --fill-color: #1967D2;\n",
              "      --hover-bg-color: #E2EBFA;\n",
              "      --hover-fill-color: #174EA6;\n",
              "      --disabled-fill-color: #AAA;\n",
              "      --disabled-bg-color: #DDD;\n",
              "  }\n",
              "\n",
              "  [theme=dark] .colab-df-quickchart {\n",
              "      --bg-color: #3B4455;\n",
              "      --fill-color: #D2E3FC;\n",
              "      --hover-bg-color: #434B5C;\n",
              "      --hover-fill-color: #FFFFFF;\n",
              "      --disabled-bg-color: #3B4455;\n",
              "      --disabled-fill-color: #666;\n",
              "  }\n",
              "\n",
              "  .colab-df-quickchart {\n",
              "    background-color: var(--bg-color);\n",
              "    border: none;\n",
              "    border-radius: 50%;\n",
              "    cursor: pointer;\n",
              "    display: none;\n",
              "    fill: var(--fill-color);\n",
              "    height: 32px;\n",
              "    padding: 0;\n",
              "    width: 32px;\n",
              "  }\n",
              "\n",
              "  .colab-df-quickchart:hover {\n",
              "    background-color: var(--hover-bg-color);\n",
              "    box-shadow: 0 1px 2px rgba(60, 64, 67, 0.3), 0 1px 3px 1px rgba(60, 64, 67, 0.15);\n",
              "    fill: var(--button-hover-fill-color);\n",
              "  }\n",
              "\n",
              "  .colab-df-quickchart-complete:disabled,\n",
              "  .colab-df-quickchart-complete:disabled:hover {\n",
              "    background-color: var(--disabled-bg-color);\n",
              "    fill: var(--disabled-fill-color);\n",
              "    box-shadow: none;\n",
              "  }\n",
              "\n",
              "  .colab-df-spinner {\n",
              "    border: 2px solid var(--fill-color);\n",
              "    border-color: transparent;\n",
              "    border-bottom-color: var(--fill-color);\n",
              "    animation:\n",
              "      spin 1s steps(1) infinite;\n",
              "  }\n",
              "\n",
              "  @keyframes spin {\n",
              "    0% {\n",
              "      border-color: transparent;\n",
              "      border-bottom-color: var(--fill-color);\n",
              "      border-left-color: var(--fill-color);\n",
              "    }\n",
              "    20% {\n",
              "      border-color: transparent;\n",
              "      border-left-color: var(--fill-color);\n",
              "      border-top-color: var(--fill-color);\n",
              "    }\n",
              "    30% {\n",
              "      border-color: transparent;\n",
              "      border-left-color: var(--fill-color);\n",
              "      border-top-color: var(--fill-color);\n",
              "      border-right-color: var(--fill-color);\n",
              "    }\n",
              "    40% {\n",
              "      border-color: transparent;\n",
              "      border-right-color: var(--fill-color);\n",
              "      border-top-color: var(--fill-color);\n",
              "    }\n",
              "    60% {\n",
              "      border-color: transparent;\n",
              "      border-right-color: var(--fill-color);\n",
              "    }\n",
              "    80% {\n",
              "      border-color: transparent;\n",
              "      border-right-color: var(--fill-color);\n",
              "      border-bottom-color: var(--fill-color);\n",
              "    }\n",
              "    90% {\n",
              "      border-color: transparent;\n",
              "      border-bottom-color: var(--fill-color);\n",
              "    }\n",
              "  }\n",
              "</style>\n",
              "\n",
              "      <script>\n",
              "        async function quickchart(key) {\n",
              "          const quickchartButtonEl =\n",
              "            document.querySelector('#' + key + ' button');\n",
              "          quickchartButtonEl.disabled = true;  // To prevent multiple clicks.\n",
              "          quickchartButtonEl.classList.add('colab-df-spinner');\n",
              "          try {\n",
              "            const charts = await google.colab.kernel.invokeFunction(\n",
              "                'suggestCharts', [key], {});\n",
              "          } catch (error) {\n",
              "            console.error('Error during call to suggestCharts:', error);\n",
              "          }\n",
              "          quickchartButtonEl.classList.remove('colab-df-spinner');\n",
              "          quickchartButtonEl.classList.add('colab-df-quickchart-complete');\n",
              "        }\n",
              "        (() => {\n",
              "          let quickchartButtonEl =\n",
              "            document.querySelector('#df-8c595c86-0b91-4725-b0a8-a94c5a7bbb5b button');\n",
              "          quickchartButtonEl.style.display =\n",
              "            google.colab.kernel.accessAllowed ? 'block' : 'none';\n",
              "        })();\n",
              "      </script>\n",
              "    </div>\n",
              "\n",
              "    </div>\n",
              "  </div>\n"
            ],
            "application/vnd.google.colaboratory.intrinsic+json": {
              "type": "dataframe"
            }
          },
          "metadata": {},
          "execution_count": 9
        }
      ]
    },
    {
      "cell_type": "code",
      "source": [
        "#Inspecionando a dimensão do dataset\n",
        "dados.shape"
      ],
      "metadata": {
        "id": "hMNpwSZLjoQq",
        "colab": {
          "base_uri": "https://localhost:8080/"
        },
        "outputId": "6f960f9d-04dd-485c-90f1-ab7efe4c492c"
      },
      "execution_count": 10,
      "outputs": [
        {
          "output_type": "execute_result",
          "data": {
            "text/plain": [
              "(266194, 51)"
            ]
          },
          "metadata": {},
          "execution_count": 10
        }
      ]
    },
    {
      "cell_type": "code",
      "source": [
        "#Inspecionando o tipo de cada coluna\n",
        "dados.info()"
      ],
      "metadata": {
        "id": "mZc3JHD9joVU",
        "colab": {
          "base_uri": "https://localhost:8080/"
        },
        "outputId": "08c19ac2-7af5-4d29-c897-e7d9a0d7e7c5"
      },
      "execution_count": 11,
      "outputs": [
        {
          "output_type": "stream",
          "name": "stdout",
          "text": [
            "<class 'pandas.core.frame.DataFrame'>\n",
            "RangeIndex: 266194 entries, 0 to 266193\n",
            "Data columns (total 51 columns):\n",
            " #   Column                  Non-Null Count   Dtype  \n",
            "---  ------                  --------------   -----  \n",
            " 0   NU_INSCRICAO            266194 non-null  int64  \n",
            " 1   NU_ANO                  266194 non-null  int64  \n",
            " 2   TP_FAIXA_ETARIA         266194 non-null  int64  \n",
            " 3   TP_SEXO                 266194 non-null  object \n",
            " 4   TP_ESTADO_CIVIL         266194 non-null  int64  \n",
            " 5   TP_COR_RACA             266194 non-null  int64  \n",
            " 6   TP_NACIONALIDADE        266194 non-null  int64  \n",
            " 7   TP_ST_CONCLUSAO         266194 non-null  int64  \n",
            " 8   TP_ANO_CONCLUIU         266194 non-null  int64  \n",
            " 9   TP_ESCOLA               266194 non-null  int64  \n",
            " 10  TP_ENSINO               84388 non-null   float64\n",
            " 11  IN_TREINEIRO            266194 non-null  int64  \n",
            " 12  CO_MUNICIPIO_ESC        47820 non-null   float64\n",
            " 13  NO_MUNICIPIO_ESC        47820 non-null   object \n",
            " 14  CO_UF_ESC               47820 non-null   float64\n",
            " 15  SG_UF_ESC               47820 non-null   object \n",
            " 16  TP_DEPENDENCIA_ADM_ESC  47820 non-null   float64\n",
            " 17  TP_LOCALIZACAO_ESC      47820 non-null   float64\n",
            " 18  TP_SIT_FUNC_ESC         47820 non-null   float64\n",
            " 19  CO_MUNICIPIO_PROVA      266194 non-null  int64  \n",
            " 20  NO_MUNICIPIO_PROVA      266194 non-null  object \n",
            " 21  CO_UF_PROVA             266194 non-null  int64  \n",
            " 22  SG_UF_PROVA             266194 non-null  object \n",
            " 23  TP_PRESENCA_CN          266194 non-null  int64  \n",
            " 24  TP_PRESENCA_CH          266194 non-null  int64  \n",
            " 25  TP_PRESENCA_LC          266194 non-null  int64  \n",
            " 26  TP_PRESENCA_MT          266194 non-null  int64  \n",
            " 27  CO_PROVA_CN             175356 non-null  float64\n",
            " 28  CO_PROVA_CH             184844 non-null  float64\n",
            " 29  CO_PROVA_LC             184844 non-null  float64\n",
            " 30  CO_PROVA_MT             175356 non-null  float64\n",
            " 31  NU_NOTA_CN              175356 non-null  float64\n",
            " 32  NU_NOTA_CH              184844 non-null  float64\n",
            " 33  NU_NOTA_LC              184844 non-null  float64\n",
            " 34  NU_NOTA_MT              175356 non-null  float64\n",
            " 35  TX_RESPOSTAS_CN         175356 non-null  object \n",
            " 36  TX_RESPOSTAS_CH         184844 non-null  object \n",
            " 37  TX_RESPOSTAS_LC         184844 non-null  object \n",
            " 38  TX_RESPOSTAS_MT         175356 non-null  object \n",
            " 39  TP_LINGUA               266194 non-null  int64  \n",
            " 40  TX_GABARITO_CN          175356 non-null  object \n",
            " 41  TX_GABARITO_CH          184844 non-null  object \n",
            " 42  TX_GABARITO_LC          184844 non-null  object \n",
            " 43  TX_GABARITO_MT          175356 non-null  object \n",
            " 44  TP_STATUS_REDACAO       184844 non-null  float64\n",
            " 45  NU_NOTA_COMP1           184844 non-null  float64\n",
            " 46  NU_NOTA_COMP2           184844 non-null  float64\n",
            " 47  NU_NOTA_COMP3           184844 non-null  float64\n",
            " 48  NU_NOTA_COMP4           184844 non-null  float64\n",
            " 49  NU_NOTA_COMP5           184844 non-null  float64\n",
            " 50  NU_NOTA_REDACAO         184844 non-null  float64\n",
            "dtypes: float64(21), int64(17), object(13)\n",
            "memory usage: 103.6+ MB\n"
          ]
        }
      ]
    },
    {
      "cell_type": "code",
      "source": [
        "#Nome das colunas\n",
        "dados.columns"
      ],
      "metadata": {
        "id": "sWzEtuXCjoNK",
        "colab": {
          "base_uri": "https://localhost:8080/"
        },
        "outputId": "ab89b46f-bc29-4ee5-8e14-82e8dd95b9c1"
      },
      "execution_count": 12,
      "outputs": [
        {
          "output_type": "execute_result",
          "data": {
            "text/plain": [
              "Index(['NU_INSCRICAO', 'NU_ANO', 'TP_FAIXA_ETARIA', 'TP_SEXO',\n",
              "       'TP_ESTADO_CIVIL', 'TP_COR_RACA', 'TP_NACIONALIDADE', 'TP_ST_CONCLUSAO',\n",
              "       'TP_ANO_CONCLUIU', 'TP_ESCOLA', 'TP_ENSINO', 'IN_TREINEIRO',\n",
              "       'CO_MUNICIPIO_ESC', 'NO_MUNICIPIO_ESC', 'CO_UF_ESC', 'SG_UF_ESC',\n",
              "       'TP_DEPENDENCIA_ADM_ESC', 'TP_LOCALIZACAO_ESC', 'TP_SIT_FUNC_ESC',\n",
              "       'CO_MUNICIPIO_PROVA', 'NO_MUNICIPIO_PROVA', 'CO_UF_PROVA',\n",
              "       'SG_UF_PROVA', 'TP_PRESENCA_CN', 'TP_PRESENCA_CH', 'TP_PRESENCA_LC',\n",
              "       'TP_PRESENCA_MT', 'CO_PROVA_CN', 'CO_PROVA_CH', 'CO_PROVA_LC',\n",
              "       'CO_PROVA_MT', 'NU_NOTA_CN', 'NU_NOTA_CH', 'NU_NOTA_LC', 'NU_NOTA_MT',\n",
              "       'TX_RESPOSTAS_CN', 'TX_RESPOSTAS_CH', 'TX_RESPOSTAS_LC',\n",
              "       'TX_RESPOSTAS_MT', 'TP_LINGUA', 'TX_GABARITO_CN', 'TX_GABARITO_CH',\n",
              "       'TX_GABARITO_LC', 'TX_GABARITO_MT', 'TP_STATUS_REDACAO',\n",
              "       'NU_NOTA_COMP1', 'NU_NOTA_COMP2', 'NU_NOTA_COMP3', 'NU_NOTA_COMP4',\n",
              "       'NU_NOTA_COMP5', 'NU_NOTA_REDACAO'],\n",
              "      dtype='object')"
            ]
          },
          "metadata": {},
          "execution_count": 12
        }
      ]
    },
    {
      "cell_type": "code",
      "source": [
        "#Verificando dados ausentes\n",
        "dados.isna().sum()"
      ],
      "metadata": {
        "id": "3OuOGt0HjoLL",
        "colab": {
          "base_uri": "https://localhost:8080/",
          "height": 1000
        },
        "outputId": "151d455e-3f35-4b4f-88c5-fc763a252bea"
      },
      "execution_count": 13,
      "outputs": [
        {
          "output_type": "execute_result",
          "data": {
            "text/plain": [
              "NU_INSCRICAO                   0\n",
              "NU_ANO                         0\n",
              "TP_FAIXA_ETARIA                0\n",
              "TP_SEXO                        0\n",
              "TP_ESTADO_CIVIL                0\n",
              "TP_COR_RACA                    0\n",
              "TP_NACIONALIDADE               0\n",
              "TP_ST_CONCLUSAO                0\n",
              "TP_ANO_CONCLUIU                0\n",
              "TP_ESCOLA                      0\n",
              "TP_ENSINO                 181806\n",
              "IN_TREINEIRO                   0\n",
              "CO_MUNICIPIO_ESC          218374\n",
              "NO_MUNICIPIO_ESC          218374\n",
              "CO_UF_ESC                 218374\n",
              "SG_UF_ESC                 218374\n",
              "TP_DEPENDENCIA_ADM_ESC    218374\n",
              "TP_LOCALIZACAO_ESC        218374\n",
              "TP_SIT_FUNC_ESC           218374\n",
              "CO_MUNICIPIO_PROVA             0\n",
              "NO_MUNICIPIO_PROVA             0\n",
              "CO_UF_PROVA                    0\n",
              "SG_UF_PROVA                    0\n",
              "TP_PRESENCA_CN                 0\n",
              "TP_PRESENCA_CH                 0\n",
              "TP_PRESENCA_LC                 0\n",
              "TP_PRESENCA_MT                 0\n",
              "CO_PROVA_CN                90838\n",
              "CO_PROVA_CH                81350\n",
              "CO_PROVA_LC                81350\n",
              "CO_PROVA_MT                90838\n",
              "NU_NOTA_CN                 90838\n",
              "NU_NOTA_CH                 81350\n",
              "NU_NOTA_LC                 81350\n",
              "NU_NOTA_MT                 90838\n",
              "TX_RESPOSTAS_CN            90838\n",
              "TX_RESPOSTAS_CH            81350\n",
              "TX_RESPOSTAS_LC            81350\n",
              "TX_RESPOSTAS_MT            90838\n",
              "TP_LINGUA                      0\n",
              "TX_GABARITO_CN             90838\n",
              "TX_GABARITO_CH             81350\n",
              "TX_GABARITO_LC             81350\n",
              "TX_GABARITO_MT             90838\n",
              "TP_STATUS_REDACAO          81350\n",
              "NU_NOTA_COMP1              81350\n",
              "NU_NOTA_COMP2              81350\n",
              "NU_NOTA_COMP3              81350\n",
              "NU_NOTA_COMP4              81350\n",
              "NU_NOTA_COMP5              81350\n",
              "NU_NOTA_REDACAO            81350\n",
              "dtype: int64"
            ],
            "text/html": [
              "<div>\n",
              "<style scoped>\n",
              "    .dataframe tbody tr th:only-of-type {\n",
              "        vertical-align: middle;\n",
              "    }\n",
              "\n",
              "    .dataframe tbody tr th {\n",
              "        vertical-align: top;\n",
              "    }\n",
              "\n",
              "    .dataframe thead th {\n",
              "        text-align: right;\n",
              "    }\n",
              "</style>\n",
              "<table border=\"1\" class=\"dataframe\">\n",
              "  <thead>\n",
              "    <tr style=\"text-align: right;\">\n",
              "      <th></th>\n",
              "      <th>0</th>\n",
              "    </tr>\n",
              "  </thead>\n",
              "  <tbody>\n",
              "    <tr>\n",
              "      <th>NU_INSCRICAO</th>\n",
              "      <td>0</td>\n",
              "    </tr>\n",
              "    <tr>\n",
              "      <th>NU_ANO</th>\n",
              "      <td>0</td>\n",
              "    </tr>\n",
              "    <tr>\n",
              "      <th>TP_FAIXA_ETARIA</th>\n",
              "      <td>0</td>\n",
              "    </tr>\n",
              "    <tr>\n",
              "      <th>TP_SEXO</th>\n",
              "      <td>0</td>\n",
              "    </tr>\n",
              "    <tr>\n",
              "      <th>TP_ESTADO_CIVIL</th>\n",
              "      <td>0</td>\n",
              "    </tr>\n",
              "    <tr>\n",
              "      <th>TP_COR_RACA</th>\n",
              "      <td>0</td>\n",
              "    </tr>\n",
              "    <tr>\n",
              "      <th>TP_NACIONALIDADE</th>\n",
              "      <td>0</td>\n",
              "    </tr>\n",
              "    <tr>\n",
              "      <th>TP_ST_CONCLUSAO</th>\n",
              "      <td>0</td>\n",
              "    </tr>\n",
              "    <tr>\n",
              "      <th>TP_ANO_CONCLUIU</th>\n",
              "      <td>0</td>\n",
              "    </tr>\n",
              "    <tr>\n",
              "      <th>TP_ESCOLA</th>\n",
              "      <td>0</td>\n",
              "    </tr>\n",
              "    <tr>\n",
              "      <th>TP_ENSINO</th>\n",
              "      <td>181806</td>\n",
              "    </tr>\n",
              "    <tr>\n",
              "      <th>IN_TREINEIRO</th>\n",
              "      <td>0</td>\n",
              "    </tr>\n",
              "    <tr>\n",
              "      <th>CO_MUNICIPIO_ESC</th>\n",
              "      <td>218374</td>\n",
              "    </tr>\n",
              "    <tr>\n",
              "      <th>NO_MUNICIPIO_ESC</th>\n",
              "      <td>218374</td>\n",
              "    </tr>\n",
              "    <tr>\n",
              "      <th>CO_UF_ESC</th>\n",
              "      <td>218374</td>\n",
              "    </tr>\n",
              "    <tr>\n",
              "      <th>SG_UF_ESC</th>\n",
              "      <td>218374</td>\n",
              "    </tr>\n",
              "    <tr>\n",
              "      <th>TP_DEPENDENCIA_ADM_ESC</th>\n",
              "      <td>218374</td>\n",
              "    </tr>\n",
              "    <tr>\n",
              "      <th>TP_LOCALIZACAO_ESC</th>\n",
              "      <td>218374</td>\n",
              "    </tr>\n",
              "    <tr>\n",
              "      <th>TP_SIT_FUNC_ESC</th>\n",
              "      <td>218374</td>\n",
              "    </tr>\n",
              "    <tr>\n",
              "      <th>CO_MUNICIPIO_PROVA</th>\n",
              "      <td>0</td>\n",
              "    </tr>\n",
              "    <tr>\n",
              "      <th>NO_MUNICIPIO_PROVA</th>\n",
              "      <td>0</td>\n",
              "    </tr>\n",
              "    <tr>\n",
              "      <th>CO_UF_PROVA</th>\n",
              "      <td>0</td>\n",
              "    </tr>\n",
              "    <tr>\n",
              "      <th>SG_UF_PROVA</th>\n",
              "      <td>0</td>\n",
              "    </tr>\n",
              "    <tr>\n",
              "      <th>TP_PRESENCA_CN</th>\n",
              "      <td>0</td>\n",
              "    </tr>\n",
              "    <tr>\n",
              "      <th>TP_PRESENCA_CH</th>\n",
              "      <td>0</td>\n",
              "    </tr>\n",
              "    <tr>\n",
              "      <th>TP_PRESENCA_LC</th>\n",
              "      <td>0</td>\n",
              "    </tr>\n",
              "    <tr>\n",
              "      <th>TP_PRESENCA_MT</th>\n",
              "      <td>0</td>\n",
              "    </tr>\n",
              "    <tr>\n",
              "      <th>CO_PROVA_CN</th>\n",
              "      <td>90838</td>\n",
              "    </tr>\n",
              "    <tr>\n",
              "      <th>CO_PROVA_CH</th>\n",
              "      <td>81350</td>\n",
              "    </tr>\n",
              "    <tr>\n",
              "      <th>CO_PROVA_LC</th>\n",
              "      <td>81350</td>\n",
              "    </tr>\n",
              "    <tr>\n",
              "      <th>CO_PROVA_MT</th>\n",
              "      <td>90838</td>\n",
              "    </tr>\n",
              "    <tr>\n",
              "      <th>NU_NOTA_CN</th>\n",
              "      <td>90838</td>\n",
              "    </tr>\n",
              "    <tr>\n",
              "      <th>NU_NOTA_CH</th>\n",
              "      <td>81350</td>\n",
              "    </tr>\n",
              "    <tr>\n",
              "      <th>NU_NOTA_LC</th>\n",
              "      <td>81350</td>\n",
              "    </tr>\n",
              "    <tr>\n",
              "      <th>NU_NOTA_MT</th>\n",
              "      <td>90838</td>\n",
              "    </tr>\n",
              "    <tr>\n",
              "      <th>TX_RESPOSTAS_CN</th>\n",
              "      <td>90838</td>\n",
              "    </tr>\n",
              "    <tr>\n",
              "      <th>TX_RESPOSTAS_CH</th>\n",
              "      <td>81350</td>\n",
              "    </tr>\n",
              "    <tr>\n",
              "      <th>TX_RESPOSTAS_LC</th>\n",
              "      <td>81350</td>\n",
              "    </tr>\n",
              "    <tr>\n",
              "      <th>TX_RESPOSTAS_MT</th>\n",
              "      <td>90838</td>\n",
              "    </tr>\n",
              "    <tr>\n",
              "      <th>TP_LINGUA</th>\n",
              "      <td>0</td>\n",
              "    </tr>\n",
              "    <tr>\n",
              "      <th>TX_GABARITO_CN</th>\n",
              "      <td>90838</td>\n",
              "    </tr>\n",
              "    <tr>\n",
              "      <th>TX_GABARITO_CH</th>\n",
              "      <td>81350</td>\n",
              "    </tr>\n",
              "    <tr>\n",
              "      <th>TX_GABARITO_LC</th>\n",
              "      <td>81350</td>\n",
              "    </tr>\n",
              "    <tr>\n",
              "      <th>TX_GABARITO_MT</th>\n",
              "      <td>90838</td>\n",
              "    </tr>\n",
              "    <tr>\n",
              "      <th>TP_STATUS_REDACAO</th>\n",
              "      <td>81350</td>\n",
              "    </tr>\n",
              "    <tr>\n",
              "      <th>NU_NOTA_COMP1</th>\n",
              "      <td>81350</td>\n",
              "    </tr>\n",
              "    <tr>\n",
              "      <th>NU_NOTA_COMP2</th>\n",
              "      <td>81350</td>\n",
              "    </tr>\n",
              "    <tr>\n",
              "      <th>NU_NOTA_COMP3</th>\n",
              "      <td>81350</td>\n",
              "    </tr>\n",
              "    <tr>\n",
              "      <th>NU_NOTA_COMP4</th>\n",
              "      <td>81350</td>\n",
              "    </tr>\n",
              "    <tr>\n",
              "      <th>NU_NOTA_COMP5</th>\n",
              "      <td>81350</td>\n",
              "    </tr>\n",
              "    <tr>\n",
              "      <th>NU_NOTA_REDACAO</th>\n",
              "      <td>81350</td>\n",
              "    </tr>\n",
              "  </tbody>\n",
              "</table>\n",
              "</div><br><label><b>dtype:</b> int64</label>"
            ]
          },
          "metadata": {},
          "execution_count": 13
        }
      ]
    },
    {
      "cell_type": "code",
      "source": [
        "#Verificando dados ausentes em porcentagem\n",
        "((dados.isna().sum() / dados.shape[0]) * 100).sort_values(ascending=False)"
      ],
      "metadata": {
        "id": "ezbDbTQojoI8",
        "colab": {
          "base_uri": "https://localhost:8080/",
          "height": 1000
        },
        "outputId": "664b99ea-ebf8-4eef-ac81-dc32f7e649dc"
      },
      "execution_count": 14,
      "outputs": [
        {
          "output_type": "execute_result",
          "data": {
            "text/plain": [
              "TP_DEPENDENCIA_ADM_ESC    82.035658\n",
              "TP_SIT_FUNC_ESC           82.035658\n",
              "SG_UF_ESC                 82.035658\n",
              "NO_MUNICIPIO_ESC          82.035658\n",
              "CO_UF_ESC                 82.035658\n",
              "CO_MUNICIPIO_ESC          82.035658\n",
              "TP_LOCALIZACAO_ESC        82.035658\n",
              "TP_ENSINO                 68.298309\n",
              "CO_PROVA_MT               34.124736\n",
              "NU_NOTA_MT                34.124736\n",
              "NU_NOTA_CN                34.124736\n",
              "TX_RESPOSTAS_CN           34.124736\n",
              "TX_RESPOSTAS_MT           34.124736\n",
              "TX_GABARITO_CN            34.124736\n",
              "TX_GABARITO_MT            34.124736\n",
              "CO_PROVA_CN               34.124736\n",
              "TX_GABARITO_CH            30.560418\n",
              "TX_GABARITO_LC            30.560418\n",
              "TX_RESPOSTAS_CH           30.560418\n",
              "NU_NOTA_COMP3             30.560418\n",
              "TP_STATUS_REDACAO         30.560418\n",
              "NU_NOTA_COMP1             30.560418\n",
              "NU_NOTA_COMP2             30.560418\n",
              "NU_NOTA_COMP5             30.560418\n",
              "NU_NOTA_COMP4             30.560418\n",
              "NU_NOTA_REDACAO           30.560418\n",
              "CO_PROVA_LC               30.560418\n",
              "NU_NOTA_LC                30.560418\n",
              "NU_NOTA_CH                30.560418\n",
              "CO_PROVA_CH               30.560418\n",
              "TX_RESPOSTAS_LC           30.560418\n",
              "NU_ANO                     0.000000\n",
              "NU_INSCRICAO               0.000000\n",
              "TP_FAIXA_ETARIA            0.000000\n",
              "TP_ESCOLA                  0.000000\n",
              "IN_TREINEIRO               0.000000\n",
              "TP_SEXO                    0.000000\n",
              "TP_COR_RACA                0.000000\n",
              "TP_ESTADO_CIVIL            0.000000\n",
              "TP_NACIONALIDADE           0.000000\n",
              "TP_ST_CONCLUSAO            0.000000\n",
              "TP_ANO_CONCLUIU            0.000000\n",
              "TP_PRESENCA_MT             0.000000\n",
              "CO_MUNICIPIO_PROVA         0.000000\n",
              "NO_MUNICIPIO_PROVA         0.000000\n",
              "CO_UF_PROVA                0.000000\n",
              "SG_UF_PROVA                0.000000\n",
              "TP_PRESENCA_CN             0.000000\n",
              "TP_PRESENCA_CH             0.000000\n",
              "TP_PRESENCA_LC             0.000000\n",
              "TP_LINGUA                  0.000000\n",
              "dtype: float64"
            ],
            "text/html": [
              "<div>\n",
              "<style scoped>\n",
              "    .dataframe tbody tr th:only-of-type {\n",
              "        vertical-align: middle;\n",
              "    }\n",
              "\n",
              "    .dataframe tbody tr th {\n",
              "        vertical-align: top;\n",
              "    }\n",
              "\n",
              "    .dataframe thead th {\n",
              "        text-align: right;\n",
              "    }\n",
              "</style>\n",
              "<table border=\"1\" class=\"dataframe\">\n",
              "  <thead>\n",
              "    <tr style=\"text-align: right;\">\n",
              "      <th></th>\n",
              "      <th>0</th>\n",
              "    </tr>\n",
              "  </thead>\n",
              "  <tbody>\n",
              "    <tr>\n",
              "      <th>TP_DEPENDENCIA_ADM_ESC</th>\n",
              "      <td>82.035658</td>\n",
              "    </tr>\n",
              "    <tr>\n",
              "      <th>TP_SIT_FUNC_ESC</th>\n",
              "      <td>82.035658</td>\n",
              "    </tr>\n",
              "    <tr>\n",
              "      <th>SG_UF_ESC</th>\n",
              "      <td>82.035658</td>\n",
              "    </tr>\n",
              "    <tr>\n",
              "      <th>NO_MUNICIPIO_ESC</th>\n",
              "      <td>82.035658</td>\n",
              "    </tr>\n",
              "    <tr>\n",
              "      <th>CO_UF_ESC</th>\n",
              "      <td>82.035658</td>\n",
              "    </tr>\n",
              "    <tr>\n",
              "      <th>CO_MUNICIPIO_ESC</th>\n",
              "      <td>82.035658</td>\n",
              "    </tr>\n",
              "    <tr>\n",
              "      <th>TP_LOCALIZACAO_ESC</th>\n",
              "      <td>82.035658</td>\n",
              "    </tr>\n",
              "    <tr>\n",
              "      <th>TP_ENSINO</th>\n",
              "      <td>68.298309</td>\n",
              "    </tr>\n",
              "    <tr>\n",
              "      <th>CO_PROVA_MT</th>\n",
              "      <td>34.124736</td>\n",
              "    </tr>\n",
              "    <tr>\n",
              "      <th>NU_NOTA_MT</th>\n",
              "      <td>34.124736</td>\n",
              "    </tr>\n",
              "    <tr>\n",
              "      <th>NU_NOTA_CN</th>\n",
              "      <td>34.124736</td>\n",
              "    </tr>\n",
              "    <tr>\n",
              "      <th>TX_RESPOSTAS_CN</th>\n",
              "      <td>34.124736</td>\n",
              "    </tr>\n",
              "    <tr>\n",
              "      <th>TX_RESPOSTAS_MT</th>\n",
              "      <td>34.124736</td>\n",
              "    </tr>\n",
              "    <tr>\n",
              "      <th>TX_GABARITO_CN</th>\n",
              "      <td>34.124736</td>\n",
              "    </tr>\n",
              "    <tr>\n",
              "      <th>TX_GABARITO_MT</th>\n",
              "      <td>34.124736</td>\n",
              "    </tr>\n",
              "    <tr>\n",
              "      <th>CO_PROVA_CN</th>\n",
              "      <td>34.124736</td>\n",
              "    </tr>\n",
              "    <tr>\n",
              "      <th>TX_GABARITO_CH</th>\n",
              "      <td>30.560418</td>\n",
              "    </tr>\n",
              "    <tr>\n",
              "      <th>TX_GABARITO_LC</th>\n",
              "      <td>30.560418</td>\n",
              "    </tr>\n",
              "    <tr>\n",
              "      <th>TX_RESPOSTAS_CH</th>\n",
              "      <td>30.560418</td>\n",
              "    </tr>\n",
              "    <tr>\n",
              "      <th>NU_NOTA_COMP3</th>\n",
              "      <td>30.560418</td>\n",
              "    </tr>\n",
              "    <tr>\n",
              "      <th>TP_STATUS_REDACAO</th>\n",
              "      <td>30.560418</td>\n",
              "    </tr>\n",
              "    <tr>\n",
              "      <th>NU_NOTA_COMP1</th>\n",
              "      <td>30.560418</td>\n",
              "    </tr>\n",
              "    <tr>\n",
              "      <th>NU_NOTA_COMP2</th>\n",
              "      <td>30.560418</td>\n",
              "    </tr>\n",
              "    <tr>\n",
              "      <th>NU_NOTA_COMP5</th>\n",
              "      <td>30.560418</td>\n",
              "    </tr>\n",
              "    <tr>\n",
              "      <th>NU_NOTA_COMP4</th>\n",
              "      <td>30.560418</td>\n",
              "    </tr>\n",
              "    <tr>\n",
              "      <th>NU_NOTA_REDACAO</th>\n",
              "      <td>30.560418</td>\n",
              "    </tr>\n",
              "    <tr>\n",
              "      <th>CO_PROVA_LC</th>\n",
              "      <td>30.560418</td>\n",
              "    </tr>\n",
              "    <tr>\n",
              "      <th>NU_NOTA_LC</th>\n",
              "      <td>30.560418</td>\n",
              "    </tr>\n",
              "    <tr>\n",
              "      <th>NU_NOTA_CH</th>\n",
              "      <td>30.560418</td>\n",
              "    </tr>\n",
              "    <tr>\n",
              "      <th>CO_PROVA_CH</th>\n",
              "      <td>30.560418</td>\n",
              "    </tr>\n",
              "    <tr>\n",
              "      <th>TX_RESPOSTAS_LC</th>\n",
              "      <td>30.560418</td>\n",
              "    </tr>\n",
              "    <tr>\n",
              "      <th>NU_ANO</th>\n",
              "      <td>0.000000</td>\n",
              "    </tr>\n",
              "    <tr>\n",
              "      <th>NU_INSCRICAO</th>\n",
              "      <td>0.000000</td>\n",
              "    </tr>\n",
              "    <tr>\n",
              "      <th>TP_FAIXA_ETARIA</th>\n",
              "      <td>0.000000</td>\n",
              "    </tr>\n",
              "    <tr>\n",
              "      <th>TP_ESCOLA</th>\n",
              "      <td>0.000000</td>\n",
              "    </tr>\n",
              "    <tr>\n",
              "      <th>IN_TREINEIRO</th>\n",
              "      <td>0.000000</td>\n",
              "    </tr>\n",
              "    <tr>\n",
              "      <th>TP_SEXO</th>\n",
              "      <td>0.000000</td>\n",
              "    </tr>\n",
              "    <tr>\n",
              "      <th>TP_COR_RACA</th>\n",
              "      <td>0.000000</td>\n",
              "    </tr>\n",
              "    <tr>\n",
              "      <th>TP_ESTADO_CIVIL</th>\n",
              "      <td>0.000000</td>\n",
              "    </tr>\n",
              "    <tr>\n",
              "      <th>TP_NACIONALIDADE</th>\n",
              "      <td>0.000000</td>\n",
              "    </tr>\n",
              "    <tr>\n",
              "      <th>TP_ST_CONCLUSAO</th>\n",
              "      <td>0.000000</td>\n",
              "    </tr>\n",
              "    <tr>\n",
              "      <th>TP_ANO_CONCLUIU</th>\n",
              "      <td>0.000000</td>\n",
              "    </tr>\n",
              "    <tr>\n",
              "      <th>TP_PRESENCA_MT</th>\n",
              "      <td>0.000000</td>\n",
              "    </tr>\n",
              "    <tr>\n",
              "      <th>CO_MUNICIPIO_PROVA</th>\n",
              "      <td>0.000000</td>\n",
              "    </tr>\n",
              "    <tr>\n",
              "      <th>NO_MUNICIPIO_PROVA</th>\n",
              "      <td>0.000000</td>\n",
              "    </tr>\n",
              "    <tr>\n",
              "      <th>CO_UF_PROVA</th>\n",
              "      <td>0.000000</td>\n",
              "    </tr>\n",
              "    <tr>\n",
              "      <th>SG_UF_PROVA</th>\n",
              "      <td>0.000000</td>\n",
              "    </tr>\n",
              "    <tr>\n",
              "      <th>TP_PRESENCA_CN</th>\n",
              "      <td>0.000000</td>\n",
              "    </tr>\n",
              "    <tr>\n",
              "      <th>TP_PRESENCA_CH</th>\n",
              "      <td>0.000000</td>\n",
              "    </tr>\n",
              "    <tr>\n",
              "      <th>TP_PRESENCA_LC</th>\n",
              "      <td>0.000000</td>\n",
              "    </tr>\n",
              "    <tr>\n",
              "      <th>TP_LINGUA</th>\n",
              "      <td>0.000000</td>\n",
              "    </tr>\n",
              "  </tbody>\n",
              "</table>\n",
              "</div><br><label><b>dtype:</b> float64</label>"
            ]
          },
          "metadata": {},
          "execution_count": 14
        }
      ]
    },
    {
      "cell_type": "code",
      "source": [
        "#Sumário estatístico dos dados\n",
        "dados.describe()"
      ],
      "metadata": {
        "id": "3wTxMOIkjoG-",
        "colab": {
          "base_uri": "https://localhost:8080/",
          "height": 320
        },
        "outputId": "916bda54-33c0-464d-c818-1323624befcd"
      },
      "execution_count": 15,
      "outputs": [
        {
          "output_type": "execute_result",
          "data": {
            "text/plain": [
              "       NU_INSCRICAO    NU_ANO  TP_FAIXA_ETARIA  TP_ESTADO_CIVIL  \\\n",
              "count  2.661940e+05  266194.0    266194.000000    266194.000000   \n",
              "mean   2.100527e+11    2021.0         5.710166         1.048991   \n",
              "std    9.819577e+05       0.0         3.878161         0.411030   \n",
              "min    2.100510e+11    2021.0         1.000000         0.000000   \n",
              "25%    2.100519e+11    2021.0         3.000000         1.000000   \n",
              "50%    2.100527e+11    2021.0         4.000000         1.000000   \n",
              "75%    2.100536e+11    2021.0         8.000000         1.000000   \n",
              "max    2.100545e+11    2021.0        20.000000         4.000000   \n",
              "\n",
              "         TP_COR_RACA  TP_NACIONALIDADE  TP_ST_CONCLUSAO  TP_ANO_CONCLUIU  \\\n",
              "count  266194.000000     266194.000000    266194.000000    266194.000000   \n",
              "mean        2.301832          1.029787         1.595810         2.846845   \n",
              "std         0.907761          0.194507         0.719902         4.468500   \n",
              "min         0.000000          0.000000         1.000000         0.000000   \n",
              "25%         2.000000          1.000000         1.000000         0.000000   \n",
              "50%         3.000000          1.000000         1.000000         0.000000   \n",
              "75%         3.000000          1.000000         2.000000         4.000000   \n",
              "max         5.000000          4.000000         4.000000        15.000000   \n",
              "\n",
              "           TP_ESCOLA     TP_ENSINO   IN_TREINEIRO  CO_MUNICIPIO_ESC  \\\n",
              "count  266194.000000  84388.000000  266194.000000      4.782000e+04   \n",
              "mean        1.379663      1.013272       0.122659      2.921430e+06   \n",
              "std         0.570947      0.114438       0.328046      7.708902e+04   \n",
              "min         1.000000      1.000000       0.000000      1.100122e+06   \n",
              "25%         1.000000      1.000000       0.000000      2.910800e+06   \n",
              "50%         1.000000      1.000000       0.000000      2.922003e+06   \n",
              "75%         2.000000      1.000000       0.000000      2.927408e+06   \n",
              "max         3.000000      2.000000       1.000000      5.300108e+06   \n",
              "\n",
              "          CO_UF_ESC  TP_DEPENDENCIA_ADM_ESC  TP_LOCALIZACAO_ESC  \\\n",
              "count  47820.000000            47820.000000        47820.000000   \n",
              "mean      29.016625                2.411731            1.043580   \n",
              "std        0.764082                0.926189            0.204161   \n",
              "min       11.000000                1.000000            1.000000   \n",
              "25%       29.000000                2.000000            1.000000   \n",
              "50%       29.000000                2.000000            1.000000   \n",
              "75%       29.000000                2.000000            1.000000   \n",
              "max       53.000000                4.000000            2.000000   \n",
              "\n",
              "       TP_SIT_FUNC_ESC  CO_MUNICIPIO_PROVA  CO_UF_PROVA  TP_PRESENCA_CN  \\\n",
              "count     47820.000000        2.661940e+05     266194.0   266194.000000   \n",
              "mean          1.037286        2.919423e+06         29.0        0.659466   \n",
              "std           0.298561        9.521537e+03          0.0        0.474642   \n",
              "min           1.000000        2.900702e+06         29.0        0.000000   \n",
              "25%           1.000000        2.910800e+06         29.0        0.000000   \n",
              "50%           1.000000        2.919553e+06         29.0        1.000000   \n",
              "75%           1.000000        2.927408e+06         29.0        1.000000   \n",
              "max           4.000000        2.933604e+06         29.0        2.000000   \n",
              "\n",
              "       TP_PRESENCA_CH  TP_PRESENCA_LC  TP_PRESENCA_MT    CO_PROVA_CN  \\\n",
              "count   266194.000000   266194.000000   266194.000000  175356.000000   \n",
              "mean         0.696650        0.696650        0.659466     916.391210   \n",
              "std          0.462151        0.462151        0.474642      27.250799   \n",
              "min          0.000000        0.000000        0.000000     909.000000   \n",
              "25%          0.000000        0.000000        0.000000     910.000000   \n",
              "50%          1.000000        1.000000        1.000000     911.000000   \n",
              "75%          1.000000        1.000000        1.000000     912.000000   \n",
              "max          2.000000        2.000000        2.000000    1048.000000   \n",
              "\n",
              "         CO_PROVA_CH    CO_PROVA_LC    CO_PROVA_MT     NU_NOTA_CN  \\\n",
              "count  184844.000000  184844.000000  175356.000000  175356.000000   \n",
              "mean      886.903026     896.864735     906.429475     479.939563   \n",
              "std        28.573475      28.422958      27.385340      75.043774   \n",
              "min       879.000000     889.000000     899.000000       0.000000   \n",
              "25%       880.000000     890.000000     900.000000     424.300000   \n",
              "50%       881.000000     891.000000     901.000000     470.400000   \n",
              "75%       882.000000     892.000000     902.000000     527.600000   \n",
              "max      1018.000000    1028.000000    1038.000000     839.000000   \n",
              "\n",
              "          NU_NOTA_CH     NU_NOTA_LC     NU_NOTA_MT      TP_LINGUA  \\\n",
              "count  184844.000000  184844.000000  175356.000000  266194.000000   \n",
              "mean      506.234466     489.131131     513.507987       0.481416   \n",
              "std        94.101182      77.829960     101.187047       0.499655   \n",
              "min         0.000000       0.000000       0.000000       0.000000   \n",
              "25%       431.500000     432.300000     433.700000       0.000000   \n",
              "50%       502.800000     490.200000     491.500000       0.000000   \n",
              "75%       575.400000     544.700000     579.400000       1.000000   \n",
              "max       846.900000     821.600000     953.100000       1.000000   \n",
              "\n",
              "       TP_STATUS_REDACAO  NU_NOTA_COMP1  NU_NOTA_COMP2  NU_NOTA_COMP3  \\\n",
              "count      184844.000000  184844.000000  184844.000000  184844.000000   \n",
              "mean            1.128892     116.353682     137.440003     114.183744   \n",
              "std             0.769342      32.975823      44.661524      35.119702   \n",
              "min             1.000000       0.000000       0.000000       0.000000   \n",
              "25%             1.000000     100.000000     120.000000     100.000000   \n",
              "50%             1.000000     120.000000     120.000000     120.000000   \n",
              "75%             1.000000     140.000000     180.000000     120.000000   \n",
              "max             9.000000     200.000000     200.000000     200.000000   \n",
              "\n",
              "       NU_NOTA_COMP4  NU_NOTA_COMP5  NU_NOTA_REDACAO  \n",
              "count  184844.000000  184844.000000    184844.000000  \n",
              "mean      126.785181     111.514358       606.276969  \n",
              "std        37.470281      58.994407       184.233494  \n",
              "min         0.000000       0.000000         0.000000  \n",
              "25%       120.000000      80.000000       520.000000  \n",
              "50%       120.000000     120.000000       600.000000  \n",
              "75%       140.000000     160.000000       720.000000  \n",
              "max       200.000000     200.000000      1000.000000  "
            ],
            "text/html": [
              "\n",
              "  <div id=\"df-67f5b8de-6c8f-403f-9015-45b8dd3e0451\" class=\"colab-df-container\">\n",
              "    <div>\n",
              "<style scoped>\n",
              "    .dataframe tbody tr th:only-of-type {\n",
              "        vertical-align: middle;\n",
              "    }\n",
              "\n",
              "    .dataframe tbody tr th {\n",
              "        vertical-align: top;\n",
              "    }\n",
              "\n",
              "    .dataframe thead th {\n",
              "        text-align: right;\n",
              "    }\n",
              "</style>\n",
              "<table border=\"1\" class=\"dataframe\">\n",
              "  <thead>\n",
              "    <tr style=\"text-align: right;\">\n",
              "      <th></th>\n",
              "      <th>NU_INSCRICAO</th>\n",
              "      <th>NU_ANO</th>\n",
              "      <th>TP_FAIXA_ETARIA</th>\n",
              "      <th>TP_ESTADO_CIVIL</th>\n",
              "      <th>TP_COR_RACA</th>\n",
              "      <th>TP_NACIONALIDADE</th>\n",
              "      <th>TP_ST_CONCLUSAO</th>\n",
              "      <th>TP_ANO_CONCLUIU</th>\n",
              "      <th>TP_ESCOLA</th>\n",
              "      <th>TP_ENSINO</th>\n",
              "      <th>IN_TREINEIRO</th>\n",
              "      <th>CO_MUNICIPIO_ESC</th>\n",
              "      <th>CO_UF_ESC</th>\n",
              "      <th>TP_DEPENDENCIA_ADM_ESC</th>\n",
              "      <th>TP_LOCALIZACAO_ESC</th>\n",
              "      <th>TP_SIT_FUNC_ESC</th>\n",
              "      <th>CO_MUNICIPIO_PROVA</th>\n",
              "      <th>CO_UF_PROVA</th>\n",
              "      <th>TP_PRESENCA_CN</th>\n",
              "      <th>TP_PRESENCA_CH</th>\n",
              "      <th>TP_PRESENCA_LC</th>\n",
              "      <th>TP_PRESENCA_MT</th>\n",
              "      <th>CO_PROVA_CN</th>\n",
              "      <th>CO_PROVA_CH</th>\n",
              "      <th>CO_PROVA_LC</th>\n",
              "      <th>CO_PROVA_MT</th>\n",
              "      <th>NU_NOTA_CN</th>\n",
              "      <th>NU_NOTA_CH</th>\n",
              "      <th>NU_NOTA_LC</th>\n",
              "      <th>NU_NOTA_MT</th>\n",
              "      <th>TP_LINGUA</th>\n",
              "      <th>TP_STATUS_REDACAO</th>\n",
              "      <th>NU_NOTA_COMP1</th>\n",
              "      <th>NU_NOTA_COMP2</th>\n",
              "      <th>NU_NOTA_COMP3</th>\n",
              "      <th>NU_NOTA_COMP4</th>\n",
              "      <th>NU_NOTA_COMP5</th>\n",
              "      <th>NU_NOTA_REDACAO</th>\n",
              "    </tr>\n",
              "  </thead>\n",
              "  <tbody>\n",
              "    <tr>\n",
              "      <th>count</th>\n",
              "      <td>2.661940e+05</td>\n",
              "      <td>266194.0</td>\n",
              "      <td>266194.000000</td>\n",
              "      <td>266194.000000</td>\n",
              "      <td>266194.000000</td>\n",
              "      <td>266194.000000</td>\n",
              "      <td>266194.000000</td>\n",
              "      <td>266194.000000</td>\n",
              "      <td>266194.000000</td>\n",
              "      <td>84388.000000</td>\n",
              "      <td>266194.000000</td>\n",
              "      <td>4.782000e+04</td>\n",
              "      <td>47820.000000</td>\n",
              "      <td>47820.000000</td>\n",
              "      <td>47820.000000</td>\n",
              "      <td>47820.000000</td>\n",
              "      <td>2.661940e+05</td>\n",
              "      <td>266194.0</td>\n",
              "      <td>266194.000000</td>\n",
              "      <td>266194.000000</td>\n",
              "      <td>266194.000000</td>\n",
              "      <td>266194.000000</td>\n",
              "      <td>175356.000000</td>\n",
              "      <td>184844.000000</td>\n",
              "      <td>184844.000000</td>\n",
              "      <td>175356.000000</td>\n",
              "      <td>175356.000000</td>\n",
              "      <td>184844.000000</td>\n",
              "      <td>184844.000000</td>\n",
              "      <td>175356.000000</td>\n",
              "      <td>266194.000000</td>\n",
              "      <td>184844.000000</td>\n",
              "      <td>184844.000000</td>\n",
              "      <td>184844.000000</td>\n",
              "      <td>184844.000000</td>\n",
              "      <td>184844.000000</td>\n",
              "      <td>184844.000000</td>\n",
              "      <td>184844.000000</td>\n",
              "    </tr>\n",
              "    <tr>\n",
              "      <th>mean</th>\n",
              "      <td>2.100527e+11</td>\n",
              "      <td>2021.0</td>\n",
              "      <td>5.710166</td>\n",
              "      <td>1.048991</td>\n",
              "      <td>2.301832</td>\n",
              "      <td>1.029787</td>\n",
              "      <td>1.595810</td>\n",
              "      <td>2.846845</td>\n",
              "      <td>1.379663</td>\n",
              "      <td>1.013272</td>\n",
              "      <td>0.122659</td>\n",
              "      <td>2.921430e+06</td>\n",
              "      <td>29.016625</td>\n",
              "      <td>2.411731</td>\n",
              "      <td>1.043580</td>\n",
              "      <td>1.037286</td>\n",
              "      <td>2.919423e+06</td>\n",
              "      <td>29.0</td>\n",
              "      <td>0.659466</td>\n",
              "      <td>0.696650</td>\n",
              "      <td>0.696650</td>\n",
              "      <td>0.659466</td>\n",
              "      <td>916.391210</td>\n",
              "      <td>886.903026</td>\n",
              "      <td>896.864735</td>\n",
              "      <td>906.429475</td>\n",
              "      <td>479.939563</td>\n",
              "      <td>506.234466</td>\n",
              "      <td>489.131131</td>\n",
              "      <td>513.507987</td>\n",
              "      <td>0.481416</td>\n",
              "      <td>1.128892</td>\n",
              "      <td>116.353682</td>\n",
              "      <td>137.440003</td>\n",
              "      <td>114.183744</td>\n",
              "      <td>126.785181</td>\n",
              "      <td>111.514358</td>\n",
              "      <td>606.276969</td>\n",
              "    </tr>\n",
              "    <tr>\n",
              "      <th>std</th>\n",
              "      <td>9.819577e+05</td>\n",
              "      <td>0.0</td>\n",
              "      <td>3.878161</td>\n",
              "      <td>0.411030</td>\n",
              "      <td>0.907761</td>\n",
              "      <td>0.194507</td>\n",
              "      <td>0.719902</td>\n",
              "      <td>4.468500</td>\n",
              "      <td>0.570947</td>\n",
              "      <td>0.114438</td>\n",
              "      <td>0.328046</td>\n",
              "      <td>7.708902e+04</td>\n",
              "      <td>0.764082</td>\n",
              "      <td>0.926189</td>\n",
              "      <td>0.204161</td>\n",
              "      <td>0.298561</td>\n",
              "      <td>9.521537e+03</td>\n",
              "      <td>0.0</td>\n",
              "      <td>0.474642</td>\n",
              "      <td>0.462151</td>\n",
              "      <td>0.462151</td>\n",
              "      <td>0.474642</td>\n",
              "      <td>27.250799</td>\n",
              "      <td>28.573475</td>\n",
              "      <td>28.422958</td>\n",
              "      <td>27.385340</td>\n",
              "      <td>75.043774</td>\n",
              "      <td>94.101182</td>\n",
              "      <td>77.829960</td>\n",
              "      <td>101.187047</td>\n",
              "      <td>0.499655</td>\n",
              "      <td>0.769342</td>\n",
              "      <td>32.975823</td>\n",
              "      <td>44.661524</td>\n",
              "      <td>35.119702</td>\n",
              "      <td>37.470281</td>\n",
              "      <td>58.994407</td>\n",
              "      <td>184.233494</td>\n",
              "    </tr>\n",
              "    <tr>\n",
              "      <th>min</th>\n",
              "      <td>2.100510e+11</td>\n",
              "      <td>2021.0</td>\n",
              "      <td>1.000000</td>\n",
              "      <td>0.000000</td>\n",
              "      <td>0.000000</td>\n",
              "      <td>0.000000</td>\n",
              "      <td>1.000000</td>\n",
              "      <td>0.000000</td>\n",
              "      <td>1.000000</td>\n",
              "      <td>1.000000</td>\n",
              "      <td>0.000000</td>\n",
              "      <td>1.100122e+06</td>\n",
              "      <td>11.000000</td>\n",
              "      <td>1.000000</td>\n",
              "      <td>1.000000</td>\n",
              "      <td>1.000000</td>\n",
              "      <td>2.900702e+06</td>\n",
              "      <td>29.0</td>\n",
              "      <td>0.000000</td>\n",
              "      <td>0.000000</td>\n",
              "      <td>0.000000</td>\n",
              "      <td>0.000000</td>\n",
              "      <td>909.000000</td>\n",
              "      <td>879.000000</td>\n",
              "      <td>889.000000</td>\n",
              "      <td>899.000000</td>\n",
              "      <td>0.000000</td>\n",
              "      <td>0.000000</td>\n",
              "      <td>0.000000</td>\n",
              "      <td>0.000000</td>\n",
              "      <td>0.000000</td>\n",
              "      <td>1.000000</td>\n",
              "      <td>0.000000</td>\n",
              "      <td>0.000000</td>\n",
              "      <td>0.000000</td>\n",
              "      <td>0.000000</td>\n",
              "      <td>0.000000</td>\n",
              "      <td>0.000000</td>\n",
              "    </tr>\n",
              "    <tr>\n",
              "      <th>25%</th>\n",
              "      <td>2.100519e+11</td>\n",
              "      <td>2021.0</td>\n",
              "      <td>3.000000</td>\n",
              "      <td>1.000000</td>\n",
              "      <td>2.000000</td>\n",
              "      <td>1.000000</td>\n",
              "      <td>1.000000</td>\n",
              "      <td>0.000000</td>\n",
              "      <td>1.000000</td>\n",
              "      <td>1.000000</td>\n",
              "      <td>0.000000</td>\n",
              "      <td>2.910800e+06</td>\n",
              "      <td>29.000000</td>\n",
              "      <td>2.000000</td>\n",
              "      <td>1.000000</td>\n",
              "      <td>1.000000</td>\n",
              "      <td>2.910800e+06</td>\n",
              "      <td>29.0</td>\n",
              "      <td>0.000000</td>\n",
              "      <td>0.000000</td>\n",
              "      <td>0.000000</td>\n",
              "      <td>0.000000</td>\n",
              "      <td>910.000000</td>\n",
              "      <td>880.000000</td>\n",
              "      <td>890.000000</td>\n",
              "      <td>900.000000</td>\n",
              "      <td>424.300000</td>\n",
              "      <td>431.500000</td>\n",
              "      <td>432.300000</td>\n",
              "      <td>433.700000</td>\n",
              "      <td>0.000000</td>\n",
              "      <td>1.000000</td>\n",
              "      <td>100.000000</td>\n",
              "      <td>120.000000</td>\n",
              "      <td>100.000000</td>\n",
              "      <td>120.000000</td>\n",
              "      <td>80.000000</td>\n",
              "      <td>520.000000</td>\n",
              "    </tr>\n",
              "    <tr>\n",
              "      <th>50%</th>\n",
              "      <td>2.100527e+11</td>\n",
              "      <td>2021.0</td>\n",
              "      <td>4.000000</td>\n",
              "      <td>1.000000</td>\n",
              "      <td>3.000000</td>\n",
              "      <td>1.000000</td>\n",
              "      <td>1.000000</td>\n",
              "      <td>0.000000</td>\n",
              "      <td>1.000000</td>\n",
              "      <td>1.000000</td>\n",
              "      <td>0.000000</td>\n",
              "      <td>2.922003e+06</td>\n",
              "      <td>29.000000</td>\n",
              "      <td>2.000000</td>\n",
              "      <td>1.000000</td>\n",
              "      <td>1.000000</td>\n",
              "      <td>2.919553e+06</td>\n",
              "      <td>29.0</td>\n",
              "      <td>1.000000</td>\n",
              "      <td>1.000000</td>\n",
              "      <td>1.000000</td>\n",
              "      <td>1.000000</td>\n",
              "      <td>911.000000</td>\n",
              "      <td>881.000000</td>\n",
              "      <td>891.000000</td>\n",
              "      <td>901.000000</td>\n",
              "      <td>470.400000</td>\n",
              "      <td>502.800000</td>\n",
              "      <td>490.200000</td>\n",
              "      <td>491.500000</td>\n",
              "      <td>0.000000</td>\n",
              "      <td>1.000000</td>\n",
              "      <td>120.000000</td>\n",
              "      <td>120.000000</td>\n",
              "      <td>120.000000</td>\n",
              "      <td>120.000000</td>\n",
              "      <td>120.000000</td>\n",
              "      <td>600.000000</td>\n",
              "    </tr>\n",
              "    <tr>\n",
              "      <th>75%</th>\n",
              "      <td>2.100536e+11</td>\n",
              "      <td>2021.0</td>\n",
              "      <td>8.000000</td>\n",
              "      <td>1.000000</td>\n",
              "      <td>3.000000</td>\n",
              "      <td>1.000000</td>\n",
              "      <td>2.000000</td>\n",
              "      <td>4.000000</td>\n",
              "      <td>2.000000</td>\n",
              "      <td>1.000000</td>\n",
              "      <td>0.000000</td>\n",
              "      <td>2.927408e+06</td>\n",
              "      <td>29.000000</td>\n",
              "      <td>2.000000</td>\n",
              "      <td>1.000000</td>\n",
              "      <td>1.000000</td>\n",
              "      <td>2.927408e+06</td>\n",
              "      <td>29.0</td>\n",
              "      <td>1.000000</td>\n",
              "      <td>1.000000</td>\n",
              "      <td>1.000000</td>\n",
              "      <td>1.000000</td>\n",
              "      <td>912.000000</td>\n",
              "      <td>882.000000</td>\n",
              "      <td>892.000000</td>\n",
              "      <td>902.000000</td>\n",
              "      <td>527.600000</td>\n",
              "      <td>575.400000</td>\n",
              "      <td>544.700000</td>\n",
              "      <td>579.400000</td>\n",
              "      <td>1.000000</td>\n",
              "      <td>1.000000</td>\n",
              "      <td>140.000000</td>\n",
              "      <td>180.000000</td>\n",
              "      <td>120.000000</td>\n",
              "      <td>140.000000</td>\n",
              "      <td>160.000000</td>\n",
              "      <td>720.000000</td>\n",
              "    </tr>\n",
              "    <tr>\n",
              "      <th>max</th>\n",
              "      <td>2.100545e+11</td>\n",
              "      <td>2021.0</td>\n",
              "      <td>20.000000</td>\n",
              "      <td>4.000000</td>\n",
              "      <td>5.000000</td>\n",
              "      <td>4.000000</td>\n",
              "      <td>4.000000</td>\n",
              "      <td>15.000000</td>\n",
              "      <td>3.000000</td>\n",
              "      <td>2.000000</td>\n",
              "      <td>1.000000</td>\n",
              "      <td>5.300108e+06</td>\n",
              "      <td>53.000000</td>\n",
              "      <td>4.000000</td>\n",
              "      <td>2.000000</td>\n",
              "      <td>4.000000</td>\n",
              "      <td>2.933604e+06</td>\n",
              "      <td>29.0</td>\n",
              "      <td>2.000000</td>\n",
              "      <td>2.000000</td>\n",
              "      <td>2.000000</td>\n",
              "      <td>2.000000</td>\n",
              "      <td>1048.000000</td>\n",
              "      <td>1018.000000</td>\n",
              "      <td>1028.000000</td>\n",
              "      <td>1038.000000</td>\n",
              "      <td>839.000000</td>\n",
              "      <td>846.900000</td>\n",
              "      <td>821.600000</td>\n",
              "      <td>953.100000</td>\n",
              "      <td>1.000000</td>\n",
              "      <td>9.000000</td>\n",
              "      <td>200.000000</td>\n",
              "      <td>200.000000</td>\n",
              "      <td>200.000000</td>\n",
              "      <td>200.000000</td>\n",
              "      <td>200.000000</td>\n",
              "      <td>1000.000000</td>\n",
              "    </tr>\n",
              "  </tbody>\n",
              "</table>\n",
              "</div>\n",
              "    <div class=\"colab-df-buttons\">\n",
              "\n",
              "  <div class=\"colab-df-container\">\n",
              "    <button class=\"colab-df-convert\" onclick=\"convertToInteractive('df-67f5b8de-6c8f-403f-9015-45b8dd3e0451')\"\n",
              "            title=\"Convert this dataframe to an interactive table.\"\n",
              "            style=\"display:none;\">\n",
              "\n",
              "  <svg xmlns=\"http://www.w3.org/2000/svg\" height=\"24px\" viewBox=\"0 -960 960 960\">\n",
              "    <path d=\"M120-120v-720h720v720H120Zm60-500h600v-160H180v160Zm220 220h160v-160H400v160Zm0 220h160v-160H400v160ZM180-400h160v-160H180v160Zm440 0h160v-160H620v160ZM180-180h160v-160H180v160Zm440 0h160v-160H620v160Z\"/>\n",
              "  </svg>\n",
              "    </button>\n",
              "\n",
              "  <style>\n",
              "    .colab-df-container {\n",
              "      display:flex;\n",
              "      gap: 12px;\n",
              "    }\n",
              "\n",
              "    .colab-df-convert {\n",
              "      background-color: #E8F0FE;\n",
              "      border: none;\n",
              "      border-radius: 50%;\n",
              "      cursor: pointer;\n",
              "      display: none;\n",
              "      fill: #1967D2;\n",
              "      height: 32px;\n",
              "      padding: 0 0 0 0;\n",
              "      width: 32px;\n",
              "    }\n",
              "\n",
              "    .colab-df-convert:hover {\n",
              "      background-color: #E2EBFA;\n",
              "      box-shadow: 0px 1px 2px rgba(60, 64, 67, 0.3), 0px 1px 3px 1px rgba(60, 64, 67, 0.15);\n",
              "      fill: #174EA6;\n",
              "    }\n",
              "\n",
              "    .colab-df-buttons div {\n",
              "      margin-bottom: 4px;\n",
              "    }\n",
              "\n",
              "    [theme=dark] .colab-df-convert {\n",
              "      background-color: #3B4455;\n",
              "      fill: #D2E3FC;\n",
              "    }\n",
              "\n",
              "    [theme=dark] .colab-df-convert:hover {\n",
              "      background-color: #434B5C;\n",
              "      box-shadow: 0px 1px 3px 1px rgba(0, 0, 0, 0.15);\n",
              "      filter: drop-shadow(0px 1px 2px rgba(0, 0, 0, 0.3));\n",
              "      fill: #FFFFFF;\n",
              "    }\n",
              "  </style>\n",
              "\n",
              "    <script>\n",
              "      const buttonEl =\n",
              "        document.querySelector('#df-67f5b8de-6c8f-403f-9015-45b8dd3e0451 button.colab-df-convert');\n",
              "      buttonEl.style.display =\n",
              "        google.colab.kernel.accessAllowed ? 'block' : 'none';\n",
              "\n",
              "      async function convertToInteractive(key) {\n",
              "        const element = document.querySelector('#df-67f5b8de-6c8f-403f-9015-45b8dd3e0451');\n",
              "        const dataTable =\n",
              "          await google.colab.kernel.invokeFunction('convertToInteractive',\n",
              "                                                    [key], {});\n",
              "        if (!dataTable) return;\n",
              "\n",
              "        const docLinkHtml = 'Like what you see? Visit the ' +\n",
              "          '<a target=\"_blank\" href=https://colab.research.google.com/notebooks/data_table.ipynb>data table notebook</a>'\n",
              "          + ' to learn more about interactive tables.';\n",
              "        element.innerHTML = '';\n",
              "        dataTable['output_type'] = 'display_data';\n",
              "        await google.colab.output.renderOutput(dataTable, element);\n",
              "        const docLink = document.createElement('div');\n",
              "        docLink.innerHTML = docLinkHtml;\n",
              "        element.appendChild(docLink);\n",
              "      }\n",
              "    </script>\n",
              "  </div>\n",
              "\n",
              "\n",
              "    <div id=\"df-3cb0f19e-a4bf-4773-aa76-384e72846cd3\">\n",
              "      <button class=\"colab-df-quickchart\" onclick=\"quickchart('df-3cb0f19e-a4bf-4773-aa76-384e72846cd3')\"\n",
              "                title=\"Suggest charts\"\n",
              "                style=\"display:none;\">\n",
              "\n",
              "<svg xmlns=\"http://www.w3.org/2000/svg\" height=\"24px\"viewBox=\"0 0 24 24\"\n",
              "     width=\"24px\">\n",
              "    <g>\n",
              "        <path d=\"M19 3H5c-1.1 0-2 .9-2 2v14c0 1.1.9 2 2 2h14c1.1 0 2-.9 2-2V5c0-1.1-.9-2-2-2zM9 17H7v-7h2v7zm4 0h-2V7h2v10zm4 0h-2v-4h2v4z\"/>\n",
              "    </g>\n",
              "</svg>\n",
              "      </button>\n",
              "\n",
              "<style>\n",
              "  .colab-df-quickchart {\n",
              "      --bg-color: #E8F0FE;\n",
              "      --fill-color: #1967D2;\n",
              "      --hover-bg-color: #E2EBFA;\n",
              "      --hover-fill-color: #174EA6;\n",
              "      --disabled-fill-color: #AAA;\n",
              "      --disabled-bg-color: #DDD;\n",
              "  }\n",
              "\n",
              "  [theme=dark] .colab-df-quickchart {\n",
              "      --bg-color: #3B4455;\n",
              "      --fill-color: #D2E3FC;\n",
              "      --hover-bg-color: #434B5C;\n",
              "      --hover-fill-color: #FFFFFF;\n",
              "      --disabled-bg-color: #3B4455;\n",
              "      --disabled-fill-color: #666;\n",
              "  }\n",
              "\n",
              "  .colab-df-quickchart {\n",
              "    background-color: var(--bg-color);\n",
              "    border: none;\n",
              "    border-radius: 50%;\n",
              "    cursor: pointer;\n",
              "    display: none;\n",
              "    fill: var(--fill-color);\n",
              "    height: 32px;\n",
              "    padding: 0;\n",
              "    width: 32px;\n",
              "  }\n",
              "\n",
              "  .colab-df-quickchart:hover {\n",
              "    background-color: var(--hover-bg-color);\n",
              "    box-shadow: 0 1px 2px rgba(60, 64, 67, 0.3), 0 1px 3px 1px rgba(60, 64, 67, 0.15);\n",
              "    fill: var(--button-hover-fill-color);\n",
              "  }\n",
              "\n",
              "  .colab-df-quickchart-complete:disabled,\n",
              "  .colab-df-quickchart-complete:disabled:hover {\n",
              "    background-color: var(--disabled-bg-color);\n",
              "    fill: var(--disabled-fill-color);\n",
              "    box-shadow: none;\n",
              "  }\n",
              "\n",
              "  .colab-df-spinner {\n",
              "    border: 2px solid var(--fill-color);\n",
              "    border-color: transparent;\n",
              "    border-bottom-color: var(--fill-color);\n",
              "    animation:\n",
              "      spin 1s steps(1) infinite;\n",
              "  }\n",
              "\n",
              "  @keyframes spin {\n",
              "    0% {\n",
              "      border-color: transparent;\n",
              "      border-bottom-color: var(--fill-color);\n",
              "      border-left-color: var(--fill-color);\n",
              "    }\n",
              "    20% {\n",
              "      border-color: transparent;\n",
              "      border-left-color: var(--fill-color);\n",
              "      border-top-color: var(--fill-color);\n",
              "    }\n",
              "    30% {\n",
              "      border-color: transparent;\n",
              "      border-left-color: var(--fill-color);\n",
              "      border-top-color: var(--fill-color);\n",
              "      border-right-color: var(--fill-color);\n",
              "    }\n",
              "    40% {\n",
              "      border-color: transparent;\n",
              "      border-right-color: var(--fill-color);\n",
              "      border-top-color: var(--fill-color);\n",
              "    }\n",
              "    60% {\n",
              "      border-color: transparent;\n",
              "      border-right-color: var(--fill-color);\n",
              "    }\n",
              "    80% {\n",
              "      border-color: transparent;\n",
              "      border-right-color: var(--fill-color);\n",
              "      border-bottom-color: var(--fill-color);\n",
              "    }\n",
              "    90% {\n",
              "      border-color: transparent;\n",
              "      border-bottom-color: var(--fill-color);\n",
              "    }\n",
              "  }\n",
              "</style>\n",
              "\n",
              "      <script>\n",
              "        async function quickchart(key) {\n",
              "          const quickchartButtonEl =\n",
              "            document.querySelector('#' + key + ' button');\n",
              "          quickchartButtonEl.disabled = true;  // To prevent multiple clicks.\n",
              "          quickchartButtonEl.classList.add('colab-df-spinner');\n",
              "          try {\n",
              "            const charts = await google.colab.kernel.invokeFunction(\n",
              "                'suggestCharts', [key], {});\n",
              "          } catch (error) {\n",
              "            console.error('Error during call to suggestCharts:', error);\n",
              "          }\n",
              "          quickchartButtonEl.classList.remove('colab-df-spinner');\n",
              "          quickchartButtonEl.classList.add('colab-df-quickchart-complete');\n",
              "        }\n",
              "        (() => {\n",
              "          let quickchartButtonEl =\n",
              "            document.querySelector('#df-3cb0f19e-a4bf-4773-aa76-384e72846cd3 button');\n",
              "          quickchartButtonEl.style.display =\n",
              "            google.colab.kernel.accessAllowed ? 'block' : 'none';\n",
              "        })();\n",
              "      </script>\n",
              "    </div>\n",
              "\n",
              "    </div>\n",
              "  </div>\n"
            ],
            "application/vnd.google.colaboratory.intrinsic+json": {
              "type": "dataframe"
            }
          },
          "metadata": {},
          "execution_count": 15
        }
      ]
    },
    {
      "cell_type": "code",
      "source": [
        "#Sumário estatístico dos dados transposto\n",
        "dados.describe().transpose()"
      ],
      "metadata": {
        "id": "daxxezgpjoEv",
        "colab": {
          "base_uri": "https://localhost:8080/",
          "height": 1000
        },
        "outputId": "6c91730f-ffed-4bac-fe51-cc464ac50bcd"
      },
      "execution_count": 16,
      "outputs": [
        {
          "output_type": "execute_result",
          "data": {
            "text/plain": [
              "                           count          mean            std           min  \\\n",
              "NU_INSCRICAO            266194.0  2.100527e+11  981957.687860  2.100510e+11   \n",
              "NU_ANO                  266194.0  2.021000e+03       0.000000  2.021000e+03   \n",
              "TP_FAIXA_ETARIA         266194.0  5.710166e+00       3.878161  1.000000e+00   \n",
              "TP_ESTADO_CIVIL         266194.0  1.048991e+00       0.411030  0.000000e+00   \n",
              "TP_COR_RACA             266194.0  2.301832e+00       0.907761  0.000000e+00   \n",
              "TP_NACIONALIDADE        266194.0  1.029787e+00       0.194507  0.000000e+00   \n",
              "TP_ST_CONCLUSAO         266194.0  1.595810e+00       0.719902  1.000000e+00   \n",
              "TP_ANO_CONCLUIU         266194.0  2.846845e+00       4.468500  0.000000e+00   \n",
              "TP_ESCOLA               266194.0  1.379663e+00       0.570947  1.000000e+00   \n",
              "TP_ENSINO                84388.0  1.013272e+00       0.114438  1.000000e+00   \n",
              "IN_TREINEIRO            266194.0  1.226587e-01       0.328046  0.000000e+00   \n",
              "CO_MUNICIPIO_ESC         47820.0  2.921430e+06   77089.022929  1.100122e+06   \n",
              "CO_UF_ESC                47820.0  2.901662e+01       0.764082  1.100000e+01   \n",
              "TP_DEPENDENCIA_ADM_ESC   47820.0  2.411731e+00       0.926189  1.000000e+00   \n",
              "TP_LOCALIZACAO_ESC       47820.0  1.043580e+00       0.204161  1.000000e+00   \n",
              "TP_SIT_FUNC_ESC          47820.0  1.037286e+00       0.298561  1.000000e+00   \n",
              "CO_MUNICIPIO_PROVA      266194.0  2.919423e+06    9521.537357  2.900702e+06   \n",
              "CO_UF_PROVA             266194.0  2.900000e+01       0.000000  2.900000e+01   \n",
              "TP_PRESENCA_CN          266194.0  6.594664e-01       0.474642  0.000000e+00   \n",
              "TP_PRESENCA_CH          266194.0  6.966498e-01       0.462151  0.000000e+00   \n",
              "TP_PRESENCA_LC          266194.0  6.966498e-01       0.462151  0.000000e+00   \n",
              "TP_PRESENCA_MT          266194.0  6.594664e-01       0.474642  0.000000e+00   \n",
              "CO_PROVA_CN             175356.0  9.163912e+02      27.250799  9.090000e+02   \n",
              "CO_PROVA_CH             184844.0  8.869030e+02      28.573475  8.790000e+02   \n",
              "CO_PROVA_LC             184844.0  8.968647e+02      28.422958  8.890000e+02   \n",
              "CO_PROVA_MT             175356.0  9.064295e+02      27.385340  8.990000e+02   \n",
              "NU_NOTA_CN              175356.0  4.799396e+02      75.043774  0.000000e+00   \n",
              "NU_NOTA_CH              184844.0  5.062345e+02      94.101182  0.000000e+00   \n",
              "NU_NOTA_LC              184844.0  4.891311e+02      77.829960  0.000000e+00   \n",
              "NU_NOTA_MT              175356.0  5.135080e+02     101.187047  0.000000e+00   \n",
              "TP_LINGUA               266194.0  4.814158e-01       0.499655  0.000000e+00   \n",
              "TP_STATUS_REDACAO       184844.0  1.128892e+00       0.769342  1.000000e+00   \n",
              "NU_NOTA_COMP1           184844.0  1.163537e+02      32.975823  0.000000e+00   \n",
              "NU_NOTA_COMP2           184844.0  1.374400e+02      44.661524  0.000000e+00   \n",
              "NU_NOTA_COMP3           184844.0  1.141837e+02      35.119702  0.000000e+00   \n",
              "NU_NOTA_COMP4           184844.0  1.267852e+02      37.470281  0.000000e+00   \n",
              "NU_NOTA_COMP5           184844.0  1.115144e+02      58.994407  0.000000e+00   \n",
              "NU_NOTA_REDACAO         184844.0  6.062770e+02     184.233494  0.000000e+00   \n",
              "\n",
              "                                 25%           50%           75%           max  \n",
              "NU_INSCRICAO            2.100519e+11  2.100527e+11  2.100536e+11  2.100545e+11  \n",
              "NU_ANO                  2.021000e+03  2.021000e+03  2.021000e+03  2.021000e+03  \n",
              "TP_FAIXA_ETARIA         3.000000e+00  4.000000e+00  8.000000e+00  2.000000e+01  \n",
              "TP_ESTADO_CIVIL         1.000000e+00  1.000000e+00  1.000000e+00  4.000000e+00  \n",
              "TP_COR_RACA             2.000000e+00  3.000000e+00  3.000000e+00  5.000000e+00  \n",
              "TP_NACIONALIDADE        1.000000e+00  1.000000e+00  1.000000e+00  4.000000e+00  \n",
              "TP_ST_CONCLUSAO         1.000000e+00  1.000000e+00  2.000000e+00  4.000000e+00  \n",
              "TP_ANO_CONCLUIU         0.000000e+00  0.000000e+00  4.000000e+00  1.500000e+01  \n",
              "TP_ESCOLA               1.000000e+00  1.000000e+00  2.000000e+00  3.000000e+00  \n",
              "TP_ENSINO               1.000000e+00  1.000000e+00  1.000000e+00  2.000000e+00  \n",
              "IN_TREINEIRO            0.000000e+00  0.000000e+00  0.000000e+00  1.000000e+00  \n",
              "CO_MUNICIPIO_ESC        2.910800e+06  2.922003e+06  2.927408e+06  5.300108e+06  \n",
              "CO_UF_ESC               2.900000e+01  2.900000e+01  2.900000e+01  5.300000e+01  \n",
              "TP_DEPENDENCIA_ADM_ESC  2.000000e+00  2.000000e+00  2.000000e+00  4.000000e+00  \n",
              "TP_LOCALIZACAO_ESC      1.000000e+00  1.000000e+00  1.000000e+00  2.000000e+00  \n",
              "TP_SIT_FUNC_ESC         1.000000e+00  1.000000e+00  1.000000e+00  4.000000e+00  \n",
              "CO_MUNICIPIO_PROVA      2.910800e+06  2.919553e+06  2.927408e+06  2.933604e+06  \n",
              "CO_UF_PROVA             2.900000e+01  2.900000e+01  2.900000e+01  2.900000e+01  \n",
              "TP_PRESENCA_CN          0.000000e+00  1.000000e+00  1.000000e+00  2.000000e+00  \n",
              "TP_PRESENCA_CH          0.000000e+00  1.000000e+00  1.000000e+00  2.000000e+00  \n",
              "TP_PRESENCA_LC          0.000000e+00  1.000000e+00  1.000000e+00  2.000000e+00  \n",
              "TP_PRESENCA_MT          0.000000e+00  1.000000e+00  1.000000e+00  2.000000e+00  \n",
              "CO_PROVA_CN             9.100000e+02  9.110000e+02  9.120000e+02  1.048000e+03  \n",
              "CO_PROVA_CH             8.800000e+02  8.810000e+02  8.820000e+02  1.018000e+03  \n",
              "CO_PROVA_LC             8.900000e+02  8.910000e+02  8.920000e+02  1.028000e+03  \n",
              "CO_PROVA_MT             9.000000e+02  9.010000e+02  9.020000e+02  1.038000e+03  \n",
              "NU_NOTA_CN              4.243000e+02  4.704000e+02  5.276000e+02  8.390000e+02  \n",
              "NU_NOTA_CH              4.315000e+02  5.028000e+02  5.754000e+02  8.469000e+02  \n",
              "NU_NOTA_LC              4.323000e+02  4.902000e+02  5.447000e+02  8.216000e+02  \n",
              "NU_NOTA_MT              4.337000e+02  4.915000e+02  5.794000e+02  9.531000e+02  \n",
              "TP_LINGUA               0.000000e+00  0.000000e+00  1.000000e+00  1.000000e+00  \n",
              "TP_STATUS_REDACAO       1.000000e+00  1.000000e+00  1.000000e+00  9.000000e+00  \n",
              "NU_NOTA_COMP1           1.000000e+02  1.200000e+02  1.400000e+02  2.000000e+02  \n",
              "NU_NOTA_COMP2           1.200000e+02  1.200000e+02  1.800000e+02  2.000000e+02  \n",
              "NU_NOTA_COMP3           1.000000e+02  1.200000e+02  1.200000e+02  2.000000e+02  \n",
              "NU_NOTA_COMP4           1.200000e+02  1.200000e+02  1.400000e+02  2.000000e+02  \n",
              "NU_NOTA_COMP5           8.000000e+01  1.200000e+02  1.600000e+02  2.000000e+02  \n",
              "NU_NOTA_REDACAO         5.200000e+02  6.000000e+02  7.200000e+02  1.000000e+03  "
            ],
            "text/html": [
              "\n",
              "  <div id=\"df-c5dd55f7-cef2-461f-8447-a39cddd0c181\" class=\"colab-df-container\">\n",
              "    <div>\n",
              "<style scoped>\n",
              "    .dataframe tbody tr th:only-of-type {\n",
              "        vertical-align: middle;\n",
              "    }\n",
              "\n",
              "    .dataframe tbody tr th {\n",
              "        vertical-align: top;\n",
              "    }\n",
              "\n",
              "    .dataframe thead th {\n",
              "        text-align: right;\n",
              "    }\n",
              "</style>\n",
              "<table border=\"1\" class=\"dataframe\">\n",
              "  <thead>\n",
              "    <tr style=\"text-align: right;\">\n",
              "      <th></th>\n",
              "      <th>count</th>\n",
              "      <th>mean</th>\n",
              "      <th>std</th>\n",
              "      <th>min</th>\n",
              "      <th>25%</th>\n",
              "      <th>50%</th>\n",
              "      <th>75%</th>\n",
              "      <th>max</th>\n",
              "    </tr>\n",
              "  </thead>\n",
              "  <tbody>\n",
              "    <tr>\n",
              "      <th>NU_INSCRICAO</th>\n",
              "      <td>266194.0</td>\n",
              "      <td>2.100527e+11</td>\n",
              "      <td>981957.687860</td>\n",
              "      <td>2.100510e+11</td>\n",
              "      <td>2.100519e+11</td>\n",
              "      <td>2.100527e+11</td>\n",
              "      <td>2.100536e+11</td>\n",
              "      <td>2.100545e+11</td>\n",
              "    </tr>\n",
              "    <tr>\n",
              "      <th>NU_ANO</th>\n",
              "      <td>266194.0</td>\n",
              "      <td>2.021000e+03</td>\n",
              "      <td>0.000000</td>\n",
              "      <td>2.021000e+03</td>\n",
              "      <td>2.021000e+03</td>\n",
              "      <td>2.021000e+03</td>\n",
              "      <td>2.021000e+03</td>\n",
              "      <td>2.021000e+03</td>\n",
              "    </tr>\n",
              "    <tr>\n",
              "      <th>TP_FAIXA_ETARIA</th>\n",
              "      <td>266194.0</td>\n",
              "      <td>5.710166e+00</td>\n",
              "      <td>3.878161</td>\n",
              "      <td>1.000000e+00</td>\n",
              "      <td>3.000000e+00</td>\n",
              "      <td>4.000000e+00</td>\n",
              "      <td>8.000000e+00</td>\n",
              "      <td>2.000000e+01</td>\n",
              "    </tr>\n",
              "    <tr>\n",
              "      <th>TP_ESTADO_CIVIL</th>\n",
              "      <td>266194.0</td>\n",
              "      <td>1.048991e+00</td>\n",
              "      <td>0.411030</td>\n",
              "      <td>0.000000e+00</td>\n",
              "      <td>1.000000e+00</td>\n",
              "      <td>1.000000e+00</td>\n",
              "      <td>1.000000e+00</td>\n",
              "      <td>4.000000e+00</td>\n",
              "    </tr>\n",
              "    <tr>\n",
              "      <th>TP_COR_RACA</th>\n",
              "      <td>266194.0</td>\n",
              "      <td>2.301832e+00</td>\n",
              "      <td>0.907761</td>\n",
              "      <td>0.000000e+00</td>\n",
              "      <td>2.000000e+00</td>\n",
              "      <td>3.000000e+00</td>\n",
              "      <td>3.000000e+00</td>\n",
              "      <td>5.000000e+00</td>\n",
              "    </tr>\n",
              "    <tr>\n",
              "      <th>TP_NACIONALIDADE</th>\n",
              "      <td>266194.0</td>\n",
              "      <td>1.029787e+00</td>\n",
              "      <td>0.194507</td>\n",
              "      <td>0.000000e+00</td>\n",
              "      <td>1.000000e+00</td>\n",
              "      <td>1.000000e+00</td>\n",
              "      <td>1.000000e+00</td>\n",
              "      <td>4.000000e+00</td>\n",
              "    </tr>\n",
              "    <tr>\n",
              "      <th>TP_ST_CONCLUSAO</th>\n",
              "      <td>266194.0</td>\n",
              "      <td>1.595810e+00</td>\n",
              "      <td>0.719902</td>\n",
              "      <td>1.000000e+00</td>\n",
              "      <td>1.000000e+00</td>\n",
              "      <td>1.000000e+00</td>\n",
              "      <td>2.000000e+00</td>\n",
              "      <td>4.000000e+00</td>\n",
              "    </tr>\n",
              "    <tr>\n",
              "      <th>TP_ANO_CONCLUIU</th>\n",
              "      <td>266194.0</td>\n",
              "      <td>2.846845e+00</td>\n",
              "      <td>4.468500</td>\n",
              "      <td>0.000000e+00</td>\n",
              "      <td>0.000000e+00</td>\n",
              "      <td>0.000000e+00</td>\n",
              "      <td>4.000000e+00</td>\n",
              "      <td>1.500000e+01</td>\n",
              "    </tr>\n",
              "    <tr>\n",
              "      <th>TP_ESCOLA</th>\n",
              "      <td>266194.0</td>\n",
              "      <td>1.379663e+00</td>\n",
              "      <td>0.570947</td>\n",
              "      <td>1.000000e+00</td>\n",
              "      <td>1.000000e+00</td>\n",
              "      <td>1.000000e+00</td>\n",
              "      <td>2.000000e+00</td>\n",
              "      <td>3.000000e+00</td>\n",
              "    </tr>\n",
              "    <tr>\n",
              "      <th>TP_ENSINO</th>\n",
              "      <td>84388.0</td>\n",
              "      <td>1.013272e+00</td>\n",
              "      <td>0.114438</td>\n",
              "      <td>1.000000e+00</td>\n",
              "      <td>1.000000e+00</td>\n",
              "      <td>1.000000e+00</td>\n",
              "      <td>1.000000e+00</td>\n",
              "      <td>2.000000e+00</td>\n",
              "    </tr>\n",
              "    <tr>\n",
              "      <th>IN_TREINEIRO</th>\n",
              "      <td>266194.0</td>\n",
              "      <td>1.226587e-01</td>\n",
              "      <td>0.328046</td>\n",
              "      <td>0.000000e+00</td>\n",
              "      <td>0.000000e+00</td>\n",
              "      <td>0.000000e+00</td>\n",
              "      <td>0.000000e+00</td>\n",
              "      <td>1.000000e+00</td>\n",
              "    </tr>\n",
              "    <tr>\n",
              "      <th>CO_MUNICIPIO_ESC</th>\n",
              "      <td>47820.0</td>\n",
              "      <td>2.921430e+06</td>\n",
              "      <td>77089.022929</td>\n",
              "      <td>1.100122e+06</td>\n",
              "      <td>2.910800e+06</td>\n",
              "      <td>2.922003e+06</td>\n",
              "      <td>2.927408e+06</td>\n",
              "      <td>5.300108e+06</td>\n",
              "    </tr>\n",
              "    <tr>\n",
              "      <th>CO_UF_ESC</th>\n",
              "      <td>47820.0</td>\n",
              "      <td>2.901662e+01</td>\n",
              "      <td>0.764082</td>\n",
              "      <td>1.100000e+01</td>\n",
              "      <td>2.900000e+01</td>\n",
              "      <td>2.900000e+01</td>\n",
              "      <td>2.900000e+01</td>\n",
              "      <td>5.300000e+01</td>\n",
              "    </tr>\n",
              "    <tr>\n",
              "      <th>TP_DEPENDENCIA_ADM_ESC</th>\n",
              "      <td>47820.0</td>\n",
              "      <td>2.411731e+00</td>\n",
              "      <td>0.926189</td>\n",
              "      <td>1.000000e+00</td>\n",
              "      <td>2.000000e+00</td>\n",
              "      <td>2.000000e+00</td>\n",
              "      <td>2.000000e+00</td>\n",
              "      <td>4.000000e+00</td>\n",
              "    </tr>\n",
              "    <tr>\n",
              "      <th>TP_LOCALIZACAO_ESC</th>\n",
              "      <td>47820.0</td>\n",
              "      <td>1.043580e+00</td>\n",
              "      <td>0.204161</td>\n",
              "      <td>1.000000e+00</td>\n",
              "      <td>1.000000e+00</td>\n",
              "      <td>1.000000e+00</td>\n",
              "      <td>1.000000e+00</td>\n",
              "      <td>2.000000e+00</td>\n",
              "    </tr>\n",
              "    <tr>\n",
              "      <th>TP_SIT_FUNC_ESC</th>\n",
              "      <td>47820.0</td>\n",
              "      <td>1.037286e+00</td>\n",
              "      <td>0.298561</td>\n",
              "      <td>1.000000e+00</td>\n",
              "      <td>1.000000e+00</td>\n",
              "      <td>1.000000e+00</td>\n",
              "      <td>1.000000e+00</td>\n",
              "      <td>4.000000e+00</td>\n",
              "    </tr>\n",
              "    <tr>\n",
              "      <th>CO_MUNICIPIO_PROVA</th>\n",
              "      <td>266194.0</td>\n",
              "      <td>2.919423e+06</td>\n",
              "      <td>9521.537357</td>\n",
              "      <td>2.900702e+06</td>\n",
              "      <td>2.910800e+06</td>\n",
              "      <td>2.919553e+06</td>\n",
              "      <td>2.927408e+06</td>\n",
              "      <td>2.933604e+06</td>\n",
              "    </tr>\n",
              "    <tr>\n",
              "      <th>CO_UF_PROVA</th>\n",
              "      <td>266194.0</td>\n",
              "      <td>2.900000e+01</td>\n",
              "      <td>0.000000</td>\n",
              "      <td>2.900000e+01</td>\n",
              "      <td>2.900000e+01</td>\n",
              "      <td>2.900000e+01</td>\n",
              "      <td>2.900000e+01</td>\n",
              "      <td>2.900000e+01</td>\n",
              "    </tr>\n",
              "    <tr>\n",
              "      <th>TP_PRESENCA_CN</th>\n",
              "      <td>266194.0</td>\n",
              "      <td>6.594664e-01</td>\n",
              "      <td>0.474642</td>\n",
              "      <td>0.000000e+00</td>\n",
              "      <td>0.000000e+00</td>\n",
              "      <td>1.000000e+00</td>\n",
              "      <td>1.000000e+00</td>\n",
              "      <td>2.000000e+00</td>\n",
              "    </tr>\n",
              "    <tr>\n",
              "      <th>TP_PRESENCA_CH</th>\n",
              "      <td>266194.0</td>\n",
              "      <td>6.966498e-01</td>\n",
              "      <td>0.462151</td>\n",
              "      <td>0.000000e+00</td>\n",
              "      <td>0.000000e+00</td>\n",
              "      <td>1.000000e+00</td>\n",
              "      <td>1.000000e+00</td>\n",
              "      <td>2.000000e+00</td>\n",
              "    </tr>\n",
              "    <tr>\n",
              "      <th>TP_PRESENCA_LC</th>\n",
              "      <td>266194.0</td>\n",
              "      <td>6.966498e-01</td>\n",
              "      <td>0.462151</td>\n",
              "      <td>0.000000e+00</td>\n",
              "      <td>0.000000e+00</td>\n",
              "      <td>1.000000e+00</td>\n",
              "      <td>1.000000e+00</td>\n",
              "      <td>2.000000e+00</td>\n",
              "    </tr>\n",
              "    <tr>\n",
              "      <th>TP_PRESENCA_MT</th>\n",
              "      <td>266194.0</td>\n",
              "      <td>6.594664e-01</td>\n",
              "      <td>0.474642</td>\n",
              "      <td>0.000000e+00</td>\n",
              "      <td>0.000000e+00</td>\n",
              "      <td>1.000000e+00</td>\n",
              "      <td>1.000000e+00</td>\n",
              "      <td>2.000000e+00</td>\n",
              "    </tr>\n",
              "    <tr>\n",
              "      <th>CO_PROVA_CN</th>\n",
              "      <td>175356.0</td>\n",
              "      <td>9.163912e+02</td>\n",
              "      <td>27.250799</td>\n",
              "      <td>9.090000e+02</td>\n",
              "      <td>9.100000e+02</td>\n",
              "      <td>9.110000e+02</td>\n",
              "      <td>9.120000e+02</td>\n",
              "      <td>1.048000e+03</td>\n",
              "    </tr>\n",
              "    <tr>\n",
              "      <th>CO_PROVA_CH</th>\n",
              "      <td>184844.0</td>\n",
              "      <td>8.869030e+02</td>\n",
              "      <td>28.573475</td>\n",
              "      <td>8.790000e+02</td>\n",
              "      <td>8.800000e+02</td>\n",
              "      <td>8.810000e+02</td>\n",
              "      <td>8.820000e+02</td>\n",
              "      <td>1.018000e+03</td>\n",
              "    </tr>\n",
              "    <tr>\n",
              "      <th>CO_PROVA_LC</th>\n",
              "      <td>184844.0</td>\n",
              "      <td>8.968647e+02</td>\n",
              "      <td>28.422958</td>\n",
              "      <td>8.890000e+02</td>\n",
              "      <td>8.900000e+02</td>\n",
              "      <td>8.910000e+02</td>\n",
              "      <td>8.920000e+02</td>\n",
              "      <td>1.028000e+03</td>\n",
              "    </tr>\n",
              "    <tr>\n",
              "      <th>CO_PROVA_MT</th>\n",
              "      <td>175356.0</td>\n",
              "      <td>9.064295e+02</td>\n",
              "      <td>27.385340</td>\n",
              "      <td>8.990000e+02</td>\n",
              "      <td>9.000000e+02</td>\n",
              "      <td>9.010000e+02</td>\n",
              "      <td>9.020000e+02</td>\n",
              "      <td>1.038000e+03</td>\n",
              "    </tr>\n",
              "    <tr>\n",
              "      <th>NU_NOTA_CN</th>\n",
              "      <td>175356.0</td>\n",
              "      <td>4.799396e+02</td>\n",
              "      <td>75.043774</td>\n",
              "      <td>0.000000e+00</td>\n",
              "      <td>4.243000e+02</td>\n",
              "      <td>4.704000e+02</td>\n",
              "      <td>5.276000e+02</td>\n",
              "      <td>8.390000e+02</td>\n",
              "    </tr>\n",
              "    <tr>\n",
              "      <th>NU_NOTA_CH</th>\n",
              "      <td>184844.0</td>\n",
              "      <td>5.062345e+02</td>\n",
              "      <td>94.101182</td>\n",
              "      <td>0.000000e+00</td>\n",
              "      <td>4.315000e+02</td>\n",
              "      <td>5.028000e+02</td>\n",
              "      <td>5.754000e+02</td>\n",
              "      <td>8.469000e+02</td>\n",
              "    </tr>\n",
              "    <tr>\n",
              "      <th>NU_NOTA_LC</th>\n",
              "      <td>184844.0</td>\n",
              "      <td>4.891311e+02</td>\n",
              "      <td>77.829960</td>\n",
              "      <td>0.000000e+00</td>\n",
              "      <td>4.323000e+02</td>\n",
              "      <td>4.902000e+02</td>\n",
              "      <td>5.447000e+02</td>\n",
              "      <td>8.216000e+02</td>\n",
              "    </tr>\n",
              "    <tr>\n",
              "      <th>NU_NOTA_MT</th>\n",
              "      <td>175356.0</td>\n",
              "      <td>5.135080e+02</td>\n",
              "      <td>101.187047</td>\n",
              "      <td>0.000000e+00</td>\n",
              "      <td>4.337000e+02</td>\n",
              "      <td>4.915000e+02</td>\n",
              "      <td>5.794000e+02</td>\n",
              "      <td>9.531000e+02</td>\n",
              "    </tr>\n",
              "    <tr>\n",
              "      <th>TP_LINGUA</th>\n",
              "      <td>266194.0</td>\n",
              "      <td>4.814158e-01</td>\n",
              "      <td>0.499655</td>\n",
              "      <td>0.000000e+00</td>\n",
              "      <td>0.000000e+00</td>\n",
              "      <td>0.000000e+00</td>\n",
              "      <td>1.000000e+00</td>\n",
              "      <td>1.000000e+00</td>\n",
              "    </tr>\n",
              "    <tr>\n",
              "      <th>TP_STATUS_REDACAO</th>\n",
              "      <td>184844.0</td>\n",
              "      <td>1.128892e+00</td>\n",
              "      <td>0.769342</td>\n",
              "      <td>1.000000e+00</td>\n",
              "      <td>1.000000e+00</td>\n",
              "      <td>1.000000e+00</td>\n",
              "      <td>1.000000e+00</td>\n",
              "      <td>9.000000e+00</td>\n",
              "    </tr>\n",
              "    <tr>\n",
              "      <th>NU_NOTA_COMP1</th>\n",
              "      <td>184844.0</td>\n",
              "      <td>1.163537e+02</td>\n",
              "      <td>32.975823</td>\n",
              "      <td>0.000000e+00</td>\n",
              "      <td>1.000000e+02</td>\n",
              "      <td>1.200000e+02</td>\n",
              "      <td>1.400000e+02</td>\n",
              "      <td>2.000000e+02</td>\n",
              "    </tr>\n",
              "    <tr>\n",
              "      <th>NU_NOTA_COMP2</th>\n",
              "      <td>184844.0</td>\n",
              "      <td>1.374400e+02</td>\n",
              "      <td>44.661524</td>\n",
              "      <td>0.000000e+00</td>\n",
              "      <td>1.200000e+02</td>\n",
              "      <td>1.200000e+02</td>\n",
              "      <td>1.800000e+02</td>\n",
              "      <td>2.000000e+02</td>\n",
              "    </tr>\n",
              "    <tr>\n",
              "      <th>NU_NOTA_COMP3</th>\n",
              "      <td>184844.0</td>\n",
              "      <td>1.141837e+02</td>\n",
              "      <td>35.119702</td>\n",
              "      <td>0.000000e+00</td>\n",
              "      <td>1.000000e+02</td>\n",
              "      <td>1.200000e+02</td>\n",
              "      <td>1.200000e+02</td>\n",
              "      <td>2.000000e+02</td>\n",
              "    </tr>\n",
              "    <tr>\n",
              "      <th>NU_NOTA_COMP4</th>\n",
              "      <td>184844.0</td>\n",
              "      <td>1.267852e+02</td>\n",
              "      <td>37.470281</td>\n",
              "      <td>0.000000e+00</td>\n",
              "      <td>1.200000e+02</td>\n",
              "      <td>1.200000e+02</td>\n",
              "      <td>1.400000e+02</td>\n",
              "      <td>2.000000e+02</td>\n",
              "    </tr>\n",
              "    <tr>\n",
              "      <th>NU_NOTA_COMP5</th>\n",
              "      <td>184844.0</td>\n",
              "      <td>1.115144e+02</td>\n",
              "      <td>58.994407</td>\n",
              "      <td>0.000000e+00</td>\n",
              "      <td>8.000000e+01</td>\n",
              "      <td>1.200000e+02</td>\n",
              "      <td>1.600000e+02</td>\n",
              "      <td>2.000000e+02</td>\n",
              "    </tr>\n",
              "    <tr>\n",
              "      <th>NU_NOTA_REDACAO</th>\n",
              "      <td>184844.0</td>\n",
              "      <td>6.062770e+02</td>\n",
              "      <td>184.233494</td>\n",
              "      <td>0.000000e+00</td>\n",
              "      <td>5.200000e+02</td>\n",
              "      <td>6.000000e+02</td>\n",
              "      <td>7.200000e+02</td>\n",
              "      <td>1.000000e+03</td>\n",
              "    </tr>\n",
              "  </tbody>\n",
              "</table>\n",
              "</div>\n",
              "    <div class=\"colab-df-buttons\">\n",
              "\n",
              "  <div class=\"colab-df-container\">\n",
              "    <button class=\"colab-df-convert\" onclick=\"convertToInteractive('df-c5dd55f7-cef2-461f-8447-a39cddd0c181')\"\n",
              "            title=\"Convert this dataframe to an interactive table.\"\n",
              "            style=\"display:none;\">\n",
              "\n",
              "  <svg xmlns=\"http://www.w3.org/2000/svg\" height=\"24px\" viewBox=\"0 -960 960 960\">\n",
              "    <path d=\"M120-120v-720h720v720H120Zm60-500h600v-160H180v160Zm220 220h160v-160H400v160Zm0 220h160v-160H400v160ZM180-400h160v-160H180v160Zm440 0h160v-160H620v160ZM180-180h160v-160H180v160Zm440 0h160v-160H620v160Z\"/>\n",
              "  </svg>\n",
              "    </button>\n",
              "\n",
              "  <style>\n",
              "    .colab-df-container {\n",
              "      display:flex;\n",
              "      gap: 12px;\n",
              "    }\n",
              "\n",
              "    .colab-df-convert {\n",
              "      background-color: #E8F0FE;\n",
              "      border: none;\n",
              "      border-radius: 50%;\n",
              "      cursor: pointer;\n",
              "      display: none;\n",
              "      fill: #1967D2;\n",
              "      height: 32px;\n",
              "      padding: 0 0 0 0;\n",
              "      width: 32px;\n",
              "    }\n",
              "\n",
              "    .colab-df-convert:hover {\n",
              "      background-color: #E2EBFA;\n",
              "      box-shadow: 0px 1px 2px rgba(60, 64, 67, 0.3), 0px 1px 3px 1px rgba(60, 64, 67, 0.15);\n",
              "      fill: #174EA6;\n",
              "    }\n",
              "\n",
              "    .colab-df-buttons div {\n",
              "      margin-bottom: 4px;\n",
              "    }\n",
              "\n",
              "    [theme=dark] .colab-df-convert {\n",
              "      background-color: #3B4455;\n",
              "      fill: #D2E3FC;\n",
              "    }\n",
              "\n",
              "    [theme=dark] .colab-df-convert:hover {\n",
              "      background-color: #434B5C;\n",
              "      box-shadow: 0px 1px 3px 1px rgba(0, 0, 0, 0.15);\n",
              "      filter: drop-shadow(0px 1px 2px rgba(0, 0, 0, 0.3));\n",
              "      fill: #FFFFFF;\n",
              "    }\n",
              "  </style>\n",
              "\n",
              "    <script>\n",
              "      const buttonEl =\n",
              "        document.querySelector('#df-c5dd55f7-cef2-461f-8447-a39cddd0c181 button.colab-df-convert');\n",
              "      buttonEl.style.display =\n",
              "        google.colab.kernel.accessAllowed ? 'block' : 'none';\n",
              "\n",
              "      async function convertToInteractive(key) {\n",
              "        const element = document.querySelector('#df-c5dd55f7-cef2-461f-8447-a39cddd0c181');\n",
              "        const dataTable =\n",
              "          await google.colab.kernel.invokeFunction('convertToInteractive',\n",
              "                                                    [key], {});\n",
              "        if (!dataTable) return;\n",
              "\n",
              "        const docLinkHtml = 'Like what you see? Visit the ' +\n",
              "          '<a target=\"_blank\" href=https://colab.research.google.com/notebooks/data_table.ipynb>data table notebook</a>'\n",
              "          + ' to learn more about interactive tables.';\n",
              "        element.innerHTML = '';\n",
              "        dataTable['output_type'] = 'display_data';\n",
              "        await google.colab.output.renderOutput(dataTable, element);\n",
              "        const docLink = document.createElement('div');\n",
              "        docLink.innerHTML = docLinkHtml;\n",
              "        element.appendChild(docLink);\n",
              "      }\n",
              "    </script>\n",
              "  </div>\n",
              "\n",
              "\n",
              "    <div id=\"df-2e425e46-32ad-47fb-8159-155d488185a7\">\n",
              "      <button class=\"colab-df-quickchart\" onclick=\"quickchart('df-2e425e46-32ad-47fb-8159-155d488185a7')\"\n",
              "                title=\"Suggest charts\"\n",
              "                style=\"display:none;\">\n",
              "\n",
              "<svg xmlns=\"http://www.w3.org/2000/svg\" height=\"24px\"viewBox=\"0 0 24 24\"\n",
              "     width=\"24px\">\n",
              "    <g>\n",
              "        <path d=\"M19 3H5c-1.1 0-2 .9-2 2v14c0 1.1.9 2 2 2h14c1.1 0 2-.9 2-2V5c0-1.1-.9-2-2-2zM9 17H7v-7h2v7zm4 0h-2V7h2v10zm4 0h-2v-4h2v4z\"/>\n",
              "    </g>\n",
              "</svg>\n",
              "      </button>\n",
              "\n",
              "<style>\n",
              "  .colab-df-quickchart {\n",
              "      --bg-color: #E8F0FE;\n",
              "      --fill-color: #1967D2;\n",
              "      --hover-bg-color: #E2EBFA;\n",
              "      --hover-fill-color: #174EA6;\n",
              "      --disabled-fill-color: #AAA;\n",
              "      --disabled-bg-color: #DDD;\n",
              "  }\n",
              "\n",
              "  [theme=dark] .colab-df-quickchart {\n",
              "      --bg-color: #3B4455;\n",
              "      --fill-color: #D2E3FC;\n",
              "      --hover-bg-color: #434B5C;\n",
              "      --hover-fill-color: #FFFFFF;\n",
              "      --disabled-bg-color: #3B4455;\n",
              "      --disabled-fill-color: #666;\n",
              "  }\n",
              "\n",
              "  .colab-df-quickchart {\n",
              "    background-color: var(--bg-color);\n",
              "    border: none;\n",
              "    border-radius: 50%;\n",
              "    cursor: pointer;\n",
              "    display: none;\n",
              "    fill: var(--fill-color);\n",
              "    height: 32px;\n",
              "    padding: 0;\n",
              "    width: 32px;\n",
              "  }\n",
              "\n",
              "  .colab-df-quickchart:hover {\n",
              "    background-color: var(--hover-bg-color);\n",
              "    box-shadow: 0 1px 2px rgba(60, 64, 67, 0.3), 0 1px 3px 1px rgba(60, 64, 67, 0.15);\n",
              "    fill: var(--button-hover-fill-color);\n",
              "  }\n",
              "\n",
              "  .colab-df-quickchart-complete:disabled,\n",
              "  .colab-df-quickchart-complete:disabled:hover {\n",
              "    background-color: var(--disabled-bg-color);\n",
              "    fill: var(--disabled-fill-color);\n",
              "    box-shadow: none;\n",
              "  }\n",
              "\n",
              "  .colab-df-spinner {\n",
              "    border: 2px solid var(--fill-color);\n",
              "    border-color: transparent;\n",
              "    border-bottom-color: var(--fill-color);\n",
              "    animation:\n",
              "      spin 1s steps(1) infinite;\n",
              "  }\n",
              "\n",
              "  @keyframes spin {\n",
              "    0% {\n",
              "      border-color: transparent;\n",
              "      border-bottom-color: var(--fill-color);\n",
              "      border-left-color: var(--fill-color);\n",
              "    }\n",
              "    20% {\n",
              "      border-color: transparent;\n",
              "      border-left-color: var(--fill-color);\n",
              "      border-top-color: var(--fill-color);\n",
              "    }\n",
              "    30% {\n",
              "      border-color: transparent;\n",
              "      border-left-color: var(--fill-color);\n",
              "      border-top-color: var(--fill-color);\n",
              "      border-right-color: var(--fill-color);\n",
              "    }\n",
              "    40% {\n",
              "      border-color: transparent;\n",
              "      border-right-color: var(--fill-color);\n",
              "      border-top-color: var(--fill-color);\n",
              "    }\n",
              "    60% {\n",
              "      border-color: transparent;\n",
              "      border-right-color: var(--fill-color);\n",
              "    }\n",
              "    80% {\n",
              "      border-color: transparent;\n",
              "      border-right-color: var(--fill-color);\n",
              "      border-bottom-color: var(--fill-color);\n",
              "    }\n",
              "    90% {\n",
              "      border-color: transparent;\n",
              "      border-bottom-color: var(--fill-color);\n",
              "    }\n",
              "  }\n",
              "</style>\n",
              "\n",
              "      <script>\n",
              "        async function quickchart(key) {\n",
              "          const quickchartButtonEl =\n",
              "            document.querySelector('#' + key + ' button');\n",
              "          quickchartButtonEl.disabled = true;  // To prevent multiple clicks.\n",
              "          quickchartButtonEl.classList.add('colab-df-spinner');\n",
              "          try {\n",
              "            const charts = await google.colab.kernel.invokeFunction(\n",
              "                'suggestCharts', [key], {});\n",
              "          } catch (error) {\n",
              "            console.error('Error during call to suggestCharts:', error);\n",
              "          }\n",
              "          quickchartButtonEl.classList.remove('colab-df-spinner');\n",
              "          quickchartButtonEl.classList.add('colab-df-quickchart-complete');\n",
              "        }\n",
              "        (() => {\n",
              "          let quickchartButtonEl =\n",
              "            document.querySelector('#df-2e425e46-32ad-47fb-8159-155d488185a7 button');\n",
              "          quickchartButtonEl.style.display =\n",
              "            google.colab.kernel.accessAllowed ? 'block' : 'none';\n",
              "        })();\n",
              "      </script>\n",
              "    </div>\n",
              "\n",
              "    </div>\n",
              "  </div>\n"
            ],
            "application/vnd.google.colaboratory.intrinsic+json": {
              "type": "dataframe",
              "summary": "{\n  \"name\": \"dados\",\n  \"rows\": 38,\n  \"fields\": [\n    {\n      \"column\": \"count\",\n      \"properties\": {\n        \"dtype\": \"number\",\n        \"std\": 75084.95320362346,\n        \"min\": 47820.0,\n        \"max\": 266194.0,\n        \"num_unique_values\": 5,\n        \"samples\": [\n          84388.0,\n          184844.0,\n          47820.0\n        ],\n        \"semantic_type\": \"\",\n        \"description\": \"\"\n      }\n    },\n    {\n      \"column\": \"mean\",\n      \"properties\": {\n        \"dtype\": \"number\",\n        \"std\": 34075026172.17439,\n        \"min\": 0.12265866247924447,\n        \"max\": 210052726549.6326,\n        \"num_unique_values\": 36,\n        \"samples\": [\n          606.2769686871092,\n          2.4117314930991216,\n          489.13113057497134\n        ],\n        \"semantic_type\": \"\",\n        \"description\": \"\"\n      }\n    },\n    {\n      \"column\": \"std\",\n      \"properties\": {\n        \"dtype\": \"number\",\n        \"std\": 159405.7397260127,\n        \"min\": 0.0,\n        \"max\": 981957.6878601755,\n        \"num_unique_values\": 35,\n        \"samples\": [\n          101.18704697696714,\n          0.9261893848696334,\n          94.101181738158\n        ],\n        \"semantic_type\": \"\",\n        \"description\": \"\"\n      }\n    },\n    {\n      \"column\": \"min\",\n      \"properties\": {\n        \"dtype\": \"number\",\n        \"std\": 34074756492.888878,\n        \"min\": 0.0,\n        \"max\": 210051014333.0,\n        \"num_unique_values\": 12,\n        \"samples\": [\n          889.0,\n          879.0,\n          210051014333.0\n        ],\n        \"semantic_type\": \"\",\n        \"description\": \"\"\n      }\n    },\n    {\n      \"column\": \"25%\",\n      \"properties\": {\n        \"dtype\": \"number\",\n        \"std\": 34074888084.33022,\n        \"min\": 0.0,\n        \"max\": 210051874786.0,\n        \"num_unique_values\": 20,\n        \"samples\": [\n          210051874786.0,\n          120.0,\n          433.7\n        ],\n        \"semantic_type\": \"\",\n        \"description\": \"\"\n      }\n    },\n    {\n      \"column\": \"50%\",\n      \"properties\": {\n        \"dtype\": \"number\",\n        \"std\": 34075028570.27455,\n        \"min\": 0.0,\n        \"max\": 210052741349.5,\n        \"num_unique_values\": 20,\n        \"samples\": [\n          210052741349.5,\n          491.5,\n          502.8\n        ],\n        \"semantic_type\": \"\",\n        \"description\": \"\"\n      }\n    },\n    {\n      \"column\": \"75%\",\n      \"properties\": {\n        \"dtype\": \"number\",\n        \"std\": 34075169037.64271,\n        \"min\": 0.0,\n        \"max\": 210053607621.5,\n        \"num_unique_values\": 23,\n        \"samples\": [\n          575.4,\n          29.0,\n          210053607621.5\n        ],\n        \"semantic_type\": \"\",\n        \"description\": \"\"\n      }\n    },\n    {\n      \"column\": \"max\",\n      \"properties\": {\n        \"dtype\": \"number\",\n        \"std\": 34075297765.509174,\n        \"min\": 1.0,\n        \"max\": 210054465467.0,\n        \"num_unique_values\": 24,\n        \"samples\": [\n          1.0,\n          1038.0,\n          210054465467.0\n        ],\n        \"semantic_type\": \"\",\n        \"description\": \"\"\n      }\n    }\n  ]\n}"
            }
          },
          "metadata": {},
          "execution_count": 16
        }
      ]
    },
    {
      "cell_type": "code",
      "source": [
        "dados.index"
      ],
      "metadata": {
        "id": "EHewsutAjn-o",
        "colab": {
          "base_uri": "https://localhost:8080/"
        },
        "outputId": "191d08cd-0bb5-4ce5-a3c0-4e7f6953577f"
      },
      "execution_count": 17,
      "outputs": [
        {
          "output_type": "execute_result",
          "data": {
            "text/plain": [
              "RangeIndex(start=0, stop=266194, step=1)"
            ]
          },
          "metadata": {},
          "execution_count": 17
        }
      ]
    },
    {
      "cell_type": "code",
      "source": [
        "#Quantidade de dados únicos em cada coluna\n",
        "dados.nunique().sort_values(ascending=True)"
      ],
      "metadata": {
        "colab": {
          "base_uri": "https://localhost:8080/",
          "height": 1000
        },
        "id": "WLYbq4xRW3Nh",
        "outputId": "0715e046-d1fd-42e5-d7d4-b4ce770b2eb6"
      },
      "execution_count": 18,
      "outputs": [
        {
          "output_type": "execute_result",
          "data": {
            "text/plain": [
              "NU_ANO                         1\n",
              "SG_UF_PROVA                    1\n",
              "CO_UF_PROVA                    1\n",
              "TP_SEXO                        2\n",
              "TP_ENSINO                      2\n",
              "TP_LOCALIZACAO_ESC             2\n",
              "IN_TREINEIRO                   2\n",
              "TP_LINGUA                      2\n",
              "TP_PRESENCA_CN                 3\n",
              "TP_PRESENCA_CH                 3\n",
              "TP_PRESENCA_MT                 3\n",
              "TP_PRESENCA_LC                 3\n",
              "TP_ESCOLA                      3\n",
              "TP_DEPENDENCIA_ADM_ESC         4\n",
              "TP_SIT_FUNC_ESC                4\n",
              "TP_ST_CONCLUSAO                4\n",
              "TP_ESTADO_CIVIL                5\n",
              "TP_NACIONALIDADE               5\n",
              "TP_COR_RACA                    6\n",
              "TX_GABARITO_MT                 8\n",
              "TX_GABARITO_CN                 8\n",
              "TX_GABARITO_CH                 8\n",
              "TP_STATUS_REDACAO              8\n",
              "TX_GABARITO_LC                10\n",
              "NU_NOTA_COMP2                 10\n",
              "NU_NOTA_COMP1                 11\n",
              "NU_NOTA_COMP4                 11\n",
              "NU_NOTA_COMP3                 11\n",
              "NU_NOTA_COMP5                 11\n",
              "TP_ANO_CONCLUIU               16\n",
              "CO_PROVA_MT                   18\n",
              "CO_PROVA_LC                   18\n",
              "CO_PROVA_CN                   18\n",
              "CO_PROVA_CH                   18\n",
              "TP_FAIXA_ETARIA               20\n",
              "SG_UF_ESC                     23\n",
              "CO_UF_ESC                     23\n",
              "NU_NOTA_REDACAO               50\n",
              "CO_MUNICIPIO_PROVA           162\n",
              "NO_MUNICIPIO_PROVA           162\n",
              "NO_MUNICIPIO_ESC             588\n",
              "CO_MUNICIPIO_ESC             590\n",
              "NU_NOTA_LC                  4183\n",
              "NU_NOTA_CN                  4185\n",
              "NU_NOTA_CH                  4512\n",
              "NU_NOTA_MT                  5371\n",
              "TX_RESPOSTAS_MT           175270\n",
              "TX_RESPOSTAS_CN           175290\n",
              "TX_RESPOSTAS_CH           184475\n",
              "TX_RESPOSTAS_LC           184718\n",
              "NU_INSCRICAO              266194\n",
              "dtype: int64"
            ],
            "text/html": [
              "<div>\n",
              "<style scoped>\n",
              "    .dataframe tbody tr th:only-of-type {\n",
              "        vertical-align: middle;\n",
              "    }\n",
              "\n",
              "    .dataframe tbody tr th {\n",
              "        vertical-align: top;\n",
              "    }\n",
              "\n",
              "    .dataframe thead th {\n",
              "        text-align: right;\n",
              "    }\n",
              "</style>\n",
              "<table border=\"1\" class=\"dataframe\">\n",
              "  <thead>\n",
              "    <tr style=\"text-align: right;\">\n",
              "      <th></th>\n",
              "      <th>0</th>\n",
              "    </tr>\n",
              "  </thead>\n",
              "  <tbody>\n",
              "    <tr>\n",
              "      <th>NU_ANO</th>\n",
              "      <td>1</td>\n",
              "    </tr>\n",
              "    <tr>\n",
              "      <th>SG_UF_PROVA</th>\n",
              "      <td>1</td>\n",
              "    </tr>\n",
              "    <tr>\n",
              "      <th>CO_UF_PROVA</th>\n",
              "      <td>1</td>\n",
              "    </tr>\n",
              "    <tr>\n",
              "      <th>TP_SEXO</th>\n",
              "      <td>2</td>\n",
              "    </tr>\n",
              "    <tr>\n",
              "      <th>TP_ENSINO</th>\n",
              "      <td>2</td>\n",
              "    </tr>\n",
              "    <tr>\n",
              "      <th>TP_LOCALIZACAO_ESC</th>\n",
              "      <td>2</td>\n",
              "    </tr>\n",
              "    <tr>\n",
              "      <th>IN_TREINEIRO</th>\n",
              "      <td>2</td>\n",
              "    </tr>\n",
              "    <tr>\n",
              "      <th>TP_LINGUA</th>\n",
              "      <td>2</td>\n",
              "    </tr>\n",
              "    <tr>\n",
              "      <th>TP_PRESENCA_CN</th>\n",
              "      <td>3</td>\n",
              "    </tr>\n",
              "    <tr>\n",
              "      <th>TP_PRESENCA_CH</th>\n",
              "      <td>3</td>\n",
              "    </tr>\n",
              "    <tr>\n",
              "      <th>TP_PRESENCA_MT</th>\n",
              "      <td>3</td>\n",
              "    </tr>\n",
              "    <tr>\n",
              "      <th>TP_PRESENCA_LC</th>\n",
              "      <td>3</td>\n",
              "    </tr>\n",
              "    <tr>\n",
              "      <th>TP_ESCOLA</th>\n",
              "      <td>3</td>\n",
              "    </tr>\n",
              "    <tr>\n",
              "      <th>TP_DEPENDENCIA_ADM_ESC</th>\n",
              "      <td>4</td>\n",
              "    </tr>\n",
              "    <tr>\n",
              "      <th>TP_SIT_FUNC_ESC</th>\n",
              "      <td>4</td>\n",
              "    </tr>\n",
              "    <tr>\n",
              "      <th>TP_ST_CONCLUSAO</th>\n",
              "      <td>4</td>\n",
              "    </tr>\n",
              "    <tr>\n",
              "      <th>TP_ESTADO_CIVIL</th>\n",
              "      <td>5</td>\n",
              "    </tr>\n",
              "    <tr>\n",
              "      <th>TP_NACIONALIDADE</th>\n",
              "      <td>5</td>\n",
              "    </tr>\n",
              "    <tr>\n",
              "      <th>TP_COR_RACA</th>\n",
              "      <td>6</td>\n",
              "    </tr>\n",
              "    <tr>\n",
              "      <th>TX_GABARITO_MT</th>\n",
              "      <td>8</td>\n",
              "    </tr>\n",
              "    <tr>\n",
              "      <th>TX_GABARITO_CN</th>\n",
              "      <td>8</td>\n",
              "    </tr>\n",
              "    <tr>\n",
              "      <th>TX_GABARITO_CH</th>\n",
              "      <td>8</td>\n",
              "    </tr>\n",
              "    <tr>\n",
              "      <th>TP_STATUS_REDACAO</th>\n",
              "      <td>8</td>\n",
              "    </tr>\n",
              "    <tr>\n",
              "      <th>TX_GABARITO_LC</th>\n",
              "      <td>10</td>\n",
              "    </tr>\n",
              "    <tr>\n",
              "      <th>NU_NOTA_COMP2</th>\n",
              "      <td>10</td>\n",
              "    </tr>\n",
              "    <tr>\n",
              "      <th>NU_NOTA_COMP1</th>\n",
              "      <td>11</td>\n",
              "    </tr>\n",
              "    <tr>\n",
              "      <th>NU_NOTA_COMP4</th>\n",
              "      <td>11</td>\n",
              "    </tr>\n",
              "    <tr>\n",
              "      <th>NU_NOTA_COMP3</th>\n",
              "      <td>11</td>\n",
              "    </tr>\n",
              "    <tr>\n",
              "      <th>NU_NOTA_COMP5</th>\n",
              "      <td>11</td>\n",
              "    </tr>\n",
              "    <tr>\n",
              "      <th>TP_ANO_CONCLUIU</th>\n",
              "      <td>16</td>\n",
              "    </tr>\n",
              "    <tr>\n",
              "      <th>CO_PROVA_MT</th>\n",
              "      <td>18</td>\n",
              "    </tr>\n",
              "    <tr>\n",
              "      <th>CO_PROVA_LC</th>\n",
              "      <td>18</td>\n",
              "    </tr>\n",
              "    <tr>\n",
              "      <th>CO_PROVA_CN</th>\n",
              "      <td>18</td>\n",
              "    </tr>\n",
              "    <tr>\n",
              "      <th>CO_PROVA_CH</th>\n",
              "      <td>18</td>\n",
              "    </tr>\n",
              "    <tr>\n",
              "      <th>TP_FAIXA_ETARIA</th>\n",
              "      <td>20</td>\n",
              "    </tr>\n",
              "    <tr>\n",
              "      <th>SG_UF_ESC</th>\n",
              "      <td>23</td>\n",
              "    </tr>\n",
              "    <tr>\n",
              "      <th>CO_UF_ESC</th>\n",
              "      <td>23</td>\n",
              "    </tr>\n",
              "    <tr>\n",
              "      <th>NU_NOTA_REDACAO</th>\n",
              "      <td>50</td>\n",
              "    </tr>\n",
              "    <tr>\n",
              "      <th>CO_MUNICIPIO_PROVA</th>\n",
              "      <td>162</td>\n",
              "    </tr>\n",
              "    <tr>\n",
              "      <th>NO_MUNICIPIO_PROVA</th>\n",
              "      <td>162</td>\n",
              "    </tr>\n",
              "    <tr>\n",
              "      <th>NO_MUNICIPIO_ESC</th>\n",
              "      <td>588</td>\n",
              "    </tr>\n",
              "    <tr>\n",
              "      <th>CO_MUNICIPIO_ESC</th>\n",
              "      <td>590</td>\n",
              "    </tr>\n",
              "    <tr>\n",
              "      <th>NU_NOTA_LC</th>\n",
              "      <td>4183</td>\n",
              "    </tr>\n",
              "    <tr>\n",
              "      <th>NU_NOTA_CN</th>\n",
              "      <td>4185</td>\n",
              "    </tr>\n",
              "    <tr>\n",
              "      <th>NU_NOTA_CH</th>\n",
              "      <td>4512</td>\n",
              "    </tr>\n",
              "    <tr>\n",
              "      <th>NU_NOTA_MT</th>\n",
              "      <td>5371</td>\n",
              "    </tr>\n",
              "    <tr>\n",
              "      <th>TX_RESPOSTAS_MT</th>\n",
              "      <td>175270</td>\n",
              "    </tr>\n",
              "    <tr>\n",
              "      <th>TX_RESPOSTAS_CN</th>\n",
              "      <td>175290</td>\n",
              "    </tr>\n",
              "    <tr>\n",
              "      <th>TX_RESPOSTAS_CH</th>\n",
              "      <td>184475</td>\n",
              "    </tr>\n",
              "    <tr>\n",
              "      <th>TX_RESPOSTAS_LC</th>\n",
              "      <td>184718</td>\n",
              "    </tr>\n",
              "    <tr>\n",
              "      <th>NU_INSCRICAO</th>\n",
              "      <td>266194</td>\n",
              "    </tr>\n",
              "  </tbody>\n",
              "</table>\n",
              "</div><br><label><b>dtype:</b> int64</label>"
            ]
          },
          "metadata": {},
          "execution_count": 18
        }
      ]
    },
    {
      "cell_type": "code",
      "source": [
        "#Tipo DataFrame\n",
        "type(dados)"
      ],
      "metadata": {
        "colab": {
          "base_uri": "https://localhost:8080/",
          "height": 203
        },
        "id": "vu90ixtKWtbd",
        "outputId": "89ef329e-0c5f-4b74-d950-f46167861022"
      },
      "execution_count": 19,
      "outputs": [
        {
          "output_type": "execute_result",
          "data": {
            "text/plain": [
              "pandas.core.frame.DataFrame"
            ],
            "text/html": [
              "<div style=\"max-width:800px; border: 1px solid var(--colab-border-color);\"><style>\n",
              "      pre.function-repr-contents {\n",
              "        overflow-x: auto;\n",
              "        padding: 8px 12px;\n",
              "        max-height: 500px;\n",
              "      }\n",
              "\n",
              "      pre.function-repr-contents.function-repr-contents-collapsed {\n",
              "        cursor: pointer;\n",
              "        max-height: 100px;\n",
              "      }\n",
              "    </style>\n",
              "    <pre style=\"white-space: initial; background:\n",
              "         var(--colab-secondary-surface-color); padding: 8px 12px;\n",
              "         border-bottom: 1px solid var(--colab-border-color);\"><b>pandas.core.frame.DataFrame</b><br/>def __init__(data=None, index: Axes | None=None, columns: Axes | None=None, dtype: Dtype | None=None, copy: bool | None=None) -&gt; None</pre><pre class=\"function-repr-contents function-repr-contents-collapsed\" style=\"\"><a class=\"filepath\" style=\"display:none\" href=\"#\">/usr/local/lib/python3.12/dist-packages/pandas/core/frame.py</a>Two-dimensional, size-mutable, potentially heterogeneous tabular data.\n",
              "\n",
              "Data structure also contains labeled axes (rows and columns).\n",
              "Arithmetic operations align on both row and column labels. Can be\n",
              "thought of as a dict-like container for Series objects. The primary\n",
              "pandas data structure.\n",
              "\n",
              "Parameters\n",
              "----------\n",
              "data : ndarray (structured or homogeneous), Iterable, dict, or DataFrame\n",
              "    Dict can contain Series, arrays, constants, dataclass or list-like objects. If\n",
              "    data is a dict, column order follows insertion-order. If a dict contains Series\n",
              "    which have an index defined, it is aligned by its index. This alignment also\n",
              "    occurs if data is a Series or a DataFrame itself. Alignment is done on\n",
              "    Series/DataFrame inputs.\n",
              "\n",
              "    If data is a list of dicts, column order follows insertion-order.\n",
              "\n",
              "index : Index or array-like\n",
              "    Index to use for resulting frame. Will default to RangeIndex if\n",
              "    no indexing information part of input data and no index provided.\n",
              "columns : Index or array-like\n",
              "    Column labels to use for resulting frame when data does not have them,\n",
              "    defaulting to RangeIndex(0, 1, 2, ..., n). If data contains column labels,\n",
              "    will perform column selection instead.\n",
              "dtype : dtype, default None\n",
              "    Data type to force. Only a single dtype is allowed. If None, infer.\n",
              "copy : bool or None, default None\n",
              "    Copy data from inputs.\n",
              "    For dict data, the default of None behaves like ``copy=True``.  For DataFrame\n",
              "    or 2d ndarray input, the default of None behaves like ``copy=False``.\n",
              "    If data is a dict containing one or more Series (possibly of different dtypes),\n",
              "    ``copy=False`` will ensure that these inputs are not copied.\n",
              "\n",
              "    .. versionchanged:: 1.3.0\n",
              "\n",
              "See Also\n",
              "--------\n",
              "DataFrame.from_records : Constructor from tuples, also record arrays.\n",
              "DataFrame.from_dict : From dicts of Series, arrays, or dicts.\n",
              "read_csv : Read a comma-separated values (csv) file into DataFrame.\n",
              "read_table : Read general delimited file into DataFrame.\n",
              "read_clipboard : Read text from clipboard into DataFrame.\n",
              "\n",
              "Notes\n",
              "-----\n",
              "Please reference the :ref:`User Guide &lt;basics.dataframe&gt;` for more information.\n",
              "\n",
              "Examples\n",
              "--------\n",
              "Constructing DataFrame from a dictionary.\n",
              "\n",
              "&gt;&gt;&gt; d = {&#x27;col1&#x27;: [1, 2], &#x27;col2&#x27;: [3, 4]}\n",
              "&gt;&gt;&gt; df = pd.DataFrame(data=d)\n",
              "&gt;&gt;&gt; df\n",
              "   col1  col2\n",
              "0     1     3\n",
              "1     2     4\n",
              "\n",
              "Notice that the inferred dtype is int64.\n",
              "\n",
              "&gt;&gt;&gt; df.dtypes\n",
              "col1    int64\n",
              "col2    int64\n",
              "dtype: object\n",
              "\n",
              "To enforce a single dtype:\n",
              "\n",
              "&gt;&gt;&gt; df = pd.DataFrame(data=d, dtype=np.int8)\n",
              "&gt;&gt;&gt; df.dtypes\n",
              "col1    int8\n",
              "col2    int8\n",
              "dtype: object\n",
              "\n",
              "Constructing DataFrame from a dictionary including Series:\n",
              "\n",
              "&gt;&gt;&gt; d = {&#x27;col1&#x27;: [0, 1, 2, 3], &#x27;col2&#x27;: pd.Series([2, 3], index=[2, 3])}\n",
              "&gt;&gt;&gt; pd.DataFrame(data=d, index=[0, 1, 2, 3])\n",
              "   col1  col2\n",
              "0     0   NaN\n",
              "1     1   NaN\n",
              "2     2   2.0\n",
              "3     3   3.0\n",
              "\n",
              "Constructing DataFrame from numpy ndarray:\n",
              "\n",
              "&gt;&gt;&gt; df2 = pd.DataFrame(np.array([[1, 2, 3], [4, 5, 6], [7, 8, 9]]),\n",
              "...                    columns=[&#x27;a&#x27;, &#x27;b&#x27;, &#x27;c&#x27;])\n",
              "&gt;&gt;&gt; df2\n",
              "   a  b  c\n",
              "0  1  2  3\n",
              "1  4  5  6\n",
              "2  7  8  9\n",
              "\n",
              "Constructing DataFrame from a numpy ndarray that has labeled columns:\n",
              "\n",
              "&gt;&gt;&gt; data = np.array([(1, 2, 3), (4, 5, 6), (7, 8, 9)],\n",
              "...                 dtype=[(&quot;a&quot;, &quot;i4&quot;), (&quot;b&quot;, &quot;i4&quot;), (&quot;c&quot;, &quot;i4&quot;)])\n",
              "&gt;&gt;&gt; df3 = pd.DataFrame(data, columns=[&#x27;c&#x27;, &#x27;a&#x27;])\n",
              "...\n",
              "&gt;&gt;&gt; df3\n",
              "   c  a\n",
              "0  3  1\n",
              "1  6  4\n",
              "2  9  7\n",
              "\n",
              "Constructing DataFrame from dataclass:\n",
              "\n",
              "&gt;&gt;&gt; from dataclasses import make_dataclass\n",
              "&gt;&gt;&gt; Point = make_dataclass(&quot;Point&quot;, [(&quot;x&quot;, int), (&quot;y&quot;, int)])\n",
              "&gt;&gt;&gt; pd.DataFrame([Point(0, 0), Point(0, 3), Point(2, 3)])\n",
              "   x  y\n",
              "0  0  0\n",
              "1  0  3\n",
              "2  2  3\n",
              "\n",
              "Constructing DataFrame from Series/DataFrame:\n",
              "\n",
              "&gt;&gt;&gt; ser = pd.Series([1, 2, 3], index=[&quot;a&quot;, &quot;b&quot;, &quot;c&quot;])\n",
              "&gt;&gt;&gt; df = pd.DataFrame(data=ser, index=[&quot;a&quot;, &quot;c&quot;])\n",
              "&gt;&gt;&gt; df\n",
              "   0\n",
              "a  1\n",
              "c  3\n",
              "\n",
              "&gt;&gt;&gt; df1 = pd.DataFrame([1, 2, 3], index=[&quot;a&quot;, &quot;b&quot;, &quot;c&quot;], columns=[&quot;x&quot;])\n",
              "&gt;&gt;&gt; df2 = pd.DataFrame(data=df1, index=[&quot;a&quot;, &quot;c&quot;])\n",
              "&gt;&gt;&gt; df2\n",
              "   x\n",
              "a  1\n",
              "c  3</pre>\n",
              "      <script>\n",
              "      if (google.colab.kernel.accessAllowed && google.colab.files && google.colab.files.view) {\n",
              "        for (const element of document.querySelectorAll('.filepath')) {\n",
              "          element.style.display = 'block'\n",
              "          element.onclick = (event) => {\n",
              "            event.preventDefault();\n",
              "            event.stopPropagation();\n",
              "            google.colab.files.view(element.textContent, 509);\n",
              "          };\n",
              "        }\n",
              "      }\n",
              "      for (const element of document.querySelectorAll('.function-repr-contents')) {\n",
              "        element.onclick = (event) => {\n",
              "          event.preventDefault();\n",
              "          event.stopPropagation();\n",
              "          element.classList.toggle('function-repr-contents-collapsed');\n",
              "        };\n",
              "      }\n",
              "      </script>\n",
              "      </div>"
            ]
          },
          "metadata": {},
          "execution_count": 19
        }
      ]
    },
    {
      "cell_type": "markdown",
      "source": [
        "Selecionando colunas"
      ],
      "metadata": {
        "id": "r8QTzyTNYHL_"
      }
    },
    {
      "cell_type": "code",
      "source": [
        "dados.TP_ESCOLA"
      ],
      "metadata": {
        "colab": {
          "base_uri": "https://localhost:8080/",
          "height": 458
        },
        "id": "6TubSiulW0gm",
        "outputId": "7c724d17-f970-4b65-8318-644caf3a5558"
      },
      "execution_count": 20,
      "outputs": [
        {
          "output_type": "execute_result",
          "data": {
            "text/plain": [
              "0         2\n",
              "1         2\n",
              "2         2\n",
              "3         1\n",
              "4         1\n",
              "         ..\n",
              "266189    1\n",
              "266190    1\n",
              "266191    1\n",
              "266192    1\n",
              "266193    1\n",
              "Name: TP_ESCOLA, Length: 266194, dtype: int64"
            ],
            "text/html": [
              "<div>\n",
              "<style scoped>\n",
              "    .dataframe tbody tr th:only-of-type {\n",
              "        vertical-align: middle;\n",
              "    }\n",
              "\n",
              "    .dataframe tbody tr th {\n",
              "        vertical-align: top;\n",
              "    }\n",
              "\n",
              "    .dataframe thead th {\n",
              "        text-align: right;\n",
              "    }\n",
              "</style>\n",
              "<table border=\"1\" class=\"dataframe\">\n",
              "  <thead>\n",
              "    <tr style=\"text-align: right;\">\n",
              "      <th></th>\n",
              "      <th>TP_ESCOLA</th>\n",
              "    </tr>\n",
              "  </thead>\n",
              "  <tbody>\n",
              "    <tr>\n",
              "      <th>0</th>\n",
              "      <td>2</td>\n",
              "    </tr>\n",
              "    <tr>\n",
              "      <th>1</th>\n",
              "      <td>2</td>\n",
              "    </tr>\n",
              "    <tr>\n",
              "      <th>2</th>\n",
              "      <td>2</td>\n",
              "    </tr>\n",
              "    <tr>\n",
              "      <th>3</th>\n",
              "      <td>1</td>\n",
              "    </tr>\n",
              "    <tr>\n",
              "      <th>4</th>\n",
              "      <td>1</td>\n",
              "    </tr>\n",
              "    <tr>\n",
              "      <th>...</th>\n",
              "      <td>...</td>\n",
              "    </tr>\n",
              "    <tr>\n",
              "      <th>266189</th>\n",
              "      <td>1</td>\n",
              "    </tr>\n",
              "    <tr>\n",
              "      <th>266190</th>\n",
              "      <td>1</td>\n",
              "    </tr>\n",
              "    <tr>\n",
              "      <th>266191</th>\n",
              "      <td>1</td>\n",
              "    </tr>\n",
              "    <tr>\n",
              "      <th>266192</th>\n",
              "      <td>1</td>\n",
              "    </tr>\n",
              "    <tr>\n",
              "      <th>266193</th>\n",
              "      <td>1</td>\n",
              "    </tr>\n",
              "  </tbody>\n",
              "</table>\n",
              "<p>266194 rows × 1 columns</p>\n",
              "</div><br><label><b>dtype:</b> int64</label>"
            ]
          },
          "metadata": {},
          "execution_count": 20
        }
      ]
    },
    {
      "cell_type": "code",
      "source": [
        "dados[\"TP_ESCOLA\"]"
      ],
      "metadata": {
        "colab": {
          "base_uri": "https://localhost:8080/",
          "height": 458
        },
        "id": "lnbEvBRPYLab",
        "outputId": "c9f63592-a369-473d-a65a-0d5b162c55ee"
      },
      "execution_count": 21,
      "outputs": [
        {
          "output_type": "execute_result",
          "data": {
            "text/plain": [
              "0         2\n",
              "1         2\n",
              "2         2\n",
              "3         1\n",
              "4         1\n",
              "         ..\n",
              "266189    1\n",
              "266190    1\n",
              "266191    1\n",
              "266192    1\n",
              "266193    1\n",
              "Name: TP_ESCOLA, Length: 266194, dtype: int64"
            ],
            "text/html": [
              "<div>\n",
              "<style scoped>\n",
              "    .dataframe tbody tr th:only-of-type {\n",
              "        vertical-align: middle;\n",
              "    }\n",
              "\n",
              "    .dataframe tbody tr th {\n",
              "        vertical-align: top;\n",
              "    }\n",
              "\n",
              "    .dataframe thead th {\n",
              "        text-align: right;\n",
              "    }\n",
              "</style>\n",
              "<table border=\"1\" class=\"dataframe\">\n",
              "  <thead>\n",
              "    <tr style=\"text-align: right;\">\n",
              "      <th></th>\n",
              "      <th>TP_ESCOLA</th>\n",
              "    </tr>\n",
              "  </thead>\n",
              "  <tbody>\n",
              "    <tr>\n",
              "      <th>0</th>\n",
              "      <td>2</td>\n",
              "    </tr>\n",
              "    <tr>\n",
              "      <th>1</th>\n",
              "      <td>2</td>\n",
              "    </tr>\n",
              "    <tr>\n",
              "      <th>2</th>\n",
              "      <td>2</td>\n",
              "    </tr>\n",
              "    <tr>\n",
              "      <th>3</th>\n",
              "      <td>1</td>\n",
              "    </tr>\n",
              "    <tr>\n",
              "      <th>4</th>\n",
              "      <td>1</td>\n",
              "    </tr>\n",
              "    <tr>\n",
              "      <th>...</th>\n",
              "      <td>...</td>\n",
              "    </tr>\n",
              "    <tr>\n",
              "      <th>266189</th>\n",
              "      <td>1</td>\n",
              "    </tr>\n",
              "    <tr>\n",
              "      <th>266190</th>\n",
              "      <td>1</td>\n",
              "    </tr>\n",
              "    <tr>\n",
              "      <th>266191</th>\n",
              "      <td>1</td>\n",
              "    </tr>\n",
              "    <tr>\n",
              "      <th>266192</th>\n",
              "      <td>1</td>\n",
              "    </tr>\n",
              "    <tr>\n",
              "      <th>266193</th>\n",
              "      <td>1</td>\n",
              "    </tr>\n",
              "  </tbody>\n",
              "</table>\n",
              "<p>266194 rows × 1 columns</p>\n",
              "</div><br><label><b>dtype:</b> int64</label>"
            ]
          },
          "metadata": {},
          "execution_count": 21
        }
      ]
    },
    {
      "cell_type": "markdown",
      "source": [
        "TP_ESCOLA\n",
        "\n",
        "1 -> Participante não respondeu, possivelmente já é formado\n",
        "\n",
        "2 -> Participante de escola pública\n",
        "\n",
        "3 -> Participante de escola privada"
      ],
      "metadata": {
        "id": "gvVuJzDBYtDv"
      }
    },
    {
      "cell_type": "code",
      "source": [
        "dados.TP_ESCOLA.value_counts()"
      ],
      "metadata": {
        "colab": {
          "base_uri": "https://localhost:8080/",
          "height": 209
        },
        "id": "PN7pFsf1YPfr",
        "outputId": "1a7f4649-3287-4122-9e15-de5e70e8b96f"
      },
      "execution_count": 22,
      "outputs": [
        {
          "output_type": "execute_result",
          "data": {
            "text/plain": [
              "TP_ESCOLA\n",
              "1    177170\n",
              "2     76984\n",
              "3     12040\n",
              "Name: count, dtype: int64"
            ],
            "text/html": [
              "<div>\n",
              "<style scoped>\n",
              "    .dataframe tbody tr th:only-of-type {\n",
              "        vertical-align: middle;\n",
              "    }\n",
              "\n",
              "    .dataframe tbody tr th {\n",
              "        vertical-align: top;\n",
              "    }\n",
              "\n",
              "    .dataframe thead th {\n",
              "        text-align: right;\n",
              "    }\n",
              "</style>\n",
              "<table border=\"1\" class=\"dataframe\">\n",
              "  <thead>\n",
              "    <tr style=\"text-align: right;\">\n",
              "      <th></th>\n",
              "      <th>count</th>\n",
              "    </tr>\n",
              "    <tr>\n",
              "      <th>TP_ESCOLA</th>\n",
              "      <th></th>\n",
              "    </tr>\n",
              "  </thead>\n",
              "  <tbody>\n",
              "    <tr>\n",
              "      <th>1</th>\n",
              "      <td>177170</td>\n",
              "    </tr>\n",
              "    <tr>\n",
              "      <th>2</th>\n",
              "      <td>76984</td>\n",
              "    </tr>\n",
              "    <tr>\n",
              "      <th>3</th>\n",
              "      <td>12040</td>\n",
              "    </tr>\n",
              "  </tbody>\n",
              "</table>\n",
              "</div><br><label><b>dtype:</b> int64</label>"
            ]
          },
          "metadata": {},
          "execution_count": 22
        }
      ]
    },
    {
      "cell_type": "markdown",
      "source": [
        "66,55 % Não respondeu\n",
        "\n",
        "28,92 % são de escola pública\n",
        "\n",
        "4,52 % são de escola privada"
      ],
      "metadata": {
        "id": "3tuehfEBZGwV"
      }
    },
    {
      "cell_type": "code",
      "source": [
        "(dados.TP_ESCOLA.value_counts() / dados.shape[0]) * 100"
      ],
      "metadata": {
        "colab": {
          "base_uri": "https://localhost:8080/",
          "height": 209
        },
        "id": "vw6YSQb_YUIl",
        "outputId": "615dee1c-e201-4cdc-c414-96b6e230603c"
      },
      "execution_count": 23,
      "outputs": [
        {
          "output_type": "execute_result",
          "data": {
            "text/plain": [
              "TP_ESCOLA\n",
              "1    66.556722\n",
              "2    28.920261\n",
              "3     4.523017\n",
              "Name: count, dtype: float64"
            ],
            "text/html": [
              "<div>\n",
              "<style scoped>\n",
              "    .dataframe tbody tr th:only-of-type {\n",
              "        vertical-align: middle;\n",
              "    }\n",
              "\n",
              "    .dataframe tbody tr th {\n",
              "        vertical-align: top;\n",
              "    }\n",
              "\n",
              "    .dataframe thead th {\n",
              "        text-align: right;\n",
              "    }\n",
              "</style>\n",
              "<table border=\"1\" class=\"dataframe\">\n",
              "  <thead>\n",
              "    <tr style=\"text-align: right;\">\n",
              "      <th></th>\n",
              "      <th>count</th>\n",
              "    </tr>\n",
              "    <tr>\n",
              "      <th>TP_ESCOLA</th>\n",
              "      <th></th>\n",
              "    </tr>\n",
              "  </thead>\n",
              "  <tbody>\n",
              "    <tr>\n",
              "      <th>1</th>\n",
              "      <td>66.556722</td>\n",
              "    </tr>\n",
              "    <tr>\n",
              "      <th>2</th>\n",
              "      <td>28.920261</td>\n",
              "    </tr>\n",
              "    <tr>\n",
              "      <th>3</th>\n",
              "      <td>4.523017</td>\n",
              "    </tr>\n",
              "  </tbody>\n",
              "</table>\n",
              "</div><br><label><b>dtype:</b> float64</label>"
            ]
          },
          "metadata": {},
          "execution_count": 23
        }
      ]
    },
    {
      "cell_type": "code",
      "source": [
        "#loc puxa o nome da coluna\n",
        "dados.loc[:,\"TP_SEXO\"]"
      ],
      "metadata": {
        "id": "xLQMcdKIZDU2",
        "colab": {
          "base_uri": "https://localhost:8080/",
          "height": 458
        },
        "outputId": "257fa1b1-8841-43ab-c5ed-c0d3d9a2e490"
      },
      "execution_count": 24,
      "outputs": [
        {
          "output_type": "execute_result",
          "data": {
            "text/plain": [
              "0         F\n",
              "1         F\n",
              "2         F\n",
              "3         F\n",
              "4         M\n",
              "         ..\n",
              "266189    M\n",
              "266190    M\n",
              "266191    M\n",
              "266192    M\n",
              "266193    F\n",
              "Name: TP_SEXO, Length: 266194, dtype: object"
            ],
            "text/html": [
              "<div>\n",
              "<style scoped>\n",
              "    .dataframe tbody tr th:only-of-type {\n",
              "        vertical-align: middle;\n",
              "    }\n",
              "\n",
              "    .dataframe tbody tr th {\n",
              "        vertical-align: top;\n",
              "    }\n",
              "\n",
              "    .dataframe thead th {\n",
              "        text-align: right;\n",
              "    }\n",
              "</style>\n",
              "<table border=\"1\" class=\"dataframe\">\n",
              "  <thead>\n",
              "    <tr style=\"text-align: right;\">\n",
              "      <th></th>\n",
              "      <th>TP_SEXO</th>\n",
              "    </tr>\n",
              "  </thead>\n",
              "  <tbody>\n",
              "    <tr>\n",
              "      <th>0</th>\n",
              "      <td>F</td>\n",
              "    </tr>\n",
              "    <tr>\n",
              "      <th>1</th>\n",
              "      <td>F</td>\n",
              "    </tr>\n",
              "    <tr>\n",
              "      <th>2</th>\n",
              "      <td>F</td>\n",
              "    </tr>\n",
              "    <tr>\n",
              "      <th>3</th>\n",
              "      <td>F</td>\n",
              "    </tr>\n",
              "    <tr>\n",
              "      <th>4</th>\n",
              "      <td>M</td>\n",
              "    </tr>\n",
              "    <tr>\n",
              "      <th>...</th>\n",
              "      <td>...</td>\n",
              "    </tr>\n",
              "    <tr>\n",
              "      <th>266189</th>\n",
              "      <td>M</td>\n",
              "    </tr>\n",
              "    <tr>\n",
              "      <th>266190</th>\n",
              "      <td>M</td>\n",
              "    </tr>\n",
              "    <tr>\n",
              "      <th>266191</th>\n",
              "      <td>M</td>\n",
              "    </tr>\n",
              "    <tr>\n",
              "      <th>266192</th>\n",
              "      <td>M</td>\n",
              "    </tr>\n",
              "    <tr>\n",
              "      <th>266193</th>\n",
              "      <td>F</td>\n",
              "    </tr>\n",
              "  </tbody>\n",
              "</table>\n",
              "<p>266194 rows × 1 columns</p>\n",
              "</div><br><label><b>dtype:</b> object</label>"
            ]
          },
          "metadata": {},
          "execution_count": 24
        }
      ]
    },
    {
      "cell_type": "code",
      "source": [
        "#iloc puxa o índice\n",
        "dados.iloc[:,0]"
      ],
      "metadata": {
        "colab": {
          "base_uri": "https://localhost:8080/",
          "height": 458
        },
        "id": "G8qy85XiZYqQ",
        "outputId": "a307bab4-e435-4568-d5a4-48595dd623c1"
      },
      "execution_count": 25,
      "outputs": [
        {
          "output_type": "execute_result",
          "data": {
            "text/plain": [
              "0         210051128744\n",
              "1         210054173438\n",
              "2         210052118573\n",
              "3         210052350230\n",
              "4         210053156861\n",
              "              ...     \n",
              "266189    210051432069\n",
              "266190    210051106175\n",
              "266191    210051995005\n",
              "266192    210053234415\n",
              "266193    210054027870\n",
              "Name: NU_INSCRICAO, Length: 266194, dtype: int64"
            ],
            "text/html": [
              "<div>\n",
              "<style scoped>\n",
              "    .dataframe tbody tr th:only-of-type {\n",
              "        vertical-align: middle;\n",
              "    }\n",
              "\n",
              "    .dataframe tbody tr th {\n",
              "        vertical-align: top;\n",
              "    }\n",
              "\n",
              "    .dataframe thead th {\n",
              "        text-align: right;\n",
              "    }\n",
              "</style>\n",
              "<table border=\"1\" class=\"dataframe\">\n",
              "  <thead>\n",
              "    <tr style=\"text-align: right;\">\n",
              "      <th></th>\n",
              "      <th>NU_INSCRICAO</th>\n",
              "    </tr>\n",
              "  </thead>\n",
              "  <tbody>\n",
              "    <tr>\n",
              "      <th>0</th>\n",
              "      <td>210051128744</td>\n",
              "    </tr>\n",
              "    <tr>\n",
              "      <th>1</th>\n",
              "      <td>210054173438</td>\n",
              "    </tr>\n",
              "    <tr>\n",
              "      <th>2</th>\n",
              "      <td>210052118573</td>\n",
              "    </tr>\n",
              "    <tr>\n",
              "      <th>3</th>\n",
              "      <td>210052350230</td>\n",
              "    </tr>\n",
              "    <tr>\n",
              "      <th>4</th>\n",
              "      <td>210053156861</td>\n",
              "    </tr>\n",
              "    <tr>\n",
              "      <th>...</th>\n",
              "      <td>...</td>\n",
              "    </tr>\n",
              "    <tr>\n",
              "      <th>266189</th>\n",
              "      <td>210051432069</td>\n",
              "    </tr>\n",
              "    <tr>\n",
              "      <th>266190</th>\n",
              "      <td>210051106175</td>\n",
              "    </tr>\n",
              "    <tr>\n",
              "      <th>266191</th>\n",
              "      <td>210051995005</td>\n",
              "    </tr>\n",
              "    <tr>\n",
              "      <th>266192</th>\n",
              "      <td>210053234415</td>\n",
              "    </tr>\n",
              "    <tr>\n",
              "      <th>266193</th>\n",
              "      <td>210054027870</td>\n",
              "    </tr>\n",
              "  </tbody>\n",
              "</table>\n",
              "<p>266194 rows × 1 columns</p>\n",
              "</div><br><label><b>dtype:</b> int64</label>"
            ]
          },
          "metadata": {},
          "execution_count": 25
        }
      ]
    },
    {
      "cell_type": "code",
      "source": [
        "dados[[\"TP_ESCOLA\",\"TP_SEXO\"]]"
      ],
      "metadata": {
        "colab": {
          "base_uri": "https://localhost:8080/",
          "height": 423
        },
        "id": "FDgYJptaZhMV",
        "outputId": "b732f980-4182-4730-a336-bd03070fb7ca"
      },
      "execution_count": 26,
      "outputs": [
        {
          "output_type": "execute_result",
          "data": {
            "text/plain": [
              "        TP_ESCOLA TP_SEXO\n",
              "0               2       F\n",
              "1               2       F\n",
              "2               2       F\n",
              "3               1       F\n",
              "4               1       M\n",
              "...           ...     ...\n",
              "266189          1       M\n",
              "266190          1       M\n",
              "266191          1       M\n",
              "266192          1       M\n",
              "266193          1       F\n",
              "\n",
              "[266194 rows x 2 columns]"
            ],
            "text/html": [
              "\n",
              "  <div id=\"df-1c86a8f1-bc10-4f87-8e91-9a8c619fdad9\" class=\"colab-df-container\">\n",
              "    <div>\n",
              "<style scoped>\n",
              "    .dataframe tbody tr th:only-of-type {\n",
              "        vertical-align: middle;\n",
              "    }\n",
              "\n",
              "    .dataframe tbody tr th {\n",
              "        vertical-align: top;\n",
              "    }\n",
              "\n",
              "    .dataframe thead th {\n",
              "        text-align: right;\n",
              "    }\n",
              "</style>\n",
              "<table border=\"1\" class=\"dataframe\">\n",
              "  <thead>\n",
              "    <tr style=\"text-align: right;\">\n",
              "      <th></th>\n",
              "      <th>TP_ESCOLA</th>\n",
              "      <th>TP_SEXO</th>\n",
              "    </tr>\n",
              "  </thead>\n",
              "  <tbody>\n",
              "    <tr>\n",
              "      <th>0</th>\n",
              "      <td>2</td>\n",
              "      <td>F</td>\n",
              "    </tr>\n",
              "    <tr>\n",
              "      <th>1</th>\n",
              "      <td>2</td>\n",
              "      <td>F</td>\n",
              "    </tr>\n",
              "    <tr>\n",
              "      <th>2</th>\n",
              "      <td>2</td>\n",
              "      <td>F</td>\n",
              "    </tr>\n",
              "    <tr>\n",
              "      <th>3</th>\n",
              "      <td>1</td>\n",
              "      <td>F</td>\n",
              "    </tr>\n",
              "    <tr>\n",
              "      <th>4</th>\n",
              "      <td>1</td>\n",
              "      <td>M</td>\n",
              "    </tr>\n",
              "    <tr>\n",
              "      <th>...</th>\n",
              "      <td>...</td>\n",
              "      <td>...</td>\n",
              "    </tr>\n",
              "    <tr>\n",
              "      <th>266189</th>\n",
              "      <td>1</td>\n",
              "      <td>M</td>\n",
              "    </tr>\n",
              "    <tr>\n",
              "      <th>266190</th>\n",
              "      <td>1</td>\n",
              "      <td>M</td>\n",
              "    </tr>\n",
              "    <tr>\n",
              "      <th>266191</th>\n",
              "      <td>1</td>\n",
              "      <td>M</td>\n",
              "    </tr>\n",
              "    <tr>\n",
              "      <th>266192</th>\n",
              "      <td>1</td>\n",
              "      <td>M</td>\n",
              "    </tr>\n",
              "    <tr>\n",
              "      <th>266193</th>\n",
              "      <td>1</td>\n",
              "      <td>F</td>\n",
              "    </tr>\n",
              "  </tbody>\n",
              "</table>\n",
              "<p>266194 rows × 2 columns</p>\n",
              "</div>\n",
              "    <div class=\"colab-df-buttons\">\n",
              "\n",
              "  <div class=\"colab-df-container\">\n",
              "    <button class=\"colab-df-convert\" onclick=\"convertToInteractive('df-1c86a8f1-bc10-4f87-8e91-9a8c619fdad9')\"\n",
              "            title=\"Convert this dataframe to an interactive table.\"\n",
              "            style=\"display:none;\">\n",
              "\n",
              "  <svg xmlns=\"http://www.w3.org/2000/svg\" height=\"24px\" viewBox=\"0 -960 960 960\">\n",
              "    <path d=\"M120-120v-720h720v720H120Zm60-500h600v-160H180v160Zm220 220h160v-160H400v160Zm0 220h160v-160H400v160ZM180-400h160v-160H180v160Zm440 0h160v-160H620v160ZM180-180h160v-160H180v160Zm440 0h160v-160H620v160Z\"/>\n",
              "  </svg>\n",
              "    </button>\n",
              "\n",
              "  <style>\n",
              "    .colab-df-container {\n",
              "      display:flex;\n",
              "      gap: 12px;\n",
              "    }\n",
              "\n",
              "    .colab-df-convert {\n",
              "      background-color: #E8F0FE;\n",
              "      border: none;\n",
              "      border-radius: 50%;\n",
              "      cursor: pointer;\n",
              "      display: none;\n",
              "      fill: #1967D2;\n",
              "      height: 32px;\n",
              "      padding: 0 0 0 0;\n",
              "      width: 32px;\n",
              "    }\n",
              "\n",
              "    .colab-df-convert:hover {\n",
              "      background-color: #E2EBFA;\n",
              "      box-shadow: 0px 1px 2px rgba(60, 64, 67, 0.3), 0px 1px 3px 1px rgba(60, 64, 67, 0.15);\n",
              "      fill: #174EA6;\n",
              "    }\n",
              "\n",
              "    .colab-df-buttons div {\n",
              "      margin-bottom: 4px;\n",
              "    }\n",
              "\n",
              "    [theme=dark] .colab-df-convert {\n",
              "      background-color: #3B4455;\n",
              "      fill: #D2E3FC;\n",
              "    }\n",
              "\n",
              "    [theme=dark] .colab-df-convert:hover {\n",
              "      background-color: #434B5C;\n",
              "      box-shadow: 0px 1px 3px 1px rgba(0, 0, 0, 0.15);\n",
              "      filter: drop-shadow(0px 1px 2px rgba(0, 0, 0, 0.3));\n",
              "      fill: #FFFFFF;\n",
              "    }\n",
              "  </style>\n",
              "\n",
              "    <script>\n",
              "      const buttonEl =\n",
              "        document.querySelector('#df-1c86a8f1-bc10-4f87-8e91-9a8c619fdad9 button.colab-df-convert');\n",
              "      buttonEl.style.display =\n",
              "        google.colab.kernel.accessAllowed ? 'block' : 'none';\n",
              "\n",
              "      async function convertToInteractive(key) {\n",
              "        const element = document.querySelector('#df-1c86a8f1-bc10-4f87-8e91-9a8c619fdad9');\n",
              "        const dataTable =\n",
              "          await google.colab.kernel.invokeFunction('convertToInteractive',\n",
              "                                                    [key], {});\n",
              "        if (!dataTable) return;\n",
              "\n",
              "        const docLinkHtml = 'Like what you see? Visit the ' +\n",
              "          '<a target=\"_blank\" href=https://colab.research.google.com/notebooks/data_table.ipynb>data table notebook</a>'\n",
              "          + ' to learn more about interactive tables.';\n",
              "        element.innerHTML = '';\n",
              "        dataTable['output_type'] = 'display_data';\n",
              "        await google.colab.output.renderOutput(dataTable, element);\n",
              "        const docLink = document.createElement('div');\n",
              "        docLink.innerHTML = docLinkHtml;\n",
              "        element.appendChild(docLink);\n",
              "      }\n",
              "    </script>\n",
              "  </div>\n",
              "\n",
              "\n",
              "    <div id=\"df-9f6656c4-361f-4da8-aeb2-4dfd67bc2d41\">\n",
              "      <button class=\"colab-df-quickchart\" onclick=\"quickchart('df-9f6656c4-361f-4da8-aeb2-4dfd67bc2d41')\"\n",
              "                title=\"Suggest charts\"\n",
              "                style=\"display:none;\">\n",
              "\n",
              "<svg xmlns=\"http://www.w3.org/2000/svg\" height=\"24px\"viewBox=\"0 0 24 24\"\n",
              "     width=\"24px\">\n",
              "    <g>\n",
              "        <path d=\"M19 3H5c-1.1 0-2 .9-2 2v14c0 1.1.9 2 2 2h14c1.1 0 2-.9 2-2V5c0-1.1-.9-2-2-2zM9 17H7v-7h2v7zm4 0h-2V7h2v10zm4 0h-2v-4h2v4z\"/>\n",
              "    </g>\n",
              "</svg>\n",
              "      </button>\n",
              "\n",
              "<style>\n",
              "  .colab-df-quickchart {\n",
              "      --bg-color: #E8F0FE;\n",
              "      --fill-color: #1967D2;\n",
              "      --hover-bg-color: #E2EBFA;\n",
              "      --hover-fill-color: #174EA6;\n",
              "      --disabled-fill-color: #AAA;\n",
              "      --disabled-bg-color: #DDD;\n",
              "  }\n",
              "\n",
              "  [theme=dark] .colab-df-quickchart {\n",
              "      --bg-color: #3B4455;\n",
              "      --fill-color: #D2E3FC;\n",
              "      --hover-bg-color: #434B5C;\n",
              "      --hover-fill-color: #FFFFFF;\n",
              "      --disabled-bg-color: #3B4455;\n",
              "      --disabled-fill-color: #666;\n",
              "  }\n",
              "\n",
              "  .colab-df-quickchart {\n",
              "    background-color: var(--bg-color);\n",
              "    border: none;\n",
              "    border-radius: 50%;\n",
              "    cursor: pointer;\n",
              "    display: none;\n",
              "    fill: var(--fill-color);\n",
              "    height: 32px;\n",
              "    padding: 0;\n",
              "    width: 32px;\n",
              "  }\n",
              "\n",
              "  .colab-df-quickchart:hover {\n",
              "    background-color: var(--hover-bg-color);\n",
              "    box-shadow: 0 1px 2px rgba(60, 64, 67, 0.3), 0 1px 3px 1px rgba(60, 64, 67, 0.15);\n",
              "    fill: var(--button-hover-fill-color);\n",
              "  }\n",
              "\n",
              "  .colab-df-quickchart-complete:disabled,\n",
              "  .colab-df-quickchart-complete:disabled:hover {\n",
              "    background-color: var(--disabled-bg-color);\n",
              "    fill: var(--disabled-fill-color);\n",
              "    box-shadow: none;\n",
              "  }\n",
              "\n",
              "  .colab-df-spinner {\n",
              "    border: 2px solid var(--fill-color);\n",
              "    border-color: transparent;\n",
              "    border-bottom-color: var(--fill-color);\n",
              "    animation:\n",
              "      spin 1s steps(1) infinite;\n",
              "  }\n",
              "\n",
              "  @keyframes spin {\n",
              "    0% {\n",
              "      border-color: transparent;\n",
              "      border-bottom-color: var(--fill-color);\n",
              "      border-left-color: var(--fill-color);\n",
              "    }\n",
              "    20% {\n",
              "      border-color: transparent;\n",
              "      border-left-color: var(--fill-color);\n",
              "      border-top-color: var(--fill-color);\n",
              "    }\n",
              "    30% {\n",
              "      border-color: transparent;\n",
              "      border-left-color: var(--fill-color);\n",
              "      border-top-color: var(--fill-color);\n",
              "      border-right-color: var(--fill-color);\n",
              "    }\n",
              "    40% {\n",
              "      border-color: transparent;\n",
              "      border-right-color: var(--fill-color);\n",
              "      border-top-color: var(--fill-color);\n",
              "    }\n",
              "    60% {\n",
              "      border-color: transparent;\n",
              "      border-right-color: var(--fill-color);\n",
              "    }\n",
              "    80% {\n",
              "      border-color: transparent;\n",
              "      border-right-color: var(--fill-color);\n",
              "      border-bottom-color: var(--fill-color);\n",
              "    }\n",
              "    90% {\n",
              "      border-color: transparent;\n",
              "      border-bottom-color: var(--fill-color);\n",
              "    }\n",
              "  }\n",
              "</style>\n",
              "\n",
              "      <script>\n",
              "        async function quickchart(key) {\n",
              "          const quickchartButtonEl =\n",
              "            document.querySelector('#' + key + ' button');\n",
              "          quickchartButtonEl.disabled = true;  // To prevent multiple clicks.\n",
              "          quickchartButtonEl.classList.add('colab-df-spinner');\n",
              "          try {\n",
              "            const charts = await google.colab.kernel.invokeFunction(\n",
              "                'suggestCharts', [key], {});\n",
              "          } catch (error) {\n",
              "            console.error('Error during call to suggestCharts:', error);\n",
              "          }\n",
              "          quickchartButtonEl.classList.remove('colab-df-spinner');\n",
              "          quickchartButtonEl.classList.add('colab-df-quickchart-complete');\n",
              "        }\n",
              "        (() => {\n",
              "          let quickchartButtonEl =\n",
              "            document.querySelector('#df-9f6656c4-361f-4da8-aeb2-4dfd67bc2d41 button');\n",
              "          quickchartButtonEl.style.display =\n",
              "            google.colab.kernel.accessAllowed ? 'block' : 'none';\n",
              "        })();\n",
              "      </script>\n",
              "    </div>\n",
              "\n",
              "    </div>\n",
              "  </div>\n"
            ],
            "application/vnd.google.colaboratory.intrinsic+json": {
              "type": "dataframe"
            }
          },
          "metadata": {},
          "execution_count": 26
        }
      ]
    },
    {
      "cell_type": "code",
      "source": [
        "dados[\"TP_SEXO\"].value_counts()"
      ],
      "metadata": {
        "colab": {
          "base_uri": "https://localhost:8080/",
          "height": 178
        },
        "id": "7Q4DTkwXZz2P",
        "outputId": "b0a2d6dc-97ec-4100-d323-2be2b691134f"
      },
      "execution_count": 27,
      "outputs": [
        {
          "output_type": "execute_result",
          "data": {
            "text/plain": [
              "TP_SEXO\n",
              "F    171997\n",
              "M     94197\n",
              "Name: count, dtype: int64"
            ],
            "text/html": [
              "<div>\n",
              "<style scoped>\n",
              "    .dataframe tbody tr th:only-of-type {\n",
              "        vertical-align: middle;\n",
              "    }\n",
              "\n",
              "    .dataframe tbody tr th {\n",
              "        vertical-align: top;\n",
              "    }\n",
              "\n",
              "    .dataframe thead th {\n",
              "        text-align: right;\n",
              "    }\n",
              "</style>\n",
              "<table border=\"1\" class=\"dataframe\">\n",
              "  <thead>\n",
              "    <tr style=\"text-align: right;\">\n",
              "      <th></th>\n",
              "      <th>count</th>\n",
              "    </tr>\n",
              "    <tr>\n",
              "      <th>TP_SEXO</th>\n",
              "      <th></th>\n",
              "    </tr>\n",
              "  </thead>\n",
              "  <tbody>\n",
              "    <tr>\n",
              "      <th>F</th>\n",
              "      <td>171997</td>\n",
              "    </tr>\n",
              "    <tr>\n",
              "      <th>M</th>\n",
              "      <td>94197</td>\n",
              "    </tr>\n",
              "  </tbody>\n",
              "</table>\n",
              "</div><br><label><b>dtype:</b> int64</label>"
            ]
          },
          "metadata": {},
          "execution_count": 27
        }
      ]
    },
    {
      "cell_type": "markdown",
      "source": [
        "Há mais mulheres fazendo o enem do que homens\n",
        "\n",
        "64,61% dos participantes são mulheres\n",
        "\n",
        "35,38% dos participantes são homens"
      ],
      "metadata": {
        "id": "aaMKmdHFZ_1l"
      }
    },
    {
      "cell_type": "code",
      "source": [
        "(dados[\"TP_SEXO\"].value_counts()  / dados.shape[0]) * 100"
      ],
      "metadata": {
        "colab": {
          "base_uri": "https://localhost:8080/",
          "height": 178
        },
        "id": "eO8mNb89Z60_",
        "outputId": "6216d0f9-915a-4142-8125-57e430c53ae3"
      },
      "execution_count": 28,
      "outputs": [
        {
          "output_type": "execute_result",
          "data": {
            "text/plain": [
              "TP_SEXO\n",
              "F    64.613402\n",
              "M    35.386598\n",
              "Name: count, dtype: float64"
            ],
            "text/html": [
              "<div>\n",
              "<style scoped>\n",
              "    .dataframe tbody tr th:only-of-type {\n",
              "        vertical-align: middle;\n",
              "    }\n",
              "\n",
              "    .dataframe tbody tr th {\n",
              "        vertical-align: top;\n",
              "    }\n",
              "\n",
              "    .dataframe thead th {\n",
              "        text-align: right;\n",
              "    }\n",
              "</style>\n",
              "<table border=\"1\" class=\"dataframe\">\n",
              "  <thead>\n",
              "    <tr style=\"text-align: right;\">\n",
              "      <th></th>\n",
              "      <th>count</th>\n",
              "    </tr>\n",
              "    <tr>\n",
              "      <th>TP_SEXO</th>\n",
              "      <th></th>\n",
              "    </tr>\n",
              "  </thead>\n",
              "  <tbody>\n",
              "    <tr>\n",
              "      <th>F</th>\n",
              "      <td>64.613402</td>\n",
              "    </tr>\n",
              "    <tr>\n",
              "      <th>M</th>\n",
              "      <td>35.386598</td>\n",
              "    </tr>\n",
              "  </tbody>\n",
              "</table>\n",
              "</div><br><label><b>dtype:</b> float64</label>"
            ]
          },
          "metadata": {},
          "execution_count": 28
        }
      ]
    },
    {
      "cell_type": "code",
      "source": [
        "#O select_dtypes é do Pandas e é usado para pesquisar um ou vários tipos int, float, object, datetime. Essa função também pode\n",
        "#remover tipos, através do \"exclude\"\n",
        "\n",
        "dados.select_dtypes(include= [int,float])"
      ],
      "metadata": {
        "colab": {
          "base_uri": "https://localhost:8080/",
          "height": 443
        },
        "id": "6i0QgqGkZ-xw",
        "outputId": "5857dee7-6353-4430-b9db-2419683a78d9"
      },
      "execution_count": 29,
      "outputs": [
        {
          "output_type": "execute_result",
          "data": {
            "text/plain": [
              "        NU_INSCRICAO  NU_ANO  TP_FAIXA_ETARIA  TP_ESTADO_CIVIL  TP_COR_RACA  \\\n",
              "0       210051128744    2021                4                1            3   \n",
              "1       210054173438    2021                5                1            2   \n",
              "2       210052118573    2021                3                1            3   \n",
              "3       210052350230    2021               10                1            2   \n",
              "4       210053156861    2021                9                1            2   \n",
              "...              ...     ...              ...              ...          ...   \n",
              "266189  210051432069    2021               12                1            3   \n",
              "266190  210051106175    2021               14                2            2   \n",
              "266191  210051995005    2021               11                0            2   \n",
              "266192  210053234415    2021               12                2            2   \n",
              "266193  210054027870    2021                5                1            2   \n",
              "\n",
              "        TP_NACIONALIDADE  TP_ST_CONCLUSAO  TP_ANO_CONCLUIU  TP_ESCOLA  \\\n",
              "0                      1                2                0          2   \n",
              "1                      1                2                0          2   \n",
              "2                      1                2                0          2   \n",
              "3                      1                1                8          1   \n",
              "4                      1                1                5          1   \n",
              "...                  ...              ...              ...        ...   \n",
              "266189                 1                1                0          1   \n",
              "266190                 1                1                0          1   \n",
              "266191                 1                1               12          1   \n",
              "266192                 1                1               15          1   \n",
              "266193                 1                1                2          1   \n",
              "\n",
              "        TP_ENSINO  IN_TREINEIRO  CO_MUNICIPIO_ESC  CO_UF_ESC  \\\n",
              "0             1.0             0               NaN        NaN   \n",
              "1             1.0             0         2927408.0       29.0   \n",
              "2             1.0             0               NaN        NaN   \n",
              "3             NaN             0               NaN        NaN   \n",
              "4             NaN             0               NaN        NaN   \n",
              "...           ...           ...               ...        ...   \n",
              "266189        NaN             0               NaN        NaN   \n",
              "266190        NaN             0               NaN        NaN   \n",
              "266191        NaN             0               NaN        NaN   \n",
              "266192        NaN             0               NaN        NaN   \n",
              "266193        NaN             0               NaN        NaN   \n",
              "\n",
              "        TP_DEPENDENCIA_ADM_ESC  TP_LOCALIZACAO_ESC  TP_SIT_FUNC_ESC  \\\n",
              "0                          NaN                 NaN              NaN   \n",
              "1                          1.0                 1.0              1.0   \n",
              "2                          NaN                 NaN              NaN   \n",
              "3                          NaN                 NaN              NaN   \n",
              "4                          NaN                 NaN              NaN   \n",
              "...                        ...                 ...              ...   \n",
              "266189                     NaN                 NaN              NaN   \n",
              "266190                     NaN                 NaN              NaN   \n",
              "266191                     NaN                 NaN              NaN   \n",
              "266192                     NaN                 NaN              NaN   \n",
              "266193                     NaN                 NaN              NaN   \n",
              "\n",
              "        CO_MUNICIPIO_PROVA  CO_UF_PROVA  TP_PRESENCA_CN  TP_PRESENCA_CH  \\\n",
              "0                  2927200           29               1               1   \n",
              "1                  2927408           29               0               0   \n",
              "2                  2903201           29               1               1   \n",
              "3                  2928802           29               1               1   \n",
              "4                  2910800           29               1               1   \n",
              "...                    ...          ...             ...             ...   \n",
              "266189             2900702           29               0               0   \n",
              "266190             2918407           29               0               0   \n",
              "266191             2927408           29               0               0   \n",
              "266192             2927408           29               0               0   \n",
              "266193             2927408           29               0               0   \n",
              "\n",
              "        TP_PRESENCA_LC  TP_PRESENCA_MT  CO_PROVA_CN  CO_PROVA_CH  CO_PROVA_LC  \\\n",
              "0                    1               1        909.0        881.0        892.0   \n",
              "1                    0               0          NaN          NaN          NaN   \n",
              "2                    1               1        912.0        882.0        891.0   \n",
              "3                    1               1        911.0        880.0        890.0   \n",
              "4                    1               1       1014.0       1000.0       1004.0   \n",
              "...                ...             ...          ...          ...          ...   \n",
              "266189               0               0          NaN          NaN          NaN   \n",
              "266190               0               0          NaN          NaN          NaN   \n",
              "266191               0               0          NaN          NaN          NaN   \n",
              "266192               0               0          NaN          NaN          NaN   \n",
              "266193               0               0          NaN          NaN          NaN   \n",
              "\n",
              "        CO_PROVA_MT  NU_NOTA_CN  NU_NOTA_CH  NU_NOTA_LC  NU_NOTA_MT  \\\n",
              "0             899.0       507.6       539.2       494.6       413.3   \n",
              "1               NaN         NaN         NaN         NaN         NaN   \n",
              "2             901.0       439.6       437.7       455.9       446.2   \n",
              "3             902.0       548.1       619.5       676.3       386.6   \n",
              "4            1010.0       465.2       613.1       522.1       579.6   \n",
              "...             ...         ...         ...         ...         ...   \n",
              "266189          NaN         NaN         NaN         NaN         NaN   \n",
              "266190          NaN         NaN         NaN         NaN         NaN   \n",
              "266191          NaN         NaN         NaN         NaN         NaN   \n",
              "266192          NaN         NaN         NaN         NaN         NaN   \n",
              "266193          NaN         NaN         NaN         NaN         NaN   \n",
              "\n",
              "        TP_LINGUA  TP_STATUS_REDACAO  NU_NOTA_COMP1  NU_NOTA_COMP2  \\\n",
              "0               1                1.0           80.0          120.0   \n",
              "1               0                NaN            NaN            NaN   \n",
              "2               0                1.0           80.0          120.0   \n",
              "3               0                1.0          120.0          120.0   \n",
              "4               0                1.0          100.0          120.0   \n",
              "...           ...                ...            ...            ...   \n",
              "266189          1                NaN            NaN            NaN   \n",
              "266190          1                NaN            NaN            NaN   \n",
              "266191          1                NaN            NaN            NaN   \n",
              "266192          1                NaN            NaN            NaN   \n",
              "266193          0                NaN            NaN            NaN   \n",
              "\n",
              "        NU_NOTA_COMP3  NU_NOTA_COMP4  NU_NOTA_COMP5  NU_NOTA_REDACAO  \n",
              "0                80.0           80.0           20.0            380.0  \n",
              "1                 NaN            NaN            NaN              NaN  \n",
              "2                80.0          100.0           80.0            460.0  \n",
              "3               100.0          120.0          120.0            580.0  \n",
              "4               100.0          120.0          100.0            540.0  \n",
              "...               ...            ...            ...              ...  \n",
              "266189            NaN            NaN            NaN              NaN  \n",
              "266190            NaN            NaN            NaN              NaN  \n",
              "266191            NaN            NaN            NaN              NaN  \n",
              "266192            NaN            NaN            NaN              NaN  \n",
              "266193            NaN            NaN            NaN              NaN  \n",
              "\n",
              "[266194 rows x 38 columns]"
            ],
            "text/html": [
              "\n",
              "  <div id=\"df-a9135b95-ecd6-4af8-8157-9d0a53a653cb\" class=\"colab-df-container\">\n",
              "    <div>\n",
              "<style scoped>\n",
              "    .dataframe tbody tr th:only-of-type {\n",
              "        vertical-align: middle;\n",
              "    }\n",
              "\n",
              "    .dataframe tbody tr th {\n",
              "        vertical-align: top;\n",
              "    }\n",
              "\n",
              "    .dataframe thead th {\n",
              "        text-align: right;\n",
              "    }\n",
              "</style>\n",
              "<table border=\"1\" class=\"dataframe\">\n",
              "  <thead>\n",
              "    <tr style=\"text-align: right;\">\n",
              "      <th></th>\n",
              "      <th>NU_INSCRICAO</th>\n",
              "      <th>NU_ANO</th>\n",
              "      <th>TP_FAIXA_ETARIA</th>\n",
              "      <th>TP_ESTADO_CIVIL</th>\n",
              "      <th>TP_COR_RACA</th>\n",
              "      <th>TP_NACIONALIDADE</th>\n",
              "      <th>TP_ST_CONCLUSAO</th>\n",
              "      <th>TP_ANO_CONCLUIU</th>\n",
              "      <th>TP_ESCOLA</th>\n",
              "      <th>TP_ENSINO</th>\n",
              "      <th>IN_TREINEIRO</th>\n",
              "      <th>CO_MUNICIPIO_ESC</th>\n",
              "      <th>CO_UF_ESC</th>\n",
              "      <th>TP_DEPENDENCIA_ADM_ESC</th>\n",
              "      <th>TP_LOCALIZACAO_ESC</th>\n",
              "      <th>TP_SIT_FUNC_ESC</th>\n",
              "      <th>CO_MUNICIPIO_PROVA</th>\n",
              "      <th>CO_UF_PROVA</th>\n",
              "      <th>TP_PRESENCA_CN</th>\n",
              "      <th>TP_PRESENCA_CH</th>\n",
              "      <th>TP_PRESENCA_LC</th>\n",
              "      <th>TP_PRESENCA_MT</th>\n",
              "      <th>CO_PROVA_CN</th>\n",
              "      <th>CO_PROVA_CH</th>\n",
              "      <th>CO_PROVA_LC</th>\n",
              "      <th>CO_PROVA_MT</th>\n",
              "      <th>NU_NOTA_CN</th>\n",
              "      <th>NU_NOTA_CH</th>\n",
              "      <th>NU_NOTA_LC</th>\n",
              "      <th>NU_NOTA_MT</th>\n",
              "      <th>TP_LINGUA</th>\n",
              "      <th>TP_STATUS_REDACAO</th>\n",
              "      <th>NU_NOTA_COMP1</th>\n",
              "      <th>NU_NOTA_COMP2</th>\n",
              "      <th>NU_NOTA_COMP3</th>\n",
              "      <th>NU_NOTA_COMP4</th>\n",
              "      <th>NU_NOTA_COMP5</th>\n",
              "      <th>NU_NOTA_REDACAO</th>\n",
              "    </tr>\n",
              "  </thead>\n",
              "  <tbody>\n",
              "    <tr>\n",
              "      <th>0</th>\n",
              "      <td>210051128744</td>\n",
              "      <td>2021</td>\n",
              "      <td>4</td>\n",
              "      <td>1</td>\n",
              "      <td>3</td>\n",
              "      <td>1</td>\n",
              "      <td>2</td>\n",
              "      <td>0</td>\n",
              "      <td>2</td>\n",
              "      <td>1.0</td>\n",
              "      <td>0</td>\n",
              "      <td>NaN</td>\n",
              "      <td>NaN</td>\n",
              "      <td>NaN</td>\n",
              "      <td>NaN</td>\n",
              "      <td>NaN</td>\n",
              "      <td>2927200</td>\n",
              "      <td>29</td>\n",
              "      <td>1</td>\n",
              "      <td>1</td>\n",
              "      <td>1</td>\n",
              "      <td>1</td>\n",
              "      <td>909.0</td>\n",
              "      <td>881.0</td>\n",
              "      <td>892.0</td>\n",
              "      <td>899.0</td>\n",
              "      <td>507.6</td>\n",
              "      <td>539.2</td>\n",
              "      <td>494.6</td>\n",
              "      <td>413.3</td>\n",
              "      <td>1</td>\n",
              "      <td>1.0</td>\n",
              "      <td>80.0</td>\n",
              "      <td>120.0</td>\n",
              "      <td>80.0</td>\n",
              "      <td>80.0</td>\n",
              "      <td>20.0</td>\n",
              "      <td>380.0</td>\n",
              "    </tr>\n",
              "    <tr>\n",
              "      <th>1</th>\n",
              "      <td>210054173438</td>\n",
              "      <td>2021</td>\n",
              "      <td>5</td>\n",
              "      <td>1</td>\n",
              "      <td>2</td>\n",
              "      <td>1</td>\n",
              "      <td>2</td>\n",
              "      <td>0</td>\n",
              "      <td>2</td>\n",
              "      <td>1.0</td>\n",
              "      <td>0</td>\n",
              "      <td>2927408.0</td>\n",
              "      <td>29.0</td>\n",
              "      <td>1.0</td>\n",
              "      <td>1.0</td>\n",
              "      <td>1.0</td>\n",
              "      <td>2927408</td>\n",
              "      <td>29</td>\n",
              "      <td>0</td>\n",
              "      <td>0</td>\n",
              "      <td>0</td>\n",
              "      <td>0</td>\n",
              "      <td>NaN</td>\n",
              "      <td>NaN</td>\n",
              "      <td>NaN</td>\n",
              "      <td>NaN</td>\n",
              "      <td>NaN</td>\n",
              "      <td>NaN</td>\n",
              "      <td>NaN</td>\n",
              "      <td>NaN</td>\n",
              "      <td>0</td>\n",
              "      <td>NaN</td>\n",
              "      <td>NaN</td>\n",
              "      <td>NaN</td>\n",
              "      <td>NaN</td>\n",
              "      <td>NaN</td>\n",
              "      <td>NaN</td>\n",
              "      <td>NaN</td>\n",
              "    </tr>\n",
              "    <tr>\n",
              "      <th>2</th>\n",
              "      <td>210052118573</td>\n",
              "      <td>2021</td>\n",
              "      <td>3</td>\n",
              "      <td>1</td>\n",
              "      <td>3</td>\n",
              "      <td>1</td>\n",
              "      <td>2</td>\n",
              "      <td>0</td>\n",
              "      <td>2</td>\n",
              "      <td>1.0</td>\n",
              "      <td>0</td>\n",
              "      <td>NaN</td>\n",
              "      <td>NaN</td>\n",
              "      <td>NaN</td>\n",
              "      <td>NaN</td>\n",
              "      <td>NaN</td>\n",
              "      <td>2903201</td>\n",
              "      <td>29</td>\n",
              "      <td>1</td>\n",
              "      <td>1</td>\n",
              "      <td>1</td>\n",
              "      <td>1</td>\n",
              "      <td>912.0</td>\n",
              "      <td>882.0</td>\n",
              "      <td>891.0</td>\n",
              "      <td>901.0</td>\n",
              "      <td>439.6</td>\n",
              "      <td>437.7</td>\n",
              "      <td>455.9</td>\n",
              "      <td>446.2</td>\n",
              "      <td>0</td>\n",
              "      <td>1.0</td>\n",
              "      <td>80.0</td>\n",
              "      <td>120.0</td>\n",
              "      <td>80.0</td>\n",
              "      <td>100.0</td>\n",
              "      <td>80.0</td>\n",
              "      <td>460.0</td>\n",
              "    </tr>\n",
              "    <tr>\n",
              "      <th>3</th>\n",
              "      <td>210052350230</td>\n",
              "      <td>2021</td>\n",
              "      <td>10</td>\n",
              "      <td>1</td>\n",
              "      <td>2</td>\n",
              "      <td>1</td>\n",
              "      <td>1</td>\n",
              "      <td>8</td>\n",
              "      <td>1</td>\n",
              "      <td>NaN</td>\n",
              "      <td>0</td>\n",
              "      <td>NaN</td>\n",
              "      <td>NaN</td>\n",
              "      <td>NaN</td>\n",
              "      <td>NaN</td>\n",
              "      <td>NaN</td>\n",
              "      <td>2928802</td>\n",
              "      <td>29</td>\n",
              "      <td>1</td>\n",
              "      <td>1</td>\n",
              "      <td>1</td>\n",
              "      <td>1</td>\n",
              "      <td>911.0</td>\n",
              "      <td>880.0</td>\n",
              "      <td>890.0</td>\n",
              "      <td>902.0</td>\n",
              "      <td>548.1</td>\n",
              "      <td>619.5</td>\n",
              "      <td>676.3</td>\n",
              "      <td>386.6</td>\n",
              "      <td>0</td>\n",
              "      <td>1.0</td>\n",
              "      <td>120.0</td>\n",
              "      <td>120.0</td>\n",
              "      <td>100.0</td>\n",
              "      <td>120.0</td>\n",
              "      <td>120.0</td>\n",
              "      <td>580.0</td>\n",
              "    </tr>\n",
              "    <tr>\n",
              "      <th>4</th>\n",
              "      <td>210053156861</td>\n",
              "      <td>2021</td>\n",
              "      <td>9</td>\n",
              "      <td>1</td>\n",
              "      <td>2</td>\n",
              "      <td>1</td>\n",
              "      <td>1</td>\n",
              "      <td>5</td>\n",
              "      <td>1</td>\n",
              "      <td>NaN</td>\n",
              "      <td>0</td>\n",
              "      <td>NaN</td>\n",
              "      <td>NaN</td>\n",
              "      <td>NaN</td>\n",
              "      <td>NaN</td>\n",
              "      <td>NaN</td>\n",
              "      <td>2910800</td>\n",
              "      <td>29</td>\n",
              "      <td>1</td>\n",
              "      <td>1</td>\n",
              "      <td>1</td>\n",
              "      <td>1</td>\n",
              "      <td>1014.0</td>\n",
              "      <td>1000.0</td>\n",
              "      <td>1004.0</td>\n",
              "      <td>1010.0</td>\n",
              "      <td>465.2</td>\n",
              "      <td>613.1</td>\n",
              "      <td>522.1</td>\n",
              "      <td>579.6</td>\n",
              "      <td>0</td>\n",
              "      <td>1.0</td>\n",
              "      <td>100.0</td>\n",
              "      <td>120.0</td>\n",
              "      <td>100.0</td>\n",
              "      <td>120.0</td>\n",
              "      <td>100.0</td>\n",
              "      <td>540.0</td>\n",
              "    </tr>\n",
              "    <tr>\n",
              "      <th>...</th>\n",
              "      <td>...</td>\n",
              "      <td>...</td>\n",
              "      <td>...</td>\n",
              "      <td>...</td>\n",
              "      <td>...</td>\n",
              "      <td>...</td>\n",
              "      <td>...</td>\n",
              "      <td>...</td>\n",
              "      <td>...</td>\n",
              "      <td>...</td>\n",
              "      <td>...</td>\n",
              "      <td>...</td>\n",
              "      <td>...</td>\n",
              "      <td>...</td>\n",
              "      <td>...</td>\n",
              "      <td>...</td>\n",
              "      <td>...</td>\n",
              "      <td>...</td>\n",
              "      <td>...</td>\n",
              "      <td>...</td>\n",
              "      <td>...</td>\n",
              "      <td>...</td>\n",
              "      <td>...</td>\n",
              "      <td>...</td>\n",
              "      <td>...</td>\n",
              "      <td>...</td>\n",
              "      <td>...</td>\n",
              "      <td>...</td>\n",
              "      <td>...</td>\n",
              "      <td>...</td>\n",
              "      <td>...</td>\n",
              "      <td>...</td>\n",
              "      <td>...</td>\n",
              "      <td>...</td>\n",
              "      <td>...</td>\n",
              "      <td>...</td>\n",
              "      <td>...</td>\n",
              "      <td>...</td>\n",
              "    </tr>\n",
              "    <tr>\n",
              "      <th>266189</th>\n",
              "      <td>210051432069</td>\n",
              "      <td>2021</td>\n",
              "      <td>12</td>\n",
              "      <td>1</td>\n",
              "      <td>3</td>\n",
              "      <td>1</td>\n",
              "      <td>1</td>\n",
              "      <td>0</td>\n",
              "      <td>1</td>\n",
              "      <td>NaN</td>\n",
              "      <td>0</td>\n",
              "      <td>NaN</td>\n",
              "      <td>NaN</td>\n",
              "      <td>NaN</td>\n",
              "      <td>NaN</td>\n",
              "      <td>NaN</td>\n",
              "      <td>2900702</td>\n",
              "      <td>29</td>\n",
              "      <td>0</td>\n",
              "      <td>0</td>\n",
              "      <td>0</td>\n",
              "      <td>0</td>\n",
              "      <td>NaN</td>\n",
              "      <td>NaN</td>\n",
              "      <td>NaN</td>\n",
              "      <td>NaN</td>\n",
              "      <td>NaN</td>\n",
              "      <td>NaN</td>\n",
              "      <td>NaN</td>\n",
              "      <td>NaN</td>\n",
              "      <td>1</td>\n",
              "      <td>NaN</td>\n",
              "      <td>NaN</td>\n",
              "      <td>NaN</td>\n",
              "      <td>NaN</td>\n",
              "      <td>NaN</td>\n",
              "      <td>NaN</td>\n",
              "      <td>NaN</td>\n",
              "    </tr>\n",
              "    <tr>\n",
              "      <th>266190</th>\n",
              "      <td>210051106175</td>\n",
              "      <td>2021</td>\n",
              "      <td>14</td>\n",
              "      <td>2</td>\n",
              "      <td>2</td>\n",
              "      <td>1</td>\n",
              "      <td>1</td>\n",
              "      <td>0</td>\n",
              "      <td>1</td>\n",
              "      <td>NaN</td>\n",
              "      <td>0</td>\n",
              "      <td>NaN</td>\n",
              "      <td>NaN</td>\n",
              "      <td>NaN</td>\n",
              "      <td>NaN</td>\n",
              "      <td>NaN</td>\n",
              "      <td>2918407</td>\n",
              "      <td>29</td>\n",
              "      <td>0</td>\n",
              "      <td>0</td>\n",
              "      <td>0</td>\n",
              "      <td>0</td>\n",
              "      <td>NaN</td>\n",
              "      <td>NaN</td>\n",
              "      <td>NaN</td>\n",
              "      <td>NaN</td>\n",
              "      <td>NaN</td>\n",
              "      <td>NaN</td>\n",
              "      <td>NaN</td>\n",
              "      <td>NaN</td>\n",
              "      <td>1</td>\n",
              "      <td>NaN</td>\n",
              "      <td>NaN</td>\n",
              "      <td>NaN</td>\n",
              "      <td>NaN</td>\n",
              "      <td>NaN</td>\n",
              "      <td>NaN</td>\n",
              "      <td>NaN</td>\n",
              "    </tr>\n",
              "    <tr>\n",
              "      <th>266191</th>\n",
              "      <td>210051995005</td>\n",
              "      <td>2021</td>\n",
              "      <td>11</td>\n",
              "      <td>0</td>\n",
              "      <td>2</td>\n",
              "      <td>1</td>\n",
              "      <td>1</td>\n",
              "      <td>12</td>\n",
              "      <td>1</td>\n",
              "      <td>NaN</td>\n",
              "      <td>0</td>\n",
              "      <td>NaN</td>\n",
              "      <td>NaN</td>\n",
              "      <td>NaN</td>\n",
              "      <td>NaN</td>\n",
              "      <td>NaN</td>\n",
              "      <td>2927408</td>\n",
              "      <td>29</td>\n",
              "      <td>0</td>\n",
              "      <td>0</td>\n",
              "      <td>0</td>\n",
              "      <td>0</td>\n",
              "      <td>NaN</td>\n",
              "      <td>NaN</td>\n",
              "      <td>NaN</td>\n",
              "      <td>NaN</td>\n",
              "      <td>NaN</td>\n",
              "      <td>NaN</td>\n",
              "      <td>NaN</td>\n",
              "      <td>NaN</td>\n",
              "      <td>1</td>\n",
              "      <td>NaN</td>\n",
              "      <td>NaN</td>\n",
              "      <td>NaN</td>\n",
              "      <td>NaN</td>\n",
              "      <td>NaN</td>\n",
              "      <td>NaN</td>\n",
              "      <td>NaN</td>\n",
              "    </tr>\n",
              "    <tr>\n",
              "      <th>266192</th>\n",
              "      <td>210053234415</td>\n",
              "      <td>2021</td>\n",
              "      <td>12</td>\n",
              "      <td>2</td>\n",
              "      <td>2</td>\n",
              "      <td>1</td>\n",
              "      <td>1</td>\n",
              "      <td>15</td>\n",
              "      <td>1</td>\n",
              "      <td>NaN</td>\n",
              "      <td>0</td>\n",
              "      <td>NaN</td>\n",
              "      <td>NaN</td>\n",
              "      <td>NaN</td>\n",
              "      <td>NaN</td>\n",
              "      <td>NaN</td>\n",
              "      <td>2927408</td>\n",
              "      <td>29</td>\n",
              "      <td>0</td>\n",
              "      <td>0</td>\n",
              "      <td>0</td>\n",
              "      <td>0</td>\n",
              "      <td>NaN</td>\n",
              "      <td>NaN</td>\n",
              "      <td>NaN</td>\n",
              "      <td>NaN</td>\n",
              "      <td>NaN</td>\n",
              "      <td>NaN</td>\n",
              "      <td>NaN</td>\n",
              "      <td>NaN</td>\n",
              "      <td>1</td>\n",
              "      <td>NaN</td>\n",
              "      <td>NaN</td>\n",
              "      <td>NaN</td>\n",
              "      <td>NaN</td>\n",
              "      <td>NaN</td>\n",
              "      <td>NaN</td>\n",
              "      <td>NaN</td>\n",
              "    </tr>\n",
              "    <tr>\n",
              "      <th>266193</th>\n",
              "      <td>210054027870</td>\n",
              "      <td>2021</td>\n",
              "      <td>5</td>\n",
              "      <td>1</td>\n",
              "      <td>2</td>\n",
              "      <td>1</td>\n",
              "      <td>1</td>\n",
              "      <td>2</td>\n",
              "      <td>1</td>\n",
              "      <td>NaN</td>\n",
              "      <td>0</td>\n",
              "      <td>NaN</td>\n",
              "      <td>NaN</td>\n",
              "      <td>NaN</td>\n",
              "      <td>NaN</td>\n",
              "      <td>NaN</td>\n",
              "      <td>2927408</td>\n",
              "      <td>29</td>\n",
              "      <td>0</td>\n",
              "      <td>0</td>\n",
              "      <td>0</td>\n",
              "      <td>0</td>\n",
              "      <td>NaN</td>\n",
              "      <td>NaN</td>\n",
              "      <td>NaN</td>\n",
              "      <td>NaN</td>\n",
              "      <td>NaN</td>\n",
              "      <td>NaN</td>\n",
              "      <td>NaN</td>\n",
              "      <td>NaN</td>\n",
              "      <td>0</td>\n",
              "      <td>NaN</td>\n",
              "      <td>NaN</td>\n",
              "      <td>NaN</td>\n",
              "      <td>NaN</td>\n",
              "      <td>NaN</td>\n",
              "      <td>NaN</td>\n",
              "      <td>NaN</td>\n",
              "    </tr>\n",
              "  </tbody>\n",
              "</table>\n",
              "<p>266194 rows × 38 columns</p>\n",
              "</div>\n",
              "    <div class=\"colab-df-buttons\">\n",
              "\n",
              "  <div class=\"colab-df-container\">\n",
              "    <button class=\"colab-df-convert\" onclick=\"convertToInteractive('df-a9135b95-ecd6-4af8-8157-9d0a53a653cb')\"\n",
              "            title=\"Convert this dataframe to an interactive table.\"\n",
              "            style=\"display:none;\">\n",
              "\n",
              "  <svg xmlns=\"http://www.w3.org/2000/svg\" height=\"24px\" viewBox=\"0 -960 960 960\">\n",
              "    <path d=\"M120-120v-720h720v720H120Zm60-500h600v-160H180v160Zm220 220h160v-160H400v160Zm0 220h160v-160H400v160ZM180-400h160v-160H180v160Zm440 0h160v-160H620v160ZM180-180h160v-160H180v160Zm440 0h160v-160H620v160Z\"/>\n",
              "  </svg>\n",
              "    </button>\n",
              "\n",
              "  <style>\n",
              "    .colab-df-container {\n",
              "      display:flex;\n",
              "      gap: 12px;\n",
              "    }\n",
              "\n",
              "    .colab-df-convert {\n",
              "      background-color: #E8F0FE;\n",
              "      border: none;\n",
              "      border-radius: 50%;\n",
              "      cursor: pointer;\n",
              "      display: none;\n",
              "      fill: #1967D2;\n",
              "      height: 32px;\n",
              "      padding: 0 0 0 0;\n",
              "      width: 32px;\n",
              "    }\n",
              "\n",
              "    .colab-df-convert:hover {\n",
              "      background-color: #E2EBFA;\n",
              "      box-shadow: 0px 1px 2px rgba(60, 64, 67, 0.3), 0px 1px 3px 1px rgba(60, 64, 67, 0.15);\n",
              "      fill: #174EA6;\n",
              "    }\n",
              "\n",
              "    .colab-df-buttons div {\n",
              "      margin-bottom: 4px;\n",
              "    }\n",
              "\n",
              "    [theme=dark] .colab-df-convert {\n",
              "      background-color: #3B4455;\n",
              "      fill: #D2E3FC;\n",
              "    }\n",
              "\n",
              "    [theme=dark] .colab-df-convert:hover {\n",
              "      background-color: #434B5C;\n",
              "      box-shadow: 0px 1px 3px 1px rgba(0, 0, 0, 0.15);\n",
              "      filter: drop-shadow(0px 1px 2px rgba(0, 0, 0, 0.3));\n",
              "      fill: #FFFFFF;\n",
              "    }\n",
              "  </style>\n",
              "\n",
              "    <script>\n",
              "      const buttonEl =\n",
              "        document.querySelector('#df-a9135b95-ecd6-4af8-8157-9d0a53a653cb button.colab-df-convert');\n",
              "      buttonEl.style.display =\n",
              "        google.colab.kernel.accessAllowed ? 'block' : 'none';\n",
              "\n",
              "      async function convertToInteractive(key) {\n",
              "        const element = document.querySelector('#df-a9135b95-ecd6-4af8-8157-9d0a53a653cb');\n",
              "        const dataTable =\n",
              "          await google.colab.kernel.invokeFunction('convertToInteractive',\n",
              "                                                    [key], {});\n",
              "        if (!dataTable) return;\n",
              "\n",
              "        const docLinkHtml = 'Like what you see? Visit the ' +\n",
              "          '<a target=\"_blank\" href=https://colab.research.google.com/notebooks/data_table.ipynb>data table notebook</a>'\n",
              "          + ' to learn more about interactive tables.';\n",
              "        element.innerHTML = '';\n",
              "        dataTable['output_type'] = 'display_data';\n",
              "        await google.colab.output.renderOutput(dataTable, element);\n",
              "        const docLink = document.createElement('div');\n",
              "        docLink.innerHTML = docLinkHtml;\n",
              "        element.appendChild(docLink);\n",
              "      }\n",
              "    </script>\n",
              "  </div>\n",
              "\n",
              "\n",
              "    <div id=\"df-64486882-f6e4-4f9f-a896-92873f01d1b1\">\n",
              "      <button class=\"colab-df-quickchart\" onclick=\"quickchart('df-64486882-f6e4-4f9f-a896-92873f01d1b1')\"\n",
              "                title=\"Suggest charts\"\n",
              "                style=\"display:none;\">\n",
              "\n",
              "<svg xmlns=\"http://www.w3.org/2000/svg\" height=\"24px\"viewBox=\"0 0 24 24\"\n",
              "     width=\"24px\">\n",
              "    <g>\n",
              "        <path d=\"M19 3H5c-1.1 0-2 .9-2 2v14c0 1.1.9 2 2 2h14c1.1 0 2-.9 2-2V5c0-1.1-.9-2-2-2zM9 17H7v-7h2v7zm4 0h-2V7h2v10zm4 0h-2v-4h2v4z\"/>\n",
              "    </g>\n",
              "</svg>\n",
              "      </button>\n",
              "\n",
              "<style>\n",
              "  .colab-df-quickchart {\n",
              "      --bg-color: #E8F0FE;\n",
              "      --fill-color: #1967D2;\n",
              "      --hover-bg-color: #E2EBFA;\n",
              "      --hover-fill-color: #174EA6;\n",
              "      --disabled-fill-color: #AAA;\n",
              "      --disabled-bg-color: #DDD;\n",
              "  }\n",
              "\n",
              "  [theme=dark] .colab-df-quickchart {\n",
              "      --bg-color: #3B4455;\n",
              "      --fill-color: #D2E3FC;\n",
              "      --hover-bg-color: #434B5C;\n",
              "      --hover-fill-color: #FFFFFF;\n",
              "      --disabled-bg-color: #3B4455;\n",
              "      --disabled-fill-color: #666;\n",
              "  }\n",
              "\n",
              "  .colab-df-quickchart {\n",
              "    background-color: var(--bg-color);\n",
              "    border: none;\n",
              "    border-radius: 50%;\n",
              "    cursor: pointer;\n",
              "    display: none;\n",
              "    fill: var(--fill-color);\n",
              "    height: 32px;\n",
              "    padding: 0;\n",
              "    width: 32px;\n",
              "  }\n",
              "\n",
              "  .colab-df-quickchart:hover {\n",
              "    background-color: var(--hover-bg-color);\n",
              "    box-shadow: 0 1px 2px rgba(60, 64, 67, 0.3), 0 1px 3px 1px rgba(60, 64, 67, 0.15);\n",
              "    fill: var(--button-hover-fill-color);\n",
              "  }\n",
              "\n",
              "  .colab-df-quickchart-complete:disabled,\n",
              "  .colab-df-quickchart-complete:disabled:hover {\n",
              "    background-color: var(--disabled-bg-color);\n",
              "    fill: var(--disabled-fill-color);\n",
              "    box-shadow: none;\n",
              "  }\n",
              "\n",
              "  .colab-df-spinner {\n",
              "    border: 2px solid var(--fill-color);\n",
              "    border-color: transparent;\n",
              "    border-bottom-color: var(--fill-color);\n",
              "    animation:\n",
              "      spin 1s steps(1) infinite;\n",
              "  }\n",
              "\n",
              "  @keyframes spin {\n",
              "    0% {\n",
              "      border-color: transparent;\n",
              "      border-bottom-color: var(--fill-color);\n",
              "      border-left-color: var(--fill-color);\n",
              "    }\n",
              "    20% {\n",
              "      border-color: transparent;\n",
              "      border-left-color: var(--fill-color);\n",
              "      border-top-color: var(--fill-color);\n",
              "    }\n",
              "    30% {\n",
              "      border-color: transparent;\n",
              "      border-left-color: var(--fill-color);\n",
              "      border-top-color: var(--fill-color);\n",
              "      border-right-color: var(--fill-color);\n",
              "    }\n",
              "    40% {\n",
              "      border-color: transparent;\n",
              "      border-right-color: var(--fill-color);\n",
              "      border-top-color: var(--fill-color);\n",
              "    }\n",
              "    60% {\n",
              "      border-color: transparent;\n",
              "      border-right-color: var(--fill-color);\n",
              "    }\n",
              "    80% {\n",
              "      border-color: transparent;\n",
              "      border-right-color: var(--fill-color);\n",
              "      border-bottom-color: var(--fill-color);\n",
              "    }\n",
              "    90% {\n",
              "      border-color: transparent;\n",
              "      border-bottom-color: var(--fill-color);\n",
              "    }\n",
              "  }\n",
              "</style>\n",
              "\n",
              "      <script>\n",
              "        async function quickchart(key) {\n",
              "          const quickchartButtonEl =\n",
              "            document.querySelector('#' + key + ' button');\n",
              "          quickchartButtonEl.disabled = true;  // To prevent multiple clicks.\n",
              "          quickchartButtonEl.classList.add('colab-df-spinner');\n",
              "          try {\n",
              "            const charts = await google.colab.kernel.invokeFunction(\n",
              "                'suggestCharts', [key], {});\n",
              "          } catch (error) {\n",
              "            console.error('Error during call to suggestCharts:', error);\n",
              "          }\n",
              "          quickchartButtonEl.classList.remove('colab-df-spinner');\n",
              "          quickchartButtonEl.classList.add('colab-df-quickchart-complete');\n",
              "        }\n",
              "        (() => {\n",
              "          let quickchartButtonEl =\n",
              "            document.querySelector('#df-64486882-f6e4-4f9f-a896-92873f01d1b1 button');\n",
              "          quickchartButtonEl.style.display =\n",
              "            google.colab.kernel.accessAllowed ? 'block' : 'none';\n",
              "        })();\n",
              "      </script>\n",
              "    </div>\n",
              "\n",
              "    </div>\n",
              "  </div>\n"
            ],
            "application/vnd.google.colaboratory.intrinsic+json": {
              "type": "dataframe"
            }
          },
          "metadata": {},
          "execution_count": 29
        }
      ]
    },
    {
      "cell_type": "code",
      "source": [
        "dados.select_dtypes(include= object)"
      ],
      "metadata": {
        "colab": {
          "base_uri": "https://localhost:8080/",
          "height": 443
        },
        "id": "HHL2J5VVagwC",
        "outputId": "b87d03dd-911c-4e99-f677-504ced05cd16"
      },
      "execution_count": 30,
      "outputs": [
        {
          "output_type": "execute_result",
          "data": {
            "text/plain": [
              "       TP_SEXO NO_MUNICIPIO_ESC SG_UF_ESC NO_MUNICIPIO_PROVA SG_UF_PROVA  \\\n",
              "0            F              NaN       NaN        Ruy Barbosa          BA   \n",
              "1            F         Salvador        BA           Salvador          BA   \n",
              "2            F              NaN       NaN          Barreiras          BA   \n",
              "3            F              NaN       NaN      Santo Estêvão          BA   \n",
              "4            M              NaN       NaN   Feira de Santana          BA   \n",
              "...        ...              ...       ...                ...         ...   \n",
              "266189       M              NaN       NaN         Alagoinhas          BA   \n",
              "266190       M              NaN       NaN           Juazeiro          BA   \n",
              "266191       M              NaN       NaN           Salvador          BA   \n",
              "266192       M              NaN       NaN           Salvador          BA   \n",
              "266193       F              NaN       NaN           Salvador          BA   \n",
              "\n",
              "                                      TX_RESPOSTAS_CN  \\\n",
              "0       BAEDEBDECCEAEDDCBDEDAEECEEEDBDECBDCECBCCDABED   \n",
              "1                                                 NaN   \n",
              "2       BCEDEACAEDCEDCBDDCCAADABADDEBEECBACDCCABBDCCA   \n",
              "3       CCAECCADEAADDEDDEECEDDEADDDCACDEDCDCDEADBEDDE   \n",
              "4       CDCCBDBBDCBACEBDACBCACADBCBECCEBCDDEBDACEECCD   \n",
              "...                                               ...   \n",
              "266189                                            NaN   \n",
              "266190                                            NaN   \n",
              "266191                                            NaN   \n",
              "266192                                            NaN   \n",
              "266193                                            NaN   \n",
              "\n",
              "                                      TX_RESPOSTAS_CH  \\\n",
              "0       EEEBAABCBCDBEAEBEACEDDEDECACBDBCDACECDAECBCBD   \n",
              "1                                                 NaN   \n",
              "2       AAEADCDCAAADCBBBAABBEAEDABCDAACDDCBDAAABAABBB   \n",
              "3       DBBEADDCABABCECEAEBEAEDCBCAEABEEDEBBEAABCBDCD   \n",
              "4       CCBAADECCBACBECCBEADAEBEACBEBBEADEBBABDACDEBC   \n",
              "...                                               ...   \n",
              "266189                                            NaN   \n",
              "266190                                            NaN   \n",
              "266191                                            NaN   \n",
              "266192                                            NaN   \n",
              "266193                                            NaN   \n",
              "\n",
              "                                          TX_RESPOSTAS_LC  \\\n",
              "0       99999ACAEEEEBDEACDACDEABCEABBDEDBAEEBDEEACDBAC...   \n",
              "1                                                     NaN   \n",
              "2       EDBEC99999DDAAEBBDCDBBAABDECAADAEACCDABCEABABE...   \n",
              "3       ABCCA99999DDCACDCACABBEAAEBDAEEBDEEAADACEEDDDB...   \n",
              "4       BADCE99999DABAABBABBBCEDBDCDABEABCBBDCACBABAAA...   \n",
              "...                                                   ...   \n",
              "266189                                                NaN   \n",
              "266190                                                NaN   \n",
              "266191                                                NaN   \n",
              "266192                                                NaN   \n",
              "266193                                                NaN   \n",
              "\n",
              "                                      TX_RESPOSTAS_MT  \\\n",
              "0       BACEACDACBAAAEDCECABBACDCDBBA.CEABCDADADBECBE   \n",
              "1                                                 NaN   \n",
              "2       EBBEBDCCDDCDCBADABBBCCEABDADCBCCACBDACDCDADCE   \n",
              "3       CAAAAAAAAAAAAAAAAAAAAAAAAAAAAAAAAAAAAAAAAAAAA   \n",
              "4       CCBACBBCCCCEDDDDCBCCDCACCCBBBDDDBCBADDBCABACA   \n",
              "...                                               ...   \n",
              "266189                                            NaN   \n",
              "266190                                            NaN   \n",
              "266191                                            NaN   \n",
              "266192                                            NaN   \n",
              "266193                                            NaN   \n",
              "\n",
              "                                       TX_GABARITO_CN  \\\n",
              "0       EDECABEDABCBEBACCDCBBEEBBCBDAAECDCBDCDBBBADCD   \n",
              "1                                                 NaN   \n",
              "2       DABCEDEBEEBBCABEDDCBCBECDADCDAACBDCCCDBBBEBAB   \n",
              "3       CDBBBCABEDEDEAAEBACCCBDABCDCBCBDECDADCDBBEEBB   \n",
              "4       CDBBBCABEDEDEAAEBACCCBDABCDCBCBDECDADCDBBEEBB   \n",
              "...                                               ...   \n",
              "266189                                            NaN   \n",
              "266190                                            NaN   \n",
              "266191                                            NaN   \n",
              "266192                                            NaN   \n",
              "266193                                            NaN   \n",
              "\n",
              "                                       TX_GABARITO_CH  \\\n",
              "0       BEECCAEABADBCAEBAAEEDDEBBBADBCBAAEEBBBADCCBBA   \n",
              "1                                                 NaN   \n",
              "2       EBAAEADBCACBBABEECBAAEEBBBADCBADBCEDDEBBCAEAB   \n",
              "3       BBBAAEECBBABEECEBAAEADBCACAEABEDDEBBBADBCBADC   \n",
              "4       BBBAAEECBBABEECEBAAEADBCACAEABEDDEBBBADBCBADC   \n",
              "...                                               ...   \n",
              "266189                                            NaN   \n",
              "266190                                            NaN   \n",
              "266191                                            NaN   \n",
              "266192                                            NaN   \n",
              "266193                                            NaN   \n",
              "\n",
              "                                           TX_GABARITO_LC  \\\n",
              "0       ABBACAAECACDBDDADEBDDCBDCEDBEDDBBBBDCEEAADABAC...   \n",
              "1                                                     NaN   \n",
              "2       ACABBACAEADCEADABDACDCEABDDADBEDDDEBBACCDDDCCE...   \n",
              "3       ABBCAEAACADDCACDCADABBBBDEBBACEADCEBDDACEEDDDB...   \n",
              "4       ABBCAEAACADDCACDCADABBBBDEBBACEADCEBDDACEEDDDB...   \n",
              "...                                                   ...   \n",
              "266189                                                NaN   \n",
              "266190                                                NaN   \n",
              "266191                                                NaN   \n",
              "266192                                                NaN   \n",
              "266193                                                NaN   \n",
              "\n",
              "                                       TX_GABARITO_MT  \n",
              "0       EEXEBABDDCECCBCCECDCAEBADEABBDBDEDCEDCCADDCAB  \n",
              "1                                                 NaN  \n",
              "2       DCCAEBABDDCABEECCBCCEXADDCEECDEBADCABBDBDEDCE  \n",
              "3       ECCCABBDBDDDCEDDCABXEEEBABEDCEDCCAEBADBCCECDA  \n",
              "4       ECCCABBDBDDDCEDDCABXEEEBABEDCEDCCAEBADBCCECDA  \n",
              "...                                               ...  \n",
              "266189                                            NaN  \n",
              "266190                                            NaN  \n",
              "266191                                            NaN  \n",
              "266192                                            NaN  \n",
              "266193                                            NaN  \n",
              "\n",
              "[266194 rows x 13 columns]"
            ],
            "text/html": [
              "\n",
              "  <div id=\"df-69cbff2c-4bfc-400e-a7ee-5815d5ae7b74\" class=\"colab-df-container\">\n",
              "    <div>\n",
              "<style scoped>\n",
              "    .dataframe tbody tr th:only-of-type {\n",
              "        vertical-align: middle;\n",
              "    }\n",
              "\n",
              "    .dataframe tbody tr th {\n",
              "        vertical-align: top;\n",
              "    }\n",
              "\n",
              "    .dataframe thead th {\n",
              "        text-align: right;\n",
              "    }\n",
              "</style>\n",
              "<table border=\"1\" class=\"dataframe\">\n",
              "  <thead>\n",
              "    <tr style=\"text-align: right;\">\n",
              "      <th></th>\n",
              "      <th>TP_SEXO</th>\n",
              "      <th>NO_MUNICIPIO_ESC</th>\n",
              "      <th>SG_UF_ESC</th>\n",
              "      <th>NO_MUNICIPIO_PROVA</th>\n",
              "      <th>SG_UF_PROVA</th>\n",
              "      <th>TX_RESPOSTAS_CN</th>\n",
              "      <th>TX_RESPOSTAS_CH</th>\n",
              "      <th>TX_RESPOSTAS_LC</th>\n",
              "      <th>TX_RESPOSTAS_MT</th>\n",
              "      <th>TX_GABARITO_CN</th>\n",
              "      <th>TX_GABARITO_CH</th>\n",
              "      <th>TX_GABARITO_LC</th>\n",
              "      <th>TX_GABARITO_MT</th>\n",
              "    </tr>\n",
              "  </thead>\n",
              "  <tbody>\n",
              "    <tr>\n",
              "      <th>0</th>\n",
              "      <td>F</td>\n",
              "      <td>NaN</td>\n",
              "      <td>NaN</td>\n",
              "      <td>Ruy Barbosa</td>\n",
              "      <td>BA</td>\n",
              "      <td>BAEDEBDECCEAEDDCBDEDAEECEEEDBDECBDCECBCCDABED</td>\n",
              "      <td>EEEBAABCBCDBEAEBEACEDDEDECACBDBCDACECDAECBCBD</td>\n",
              "      <td>99999ACAEEEEBDEACDACDEABCEABBDEDBAEEBDEEACDBAC...</td>\n",
              "      <td>BACEACDACBAAAEDCECABBACDCDBBA.CEABCDADADBECBE</td>\n",
              "      <td>EDECABEDABCBEBACCDCBBEEBBCBDAAECDCBDCDBBBADCD</td>\n",
              "      <td>BEECCAEABADBCAEBAAEEDDEBBBADBCBAAEEBBBADCCBBA</td>\n",
              "      <td>ABBACAAECACDBDDADEBDDCBDCEDBEDDBBBBDCEEAADABAC...</td>\n",
              "      <td>EEXEBABDDCECCBCCECDCAEBADEABBDBDEDCEDCCADDCAB</td>\n",
              "    </tr>\n",
              "    <tr>\n",
              "      <th>1</th>\n",
              "      <td>F</td>\n",
              "      <td>Salvador</td>\n",
              "      <td>BA</td>\n",
              "      <td>Salvador</td>\n",
              "      <td>BA</td>\n",
              "      <td>NaN</td>\n",
              "      <td>NaN</td>\n",
              "      <td>NaN</td>\n",
              "      <td>NaN</td>\n",
              "      <td>NaN</td>\n",
              "      <td>NaN</td>\n",
              "      <td>NaN</td>\n",
              "      <td>NaN</td>\n",
              "    </tr>\n",
              "    <tr>\n",
              "      <th>2</th>\n",
              "      <td>F</td>\n",
              "      <td>NaN</td>\n",
              "      <td>NaN</td>\n",
              "      <td>Barreiras</td>\n",
              "      <td>BA</td>\n",
              "      <td>BCEDEACAEDCEDCBDDCCAADABADDEBEECBACDCCABBDCCA</td>\n",
              "      <td>AAEADCDCAAADCBBBAABBEAEDABCDAACDDCBDAAABAABBB</td>\n",
              "      <td>EDBEC99999DDAAEBBDCDBBAABDECAADAEACCDABCEABABE...</td>\n",
              "      <td>EBBEBDCCDDCDCBADABBBCCEABDADCBCCACBDACDCDADCE</td>\n",
              "      <td>DABCEDEBEEBBCABEDDCBCBECDADCDAACBDCCCDBBBEBAB</td>\n",
              "      <td>EBAAEADBCACBBABEECBAAEEBBBADCBADBCEDDEBBCAEAB</td>\n",
              "      <td>ACABBACAEADCEADABDACDCEABDDADBEDDDEBBACCDDDCCE...</td>\n",
              "      <td>DCCAEBABDDCABEECCBCCEXADDCEECDEBADCABBDBDEDCE</td>\n",
              "    </tr>\n",
              "    <tr>\n",
              "      <th>3</th>\n",
              "      <td>F</td>\n",
              "      <td>NaN</td>\n",
              "      <td>NaN</td>\n",
              "      <td>Santo Estêvão</td>\n",
              "      <td>BA</td>\n",
              "      <td>CCAECCADEAADDEDDEECEDDEADDDCACDEDCDCDEADBEDDE</td>\n",
              "      <td>DBBEADDCABABCECEAEBEAEDCBCAEABEEDEBBEAABCBDCD</td>\n",
              "      <td>ABCCA99999DDCACDCACABBEAAEBDAEEBDEEAADACEEDDDB...</td>\n",
              "      <td>CAAAAAAAAAAAAAAAAAAAAAAAAAAAAAAAAAAAAAAAAAAAA</td>\n",
              "      <td>CDBBBCABEDEDEAAEBACCCBDABCDCBCBDECDADCDBBEEBB</td>\n",
              "      <td>BBBAAEECBBABEECEBAAEADBCACAEABEDDEBBBADBCBADC</td>\n",
              "      <td>ABBCAEAACADDCACDCADABBBBDEBBACEADCEBDDACEEDDDB...</td>\n",
              "      <td>ECCCABBDBDDDCEDDCABXEEEBABEDCEDCCAEBADBCCECDA</td>\n",
              "    </tr>\n",
              "    <tr>\n",
              "      <th>4</th>\n",
              "      <td>M</td>\n",
              "      <td>NaN</td>\n",
              "      <td>NaN</td>\n",
              "      <td>Feira de Santana</td>\n",
              "      <td>BA</td>\n",
              "      <td>CDCCBDBBDCBACEBDACBCACADBCBECCEBCDDEBDACEECCD</td>\n",
              "      <td>CCBAADECCBACBECCBEADAEBEACBEBBEADEBBABDACDEBC</td>\n",
              "      <td>BADCE99999DABAABBABBBCEDBDCDABEABCBBDCACBABAAA...</td>\n",
              "      <td>CCBACBBCCCCEDDDDCBCCDCACCCBBBDDDBCBADDBCABACA</td>\n",
              "      <td>CDBBBCABEDEDEAAEBACCCBDABCDCBCBDECDADCDBBEEBB</td>\n",
              "      <td>BBBAAEECBBABEECEBAAEADBCACAEABEDDEBBBADBCBADC</td>\n",
              "      <td>ABBCAEAACADDCACDCADABBBBDEBBACEADCEBDDACEEDDDB...</td>\n",
              "      <td>ECCCABBDBDDDCEDDCABXEEEBABEDCEDCCAEBADBCCECDA</td>\n",
              "    </tr>\n",
              "    <tr>\n",
              "      <th>...</th>\n",
              "      <td>...</td>\n",
              "      <td>...</td>\n",
              "      <td>...</td>\n",
              "      <td>...</td>\n",
              "      <td>...</td>\n",
              "      <td>...</td>\n",
              "      <td>...</td>\n",
              "      <td>...</td>\n",
              "      <td>...</td>\n",
              "      <td>...</td>\n",
              "      <td>...</td>\n",
              "      <td>...</td>\n",
              "      <td>...</td>\n",
              "    </tr>\n",
              "    <tr>\n",
              "      <th>266189</th>\n",
              "      <td>M</td>\n",
              "      <td>NaN</td>\n",
              "      <td>NaN</td>\n",
              "      <td>Alagoinhas</td>\n",
              "      <td>BA</td>\n",
              "      <td>NaN</td>\n",
              "      <td>NaN</td>\n",
              "      <td>NaN</td>\n",
              "      <td>NaN</td>\n",
              "      <td>NaN</td>\n",
              "      <td>NaN</td>\n",
              "      <td>NaN</td>\n",
              "      <td>NaN</td>\n",
              "    </tr>\n",
              "    <tr>\n",
              "      <th>266190</th>\n",
              "      <td>M</td>\n",
              "      <td>NaN</td>\n",
              "      <td>NaN</td>\n",
              "      <td>Juazeiro</td>\n",
              "      <td>BA</td>\n",
              "      <td>NaN</td>\n",
              "      <td>NaN</td>\n",
              "      <td>NaN</td>\n",
              "      <td>NaN</td>\n",
              "      <td>NaN</td>\n",
              "      <td>NaN</td>\n",
              "      <td>NaN</td>\n",
              "      <td>NaN</td>\n",
              "    </tr>\n",
              "    <tr>\n",
              "      <th>266191</th>\n",
              "      <td>M</td>\n",
              "      <td>NaN</td>\n",
              "      <td>NaN</td>\n",
              "      <td>Salvador</td>\n",
              "      <td>BA</td>\n",
              "      <td>NaN</td>\n",
              "      <td>NaN</td>\n",
              "      <td>NaN</td>\n",
              "      <td>NaN</td>\n",
              "      <td>NaN</td>\n",
              "      <td>NaN</td>\n",
              "      <td>NaN</td>\n",
              "      <td>NaN</td>\n",
              "    </tr>\n",
              "    <tr>\n",
              "      <th>266192</th>\n",
              "      <td>M</td>\n",
              "      <td>NaN</td>\n",
              "      <td>NaN</td>\n",
              "      <td>Salvador</td>\n",
              "      <td>BA</td>\n",
              "      <td>NaN</td>\n",
              "      <td>NaN</td>\n",
              "      <td>NaN</td>\n",
              "      <td>NaN</td>\n",
              "      <td>NaN</td>\n",
              "      <td>NaN</td>\n",
              "      <td>NaN</td>\n",
              "      <td>NaN</td>\n",
              "    </tr>\n",
              "    <tr>\n",
              "      <th>266193</th>\n",
              "      <td>F</td>\n",
              "      <td>NaN</td>\n",
              "      <td>NaN</td>\n",
              "      <td>Salvador</td>\n",
              "      <td>BA</td>\n",
              "      <td>NaN</td>\n",
              "      <td>NaN</td>\n",
              "      <td>NaN</td>\n",
              "      <td>NaN</td>\n",
              "      <td>NaN</td>\n",
              "      <td>NaN</td>\n",
              "      <td>NaN</td>\n",
              "      <td>NaN</td>\n",
              "    </tr>\n",
              "  </tbody>\n",
              "</table>\n",
              "<p>266194 rows × 13 columns</p>\n",
              "</div>\n",
              "    <div class=\"colab-df-buttons\">\n",
              "\n",
              "  <div class=\"colab-df-container\">\n",
              "    <button class=\"colab-df-convert\" onclick=\"convertToInteractive('df-69cbff2c-4bfc-400e-a7ee-5815d5ae7b74')\"\n",
              "            title=\"Convert this dataframe to an interactive table.\"\n",
              "            style=\"display:none;\">\n",
              "\n",
              "  <svg xmlns=\"http://www.w3.org/2000/svg\" height=\"24px\" viewBox=\"0 -960 960 960\">\n",
              "    <path d=\"M120-120v-720h720v720H120Zm60-500h600v-160H180v160Zm220 220h160v-160H400v160Zm0 220h160v-160H400v160ZM180-400h160v-160H180v160Zm440 0h160v-160H620v160ZM180-180h160v-160H180v160Zm440 0h160v-160H620v160Z\"/>\n",
              "  </svg>\n",
              "    </button>\n",
              "\n",
              "  <style>\n",
              "    .colab-df-container {\n",
              "      display:flex;\n",
              "      gap: 12px;\n",
              "    }\n",
              "\n",
              "    .colab-df-convert {\n",
              "      background-color: #E8F0FE;\n",
              "      border: none;\n",
              "      border-radius: 50%;\n",
              "      cursor: pointer;\n",
              "      display: none;\n",
              "      fill: #1967D2;\n",
              "      height: 32px;\n",
              "      padding: 0 0 0 0;\n",
              "      width: 32px;\n",
              "    }\n",
              "\n",
              "    .colab-df-convert:hover {\n",
              "      background-color: #E2EBFA;\n",
              "      box-shadow: 0px 1px 2px rgba(60, 64, 67, 0.3), 0px 1px 3px 1px rgba(60, 64, 67, 0.15);\n",
              "      fill: #174EA6;\n",
              "    }\n",
              "\n",
              "    .colab-df-buttons div {\n",
              "      margin-bottom: 4px;\n",
              "    }\n",
              "\n",
              "    [theme=dark] .colab-df-convert {\n",
              "      background-color: #3B4455;\n",
              "      fill: #D2E3FC;\n",
              "    }\n",
              "\n",
              "    [theme=dark] .colab-df-convert:hover {\n",
              "      background-color: #434B5C;\n",
              "      box-shadow: 0px 1px 3px 1px rgba(0, 0, 0, 0.15);\n",
              "      filter: drop-shadow(0px 1px 2px rgba(0, 0, 0, 0.3));\n",
              "      fill: #FFFFFF;\n",
              "    }\n",
              "  </style>\n",
              "\n",
              "    <script>\n",
              "      const buttonEl =\n",
              "        document.querySelector('#df-69cbff2c-4bfc-400e-a7ee-5815d5ae7b74 button.colab-df-convert');\n",
              "      buttonEl.style.display =\n",
              "        google.colab.kernel.accessAllowed ? 'block' : 'none';\n",
              "\n",
              "      async function convertToInteractive(key) {\n",
              "        const element = document.querySelector('#df-69cbff2c-4bfc-400e-a7ee-5815d5ae7b74');\n",
              "        const dataTable =\n",
              "          await google.colab.kernel.invokeFunction('convertToInteractive',\n",
              "                                                    [key], {});\n",
              "        if (!dataTable) return;\n",
              "\n",
              "        const docLinkHtml = 'Like what you see? Visit the ' +\n",
              "          '<a target=\"_blank\" href=https://colab.research.google.com/notebooks/data_table.ipynb>data table notebook</a>'\n",
              "          + ' to learn more about interactive tables.';\n",
              "        element.innerHTML = '';\n",
              "        dataTable['output_type'] = 'display_data';\n",
              "        await google.colab.output.renderOutput(dataTable, element);\n",
              "        const docLink = document.createElement('div');\n",
              "        docLink.innerHTML = docLinkHtml;\n",
              "        element.appendChild(docLink);\n",
              "      }\n",
              "    </script>\n",
              "  </div>\n",
              "\n",
              "\n",
              "    <div id=\"df-91dd3d58-183f-4639-a6c4-8e27e9be9380\">\n",
              "      <button class=\"colab-df-quickchart\" onclick=\"quickchart('df-91dd3d58-183f-4639-a6c4-8e27e9be9380')\"\n",
              "                title=\"Suggest charts\"\n",
              "                style=\"display:none;\">\n",
              "\n",
              "<svg xmlns=\"http://www.w3.org/2000/svg\" height=\"24px\"viewBox=\"0 0 24 24\"\n",
              "     width=\"24px\">\n",
              "    <g>\n",
              "        <path d=\"M19 3H5c-1.1 0-2 .9-2 2v14c0 1.1.9 2 2 2h14c1.1 0 2-.9 2-2V5c0-1.1-.9-2-2-2zM9 17H7v-7h2v7zm4 0h-2V7h2v10zm4 0h-2v-4h2v4z\"/>\n",
              "    </g>\n",
              "</svg>\n",
              "      </button>\n",
              "\n",
              "<style>\n",
              "  .colab-df-quickchart {\n",
              "      --bg-color: #E8F0FE;\n",
              "      --fill-color: #1967D2;\n",
              "      --hover-bg-color: #E2EBFA;\n",
              "      --hover-fill-color: #174EA6;\n",
              "      --disabled-fill-color: #AAA;\n",
              "      --disabled-bg-color: #DDD;\n",
              "  }\n",
              "\n",
              "  [theme=dark] .colab-df-quickchart {\n",
              "      --bg-color: #3B4455;\n",
              "      --fill-color: #D2E3FC;\n",
              "      --hover-bg-color: #434B5C;\n",
              "      --hover-fill-color: #FFFFFF;\n",
              "      --disabled-bg-color: #3B4455;\n",
              "      --disabled-fill-color: #666;\n",
              "  }\n",
              "\n",
              "  .colab-df-quickchart {\n",
              "    background-color: var(--bg-color);\n",
              "    border: none;\n",
              "    border-radius: 50%;\n",
              "    cursor: pointer;\n",
              "    display: none;\n",
              "    fill: var(--fill-color);\n",
              "    height: 32px;\n",
              "    padding: 0;\n",
              "    width: 32px;\n",
              "  }\n",
              "\n",
              "  .colab-df-quickchart:hover {\n",
              "    background-color: var(--hover-bg-color);\n",
              "    box-shadow: 0 1px 2px rgba(60, 64, 67, 0.3), 0 1px 3px 1px rgba(60, 64, 67, 0.15);\n",
              "    fill: var(--button-hover-fill-color);\n",
              "  }\n",
              "\n",
              "  .colab-df-quickchart-complete:disabled,\n",
              "  .colab-df-quickchart-complete:disabled:hover {\n",
              "    background-color: var(--disabled-bg-color);\n",
              "    fill: var(--disabled-fill-color);\n",
              "    box-shadow: none;\n",
              "  }\n",
              "\n",
              "  .colab-df-spinner {\n",
              "    border: 2px solid var(--fill-color);\n",
              "    border-color: transparent;\n",
              "    border-bottom-color: var(--fill-color);\n",
              "    animation:\n",
              "      spin 1s steps(1) infinite;\n",
              "  }\n",
              "\n",
              "  @keyframes spin {\n",
              "    0% {\n",
              "      border-color: transparent;\n",
              "      border-bottom-color: var(--fill-color);\n",
              "      border-left-color: var(--fill-color);\n",
              "    }\n",
              "    20% {\n",
              "      border-color: transparent;\n",
              "      border-left-color: var(--fill-color);\n",
              "      border-top-color: var(--fill-color);\n",
              "    }\n",
              "    30% {\n",
              "      border-color: transparent;\n",
              "      border-left-color: var(--fill-color);\n",
              "      border-top-color: var(--fill-color);\n",
              "      border-right-color: var(--fill-color);\n",
              "    }\n",
              "    40% {\n",
              "      border-color: transparent;\n",
              "      border-right-color: var(--fill-color);\n",
              "      border-top-color: var(--fill-color);\n",
              "    }\n",
              "    60% {\n",
              "      border-color: transparent;\n",
              "      border-right-color: var(--fill-color);\n",
              "    }\n",
              "    80% {\n",
              "      border-color: transparent;\n",
              "      border-right-color: var(--fill-color);\n",
              "      border-bottom-color: var(--fill-color);\n",
              "    }\n",
              "    90% {\n",
              "      border-color: transparent;\n",
              "      border-bottom-color: var(--fill-color);\n",
              "    }\n",
              "  }\n",
              "</style>\n",
              "\n",
              "      <script>\n",
              "        async function quickchart(key) {\n",
              "          const quickchartButtonEl =\n",
              "            document.querySelector('#' + key + ' button');\n",
              "          quickchartButtonEl.disabled = true;  // To prevent multiple clicks.\n",
              "          quickchartButtonEl.classList.add('colab-df-spinner');\n",
              "          try {\n",
              "            const charts = await google.colab.kernel.invokeFunction(\n",
              "                'suggestCharts', [key], {});\n",
              "          } catch (error) {\n",
              "            console.error('Error during call to suggestCharts:', error);\n",
              "          }\n",
              "          quickchartButtonEl.classList.remove('colab-df-spinner');\n",
              "          quickchartButtonEl.classList.add('colab-df-quickchart-complete');\n",
              "        }\n",
              "        (() => {\n",
              "          let quickchartButtonEl =\n",
              "            document.querySelector('#df-91dd3d58-183f-4639-a6c4-8e27e9be9380 button');\n",
              "          quickchartButtonEl.style.display =\n",
              "            google.colab.kernel.accessAllowed ? 'block' : 'none';\n",
              "        })();\n",
              "      </script>\n",
              "    </div>\n",
              "\n",
              "    </div>\n",
              "  </div>\n"
            ],
            "application/vnd.google.colaboratory.intrinsic+json": {
              "type": "dataframe"
            }
          },
          "metadata": {},
          "execution_count": 30
        }
      ]
    },
    {
      "cell_type": "code",
      "source": [
        "dados.select_dtypes(exclude= object)"
      ],
      "metadata": {
        "colab": {
          "base_uri": "https://localhost:8080/",
          "height": 443
        },
        "id": "7TgspMwca9jN",
        "outputId": "f5874c5d-92ee-4b80-a27e-ac57e928702f"
      },
      "execution_count": 31,
      "outputs": [
        {
          "output_type": "execute_result",
          "data": {
            "text/plain": [
              "        NU_INSCRICAO  NU_ANO  TP_FAIXA_ETARIA  TP_ESTADO_CIVIL  TP_COR_RACA  \\\n",
              "0       210051128744    2021                4                1            3   \n",
              "1       210054173438    2021                5                1            2   \n",
              "2       210052118573    2021                3                1            3   \n",
              "3       210052350230    2021               10                1            2   \n",
              "4       210053156861    2021                9                1            2   \n",
              "...              ...     ...              ...              ...          ...   \n",
              "266189  210051432069    2021               12                1            3   \n",
              "266190  210051106175    2021               14                2            2   \n",
              "266191  210051995005    2021               11                0            2   \n",
              "266192  210053234415    2021               12                2            2   \n",
              "266193  210054027870    2021                5                1            2   \n",
              "\n",
              "        TP_NACIONALIDADE  TP_ST_CONCLUSAO  TP_ANO_CONCLUIU  TP_ESCOLA  \\\n",
              "0                      1                2                0          2   \n",
              "1                      1                2                0          2   \n",
              "2                      1                2                0          2   \n",
              "3                      1                1                8          1   \n",
              "4                      1                1                5          1   \n",
              "...                  ...              ...              ...        ...   \n",
              "266189                 1                1                0          1   \n",
              "266190                 1                1                0          1   \n",
              "266191                 1                1               12          1   \n",
              "266192                 1                1               15          1   \n",
              "266193                 1                1                2          1   \n",
              "\n",
              "        TP_ENSINO  IN_TREINEIRO  CO_MUNICIPIO_ESC  CO_UF_ESC  \\\n",
              "0             1.0             0               NaN        NaN   \n",
              "1             1.0             0         2927408.0       29.0   \n",
              "2             1.0             0               NaN        NaN   \n",
              "3             NaN             0               NaN        NaN   \n",
              "4             NaN             0               NaN        NaN   \n",
              "...           ...           ...               ...        ...   \n",
              "266189        NaN             0               NaN        NaN   \n",
              "266190        NaN             0               NaN        NaN   \n",
              "266191        NaN             0               NaN        NaN   \n",
              "266192        NaN             0               NaN        NaN   \n",
              "266193        NaN             0               NaN        NaN   \n",
              "\n",
              "        TP_DEPENDENCIA_ADM_ESC  TP_LOCALIZACAO_ESC  TP_SIT_FUNC_ESC  \\\n",
              "0                          NaN                 NaN              NaN   \n",
              "1                          1.0                 1.0              1.0   \n",
              "2                          NaN                 NaN              NaN   \n",
              "3                          NaN                 NaN              NaN   \n",
              "4                          NaN                 NaN              NaN   \n",
              "...                        ...                 ...              ...   \n",
              "266189                     NaN                 NaN              NaN   \n",
              "266190                     NaN                 NaN              NaN   \n",
              "266191                     NaN                 NaN              NaN   \n",
              "266192                     NaN                 NaN              NaN   \n",
              "266193                     NaN                 NaN              NaN   \n",
              "\n",
              "        CO_MUNICIPIO_PROVA  CO_UF_PROVA  TP_PRESENCA_CN  TP_PRESENCA_CH  \\\n",
              "0                  2927200           29               1               1   \n",
              "1                  2927408           29               0               0   \n",
              "2                  2903201           29               1               1   \n",
              "3                  2928802           29               1               1   \n",
              "4                  2910800           29               1               1   \n",
              "...                    ...          ...             ...             ...   \n",
              "266189             2900702           29               0               0   \n",
              "266190             2918407           29               0               0   \n",
              "266191             2927408           29               0               0   \n",
              "266192             2927408           29               0               0   \n",
              "266193             2927408           29               0               0   \n",
              "\n",
              "        TP_PRESENCA_LC  TP_PRESENCA_MT  CO_PROVA_CN  CO_PROVA_CH  CO_PROVA_LC  \\\n",
              "0                    1               1        909.0        881.0        892.0   \n",
              "1                    0               0          NaN          NaN          NaN   \n",
              "2                    1               1        912.0        882.0        891.0   \n",
              "3                    1               1        911.0        880.0        890.0   \n",
              "4                    1               1       1014.0       1000.0       1004.0   \n",
              "...                ...             ...          ...          ...          ...   \n",
              "266189               0               0          NaN          NaN          NaN   \n",
              "266190               0               0          NaN          NaN          NaN   \n",
              "266191               0               0          NaN          NaN          NaN   \n",
              "266192               0               0          NaN          NaN          NaN   \n",
              "266193               0               0          NaN          NaN          NaN   \n",
              "\n",
              "        CO_PROVA_MT  NU_NOTA_CN  NU_NOTA_CH  NU_NOTA_LC  NU_NOTA_MT  \\\n",
              "0             899.0       507.6       539.2       494.6       413.3   \n",
              "1               NaN         NaN         NaN         NaN         NaN   \n",
              "2             901.0       439.6       437.7       455.9       446.2   \n",
              "3             902.0       548.1       619.5       676.3       386.6   \n",
              "4            1010.0       465.2       613.1       522.1       579.6   \n",
              "...             ...         ...         ...         ...         ...   \n",
              "266189          NaN         NaN         NaN         NaN         NaN   \n",
              "266190          NaN         NaN         NaN         NaN         NaN   \n",
              "266191          NaN         NaN         NaN         NaN         NaN   \n",
              "266192          NaN         NaN         NaN         NaN         NaN   \n",
              "266193          NaN         NaN         NaN         NaN         NaN   \n",
              "\n",
              "        TP_LINGUA  TP_STATUS_REDACAO  NU_NOTA_COMP1  NU_NOTA_COMP2  \\\n",
              "0               1                1.0           80.0          120.0   \n",
              "1               0                NaN            NaN            NaN   \n",
              "2               0                1.0           80.0          120.0   \n",
              "3               0                1.0          120.0          120.0   \n",
              "4               0                1.0          100.0          120.0   \n",
              "...           ...                ...            ...            ...   \n",
              "266189          1                NaN            NaN            NaN   \n",
              "266190          1                NaN            NaN            NaN   \n",
              "266191          1                NaN            NaN            NaN   \n",
              "266192          1                NaN            NaN            NaN   \n",
              "266193          0                NaN            NaN            NaN   \n",
              "\n",
              "        NU_NOTA_COMP3  NU_NOTA_COMP4  NU_NOTA_COMP5  NU_NOTA_REDACAO  \n",
              "0                80.0           80.0           20.0            380.0  \n",
              "1                 NaN            NaN            NaN              NaN  \n",
              "2                80.0          100.0           80.0            460.0  \n",
              "3               100.0          120.0          120.0            580.0  \n",
              "4               100.0          120.0          100.0            540.0  \n",
              "...               ...            ...            ...              ...  \n",
              "266189            NaN            NaN            NaN              NaN  \n",
              "266190            NaN            NaN            NaN              NaN  \n",
              "266191            NaN            NaN            NaN              NaN  \n",
              "266192            NaN            NaN            NaN              NaN  \n",
              "266193            NaN            NaN            NaN              NaN  \n",
              "\n",
              "[266194 rows x 38 columns]"
            ],
            "text/html": [
              "\n",
              "  <div id=\"df-ce7e8654-6e07-45f1-a2eb-fbeb3e527133\" class=\"colab-df-container\">\n",
              "    <div>\n",
              "<style scoped>\n",
              "    .dataframe tbody tr th:only-of-type {\n",
              "        vertical-align: middle;\n",
              "    }\n",
              "\n",
              "    .dataframe tbody tr th {\n",
              "        vertical-align: top;\n",
              "    }\n",
              "\n",
              "    .dataframe thead th {\n",
              "        text-align: right;\n",
              "    }\n",
              "</style>\n",
              "<table border=\"1\" class=\"dataframe\">\n",
              "  <thead>\n",
              "    <tr style=\"text-align: right;\">\n",
              "      <th></th>\n",
              "      <th>NU_INSCRICAO</th>\n",
              "      <th>NU_ANO</th>\n",
              "      <th>TP_FAIXA_ETARIA</th>\n",
              "      <th>TP_ESTADO_CIVIL</th>\n",
              "      <th>TP_COR_RACA</th>\n",
              "      <th>TP_NACIONALIDADE</th>\n",
              "      <th>TP_ST_CONCLUSAO</th>\n",
              "      <th>TP_ANO_CONCLUIU</th>\n",
              "      <th>TP_ESCOLA</th>\n",
              "      <th>TP_ENSINO</th>\n",
              "      <th>IN_TREINEIRO</th>\n",
              "      <th>CO_MUNICIPIO_ESC</th>\n",
              "      <th>CO_UF_ESC</th>\n",
              "      <th>TP_DEPENDENCIA_ADM_ESC</th>\n",
              "      <th>TP_LOCALIZACAO_ESC</th>\n",
              "      <th>TP_SIT_FUNC_ESC</th>\n",
              "      <th>CO_MUNICIPIO_PROVA</th>\n",
              "      <th>CO_UF_PROVA</th>\n",
              "      <th>TP_PRESENCA_CN</th>\n",
              "      <th>TP_PRESENCA_CH</th>\n",
              "      <th>TP_PRESENCA_LC</th>\n",
              "      <th>TP_PRESENCA_MT</th>\n",
              "      <th>CO_PROVA_CN</th>\n",
              "      <th>CO_PROVA_CH</th>\n",
              "      <th>CO_PROVA_LC</th>\n",
              "      <th>CO_PROVA_MT</th>\n",
              "      <th>NU_NOTA_CN</th>\n",
              "      <th>NU_NOTA_CH</th>\n",
              "      <th>NU_NOTA_LC</th>\n",
              "      <th>NU_NOTA_MT</th>\n",
              "      <th>TP_LINGUA</th>\n",
              "      <th>TP_STATUS_REDACAO</th>\n",
              "      <th>NU_NOTA_COMP1</th>\n",
              "      <th>NU_NOTA_COMP2</th>\n",
              "      <th>NU_NOTA_COMP3</th>\n",
              "      <th>NU_NOTA_COMP4</th>\n",
              "      <th>NU_NOTA_COMP5</th>\n",
              "      <th>NU_NOTA_REDACAO</th>\n",
              "    </tr>\n",
              "  </thead>\n",
              "  <tbody>\n",
              "    <tr>\n",
              "      <th>0</th>\n",
              "      <td>210051128744</td>\n",
              "      <td>2021</td>\n",
              "      <td>4</td>\n",
              "      <td>1</td>\n",
              "      <td>3</td>\n",
              "      <td>1</td>\n",
              "      <td>2</td>\n",
              "      <td>0</td>\n",
              "      <td>2</td>\n",
              "      <td>1.0</td>\n",
              "      <td>0</td>\n",
              "      <td>NaN</td>\n",
              "      <td>NaN</td>\n",
              "      <td>NaN</td>\n",
              "      <td>NaN</td>\n",
              "      <td>NaN</td>\n",
              "      <td>2927200</td>\n",
              "      <td>29</td>\n",
              "      <td>1</td>\n",
              "      <td>1</td>\n",
              "      <td>1</td>\n",
              "      <td>1</td>\n",
              "      <td>909.0</td>\n",
              "      <td>881.0</td>\n",
              "      <td>892.0</td>\n",
              "      <td>899.0</td>\n",
              "      <td>507.6</td>\n",
              "      <td>539.2</td>\n",
              "      <td>494.6</td>\n",
              "      <td>413.3</td>\n",
              "      <td>1</td>\n",
              "      <td>1.0</td>\n",
              "      <td>80.0</td>\n",
              "      <td>120.0</td>\n",
              "      <td>80.0</td>\n",
              "      <td>80.0</td>\n",
              "      <td>20.0</td>\n",
              "      <td>380.0</td>\n",
              "    </tr>\n",
              "    <tr>\n",
              "      <th>1</th>\n",
              "      <td>210054173438</td>\n",
              "      <td>2021</td>\n",
              "      <td>5</td>\n",
              "      <td>1</td>\n",
              "      <td>2</td>\n",
              "      <td>1</td>\n",
              "      <td>2</td>\n",
              "      <td>0</td>\n",
              "      <td>2</td>\n",
              "      <td>1.0</td>\n",
              "      <td>0</td>\n",
              "      <td>2927408.0</td>\n",
              "      <td>29.0</td>\n",
              "      <td>1.0</td>\n",
              "      <td>1.0</td>\n",
              "      <td>1.0</td>\n",
              "      <td>2927408</td>\n",
              "      <td>29</td>\n",
              "      <td>0</td>\n",
              "      <td>0</td>\n",
              "      <td>0</td>\n",
              "      <td>0</td>\n",
              "      <td>NaN</td>\n",
              "      <td>NaN</td>\n",
              "      <td>NaN</td>\n",
              "      <td>NaN</td>\n",
              "      <td>NaN</td>\n",
              "      <td>NaN</td>\n",
              "      <td>NaN</td>\n",
              "      <td>NaN</td>\n",
              "      <td>0</td>\n",
              "      <td>NaN</td>\n",
              "      <td>NaN</td>\n",
              "      <td>NaN</td>\n",
              "      <td>NaN</td>\n",
              "      <td>NaN</td>\n",
              "      <td>NaN</td>\n",
              "      <td>NaN</td>\n",
              "    </tr>\n",
              "    <tr>\n",
              "      <th>2</th>\n",
              "      <td>210052118573</td>\n",
              "      <td>2021</td>\n",
              "      <td>3</td>\n",
              "      <td>1</td>\n",
              "      <td>3</td>\n",
              "      <td>1</td>\n",
              "      <td>2</td>\n",
              "      <td>0</td>\n",
              "      <td>2</td>\n",
              "      <td>1.0</td>\n",
              "      <td>0</td>\n",
              "      <td>NaN</td>\n",
              "      <td>NaN</td>\n",
              "      <td>NaN</td>\n",
              "      <td>NaN</td>\n",
              "      <td>NaN</td>\n",
              "      <td>2903201</td>\n",
              "      <td>29</td>\n",
              "      <td>1</td>\n",
              "      <td>1</td>\n",
              "      <td>1</td>\n",
              "      <td>1</td>\n",
              "      <td>912.0</td>\n",
              "      <td>882.0</td>\n",
              "      <td>891.0</td>\n",
              "      <td>901.0</td>\n",
              "      <td>439.6</td>\n",
              "      <td>437.7</td>\n",
              "      <td>455.9</td>\n",
              "      <td>446.2</td>\n",
              "      <td>0</td>\n",
              "      <td>1.0</td>\n",
              "      <td>80.0</td>\n",
              "      <td>120.0</td>\n",
              "      <td>80.0</td>\n",
              "      <td>100.0</td>\n",
              "      <td>80.0</td>\n",
              "      <td>460.0</td>\n",
              "    </tr>\n",
              "    <tr>\n",
              "      <th>3</th>\n",
              "      <td>210052350230</td>\n",
              "      <td>2021</td>\n",
              "      <td>10</td>\n",
              "      <td>1</td>\n",
              "      <td>2</td>\n",
              "      <td>1</td>\n",
              "      <td>1</td>\n",
              "      <td>8</td>\n",
              "      <td>1</td>\n",
              "      <td>NaN</td>\n",
              "      <td>0</td>\n",
              "      <td>NaN</td>\n",
              "      <td>NaN</td>\n",
              "      <td>NaN</td>\n",
              "      <td>NaN</td>\n",
              "      <td>NaN</td>\n",
              "      <td>2928802</td>\n",
              "      <td>29</td>\n",
              "      <td>1</td>\n",
              "      <td>1</td>\n",
              "      <td>1</td>\n",
              "      <td>1</td>\n",
              "      <td>911.0</td>\n",
              "      <td>880.0</td>\n",
              "      <td>890.0</td>\n",
              "      <td>902.0</td>\n",
              "      <td>548.1</td>\n",
              "      <td>619.5</td>\n",
              "      <td>676.3</td>\n",
              "      <td>386.6</td>\n",
              "      <td>0</td>\n",
              "      <td>1.0</td>\n",
              "      <td>120.0</td>\n",
              "      <td>120.0</td>\n",
              "      <td>100.0</td>\n",
              "      <td>120.0</td>\n",
              "      <td>120.0</td>\n",
              "      <td>580.0</td>\n",
              "    </tr>\n",
              "    <tr>\n",
              "      <th>4</th>\n",
              "      <td>210053156861</td>\n",
              "      <td>2021</td>\n",
              "      <td>9</td>\n",
              "      <td>1</td>\n",
              "      <td>2</td>\n",
              "      <td>1</td>\n",
              "      <td>1</td>\n",
              "      <td>5</td>\n",
              "      <td>1</td>\n",
              "      <td>NaN</td>\n",
              "      <td>0</td>\n",
              "      <td>NaN</td>\n",
              "      <td>NaN</td>\n",
              "      <td>NaN</td>\n",
              "      <td>NaN</td>\n",
              "      <td>NaN</td>\n",
              "      <td>2910800</td>\n",
              "      <td>29</td>\n",
              "      <td>1</td>\n",
              "      <td>1</td>\n",
              "      <td>1</td>\n",
              "      <td>1</td>\n",
              "      <td>1014.0</td>\n",
              "      <td>1000.0</td>\n",
              "      <td>1004.0</td>\n",
              "      <td>1010.0</td>\n",
              "      <td>465.2</td>\n",
              "      <td>613.1</td>\n",
              "      <td>522.1</td>\n",
              "      <td>579.6</td>\n",
              "      <td>0</td>\n",
              "      <td>1.0</td>\n",
              "      <td>100.0</td>\n",
              "      <td>120.0</td>\n",
              "      <td>100.0</td>\n",
              "      <td>120.0</td>\n",
              "      <td>100.0</td>\n",
              "      <td>540.0</td>\n",
              "    </tr>\n",
              "    <tr>\n",
              "      <th>...</th>\n",
              "      <td>...</td>\n",
              "      <td>...</td>\n",
              "      <td>...</td>\n",
              "      <td>...</td>\n",
              "      <td>...</td>\n",
              "      <td>...</td>\n",
              "      <td>...</td>\n",
              "      <td>...</td>\n",
              "      <td>...</td>\n",
              "      <td>...</td>\n",
              "      <td>...</td>\n",
              "      <td>...</td>\n",
              "      <td>...</td>\n",
              "      <td>...</td>\n",
              "      <td>...</td>\n",
              "      <td>...</td>\n",
              "      <td>...</td>\n",
              "      <td>...</td>\n",
              "      <td>...</td>\n",
              "      <td>...</td>\n",
              "      <td>...</td>\n",
              "      <td>...</td>\n",
              "      <td>...</td>\n",
              "      <td>...</td>\n",
              "      <td>...</td>\n",
              "      <td>...</td>\n",
              "      <td>...</td>\n",
              "      <td>...</td>\n",
              "      <td>...</td>\n",
              "      <td>...</td>\n",
              "      <td>...</td>\n",
              "      <td>...</td>\n",
              "      <td>...</td>\n",
              "      <td>...</td>\n",
              "      <td>...</td>\n",
              "      <td>...</td>\n",
              "      <td>...</td>\n",
              "      <td>...</td>\n",
              "    </tr>\n",
              "    <tr>\n",
              "      <th>266189</th>\n",
              "      <td>210051432069</td>\n",
              "      <td>2021</td>\n",
              "      <td>12</td>\n",
              "      <td>1</td>\n",
              "      <td>3</td>\n",
              "      <td>1</td>\n",
              "      <td>1</td>\n",
              "      <td>0</td>\n",
              "      <td>1</td>\n",
              "      <td>NaN</td>\n",
              "      <td>0</td>\n",
              "      <td>NaN</td>\n",
              "      <td>NaN</td>\n",
              "      <td>NaN</td>\n",
              "      <td>NaN</td>\n",
              "      <td>NaN</td>\n",
              "      <td>2900702</td>\n",
              "      <td>29</td>\n",
              "      <td>0</td>\n",
              "      <td>0</td>\n",
              "      <td>0</td>\n",
              "      <td>0</td>\n",
              "      <td>NaN</td>\n",
              "      <td>NaN</td>\n",
              "      <td>NaN</td>\n",
              "      <td>NaN</td>\n",
              "      <td>NaN</td>\n",
              "      <td>NaN</td>\n",
              "      <td>NaN</td>\n",
              "      <td>NaN</td>\n",
              "      <td>1</td>\n",
              "      <td>NaN</td>\n",
              "      <td>NaN</td>\n",
              "      <td>NaN</td>\n",
              "      <td>NaN</td>\n",
              "      <td>NaN</td>\n",
              "      <td>NaN</td>\n",
              "      <td>NaN</td>\n",
              "    </tr>\n",
              "    <tr>\n",
              "      <th>266190</th>\n",
              "      <td>210051106175</td>\n",
              "      <td>2021</td>\n",
              "      <td>14</td>\n",
              "      <td>2</td>\n",
              "      <td>2</td>\n",
              "      <td>1</td>\n",
              "      <td>1</td>\n",
              "      <td>0</td>\n",
              "      <td>1</td>\n",
              "      <td>NaN</td>\n",
              "      <td>0</td>\n",
              "      <td>NaN</td>\n",
              "      <td>NaN</td>\n",
              "      <td>NaN</td>\n",
              "      <td>NaN</td>\n",
              "      <td>NaN</td>\n",
              "      <td>2918407</td>\n",
              "      <td>29</td>\n",
              "      <td>0</td>\n",
              "      <td>0</td>\n",
              "      <td>0</td>\n",
              "      <td>0</td>\n",
              "      <td>NaN</td>\n",
              "      <td>NaN</td>\n",
              "      <td>NaN</td>\n",
              "      <td>NaN</td>\n",
              "      <td>NaN</td>\n",
              "      <td>NaN</td>\n",
              "      <td>NaN</td>\n",
              "      <td>NaN</td>\n",
              "      <td>1</td>\n",
              "      <td>NaN</td>\n",
              "      <td>NaN</td>\n",
              "      <td>NaN</td>\n",
              "      <td>NaN</td>\n",
              "      <td>NaN</td>\n",
              "      <td>NaN</td>\n",
              "      <td>NaN</td>\n",
              "    </tr>\n",
              "    <tr>\n",
              "      <th>266191</th>\n",
              "      <td>210051995005</td>\n",
              "      <td>2021</td>\n",
              "      <td>11</td>\n",
              "      <td>0</td>\n",
              "      <td>2</td>\n",
              "      <td>1</td>\n",
              "      <td>1</td>\n",
              "      <td>12</td>\n",
              "      <td>1</td>\n",
              "      <td>NaN</td>\n",
              "      <td>0</td>\n",
              "      <td>NaN</td>\n",
              "      <td>NaN</td>\n",
              "      <td>NaN</td>\n",
              "      <td>NaN</td>\n",
              "      <td>NaN</td>\n",
              "      <td>2927408</td>\n",
              "      <td>29</td>\n",
              "      <td>0</td>\n",
              "      <td>0</td>\n",
              "      <td>0</td>\n",
              "      <td>0</td>\n",
              "      <td>NaN</td>\n",
              "      <td>NaN</td>\n",
              "      <td>NaN</td>\n",
              "      <td>NaN</td>\n",
              "      <td>NaN</td>\n",
              "      <td>NaN</td>\n",
              "      <td>NaN</td>\n",
              "      <td>NaN</td>\n",
              "      <td>1</td>\n",
              "      <td>NaN</td>\n",
              "      <td>NaN</td>\n",
              "      <td>NaN</td>\n",
              "      <td>NaN</td>\n",
              "      <td>NaN</td>\n",
              "      <td>NaN</td>\n",
              "      <td>NaN</td>\n",
              "    </tr>\n",
              "    <tr>\n",
              "      <th>266192</th>\n",
              "      <td>210053234415</td>\n",
              "      <td>2021</td>\n",
              "      <td>12</td>\n",
              "      <td>2</td>\n",
              "      <td>2</td>\n",
              "      <td>1</td>\n",
              "      <td>1</td>\n",
              "      <td>15</td>\n",
              "      <td>1</td>\n",
              "      <td>NaN</td>\n",
              "      <td>0</td>\n",
              "      <td>NaN</td>\n",
              "      <td>NaN</td>\n",
              "      <td>NaN</td>\n",
              "      <td>NaN</td>\n",
              "      <td>NaN</td>\n",
              "      <td>2927408</td>\n",
              "      <td>29</td>\n",
              "      <td>0</td>\n",
              "      <td>0</td>\n",
              "      <td>0</td>\n",
              "      <td>0</td>\n",
              "      <td>NaN</td>\n",
              "      <td>NaN</td>\n",
              "      <td>NaN</td>\n",
              "      <td>NaN</td>\n",
              "      <td>NaN</td>\n",
              "      <td>NaN</td>\n",
              "      <td>NaN</td>\n",
              "      <td>NaN</td>\n",
              "      <td>1</td>\n",
              "      <td>NaN</td>\n",
              "      <td>NaN</td>\n",
              "      <td>NaN</td>\n",
              "      <td>NaN</td>\n",
              "      <td>NaN</td>\n",
              "      <td>NaN</td>\n",
              "      <td>NaN</td>\n",
              "    </tr>\n",
              "    <tr>\n",
              "      <th>266193</th>\n",
              "      <td>210054027870</td>\n",
              "      <td>2021</td>\n",
              "      <td>5</td>\n",
              "      <td>1</td>\n",
              "      <td>2</td>\n",
              "      <td>1</td>\n",
              "      <td>1</td>\n",
              "      <td>2</td>\n",
              "      <td>1</td>\n",
              "      <td>NaN</td>\n",
              "      <td>0</td>\n",
              "      <td>NaN</td>\n",
              "      <td>NaN</td>\n",
              "      <td>NaN</td>\n",
              "      <td>NaN</td>\n",
              "      <td>NaN</td>\n",
              "      <td>2927408</td>\n",
              "      <td>29</td>\n",
              "      <td>0</td>\n",
              "      <td>0</td>\n",
              "      <td>0</td>\n",
              "      <td>0</td>\n",
              "      <td>NaN</td>\n",
              "      <td>NaN</td>\n",
              "      <td>NaN</td>\n",
              "      <td>NaN</td>\n",
              "      <td>NaN</td>\n",
              "      <td>NaN</td>\n",
              "      <td>NaN</td>\n",
              "      <td>NaN</td>\n",
              "      <td>0</td>\n",
              "      <td>NaN</td>\n",
              "      <td>NaN</td>\n",
              "      <td>NaN</td>\n",
              "      <td>NaN</td>\n",
              "      <td>NaN</td>\n",
              "      <td>NaN</td>\n",
              "      <td>NaN</td>\n",
              "    </tr>\n",
              "  </tbody>\n",
              "</table>\n",
              "<p>266194 rows × 38 columns</p>\n",
              "</div>\n",
              "    <div class=\"colab-df-buttons\">\n",
              "\n",
              "  <div class=\"colab-df-container\">\n",
              "    <button class=\"colab-df-convert\" onclick=\"convertToInteractive('df-ce7e8654-6e07-45f1-a2eb-fbeb3e527133')\"\n",
              "            title=\"Convert this dataframe to an interactive table.\"\n",
              "            style=\"display:none;\">\n",
              "\n",
              "  <svg xmlns=\"http://www.w3.org/2000/svg\" height=\"24px\" viewBox=\"0 -960 960 960\">\n",
              "    <path d=\"M120-120v-720h720v720H120Zm60-500h600v-160H180v160Zm220 220h160v-160H400v160Zm0 220h160v-160H400v160ZM180-400h160v-160H180v160Zm440 0h160v-160H620v160ZM180-180h160v-160H180v160Zm440 0h160v-160H620v160Z\"/>\n",
              "  </svg>\n",
              "    </button>\n",
              "\n",
              "  <style>\n",
              "    .colab-df-container {\n",
              "      display:flex;\n",
              "      gap: 12px;\n",
              "    }\n",
              "\n",
              "    .colab-df-convert {\n",
              "      background-color: #E8F0FE;\n",
              "      border: none;\n",
              "      border-radius: 50%;\n",
              "      cursor: pointer;\n",
              "      display: none;\n",
              "      fill: #1967D2;\n",
              "      height: 32px;\n",
              "      padding: 0 0 0 0;\n",
              "      width: 32px;\n",
              "    }\n",
              "\n",
              "    .colab-df-convert:hover {\n",
              "      background-color: #E2EBFA;\n",
              "      box-shadow: 0px 1px 2px rgba(60, 64, 67, 0.3), 0px 1px 3px 1px rgba(60, 64, 67, 0.15);\n",
              "      fill: #174EA6;\n",
              "    }\n",
              "\n",
              "    .colab-df-buttons div {\n",
              "      margin-bottom: 4px;\n",
              "    }\n",
              "\n",
              "    [theme=dark] .colab-df-convert {\n",
              "      background-color: #3B4455;\n",
              "      fill: #D2E3FC;\n",
              "    }\n",
              "\n",
              "    [theme=dark] .colab-df-convert:hover {\n",
              "      background-color: #434B5C;\n",
              "      box-shadow: 0px 1px 3px 1px rgba(0, 0, 0, 0.15);\n",
              "      filter: drop-shadow(0px 1px 2px rgba(0, 0, 0, 0.3));\n",
              "      fill: #FFFFFF;\n",
              "    }\n",
              "  </style>\n",
              "\n",
              "    <script>\n",
              "      const buttonEl =\n",
              "        document.querySelector('#df-ce7e8654-6e07-45f1-a2eb-fbeb3e527133 button.colab-df-convert');\n",
              "      buttonEl.style.display =\n",
              "        google.colab.kernel.accessAllowed ? 'block' : 'none';\n",
              "\n",
              "      async function convertToInteractive(key) {\n",
              "        const element = document.querySelector('#df-ce7e8654-6e07-45f1-a2eb-fbeb3e527133');\n",
              "        const dataTable =\n",
              "          await google.colab.kernel.invokeFunction('convertToInteractive',\n",
              "                                                    [key], {});\n",
              "        if (!dataTable) return;\n",
              "\n",
              "        const docLinkHtml = 'Like what you see? Visit the ' +\n",
              "          '<a target=\"_blank\" href=https://colab.research.google.com/notebooks/data_table.ipynb>data table notebook</a>'\n",
              "          + ' to learn more about interactive tables.';\n",
              "        element.innerHTML = '';\n",
              "        dataTable['output_type'] = 'display_data';\n",
              "        await google.colab.output.renderOutput(dataTable, element);\n",
              "        const docLink = document.createElement('div');\n",
              "        docLink.innerHTML = docLinkHtml;\n",
              "        element.appendChild(docLink);\n",
              "      }\n",
              "    </script>\n",
              "  </div>\n",
              "\n",
              "\n",
              "    <div id=\"df-098b361b-1e3e-4664-838d-50cdb908768d\">\n",
              "      <button class=\"colab-df-quickchart\" onclick=\"quickchart('df-098b361b-1e3e-4664-838d-50cdb908768d')\"\n",
              "                title=\"Suggest charts\"\n",
              "                style=\"display:none;\">\n",
              "\n",
              "<svg xmlns=\"http://www.w3.org/2000/svg\" height=\"24px\"viewBox=\"0 0 24 24\"\n",
              "     width=\"24px\">\n",
              "    <g>\n",
              "        <path d=\"M19 3H5c-1.1 0-2 .9-2 2v14c0 1.1.9 2 2 2h14c1.1 0 2-.9 2-2V5c0-1.1-.9-2-2-2zM9 17H7v-7h2v7zm4 0h-2V7h2v10zm4 0h-2v-4h2v4z\"/>\n",
              "    </g>\n",
              "</svg>\n",
              "      </button>\n",
              "\n",
              "<style>\n",
              "  .colab-df-quickchart {\n",
              "      --bg-color: #E8F0FE;\n",
              "      --fill-color: #1967D2;\n",
              "      --hover-bg-color: #E2EBFA;\n",
              "      --hover-fill-color: #174EA6;\n",
              "      --disabled-fill-color: #AAA;\n",
              "      --disabled-bg-color: #DDD;\n",
              "  }\n",
              "\n",
              "  [theme=dark] .colab-df-quickchart {\n",
              "      --bg-color: #3B4455;\n",
              "      --fill-color: #D2E3FC;\n",
              "      --hover-bg-color: #434B5C;\n",
              "      --hover-fill-color: #FFFFFF;\n",
              "      --disabled-bg-color: #3B4455;\n",
              "      --disabled-fill-color: #666;\n",
              "  }\n",
              "\n",
              "  .colab-df-quickchart {\n",
              "    background-color: var(--bg-color);\n",
              "    border: none;\n",
              "    border-radius: 50%;\n",
              "    cursor: pointer;\n",
              "    display: none;\n",
              "    fill: var(--fill-color);\n",
              "    height: 32px;\n",
              "    padding: 0;\n",
              "    width: 32px;\n",
              "  }\n",
              "\n",
              "  .colab-df-quickchart:hover {\n",
              "    background-color: var(--hover-bg-color);\n",
              "    box-shadow: 0 1px 2px rgba(60, 64, 67, 0.3), 0 1px 3px 1px rgba(60, 64, 67, 0.15);\n",
              "    fill: var(--button-hover-fill-color);\n",
              "  }\n",
              "\n",
              "  .colab-df-quickchart-complete:disabled,\n",
              "  .colab-df-quickchart-complete:disabled:hover {\n",
              "    background-color: var(--disabled-bg-color);\n",
              "    fill: var(--disabled-fill-color);\n",
              "    box-shadow: none;\n",
              "  }\n",
              "\n",
              "  .colab-df-spinner {\n",
              "    border: 2px solid var(--fill-color);\n",
              "    border-color: transparent;\n",
              "    border-bottom-color: var(--fill-color);\n",
              "    animation:\n",
              "      spin 1s steps(1) infinite;\n",
              "  }\n",
              "\n",
              "  @keyframes spin {\n",
              "    0% {\n",
              "      border-color: transparent;\n",
              "      border-bottom-color: var(--fill-color);\n",
              "      border-left-color: var(--fill-color);\n",
              "    }\n",
              "    20% {\n",
              "      border-color: transparent;\n",
              "      border-left-color: var(--fill-color);\n",
              "      border-top-color: var(--fill-color);\n",
              "    }\n",
              "    30% {\n",
              "      border-color: transparent;\n",
              "      border-left-color: var(--fill-color);\n",
              "      border-top-color: var(--fill-color);\n",
              "      border-right-color: var(--fill-color);\n",
              "    }\n",
              "    40% {\n",
              "      border-color: transparent;\n",
              "      border-right-color: var(--fill-color);\n",
              "      border-top-color: var(--fill-color);\n",
              "    }\n",
              "    60% {\n",
              "      border-color: transparent;\n",
              "      border-right-color: var(--fill-color);\n",
              "    }\n",
              "    80% {\n",
              "      border-color: transparent;\n",
              "      border-right-color: var(--fill-color);\n",
              "      border-bottom-color: var(--fill-color);\n",
              "    }\n",
              "    90% {\n",
              "      border-color: transparent;\n",
              "      border-bottom-color: var(--fill-color);\n",
              "    }\n",
              "  }\n",
              "</style>\n",
              "\n",
              "      <script>\n",
              "        async function quickchart(key) {\n",
              "          const quickchartButtonEl =\n",
              "            document.querySelector('#' + key + ' button');\n",
              "          quickchartButtonEl.disabled = true;  // To prevent multiple clicks.\n",
              "          quickchartButtonEl.classList.add('colab-df-spinner');\n",
              "          try {\n",
              "            const charts = await google.colab.kernel.invokeFunction(\n",
              "                'suggestCharts', [key], {});\n",
              "          } catch (error) {\n",
              "            console.error('Error during call to suggestCharts:', error);\n",
              "          }\n",
              "          quickchartButtonEl.classList.remove('colab-df-spinner');\n",
              "          quickchartButtonEl.classList.add('colab-df-quickchart-complete');\n",
              "        }\n",
              "        (() => {\n",
              "          let quickchartButtonEl =\n",
              "            document.querySelector('#df-098b361b-1e3e-4664-838d-50cdb908768d button');\n",
              "          quickchartButtonEl.style.display =\n",
              "            google.colab.kernel.accessAllowed ? 'block' : 'none';\n",
              "        })();\n",
              "      </script>\n",
              "    </div>\n",
              "\n",
              "    </div>\n",
              "  </div>\n"
            ],
            "application/vnd.google.colaboratory.intrinsic+json": {
              "type": "dataframe"
            }
          },
          "metadata": {},
          "execution_count": 31
        }
      ]
    },
    {
      "cell_type": "code",
      "source": [
        "dados.select_dtypes(exclude= [int, float])"
      ],
      "metadata": {
        "colab": {
          "base_uri": "https://localhost:8080/",
          "height": 443
        },
        "id": "8Jql2mFZbIXv",
        "outputId": "d802ceff-cf99-4c1e-b42c-1847a4746a3b"
      },
      "execution_count": 32,
      "outputs": [
        {
          "output_type": "execute_result",
          "data": {
            "text/plain": [
              "       TP_SEXO NO_MUNICIPIO_ESC SG_UF_ESC NO_MUNICIPIO_PROVA SG_UF_PROVA  \\\n",
              "0            F              NaN       NaN        Ruy Barbosa          BA   \n",
              "1            F         Salvador        BA           Salvador          BA   \n",
              "2            F              NaN       NaN          Barreiras          BA   \n",
              "3            F              NaN       NaN      Santo Estêvão          BA   \n",
              "4            M              NaN       NaN   Feira de Santana          BA   \n",
              "...        ...              ...       ...                ...         ...   \n",
              "266189       M              NaN       NaN         Alagoinhas          BA   \n",
              "266190       M              NaN       NaN           Juazeiro          BA   \n",
              "266191       M              NaN       NaN           Salvador          BA   \n",
              "266192       M              NaN       NaN           Salvador          BA   \n",
              "266193       F              NaN       NaN           Salvador          BA   \n",
              "\n",
              "                                      TX_RESPOSTAS_CN  \\\n",
              "0       BAEDEBDECCEAEDDCBDEDAEECEEEDBDECBDCECBCCDABED   \n",
              "1                                                 NaN   \n",
              "2       BCEDEACAEDCEDCBDDCCAADABADDEBEECBACDCCABBDCCA   \n",
              "3       CCAECCADEAADDEDDEECEDDEADDDCACDEDCDCDEADBEDDE   \n",
              "4       CDCCBDBBDCBACEBDACBCACADBCBECCEBCDDEBDACEECCD   \n",
              "...                                               ...   \n",
              "266189                                            NaN   \n",
              "266190                                            NaN   \n",
              "266191                                            NaN   \n",
              "266192                                            NaN   \n",
              "266193                                            NaN   \n",
              "\n",
              "                                      TX_RESPOSTAS_CH  \\\n",
              "0       EEEBAABCBCDBEAEBEACEDDEDECACBDBCDACECDAECBCBD   \n",
              "1                                                 NaN   \n",
              "2       AAEADCDCAAADCBBBAABBEAEDABCDAACDDCBDAAABAABBB   \n",
              "3       DBBEADDCABABCECEAEBEAEDCBCAEABEEDEBBEAABCBDCD   \n",
              "4       CCBAADECCBACBECCBEADAEBEACBEBBEADEBBABDACDEBC   \n",
              "...                                               ...   \n",
              "266189                                            NaN   \n",
              "266190                                            NaN   \n",
              "266191                                            NaN   \n",
              "266192                                            NaN   \n",
              "266193                                            NaN   \n",
              "\n",
              "                                          TX_RESPOSTAS_LC  \\\n",
              "0       99999ACAEEEEBDEACDACDEABCEABBDEDBAEEBDEEACDBAC...   \n",
              "1                                                     NaN   \n",
              "2       EDBEC99999DDAAEBBDCDBBAABDECAADAEACCDABCEABABE...   \n",
              "3       ABCCA99999DDCACDCACABBEAAEBDAEEBDEEAADACEEDDDB...   \n",
              "4       BADCE99999DABAABBABBBCEDBDCDABEABCBBDCACBABAAA...   \n",
              "...                                                   ...   \n",
              "266189                                                NaN   \n",
              "266190                                                NaN   \n",
              "266191                                                NaN   \n",
              "266192                                                NaN   \n",
              "266193                                                NaN   \n",
              "\n",
              "                                      TX_RESPOSTAS_MT  \\\n",
              "0       BACEACDACBAAAEDCECABBACDCDBBA.CEABCDADADBECBE   \n",
              "1                                                 NaN   \n",
              "2       EBBEBDCCDDCDCBADABBBCCEABDADCBCCACBDACDCDADCE   \n",
              "3       CAAAAAAAAAAAAAAAAAAAAAAAAAAAAAAAAAAAAAAAAAAAA   \n",
              "4       CCBACBBCCCCEDDDDCBCCDCACCCBBBDDDBCBADDBCABACA   \n",
              "...                                               ...   \n",
              "266189                                            NaN   \n",
              "266190                                            NaN   \n",
              "266191                                            NaN   \n",
              "266192                                            NaN   \n",
              "266193                                            NaN   \n",
              "\n",
              "                                       TX_GABARITO_CN  \\\n",
              "0       EDECABEDABCBEBACCDCBBEEBBCBDAAECDCBDCDBBBADCD   \n",
              "1                                                 NaN   \n",
              "2       DABCEDEBEEBBCABEDDCBCBECDADCDAACBDCCCDBBBEBAB   \n",
              "3       CDBBBCABEDEDEAAEBACCCBDABCDCBCBDECDADCDBBEEBB   \n",
              "4       CDBBBCABEDEDEAAEBACCCBDABCDCBCBDECDADCDBBEEBB   \n",
              "...                                               ...   \n",
              "266189                                            NaN   \n",
              "266190                                            NaN   \n",
              "266191                                            NaN   \n",
              "266192                                            NaN   \n",
              "266193                                            NaN   \n",
              "\n",
              "                                       TX_GABARITO_CH  \\\n",
              "0       BEECCAEABADBCAEBAAEEDDEBBBADBCBAAEEBBBADCCBBA   \n",
              "1                                                 NaN   \n",
              "2       EBAAEADBCACBBABEECBAAEEBBBADCBADBCEDDEBBCAEAB   \n",
              "3       BBBAAEECBBABEECEBAAEADBCACAEABEDDEBBBADBCBADC   \n",
              "4       BBBAAEECBBABEECEBAAEADBCACAEABEDDEBBBADBCBADC   \n",
              "...                                               ...   \n",
              "266189                                            NaN   \n",
              "266190                                            NaN   \n",
              "266191                                            NaN   \n",
              "266192                                            NaN   \n",
              "266193                                            NaN   \n",
              "\n",
              "                                           TX_GABARITO_LC  \\\n",
              "0       ABBACAAECACDBDDADEBDDCBDCEDBEDDBBBBDCEEAADABAC...   \n",
              "1                                                     NaN   \n",
              "2       ACABBACAEADCEADABDACDCEABDDADBEDDDEBBACCDDDCCE...   \n",
              "3       ABBCAEAACADDCACDCADABBBBDEBBACEADCEBDDACEEDDDB...   \n",
              "4       ABBCAEAACADDCACDCADABBBBDEBBACEADCEBDDACEEDDDB...   \n",
              "...                                                   ...   \n",
              "266189                                                NaN   \n",
              "266190                                                NaN   \n",
              "266191                                                NaN   \n",
              "266192                                                NaN   \n",
              "266193                                                NaN   \n",
              "\n",
              "                                       TX_GABARITO_MT  \n",
              "0       EEXEBABDDCECCBCCECDCAEBADEABBDBDEDCEDCCADDCAB  \n",
              "1                                                 NaN  \n",
              "2       DCCAEBABDDCABEECCBCCEXADDCEECDEBADCABBDBDEDCE  \n",
              "3       ECCCABBDBDDDCEDDCABXEEEBABEDCEDCCAEBADBCCECDA  \n",
              "4       ECCCABBDBDDDCEDDCABXEEEBABEDCEDCCAEBADBCCECDA  \n",
              "...                                               ...  \n",
              "266189                                            NaN  \n",
              "266190                                            NaN  \n",
              "266191                                            NaN  \n",
              "266192                                            NaN  \n",
              "266193                                            NaN  \n",
              "\n",
              "[266194 rows x 13 columns]"
            ],
            "text/html": [
              "\n",
              "  <div id=\"df-effb1c98-db26-42ea-a265-0aa64ec5600e\" class=\"colab-df-container\">\n",
              "    <div>\n",
              "<style scoped>\n",
              "    .dataframe tbody tr th:only-of-type {\n",
              "        vertical-align: middle;\n",
              "    }\n",
              "\n",
              "    .dataframe tbody tr th {\n",
              "        vertical-align: top;\n",
              "    }\n",
              "\n",
              "    .dataframe thead th {\n",
              "        text-align: right;\n",
              "    }\n",
              "</style>\n",
              "<table border=\"1\" class=\"dataframe\">\n",
              "  <thead>\n",
              "    <tr style=\"text-align: right;\">\n",
              "      <th></th>\n",
              "      <th>TP_SEXO</th>\n",
              "      <th>NO_MUNICIPIO_ESC</th>\n",
              "      <th>SG_UF_ESC</th>\n",
              "      <th>NO_MUNICIPIO_PROVA</th>\n",
              "      <th>SG_UF_PROVA</th>\n",
              "      <th>TX_RESPOSTAS_CN</th>\n",
              "      <th>TX_RESPOSTAS_CH</th>\n",
              "      <th>TX_RESPOSTAS_LC</th>\n",
              "      <th>TX_RESPOSTAS_MT</th>\n",
              "      <th>TX_GABARITO_CN</th>\n",
              "      <th>TX_GABARITO_CH</th>\n",
              "      <th>TX_GABARITO_LC</th>\n",
              "      <th>TX_GABARITO_MT</th>\n",
              "    </tr>\n",
              "  </thead>\n",
              "  <tbody>\n",
              "    <tr>\n",
              "      <th>0</th>\n",
              "      <td>F</td>\n",
              "      <td>NaN</td>\n",
              "      <td>NaN</td>\n",
              "      <td>Ruy Barbosa</td>\n",
              "      <td>BA</td>\n",
              "      <td>BAEDEBDECCEAEDDCBDEDAEECEEEDBDECBDCECBCCDABED</td>\n",
              "      <td>EEEBAABCBCDBEAEBEACEDDEDECACBDBCDACECDAECBCBD</td>\n",
              "      <td>99999ACAEEEEBDEACDACDEABCEABBDEDBAEEBDEEACDBAC...</td>\n",
              "      <td>BACEACDACBAAAEDCECABBACDCDBBA.CEABCDADADBECBE</td>\n",
              "      <td>EDECABEDABCBEBACCDCBBEEBBCBDAAECDCBDCDBBBADCD</td>\n",
              "      <td>BEECCAEABADBCAEBAAEEDDEBBBADBCBAAEEBBBADCCBBA</td>\n",
              "      <td>ABBACAAECACDBDDADEBDDCBDCEDBEDDBBBBDCEEAADABAC...</td>\n",
              "      <td>EEXEBABDDCECCBCCECDCAEBADEABBDBDEDCEDCCADDCAB</td>\n",
              "    </tr>\n",
              "    <tr>\n",
              "      <th>1</th>\n",
              "      <td>F</td>\n",
              "      <td>Salvador</td>\n",
              "      <td>BA</td>\n",
              "      <td>Salvador</td>\n",
              "      <td>BA</td>\n",
              "      <td>NaN</td>\n",
              "      <td>NaN</td>\n",
              "      <td>NaN</td>\n",
              "      <td>NaN</td>\n",
              "      <td>NaN</td>\n",
              "      <td>NaN</td>\n",
              "      <td>NaN</td>\n",
              "      <td>NaN</td>\n",
              "    </tr>\n",
              "    <tr>\n",
              "      <th>2</th>\n",
              "      <td>F</td>\n",
              "      <td>NaN</td>\n",
              "      <td>NaN</td>\n",
              "      <td>Barreiras</td>\n",
              "      <td>BA</td>\n",
              "      <td>BCEDEACAEDCEDCBDDCCAADABADDEBEECBACDCCABBDCCA</td>\n",
              "      <td>AAEADCDCAAADCBBBAABBEAEDABCDAACDDCBDAAABAABBB</td>\n",
              "      <td>EDBEC99999DDAAEBBDCDBBAABDECAADAEACCDABCEABABE...</td>\n",
              "      <td>EBBEBDCCDDCDCBADABBBCCEABDADCBCCACBDACDCDADCE</td>\n",
              "      <td>DABCEDEBEEBBCABEDDCBCBECDADCDAACBDCCCDBBBEBAB</td>\n",
              "      <td>EBAAEADBCACBBABEECBAAEEBBBADCBADBCEDDEBBCAEAB</td>\n",
              "      <td>ACABBACAEADCEADABDACDCEABDDADBEDDDEBBACCDDDCCE...</td>\n",
              "      <td>DCCAEBABDDCABEECCBCCEXADDCEECDEBADCABBDBDEDCE</td>\n",
              "    </tr>\n",
              "    <tr>\n",
              "      <th>3</th>\n",
              "      <td>F</td>\n",
              "      <td>NaN</td>\n",
              "      <td>NaN</td>\n",
              "      <td>Santo Estêvão</td>\n",
              "      <td>BA</td>\n",
              "      <td>CCAECCADEAADDEDDEECEDDEADDDCACDEDCDCDEADBEDDE</td>\n",
              "      <td>DBBEADDCABABCECEAEBEAEDCBCAEABEEDEBBEAABCBDCD</td>\n",
              "      <td>ABCCA99999DDCACDCACABBEAAEBDAEEBDEEAADACEEDDDB...</td>\n",
              "      <td>CAAAAAAAAAAAAAAAAAAAAAAAAAAAAAAAAAAAAAAAAAAAA</td>\n",
              "      <td>CDBBBCABEDEDEAAEBACCCBDABCDCBCBDECDADCDBBEEBB</td>\n",
              "      <td>BBBAAEECBBABEECEBAAEADBCACAEABEDDEBBBADBCBADC</td>\n",
              "      <td>ABBCAEAACADDCACDCADABBBBDEBBACEADCEBDDACEEDDDB...</td>\n",
              "      <td>ECCCABBDBDDDCEDDCABXEEEBABEDCEDCCAEBADBCCECDA</td>\n",
              "    </tr>\n",
              "    <tr>\n",
              "      <th>4</th>\n",
              "      <td>M</td>\n",
              "      <td>NaN</td>\n",
              "      <td>NaN</td>\n",
              "      <td>Feira de Santana</td>\n",
              "      <td>BA</td>\n",
              "      <td>CDCCBDBBDCBACEBDACBCACADBCBECCEBCDDEBDACEECCD</td>\n",
              "      <td>CCBAADECCBACBECCBEADAEBEACBEBBEADEBBABDACDEBC</td>\n",
              "      <td>BADCE99999DABAABBABBBCEDBDCDABEABCBBDCACBABAAA...</td>\n",
              "      <td>CCBACBBCCCCEDDDDCBCCDCACCCBBBDDDBCBADDBCABACA</td>\n",
              "      <td>CDBBBCABEDEDEAAEBACCCBDABCDCBCBDECDADCDBBEEBB</td>\n",
              "      <td>BBBAAEECBBABEECEBAAEADBCACAEABEDDEBBBADBCBADC</td>\n",
              "      <td>ABBCAEAACADDCACDCADABBBBDEBBACEADCEBDDACEEDDDB...</td>\n",
              "      <td>ECCCABBDBDDDCEDDCABXEEEBABEDCEDCCAEBADBCCECDA</td>\n",
              "    </tr>\n",
              "    <tr>\n",
              "      <th>...</th>\n",
              "      <td>...</td>\n",
              "      <td>...</td>\n",
              "      <td>...</td>\n",
              "      <td>...</td>\n",
              "      <td>...</td>\n",
              "      <td>...</td>\n",
              "      <td>...</td>\n",
              "      <td>...</td>\n",
              "      <td>...</td>\n",
              "      <td>...</td>\n",
              "      <td>...</td>\n",
              "      <td>...</td>\n",
              "      <td>...</td>\n",
              "    </tr>\n",
              "    <tr>\n",
              "      <th>266189</th>\n",
              "      <td>M</td>\n",
              "      <td>NaN</td>\n",
              "      <td>NaN</td>\n",
              "      <td>Alagoinhas</td>\n",
              "      <td>BA</td>\n",
              "      <td>NaN</td>\n",
              "      <td>NaN</td>\n",
              "      <td>NaN</td>\n",
              "      <td>NaN</td>\n",
              "      <td>NaN</td>\n",
              "      <td>NaN</td>\n",
              "      <td>NaN</td>\n",
              "      <td>NaN</td>\n",
              "    </tr>\n",
              "    <tr>\n",
              "      <th>266190</th>\n",
              "      <td>M</td>\n",
              "      <td>NaN</td>\n",
              "      <td>NaN</td>\n",
              "      <td>Juazeiro</td>\n",
              "      <td>BA</td>\n",
              "      <td>NaN</td>\n",
              "      <td>NaN</td>\n",
              "      <td>NaN</td>\n",
              "      <td>NaN</td>\n",
              "      <td>NaN</td>\n",
              "      <td>NaN</td>\n",
              "      <td>NaN</td>\n",
              "      <td>NaN</td>\n",
              "    </tr>\n",
              "    <tr>\n",
              "      <th>266191</th>\n",
              "      <td>M</td>\n",
              "      <td>NaN</td>\n",
              "      <td>NaN</td>\n",
              "      <td>Salvador</td>\n",
              "      <td>BA</td>\n",
              "      <td>NaN</td>\n",
              "      <td>NaN</td>\n",
              "      <td>NaN</td>\n",
              "      <td>NaN</td>\n",
              "      <td>NaN</td>\n",
              "      <td>NaN</td>\n",
              "      <td>NaN</td>\n",
              "      <td>NaN</td>\n",
              "    </tr>\n",
              "    <tr>\n",
              "      <th>266192</th>\n",
              "      <td>M</td>\n",
              "      <td>NaN</td>\n",
              "      <td>NaN</td>\n",
              "      <td>Salvador</td>\n",
              "      <td>BA</td>\n",
              "      <td>NaN</td>\n",
              "      <td>NaN</td>\n",
              "      <td>NaN</td>\n",
              "      <td>NaN</td>\n",
              "      <td>NaN</td>\n",
              "      <td>NaN</td>\n",
              "      <td>NaN</td>\n",
              "      <td>NaN</td>\n",
              "    </tr>\n",
              "    <tr>\n",
              "      <th>266193</th>\n",
              "      <td>F</td>\n",
              "      <td>NaN</td>\n",
              "      <td>NaN</td>\n",
              "      <td>Salvador</td>\n",
              "      <td>BA</td>\n",
              "      <td>NaN</td>\n",
              "      <td>NaN</td>\n",
              "      <td>NaN</td>\n",
              "      <td>NaN</td>\n",
              "      <td>NaN</td>\n",
              "      <td>NaN</td>\n",
              "      <td>NaN</td>\n",
              "      <td>NaN</td>\n",
              "    </tr>\n",
              "  </tbody>\n",
              "</table>\n",
              "<p>266194 rows × 13 columns</p>\n",
              "</div>\n",
              "    <div class=\"colab-df-buttons\">\n",
              "\n",
              "  <div class=\"colab-df-container\">\n",
              "    <button class=\"colab-df-convert\" onclick=\"convertToInteractive('df-effb1c98-db26-42ea-a265-0aa64ec5600e')\"\n",
              "            title=\"Convert this dataframe to an interactive table.\"\n",
              "            style=\"display:none;\">\n",
              "\n",
              "  <svg xmlns=\"http://www.w3.org/2000/svg\" height=\"24px\" viewBox=\"0 -960 960 960\">\n",
              "    <path d=\"M120-120v-720h720v720H120Zm60-500h600v-160H180v160Zm220 220h160v-160H400v160Zm0 220h160v-160H400v160ZM180-400h160v-160H180v160Zm440 0h160v-160H620v160ZM180-180h160v-160H180v160Zm440 0h160v-160H620v160Z\"/>\n",
              "  </svg>\n",
              "    </button>\n",
              "\n",
              "  <style>\n",
              "    .colab-df-container {\n",
              "      display:flex;\n",
              "      gap: 12px;\n",
              "    }\n",
              "\n",
              "    .colab-df-convert {\n",
              "      background-color: #E8F0FE;\n",
              "      border: none;\n",
              "      border-radius: 50%;\n",
              "      cursor: pointer;\n",
              "      display: none;\n",
              "      fill: #1967D2;\n",
              "      height: 32px;\n",
              "      padding: 0 0 0 0;\n",
              "      width: 32px;\n",
              "    }\n",
              "\n",
              "    .colab-df-convert:hover {\n",
              "      background-color: #E2EBFA;\n",
              "      box-shadow: 0px 1px 2px rgba(60, 64, 67, 0.3), 0px 1px 3px 1px rgba(60, 64, 67, 0.15);\n",
              "      fill: #174EA6;\n",
              "    }\n",
              "\n",
              "    .colab-df-buttons div {\n",
              "      margin-bottom: 4px;\n",
              "    }\n",
              "\n",
              "    [theme=dark] .colab-df-convert {\n",
              "      background-color: #3B4455;\n",
              "      fill: #D2E3FC;\n",
              "    }\n",
              "\n",
              "    [theme=dark] .colab-df-convert:hover {\n",
              "      background-color: #434B5C;\n",
              "      box-shadow: 0px 1px 3px 1px rgba(0, 0, 0, 0.15);\n",
              "      filter: drop-shadow(0px 1px 2px rgba(0, 0, 0, 0.3));\n",
              "      fill: #FFFFFF;\n",
              "    }\n",
              "  </style>\n",
              "\n",
              "    <script>\n",
              "      const buttonEl =\n",
              "        document.querySelector('#df-effb1c98-db26-42ea-a265-0aa64ec5600e button.colab-df-convert');\n",
              "      buttonEl.style.display =\n",
              "        google.colab.kernel.accessAllowed ? 'block' : 'none';\n",
              "\n",
              "      async function convertToInteractive(key) {\n",
              "        const element = document.querySelector('#df-effb1c98-db26-42ea-a265-0aa64ec5600e');\n",
              "        const dataTable =\n",
              "          await google.colab.kernel.invokeFunction('convertToInteractive',\n",
              "                                                    [key], {});\n",
              "        if (!dataTable) return;\n",
              "\n",
              "        const docLinkHtml = 'Like what you see? Visit the ' +\n",
              "          '<a target=\"_blank\" href=https://colab.research.google.com/notebooks/data_table.ipynb>data table notebook</a>'\n",
              "          + ' to learn more about interactive tables.';\n",
              "        element.innerHTML = '';\n",
              "        dataTable['output_type'] = 'display_data';\n",
              "        await google.colab.output.renderOutput(dataTable, element);\n",
              "        const docLink = document.createElement('div');\n",
              "        docLink.innerHTML = docLinkHtml;\n",
              "        element.appendChild(docLink);\n",
              "      }\n",
              "    </script>\n",
              "  </div>\n",
              "\n",
              "\n",
              "    <div id=\"df-8c7297d4-b72f-42e2-9398-8aca288e69e1\">\n",
              "      <button class=\"colab-df-quickchart\" onclick=\"quickchart('df-8c7297d4-b72f-42e2-9398-8aca288e69e1')\"\n",
              "                title=\"Suggest charts\"\n",
              "                style=\"display:none;\">\n",
              "\n",
              "<svg xmlns=\"http://www.w3.org/2000/svg\" height=\"24px\"viewBox=\"0 0 24 24\"\n",
              "     width=\"24px\">\n",
              "    <g>\n",
              "        <path d=\"M19 3H5c-1.1 0-2 .9-2 2v14c0 1.1.9 2 2 2h14c1.1 0 2-.9 2-2V5c0-1.1-.9-2-2-2zM9 17H7v-7h2v7zm4 0h-2V7h2v10zm4 0h-2v-4h2v4z\"/>\n",
              "    </g>\n",
              "</svg>\n",
              "      </button>\n",
              "\n",
              "<style>\n",
              "  .colab-df-quickchart {\n",
              "      --bg-color: #E8F0FE;\n",
              "      --fill-color: #1967D2;\n",
              "      --hover-bg-color: #E2EBFA;\n",
              "      --hover-fill-color: #174EA6;\n",
              "      --disabled-fill-color: #AAA;\n",
              "      --disabled-bg-color: #DDD;\n",
              "  }\n",
              "\n",
              "  [theme=dark] .colab-df-quickchart {\n",
              "      --bg-color: #3B4455;\n",
              "      --fill-color: #D2E3FC;\n",
              "      --hover-bg-color: #434B5C;\n",
              "      --hover-fill-color: #FFFFFF;\n",
              "      --disabled-bg-color: #3B4455;\n",
              "      --disabled-fill-color: #666;\n",
              "  }\n",
              "\n",
              "  .colab-df-quickchart {\n",
              "    background-color: var(--bg-color);\n",
              "    border: none;\n",
              "    border-radius: 50%;\n",
              "    cursor: pointer;\n",
              "    display: none;\n",
              "    fill: var(--fill-color);\n",
              "    height: 32px;\n",
              "    padding: 0;\n",
              "    width: 32px;\n",
              "  }\n",
              "\n",
              "  .colab-df-quickchart:hover {\n",
              "    background-color: var(--hover-bg-color);\n",
              "    box-shadow: 0 1px 2px rgba(60, 64, 67, 0.3), 0 1px 3px 1px rgba(60, 64, 67, 0.15);\n",
              "    fill: var(--button-hover-fill-color);\n",
              "  }\n",
              "\n",
              "  .colab-df-quickchart-complete:disabled,\n",
              "  .colab-df-quickchart-complete:disabled:hover {\n",
              "    background-color: var(--disabled-bg-color);\n",
              "    fill: var(--disabled-fill-color);\n",
              "    box-shadow: none;\n",
              "  }\n",
              "\n",
              "  .colab-df-spinner {\n",
              "    border: 2px solid var(--fill-color);\n",
              "    border-color: transparent;\n",
              "    border-bottom-color: var(--fill-color);\n",
              "    animation:\n",
              "      spin 1s steps(1) infinite;\n",
              "  }\n",
              "\n",
              "  @keyframes spin {\n",
              "    0% {\n",
              "      border-color: transparent;\n",
              "      border-bottom-color: var(--fill-color);\n",
              "      border-left-color: var(--fill-color);\n",
              "    }\n",
              "    20% {\n",
              "      border-color: transparent;\n",
              "      border-left-color: var(--fill-color);\n",
              "      border-top-color: var(--fill-color);\n",
              "    }\n",
              "    30% {\n",
              "      border-color: transparent;\n",
              "      border-left-color: var(--fill-color);\n",
              "      border-top-color: var(--fill-color);\n",
              "      border-right-color: var(--fill-color);\n",
              "    }\n",
              "    40% {\n",
              "      border-color: transparent;\n",
              "      border-right-color: var(--fill-color);\n",
              "      border-top-color: var(--fill-color);\n",
              "    }\n",
              "    60% {\n",
              "      border-color: transparent;\n",
              "      border-right-color: var(--fill-color);\n",
              "    }\n",
              "    80% {\n",
              "      border-color: transparent;\n",
              "      border-right-color: var(--fill-color);\n",
              "      border-bottom-color: var(--fill-color);\n",
              "    }\n",
              "    90% {\n",
              "      border-color: transparent;\n",
              "      border-bottom-color: var(--fill-color);\n",
              "    }\n",
              "  }\n",
              "</style>\n",
              "\n",
              "      <script>\n",
              "        async function quickchart(key) {\n",
              "          const quickchartButtonEl =\n",
              "            document.querySelector('#' + key + ' button');\n",
              "          quickchartButtonEl.disabled = true;  // To prevent multiple clicks.\n",
              "          quickchartButtonEl.classList.add('colab-df-spinner');\n",
              "          try {\n",
              "            const charts = await google.colab.kernel.invokeFunction(\n",
              "                'suggestCharts', [key], {});\n",
              "          } catch (error) {\n",
              "            console.error('Error during call to suggestCharts:', error);\n",
              "          }\n",
              "          quickchartButtonEl.classList.remove('colab-df-spinner');\n",
              "          quickchartButtonEl.classList.add('colab-df-quickchart-complete');\n",
              "        }\n",
              "        (() => {\n",
              "          let quickchartButtonEl =\n",
              "            document.querySelector('#df-8c7297d4-b72f-42e2-9398-8aca288e69e1 button');\n",
              "          quickchartButtonEl.style.display =\n",
              "            google.colab.kernel.accessAllowed ? 'block' : 'none';\n",
              "        })();\n",
              "      </script>\n",
              "    </div>\n",
              "\n",
              "    </div>\n",
              "  </div>\n"
            ],
            "application/vnd.google.colaboratory.intrinsic+json": {
              "type": "dataframe"
            }
          },
          "metadata": {},
          "execution_count": 32
        }
      ]
    },
    {
      "cell_type": "markdown",
      "source": [
        "O \"select_dtypes\" tem sua utilidade para transformar coluna \"object\" em uma lista para realizar filtros"
      ],
      "metadata": {
        "id": "M7hnqBB4bVn8"
      }
    },
    {
      "cell_type": "code",
      "source": [
        "#Ex:\n",
        "categoria_colunas = dados.select_dtypes(include=object).columns.tolist()"
      ],
      "metadata": {
        "id": "XfT1VkJGbK9-"
      },
      "execution_count": 33,
      "outputs": []
    },
    {
      "cell_type": "code",
      "source": [
        "categoria_colunas"
      ],
      "metadata": {
        "colab": {
          "base_uri": "https://localhost:8080/"
        },
        "id": "nuipZUCrbtVh",
        "outputId": "dcb4dac7-9192-4792-d586-0f9e62f451c9"
      },
      "execution_count": 34,
      "outputs": [
        {
          "output_type": "execute_result",
          "data": {
            "text/plain": [
              "['TP_SEXO',\n",
              " 'NO_MUNICIPIO_ESC',\n",
              " 'SG_UF_ESC',\n",
              " 'NO_MUNICIPIO_PROVA',\n",
              " 'SG_UF_PROVA',\n",
              " 'TX_RESPOSTAS_CN',\n",
              " 'TX_RESPOSTAS_CH',\n",
              " 'TX_RESPOSTAS_LC',\n",
              " 'TX_RESPOSTAS_MT',\n",
              " 'TX_GABARITO_CN',\n",
              " 'TX_GABARITO_CH',\n",
              " 'TX_GABARITO_LC',\n",
              " 'TX_GABARITO_MT']"
            ]
          },
          "metadata": {},
          "execution_count": 34
        }
      ]
    },
    {
      "cell_type": "code",
      "source": [
        "num_colunas = dados.select_dtypes(include=[int, float]).columns.tolist()\n",
        "num_colunas"
      ],
      "metadata": {
        "colab": {
          "base_uri": "https://localhost:8080/"
        },
        "id": "aZpfIBY0buBS",
        "outputId": "c1671ec1-4ed0-46cd-f173-4d2f25f7f21c"
      },
      "execution_count": 35,
      "outputs": [
        {
          "output_type": "execute_result",
          "data": {
            "text/plain": [
              "['NU_INSCRICAO',\n",
              " 'NU_ANO',\n",
              " 'TP_FAIXA_ETARIA',\n",
              " 'TP_ESTADO_CIVIL',\n",
              " 'TP_COR_RACA',\n",
              " 'TP_NACIONALIDADE',\n",
              " 'TP_ST_CONCLUSAO',\n",
              " 'TP_ANO_CONCLUIU',\n",
              " 'TP_ESCOLA',\n",
              " 'TP_ENSINO',\n",
              " 'IN_TREINEIRO',\n",
              " 'CO_MUNICIPIO_ESC',\n",
              " 'CO_UF_ESC',\n",
              " 'TP_DEPENDENCIA_ADM_ESC',\n",
              " 'TP_LOCALIZACAO_ESC',\n",
              " 'TP_SIT_FUNC_ESC',\n",
              " 'CO_MUNICIPIO_PROVA',\n",
              " 'CO_UF_PROVA',\n",
              " 'TP_PRESENCA_CN',\n",
              " 'TP_PRESENCA_CH',\n",
              " 'TP_PRESENCA_LC',\n",
              " 'TP_PRESENCA_MT',\n",
              " 'CO_PROVA_CN',\n",
              " 'CO_PROVA_CH',\n",
              " 'CO_PROVA_LC',\n",
              " 'CO_PROVA_MT',\n",
              " 'NU_NOTA_CN',\n",
              " 'NU_NOTA_CH',\n",
              " 'NU_NOTA_LC',\n",
              " 'NU_NOTA_MT',\n",
              " 'TP_LINGUA',\n",
              " 'TP_STATUS_REDACAO',\n",
              " 'NU_NOTA_COMP1',\n",
              " 'NU_NOTA_COMP2',\n",
              " 'NU_NOTA_COMP3',\n",
              " 'NU_NOTA_COMP4',\n",
              " 'NU_NOTA_COMP5',\n",
              " 'NU_NOTA_REDACAO']"
            ]
          },
          "metadata": {},
          "execution_count": 35
        }
      ]
    },
    {
      "cell_type": "markdown",
      "source": [
        "## Fazendo filtros"
      ],
      "metadata": {
        "id": "fFQuVL28cJEb"
      }
    },
    {
      "cell_type": "markdown",
      "source": [
        "Existe diferença nas notas entre alunos de escola pública e privada?"
      ],
      "metadata": {
        "id": "B5oAqfoWcWQM"
      }
    },
    {
      "cell_type": "markdown",
      "source": [
        "Sim!\n",
        "\n",
        "Uma diferença de 112,7 pontos, para matemática.\n",
        "\n",
        "Optei por utilizar a mediana, pois talvez tenha algum outliner no meio dos dados"
      ],
      "metadata": {
        "id": "Z320scWBc5uT"
      }
    },
    {
      "cell_type": "code",
      "source": [
        "#Para escola pública\n",
        "dados.query(\" TP_ESCOLA == 2 \").NU_NOTA_MT.mean()"
      ],
      "metadata": {
        "colab": {
          "base_uri": "https://localhost:8080/"
        },
        "id": "GedkyY1QcVWU",
        "outputId": "8fd1b2fb-e3c3-4354-94b2-123febc8b15b"
      },
      "execution_count": 36,
      "outputs": [
        {
          "output_type": "execute_result",
          "data": {
            "text/plain": [
              "np.float64(487.37504991538157)"
            ]
          },
          "metadata": {},
          "execution_count": 36
        }
      ]
    },
    {
      "cell_type": "code",
      "source": [
        "#Para escola privada\n",
        "dados.query(\" TP_ESCOLA == 3 \").NU_NOTA_MT.mean()"
      ],
      "metadata": {
        "colab": {
          "base_uri": "https://localhost:8080/"
        },
        "id": "gmnpd_wecVTZ",
        "outputId": "c12c269e-f35d-4488-d1e8-c727cf0808ac"
      },
      "execution_count": 41,
      "outputs": [
        {
          "output_type": "execute_result",
          "data": {
            "text/plain": [
              "np.float64(579.8338996340826)"
            ]
          },
          "metadata": {},
          "execution_count": 41
        }
      ]
    },
    {
      "cell_type": "code",
      "source": [
        "dados.query(\" TP_ESCOLA == 3 \").NU_NOTA_MT.agg([np.mean, np.median])"
      ],
      "metadata": {
        "colab": {
          "base_uri": "https://localhost:8080/",
          "height": 236
        },
        "id": "mYgepMiscVQe",
        "outputId": "c234727f-1265-4048-d674-4f5554556ef4"
      },
      "execution_count": 45,
      "outputs": [
        {
          "output_type": "stream",
          "name": "stderr",
          "text": [
            "/tmp/ipython-input-145437108.py:1: FutureWarning: The provided callable <function mean at 0x78ac6452c900> is currently using Series.mean. In a future version of pandas, the provided callable will be used directly. To keep current behavior pass the string \"mean\" instead.\n",
            "  dados.query(\" TP_ESCOLA == 3 \").NU_NOTA_MT.agg([np.mean, np.median])\n",
            "/tmp/ipython-input-145437108.py:1: FutureWarning: The provided callable <function median at 0x78ac6447cc20> is currently using Series.median. In a future version of pandas, the provided callable will be used directly. To keep current behavior pass the string \"median\" instead.\n",
            "  dados.query(\" TP_ESCOLA == 3 \").NU_NOTA_MT.agg([np.mean, np.median])\n"
          ]
        },
        {
          "output_type": "execute_result",
          "data": {
            "text/plain": [
              "mean      579.8339\n",
              "median    581.6000\n",
              "Name: NU_NOTA_MT, dtype: float64"
            ],
            "text/html": [
              "<div>\n",
              "<style scoped>\n",
              "    .dataframe tbody tr th:only-of-type {\n",
              "        vertical-align: middle;\n",
              "    }\n",
              "\n",
              "    .dataframe tbody tr th {\n",
              "        vertical-align: top;\n",
              "    }\n",
              "\n",
              "    .dataframe thead th {\n",
              "        text-align: right;\n",
              "    }\n",
              "</style>\n",
              "<table border=\"1\" class=\"dataframe\">\n",
              "  <thead>\n",
              "    <tr style=\"text-align: right;\">\n",
              "      <th></th>\n",
              "      <th>NU_NOTA_MT</th>\n",
              "    </tr>\n",
              "  </thead>\n",
              "  <tbody>\n",
              "    <tr>\n",
              "      <th>mean</th>\n",
              "      <td>579.8339</td>\n",
              "    </tr>\n",
              "    <tr>\n",
              "      <th>median</th>\n",
              "      <td>581.6000</td>\n",
              "    </tr>\n",
              "  </tbody>\n",
              "</table>\n",
              "</div><br><label><b>dtype:</b> float64</label>"
            ]
          },
          "metadata": {},
          "execution_count": 45
        }
      ]
    },
    {
      "cell_type": "code",
      "source": [
        "dados.query(\" TP_ESCOLA == 2 \").NU_NOTA_MT.agg([np.mean, np.median])"
      ],
      "metadata": {
        "colab": {
          "base_uri": "https://localhost:8080/",
          "height": 236
        },
        "id": "m-8B121GfLID",
        "outputId": "824799b0-b17c-4315-8f29-bf61cbbae0dc"
      },
      "execution_count": 46,
      "outputs": [
        {
          "output_type": "stream",
          "name": "stderr",
          "text": [
            "/tmp/ipython-input-1567626949.py:1: FutureWarning: The provided callable <function mean at 0x78ac6452c900> is currently using Series.mean. In a future version of pandas, the provided callable will be used directly. To keep current behavior pass the string \"mean\" instead.\n",
            "  dados.query(\" TP_ESCOLA == 2 \").NU_NOTA_MT.agg([np.mean, np.median])\n",
            "/tmp/ipython-input-1567626949.py:1: FutureWarning: The provided callable <function median at 0x78ac6447cc20> is currently using Series.median. In a future version of pandas, the provided callable will be used directly. To keep current behavior pass the string \"median\" instead.\n",
            "  dados.query(\" TP_ESCOLA == 2 \").NU_NOTA_MT.agg([np.mean, np.median])\n"
          ]
        },
        {
          "output_type": "execute_result",
          "data": {
            "text/plain": [
              "mean      487.37505\n",
              "median    468.90000\n",
              "Name: NU_NOTA_MT, dtype: float64"
            ],
            "text/html": [
              "<div>\n",
              "<style scoped>\n",
              "    .dataframe tbody tr th:only-of-type {\n",
              "        vertical-align: middle;\n",
              "    }\n",
              "\n",
              "    .dataframe tbody tr th {\n",
              "        vertical-align: top;\n",
              "    }\n",
              "\n",
              "    .dataframe thead th {\n",
              "        text-align: right;\n",
              "    }\n",
              "</style>\n",
              "<table border=\"1\" class=\"dataframe\">\n",
              "  <thead>\n",
              "    <tr style=\"text-align: right;\">\n",
              "      <th></th>\n",
              "      <th>NU_NOTA_MT</th>\n",
              "    </tr>\n",
              "  </thead>\n",
              "  <tbody>\n",
              "    <tr>\n",
              "      <th>mean</th>\n",
              "      <td>487.37505</td>\n",
              "    </tr>\n",
              "    <tr>\n",
              "      <th>median</th>\n",
              "      <td>468.90000</td>\n",
              "    </tr>\n",
              "  </tbody>\n",
              "</table>\n",
              "</div><br><label><b>dtype:</b> float64</label>"
            ]
          },
          "metadata": {},
          "execution_count": 46
        }
      ]
    },
    {
      "cell_type": "code",
      "source": [
        "(dados[\"TP_SEXO\"].value_counts() / dados.shape[0]) * 100"
      ],
      "metadata": {
        "colab": {
          "base_uri": "https://localhost:8080/",
          "height": 178
        },
        "id": "eOLXWXbqycJ-",
        "outputId": "d9d06877-c50d-499b-9e4f-b71f2c0571e5"
      },
      "execution_count": 137,
      "outputs": [
        {
          "output_type": "execute_result",
          "data": {
            "text/plain": [
              "TP_SEXO\n",
              "F    64.613402\n",
              "M    35.386598\n",
              "Name: count, dtype: float64"
            ],
            "text/html": [
              "<div>\n",
              "<style scoped>\n",
              "    .dataframe tbody tr th:only-of-type {\n",
              "        vertical-align: middle;\n",
              "    }\n",
              "\n",
              "    .dataframe tbody tr th {\n",
              "        vertical-align: top;\n",
              "    }\n",
              "\n",
              "    .dataframe thead th {\n",
              "        text-align: right;\n",
              "    }\n",
              "</style>\n",
              "<table border=\"1\" class=\"dataframe\">\n",
              "  <thead>\n",
              "    <tr style=\"text-align: right;\">\n",
              "      <th></th>\n",
              "      <th>count</th>\n",
              "    </tr>\n",
              "    <tr>\n",
              "      <th>TP_SEXO</th>\n",
              "      <th></th>\n",
              "    </tr>\n",
              "  </thead>\n",
              "  <tbody>\n",
              "    <tr>\n",
              "      <th>F</th>\n",
              "      <td>64.613402</td>\n",
              "    </tr>\n",
              "    <tr>\n",
              "      <th>M</th>\n",
              "      <td>35.386598</td>\n",
              "    </tr>\n",
              "  </tbody>\n",
              "</table>\n",
              "</div><br><label><b>dtype:</b> float64</label>"
            ]
          },
          "metadata": {},
          "execution_count": 137
        }
      ]
    },
    {
      "cell_type": "markdown",
      "source": [
        "Na prova de matemática os homens tiram notas maiores que as mulheres, diferença de 43,8 pontos"
      ],
      "metadata": {
        "id": "7l71qQB8gFMj"
      }
    },
    {
      "cell_type": "code",
      "source": [
        "dados.query(\" TP_SEXO == 'M'\").NU_NOTA_MT.agg([np.mean, np.median])"
      ],
      "metadata": {
        "colab": {
          "base_uri": "https://localhost:8080/",
          "height": 236
        },
        "id": "XIofPoZGb4ma",
        "outputId": "cb2c7b23-75f3-4dc9-933c-f2b3faeba482"
      },
      "execution_count": 48,
      "outputs": [
        {
          "output_type": "stream",
          "name": "stderr",
          "text": [
            "/tmp/ipython-input-4066418305.py:1: FutureWarning: The provided callable <function mean at 0x78ac6452c900> is currently using Series.mean. In a future version of pandas, the provided callable will be used directly. To keep current behavior pass the string \"mean\" instead.\n",
            "  dados.query(\" TP_SEXO == 'M'\").NU_NOTA_MT.agg([np.mean, np.median])\n",
            "/tmp/ipython-input-4066418305.py:1: FutureWarning: The provided callable <function median at 0x78ac6447cc20> is currently using Series.median. In a future version of pandas, the provided callable will be used directly. To keep current behavior pass the string \"median\" instead.\n",
            "  dados.query(\" TP_SEXO == 'M'\").NU_NOTA_MT.agg([np.mean, np.median])\n"
          ]
        },
        {
          "output_type": "execute_result",
          "data": {
            "text/plain": [
              "mean      538.500685\n",
              "median    522.000000\n",
              "Name: NU_NOTA_MT, dtype: float64"
            ],
            "text/html": [
              "<div>\n",
              "<style scoped>\n",
              "    .dataframe tbody tr th:only-of-type {\n",
              "        vertical-align: middle;\n",
              "    }\n",
              "\n",
              "    .dataframe tbody tr th {\n",
              "        vertical-align: top;\n",
              "    }\n",
              "\n",
              "    .dataframe thead th {\n",
              "        text-align: right;\n",
              "    }\n",
              "</style>\n",
              "<table border=\"1\" class=\"dataframe\">\n",
              "  <thead>\n",
              "    <tr style=\"text-align: right;\">\n",
              "      <th></th>\n",
              "      <th>NU_NOTA_MT</th>\n",
              "    </tr>\n",
              "  </thead>\n",
              "  <tbody>\n",
              "    <tr>\n",
              "      <th>mean</th>\n",
              "      <td>538.500685</td>\n",
              "    </tr>\n",
              "    <tr>\n",
              "      <th>median</th>\n",
              "      <td>522.000000</td>\n",
              "    </tr>\n",
              "  </tbody>\n",
              "</table>\n",
              "</div><br><label><b>dtype:</b> float64</label>"
            ]
          },
          "metadata": {},
          "execution_count": 48
        }
      ]
    },
    {
      "cell_type": "code",
      "source": [
        "dados.query(\" TP_SEXO == 'F'\").NU_NOTA_MT.agg([np.mean, np.median])"
      ],
      "metadata": {
        "colab": {
          "base_uri": "https://localhost:8080/",
          "height": 236
        },
        "id": "3_PTWXs5cPrU",
        "outputId": "7ea3f6d0-ef43-4025-823a-6d3736ee270e"
      },
      "execution_count": 49,
      "outputs": [
        {
          "output_type": "stream",
          "name": "stderr",
          "text": [
            "/tmp/ipython-input-1627187473.py:1: FutureWarning: The provided callable <function mean at 0x78ac6452c900> is currently using Series.mean. In a future version of pandas, the provided callable will be used directly. To keep current behavior pass the string \"mean\" instead.\n",
            "  dados.query(\" TP_SEXO == 'F'\").NU_NOTA_MT.agg([np.mean, np.median])\n",
            "/tmp/ipython-input-1627187473.py:1: FutureWarning: The provided callable <function median at 0x78ac6447cc20> is currently using Series.median. In a future version of pandas, the provided callable will be used directly. To keep current behavior pass the string \"median\" instead.\n",
            "  dados.query(\" TP_SEXO == 'F'\").NU_NOTA_MT.agg([np.mean, np.median])\n"
          ]
        },
        {
          "output_type": "execute_result",
          "data": {
            "text/plain": [
              "mean      499.770252\n",
              "median    478.200000\n",
              "Name: NU_NOTA_MT, dtype: float64"
            ],
            "text/html": [
              "<div>\n",
              "<style scoped>\n",
              "    .dataframe tbody tr th:only-of-type {\n",
              "        vertical-align: middle;\n",
              "    }\n",
              "\n",
              "    .dataframe tbody tr th {\n",
              "        vertical-align: top;\n",
              "    }\n",
              "\n",
              "    .dataframe thead th {\n",
              "        text-align: right;\n",
              "    }\n",
              "</style>\n",
              "<table border=\"1\" class=\"dataframe\">\n",
              "  <thead>\n",
              "    <tr style=\"text-align: right;\">\n",
              "      <th></th>\n",
              "      <th>NU_NOTA_MT</th>\n",
              "    </tr>\n",
              "  </thead>\n",
              "  <tbody>\n",
              "    <tr>\n",
              "      <th>mean</th>\n",
              "      <td>499.770252</td>\n",
              "    </tr>\n",
              "    <tr>\n",
              "      <th>median</th>\n",
              "      <td>478.200000</td>\n",
              "    </tr>\n",
              "  </tbody>\n",
              "</table>\n",
              "</div><br><label><b>dtype:</b> float64</label>"
            ]
          },
          "metadata": {},
          "execution_count": 49
        }
      ]
    },
    {
      "cell_type": "markdown",
      "source": [
        "Aumentando o filtro"
      ],
      "metadata": {
        "id": "ZKJlXB37gTkZ"
      }
    },
    {
      "cell_type": "markdown",
      "source": [
        "Utilizei o operador AND (&) para realizar duas verificações"
      ],
      "metadata": {
        "id": "4NO5Gh2LghAK"
      }
    },
    {
      "cell_type": "code",
      "source": [
        "dados.query(\"(TP_SEXO == 'M') & (IN_TREINEIRO == 1)\").NU_NOTA_MT.agg([np.mean, np.median])"
      ],
      "metadata": {
        "colab": {
          "base_uri": "https://localhost:8080/",
          "height": 236
        },
        "id": "f8NwKybmgVKg",
        "outputId": "9fe56cf1-a437-4f2e-b3b7-d8b2db0404d0"
      },
      "execution_count": 50,
      "outputs": [
        {
          "output_type": "stream",
          "name": "stderr",
          "text": [
            "/tmp/ipython-input-4286166673.py:1: FutureWarning: The provided callable <function mean at 0x78ac6452c900> is currently using Series.mean. In a future version of pandas, the provided callable will be used directly. To keep current behavior pass the string \"mean\" instead.\n",
            "  dados.query(\"(TP_SEXO == 'M') & (IN_TREINEIRO == 1)\").NU_NOTA_MT.agg([np.mean, np.median])\n",
            "/tmp/ipython-input-4286166673.py:1: FutureWarning: The provided callable <function median at 0x78ac6447cc20> is currently using Series.median. In a future version of pandas, the provided callable will be used directly. To keep current behavior pass the string \"median\" instead.\n",
            "  dados.query(\"(TP_SEXO == 'M') & (IN_TREINEIRO == 1)\").NU_NOTA_MT.agg([np.mean, np.median])\n"
          ]
        },
        {
          "output_type": "execute_result",
          "data": {
            "text/plain": [
              "mean      539.854374\n",
              "median    528.700000\n",
              "Name: NU_NOTA_MT, dtype: float64"
            ],
            "text/html": [
              "<div>\n",
              "<style scoped>\n",
              "    .dataframe tbody tr th:only-of-type {\n",
              "        vertical-align: middle;\n",
              "    }\n",
              "\n",
              "    .dataframe tbody tr th {\n",
              "        vertical-align: top;\n",
              "    }\n",
              "\n",
              "    .dataframe thead th {\n",
              "        text-align: right;\n",
              "    }\n",
              "</style>\n",
              "<table border=\"1\" class=\"dataframe\">\n",
              "  <thead>\n",
              "    <tr style=\"text-align: right;\">\n",
              "      <th></th>\n",
              "      <th>NU_NOTA_MT</th>\n",
              "    </tr>\n",
              "  </thead>\n",
              "  <tbody>\n",
              "    <tr>\n",
              "      <th>mean</th>\n",
              "      <td>539.854374</td>\n",
              "    </tr>\n",
              "    <tr>\n",
              "      <th>median</th>\n",
              "      <td>528.700000</td>\n",
              "    </tr>\n",
              "  </tbody>\n",
              "</table>\n",
              "</div><br><label><b>dtype:</b> float64</label>"
            ]
          },
          "metadata": {},
          "execution_count": 50
        }
      ]
    },
    {
      "cell_type": "markdown",
      "source": [
        "Agora utilizando o OR(|) para pegar tanto que é do sexo masculino como quem é treineiro"
      ],
      "metadata": {
        "id": "wzCTJzV9hJ7-"
      }
    },
    {
      "cell_type": "code",
      "source": [
        "dados.query(\"(TP_SEXO == 'M') | (IN_TREINEIRO == 1)\").NU_NOTA_MT.agg([np.mean, np.median])"
      ],
      "metadata": {
        "colab": {
          "base_uri": "https://localhost:8080/",
          "height": 236
        },
        "id": "c1Y262D5gf1E",
        "outputId": "75affc03-9b6f-4f3e-8dcc-e90f140aea25"
      },
      "execution_count": 51,
      "outputs": [
        {
          "output_type": "stream",
          "name": "stderr",
          "text": [
            "/tmp/ipython-input-393308578.py:1: FutureWarning: The provided callable <function mean at 0x78ac6452c900> is currently using Series.mean. In a future version of pandas, the provided callable will be used directly. To keep current behavior pass the string \"mean\" instead.\n",
            "  dados.query(\"(TP_SEXO == 'M') | (IN_TREINEIRO == 1)\").NU_NOTA_MT.agg([np.mean, np.median])\n",
            "/tmp/ipython-input-393308578.py:1: FutureWarning: The provided callable <function median at 0x78ac6447cc20> is currently using Series.median. In a future version of pandas, the provided callable will be used directly. To keep current behavior pass the string \"median\" instead.\n",
            "  dados.query(\"(TP_SEXO == 'M') | (IN_TREINEIRO == 1)\").NU_NOTA_MT.agg([np.mean, np.median])\n"
          ]
        },
        {
          "output_type": "execute_result",
          "data": {
            "text/plain": [
              "mean      530.011516\n",
              "median    512.100000\n",
              "Name: NU_NOTA_MT, dtype: float64"
            ],
            "text/html": [
              "<div>\n",
              "<style scoped>\n",
              "    .dataframe tbody tr th:only-of-type {\n",
              "        vertical-align: middle;\n",
              "    }\n",
              "\n",
              "    .dataframe tbody tr th {\n",
              "        vertical-align: top;\n",
              "    }\n",
              "\n",
              "    .dataframe thead th {\n",
              "        text-align: right;\n",
              "    }\n",
              "</style>\n",
              "<table border=\"1\" class=\"dataframe\">\n",
              "  <thead>\n",
              "    <tr style=\"text-align: right;\">\n",
              "      <th></th>\n",
              "      <th>NU_NOTA_MT</th>\n",
              "    </tr>\n",
              "  </thead>\n",
              "  <tbody>\n",
              "    <tr>\n",
              "      <th>mean</th>\n",
              "      <td>530.011516</td>\n",
              "    </tr>\n",
              "    <tr>\n",
              "      <th>median</th>\n",
              "      <td>512.100000</td>\n",
              "    </tr>\n",
              "  </tbody>\n",
              "</table>\n",
              "</div><br><label><b>dtype:</b> float64</label>"
            ]
          },
          "metadata": {},
          "execution_count": 51
        }
      ]
    },
    {
      "cell_type": "markdown",
      "source": [
        "Outras formas de realizar a consulta"
      ],
      "metadata": {
        "id": "z1uzqzrFhi-5"
      }
    },
    {
      "cell_type": "markdown",
      "source": [
        "Passo a passo de como funciona a mascára"
      ],
      "metadata": {
        "id": "HMnc-sk3iFpO"
      }
    },
    {
      "cell_type": "code",
      "source": [
        "#Aqui faz a filtragem booleana\n",
        "dados[\"TP_SEXO\"] == \"M\""
      ],
      "metadata": {
        "colab": {
          "base_uri": "https://localhost:8080/",
          "height": 458
        },
        "id": "4qxMrT4Zh8FR",
        "outputId": "10eb4f27-1402-4cc7-b789-adf7c6460d45"
      },
      "execution_count": 61,
      "outputs": [
        {
          "output_type": "execute_result",
          "data": {
            "text/plain": [
              "0         False\n",
              "1         False\n",
              "2         False\n",
              "3         False\n",
              "4          True\n",
              "          ...  \n",
              "266189     True\n",
              "266190     True\n",
              "266191     True\n",
              "266192     True\n",
              "266193    False\n",
              "Name: TP_SEXO, Length: 266194, dtype: bool"
            ],
            "text/html": [
              "<div>\n",
              "<style scoped>\n",
              "    .dataframe tbody tr th:only-of-type {\n",
              "        vertical-align: middle;\n",
              "    }\n",
              "\n",
              "    .dataframe tbody tr th {\n",
              "        vertical-align: top;\n",
              "    }\n",
              "\n",
              "    .dataframe thead th {\n",
              "        text-align: right;\n",
              "    }\n",
              "</style>\n",
              "<table border=\"1\" class=\"dataframe\">\n",
              "  <thead>\n",
              "    <tr style=\"text-align: right;\">\n",
              "      <th></th>\n",
              "      <th>TP_SEXO</th>\n",
              "    </tr>\n",
              "  </thead>\n",
              "  <tbody>\n",
              "    <tr>\n",
              "      <th>0</th>\n",
              "      <td>False</td>\n",
              "    </tr>\n",
              "    <tr>\n",
              "      <th>1</th>\n",
              "      <td>False</td>\n",
              "    </tr>\n",
              "    <tr>\n",
              "      <th>2</th>\n",
              "      <td>False</td>\n",
              "    </tr>\n",
              "    <tr>\n",
              "      <th>3</th>\n",
              "      <td>False</td>\n",
              "    </tr>\n",
              "    <tr>\n",
              "      <th>4</th>\n",
              "      <td>True</td>\n",
              "    </tr>\n",
              "    <tr>\n",
              "      <th>...</th>\n",
              "      <td>...</td>\n",
              "    </tr>\n",
              "    <tr>\n",
              "      <th>266189</th>\n",
              "      <td>True</td>\n",
              "    </tr>\n",
              "    <tr>\n",
              "      <th>266190</th>\n",
              "      <td>True</td>\n",
              "    </tr>\n",
              "    <tr>\n",
              "      <th>266191</th>\n",
              "      <td>True</td>\n",
              "    </tr>\n",
              "    <tr>\n",
              "      <th>266192</th>\n",
              "      <td>True</td>\n",
              "    </tr>\n",
              "    <tr>\n",
              "      <th>266193</th>\n",
              "      <td>False</td>\n",
              "    </tr>\n",
              "  </tbody>\n",
              "</table>\n",
              "<p>266194 rows × 1 columns</p>\n",
              "</div><br><label><b>dtype:</b> bool</label>"
            ]
          },
          "metadata": {},
          "execution_count": 61
        }
      ]
    },
    {
      "cell_type": "code",
      "source": [
        "#Aqui retorna APENAS quem é do sexo masculina, ou seja,\n",
        "# não há participantes do sexo feminino\n",
        "dados[dados[\"TP_SEXO\"] == \"M\"].head()"
      ],
      "metadata": {
        "colab": {
          "base_uri": "https://localhost:8080/",
          "height": 226
        },
        "id": "MMKWnC0UhiRq",
        "outputId": "2f848f71-385e-49c9-bd14-534d3da47768"
      },
      "execution_count": 58,
      "outputs": [
        {
          "output_type": "execute_result",
          "data": {
            "text/plain": [
              "    NU_INSCRICAO  NU_ANO  TP_FAIXA_ETARIA TP_SEXO  TP_ESTADO_CIVIL  \\\n",
              "4   210053156861    2021                9       M                1   \n",
              "5   210053085526    2021                3       M                1   \n",
              "7   210053790986    2021                1       M                1   \n",
              "9   210054171092    2021                4       M                1   \n",
              "10  210052237624    2021                5       M                1   \n",
              "\n",
              "    TP_COR_RACA  TP_NACIONALIDADE  TP_ST_CONCLUSAO  TP_ANO_CONCLUIU  \\\n",
              "4             2                 1                1                5   \n",
              "5             1                 1                2                0   \n",
              "7             1                 1                2                0   \n",
              "9             2                 1                1                1   \n",
              "10            2                 1                2                0   \n",
              "\n",
              "    TP_ESCOLA  TP_ENSINO  IN_TREINEIRO  CO_MUNICIPIO_ESC NO_MUNICIPIO_ESC  \\\n",
              "4           1        NaN             0               NaN              NaN   \n",
              "5           2        1.0             0         2932606.0           Urandi   \n",
              "7           2        1.0             0               NaN              NaN   \n",
              "9           1        NaN             0               NaN              NaN   \n",
              "10          2        1.0             0         2910503.0       Entre Rios   \n",
              "\n",
              "    CO_UF_ESC SG_UF_ESC  TP_DEPENDENCIA_ADM_ESC  TP_LOCALIZACAO_ESC  \\\n",
              "4         NaN       NaN                     NaN                 NaN   \n",
              "5        29.0        BA                     2.0                 1.0   \n",
              "7         NaN       NaN                     NaN                 NaN   \n",
              "9         NaN       NaN                     NaN                 NaN   \n",
              "10       29.0        BA                     2.0                 1.0   \n",
              "\n",
              "    TP_SIT_FUNC_ESC  CO_MUNICIPIO_PROVA NO_MUNICIPIO_PROVA  CO_UF_PROVA  \\\n",
              "4               NaN             2910800   Feira de Santana           29   \n",
              "5               1.0             2932606             Urandi           29   \n",
              "7               NaN             2907202          Casa Nova           29   \n",
              "9               NaN             2927408           Salvador           29   \n",
              "10              1.0             2910503         Entre Rios           29   \n",
              "\n",
              "   SG_UF_PROVA  TP_PRESENCA_CN  TP_PRESENCA_CH  TP_PRESENCA_LC  \\\n",
              "4           BA               1               1               1   \n",
              "5           BA               1               1               1   \n",
              "7           BA               1               1               1   \n",
              "9           BA               0               0               0   \n",
              "10          BA               1               1               1   \n",
              "\n",
              "    TP_PRESENCA_MT  CO_PROVA_CN  CO_PROVA_CH  CO_PROVA_LC  CO_PROVA_MT  \\\n",
              "4                1       1014.0       1000.0       1004.0       1010.0   \n",
              "5                1        910.0        879.0        889.0        900.0   \n",
              "7                1        912.0        882.0        891.0        901.0   \n",
              "9                0          NaN          NaN          NaN          NaN   \n",
              "10               1        909.0        881.0        892.0        899.0   \n",
              "\n",
              "    NU_NOTA_CN  NU_NOTA_CH  NU_NOTA_LC  NU_NOTA_MT  \\\n",
              "4        465.2       613.1       522.1       579.6   \n",
              "5        414.6       410.1       386.7       423.0   \n",
              "7        590.9       659.7       593.6       586.8   \n",
              "9          NaN         NaN         NaN         NaN   \n",
              "10       594.4       572.8       536.6       469.6   \n",
              "\n",
              "                                  TX_RESPOSTAS_CN  \\\n",
              "4   CDCCBDBBDCBACEBDACBCACADBCBECCEBCDDEBDACEECCD   \n",
              "5   CBCAEDDBBCBABADAABECACCEBDEABCCAECEECCDBCBDCB   \n",
              "7   BADCBEEBECDDEABAEDEBCDCCDABBBEBBDDACCCADBEACE   \n",
              "9                                             NaN   \n",
              "10  DCADABEEABDAEDABADCABEACABDAEBECBBBDCCCDBCBCD   \n",
              "\n",
              "                                  TX_RESPOSTAS_CH  \\\n",
              "4   CCBAADECCBACBECCBEADAEBEACBEBBEADEBBABDACDEBC   \n",
              "5   BACDABADEBACEDCACDADBCBDBDBECADBEDAEBDCAEBDCA   \n",
              "7   EBBBEADACABBBADEECBAAEDDBBADCDADBCADDEBBCCEAB   \n",
              "9                                             NaN   \n",
              "10  BEECCABABABBEAEACBADCAEBEDAABAEAEADCCCAAEEBAA   \n",
              "\n",
              "                                      TX_RESPOSTAS_LC  \\\n",
              "4   BADCE99999DABAABBABBBCEDBDCDABEABCBBDCACBABAAA...   \n",
              "5   BAEAB99999CACBABEBADECADCEDCBCADABDEDBDCABCACB...   \n",
              "7   ACBAB99999DCEADCADACBDEAEDDABDADCBBBDABCDDDECB...   \n",
              "9                                                 NaN   \n",
              "10  ABBAB99999ADDBAABABCBBBACADAEDBBCCEEEBEAACCDBE...   \n",
              "\n",
              "                                  TX_RESPOSTAS_MT  TP_LINGUA  \\\n",
              "4   CCBACBBCCCCEDDDDCBCCDCACCCBBBDDDBCBADDBCABACA          0   \n",
              "5   EACDCADDDCDBADABACEDEDCECBDCCBEAACEADEAECCCEC          0   \n",
              "7   DDEBEEEDDDCAEEBACBEAADDDCCEDEEBABEECEBEEBCAAC          0   \n",
              "9                                             NaN          0   \n",
              "10  DABEACCEACAACBBABBBACCAACBBAAECBBCBEBCCCBABBD          0   \n",
              "\n",
              "                                   TX_GABARITO_CN  \\\n",
              "4   CDBBBCABEDEDEAAEBACCCBDABCDCBCBDECDADCDBBEEBB   \n",
              "5   ADCDCDBBBECDCCDCBCBDABCAADCBEBABEEBBBCABEDEDE   \n",
              "7   DABCEDEBEEBBCABEDDCBCBECDADCDAACBDCCCDBBBEBAB   \n",
              "9                                             NaN   \n",
              "10  EDECABEDABCBEBACCDCBBEEBBCBDAAECDCBDCDBBBADCD   \n",
              "\n",
              "                                   TX_GABARITO_CH  \\\n",
              "4   BBBAAEECBBABEECEBAAEADBCACAEABEDDEBBBADBCBADC   \n",
              "5   BADCBADBCEDDEBBADBCABEECCAEABEBAAECBBABAAEEBB   \n",
              "7   EBAAEADBCACBBABEECBAAEEBBBADCBADBCEDDEBBCAEAB   \n",
              "9                                             NaN   \n",
              "10  BEECCAEABADBCAEBAAEEDDEBBBADBCBAAEEBBBADCCBBA   \n",
              "\n",
              "                                       TX_GABARITO_LC  \\\n",
              "4   ABBCAEAACADDCACDCADABBBBDEBBACEADCEBDDACEEDDDB...   \n",
              "5   CAABBCAEAABDCDEADCEDBEDDDABBBBDEBCEADABDBACACD...   \n",
              "7   ACABBACAEADCEADABDACDCEABDDADBEDDDEBBACCDDDCCE...   \n",
              "9                                                 NaN   \n",
              "10  ABBACAAECACDBDDADEBDDCBDCEDBEDDBBBBDCEEAADABAC...   \n",
              "\n",
              "                                   TX_GABARITO_MT  TP_STATUS_REDACAO  \\\n",
              "4   ECCCABBDBDDDCEDDCABXEEEBABEDCEDCCAEBADBCCECDA                1.0   \n",
              "5   DDCABDCCAEDCEBBDBDAEEBADCAECDBCCCCDDCEEBABXEE                1.0   \n",
              "7   DCCAEBABDDCABEECCBCCEXADDCEECDEBADCABBDBDEDCE                1.0   \n",
              "9                                             NaN                NaN   \n",
              "10  EEXEBABDDCECCBCCECDCAEBADEABBDBDEDCEDCCADDCAB                1.0   \n",
              "\n",
              "    NU_NOTA_COMP1  NU_NOTA_COMP2  NU_NOTA_COMP3  NU_NOTA_COMP4  NU_NOTA_COMP5  \\\n",
              "4           100.0          120.0          100.0          120.0          100.0   \n",
              "5           120.0          180.0          140.0          160.0          100.0   \n",
              "7           160.0          180.0          160.0          200.0          200.0   \n",
              "9             NaN            NaN            NaN            NaN            NaN   \n",
              "10          100.0          100.0           80.0           80.0           80.0   \n",
              "\n",
              "    NU_NOTA_REDACAO  \n",
              "4             540.0  \n",
              "5             700.0  \n",
              "7             900.0  \n",
              "9               NaN  \n",
              "10            440.0  "
            ],
            "text/html": [
              "\n",
              "  <div id=\"df-e0cb13fd-d1da-4742-a6d7-e1d6145b55d1\" class=\"colab-df-container\">\n",
              "    <div>\n",
              "<style scoped>\n",
              "    .dataframe tbody tr th:only-of-type {\n",
              "        vertical-align: middle;\n",
              "    }\n",
              "\n",
              "    .dataframe tbody tr th {\n",
              "        vertical-align: top;\n",
              "    }\n",
              "\n",
              "    .dataframe thead th {\n",
              "        text-align: right;\n",
              "    }\n",
              "</style>\n",
              "<table border=\"1\" class=\"dataframe\">\n",
              "  <thead>\n",
              "    <tr style=\"text-align: right;\">\n",
              "      <th></th>\n",
              "      <th>NU_INSCRICAO</th>\n",
              "      <th>NU_ANO</th>\n",
              "      <th>TP_FAIXA_ETARIA</th>\n",
              "      <th>TP_SEXO</th>\n",
              "      <th>TP_ESTADO_CIVIL</th>\n",
              "      <th>TP_COR_RACA</th>\n",
              "      <th>TP_NACIONALIDADE</th>\n",
              "      <th>TP_ST_CONCLUSAO</th>\n",
              "      <th>TP_ANO_CONCLUIU</th>\n",
              "      <th>TP_ESCOLA</th>\n",
              "      <th>TP_ENSINO</th>\n",
              "      <th>IN_TREINEIRO</th>\n",
              "      <th>CO_MUNICIPIO_ESC</th>\n",
              "      <th>NO_MUNICIPIO_ESC</th>\n",
              "      <th>CO_UF_ESC</th>\n",
              "      <th>SG_UF_ESC</th>\n",
              "      <th>TP_DEPENDENCIA_ADM_ESC</th>\n",
              "      <th>TP_LOCALIZACAO_ESC</th>\n",
              "      <th>TP_SIT_FUNC_ESC</th>\n",
              "      <th>CO_MUNICIPIO_PROVA</th>\n",
              "      <th>NO_MUNICIPIO_PROVA</th>\n",
              "      <th>CO_UF_PROVA</th>\n",
              "      <th>SG_UF_PROVA</th>\n",
              "      <th>TP_PRESENCA_CN</th>\n",
              "      <th>TP_PRESENCA_CH</th>\n",
              "      <th>TP_PRESENCA_LC</th>\n",
              "      <th>TP_PRESENCA_MT</th>\n",
              "      <th>CO_PROVA_CN</th>\n",
              "      <th>CO_PROVA_CH</th>\n",
              "      <th>CO_PROVA_LC</th>\n",
              "      <th>CO_PROVA_MT</th>\n",
              "      <th>NU_NOTA_CN</th>\n",
              "      <th>NU_NOTA_CH</th>\n",
              "      <th>NU_NOTA_LC</th>\n",
              "      <th>NU_NOTA_MT</th>\n",
              "      <th>TX_RESPOSTAS_CN</th>\n",
              "      <th>TX_RESPOSTAS_CH</th>\n",
              "      <th>TX_RESPOSTAS_LC</th>\n",
              "      <th>TX_RESPOSTAS_MT</th>\n",
              "      <th>TP_LINGUA</th>\n",
              "      <th>TX_GABARITO_CN</th>\n",
              "      <th>TX_GABARITO_CH</th>\n",
              "      <th>TX_GABARITO_LC</th>\n",
              "      <th>TX_GABARITO_MT</th>\n",
              "      <th>TP_STATUS_REDACAO</th>\n",
              "      <th>NU_NOTA_COMP1</th>\n",
              "      <th>NU_NOTA_COMP2</th>\n",
              "      <th>NU_NOTA_COMP3</th>\n",
              "      <th>NU_NOTA_COMP4</th>\n",
              "      <th>NU_NOTA_COMP5</th>\n",
              "      <th>NU_NOTA_REDACAO</th>\n",
              "    </tr>\n",
              "  </thead>\n",
              "  <tbody>\n",
              "    <tr>\n",
              "      <th>4</th>\n",
              "      <td>210053156861</td>\n",
              "      <td>2021</td>\n",
              "      <td>9</td>\n",
              "      <td>M</td>\n",
              "      <td>1</td>\n",
              "      <td>2</td>\n",
              "      <td>1</td>\n",
              "      <td>1</td>\n",
              "      <td>5</td>\n",
              "      <td>1</td>\n",
              "      <td>NaN</td>\n",
              "      <td>0</td>\n",
              "      <td>NaN</td>\n",
              "      <td>NaN</td>\n",
              "      <td>NaN</td>\n",
              "      <td>NaN</td>\n",
              "      <td>NaN</td>\n",
              "      <td>NaN</td>\n",
              "      <td>NaN</td>\n",
              "      <td>2910800</td>\n",
              "      <td>Feira de Santana</td>\n",
              "      <td>29</td>\n",
              "      <td>BA</td>\n",
              "      <td>1</td>\n",
              "      <td>1</td>\n",
              "      <td>1</td>\n",
              "      <td>1</td>\n",
              "      <td>1014.0</td>\n",
              "      <td>1000.0</td>\n",
              "      <td>1004.0</td>\n",
              "      <td>1010.0</td>\n",
              "      <td>465.2</td>\n",
              "      <td>613.1</td>\n",
              "      <td>522.1</td>\n",
              "      <td>579.6</td>\n",
              "      <td>CDCCBDBBDCBACEBDACBCACADBCBECCEBCDDEBDACEECCD</td>\n",
              "      <td>CCBAADECCBACBECCBEADAEBEACBEBBEADEBBABDACDEBC</td>\n",
              "      <td>BADCE99999DABAABBABBBCEDBDCDABEABCBBDCACBABAAA...</td>\n",
              "      <td>CCBACBBCCCCEDDDDCBCCDCACCCBBBDDDBCBADDBCABACA</td>\n",
              "      <td>0</td>\n",
              "      <td>CDBBBCABEDEDEAAEBACCCBDABCDCBCBDECDADCDBBEEBB</td>\n",
              "      <td>BBBAAEECBBABEECEBAAEADBCACAEABEDDEBBBADBCBADC</td>\n",
              "      <td>ABBCAEAACADDCACDCADABBBBDEBBACEADCEBDDACEEDDDB...</td>\n",
              "      <td>ECCCABBDBDDDCEDDCABXEEEBABEDCEDCCAEBADBCCECDA</td>\n",
              "      <td>1.0</td>\n",
              "      <td>100.0</td>\n",
              "      <td>120.0</td>\n",
              "      <td>100.0</td>\n",
              "      <td>120.0</td>\n",
              "      <td>100.0</td>\n",
              "      <td>540.0</td>\n",
              "    </tr>\n",
              "    <tr>\n",
              "      <th>5</th>\n",
              "      <td>210053085526</td>\n",
              "      <td>2021</td>\n",
              "      <td>3</td>\n",
              "      <td>M</td>\n",
              "      <td>1</td>\n",
              "      <td>1</td>\n",
              "      <td>1</td>\n",
              "      <td>2</td>\n",
              "      <td>0</td>\n",
              "      <td>2</td>\n",
              "      <td>1.0</td>\n",
              "      <td>0</td>\n",
              "      <td>2932606.0</td>\n",
              "      <td>Urandi</td>\n",
              "      <td>29.0</td>\n",
              "      <td>BA</td>\n",
              "      <td>2.0</td>\n",
              "      <td>1.0</td>\n",
              "      <td>1.0</td>\n",
              "      <td>2932606</td>\n",
              "      <td>Urandi</td>\n",
              "      <td>29</td>\n",
              "      <td>BA</td>\n",
              "      <td>1</td>\n",
              "      <td>1</td>\n",
              "      <td>1</td>\n",
              "      <td>1</td>\n",
              "      <td>910.0</td>\n",
              "      <td>879.0</td>\n",
              "      <td>889.0</td>\n",
              "      <td>900.0</td>\n",
              "      <td>414.6</td>\n",
              "      <td>410.1</td>\n",
              "      <td>386.7</td>\n",
              "      <td>423.0</td>\n",
              "      <td>CBCAEDDBBCBABADAABECACCEBDEABCCAECEECCDBCBDCB</td>\n",
              "      <td>BACDABADEBACEDCACDADBCBDBDBECADBEDAEBDCAEBDCA</td>\n",
              "      <td>BAEAB99999CACBABEBADECADCEDCBCADABDEDBDCABCACB...</td>\n",
              "      <td>EACDCADDDCDBADABACEDEDCECBDCCBEAACEADEAECCCEC</td>\n",
              "      <td>0</td>\n",
              "      <td>ADCDCDBBBECDCCDCBCBDABCAADCBEBABEEBBBCABEDEDE</td>\n",
              "      <td>BADCBADBCEDDEBBADBCABEECCAEABEBAAECBBABAAEEBB</td>\n",
              "      <td>CAABBCAEAABDCDEADCEDBEDDDABBBBDEBCEADABDBACACD...</td>\n",
              "      <td>DDCABDCCAEDCEBBDBDAEEBADCAECDBCCCCDDCEEBABXEE</td>\n",
              "      <td>1.0</td>\n",
              "      <td>120.0</td>\n",
              "      <td>180.0</td>\n",
              "      <td>140.0</td>\n",
              "      <td>160.0</td>\n",
              "      <td>100.0</td>\n",
              "      <td>700.0</td>\n",
              "    </tr>\n",
              "    <tr>\n",
              "      <th>7</th>\n",
              "      <td>210053790986</td>\n",
              "      <td>2021</td>\n",
              "      <td>1</td>\n",
              "      <td>M</td>\n",
              "      <td>1</td>\n",
              "      <td>1</td>\n",
              "      <td>1</td>\n",
              "      <td>2</td>\n",
              "      <td>0</td>\n",
              "      <td>2</td>\n",
              "      <td>1.0</td>\n",
              "      <td>0</td>\n",
              "      <td>NaN</td>\n",
              "      <td>NaN</td>\n",
              "      <td>NaN</td>\n",
              "      <td>NaN</td>\n",
              "      <td>NaN</td>\n",
              "      <td>NaN</td>\n",
              "      <td>NaN</td>\n",
              "      <td>2907202</td>\n",
              "      <td>Casa Nova</td>\n",
              "      <td>29</td>\n",
              "      <td>BA</td>\n",
              "      <td>1</td>\n",
              "      <td>1</td>\n",
              "      <td>1</td>\n",
              "      <td>1</td>\n",
              "      <td>912.0</td>\n",
              "      <td>882.0</td>\n",
              "      <td>891.0</td>\n",
              "      <td>901.0</td>\n",
              "      <td>590.9</td>\n",
              "      <td>659.7</td>\n",
              "      <td>593.6</td>\n",
              "      <td>586.8</td>\n",
              "      <td>BADCBEEBECDDEABAEDEBCDCCDABBBEBBDDACCCADBEACE</td>\n",
              "      <td>EBBBEADACABBBADEECBAAEDDBBADCDADBCADDEBBCCEAB</td>\n",
              "      <td>ACBAB99999DCEADCADACBDEAEDDABDADCBBBDABCDDDECB...</td>\n",
              "      <td>DDEBEEEDDDCAEEBACBEAADDDCCEDEEBABEECEBEEBCAAC</td>\n",
              "      <td>0</td>\n",
              "      <td>DABCEDEBEEBBCABEDDCBCBECDADCDAACBDCCCDBBBEBAB</td>\n",
              "      <td>EBAAEADBCACBBABEECBAAEEBBBADCBADBCEDDEBBCAEAB</td>\n",
              "      <td>ACABBACAEADCEADABDACDCEABDDADBEDDDEBBACCDDDCCE...</td>\n",
              "      <td>DCCAEBABDDCABEECCBCCEXADDCEECDEBADCABBDBDEDCE</td>\n",
              "      <td>1.0</td>\n",
              "      <td>160.0</td>\n",
              "      <td>180.0</td>\n",
              "      <td>160.0</td>\n",
              "      <td>200.0</td>\n",
              "      <td>200.0</td>\n",
              "      <td>900.0</td>\n",
              "    </tr>\n",
              "    <tr>\n",
              "      <th>9</th>\n",
              "      <td>210054171092</td>\n",
              "      <td>2021</td>\n",
              "      <td>4</td>\n",
              "      <td>M</td>\n",
              "      <td>1</td>\n",
              "      <td>2</td>\n",
              "      <td>1</td>\n",
              "      <td>1</td>\n",
              "      <td>1</td>\n",
              "      <td>1</td>\n",
              "      <td>NaN</td>\n",
              "      <td>0</td>\n",
              "      <td>NaN</td>\n",
              "      <td>NaN</td>\n",
              "      <td>NaN</td>\n",
              "      <td>NaN</td>\n",
              "      <td>NaN</td>\n",
              "      <td>NaN</td>\n",
              "      <td>NaN</td>\n",
              "      <td>2927408</td>\n",
              "      <td>Salvador</td>\n",
              "      <td>29</td>\n",
              "      <td>BA</td>\n",
              "      <td>0</td>\n",
              "      <td>0</td>\n",
              "      <td>0</td>\n",
              "      <td>0</td>\n",
              "      <td>NaN</td>\n",
              "      <td>NaN</td>\n",
              "      <td>NaN</td>\n",
              "      <td>NaN</td>\n",
              "      <td>NaN</td>\n",
              "      <td>NaN</td>\n",
              "      <td>NaN</td>\n",
              "      <td>NaN</td>\n",
              "      <td>NaN</td>\n",
              "      <td>NaN</td>\n",
              "      <td>NaN</td>\n",
              "      <td>NaN</td>\n",
              "      <td>0</td>\n",
              "      <td>NaN</td>\n",
              "      <td>NaN</td>\n",
              "      <td>NaN</td>\n",
              "      <td>NaN</td>\n",
              "      <td>NaN</td>\n",
              "      <td>NaN</td>\n",
              "      <td>NaN</td>\n",
              "      <td>NaN</td>\n",
              "      <td>NaN</td>\n",
              "      <td>NaN</td>\n",
              "      <td>NaN</td>\n",
              "    </tr>\n",
              "    <tr>\n",
              "      <th>10</th>\n",
              "      <td>210052237624</td>\n",
              "      <td>2021</td>\n",
              "      <td>5</td>\n",
              "      <td>M</td>\n",
              "      <td>1</td>\n",
              "      <td>2</td>\n",
              "      <td>1</td>\n",
              "      <td>2</td>\n",
              "      <td>0</td>\n",
              "      <td>2</td>\n",
              "      <td>1.0</td>\n",
              "      <td>0</td>\n",
              "      <td>2910503.0</td>\n",
              "      <td>Entre Rios</td>\n",
              "      <td>29.0</td>\n",
              "      <td>BA</td>\n",
              "      <td>2.0</td>\n",
              "      <td>1.0</td>\n",
              "      <td>1.0</td>\n",
              "      <td>2910503</td>\n",
              "      <td>Entre Rios</td>\n",
              "      <td>29</td>\n",
              "      <td>BA</td>\n",
              "      <td>1</td>\n",
              "      <td>1</td>\n",
              "      <td>1</td>\n",
              "      <td>1</td>\n",
              "      <td>909.0</td>\n",
              "      <td>881.0</td>\n",
              "      <td>892.0</td>\n",
              "      <td>899.0</td>\n",
              "      <td>594.4</td>\n",
              "      <td>572.8</td>\n",
              "      <td>536.6</td>\n",
              "      <td>469.6</td>\n",
              "      <td>DCADABEEABDAEDABADCABEACABDAEBECBBBDCCCDBCBCD</td>\n",
              "      <td>BEECCABABABBEAEACBADCAEBEDAABAEAEADCCCAAEEBAA</td>\n",
              "      <td>ABBAB99999ADDBAABABCBBBACADAEDBBCCEEEBEAACCDBE...</td>\n",
              "      <td>DABEACCEACAACBBABBBACCAACBBAAECBBCBEBCCCBABBD</td>\n",
              "      <td>0</td>\n",
              "      <td>EDECABEDABCBEBACCDCBBEEBBCBDAAECDCBDCDBBBADCD</td>\n",
              "      <td>BEECCAEABADBCAEBAAEEDDEBBBADBCBAAEEBBBADCCBBA</td>\n",
              "      <td>ABBACAAECACDBDDADEBDDCBDCEDBEDDBBBBDCEEAADABAC...</td>\n",
              "      <td>EEXEBABDDCECCBCCECDCAEBADEABBDBDEDCEDCCADDCAB</td>\n",
              "      <td>1.0</td>\n",
              "      <td>100.0</td>\n",
              "      <td>100.0</td>\n",
              "      <td>80.0</td>\n",
              "      <td>80.0</td>\n",
              "      <td>80.0</td>\n",
              "      <td>440.0</td>\n",
              "    </tr>\n",
              "  </tbody>\n",
              "</table>\n",
              "</div>\n",
              "    <div class=\"colab-df-buttons\">\n",
              "\n",
              "  <div class=\"colab-df-container\">\n",
              "    <button class=\"colab-df-convert\" onclick=\"convertToInteractive('df-e0cb13fd-d1da-4742-a6d7-e1d6145b55d1')\"\n",
              "            title=\"Convert this dataframe to an interactive table.\"\n",
              "            style=\"display:none;\">\n",
              "\n",
              "  <svg xmlns=\"http://www.w3.org/2000/svg\" height=\"24px\" viewBox=\"0 -960 960 960\">\n",
              "    <path d=\"M120-120v-720h720v720H120Zm60-500h600v-160H180v160Zm220 220h160v-160H400v160Zm0 220h160v-160H400v160ZM180-400h160v-160H180v160Zm440 0h160v-160H620v160ZM180-180h160v-160H180v160Zm440 0h160v-160H620v160Z\"/>\n",
              "  </svg>\n",
              "    </button>\n",
              "\n",
              "  <style>\n",
              "    .colab-df-container {\n",
              "      display:flex;\n",
              "      gap: 12px;\n",
              "    }\n",
              "\n",
              "    .colab-df-convert {\n",
              "      background-color: #E8F0FE;\n",
              "      border: none;\n",
              "      border-radius: 50%;\n",
              "      cursor: pointer;\n",
              "      display: none;\n",
              "      fill: #1967D2;\n",
              "      height: 32px;\n",
              "      padding: 0 0 0 0;\n",
              "      width: 32px;\n",
              "    }\n",
              "\n",
              "    .colab-df-convert:hover {\n",
              "      background-color: #E2EBFA;\n",
              "      box-shadow: 0px 1px 2px rgba(60, 64, 67, 0.3), 0px 1px 3px 1px rgba(60, 64, 67, 0.15);\n",
              "      fill: #174EA6;\n",
              "    }\n",
              "\n",
              "    .colab-df-buttons div {\n",
              "      margin-bottom: 4px;\n",
              "    }\n",
              "\n",
              "    [theme=dark] .colab-df-convert {\n",
              "      background-color: #3B4455;\n",
              "      fill: #D2E3FC;\n",
              "    }\n",
              "\n",
              "    [theme=dark] .colab-df-convert:hover {\n",
              "      background-color: #434B5C;\n",
              "      box-shadow: 0px 1px 3px 1px rgba(0, 0, 0, 0.15);\n",
              "      filter: drop-shadow(0px 1px 2px rgba(0, 0, 0, 0.3));\n",
              "      fill: #FFFFFF;\n",
              "    }\n",
              "  </style>\n",
              "\n",
              "    <script>\n",
              "      const buttonEl =\n",
              "        document.querySelector('#df-e0cb13fd-d1da-4742-a6d7-e1d6145b55d1 button.colab-df-convert');\n",
              "      buttonEl.style.display =\n",
              "        google.colab.kernel.accessAllowed ? 'block' : 'none';\n",
              "\n",
              "      async function convertToInteractive(key) {\n",
              "        const element = document.querySelector('#df-e0cb13fd-d1da-4742-a6d7-e1d6145b55d1');\n",
              "        const dataTable =\n",
              "          await google.colab.kernel.invokeFunction('convertToInteractive',\n",
              "                                                    [key], {});\n",
              "        if (!dataTable) return;\n",
              "\n",
              "        const docLinkHtml = 'Like what you see? Visit the ' +\n",
              "          '<a target=\"_blank\" href=https://colab.research.google.com/notebooks/data_table.ipynb>data table notebook</a>'\n",
              "          + ' to learn more about interactive tables.';\n",
              "        element.innerHTML = '';\n",
              "        dataTable['output_type'] = 'display_data';\n",
              "        await google.colab.output.renderOutput(dataTable, element);\n",
              "        const docLink = document.createElement('div');\n",
              "        docLink.innerHTML = docLinkHtml;\n",
              "        element.appendChild(docLink);\n",
              "      }\n",
              "    </script>\n",
              "  </div>\n",
              "\n",
              "\n",
              "    <div id=\"df-4cd0b763-dc72-4031-95e2-14690339c7b9\">\n",
              "      <button class=\"colab-df-quickchart\" onclick=\"quickchart('df-4cd0b763-dc72-4031-95e2-14690339c7b9')\"\n",
              "                title=\"Suggest charts\"\n",
              "                style=\"display:none;\">\n",
              "\n",
              "<svg xmlns=\"http://www.w3.org/2000/svg\" height=\"24px\"viewBox=\"0 0 24 24\"\n",
              "     width=\"24px\">\n",
              "    <g>\n",
              "        <path d=\"M19 3H5c-1.1 0-2 .9-2 2v14c0 1.1.9 2 2 2h14c1.1 0 2-.9 2-2V5c0-1.1-.9-2-2-2zM9 17H7v-7h2v7zm4 0h-2V7h2v10zm4 0h-2v-4h2v4z\"/>\n",
              "    </g>\n",
              "</svg>\n",
              "      </button>\n",
              "\n",
              "<style>\n",
              "  .colab-df-quickchart {\n",
              "      --bg-color: #E8F0FE;\n",
              "      --fill-color: #1967D2;\n",
              "      --hover-bg-color: #E2EBFA;\n",
              "      --hover-fill-color: #174EA6;\n",
              "      --disabled-fill-color: #AAA;\n",
              "      --disabled-bg-color: #DDD;\n",
              "  }\n",
              "\n",
              "  [theme=dark] .colab-df-quickchart {\n",
              "      --bg-color: #3B4455;\n",
              "      --fill-color: #D2E3FC;\n",
              "      --hover-bg-color: #434B5C;\n",
              "      --hover-fill-color: #FFFFFF;\n",
              "      --disabled-bg-color: #3B4455;\n",
              "      --disabled-fill-color: #666;\n",
              "  }\n",
              "\n",
              "  .colab-df-quickchart {\n",
              "    background-color: var(--bg-color);\n",
              "    border: none;\n",
              "    border-radius: 50%;\n",
              "    cursor: pointer;\n",
              "    display: none;\n",
              "    fill: var(--fill-color);\n",
              "    height: 32px;\n",
              "    padding: 0;\n",
              "    width: 32px;\n",
              "  }\n",
              "\n",
              "  .colab-df-quickchart:hover {\n",
              "    background-color: var(--hover-bg-color);\n",
              "    box-shadow: 0 1px 2px rgba(60, 64, 67, 0.3), 0 1px 3px 1px rgba(60, 64, 67, 0.15);\n",
              "    fill: var(--button-hover-fill-color);\n",
              "  }\n",
              "\n",
              "  .colab-df-quickchart-complete:disabled,\n",
              "  .colab-df-quickchart-complete:disabled:hover {\n",
              "    background-color: var(--disabled-bg-color);\n",
              "    fill: var(--disabled-fill-color);\n",
              "    box-shadow: none;\n",
              "  }\n",
              "\n",
              "  .colab-df-spinner {\n",
              "    border: 2px solid var(--fill-color);\n",
              "    border-color: transparent;\n",
              "    border-bottom-color: var(--fill-color);\n",
              "    animation:\n",
              "      spin 1s steps(1) infinite;\n",
              "  }\n",
              "\n",
              "  @keyframes spin {\n",
              "    0% {\n",
              "      border-color: transparent;\n",
              "      border-bottom-color: var(--fill-color);\n",
              "      border-left-color: var(--fill-color);\n",
              "    }\n",
              "    20% {\n",
              "      border-color: transparent;\n",
              "      border-left-color: var(--fill-color);\n",
              "      border-top-color: var(--fill-color);\n",
              "    }\n",
              "    30% {\n",
              "      border-color: transparent;\n",
              "      border-left-color: var(--fill-color);\n",
              "      border-top-color: var(--fill-color);\n",
              "      border-right-color: var(--fill-color);\n",
              "    }\n",
              "    40% {\n",
              "      border-color: transparent;\n",
              "      border-right-color: var(--fill-color);\n",
              "      border-top-color: var(--fill-color);\n",
              "    }\n",
              "    60% {\n",
              "      border-color: transparent;\n",
              "      border-right-color: var(--fill-color);\n",
              "    }\n",
              "    80% {\n",
              "      border-color: transparent;\n",
              "      border-right-color: var(--fill-color);\n",
              "      border-bottom-color: var(--fill-color);\n",
              "    }\n",
              "    90% {\n",
              "      border-color: transparent;\n",
              "      border-bottom-color: var(--fill-color);\n",
              "    }\n",
              "  }\n",
              "</style>\n",
              "\n",
              "      <script>\n",
              "        async function quickchart(key) {\n",
              "          const quickchartButtonEl =\n",
              "            document.querySelector('#' + key + ' button');\n",
              "          quickchartButtonEl.disabled = true;  // To prevent multiple clicks.\n",
              "          quickchartButtonEl.classList.add('colab-df-spinner');\n",
              "          try {\n",
              "            const charts = await google.colab.kernel.invokeFunction(\n",
              "                'suggestCharts', [key], {});\n",
              "          } catch (error) {\n",
              "            console.error('Error during call to suggestCharts:', error);\n",
              "          }\n",
              "          quickchartButtonEl.classList.remove('colab-df-spinner');\n",
              "          quickchartButtonEl.classList.add('colab-df-quickchart-complete');\n",
              "        }\n",
              "        (() => {\n",
              "          let quickchartButtonEl =\n",
              "            document.querySelector('#df-4cd0b763-dc72-4031-95e2-14690339c7b9 button');\n",
              "          quickchartButtonEl.style.display =\n",
              "            google.colab.kernel.accessAllowed ? 'block' : 'none';\n",
              "        })();\n",
              "      </script>\n",
              "    </div>\n",
              "\n",
              "    </div>\n",
              "  </div>\n"
            ],
            "application/vnd.google.colaboratory.intrinsic+json": {
              "type": "dataframe"
            }
          },
          "metadata": {},
          "execution_count": 58
        }
      ]
    },
    {
      "cell_type": "code",
      "source": [
        "#A mesma coias de cima, mas agora com uma variável\n",
        "mask = dados[\"TP_SEXO\"] == \"M\""
      ],
      "metadata": {
        "id": "LneGDuKqhrKy"
      },
      "execution_count": 62,
      "outputs": []
    },
    {
      "cell_type": "markdown",
      "source": [
        "Ambos os resultados são os mesmos, o que muda é apenas a forma de escrever"
      ],
      "metadata": {
        "id": "Ow4SoYD_itFZ"
      }
    },
    {
      "cell_type": "code",
      "source": [
        "dados[mask].head()"
      ],
      "metadata": {
        "colab": {
          "base_uri": "https://localhost:8080/",
          "height": 226
        },
        "id": "BbtZaV_0ioxN",
        "outputId": "e04eb34e-ba1e-4133-acf7-be2ad3e7e510"
      },
      "execution_count": 64,
      "outputs": [
        {
          "output_type": "execute_result",
          "data": {
            "text/plain": [
              "    NU_INSCRICAO  NU_ANO  TP_FAIXA_ETARIA TP_SEXO  TP_ESTADO_CIVIL  \\\n",
              "4   210053156861    2021                9       M                1   \n",
              "5   210053085526    2021                3       M                1   \n",
              "7   210053790986    2021                1       M                1   \n",
              "9   210054171092    2021                4       M                1   \n",
              "10  210052237624    2021                5       M                1   \n",
              "\n",
              "    TP_COR_RACA  TP_NACIONALIDADE  TP_ST_CONCLUSAO  TP_ANO_CONCLUIU  \\\n",
              "4             2                 1                1                5   \n",
              "5             1                 1                2                0   \n",
              "7             1                 1                2                0   \n",
              "9             2                 1                1                1   \n",
              "10            2                 1                2                0   \n",
              "\n",
              "    TP_ESCOLA  TP_ENSINO  IN_TREINEIRO  CO_MUNICIPIO_ESC NO_MUNICIPIO_ESC  \\\n",
              "4           1        NaN             0               NaN              NaN   \n",
              "5           2        1.0             0         2932606.0           Urandi   \n",
              "7           2        1.0             0               NaN              NaN   \n",
              "9           1        NaN             0               NaN              NaN   \n",
              "10          2        1.0             0         2910503.0       Entre Rios   \n",
              "\n",
              "    CO_UF_ESC SG_UF_ESC  TP_DEPENDENCIA_ADM_ESC  TP_LOCALIZACAO_ESC  \\\n",
              "4         NaN       NaN                     NaN                 NaN   \n",
              "5        29.0        BA                     2.0                 1.0   \n",
              "7         NaN       NaN                     NaN                 NaN   \n",
              "9         NaN       NaN                     NaN                 NaN   \n",
              "10       29.0        BA                     2.0                 1.0   \n",
              "\n",
              "    TP_SIT_FUNC_ESC  CO_MUNICIPIO_PROVA NO_MUNICIPIO_PROVA  CO_UF_PROVA  \\\n",
              "4               NaN             2910800   Feira de Santana           29   \n",
              "5               1.0             2932606             Urandi           29   \n",
              "7               NaN             2907202          Casa Nova           29   \n",
              "9               NaN             2927408           Salvador           29   \n",
              "10              1.0             2910503         Entre Rios           29   \n",
              "\n",
              "   SG_UF_PROVA  TP_PRESENCA_CN  TP_PRESENCA_CH  TP_PRESENCA_LC  \\\n",
              "4           BA               1               1               1   \n",
              "5           BA               1               1               1   \n",
              "7           BA               1               1               1   \n",
              "9           BA               0               0               0   \n",
              "10          BA               1               1               1   \n",
              "\n",
              "    TP_PRESENCA_MT  CO_PROVA_CN  CO_PROVA_CH  CO_PROVA_LC  CO_PROVA_MT  \\\n",
              "4                1       1014.0       1000.0       1004.0       1010.0   \n",
              "5                1        910.0        879.0        889.0        900.0   \n",
              "7                1        912.0        882.0        891.0        901.0   \n",
              "9                0          NaN          NaN          NaN          NaN   \n",
              "10               1        909.0        881.0        892.0        899.0   \n",
              "\n",
              "    NU_NOTA_CN  NU_NOTA_CH  NU_NOTA_LC  NU_NOTA_MT  \\\n",
              "4        465.2       613.1       522.1       579.6   \n",
              "5        414.6       410.1       386.7       423.0   \n",
              "7        590.9       659.7       593.6       586.8   \n",
              "9          NaN         NaN         NaN         NaN   \n",
              "10       594.4       572.8       536.6       469.6   \n",
              "\n",
              "                                  TX_RESPOSTAS_CN  \\\n",
              "4   CDCCBDBBDCBACEBDACBCACADBCBECCEBCDDEBDACEECCD   \n",
              "5   CBCAEDDBBCBABADAABECACCEBDEABCCAECEECCDBCBDCB   \n",
              "7   BADCBEEBECDDEABAEDEBCDCCDABBBEBBDDACCCADBEACE   \n",
              "9                                             NaN   \n",
              "10  DCADABEEABDAEDABADCABEACABDAEBECBBBDCCCDBCBCD   \n",
              "\n",
              "                                  TX_RESPOSTAS_CH  \\\n",
              "4   CCBAADECCBACBECCBEADAEBEACBEBBEADEBBABDACDEBC   \n",
              "5   BACDABADEBACEDCACDADBCBDBDBECADBEDAEBDCAEBDCA   \n",
              "7   EBBBEADACABBBADEECBAAEDDBBADCDADBCADDEBBCCEAB   \n",
              "9                                             NaN   \n",
              "10  BEECCABABABBEAEACBADCAEBEDAABAEAEADCCCAAEEBAA   \n",
              "\n",
              "                                      TX_RESPOSTAS_LC  \\\n",
              "4   BADCE99999DABAABBABBBCEDBDCDABEABCBBDCACBABAAA...   \n",
              "5   BAEAB99999CACBABEBADECADCEDCBCADABDEDBDCABCACB...   \n",
              "7   ACBAB99999DCEADCADACBDEAEDDABDADCBBBDABCDDDECB...   \n",
              "9                                                 NaN   \n",
              "10  ABBAB99999ADDBAABABCBBBACADAEDBBCCEEEBEAACCDBE...   \n",
              "\n",
              "                                  TX_RESPOSTAS_MT  TP_LINGUA  \\\n",
              "4   CCBACBBCCCCEDDDDCBCCDCACCCBBBDDDBCBADDBCABACA          0   \n",
              "5   EACDCADDDCDBADABACEDEDCECBDCCBEAACEADEAECCCEC          0   \n",
              "7   DDEBEEEDDDCAEEBACBEAADDDCCEDEEBABEECEBEEBCAAC          0   \n",
              "9                                             NaN          0   \n",
              "10  DABEACCEACAACBBABBBACCAACBBAAECBBCBEBCCCBABBD          0   \n",
              "\n",
              "                                   TX_GABARITO_CN  \\\n",
              "4   CDBBBCABEDEDEAAEBACCCBDABCDCBCBDECDADCDBBEEBB   \n",
              "5   ADCDCDBBBECDCCDCBCBDABCAADCBEBABEEBBBCABEDEDE   \n",
              "7   DABCEDEBEEBBCABEDDCBCBECDADCDAACBDCCCDBBBEBAB   \n",
              "9                                             NaN   \n",
              "10  EDECABEDABCBEBACCDCBBEEBBCBDAAECDCBDCDBBBADCD   \n",
              "\n",
              "                                   TX_GABARITO_CH  \\\n",
              "4   BBBAAEECBBABEECEBAAEADBCACAEABEDDEBBBADBCBADC   \n",
              "5   BADCBADBCEDDEBBADBCABEECCAEABEBAAECBBABAAEEBB   \n",
              "7   EBAAEADBCACBBABEECBAAEEBBBADCBADBCEDDEBBCAEAB   \n",
              "9                                             NaN   \n",
              "10  BEECCAEABADBCAEBAAEEDDEBBBADBCBAAEEBBBADCCBBA   \n",
              "\n",
              "                                       TX_GABARITO_LC  \\\n",
              "4   ABBCAEAACADDCACDCADABBBBDEBBACEADCEBDDACEEDDDB...   \n",
              "5   CAABBCAEAABDCDEADCEDBEDDDABBBBDEBCEADABDBACACD...   \n",
              "7   ACABBACAEADCEADABDACDCEABDDADBEDDDEBBACCDDDCCE...   \n",
              "9                                                 NaN   \n",
              "10  ABBACAAECACDBDDADEBDDCBDCEDBEDDBBBBDCEEAADABAC...   \n",
              "\n",
              "                                   TX_GABARITO_MT  TP_STATUS_REDACAO  \\\n",
              "4   ECCCABBDBDDDCEDDCABXEEEBABEDCEDCCAEBADBCCECDA                1.0   \n",
              "5   DDCABDCCAEDCEBBDBDAEEBADCAECDBCCCCDDCEEBABXEE                1.0   \n",
              "7   DCCAEBABDDCABEECCBCCEXADDCEECDEBADCABBDBDEDCE                1.0   \n",
              "9                                             NaN                NaN   \n",
              "10  EEXEBABDDCECCBCCECDCAEBADEABBDBDEDCEDCCADDCAB                1.0   \n",
              "\n",
              "    NU_NOTA_COMP1  NU_NOTA_COMP2  NU_NOTA_COMP3  NU_NOTA_COMP4  NU_NOTA_COMP5  \\\n",
              "4           100.0          120.0          100.0          120.0          100.0   \n",
              "5           120.0          180.0          140.0          160.0          100.0   \n",
              "7           160.0          180.0          160.0          200.0          200.0   \n",
              "9             NaN            NaN            NaN            NaN            NaN   \n",
              "10          100.0          100.0           80.0           80.0           80.0   \n",
              "\n",
              "    NU_NOTA_REDACAO  \n",
              "4             540.0  \n",
              "5             700.0  \n",
              "7             900.0  \n",
              "9               NaN  \n",
              "10            440.0  "
            ],
            "text/html": [
              "\n",
              "  <div id=\"df-39a7c4e5-765b-40a0-9df2-29af7305a055\" class=\"colab-df-container\">\n",
              "    <div>\n",
              "<style scoped>\n",
              "    .dataframe tbody tr th:only-of-type {\n",
              "        vertical-align: middle;\n",
              "    }\n",
              "\n",
              "    .dataframe tbody tr th {\n",
              "        vertical-align: top;\n",
              "    }\n",
              "\n",
              "    .dataframe thead th {\n",
              "        text-align: right;\n",
              "    }\n",
              "</style>\n",
              "<table border=\"1\" class=\"dataframe\">\n",
              "  <thead>\n",
              "    <tr style=\"text-align: right;\">\n",
              "      <th></th>\n",
              "      <th>NU_INSCRICAO</th>\n",
              "      <th>NU_ANO</th>\n",
              "      <th>TP_FAIXA_ETARIA</th>\n",
              "      <th>TP_SEXO</th>\n",
              "      <th>TP_ESTADO_CIVIL</th>\n",
              "      <th>TP_COR_RACA</th>\n",
              "      <th>TP_NACIONALIDADE</th>\n",
              "      <th>TP_ST_CONCLUSAO</th>\n",
              "      <th>TP_ANO_CONCLUIU</th>\n",
              "      <th>TP_ESCOLA</th>\n",
              "      <th>TP_ENSINO</th>\n",
              "      <th>IN_TREINEIRO</th>\n",
              "      <th>CO_MUNICIPIO_ESC</th>\n",
              "      <th>NO_MUNICIPIO_ESC</th>\n",
              "      <th>CO_UF_ESC</th>\n",
              "      <th>SG_UF_ESC</th>\n",
              "      <th>TP_DEPENDENCIA_ADM_ESC</th>\n",
              "      <th>TP_LOCALIZACAO_ESC</th>\n",
              "      <th>TP_SIT_FUNC_ESC</th>\n",
              "      <th>CO_MUNICIPIO_PROVA</th>\n",
              "      <th>NO_MUNICIPIO_PROVA</th>\n",
              "      <th>CO_UF_PROVA</th>\n",
              "      <th>SG_UF_PROVA</th>\n",
              "      <th>TP_PRESENCA_CN</th>\n",
              "      <th>TP_PRESENCA_CH</th>\n",
              "      <th>TP_PRESENCA_LC</th>\n",
              "      <th>TP_PRESENCA_MT</th>\n",
              "      <th>CO_PROVA_CN</th>\n",
              "      <th>CO_PROVA_CH</th>\n",
              "      <th>CO_PROVA_LC</th>\n",
              "      <th>CO_PROVA_MT</th>\n",
              "      <th>NU_NOTA_CN</th>\n",
              "      <th>NU_NOTA_CH</th>\n",
              "      <th>NU_NOTA_LC</th>\n",
              "      <th>NU_NOTA_MT</th>\n",
              "      <th>TX_RESPOSTAS_CN</th>\n",
              "      <th>TX_RESPOSTAS_CH</th>\n",
              "      <th>TX_RESPOSTAS_LC</th>\n",
              "      <th>TX_RESPOSTAS_MT</th>\n",
              "      <th>TP_LINGUA</th>\n",
              "      <th>TX_GABARITO_CN</th>\n",
              "      <th>TX_GABARITO_CH</th>\n",
              "      <th>TX_GABARITO_LC</th>\n",
              "      <th>TX_GABARITO_MT</th>\n",
              "      <th>TP_STATUS_REDACAO</th>\n",
              "      <th>NU_NOTA_COMP1</th>\n",
              "      <th>NU_NOTA_COMP2</th>\n",
              "      <th>NU_NOTA_COMP3</th>\n",
              "      <th>NU_NOTA_COMP4</th>\n",
              "      <th>NU_NOTA_COMP5</th>\n",
              "      <th>NU_NOTA_REDACAO</th>\n",
              "    </tr>\n",
              "  </thead>\n",
              "  <tbody>\n",
              "    <tr>\n",
              "      <th>4</th>\n",
              "      <td>210053156861</td>\n",
              "      <td>2021</td>\n",
              "      <td>9</td>\n",
              "      <td>M</td>\n",
              "      <td>1</td>\n",
              "      <td>2</td>\n",
              "      <td>1</td>\n",
              "      <td>1</td>\n",
              "      <td>5</td>\n",
              "      <td>1</td>\n",
              "      <td>NaN</td>\n",
              "      <td>0</td>\n",
              "      <td>NaN</td>\n",
              "      <td>NaN</td>\n",
              "      <td>NaN</td>\n",
              "      <td>NaN</td>\n",
              "      <td>NaN</td>\n",
              "      <td>NaN</td>\n",
              "      <td>NaN</td>\n",
              "      <td>2910800</td>\n",
              "      <td>Feira de Santana</td>\n",
              "      <td>29</td>\n",
              "      <td>BA</td>\n",
              "      <td>1</td>\n",
              "      <td>1</td>\n",
              "      <td>1</td>\n",
              "      <td>1</td>\n",
              "      <td>1014.0</td>\n",
              "      <td>1000.0</td>\n",
              "      <td>1004.0</td>\n",
              "      <td>1010.0</td>\n",
              "      <td>465.2</td>\n",
              "      <td>613.1</td>\n",
              "      <td>522.1</td>\n",
              "      <td>579.6</td>\n",
              "      <td>CDCCBDBBDCBACEBDACBCACADBCBECCEBCDDEBDACEECCD</td>\n",
              "      <td>CCBAADECCBACBECCBEADAEBEACBEBBEADEBBABDACDEBC</td>\n",
              "      <td>BADCE99999DABAABBABBBCEDBDCDABEABCBBDCACBABAAA...</td>\n",
              "      <td>CCBACBBCCCCEDDDDCBCCDCACCCBBBDDDBCBADDBCABACA</td>\n",
              "      <td>0</td>\n",
              "      <td>CDBBBCABEDEDEAAEBACCCBDABCDCBCBDECDADCDBBEEBB</td>\n",
              "      <td>BBBAAEECBBABEECEBAAEADBCACAEABEDDEBBBADBCBADC</td>\n",
              "      <td>ABBCAEAACADDCACDCADABBBBDEBBACEADCEBDDACEEDDDB...</td>\n",
              "      <td>ECCCABBDBDDDCEDDCABXEEEBABEDCEDCCAEBADBCCECDA</td>\n",
              "      <td>1.0</td>\n",
              "      <td>100.0</td>\n",
              "      <td>120.0</td>\n",
              "      <td>100.0</td>\n",
              "      <td>120.0</td>\n",
              "      <td>100.0</td>\n",
              "      <td>540.0</td>\n",
              "    </tr>\n",
              "    <tr>\n",
              "      <th>5</th>\n",
              "      <td>210053085526</td>\n",
              "      <td>2021</td>\n",
              "      <td>3</td>\n",
              "      <td>M</td>\n",
              "      <td>1</td>\n",
              "      <td>1</td>\n",
              "      <td>1</td>\n",
              "      <td>2</td>\n",
              "      <td>0</td>\n",
              "      <td>2</td>\n",
              "      <td>1.0</td>\n",
              "      <td>0</td>\n",
              "      <td>2932606.0</td>\n",
              "      <td>Urandi</td>\n",
              "      <td>29.0</td>\n",
              "      <td>BA</td>\n",
              "      <td>2.0</td>\n",
              "      <td>1.0</td>\n",
              "      <td>1.0</td>\n",
              "      <td>2932606</td>\n",
              "      <td>Urandi</td>\n",
              "      <td>29</td>\n",
              "      <td>BA</td>\n",
              "      <td>1</td>\n",
              "      <td>1</td>\n",
              "      <td>1</td>\n",
              "      <td>1</td>\n",
              "      <td>910.0</td>\n",
              "      <td>879.0</td>\n",
              "      <td>889.0</td>\n",
              "      <td>900.0</td>\n",
              "      <td>414.6</td>\n",
              "      <td>410.1</td>\n",
              "      <td>386.7</td>\n",
              "      <td>423.0</td>\n",
              "      <td>CBCAEDDBBCBABADAABECACCEBDEABCCAECEECCDBCBDCB</td>\n",
              "      <td>BACDABADEBACEDCACDADBCBDBDBECADBEDAEBDCAEBDCA</td>\n",
              "      <td>BAEAB99999CACBABEBADECADCEDCBCADABDEDBDCABCACB...</td>\n",
              "      <td>EACDCADDDCDBADABACEDEDCECBDCCBEAACEADEAECCCEC</td>\n",
              "      <td>0</td>\n",
              "      <td>ADCDCDBBBECDCCDCBCBDABCAADCBEBABEEBBBCABEDEDE</td>\n",
              "      <td>BADCBADBCEDDEBBADBCABEECCAEABEBAAECBBABAAEEBB</td>\n",
              "      <td>CAABBCAEAABDCDEADCEDBEDDDABBBBDEBCEADABDBACACD...</td>\n",
              "      <td>DDCABDCCAEDCEBBDBDAEEBADCAECDBCCCCDDCEEBABXEE</td>\n",
              "      <td>1.0</td>\n",
              "      <td>120.0</td>\n",
              "      <td>180.0</td>\n",
              "      <td>140.0</td>\n",
              "      <td>160.0</td>\n",
              "      <td>100.0</td>\n",
              "      <td>700.0</td>\n",
              "    </tr>\n",
              "    <tr>\n",
              "      <th>7</th>\n",
              "      <td>210053790986</td>\n",
              "      <td>2021</td>\n",
              "      <td>1</td>\n",
              "      <td>M</td>\n",
              "      <td>1</td>\n",
              "      <td>1</td>\n",
              "      <td>1</td>\n",
              "      <td>2</td>\n",
              "      <td>0</td>\n",
              "      <td>2</td>\n",
              "      <td>1.0</td>\n",
              "      <td>0</td>\n",
              "      <td>NaN</td>\n",
              "      <td>NaN</td>\n",
              "      <td>NaN</td>\n",
              "      <td>NaN</td>\n",
              "      <td>NaN</td>\n",
              "      <td>NaN</td>\n",
              "      <td>NaN</td>\n",
              "      <td>2907202</td>\n",
              "      <td>Casa Nova</td>\n",
              "      <td>29</td>\n",
              "      <td>BA</td>\n",
              "      <td>1</td>\n",
              "      <td>1</td>\n",
              "      <td>1</td>\n",
              "      <td>1</td>\n",
              "      <td>912.0</td>\n",
              "      <td>882.0</td>\n",
              "      <td>891.0</td>\n",
              "      <td>901.0</td>\n",
              "      <td>590.9</td>\n",
              "      <td>659.7</td>\n",
              "      <td>593.6</td>\n",
              "      <td>586.8</td>\n",
              "      <td>BADCBEEBECDDEABAEDEBCDCCDABBBEBBDDACCCADBEACE</td>\n",
              "      <td>EBBBEADACABBBADEECBAAEDDBBADCDADBCADDEBBCCEAB</td>\n",
              "      <td>ACBAB99999DCEADCADACBDEAEDDABDADCBBBDABCDDDECB...</td>\n",
              "      <td>DDEBEEEDDDCAEEBACBEAADDDCCEDEEBABEECEBEEBCAAC</td>\n",
              "      <td>0</td>\n",
              "      <td>DABCEDEBEEBBCABEDDCBCBECDADCDAACBDCCCDBBBEBAB</td>\n",
              "      <td>EBAAEADBCACBBABEECBAAEEBBBADCBADBCEDDEBBCAEAB</td>\n",
              "      <td>ACABBACAEADCEADABDACDCEABDDADBEDDDEBBACCDDDCCE...</td>\n",
              "      <td>DCCAEBABDDCABEECCBCCEXADDCEECDEBADCABBDBDEDCE</td>\n",
              "      <td>1.0</td>\n",
              "      <td>160.0</td>\n",
              "      <td>180.0</td>\n",
              "      <td>160.0</td>\n",
              "      <td>200.0</td>\n",
              "      <td>200.0</td>\n",
              "      <td>900.0</td>\n",
              "    </tr>\n",
              "    <tr>\n",
              "      <th>9</th>\n",
              "      <td>210054171092</td>\n",
              "      <td>2021</td>\n",
              "      <td>4</td>\n",
              "      <td>M</td>\n",
              "      <td>1</td>\n",
              "      <td>2</td>\n",
              "      <td>1</td>\n",
              "      <td>1</td>\n",
              "      <td>1</td>\n",
              "      <td>1</td>\n",
              "      <td>NaN</td>\n",
              "      <td>0</td>\n",
              "      <td>NaN</td>\n",
              "      <td>NaN</td>\n",
              "      <td>NaN</td>\n",
              "      <td>NaN</td>\n",
              "      <td>NaN</td>\n",
              "      <td>NaN</td>\n",
              "      <td>NaN</td>\n",
              "      <td>2927408</td>\n",
              "      <td>Salvador</td>\n",
              "      <td>29</td>\n",
              "      <td>BA</td>\n",
              "      <td>0</td>\n",
              "      <td>0</td>\n",
              "      <td>0</td>\n",
              "      <td>0</td>\n",
              "      <td>NaN</td>\n",
              "      <td>NaN</td>\n",
              "      <td>NaN</td>\n",
              "      <td>NaN</td>\n",
              "      <td>NaN</td>\n",
              "      <td>NaN</td>\n",
              "      <td>NaN</td>\n",
              "      <td>NaN</td>\n",
              "      <td>NaN</td>\n",
              "      <td>NaN</td>\n",
              "      <td>NaN</td>\n",
              "      <td>NaN</td>\n",
              "      <td>0</td>\n",
              "      <td>NaN</td>\n",
              "      <td>NaN</td>\n",
              "      <td>NaN</td>\n",
              "      <td>NaN</td>\n",
              "      <td>NaN</td>\n",
              "      <td>NaN</td>\n",
              "      <td>NaN</td>\n",
              "      <td>NaN</td>\n",
              "      <td>NaN</td>\n",
              "      <td>NaN</td>\n",
              "      <td>NaN</td>\n",
              "    </tr>\n",
              "    <tr>\n",
              "      <th>10</th>\n",
              "      <td>210052237624</td>\n",
              "      <td>2021</td>\n",
              "      <td>5</td>\n",
              "      <td>M</td>\n",
              "      <td>1</td>\n",
              "      <td>2</td>\n",
              "      <td>1</td>\n",
              "      <td>2</td>\n",
              "      <td>0</td>\n",
              "      <td>2</td>\n",
              "      <td>1.0</td>\n",
              "      <td>0</td>\n",
              "      <td>2910503.0</td>\n",
              "      <td>Entre Rios</td>\n",
              "      <td>29.0</td>\n",
              "      <td>BA</td>\n",
              "      <td>2.0</td>\n",
              "      <td>1.0</td>\n",
              "      <td>1.0</td>\n",
              "      <td>2910503</td>\n",
              "      <td>Entre Rios</td>\n",
              "      <td>29</td>\n",
              "      <td>BA</td>\n",
              "      <td>1</td>\n",
              "      <td>1</td>\n",
              "      <td>1</td>\n",
              "      <td>1</td>\n",
              "      <td>909.0</td>\n",
              "      <td>881.0</td>\n",
              "      <td>892.0</td>\n",
              "      <td>899.0</td>\n",
              "      <td>594.4</td>\n",
              "      <td>572.8</td>\n",
              "      <td>536.6</td>\n",
              "      <td>469.6</td>\n",
              "      <td>DCADABEEABDAEDABADCABEACABDAEBECBBBDCCCDBCBCD</td>\n",
              "      <td>BEECCABABABBEAEACBADCAEBEDAABAEAEADCCCAAEEBAA</td>\n",
              "      <td>ABBAB99999ADDBAABABCBBBACADAEDBBCCEEEBEAACCDBE...</td>\n",
              "      <td>DABEACCEACAACBBABBBACCAACBBAAECBBCBEBCCCBABBD</td>\n",
              "      <td>0</td>\n",
              "      <td>EDECABEDABCBEBACCDCBBEEBBCBDAAECDCBDCDBBBADCD</td>\n",
              "      <td>BEECCAEABADBCAEBAAEEDDEBBBADBCBAAEEBBBADCCBBA</td>\n",
              "      <td>ABBACAAECACDBDDADEBDDCBDCEDBEDDBBBBDCEEAADABAC...</td>\n",
              "      <td>EEXEBABDDCECCBCCECDCAEBADEABBDBDEDCEDCCADDCAB</td>\n",
              "      <td>1.0</td>\n",
              "      <td>100.0</td>\n",
              "      <td>100.0</td>\n",
              "      <td>80.0</td>\n",
              "      <td>80.0</td>\n",
              "      <td>80.0</td>\n",
              "      <td>440.0</td>\n",
              "    </tr>\n",
              "  </tbody>\n",
              "</table>\n",
              "</div>\n",
              "    <div class=\"colab-df-buttons\">\n",
              "\n",
              "  <div class=\"colab-df-container\">\n",
              "    <button class=\"colab-df-convert\" onclick=\"convertToInteractive('df-39a7c4e5-765b-40a0-9df2-29af7305a055')\"\n",
              "            title=\"Convert this dataframe to an interactive table.\"\n",
              "            style=\"display:none;\">\n",
              "\n",
              "  <svg xmlns=\"http://www.w3.org/2000/svg\" height=\"24px\" viewBox=\"0 -960 960 960\">\n",
              "    <path d=\"M120-120v-720h720v720H120Zm60-500h600v-160H180v160Zm220 220h160v-160H400v160Zm0 220h160v-160H400v160ZM180-400h160v-160H180v160Zm440 0h160v-160H620v160ZM180-180h160v-160H180v160Zm440 0h160v-160H620v160Z\"/>\n",
              "  </svg>\n",
              "    </button>\n",
              "\n",
              "  <style>\n",
              "    .colab-df-container {\n",
              "      display:flex;\n",
              "      gap: 12px;\n",
              "    }\n",
              "\n",
              "    .colab-df-convert {\n",
              "      background-color: #E8F0FE;\n",
              "      border: none;\n",
              "      border-radius: 50%;\n",
              "      cursor: pointer;\n",
              "      display: none;\n",
              "      fill: #1967D2;\n",
              "      height: 32px;\n",
              "      padding: 0 0 0 0;\n",
              "      width: 32px;\n",
              "    }\n",
              "\n",
              "    .colab-df-convert:hover {\n",
              "      background-color: #E2EBFA;\n",
              "      box-shadow: 0px 1px 2px rgba(60, 64, 67, 0.3), 0px 1px 3px 1px rgba(60, 64, 67, 0.15);\n",
              "      fill: #174EA6;\n",
              "    }\n",
              "\n",
              "    .colab-df-buttons div {\n",
              "      margin-bottom: 4px;\n",
              "    }\n",
              "\n",
              "    [theme=dark] .colab-df-convert {\n",
              "      background-color: #3B4455;\n",
              "      fill: #D2E3FC;\n",
              "    }\n",
              "\n",
              "    [theme=dark] .colab-df-convert:hover {\n",
              "      background-color: #434B5C;\n",
              "      box-shadow: 0px 1px 3px 1px rgba(0, 0, 0, 0.15);\n",
              "      filter: drop-shadow(0px 1px 2px rgba(0, 0, 0, 0.3));\n",
              "      fill: #FFFFFF;\n",
              "    }\n",
              "  </style>\n",
              "\n",
              "    <script>\n",
              "      const buttonEl =\n",
              "        document.querySelector('#df-39a7c4e5-765b-40a0-9df2-29af7305a055 button.colab-df-convert');\n",
              "      buttonEl.style.display =\n",
              "        google.colab.kernel.accessAllowed ? 'block' : 'none';\n",
              "\n",
              "      async function convertToInteractive(key) {\n",
              "        const element = document.querySelector('#df-39a7c4e5-765b-40a0-9df2-29af7305a055');\n",
              "        const dataTable =\n",
              "          await google.colab.kernel.invokeFunction('convertToInteractive',\n",
              "                                                    [key], {});\n",
              "        if (!dataTable) return;\n",
              "\n",
              "        const docLinkHtml = 'Like what you see? Visit the ' +\n",
              "          '<a target=\"_blank\" href=https://colab.research.google.com/notebooks/data_table.ipynb>data table notebook</a>'\n",
              "          + ' to learn more about interactive tables.';\n",
              "        element.innerHTML = '';\n",
              "        dataTable['output_type'] = 'display_data';\n",
              "        await google.colab.output.renderOutput(dataTable, element);\n",
              "        const docLink = document.createElement('div');\n",
              "        docLink.innerHTML = docLinkHtml;\n",
              "        element.appendChild(docLink);\n",
              "      }\n",
              "    </script>\n",
              "  </div>\n",
              "\n",
              "\n",
              "    <div id=\"df-10486519-de45-4f51-ad09-9c03145a3db5\">\n",
              "      <button class=\"colab-df-quickchart\" onclick=\"quickchart('df-10486519-de45-4f51-ad09-9c03145a3db5')\"\n",
              "                title=\"Suggest charts\"\n",
              "                style=\"display:none;\">\n",
              "\n",
              "<svg xmlns=\"http://www.w3.org/2000/svg\" height=\"24px\"viewBox=\"0 0 24 24\"\n",
              "     width=\"24px\">\n",
              "    <g>\n",
              "        <path d=\"M19 3H5c-1.1 0-2 .9-2 2v14c0 1.1.9 2 2 2h14c1.1 0 2-.9 2-2V5c0-1.1-.9-2-2-2zM9 17H7v-7h2v7zm4 0h-2V7h2v10zm4 0h-2v-4h2v4z\"/>\n",
              "    </g>\n",
              "</svg>\n",
              "      </button>\n",
              "\n",
              "<style>\n",
              "  .colab-df-quickchart {\n",
              "      --bg-color: #E8F0FE;\n",
              "      --fill-color: #1967D2;\n",
              "      --hover-bg-color: #E2EBFA;\n",
              "      --hover-fill-color: #174EA6;\n",
              "      --disabled-fill-color: #AAA;\n",
              "      --disabled-bg-color: #DDD;\n",
              "  }\n",
              "\n",
              "  [theme=dark] .colab-df-quickchart {\n",
              "      --bg-color: #3B4455;\n",
              "      --fill-color: #D2E3FC;\n",
              "      --hover-bg-color: #434B5C;\n",
              "      --hover-fill-color: #FFFFFF;\n",
              "      --disabled-bg-color: #3B4455;\n",
              "      --disabled-fill-color: #666;\n",
              "  }\n",
              "\n",
              "  .colab-df-quickchart {\n",
              "    background-color: var(--bg-color);\n",
              "    border: none;\n",
              "    border-radius: 50%;\n",
              "    cursor: pointer;\n",
              "    display: none;\n",
              "    fill: var(--fill-color);\n",
              "    height: 32px;\n",
              "    padding: 0;\n",
              "    width: 32px;\n",
              "  }\n",
              "\n",
              "  .colab-df-quickchart:hover {\n",
              "    background-color: var(--hover-bg-color);\n",
              "    box-shadow: 0 1px 2px rgba(60, 64, 67, 0.3), 0 1px 3px 1px rgba(60, 64, 67, 0.15);\n",
              "    fill: var(--button-hover-fill-color);\n",
              "  }\n",
              "\n",
              "  .colab-df-quickchart-complete:disabled,\n",
              "  .colab-df-quickchart-complete:disabled:hover {\n",
              "    background-color: var(--disabled-bg-color);\n",
              "    fill: var(--disabled-fill-color);\n",
              "    box-shadow: none;\n",
              "  }\n",
              "\n",
              "  .colab-df-spinner {\n",
              "    border: 2px solid var(--fill-color);\n",
              "    border-color: transparent;\n",
              "    border-bottom-color: var(--fill-color);\n",
              "    animation:\n",
              "      spin 1s steps(1) infinite;\n",
              "  }\n",
              "\n",
              "  @keyframes spin {\n",
              "    0% {\n",
              "      border-color: transparent;\n",
              "      border-bottom-color: var(--fill-color);\n",
              "      border-left-color: var(--fill-color);\n",
              "    }\n",
              "    20% {\n",
              "      border-color: transparent;\n",
              "      border-left-color: var(--fill-color);\n",
              "      border-top-color: var(--fill-color);\n",
              "    }\n",
              "    30% {\n",
              "      border-color: transparent;\n",
              "      border-left-color: var(--fill-color);\n",
              "      border-top-color: var(--fill-color);\n",
              "      border-right-color: var(--fill-color);\n",
              "    }\n",
              "    40% {\n",
              "      border-color: transparent;\n",
              "      border-right-color: var(--fill-color);\n",
              "      border-top-color: var(--fill-color);\n",
              "    }\n",
              "    60% {\n",
              "      border-color: transparent;\n",
              "      border-right-color: var(--fill-color);\n",
              "    }\n",
              "    80% {\n",
              "      border-color: transparent;\n",
              "      border-right-color: var(--fill-color);\n",
              "      border-bottom-color: var(--fill-color);\n",
              "    }\n",
              "    90% {\n",
              "      border-color: transparent;\n",
              "      border-bottom-color: var(--fill-color);\n",
              "    }\n",
              "  }\n",
              "</style>\n",
              "\n",
              "      <script>\n",
              "        async function quickchart(key) {\n",
              "          const quickchartButtonEl =\n",
              "            document.querySelector('#' + key + ' button');\n",
              "          quickchartButtonEl.disabled = true;  // To prevent multiple clicks.\n",
              "          quickchartButtonEl.classList.add('colab-df-spinner');\n",
              "          try {\n",
              "            const charts = await google.colab.kernel.invokeFunction(\n",
              "                'suggestCharts', [key], {});\n",
              "          } catch (error) {\n",
              "            console.error('Error during call to suggestCharts:', error);\n",
              "          }\n",
              "          quickchartButtonEl.classList.remove('colab-df-spinner');\n",
              "          quickchartButtonEl.classList.add('colab-df-quickchart-complete');\n",
              "        }\n",
              "        (() => {\n",
              "          let quickchartButtonEl =\n",
              "            document.querySelector('#df-10486519-de45-4f51-ad09-9c03145a3db5 button');\n",
              "          quickchartButtonEl.style.display =\n",
              "            google.colab.kernel.accessAllowed ? 'block' : 'none';\n",
              "        })();\n",
              "      </script>\n",
              "    </div>\n",
              "\n",
              "    </div>\n",
              "  </div>\n"
            ],
            "application/vnd.google.colaboratory.intrinsic+json": {
              "type": "dataframe"
            }
          },
          "metadata": {},
          "execution_count": 64
        }
      ]
    },
    {
      "cell_type": "code",
      "source": [
        "dados.loc[dados[\"TP_SEXO\"] == \"M\"].head()"
      ],
      "metadata": {
        "colab": {
          "base_uri": "https://localhost:8080/",
          "height": 226
        },
        "id": "zueYxF1DiqB-",
        "outputId": "ca4ee695-1669-4c3b-f276-ef4bb8521272"
      },
      "execution_count": 71,
      "outputs": [
        {
          "output_type": "execute_result",
          "data": {
            "text/plain": [
              "    NU_INSCRICAO  NU_ANO  TP_FAIXA_ETARIA TP_SEXO  TP_ESTADO_CIVIL  \\\n",
              "4   210053156861    2021                9       M                1   \n",
              "5   210053085526    2021                3       M                1   \n",
              "7   210053790986    2021                1       M                1   \n",
              "9   210054171092    2021                4       M                1   \n",
              "10  210052237624    2021                5       M                1   \n",
              "\n",
              "    TP_COR_RACA  TP_NACIONALIDADE  TP_ST_CONCLUSAO  TP_ANO_CONCLUIU  \\\n",
              "4             2                 1                1                5   \n",
              "5             1                 1                2                0   \n",
              "7             1                 1                2                0   \n",
              "9             2                 1                1                1   \n",
              "10            2                 1                2                0   \n",
              "\n",
              "    TP_ESCOLA  TP_ENSINO  IN_TREINEIRO  CO_MUNICIPIO_ESC NO_MUNICIPIO_ESC  \\\n",
              "4           1        NaN             0               NaN              NaN   \n",
              "5           2        1.0             0         2932606.0           Urandi   \n",
              "7           2        1.0             0               NaN              NaN   \n",
              "9           1        NaN             0               NaN              NaN   \n",
              "10          2        1.0             0         2910503.0       Entre Rios   \n",
              "\n",
              "    CO_UF_ESC SG_UF_ESC  TP_DEPENDENCIA_ADM_ESC  TP_LOCALIZACAO_ESC  \\\n",
              "4         NaN       NaN                     NaN                 NaN   \n",
              "5        29.0        BA                     2.0                 1.0   \n",
              "7         NaN       NaN                     NaN                 NaN   \n",
              "9         NaN       NaN                     NaN                 NaN   \n",
              "10       29.0        BA                     2.0                 1.0   \n",
              "\n",
              "    TP_SIT_FUNC_ESC  CO_MUNICIPIO_PROVA NO_MUNICIPIO_PROVA  CO_UF_PROVA  \\\n",
              "4               NaN             2910800   Feira de Santana           29   \n",
              "5               1.0             2932606             Urandi           29   \n",
              "7               NaN             2907202          Casa Nova           29   \n",
              "9               NaN             2927408           Salvador           29   \n",
              "10              1.0             2910503         Entre Rios           29   \n",
              "\n",
              "   SG_UF_PROVA  TP_PRESENCA_CN  TP_PRESENCA_CH  TP_PRESENCA_LC  \\\n",
              "4           BA               1               1               1   \n",
              "5           BA               1               1               1   \n",
              "7           BA               1               1               1   \n",
              "9           BA               0               0               0   \n",
              "10          BA               1               1               1   \n",
              "\n",
              "    TP_PRESENCA_MT  CO_PROVA_CN  CO_PROVA_CH  CO_PROVA_LC  CO_PROVA_MT  \\\n",
              "4                1       1014.0       1000.0       1004.0       1010.0   \n",
              "5                1        910.0        879.0        889.0        900.0   \n",
              "7                1        912.0        882.0        891.0        901.0   \n",
              "9                0          NaN          NaN          NaN          NaN   \n",
              "10               1        909.0        881.0        892.0        899.0   \n",
              "\n",
              "    NU_NOTA_CN  NU_NOTA_CH  NU_NOTA_LC  NU_NOTA_MT  \\\n",
              "4        465.2       613.1       522.1       579.6   \n",
              "5        414.6       410.1       386.7       423.0   \n",
              "7        590.9       659.7       593.6       586.8   \n",
              "9          NaN         NaN         NaN         NaN   \n",
              "10       594.4       572.8       536.6       469.6   \n",
              "\n",
              "                                  TX_RESPOSTAS_CN  \\\n",
              "4   CDCCBDBBDCBACEBDACBCACADBCBECCEBCDDEBDACEECCD   \n",
              "5   CBCAEDDBBCBABADAABECACCEBDEABCCAECEECCDBCBDCB   \n",
              "7   BADCBEEBECDDEABAEDEBCDCCDABBBEBBDDACCCADBEACE   \n",
              "9                                             NaN   \n",
              "10  DCADABEEABDAEDABADCABEACABDAEBECBBBDCCCDBCBCD   \n",
              "\n",
              "                                  TX_RESPOSTAS_CH  \\\n",
              "4   CCBAADECCBACBECCBEADAEBEACBEBBEADEBBABDACDEBC   \n",
              "5   BACDABADEBACEDCACDADBCBDBDBECADBEDAEBDCAEBDCA   \n",
              "7   EBBBEADACABBBADEECBAAEDDBBADCDADBCADDEBBCCEAB   \n",
              "9                                             NaN   \n",
              "10  BEECCABABABBEAEACBADCAEBEDAABAEAEADCCCAAEEBAA   \n",
              "\n",
              "                                      TX_RESPOSTAS_LC  \\\n",
              "4   BADCE99999DABAABBABBBCEDBDCDABEABCBBDCACBABAAA...   \n",
              "5   BAEAB99999CACBABEBADECADCEDCBCADABDEDBDCABCACB...   \n",
              "7   ACBAB99999DCEADCADACBDEAEDDABDADCBBBDABCDDDECB...   \n",
              "9                                                 NaN   \n",
              "10  ABBAB99999ADDBAABABCBBBACADAEDBBCCEEEBEAACCDBE...   \n",
              "\n",
              "                                  TX_RESPOSTAS_MT  TP_LINGUA  \\\n",
              "4   CCBACBBCCCCEDDDDCBCCDCACCCBBBDDDBCBADDBCABACA          0   \n",
              "5   EACDCADDDCDBADABACEDEDCECBDCCBEAACEADEAECCCEC          0   \n",
              "7   DDEBEEEDDDCAEEBACBEAADDDCCEDEEBABEECEBEEBCAAC          0   \n",
              "9                                             NaN          0   \n",
              "10  DABEACCEACAACBBABBBACCAACBBAAECBBCBEBCCCBABBD          0   \n",
              "\n",
              "                                   TX_GABARITO_CN  \\\n",
              "4   CDBBBCABEDEDEAAEBACCCBDABCDCBCBDECDADCDBBEEBB   \n",
              "5   ADCDCDBBBECDCCDCBCBDABCAADCBEBABEEBBBCABEDEDE   \n",
              "7   DABCEDEBEEBBCABEDDCBCBECDADCDAACBDCCCDBBBEBAB   \n",
              "9                                             NaN   \n",
              "10  EDECABEDABCBEBACCDCBBEEBBCBDAAECDCBDCDBBBADCD   \n",
              "\n",
              "                                   TX_GABARITO_CH  \\\n",
              "4   BBBAAEECBBABEECEBAAEADBCACAEABEDDEBBBADBCBADC   \n",
              "5   BADCBADBCEDDEBBADBCABEECCAEABEBAAECBBABAAEEBB   \n",
              "7   EBAAEADBCACBBABEECBAAEEBBBADCBADBCEDDEBBCAEAB   \n",
              "9                                             NaN   \n",
              "10  BEECCAEABADBCAEBAAEEDDEBBBADBCBAAEEBBBADCCBBA   \n",
              "\n",
              "                                       TX_GABARITO_LC  \\\n",
              "4   ABBCAEAACADDCACDCADABBBBDEBBACEADCEBDDACEEDDDB...   \n",
              "5   CAABBCAEAABDCDEADCEDBEDDDABBBBDEBCEADABDBACACD...   \n",
              "7   ACABBACAEADCEADABDACDCEABDDADBEDDDEBBACCDDDCCE...   \n",
              "9                                                 NaN   \n",
              "10  ABBACAAECACDBDDADEBDDCBDCEDBEDDBBBBDCEEAADABAC...   \n",
              "\n",
              "                                   TX_GABARITO_MT  TP_STATUS_REDACAO  \\\n",
              "4   ECCCABBDBDDDCEDDCABXEEEBABEDCEDCCAEBADBCCECDA                1.0   \n",
              "5   DDCABDCCAEDCEBBDBDAEEBADCAECDBCCCCDDCEEBABXEE                1.0   \n",
              "7   DCCAEBABDDCABEECCBCCEXADDCEECDEBADCABBDBDEDCE                1.0   \n",
              "9                                             NaN                NaN   \n",
              "10  EEXEBABDDCECCBCCECDCAEBADEABBDBDEDCEDCCADDCAB                1.0   \n",
              "\n",
              "    NU_NOTA_COMP1  NU_NOTA_COMP2  NU_NOTA_COMP3  NU_NOTA_COMP4  NU_NOTA_COMP5  \\\n",
              "4           100.0          120.0          100.0          120.0          100.0   \n",
              "5           120.0          180.0          140.0          160.0          100.0   \n",
              "7           160.0          180.0          160.0          200.0          200.0   \n",
              "9             NaN            NaN            NaN            NaN            NaN   \n",
              "10          100.0          100.0           80.0           80.0           80.0   \n",
              "\n",
              "    NU_NOTA_REDACAO  \n",
              "4             540.0  \n",
              "5             700.0  \n",
              "7             900.0  \n",
              "9               NaN  \n",
              "10            440.0  "
            ],
            "text/html": [
              "\n",
              "  <div id=\"df-cffb4875-43aa-4405-9619-14da57e2a860\" class=\"colab-df-container\">\n",
              "    <div>\n",
              "<style scoped>\n",
              "    .dataframe tbody tr th:only-of-type {\n",
              "        vertical-align: middle;\n",
              "    }\n",
              "\n",
              "    .dataframe tbody tr th {\n",
              "        vertical-align: top;\n",
              "    }\n",
              "\n",
              "    .dataframe thead th {\n",
              "        text-align: right;\n",
              "    }\n",
              "</style>\n",
              "<table border=\"1\" class=\"dataframe\">\n",
              "  <thead>\n",
              "    <tr style=\"text-align: right;\">\n",
              "      <th></th>\n",
              "      <th>NU_INSCRICAO</th>\n",
              "      <th>NU_ANO</th>\n",
              "      <th>TP_FAIXA_ETARIA</th>\n",
              "      <th>TP_SEXO</th>\n",
              "      <th>TP_ESTADO_CIVIL</th>\n",
              "      <th>TP_COR_RACA</th>\n",
              "      <th>TP_NACIONALIDADE</th>\n",
              "      <th>TP_ST_CONCLUSAO</th>\n",
              "      <th>TP_ANO_CONCLUIU</th>\n",
              "      <th>TP_ESCOLA</th>\n",
              "      <th>TP_ENSINO</th>\n",
              "      <th>IN_TREINEIRO</th>\n",
              "      <th>CO_MUNICIPIO_ESC</th>\n",
              "      <th>NO_MUNICIPIO_ESC</th>\n",
              "      <th>CO_UF_ESC</th>\n",
              "      <th>SG_UF_ESC</th>\n",
              "      <th>TP_DEPENDENCIA_ADM_ESC</th>\n",
              "      <th>TP_LOCALIZACAO_ESC</th>\n",
              "      <th>TP_SIT_FUNC_ESC</th>\n",
              "      <th>CO_MUNICIPIO_PROVA</th>\n",
              "      <th>NO_MUNICIPIO_PROVA</th>\n",
              "      <th>CO_UF_PROVA</th>\n",
              "      <th>SG_UF_PROVA</th>\n",
              "      <th>TP_PRESENCA_CN</th>\n",
              "      <th>TP_PRESENCA_CH</th>\n",
              "      <th>TP_PRESENCA_LC</th>\n",
              "      <th>TP_PRESENCA_MT</th>\n",
              "      <th>CO_PROVA_CN</th>\n",
              "      <th>CO_PROVA_CH</th>\n",
              "      <th>CO_PROVA_LC</th>\n",
              "      <th>CO_PROVA_MT</th>\n",
              "      <th>NU_NOTA_CN</th>\n",
              "      <th>NU_NOTA_CH</th>\n",
              "      <th>NU_NOTA_LC</th>\n",
              "      <th>NU_NOTA_MT</th>\n",
              "      <th>TX_RESPOSTAS_CN</th>\n",
              "      <th>TX_RESPOSTAS_CH</th>\n",
              "      <th>TX_RESPOSTAS_LC</th>\n",
              "      <th>TX_RESPOSTAS_MT</th>\n",
              "      <th>TP_LINGUA</th>\n",
              "      <th>TX_GABARITO_CN</th>\n",
              "      <th>TX_GABARITO_CH</th>\n",
              "      <th>TX_GABARITO_LC</th>\n",
              "      <th>TX_GABARITO_MT</th>\n",
              "      <th>TP_STATUS_REDACAO</th>\n",
              "      <th>NU_NOTA_COMP1</th>\n",
              "      <th>NU_NOTA_COMP2</th>\n",
              "      <th>NU_NOTA_COMP3</th>\n",
              "      <th>NU_NOTA_COMP4</th>\n",
              "      <th>NU_NOTA_COMP5</th>\n",
              "      <th>NU_NOTA_REDACAO</th>\n",
              "    </tr>\n",
              "  </thead>\n",
              "  <tbody>\n",
              "    <tr>\n",
              "      <th>4</th>\n",
              "      <td>210053156861</td>\n",
              "      <td>2021</td>\n",
              "      <td>9</td>\n",
              "      <td>M</td>\n",
              "      <td>1</td>\n",
              "      <td>2</td>\n",
              "      <td>1</td>\n",
              "      <td>1</td>\n",
              "      <td>5</td>\n",
              "      <td>1</td>\n",
              "      <td>NaN</td>\n",
              "      <td>0</td>\n",
              "      <td>NaN</td>\n",
              "      <td>NaN</td>\n",
              "      <td>NaN</td>\n",
              "      <td>NaN</td>\n",
              "      <td>NaN</td>\n",
              "      <td>NaN</td>\n",
              "      <td>NaN</td>\n",
              "      <td>2910800</td>\n",
              "      <td>Feira de Santana</td>\n",
              "      <td>29</td>\n",
              "      <td>BA</td>\n",
              "      <td>1</td>\n",
              "      <td>1</td>\n",
              "      <td>1</td>\n",
              "      <td>1</td>\n",
              "      <td>1014.0</td>\n",
              "      <td>1000.0</td>\n",
              "      <td>1004.0</td>\n",
              "      <td>1010.0</td>\n",
              "      <td>465.2</td>\n",
              "      <td>613.1</td>\n",
              "      <td>522.1</td>\n",
              "      <td>579.6</td>\n",
              "      <td>CDCCBDBBDCBACEBDACBCACADBCBECCEBCDDEBDACEECCD</td>\n",
              "      <td>CCBAADECCBACBECCBEADAEBEACBEBBEADEBBABDACDEBC</td>\n",
              "      <td>BADCE99999DABAABBABBBCEDBDCDABEABCBBDCACBABAAA...</td>\n",
              "      <td>CCBACBBCCCCEDDDDCBCCDCACCCBBBDDDBCBADDBCABACA</td>\n",
              "      <td>0</td>\n",
              "      <td>CDBBBCABEDEDEAAEBACCCBDABCDCBCBDECDADCDBBEEBB</td>\n",
              "      <td>BBBAAEECBBABEECEBAAEADBCACAEABEDDEBBBADBCBADC</td>\n",
              "      <td>ABBCAEAACADDCACDCADABBBBDEBBACEADCEBDDACEEDDDB...</td>\n",
              "      <td>ECCCABBDBDDDCEDDCABXEEEBABEDCEDCCAEBADBCCECDA</td>\n",
              "      <td>1.0</td>\n",
              "      <td>100.0</td>\n",
              "      <td>120.0</td>\n",
              "      <td>100.0</td>\n",
              "      <td>120.0</td>\n",
              "      <td>100.0</td>\n",
              "      <td>540.0</td>\n",
              "    </tr>\n",
              "    <tr>\n",
              "      <th>5</th>\n",
              "      <td>210053085526</td>\n",
              "      <td>2021</td>\n",
              "      <td>3</td>\n",
              "      <td>M</td>\n",
              "      <td>1</td>\n",
              "      <td>1</td>\n",
              "      <td>1</td>\n",
              "      <td>2</td>\n",
              "      <td>0</td>\n",
              "      <td>2</td>\n",
              "      <td>1.0</td>\n",
              "      <td>0</td>\n",
              "      <td>2932606.0</td>\n",
              "      <td>Urandi</td>\n",
              "      <td>29.0</td>\n",
              "      <td>BA</td>\n",
              "      <td>2.0</td>\n",
              "      <td>1.0</td>\n",
              "      <td>1.0</td>\n",
              "      <td>2932606</td>\n",
              "      <td>Urandi</td>\n",
              "      <td>29</td>\n",
              "      <td>BA</td>\n",
              "      <td>1</td>\n",
              "      <td>1</td>\n",
              "      <td>1</td>\n",
              "      <td>1</td>\n",
              "      <td>910.0</td>\n",
              "      <td>879.0</td>\n",
              "      <td>889.0</td>\n",
              "      <td>900.0</td>\n",
              "      <td>414.6</td>\n",
              "      <td>410.1</td>\n",
              "      <td>386.7</td>\n",
              "      <td>423.0</td>\n",
              "      <td>CBCAEDDBBCBABADAABECACCEBDEABCCAECEECCDBCBDCB</td>\n",
              "      <td>BACDABADEBACEDCACDADBCBDBDBECADBEDAEBDCAEBDCA</td>\n",
              "      <td>BAEAB99999CACBABEBADECADCEDCBCADABDEDBDCABCACB...</td>\n",
              "      <td>EACDCADDDCDBADABACEDEDCECBDCCBEAACEADEAECCCEC</td>\n",
              "      <td>0</td>\n",
              "      <td>ADCDCDBBBECDCCDCBCBDABCAADCBEBABEEBBBCABEDEDE</td>\n",
              "      <td>BADCBADBCEDDEBBADBCABEECCAEABEBAAECBBABAAEEBB</td>\n",
              "      <td>CAABBCAEAABDCDEADCEDBEDDDABBBBDEBCEADABDBACACD...</td>\n",
              "      <td>DDCABDCCAEDCEBBDBDAEEBADCAECDBCCCCDDCEEBABXEE</td>\n",
              "      <td>1.0</td>\n",
              "      <td>120.0</td>\n",
              "      <td>180.0</td>\n",
              "      <td>140.0</td>\n",
              "      <td>160.0</td>\n",
              "      <td>100.0</td>\n",
              "      <td>700.0</td>\n",
              "    </tr>\n",
              "    <tr>\n",
              "      <th>7</th>\n",
              "      <td>210053790986</td>\n",
              "      <td>2021</td>\n",
              "      <td>1</td>\n",
              "      <td>M</td>\n",
              "      <td>1</td>\n",
              "      <td>1</td>\n",
              "      <td>1</td>\n",
              "      <td>2</td>\n",
              "      <td>0</td>\n",
              "      <td>2</td>\n",
              "      <td>1.0</td>\n",
              "      <td>0</td>\n",
              "      <td>NaN</td>\n",
              "      <td>NaN</td>\n",
              "      <td>NaN</td>\n",
              "      <td>NaN</td>\n",
              "      <td>NaN</td>\n",
              "      <td>NaN</td>\n",
              "      <td>NaN</td>\n",
              "      <td>2907202</td>\n",
              "      <td>Casa Nova</td>\n",
              "      <td>29</td>\n",
              "      <td>BA</td>\n",
              "      <td>1</td>\n",
              "      <td>1</td>\n",
              "      <td>1</td>\n",
              "      <td>1</td>\n",
              "      <td>912.0</td>\n",
              "      <td>882.0</td>\n",
              "      <td>891.0</td>\n",
              "      <td>901.0</td>\n",
              "      <td>590.9</td>\n",
              "      <td>659.7</td>\n",
              "      <td>593.6</td>\n",
              "      <td>586.8</td>\n",
              "      <td>BADCBEEBECDDEABAEDEBCDCCDABBBEBBDDACCCADBEACE</td>\n",
              "      <td>EBBBEADACABBBADEECBAAEDDBBADCDADBCADDEBBCCEAB</td>\n",
              "      <td>ACBAB99999DCEADCADACBDEAEDDABDADCBBBDABCDDDECB...</td>\n",
              "      <td>DDEBEEEDDDCAEEBACBEAADDDCCEDEEBABEECEBEEBCAAC</td>\n",
              "      <td>0</td>\n",
              "      <td>DABCEDEBEEBBCABEDDCBCBECDADCDAACBDCCCDBBBEBAB</td>\n",
              "      <td>EBAAEADBCACBBABEECBAAEEBBBADCBADBCEDDEBBCAEAB</td>\n",
              "      <td>ACABBACAEADCEADABDACDCEABDDADBEDDDEBBACCDDDCCE...</td>\n",
              "      <td>DCCAEBABDDCABEECCBCCEXADDCEECDEBADCABBDBDEDCE</td>\n",
              "      <td>1.0</td>\n",
              "      <td>160.0</td>\n",
              "      <td>180.0</td>\n",
              "      <td>160.0</td>\n",
              "      <td>200.0</td>\n",
              "      <td>200.0</td>\n",
              "      <td>900.0</td>\n",
              "    </tr>\n",
              "    <tr>\n",
              "      <th>9</th>\n",
              "      <td>210054171092</td>\n",
              "      <td>2021</td>\n",
              "      <td>4</td>\n",
              "      <td>M</td>\n",
              "      <td>1</td>\n",
              "      <td>2</td>\n",
              "      <td>1</td>\n",
              "      <td>1</td>\n",
              "      <td>1</td>\n",
              "      <td>1</td>\n",
              "      <td>NaN</td>\n",
              "      <td>0</td>\n",
              "      <td>NaN</td>\n",
              "      <td>NaN</td>\n",
              "      <td>NaN</td>\n",
              "      <td>NaN</td>\n",
              "      <td>NaN</td>\n",
              "      <td>NaN</td>\n",
              "      <td>NaN</td>\n",
              "      <td>2927408</td>\n",
              "      <td>Salvador</td>\n",
              "      <td>29</td>\n",
              "      <td>BA</td>\n",
              "      <td>0</td>\n",
              "      <td>0</td>\n",
              "      <td>0</td>\n",
              "      <td>0</td>\n",
              "      <td>NaN</td>\n",
              "      <td>NaN</td>\n",
              "      <td>NaN</td>\n",
              "      <td>NaN</td>\n",
              "      <td>NaN</td>\n",
              "      <td>NaN</td>\n",
              "      <td>NaN</td>\n",
              "      <td>NaN</td>\n",
              "      <td>NaN</td>\n",
              "      <td>NaN</td>\n",
              "      <td>NaN</td>\n",
              "      <td>NaN</td>\n",
              "      <td>0</td>\n",
              "      <td>NaN</td>\n",
              "      <td>NaN</td>\n",
              "      <td>NaN</td>\n",
              "      <td>NaN</td>\n",
              "      <td>NaN</td>\n",
              "      <td>NaN</td>\n",
              "      <td>NaN</td>\n",
              "      <td>NaN</td>\n",
              "      <td>NaN</td>\n",
              "      <td>NaN</td>\n",
              "      <td>NaN</td>\n",
              "    </tr>\n",
              "    <tr>\n",
              "      <th>10</th>\n",
              "      <td>210052237624</td>\n",
              "      <td>2021</td>\n",
              "      <td>5</td>\n",
              "      <td>M</td>\n",
              "      <td>1</td>\n",
              "      <td>2</td>\n",
              "      <td>1</td>\n",
              "      <td>2</td>\n",
              "      <td>0</td>\n",
              "      <td>2</td>\n",
              "      <td>1.0</td>\n",
              "      <td>0</td>\n",
              "      <td>2910503.0</td>\n",
              "      <td>Entre Rios</td>\n",
              "      <td>29.0</td>\n",
              "      <td>BA</td>\n",
              "      <td>2.0</td>\n",
              "      <td>1.0</td>\n",
              "      <td>1.0</td>\n",
              "      <td>2910503</td>\n",
              "      <td>Entre Rios</td>\n",
              "      <td>29</td>\n",
              "      <td>BA</td>\n",
              "      <td>1</td>\n",
              "      <td>1</td>\n",
              "      <td>1</td>\n",
              "      <td>1</td>\n",
              "      <td>909.0</td>\n",
              "      <td>881.0</td>\n",
              "      <td>892.0</td>\n",
              "      <td>899.0</td>\n",
              "      <td>594.4</td>\n",
              "      <td>572.8</td>\n",
              "      <td>536.6</td>\n",
              "      <td>469.6</td>\n",
              "      <td>DCADABEEABDAEDABADCABEACABDAEBECBBBDCCCDBCBCD</td>\n",
              "      <td>BEECCABABABBEAEACBADCAEBEDAABAEAEADCCCAAEEBAA</td>\n",
              "      <td>ABBAB99999ADDBAABABCBBBACADAEDBBCCEEEBEAACCDBE...</td>\n",
              "      <td>DABEACCEACAACBBABBBACCAACBBAAECBBCBEBCCCBABBD</td>\n",
              "      <td>0</td>\n",
              "      <td>EDECABEDABCBEBACCDCBBEEBBCBDAAECDCBDCDBBBADCD</td>\n",
              "      <td>BEECCAEABADBCAEBAAEEDDEBBBADBCBAAEEBBBADCCBBA</td>\n",
              "      <td>ABBACAAECACDBDDADEBDDCBDCEDBEDDBBBBDCEEAADABAC...</td>\n",
              "      <td>EEXEBABDDCECCBCCECDCAEBADEABBDBDEDCEDCCADDCAB</td>\n",
              "      <td>1.0</td>\n",
              "      <td>100.0</td>\n",
              "      <td>100.0</td>\n",
              "      <td>80.0</td>\n",
              "      <td>80.0</td>\n",
              "      <td>80.0</td>\n",
              "      <td>440.0</td>\n",
              "    </tr>\n",
              "  </tbody>\n",
              "</table>\n",
              "</div>\n",
              "    <div class=\"colab-df-buttons\">\n",
              "\n",
              "  <div class=\"colab-df-container\">\n",
              "    <button class=\"colab-df-convert\" onclick=\"convertToInteractive('df-cffb4875-43aa-4405-9619-14da57e2a860')\"\n",
              "            title=\"Convert this dataframe to an interactive table.\"\n",
              "            style=\"display:none;\">\n",
              "\n",
              "  <svg xmlns=\"http://www.w3.org/2000/svg\" height=\"24px\" viewBox=\"0 -960 960 960\">\n",
              "    <path d=\"M120-120v-720h720v720H120Zm60-500h600v-160H180v160Zm220 220h160v-160H400v160Zm0 220h160v-160H400v160ZM180-400h160v-160H180v160Zm440 0h160v-160H620v160ZM180-180h160v-160H180v160Zm440 0h160v-160H620v160Z\"/>\n",
              "  </svg>\n",
              "    </button>\n",
              "\n",
              "  <style>\n",
              "    .colab-df-container {\n",
              "      display:flex;\n",
              "      gap: 12px;\n",
              "    }\n",
              "\n",
              "    .colab-df-convert {\n",
              "      background-color: #E8F0FE;\n",
              "      border: none;\n",
              "      border-radius: 50%;\n",
              "      cursor: pointer;\n",
              "      display: none;\n",
              "      fill: #1967D2;\n",
              "      height: 32px;\n",
              "      padding: 0 0 0 0;\n",
              "      width: 32px;\n",
              "    }\n",
              "\n",
              "    .colab-df-convert:hover {\n",
              "      background-color: #E2EBFA;\n",
              "      box-shadow: 0px 1px 2px rgba(60, 64, 67, 0.3), 0px 1px 3px 1px rgba(60, 64, 67, 0.15);\n",
              "      fill: #174EA6;\n",
              "    }\n",
              "\n",
              "    .colab-df-buttons div {\n",
              "      margin-bottom: 4px;\n",
              "    }\n",
              "\n",
              "    [theme=dark] .colab-df-convert {\n",
              "      background-color: #3B4455;\n",
              "      fill: #D2E3FC;\n",
              "    }\n",
              "\n",
              "    [theme=dark] .colab-df-convert:hover {\n",
              "      background-color: #434B5C;\n",
              "      box-shadow: 0px 1px 3px 1px rgba(0, 0, 0, 0.15);\n",
              "      filter: drop-shadow(0px 1px 2px rgba(0, 0, 0, 0.3));\n",
              "      fill: #FFFFFF;\n",
              "    }\n",
              "  </style>\n",
              "\n",
              "    <script>\n",
              "      const buttonEl =\n",
              "        document.querySelector('#df-cffb4875-43aa-4405-9619-14da57e2a860 button.colab-df-convert');\n",
              "      buttonEl.style.display =\n",
              "        google.colab.kernel.accessAllowed ? 'block' : 'none';\n",
              "\n",
              "      async function convertToInteractive(key) {\n",
              "        const element = document.querySelector('#df-cffb4875-43aa-4405-9619-14da57e2a860');\n",
              "        const dataTable =\n",
              "          await google.colab.kernel.invokeFunction('convertToInteractive',\n",
              "                                                    [key], {});\n",
              "        if (!dataTable) return;\n",
              "\n",
              "        const docLinkHtml = 'Like what you see? Visit the ' +\n",
              "          '<a target=\"_blank\" href=https://colab.research.google.com/notebooks/data_table.ipynb>data table notebook</a>'\n",
              "          + ' to learn more about interactive tables.';\n",
              "        element.innerHTML = '';\n",
              "        dataTable['output_type'] = 'display_data';\n",
              "        await google.colab.output.renderOutput(dataTable, element);\n",
              "        const docLink = document.createElement('div');\n",
              "        docLink.innerHTML = docLinkHtml;\n",
              "        element.appendChild(docLink);\n",
              "      }\n",
              "    </script>\n",
              "  </div>\n",
              "\n",
              "\n",
              "    <div id=\"df-13633a12-7261-40ac-ae86-e1ad354cd935\">\n",
              "      <button class=\"colab-df-quickchart\" onclick=\"quickchart('df-13633a12-7261-40ac-ae86-e1ad354cd935')\"\n",
              "                title=\"Suggest charts\"\n",
              "                style=\"display:none;\">\n",
              "\n",
              "<svg xmlns=\"http://www.w3.org/2000/svg\" height=\"24px\"viewBox=\"0 0 24 24\"\n",
              "     width=\"24px\">\n",
              "    <g>\n",
              "        <path d=\"M19 3H5c-1.1 0-2 .9-2 2v14c0 1.1.9 2 2 2h14c1.1 0 2-.9 2-2V5c0-1.1-.9-2-2-2zM9 17H7v-7h2v7zm4 0h-2V7h2v10zm4 0h-2v-4h2v4z\"/>\n",
              "    </g>\n",
              "</svg>\n",
              "      </button>\n",
              "\n",
              "<style>\n",
              "  .colab-df-quickchart {\n",
              "      --bg-color: #E8F0FE;\n",
              "      --fill-color: #1967D2;\n",
              "      --hover-bg-color: #E2EBFA;\n",
              "      --hover-fill-color: #174EA6;\n",
              "      --disabled-fill-color: #AAA;\n",
              "      --disabled-bg-color: #DDD;\n",
              "  }\n",
              "\n",
              "  [theme=dark] .colab-df-quickchart {\n",
              "      --bg-color: #3B4455;\n",
              "      --fill-color: #D2E3FC;\n",
              "      --hover-bg-color: #434B5C;\n",
              "      --hover-fill-color: #FFFFFF;\n",
              "      --disabled-bg-color: #3B4455;\n",
              "      --disabled-fill-color: #666;\n",
              "  }\n",
              "\n",
              "  .colab-df-quickchart {\n",
              "    background-color: var(--bg-color);\n",
              "    border: none;\n",
              "    border-radius: 50%;\n",
              "    cursor: pointer;\n",
              "    display: none;\n",
              "    fill: var(--fill-color);\n",
              "    height: 32px;\n",
              "    padding: 0;\n",
              "    width: 32px;\n",
              "  }\n",
              "\n",
              "  .colab-df-quickchart:hover {\n",
              "    background-color: var(--hover-bg-color);\n",
              "    box-shadow: 0 1px 2px rgba(60, 64, 67, 0.3), 0 1px 3px 1px rgba(60, 64, 67, 0.15);\n",
              "    fill: var(--button-hover-fill-color);\n",
              "  }\n",
              "\n",
              "  .colab-df-quickchart-complete:disabled,\n",
              "  .colab-df-quickchart-complete:disabled:hover {\n",
              "    background-color: var(--disabled-bg-color);\n",
              "    fill: var(--disabled-fill-color);\n",
              "    box-shadow: none;\n",
              "  }\n",
              "\n",
              "  .colab-df-spinner {\n",
              "    border: 2px solid var(--fill-color);\n",
              "    border-color: transparent;\n",
              "    border-bottom-color: var(--fill-color);\n",
              "    animation:\n",
              "      spin 1s steps(1) infinite;\n",
              "  }\n",
              "\n",
              "  @keyframes spin {\n",
              "    0% {\n",
              "      border-color: transparent;\n",
              "      border-bottom-color: var(--fill-color);\n",
              "      border-left-color: var(--fill-color);\n",
              "    }\n",
              "    20% {\n",
              "      border-color: transparent;\n",
              "      border-left-color: var(--fill-color);\n",
              "      border-top-color: var(--fill-color);\n",
              "    }\n",
              "    30% {\n",
              "      border-color: transparent;\n",
              "      border-left-color: var(--fill-color);\n",
              "      border-top-color: var(--fill-color);\n",
              "      border-right-color: var(--fill-color);\n",
              "    }\n",
              "    40% {\n",
              "      border-color: transparent;\n",
              "      border-right-color: var(--fill-color);\n",
              "      border-top-color: var(--fill-color);\n",
              "    }\n",
              "    60% {\n",
              "      border-color: transparent;\n",
              "      border-right-color: var(--fill-color);\n",
              "    }\n",
              "    80% {\n",
              "      border-color: transparent;\n",
              "      border-right-color: var(--fill-color);\n",
              "      border-bottom-color: var(--fill-color);\n",
              "    }\n",
              "    90% {\n",
              "      border-color: transparent;\n",
              "      border-bottom-color: var(--fill-color);\n",
              "    }\n",
              "  }\n",
              "</style>\n",
              "\n",
              "      <script>\n",
              "        async function quickchart(key) {\n",
              "          const quickchartButtonEl =\n",
              "            document.querySelector('#' + key + ' button');\n",
              "          quickchartButtonEl.disabled = true;  // To prevent multiple clicks.\n",
              "          quickchartButtonEl.classList.add('colab-df-spinner');\n",
              "          try {\n",
              "            const charts = await google.colab.kernel.invokeFunction(\n",
              "                'suggestCharts', [key], {});\n",
              "          } catch (error) {\n",
              "            console.error('Error during call to suggestCharts:', error);\n",
              "          }\n",
              "          quickchartButtonEl.classList.remove('colab-df-spinner');\n",
              "          quickchartButtonEl.classList.add('colab-df-quickchart-complete');\n",
              "        }\n",
              "        (() => {\n",
              "          let quickchartButtonEl =\n",
              "            document.querySelector('#df-13633a12-7261-40ac-ae86-e1ad354cd935 button');\n",
              "          quickchartButtonEl.style.display =\n",
              "            google.colab.kernel.accessAllowed ? 'block' : 'none';\n",
              "        })();\n",
              "      </script>\n",
              "    </div>\n",
              "\n",
              "    </div>\n",
              "  </div>\n"
            ],
            "application/vnd.google.colaboratory.intrinsic+json": {
              "type": "dataframe"
            }
          },
          "metadata": {},
          "execution_count": 71
        }
      ]
    },
    {
      "cell_type": "code",
      "source": [
        "dados.loc[mask].head()"
      ],
      "metadata": {
        "colab": {
          "base_uri": "https://localhost:8080/",
          "height": 226
        },
        "id": "oFCzxZDMjAs4",
        "outputId": "ef33dfe7-51ca-448f-c93d-92ba4ce57d01"
      },
      "execution_count": 73,
      "outputs": [
        {
          "output_type": "execute_result",
          "data": {
            "text/plain": [
              "    NU_INSCRICAO  NU_ANO  TP_FAIXA_ETARIA TP_SEXO  TP_ESTADO_CIVIL  \\\n",
              "4   210053156861    2021                9       M                1   \n",
              "5   210053085526    2021                3       M                1   \n",
              "7   210053790986    2021                1       M                1   \n",
              "9   210054171092    2021                4       M                1   \n",
              "10  210052237624    2021                5       M                1   \n",
              "\n",
              "    TP_COR_RACA  TP_NACIONALIDADE  TP_ST_CONCLUSAO  TP_ANO_CONCLUIU  \\\n",
              "4             2                 1                1                5   \n",
              "5             1                 1                2                0   \n",
              "7             1                 1                2                0   \n",
              "9             2                 1                1                1   \n",
              "10            2                 1                2                0   \n",
              "\n",
              "    TP_ESCOLA  TP_ENSINO  IN_TREINEIRO  CO_MUNICIPIO_ESC NO_MUNICIPIO_ESC  \\\n",
              "4           1        NaN             0               NaN              NaN   \n",
              "5           2        1.0             0         2932606.0           Urandi   \n",
              "7           2        1.0             0               NaN              NaN   \n",
              "9           1        NaN             0               NaN              NaN   \n",
              "10          2        1.0             0         2910503.0       Entre Rios   \n",
              "\n",
              "    CO_UF_ESC SG_UF_ESC  TP_DEPENDENCIA_ADM_ESC  TP_LOCALIZACAO_ESC  \\\n",
              "4         NaN       NaN                     NaN                 NaN   \n",
              "5        29.0        BA                     2.0                 1.0   \n",
              "7         NaN       NaN                     NaN                 NaN   \n",
              "9         NaN       NaN                     NaN                 NaN   \n",
              "10       29.0        BA                     2.0                 1.0   \n",
              "\n",
              "    TP_SIT_FUNC_ESC  CO_MUNICIPIO_PROVA NO_MUNICIPIO_PROVA  CO_UF_PROVA  \\\n",
              "4               NaN             2910800   Feira de Santana           29   \n",
              "5               1.0             2932606             Urandi           29   \n",
              "7               NaN             2907202          Casa Nova           29   \n",
              "9               NaN             2927408           Salvador           29   \n",
              "10              1.0             2910503         Entre Rios           29   \n",
              "\n",
              "   SG_UF_PROVA  TP_PRESENCA_CN  TP_PRESENCA_CH  TP_PRESENCA_LC  \\\n",
              "4           BA               1               1               1   \n",
              "5           BA               1               1               1   \n",
              "7           BA               1               1               1   \n",
              "9           BA               0               0               0   \n",
              "10          BA               1               1               1   \n",
              "\n",
              "    TP_PRESENCA_MT  CO_PROVA_CN  CO_PROVA_CH  CO_PROVA_LC  CO_PROVA_MT  \\\n",
              "4                1       1014.0       1000.0       1004.0       1010.0   \n",
              "5                1        910.0        879.0        889.0        900.0   \n",
              "7                1        912.0        882.0        891.0        901.0   \n",
              "9                0          NaN          NaN          NaN          NaN   \n",
              "10               1        909.0        881.0        892.0        899.0   \n",
              "\n",
              "    NU_NOTA_CN  NU_NOTA_CH  NU_NOTA_LC  NU_NOTA_MT  \\\n",
              "4        465.2       613.1       522.1       579.6   \n",
              "5        414.6       410.1       386.7       423.0   \n",
              "7        590.9       659.7       593.6       586.8   \n",
              "9          NaN         NaN         NaN         NaN   \n",
              "10       594.4       572.8       536.6       469.6   \n",
              "\n",
              "                                  TX_RESPOSTAS_CN  \\\n",
              "4   CDCCBDBBDCBACEBDACBCACADBCBECCEBCDDEBDACEECCD   \n",
              "5   CBCAEDDBBCBABADAABECACCEBDEABCCAECEECCDBCBDCB   \n",
              "7   BADCBEEBECDDEABAEDEBCDCCDABBBEBBDDACCCADBEACE   \n",
              "9                                             NaN   \n",
              "10  DCADABEEABDAEDABADCABEACABDAEBECBBBDCCCDBCBCD   \n",
              "\n",
              "                                  TX_RESPOSTAS_CH  \\\n",
              "4   CCBAADECCBACBECCBEADAEBEACBEBBEADEBBABDACDEBC   \n",
              "5   BACDABADEBACEDCACDADBCBDBDBECADBEDAEBDCAEBDCA   \n",
              "7   EBBBEADACABBBADEECBAAEDDBBADCDADBCADDEBBCCEAB   \n",
              "9                                             NaN   \n",
              "10  BEECCABABABBEAEACBADCAEBEDAABAEAEADCCCAAEEBAA   \n",
              "\n",
              "                                      TX_RESPOSTAS_LC  \\\n",
              "4   BADCE99999DABAABBABBBCEDBDCDABEABCBBDCACBABAAA...   \n",
              "5   BAEAB99999CACBABEBADECADCEDCBCADABDEDBDCABCACB...   \n",
              "7   ACBAB99999DCEADCADACBDEAEDDABDADCBBBDABCDDDECB...   \n",
              "9                                                 NaN   \n",
              "10  ABBAB99999ADDBAABABCBBBACADAEDBBCCEEEBEAACCDBE...   \n",
              "\n",
              "                                  TX_RESPOSTAS_MT  TP_LINGUA  \\\n",
              "4   CCBACBBCCCCEDDDDCBCCDCACCCBBBDDDBCBADDBCABACA          0   \n",
              "5   EACDCADDDCDBADABACEDEDCECBDCCBEAACEADEAECCCEC          0   \n",
              "7   DDEBEEEDDDCAEEBACBEAADDDCCEDEEBABEECEBEEBCAAC          0   \n",
              "9                                             NaN          0   \n",
              "10  DABEACCEACAACBBABBBACCAACBBAAECBBCBEBCCCBABBD          0   \n",
              "\n",
              "                                   TX_GABARITO_CN  \\\n",
              "4   CDBBBCABEDEDEAAEBACCCBDABCDCBCBDECDADCDBBEEBB   \n",
              "5   ADCDCDBBBECDCCDCBCBDABCAADCBEBABEEBBBCABEDEDE   \n",
              "7   DABCEDEBEEBBCABEDDCBCBECDADCDAACBDCCCDBBBEBAB   \n",
              "9                                             NaN   \n",
              "10  EDECABEDABCBEBACCDCBBEEBBCBDAAECDCBDCDBBBADCD   \n",
              "\n",
              "                                   TX_GABARITO_CH  \\\n",
              "4   BBBAAEECBBABEECEBAAEADBCACAEABEDDEBBBADBCBADC   \n",
              "5   BADCBADBCEDDEBBADBCABEECCAEABEBAAECBBABAAEEBB   \n",
              "7   EBAAEADBCACBBABEECBAAEEBBBADCBADBCEDDEBBCAEAB   \n",
              "9                                             NaN   \n",
              "10  BEECCAEABADBCAEBAAEEDDEBBBADBCBAAEEBBBADCCBBA   \n",
              "\n",
              "                                       TX_GABARITO_LC  \\\n",
              "4   ABBCAEAACADDCACDCADABBBBDEBBACEADCEBDDACEEDDDB...   \n",
              "5   CAABBCAEAABDCDEADCEDBEDDDABBBBDEBCEADABDBACACD...   \n",
              "7   ACABBACAEADCEADABDACDCEABDDADBEDDDEBBACCDDDCCE...   \n",
              "9                                                 NaN   \n",
              "10  ABBACAAECACDBDDADEBDDCBDCEDBEDDBBBBDCEEAADABAC...   \n",
              "\n",
              "                                   TX_GABARITO_MT  TP_STATUS_REDACAO  \\\n",
              "4   ECCCABBDBDDDCEDDCABXEEEBABEDCEDCCAEBADBCCECDA                1.0   \n",
              "5   DDCABDCCAEDCEBBDBDAEEBADCAECDBCCCCDDCEEBABXEE                1.0   \n",
              "7   DCCAEBABDDCABEECCBCCEXADDCEECDEBADCABBDBDEDCE                1.0   \n",
              "9                                             NaN                NaN   \n",
              "10  EEXEBABDDCECCBCCECDCAEBADEABBDBDEDCEDCCADDCAB                1.0   \n",
              "\n",
              "    NU_NOTA_COMP1  NU_NOTA_COMP2  NU_NOTA_COMP3  NU_NOTA_COMP4  NU_NOTA_COMP5  \\\n",
              "4           100.0          120.0          100.0          120.0          100.0   \n",
              "5           120.0          180.0          140.0          160.0          100.0   \n",
              "7           160.0          180.0          160.0          200.0          200.0   \n",
              "9             NaN            NaN            NaN            NaN            NaN   \n",
              "10          100.0          100.0           80.0           80.0           80.0   \n",
              "\n",
              "    NU_NOTA_REDACAO  \n",
              "4             540.0  \n",
              "5             700.0  \n",
              "7             900.0  \n",
              "9               NaN  \n",
              "10            440.0  "
            ],
            "text/html": [
              "\n",
              "  <div id=\"df-599982fc-aa39-478c-8da7-2bacb694f97a\" class=\"colab-df-container\">\n",
              "    <div>\n",
              "<style scoped>\n",
              "    .dataframe tbody tr th:only-of-type {\n",
              "        vertical-align: middle;\n",
              "    }\n",
              "\n",
              "    .dataframe tbody tr th {\n",
              "        vertical-align: top;\n",
              "    }\n",
              "\n",
              "    .dataframe thead th {\n",
              "        text-align: right;\n",
              "    }\n",
              "</style>\n",
              "<table border=\"1\" class=\"dataframe\">\n",
              "  <thead>\n",
              "    <tr style=\"text-align: right;\">\n",
              "      <th></th>\n",
              "      <th>NU_INSCRICAO</th>\n",
              "      <th>NU_ANO</th>\n",
              "      <th>TP_FAIXA_ETARIA</th>\n",
              "      <th>TP_SEXO</th>\n",
              "      <th>TP_ESTADO_CIVIL</th>\n",
              "      <th>TP_COR_RACA</th>\n",
              "      <th>TP_NACIONALIDADE</th>\n",
              "      <th>TP_ST_CONCLUSAO</th>\n",
              "      <th>TP_ANO_CONCLUIU</th>\n",
              "      <th>TP_ESCOLA</th>\n",
              "      <th>TP_ENSINO</th>\n",
              "      <th>IN_TREINEIRO</th>\n",
              "      <th>CO_MUNICIPIO_ESC</th>\n",
              "      <th>NO_MUNICIPIO_ESC</th>\n",
              "      <th>CO_UF_ESC</th>\n",
              "      <th>SG_UF_ESC</th>\n",
              "      <th>TP_DEPENDENCIA_ADM_ESC</th>\n",
              "      <th>TP_LOCALIZACAO_ESC</th>\n",
              "      <th>TP_SIT_FUNC_ESC</th>\n",
              "      <th>CO_MUNICIPIO_PROVA</th>\n",
              "      <th>NO_MUNICIPIO_PROVA</th>\n",
              "      <th>CO_UF_PROVA</th>\n",
              "      <th>SG_UF_PROVA</th>\n",
              "      <th>TP_PRESENCA_CN</th>\n",
              "      <th>TP_PRESENCA_CH</th>\n",
              "      <th>TP_PRESENCA_LC</th>\n",
              "      <th>TP_PRESENCA_MT</th>\n",
              "      <th>CO_PROVA_CN</th>\n",
              "      <th>CO_PROVA_CH</th>\n",
              "      <th>CO_PROVA_LC</th>\n",
              "      <th>CO_PROVA_MT</th>\n",
              "      <th>NU_NOTA_CN</th>\n",
              "      <th>NU_NOTA_CH</th>\n",
              "      <th>NU_NOTA_LC</th>\n",
              "      <th>NU_NOTA_MT</th>\n",
              "      <th>TX_RESPOSTAS_CN</th>\n",
              "      <th>TX_RESPOSTAS_CH</th>\n",
              "      <th>TX_RESPOSTAS_LC</th>\n",
              "      <th>TX_RESPOSTAS_MT</th>\n",
              "      <th>TP_LINGUA</th>\n",
              "      <th>TX_GABARITO_CN</th>\n",
              "      <th>TX_GABARITO_CH</th>\n",
              "      <th>TX_GABARITO_LC</th>\n",
              "      <th>TX_GABARITO_MT</th>\n",
              "      <th>TP_STATUS_REDACAO</th>\n",
              "      <th>NU_NOTA_COMP1</th>\n",
              "      <th>NU_NOTA_COMP2</th>\n",
              "      <th>NU_NOTA_COMP3</th>\n",
              "      <th>NU_NOTA_COMP4</th>\n",
              "      <th>NU_NOTA_COMP5</th>\n",
              "      <th>NU_NOTA_REDACAO</th>\n",
              "    </tr>\n",
              "  </thead>\n",
              "  <tbody>\n",
              "    <tr>\n",
              "      <th>4</th>\n",
              "      <td>210053156861</td>\n",
              "      <td>2021</td>\n",
              "      <td>9</td>\n",
              "      <td>M</td>\n",
              "      <td>1</td>\n",
              "      <td>2</td>\n",
              "      <td>1</td>\n",
              "      <td>1</td>\n",
              "      <td>5</td>\n",
              "      <td>1</td>\n",
              "      <td>NaN</td>\n",
              "      <td>0</td>\n",
              "      <td>NaN</td>\n",
              "      <td>NaN</td>\n",
              "      <td>NaN</td>\n",
              "      <td>NaN</td>\n",
              "      <td>NaN</td>\n",
              "      <td>NaN</td>\n",
              "      <td>NaN</td>\n",
              "      <td>2910800</td>\n",
              "      <td>Feira de Santana</td>\n",
              "      <td>29</td>\n",
              "      <td>BA</td>\n",
              "      <td>1</td>\n",
              "      <td>1</td>\n",
              "      <td>1</td>\n",
              "      <td>1</td>\n",
              "      <td>1014.0</td>\n",
              "      <td>1000.0</td>\n",
              "      <td>1004.0</td>\n",
              "      <td>1010.0</td>\n",
              "      <td>465.2</td>\n",
              "      <td>613.1</td>\n",
              "      <td>522.1</td>\n",
              "      <td>579.6</td>\n",
              "      <td>CDCCBDBBDCBACEBDACBCACADBCBECCEBCDDEBDACEECCD</td>\n",
              "      <td>CCBAADECCBACBECCBEADAEBEACBEBBEADEBBABDACDEBC</td>\n",
              "      <td>BADCE99999DABAABBABBBCEDBDCDABEABCBBDCACBABAAA...</td>\n",
              "      <td>CCBACBBCCCCEDDDDCBCCDCACCCBBBDDDBCBADDBCABACA</td>\n",
              "      <td>0</td>\n",
              "      <td>CDBBBCABEDEDEAAEBACCCBDABCDCBCBDECDADCDBBEEBB</td>\n",
              "      <td>BBBAAEECBBABEECEBAAEADBCACAEABEDDEBBBADBCBADC</td>\n",
              "      <td>ABBCAEAACADDCACDCADABBBBDEBBACEADCEBDDACEEDDDB...</td>\n",
              "      <td>ECCCABBDBDDDCEDDCABXEEEBABEDCEDCCAEBADBCCECDA</td>\n",
              "      <td>1.0</td>\n",
              "      <td>100.0</td>\n",
              "      <td>120.0</td>\n",
              "      <td>100.0</td>\n",
              "      <td>120.0</td>\n",
              "      <td>100.0</td>\n",
              "      <td>540.0</td>\n",
              "    </tr>\n",
              "    <tr>\n",
              "      <th>5</th>\n",
              "      <td>210053085526</td>\n",
              "      <td>2021</td>\n",
              "      <td>3</td>\n",
              "      <td>M</td>\n",
              "      <td>1</td>\n",
              "      <td>1</td>\n",
              "      <td>1</td>\n",
              "      <td>2</td>\n",
              "      <td>0</td>\n",
              "      <td>2</td>\n",
              "      <td>1.0</td>\n",
              "      <td>0</td>\n",
              "      <td>2932606.0</td>\n",
              "      <td>Urandi</td>\n",
              "      <td>29.0</td>\n",
              "      <td>BA</td>\n",
              "      <td>2.0</td>\n",
              "      <td>1.0</td>\n",
              "      <td>1.0</td>\n",
              "      <td>2932606</td>\n",
              "      <td>Urandi</td>\n",
              "      <td>29</td>\n",
              "      <td>BA</td>\n",
              "      <td>1</td>\n",
              "      <td>1</td>\n",
              "      <td>1</td>\n",
              "      <td>1</td>\n",
              "      <td>910.0</td>\n",
              "      <td>879.0</td>\n",
              "      <td>889.0</td>\n",
              "      <td>900.0</td>\n",
              "      <td>414.6</td>\n",
              "      <td>410.1</td>\n",
              "      <td>386.7</td>\n",
              "      <td>423.0</td>\n",
              "      <td>CBCAEDDBBCBABADAABECACCEBDEABCCAECEECCDBCBDCB</td>\n",
              "      <td>BACDABADEBACEDCACDADBCBDBDBECADBEDAEBDCAEBDCA</td>\n",
              "      <td>BAEAB99999CACBABEBADECADCEDCBCADABDEDBDCABCACB...</td>\n",
              "      <td>EACDCADDDCDBADABACEDEDCECBDCCBEAACEADEAECCCEC</td>\n",
              "      <td>0</td>\n",
              "      <td>ADCDCDBBBECDCCDCBCBDABCAADCBEBABEEBBBCABEDEDE</td>\n",
              "      <td>BADCBADBCEDDEBBADBCABEECCAEABEBAAECBBABAAEEBB</td>\n",
              "      <td>CAABBCAEAABDCDEADCEDBEDDDABBBBDEBCEADABDBACACD...</td>\n",
              "      <td>DDCABDCCAEDCEBBDBDAEEBADCAECDBCCCCDDCEEBABXEE</td>\n",
              "      <td>1.0</td>\n",
              "      <td>120.0</td>\n",
              "      <td>180.0</td>\n",
              "      <td>140.0</td>\n",
              "      <td>160.0</td>\n",
              "      <td>100.0</td>\n",
              "      <td>700.0</td>\n",
              "    </tr>\n",
              "    <tr>\n",
              "      <th>7</th>\n",
              "      <td>210053790986</td>\n",
              "      <td>2021</td>\n",
              "      <td>1</td>\n",
              "      <td>M</td>\n",
              "      <td>1</td>\n",
              "      <td>1</td>\n",
              "      <td>1</td>\n",
              "      <td>2</td>\n",
              "      <td>0</td>\n",
              "      <td>2</td>\n",
              "      <td>1.0</td>\n",
              "      <td>0</td>\n",
              "      <td>NaN</td>\n",
              "      <td>NaN</td>\n",
              "      <td>NaN</td>\n",
              "      <td>NaN</td>\n",
              "      <td>NaN</td>\n",
              "      <td>NaN</td>\n",
              "      <td>NaN</td>\n",
              "      <td>2907202</td>\n",
              "      <td>Casa Nova</td>\n",
              "      <td>29</td>\n",
              "      <td>BA</td>\n",
              "      <td>1</td>\n",
              "      <td>1</td>\n",
              "      <td>1</td>\n",
              "      <td>1</td>\n",
              "      <td>912.0</td>\n",
              "      <td>882.0</td>\n",
              "      <td>891.0</td>\n",
              "      <td>901.0</td>\n",
              "      <td>590.9</td>\n",
              "      <td>659.7</td>\n",
              "      <td>593.6</td>\n",
              "      <td>586.8</td>\n",
              "      <td>BADCBEEBECDDEABAEDEBCDCCDABBBEBBDDACCCADBEACE</td>\n",
              "      <td>EBBBEADACABBBADEECBAAEDDBBADCDADBCADDEBBCCEAB</td>\n",
              "      <td>ACBAB99999DCEADCADACBDEAEDDABDADCBBBDABCDDDECB...</td>\n",
              "      <td>DDEBEEEDDDCAEEBACBEAADDDCCEDEEBABEECEBEEBCAAC</td>\n",
              "      <td>0</td>\n",
              "      <td>DABCEDEBEEBBCABEDDCBCBECDADCDAACBDCCCDBBBEBAB</td>\n",
              "      <td>EBAAEADBCACBBABEECBAAEEBBBADCBADBCEDDEBBCAEAB</td>\n",
              "      <td>ACABBACAEADCEADABDACDCEABDDADBEDDDEBBACCDDDCCE...</td>\n",
              "      <td>DCCAEBABDDCABEECCBCCEXADDCEECDEBADCABBDBDEDCE</td>\n",
              "      <td>1.0</td>\n",
              "      <td>160.0</td>\n",
              "      <td>180.0</td>\n",
              "      <td>160.0</td>\n",
              "      <td>200.0</td>\n",
              "      <td>200.0</td>\n",
              "      <td>900.0</td>\n",
              "    </tr>\n",
              "    <tr>\n",
              "      <th>9</th>\n",
              "      <td>210054171092</td>\n",
              "      <td>2021</td>\n",
              "      <td>4</td>\n",
              "      <td>M</td>\n",
              "      <td>1</td>\n",
              "      <td>2</td>\n",
              "      <td>1</td>\n",
              "      <td>1</td>\n",
              "      <td>1</td>\n",
              "      <td>1</td>\n",
              "      <td>NaN</td>\n",
              "      <td>0</td>\n",
              "      <td>NaN</td>\n",
              "      <td>NaN</td>\n",
              "      <td>NaN</td>\n",
              "      <td>NaN</td>\n",
              "      <td>NaN</td>\n",
              "      <td>NaN</td>\n",
              "      <td>NaN</td>\n",
              "      <td>2927408</td>\n",
              "      <td>Salvador</td>\n",
              "      <td>29</td>\n",
              "      <td>BA</td>\n",
              "      <td>0</td>\n",
              "      <td>0</td>\n",
              "      <td>0</td>\n",
              "      <td>0</td>\n",
              "      <td>NaN</td>\n",
              "      <td>NaN</td>\n",
              "      <td>NaN</td>\n",
              "      <td>NaN</td>\n",
              "      <td>NaN</td>\n",
              "      <td>NaN</td>\n",
              "      <td>NaN</td>\n",
              "      <td>NaN</td>\n",
              "      <td>NaN</td>\n",
              "      <td>NaN</td>\n",
              "      <td>NaN</td>\n",
              "      <td>NaN</td>\n",
              "      <td>0</td>\n",
              "      <td>NaN</td>\n",
              "      <td>NaN</td>\n",
              "      <td>NaN</td>\n",
              "      <td>NaN</td>\n",
              "      <td>NaN</td>\n",
              "      <td>NaN</td>\n",
              "      <td>NaN</td>\n",
              "      <td>NaN</td>\n",
              "      <td>NaN</td>\n",
              "      <td>NaN</td>\n",
              "      <td>NaN</td>\n",
              "    </tr>\n",
              "    <tr>\n",
              "      <th>10</th>\n",
              "      <td>210052237624</td>\n",
              "      <td>2021</td>\n",
              "      <td>5</td>\n",
              "      <td>M</td>\n",
              "      <td>1</td>\n",
              "      <td>2</td>\n",
              "      <td>1</td>\n",
              "      <td>2</td>\n",
              "      <td>0</td>\n",
              "      <td>2</td>\n",
              "      <td>1.0</td>\n",
              "      <td>0</td>\n",
              "      <td>2910503.0</td>\n",
              "      <td>Entre Rios</td>\n",
              "      <td>29.0</td>\n",
              "      <td>BA</td>\n",
              "      <td>2.0</td>\n",
              "      <td>1.0</td>\n",
              "      <td>1.0</td>\n",
              "      <td>2910503</td>\n",
              "      <td>Entre Rios</td>\n",
              "      <td>29</td>\n",
              "      <td>BA</td>\n",
              "      <td>1</td>\n",
              "      <td>1</td>\n",
              "      <td>1</td>\n",
              "      <td>1</td>\n",
              "      <td>909.0</td>\n",
              "      <td>881.0</td>\n",
              "      <td>892.0</td>\n",
              "      <td>899.0</td>\n",
              "      <td>594.4</td>\n",
              "      <td>572.8</td>\n",
              "      <td>536.6</td>\n",
              "      <td>469.6</td>\n",
              "      <td>DCADABEEABDAEDABADCABEACABDAEBECBBBDCCCDBCBCD</td>\n",
              "      <td>BEECCABABABBEAEACBADCAEBEDAABAEAEADCCCAAEEBAA</td>\n",
              "      <td>ABBAB99999ADDBAABABCBBBACADAEDBBCCEEEBEAACCDBE...</td>\n",
              "      <td>DABEACCEACAACBBABBBACCAACBBAAECBBCBEBCCCBABBD</td>\n",
              "      <td>0</td>\n",
              "      <td>EDECABEDABCBEBACCDCBBEEBBCBDAAECDCBDCDBBBADCD</td>\n",
              "      <td>BEECCAEABADBCAEBAAEEDDEBBBADBCBAAEEBBBADCCBBA</td>\n",
              "      <td>ABBACAAECACDBDDADEBDDCBDCEDBEDDBBBBDCEEAADABAC...</td>\n",
              "      <td>EEXEBABDDCECCBCCECDCAEBADEABBDBDEDCEDCCADDCAB</td>\n",
              "      <td>1.0</td>\n",
              "      <td>100.0</td>\n",
              "      <td>100.0</td>\n",
              "      <td>80.0</td>\n",
              "      <td>80.0</td>\n",
              "      <td>80.0</td>\n",
              "      <td>440.0</td>\n",
              "    </tr>\n",
              "  </tbody>\n",
              "</table>\n",
              "</div>\n",
              "    <div class=\"colab-df-buttons\">\n",
              "\n",
              "  <div class=\"colab-df-container\">\n",
              "    <button class=\"colab-df-convert\" onclick=\"convertToInteractive('df-599982fc-aa39-478c-8da7-2bacb694f97a')\"\n",
              "            title=\"Convert this dataframe to an interactive table.\"\n",
              "            style=\"display:none;\">\n",
              "\n",
              "  <svg xmlns=\"http://www.w3.org/2000/svg\" height=\"24px\" viewBox=\"0 -960 960 960\">\n",
              "    <path d=\"M120-120v-720h720v720H120Zm60-500h600v-160H180v160Zm220 220h160v-160H400v160Zm0 220h160v-160H400v160ZM180-400h160v-160H180v160Zm440 0h160v-160H620v160ZM180-180h160v-160H180v160Zm440 0h160v-160H620v160Z\"/>\n",
              "  </svg>\n",
              "    </button>\n",
              "\n",
              "  <style>\n",
              "    .colab-df-container {\n",
              "      display:flex;\n",
              "      gap: 12px;\n",
              "    }\n",
              "\n",
              "    .colab-df-convert {\n",
              "      background-color: #E8F0FE;\n",
              "      border: none;\n",
              "      border-radius: 50%;\n",
              "      cursor: pointer;\n",
              "      display: none;\n",
              "      fill: #1967D2;\n",
              "      height: 32px;\n",
              "      padding: 0 0 0 0;\n",
              "      width: 32px;\n",
              "    }\n",
              "\n",
              "    .colab-df-convert:hover {\n",
              "      background-color: #E2EBFA;\n",
              "      box-shadow: 0px 1px 2px rgba(60, 64, 67, 0.3), 0px 1px 3px 1px rgba(60, 64, 67, 0.15);\n",
              "      fill: #174EA6;\n",
              "    }\n",
              "\n",
              "    .colab-df-buttons div {\n",
              "      margin-bottom: 4px;\n",
              "    }\n",
              "\n",
              "    [theme=dark] .colab-df-convert {\n",
              "      background-color: #3B4455;\n",
              "      fill: #D2E3FC;\n",
              "    }\n",
              "\n",
              "    [theme=dark] .colab-df-convert:hover {\n",
              "      background-color: #434B5C;\n",
              "      box-shadow: 0px 1px 3px 1px rgba(0, 0, 0, 0.15);\n",
              "      filter: drop-shadow(0px 1px 2px rgba(0, 0, 0, 0.3));\n",
              "      fill: #FFFFFF;\n",
              "    }\n",
              "  </style>\n",
              "\n",
              "    <script>\n",
              "      const buttonEl =\n",
              "        document.querySelector('#df-599982fc-aa39-478c-8da7-2bacb694f97a button.colab-df-convert');\n",
              "      buttonEl.style.display =\n",
              "        google.colab.kernel.accessAllowed ? 'block' : 'none';\n",
              "\n",
              "      async function convertToInteractive(key) {\n",
              "        const element = document.querySelector('#df-599982fc-aa39-478c-8da7-2bacb694f97a');\n",
              "        const dataTable =\n",
              "          await google.colab.kernel.invokeFunction('convertToInteractive',\n",
              "                                                    [key], {});\n",
              "        if (!dataTable) return;\n",
              "\n",
              "        const docLinkHtml = 'Like what you see? Visit the ' +\n",
              "          '<a target=\"_blank\" href=https://colab.research.google.com/notebooks/data_table.ipynb>data table notebook</a>'\n",
              "          + ' to learn more about interactive tables.';\n",
              "        element.innerHTML = '';\n",
              "        dataTable['output_type'] = 'display_data';\n",
              "        await google.colab.output.renderOutput(dataTable, element);\n",
              "        const docLink = document.createElement('div');\n",
              "        docLink.innerHTML = docLinkHtml;\n",
              "        element.appendChild(docLink);\n",
              "      }\n",
              "    </script>\n",
              "  </div>\n",
              "\n",
              "\n",
              "    <div id=\"df-6a9867c0-0233-4a48-a71e-49c47e8364c4\">\n",
              "      <button class=\"colab-df-quickchart\" onclick=\"quickchart('df-6a9867c0-0233-4a48-a71e-49c47e8364c4')\"\n",
              "                title=\"Suggest charts\"\n",
              "                style=\"display:none;\">\n",
              "\n",
              "<svg xmlns=\"http://www.w3.org/2000/svg\" height=\"24px\"viewBox=\"0 0 24 24\"\n",
              "     width=\"24px\">\n",
              "    <g>\n",
              "        <path d=\"M19 3H5c-1.1 0-2 .9-2 2v14c0 1.1.9 2 2 2h14c1.1 0 2-.9 2-2V5c0-1.1-.9-2-2-2zM9 17H7v-7h2v7zm4 0h-2V7h2v10zm4 0h-2v-4h2v4z\"/>\n",
              "    </g>\n",
              "</svg>\n",
              "      </button>\n",
              "\n",
              "<style>\n",
              "  .colab-df-quickchart {\n",
              "      --bg-color: #E8F0FE;\n",
              "      --fill-color: #1967D2;\n",
              "      --hover-bg-color: #E2EBFA;\n",
              "      --hover-fill-color: #174EA6;\n",
              "      --disabled-fill-color: #AAA;\n",
              "      --disabled-bg-color: #DDD;\n",
              "  }\n",
              "\n",
              "  [theme=dark] .colab-df-quickchart {\n",
              "      --bg-color: #3B4455;\n",
              "      --fill-color: #D2E3FC;\n",
              "      --hover-bg-color: #434B5C;\n",
              "      --hover-fill-color: #FFFFFF;\n",
              "      --disabled-bg-color: #3B4455;\n",
              "      --disabled-fill-color: #666;\n",
              "  }\n",
              "\n",
              "  .colab-df-quickchart {\n",
              "    background-color: var(--bg-color);\n",
              "    border: none;\n",
              "    border-radius: 50%;\n",
              "    cursor: pointer;\n",
              "    display: none;\n",
              "    fill: var(--fill-color);\n",
              "    height: 32px;\n",
              "    padding: 0;\n",
              "    width: 32px;\n",
              "  }\n",
              "\n",
              "  .colab-df-quickchart:hover {\n",
              "    background-color: var(--hover-bg-color);\n",
              "    box-shadow: 0 1px 2px rgba(60, 64, 67, 0.3), 0 1px 3px 1px rgba(60, 64, 67, 0.15);\n",
              "    fill: var(--button-hover-fill-color);\n",
              "  }\n",
              "\n",
              "  .colab-df-quickchart-complete:disabled,\n",
              "  .colab-df-quickchart-complete:disabled:hover {\n",
              "    background-color: var(--disabled-bg-color);\n",
              "    fill: var(--disabled-fill-color);\n",
              "    box-shadow: none;\n",
              "  }\n",
              "\n",
              "  .colab-df-spinner {\n",
              "    border: 2px solid var(--fill-color);\n",
              "    border-color: transparent;\n",
              "    border-bottom-color: var(--fill-color);\n",
              "    animation:\n",
              "      spin 1s steps(1) infinite;\n",
              "  }\n",
              "\n",
              "  @keyframes spin {\n",
              "    0% {\n",
              "      border-color: transparent;\n",
              "      border-bottom-color: var(--fill-color);\n",
              "      border-left-color: var(--fill-color);\n",
              "    }\n",
              "    20% {\n",
              "      border-color: transparent;\n",
              "      border-left-color: var(--fill-color);\n",
              "      border-top-color: var(--fill-color);\n",
              "    }\n",
              "    30% {\n",
              "      border-color: transparent;\n",
              "      border-left-color: var(--fill-color);\n",
              "      border-top-color: var(--fill-color);\n",
              "      border-right-color: var(--fill-color);\n",
              "    }\n",
              "    40% {\n",
              "      border-color: transparent;\n",
              "      border-right-color: var(--fill-color);\n",
              "      border-top-color: var(--fill-color);\n",
              "    }\n",
              "    60% {\n",
              "      border-color: transparent;\n",
              "      border-right-color: var(--fill-color);\n",
              "    }\n",
              "    80% {\n",
              "      border-color: transparent;\n",
              "      border-right-color: var(--fill-color);\n",
              "      border-bottom-color: var(--fill-color);\n",
              "    }\n",
              "    90% {\n",
              "      border-color: transparent;\n",
              "      border-bottom-color: var(--fill-color);\n",
              "    }\n",
              "  }\n",
              "</style>\n",
              "\n",
              "      <script>\n",
              "        async function quickchart(key) {\n",
              "          const quickchartButtonEl =\n",
              "            document.querySelector('#' + key + ' button');\n",
              "          quickchartButtonEl.disabled = true;  // To prevent multiple clicks.\n",
              "          quickchartButtonEl.classList.add('colab-df-spinner');\n",
              "          try {\n",
              "            const charts = await google.colab.kernel.invokeFunction(\n",
              "                'suggestCharts', [key], {});\n",
              "          } catch (error) {\n",
              "            console.error('Error during call to suggestCharts:', error);\n",
              "          }\n",
              "          quickchartButtonEl.classList.remove('colab-df-spinner');\n",
              "          quickchartButtonEl.classList.add('colab-df-quickchart-complete');\n",
              "        }\n",
              "        (() => {\n",
              "          let quickchartButtonEl =\n",
              "            document.querySelector('#df-6a9867c0-0233-4a48-a71e-49c47e8364c4 button');\n",
              "          quickchartButtonEl.style.display =\n",
              "            google.colab.kernel.accessAllowed ? 'block' : 'none';\n",
              "        })();\n",
              "      </script>\n",
              "    </div>\n",
              "\n",
              "    </div>\n",
              "  </div>\n"
            ],
            "application/vnd.google.colaboratory.intrinsic+json": {
              "type": "dataframe"
            }
          },
          "metadata": {},
          "execution_count": 73
        }
      ]
    },
    {
      "cell_type": "code",
      "source": [
        "dados[(dados[\"TP_SEXO\"] == \"M\") & (dados[\"IN_TREINEIRO\"] == 1)].head()"
      ],
      "metadata": {
        "colab": {
          "base_uri": "https://localhost:8080/",
          "height": 226
        },
        "id": "eFjzD8pZjeMj",
        "outputId": "530e104e-f166-476f-df5d-6c4ff7b56684"
      },
      "execution_count": 74,
      "outputs": [
        {
          "output_type": "execute_result",
          "data": {
            "text/plain": [
              "     NU_INSCRICAO  NU_ANO  TP_FAIXA_ETARIA TP_SEXO  TP_ESTADO_CIVIL  \\\n",
              "69   210053707047    2021                1       M                1   \n",
              "113  210051127853    2021                1       M                1   \n",
              "151  210053634740    2021                5       M                1   \n",
              "155  210052073811    2021                1       M                1   \n",
              "204  210053593141    2021                2       M                1   \n",
              "\n",
              "     TP_COR_RACA  TP_NACIONALIDADE  TP_ST_CONCLUSAO  TP_ANO_CONCLUIU  \\\n",
              "69             1                 1                3                0   \n",
              "113            2                 1                3                0   \n",
              "151            2                 1                3                0   \n",
              "155            2                 2                3                0   \n",
              "204            3                 1                3                0   \n",
              "\n",
              "     TP_ESCOLA  TP_ENSINO  IN_TREINEIRO  CO_MUNICIPIO_ESC NO_MUNICIPIO_ESC  \\\n",
              "69           1        NaN             1               NaN              NaN   \n",
              "113          1        NaN             1               NaN              NaN   \n",
              "151          1        NaN             1               NaN              NaN   \n",
              "155          1        NaN             1               NaN              NaN   \n",
              "204          1        NaN             1               NaN              NaN   \n",
              "\n",
              "     CO_UF_ESC SG_UF_ESC  TP_DEPENDENCIA_ADM_ESC  TP_LOCALIZACAO_ESC  \\\n",
              "69         NaN       NaN                     NaN                 NaN   \n",
              "113        NaN       NaN                     NaN                 NaN   \n",
              "151        NaN       NaN                     NaN                 NaN   \n",
              "155        NaN       NaN                     NaN                 NaN   \n",
              "204        NaN       NaN                     NaN                 NaN   \n",
              "\n",
              "     TP_SIT_FUNC_ESC  CO_MUNICIPIO_PROVA NO_MUNICIPIO_PROVA  CO_UF_PROVA  \\\n",
              "69               NaN             2902104              Araci           29   \n",
              "113              NaN             2932903            Valença           29   \n",
              "151              NaN             2927408           Salvador           29   \n",
              "155              NaN             2911204              Gandu           29   \n",
              "204              NaN             2927408           Salvador           29   \n",
              "\n",
              "    SG_UF_PROVA  TP_PRESENCA_CN  TP_PRESENCA_CH  TP_PRESENCA_LC  \\\n",
              "69           BA               1               1               1   \n",
              "113          BA               1               1               1   \n",
              "151          BA               0               0               0   \n",
              "155          BA               0               0               0   \n",
              "204          BA               1               1               1   \n",
              "\n",
              "     TP_PRESENCA_MT  CO_PROVA_CN  CO_PROVA_CH  CO_PROVA_LC  CO_PROVA_MT  \\\n",
              "69                1        912.0        882.0        891.0        901.0   \n",
              "113               1        911.0        880.0        890.0        902.0   \n",
              "151               0          NaN          NaN          NaN          NaN   \n",
              "155               0          NaN          NaN          NaN          NaN   \n",
              "204               1        909.0        881.0        892.0        899.0   \n",
              "\n",
              "     NU_NOTA_CN  NU_NOTA_CH  NU_NOTA_LC  NU_NOTA_MT  \\\n",
              "69        521.7       566.7       569.5       702.3   \n",
              "113       494.4       408.4       504.1       483.3   \n",
              "151         NaN         NaN         NaN         NaN   \n",
              "155         NaN         NaN         NaN         NaN   \n",
              "204       541.6       646.9       510.6       601.0   \n",
              "\n",
              "                                   TX_RESPOSTAS_CN  \\\n",
              "69   DDD*CEEDECBBEACBAACABEDCEACEEEABCACCCCBDBEDED   \n",
              "113  CBECBCEBEDBADCEBADABBAACBDBAEBBEDCBDAEBDBEBCE   \n",
              "151                                            NaN   \n",
              "155                                            NaN   \n",
              "204  AEDDABDEADBDEBCAADDCBBCCDCBADECACCDDCEADBCACA   \n",
              "\n",
              "                                   TX_RESPOSTAS_CH  \\\n",
              "69   DDEDEBCAEDCCBBBEACABAEEADBABCDABBDECBEBACAEAC   \n",
              "113  ECEBADDABBACCCBDADEECACABCACBADCBAEACCCAABBCA   \n",
              "151                                            NaN   \n",
              "155                                            NaN   \n",
              "204  BCECCAEABABCEAEBAACAEDEBBEBABCBBAEEBBEDECBBBA   \n",
              "\n",
              "                                       TX_RESPOSTAS_LC  \\\n",
              "69   ABACC99999DAEADCBDACDDCACDDACADAAEDCDACDDCDACE...   \n",
              "113  BACBA99999CECACBBACCBBEDAEEBADEBEEBACDACACEACD...   \n",
              "151                                                NaN   \n",
              "155                                                NaN   \n",
              "204  DACAC99999ACBDDEBEEBCCBBCEAAADAAADAECDEBADCBAA...   \n",
              "\n",
              "                                   TX_RESPOSTAS_MT  TP_LINGUA  \\\n",
              "69   CCEDEBCCDDCDBEBCCBCAEAABDAEEDCEADDABDBABCDACB          0   \n",
              "113  AACBCACDDBABCDCBDADBDCEDDBBDACECBDDCADCECBDCA          0   \n",
              "151                                            NaN          1   \n",
              "155                                            NaN          1   \n",
              "204  CADEEBDDDCBBCBBBBEDDCDAABDBABBEDCCCDDDDBDBCAC          0   \n",
              "\n",
              "                                    TX_GABARITO_CN  \\\n",
              "69   DABCEDEBEEBBCABEDDCBCBECDADCDAACBDCCCDBBBEBAB   \n",
              "113  CDBBBCABEDEDEAAEBACCCBDABCDCBCBDECDADCDBBEEBB   \n",
              "151                                            NaN   \n",
              "155                                            NaN   \n",
              "204  EDECABEDABCBEBACCDCBBEEBBCBDAAECDCBDCDBBBADCD   \n",
              "\n",
              "                                    TX_GABARITO_CH  \\\n",
              "69   EBAAEADBCACBBABEECBAAEEBBBADCBADBCEDDEBBCAEAB   \n",
              "113  BBBAAEECBBABEECEBAAEADBCACAEABEDDEBBBADBCBADC   \n",
              "151                                            NaN   \n",
              "155                                            NaN   \n",
              "204  BEECCAEABADBCAEBAAEEDDEBBBADBCBAAEEBBBADCCBBA   \n",
              "\n",
              "                                        TX_GABARITO_LC  \\\n",
              "69   ACABBACAEADCEADABDACDCEABDDADBEDDDEBBACCDDDCCE...   \n",
              "113  ABBCAEAACADDCACDCADABBBBDEBBACEADCEBDDACEEDDDB...   \n",
              "151                                                NaN   \n",
              "155                                                NaN   \n",
              "204  ABBACAAECACDBDDADEBDDCBDCEDBEDDBBBBDCEEAADABAC...   \n",
              "\n",
              "                                    TX_GABARITO_MT  TP_STATUS_REDACAO  \\\n",
              "69   DCCAEBABDDCABEECCBCCEXADDCEECDEBADCABBDBDEDCE                1.0   \n",
              "113  ECCCABBDBDDDCEDDCABXEEEBABEDCEDCCAEBADBCCECDA                1.0   \n",
              "151                                            NaN                NaN   \n",
              "155                                            NaN                NaN   \n",
              "204  EEXEBABDDCECCBCCECDCAEBADEABBDBDEDCEDCCADDCAB                1.0   \n",
              "\n",
              "     NU_NOTA_COMP1  NU_NOTA_COMP2  NU_NOTA_COMP3  NU_NOTA_COMP4  \\\n",
              "69           160.0          200.0          160.0          200.0   \n",
              "113          120.0          120.0          120.0          140.0   \n",
              "151            NaN            NaN            NaN            NaN   \n",
              "155            NaN            NaN            NaN            NaN   \n",
              "204          140.0           40.0           40.0          140.0   \n",
              "\n",
              "     NU_NOTA_COMP5  NU_NOTA_REDACAO  \n",
              "69           180.0            900.0  \n",
              "113          160.0            660.0  \n",
              "151            NaN              NaN  \n",
              "155            NaN              NaN  \n",
              "204           40.0            400.0  "
            ],
            "text/html": [
              "\n",
              "  <div id=\"df-eabd5437-4f61-48a9-a85f-6c84810b876b\" class=\"colab-df-container\">\n",
              "    <div>\n",
              "<style scoped>\n",
              "    .dataframe tbody tr th:only-of-type {\n",
              "        vertical-align: middle;\n",
              "    }\n",
              "\n",
              "    .dataframe tbody tr th {\n",
              "        vertical-align: top;\n",
              "    }\n",
              "\n",
              "    .dataframe thead th {\n",
              "        text-align: right;\n",
              "    }\n",
              "</style>\n",
              "<table border=\"1\" class=\"dataframe\">\n",
              "  <thead>\n",
              "    <tr style=\"text-align: right;\">\n",
              "      <th></th>\n",
              "      <th>NU_INSCRICAO</th>\n",
              "      <th>NU_ANO</th>\n",
              "      <th>TP_FAIXA_ETARIA</th>\n",
              "      <th>TP_SEXO</th>\n",
              "      <th>TP_ESTADO_CIVIL</th>\n",
              "      <th>TP_COR_RACA</th>\n",
              "      <th>TP_NACIONALIDADE</th>\n",
              "      <th>TP_ST_CONCLUSAO</th>\n",
              "      <th>TP_ANO_CONCLUIU</th>\n",
              "      <th>TP_ESCOLA</th>\n",
              "      <th>TP_ENSINO</th>\n",
              "      <th>IN_TREINEIRO</th>\n",
              "      <th>CO_MUNICIPIO_ESC</th>\n",
              "      <th>NO_MUNICIPIO_ESC</th>\n",
              "      <th>CO_UF_ESC</th>\n",
              "      <th>SG_UF_ESC</th>\n",
              "      <th>TP_DEPENDENCIA_ADM_ESC</th>\n",
              "      <th>TP_LOCALIZACAO_ESC</th>\n",
              "      <th>TP_SIT_FUNC_ESC</th>\n",
              "      <th>CO_MUNICIPIO_PROVA</th>\n",
              "      <th>NO_MUNICIPIO_PROVA</th>\n",
              "      <th>CO_UF_PROVA</th>\n",
              "      <th>SG_UF_PROVA</th>\n",
              "      <th>TP_PRESENCA_CN</th>\n",
              "      <th>TP_PRESENCA_CH</th>\n",
              "      <th>TP_PRESENCA_LC</th>\n",
              "      <th>TP_PRESENCA_MT</th>\n",
              "      <th>CO_PROVA_CN</th>\n",
              "      <th>CO_PROVA_CH</th>\n",
              "      <th>CO_PROVA_LC</th>\n",
              "      <th>CO_PROVA_MT</th>\n",
              "      <th>NU_NOTA_CN</th>\n",
              "      <th>NU_NOTA_CH</th>\n",
              "      <th>NU_NOTA_LC</th>\n",
              "      <th>NU_NOTA_MT</th>\n",
              "      <th>TX_RESPOSTAS_CN</th>\n",
              "      <th>TX_RESPOSTAS_CH</th>\n",
              "      <th>TX_RESPOSTAS_LC</th>\n",
              "      <th>TX_RESPOSTAS_MT</th>\n",
              "      <th>TP_LINGUA</th>\n",
              "      <th>TX_GABARITO_CN</th>\n",
              "      <th>TX_GABARITO_CH</th>\n",
              "      <th>TX_GABARITO_LC</th>\n",
              "      <th>TX_GABARITO_MT</th>\n",
              "      <th>TP_STATUS_REDACAO</th>\n",
              "      <th>NU_NOTA_COMP1</th>\n",
              "      <th>NU_NOTA_COMP2</th>\n",
              "      <th>NU_NOTA_COMP3</th>\n",
              "      <th>NU_NOTA_COMP4</th>\n",
              "      <th>NU_NOTA_COMP5</th>\n",
              "      <th>NU_NOTA_REDACAO</th>\n",
              "    </tr>\n",
              "  </thead>\n",
              "  <tbody>\n",
              "    <tr>\n",
              "      <th>69</th>\n",
              "      <td>210053707047</td>\n",
              "      <td>2021</td>\n",
              "      <td>1</td>\n",
              "      <td>M</td>\n",
              "      <td>1</td>\n",
              "      <td>1</td>\n",
              "      <td>1</td>\n",
              "      <td>3</td>\n",
              "      <td>0</td>\n",
              "      <td>1</td>\n",
              "      <td>NaN</td>\n",
              "      <td>1</td>\n",
              "      <td>NaN</td>\n",
              "      <td>NaN</td>\n",
              "      <td>NaN</td>\n",
              "      <td>NaN</td>\n",
              "      <td>NaN</td>\n",
              "      <td>NaN</td>\n",
              "      <td>NaN</td>\n",
              "      <td>2902104</td>\n",
              "      <td>Araci</td>\n",
              "      <td>29</td>\n",
              "      <td>BA</td>\n",
              "      <td>1</td>\n",
              "      <td>1</td>\n",
              "      <td>1</td>\n",
              "      <td>1</td>\n",
              "      <td>912.0</td>\n",
              "      <td>882.0</td>\n",
              "      <td>891.0</td>\n",
              "      <td>901.0</td>\n",
              "      <td>521.7</td>\n",
              "      <td>566.7</td>\n",
              "      <td>569.5</td>\n",
              "      <td>702.3</td>\n",
              "      <td>DDD*CEEDECBBEACBAACABEDCEACEEEABCACCCCBDBEDED</td>\n",
              "      <td>DDEDEBCAEDCCBBBEACABAEEADBABCDABBDECBEBACAEAC</td>\n",
              "      <td>ABACC99999DAEADCBDACDDCACDDACADAAEDCDACDDCDACE...</td>\n",
              "      <td>CCEDEBCCDDCDBEBCCBCAEAABDAEEDCEADDABDBABCDACB</td>\n",
              "      <td>0</td>\n",
              "      <td>DABCEDEBEEBBCABEDDCBCBECDADCDAACBDCCCDBBBEBAB</td>\n",
              "      <td>EBAAEADBCACBBABEECBAAEEBBBADCBADBCEDDEBBCAEAB</td>\n",
              "      <td>ACABBACAEADCEADABDACDCEABDDADBEDDDEBBACCDDDCCE...</td>\n",
              "      <td>DCCAEBABDDCABEECCBCCEXADDCEECDEBADCABBDBDEDCE</td>\n",
              "      <td>1.0</td>\n",
              "      <td>160.0</td>\n",
              "      <td>200.0</td>\n",
              "      <td>160.0</td>\n",
              "      <td>200.0</td>\n",
              "      <td>180.0</td>\n",
              "      <td>900.0</td>\n",
              "    </tr>\n",
              "    <tr>\n",
              "      <th>113</th>\n",
              "      <td>210051127853</td>\n",
              "      <td>2021</td>\n",
              "      <td>1</td>\n",
              "      <td>M</td>\n",
              "      <td>1</td>\n",
              "      <td>2</td>\n",
              "      <td>1</td>\n",
              "      <td>3</td>\n",
              "      <td>0</td>\n",
              "      <td>1</td>\n",
              "      <td>NaN</td>\n",
              "      <td>1</td>\n",
              "      <td>NaN</td>\n",
              "      <td>NaN</td>\n",
              "      <td>NaN</td>\n",
              "      <td>NaN</td>\n",
              "      <td>NaN</td>\n",
              "      <td>NaN</td>\n",
              "      <td>NaN</td>\n",
              "      <td>2932903</td>\n",
              "      <td>Valença</td>\n",
              "      <td>29</td>\n",
              "      <td>BA</td>\n",
              "      <td>1</td>\n",
              "      <td>1</td>\n",
              "      <td>1</td>\n",
              "      <td>1</td>\n",
              "      <td>911.0</td>\n",
              "      <td>880.0</td>\n",
              "      <td>890.0</td>\n",
              "      <td>902.0</td>\n",
              "      <td>494.4</td>\n",
              "      <td>408.4</td>\n",
              "      <td>504.1</td>\n",
              "      <td>483.3</td>\n",
              "      <td>CBECBCEBEDBADCEBADABBAACBDBAEBBEDCBDAEBDBEBCE</td>\n",
              "      <td>ECEBADDABBACCCBDADEECACABCACBADCBAEACCCAABBCA</td>\n",
              "      <td>BACBA99999CECACBBACCBBEDAEEBADEBEEBACDACACEACD...</td>\n",
              "      <td>AACBCACDDBABCDCBDADBDCEDDBBDACECBDDCADCECBDCA</td>\n",
              "      <td>0</td>\n",
              "      <td>CDBBBCABEDEDEAAEBACCCBDABCDCBCBDECDADCDBBEEBB</td>\n",
              "      <td>BBBAAEECBBABEECEBAAEADBCACAEABEDDEBBBADBCBADC</td>\n",
              "      <td>ABBCAEAACADDCACDCADABBBBDEBBACEADCEBDDACEEDDDB...</td>\n",
              "      <td>ECCCABBDBDDDCEDDCABXEEEBABEDCEDCCAEBADBCCECDA</td>\n",
              "      <td>1.0</td>\n",
              "      <td>120.0</td>\n",
              "      <td>120.0</td>\n",
              "      <td>120.0</td>\n",
              "      <td>140.0</td>\n",
              "      <td>160.0</td>\n",
              "      <td>660.0</td>\n",
              "    </tr>\n",
              "    <tr>\n",
              "      <th>151</th>\n",
              "      <td>210053634740</td>\n",
              "      <td>2021</td>\n",
              "      <td>5</td>\n",
              "      <td>M</td>\n",
              "      <td>1</td>\n",
              "      <td>2</td>\n",
              "      <td>1</td>\n",
              "      <td>3</td>\n",
              "      <td>0</td>\n",
              "      <td>1</td>\n",
              "      <td>NaN</td>\n",
              "      <td>1</td>\n",
              "      <td>NaN</td>\n",
              "      <td>NaN</td>\n",
              "      <td>NaN</td>\n",
              "      <td>NaN</td>\n",
              "      <td>NaN</td>\n",
              "      <td>NaN</td>\n",
              "      <td>NaN</td>\n",
              "      <td>2927408</td>\n",
              "      <td>Salvador</td>\n",
              "      <td>29</td>\n",
              "      <td>BA</td>\n",
              "      <td>0</td>\n",
              "      <td>0</td>\n",
              "      <td>0</td>\n",
              "      <td>0</td>\n",
              "      <td>NaN</td>\n",
              "      <td>NaN</td>\n",
              "      <td>NaN</td>\n",
              "      <td>NaN</td>\n",
              "      <td>NaN</td>\n",
              "      <td>NaN</td>\n",
              "      <td>NaN</td>\n",
              "      <td>NaN</td>\n",
              "      <td>NaN</td>\n",
              "      <td>NaN</td>\n",
              "      <td>NaN</td>\n",
              "      <td>NaN</td>\n",
              "      <td>1</td>\n",
              "      <td>NaN</td>\n",
              "      <td>NaN</td>\n",
              "      <td>NaN</td>\n",
              "      <td>NaN</td>\n",
              "      <td>NaN</td>\n",
              "      <td>NaN</td>\n",
              "      <td>NaN</td>\n",
              "      <td>NaN</td>\n",
              "      <td>NaN</td>\n",
              "      <td>NaN</td>\n",
              "      <td>NaN</td>\n",
              "    </tr>\n",
              "    <tr>\n",
              "      <th>155</th>\n",
              "      <td>210052073811</td>\n",
              "      <td>2021</td>\n",
              "      <td>1</td>\n",
              "      <td>M</td>\n",
              "      <td>1</td>\n",
              "      <td>2</td>\n",
              "      <td>2</td>\n",
              "      <td>3</td>\n",
              "      <td>0</td>\n",
              "      <td>1</td>\n",
              "      <td>NaN</td>\n",
              "      <td>1</td>\n",
              "      <td>NaN</td>\n",
              "      <td>NaN</td>\n",
              "      <td>NaN</td>\n",
              "      <td>NaN</td>\n",
              "      <td>NaN</td>\n",
              "      <td>NaN</td>\n",
              "      <td>NaN</td>\n",
              "      <td>2911204</td>\n",
              "      <td>Gandu</td>\n",
              "      <td>29</td>\n",
              "      <td>BA</td>\n",
              "      <td>0</td>\n",
              "      <td>0</td>\n",
              "      <td>0</td>\n",
              "      <td>0</td>\n",
              "      <td>NaN</td>\n",
              "      <td>NaN</td>\n",
              "      <td>NaN</td>\n",
              "      <td>NaN</td>\n",
              "      <td>NaN</td>\n",
              "      <td>NaN</td>\n",
              "      <td>NaN</td>\n",
              "      <td>NaN</td>\n",
              "      <td>NaN</td>\n",
              "      <td>NaN</td>\n",
              "      <td>NaN</td>\n",
              "      <td>NaN</td>\n",
              "      <td>1</td>\n",
              "      <td>NaN</td>\n",
              "      <td>NaN</td>\n",
              "      <td>NaN</td>\n",
              "      <td>NaN</td>\n",
              "      <td>NaN</td>\n",
              "      <td>NaN</td>\n",
              "      <td>NaN</td>\n",
              "      <td>NaN</td>\n",
              "      <td>NaN</td>\n",
              "      <td>NaN</td>\n",
              "      <td>NaN</td>\n",
              "    </tr>\n",
              "    <tr>\n",
              "      <th>204</th>\n",
              "      <td>210053593141</td>\n",
              "      <td>2021</td>\n",
              "      <td>2</td>\n",
              "      <td>M</td>\n",
              "      <td>1</td>\n",
              "      <td>3</td>\n",
              "      <td>1</td>\n",
              "      <td>3</td>\n",
              "      <td>0</td>\n",
              "      <td>1</td>\n",
              "      <td>NaN</td>\n",
              "      <td>1</td>\n",
              "      <td>NaN</td>\n",
              "      <td>NaN</td>\n",
              "      <td>NaN</td>\n",
              "      <td>NaN</td>\n",
              "      <td>NaN</td>\n",
              "      <td>NaN</td>\n",
              "      <td>NaN</td>\n",
              "      <td>2927408</td>\n",
              "      <td>Salvador</td>\n",
              "      <td>29</td>\n",
              "      <td>BA</td>\n",
              "      <td>1</td>\n",
              "      <td>1</td>\n",
              "      <td>1</td>\n",
              "      <td>1</td>\n",
              "      <td>909.0</td>\n",
              "      <td>881.0</td>\n",
              "      <td>892.0</td>\n",
              "      <td>899.0</td>\n",
              "      <td>541.6</td>\n",
              "      <td>646.9</td>\n",
              "      <td>510.6</td>\n",
              "      <td>601.0</td>\n",
              "      <td>AEDDABDEADBDEBCAADDCBBCCDCBADECACCDDCEADBCACA</td>\n",
              "      <td>BCECCAEABABCEAEBAACAEDEBBEBABCBBAEEBBEDECBBBA</td>\n",
              "      <td>DACAC99999ACBDDEBEEBCCBBCEAAADAAADAECDEBADCBAA...</td>\n",
              "      <td>CADEEBDDDCBBCBBBBEDDCDAABDBABBEDCCCDDDDBDBCAC</td>\n",
              "      <td>0</td>\n",
              "      <td>EDECABEDABCBEBACCDCBBEEBBCBDAAECDCBDCDBBBADCD</td>\n",
              "      <td>BEECCAEABADBCAEBAAEEDDEBBBADBCBAAEEBBBADCCBBA</td>\n",
              "      <td>ABBACAAECACDBDDADEBDDCBDCEDBEDDBBBBDCEEAADABAC...</td>\n",
              "      <td>EEXEBABDDCECCBCCECDCAEBADEABBDBDEDCEDCCADDCAB</td>\n",
              "      <td>1.0</td>\n",
              "      <td>140.0</td>\n",
              "      <td>40.0</td>\n",
              "      <td>40.0</td>\n",
              "      <td>140.0</td>\n",
              "      <td>40.0</td>\n",
              "      <td>400.0</td>\n",
              "    </tr>\n",
              "  </tbody>\n",
              "</table>\n",
              "</div>\n",
              "    <div class=\"colab-df-buttons\">\n",
              "\n",
              "  <div class=\"colab-df-container\">\n",
              "    <button class=\"colab-df-convert\" onclick=\"convertToInteractive('df-eabd5437-4f61-48a9-a85f-6c84810b876b')\"\n",
              "            title=\"Convert this dataframe to an interactive table.\"\n",
              "            style=\"display:none;\">\n",
              "\n",
              "  <svg xmlns=\"http://www.w3.org/2000/svg\" height=\"24px\" viewBox=\"0 -960 960 960\">\n",
              "    <path d=\"M120-120v-720h720v720H120Zm60-500h600v-160H180v160Zm220 220h160v-160H400v160Zm0 220h160v-160H400v160ZM180-400h160v-160H180v160Zm440 0h160v-160H620v160ZM180-180h160v-160H180v160Zm440 0h160v-160H620v160Z\"/>\n",
              "  </svg>\n",
              "    </button>\n",
              "\n",
              "  <style>\n",
              "    .colab-df-container {\n",
              "      display:flex;\n",
              "      gap: 12px;\n",
              "    }\n",
              "\n",
              "    .colab-df-convert {\n",
              "      background-color: #E8F0FE;\n",
              "      border: none;\n",
              "      border-radius: 50%;\n",
              "      cursor: pointer;\n",
              "      display: none;\n",
              "      fill: #1967D2;\n",
              "      height: 32px;\n",
              "      padding: 0 0 0 0;\n",
              "      width: 32px;\n",
              "    }\n",
              "\n",
              "    .colab-df-convert:hover {\n",
              "      background-color: #E2EBFA;\n",
              "      box-shadow: 0px 1px 2px rgba(60, 64, 67, 0.3), 0px 1px 3px 1px rgba(60, 64, 67, 0.15);\n",
              "      fill: #174EA6;\n",
              "    }\n",
              "\n",
              "    .colab-df-buttons div {\n",
              "      margin-bottom: 4px;\n",
              "    }\n",
              "\n",
              "    [theme=dark] .colab-df-convert {\n",
              "      background-color: #3B4455;\n",
              "      fill: #D2E3FC;\n",
              "    }\n",
              "\n",
              "    [theme=dark] .colab-df-convert:hover {\n",
              "      background-color: #434B5C;\n",
              "      box-shadow: 0px 1px 3px 1px rgba(0, 0, 0, 0.15);\n",
              "      filter: drop-shadow(0px 1px 2px rgba(0, 0, 0, 0.3));\n",
              "      fill: #FFFFFF;\n",
              "    }\n",
              "  </style>\n",
              "\n",
              "    <script>\n",
              "      const buttonEl =\n",
              "        document.querySelector('#df-eabd5437-4f61-48a9-a85f-6c84810b876b button.colab-df-convert');\n",
              "      buttonEl.style.display =\n",
              "        google.colab.kernel.accessAllowed ? 'block' : 'none';\n",
              "\n",
              "      async function convertToInteractive(key) {\n",
              "        const element = document.querySelector('#df-eabd5437-4f61-48a9-a85f-6c84810b876b');\n",
              "        const dataTable =\n",
              "          await google.colab.kernel.invokeFunction('convertToInteractive',\n",
              "                                                    [key], {});\n",
              "        if (!dataTable) return;\n",
              "\n",
              "        const docLinkHtml = 'Like what you see? Visit the ' +\n",
              "          '<a target=\"_blank\" href=https://colab.research.google.com/notebooks/data_table.ipynb>data table notebook</a>'\n",
              "          + ' to learn more about interactive tables.';\n",
              "        element.innerHTML = '';\n",
              "        dataTable['output_type'] = 'display_data';\n",
              "        await google.colab.output.renderOutput(dataTable, element);\n",
              "        const docLink = document.createElement('div');\n",
              "        docLink.innerHTML = docLinkHtml;\n",
              "        element.appendChild(docLink);\n",
              "      }\n",
              "    </script>\n",
              "  </div>\n",
              "\n",
              "\n",
              "    <div id=\"df-9f51b91f-8a97-4b5a-8ccf-00a23f45432d\">\n",
              "      <button class=\"colab-df-quickchart\" onclick=\"quickchart('df-9f51b91f-8a97-4b5a-8ccf-00a23f45432d')\"\n",
              "                title=\"Suggest charts\"\n",
              "                style=\"display:none;\">\n",
              "\n",
              "<svg xmlns=\"http://www.w3.org/2000/svg\" height=\"24px\"viewBox=\"0 0 24 24\"\n",
              "     width=\"24px\">\n",
              "    <g>\n",
              "        <path d=\"M19 3H5c-1.1 0-2 .9-2 2v14c0 1.1.9 2 2 2h14c1.1 0 2-.9 2-2V5c0-1.1-.9-2-2-2zM9 17H7v-7h2v7zm4 0h-2V7h2v10zm4 0h-2v-4h2v4z\"/>\n",
              "    </g>\n",
              "</svg>\n",
              "      </button>\n",
              "\n",
              "<style>\n",
              "  .colab-df-quickchart {\n",
              "      --bg-color: #E8F0FE;\n",
              "      --fill-color: #1967D2;\n",
              "      --hover-bg-color: #E2EBFA;\n",
              "      --hover-fill-color: #174EA6;\n",
              "      --disabled-fill-color: #AAA;\n",
              "      --disabled-bg-color: #DDD;\n",
              "  }\n",
              "\n",
              "  [theme=dark] .colab-df-quickchart {\n",
              "      --bg-color: #3B4455;\n",
              "      --fill-color: #D2E3FC;\n",
              "      --hover-bg-color: #434B5C;\n",
              "      --hover-fill-color: #FFFFFF;\n",
              "      --disabled-bg-color: #3B4455;\n",
              "      --disabled-fill-color: #666;\n",
              "  }\n",
              "\n",
              "  .colab-df-quickchart {\n",
              "    background-color: var(--bg-color);\n",
              "    border: none;\n",
              "    border-radius: 50%;\n",
              "    cursor: pointer;\n",
              "    display: none;\n",
              "    fill: var(--fill-color);\n",
              "    height: 32px;\n",
              "    padding: 0;\n",
              "    width: 32px;\n",
              "  }\n",
              "\n",
              "  .colab-df-quickchart:hover {\n",
              "    background-color: var(--hover-bg-color);\n",
              "    box-shadow: 0 1px 2px rgba(60, 64, 67, 0.3), 0 1px 3px 1px rgba(60, 64, 67, 0.15);\n",
              "    fill: var(--button-hover-fill-color);\n",
              "  }\n",
              "\n",
              "  .colab-df-quickchart-complete:disabled,\n",
              "  .colab-df-quickchart-complete:disabled:hover {\n",
              "    background-color: var(--disabled-bg-color);\n",
              "    fill: var(--disabled-fill-color);\n",
              "    box-shadow: none;\n",
              "  }\n",
              "\n",
              "  .colab-df-spinner {\n",
              "    border: 2px solid var(--fill-color);\n",
              "    border-color: transparent;\n",
              "    border-bottom-color: var(--fill-color);\n",
              "    animation:\n",
              "      spin 1s steps(1) infinite;\n",
              "  }\n",
              "\n",
              "  @keyframes spin {\n",
              "    0% {\n",
              "      border-color: transparent;\n",
              "      border-bottom-color: var(--fill-color);\n",
              "      border-left-color: var(--fill-color);\n",
              "    }\n",
              "    20% {\n",
              "      border-color: transparent;\n",
              "      border-left-color: var(--fill-color);\n",
              "      border-top-color: var(--fill-color);\n",
              "    }\n",
              "    30% {\n",
              "      border-color: transparent;\n",
              "      border-left-color: var(--fill-color);\n",
              "      border-top-color: var(--fill-color);\n",
              "      border-right-color: var(--fill-color);\n",
              "    }\n",
              "    40% {\n",
              "      border-color: transparent;\n",
              "      border-right-color: var(--fill-color);\n",
              "      border-top-color: var(--fill-color);\n",
              "    }\n",
              "    60% {\n",
              "      border-color: transparent;\n",
              "      border-right-color: var(--fill-color);\n",
              "    }\n",
              "    80% {\n",
              "      border-color: transparent;\n",
              "      border-right-color: var(--fill-color);\n",
              "      border-bottom-color: var(--fill-color);\n",
              "    }\n",
              "    90% {\n",
              "      border-color: transparent;\n",
              "      border-bottom-color: var(--fill-color);\n",
              "    }\n",
              "  }\n",
              "</style>\n",
              "\n",
              "      <script>\n",
              "        async function quickchart(key) {\n",
              "          const quickchartButtonEl =\n",
              "            document.querySelector('#' + key + ' button');\n",
              "          quickchartButtonEl.disabled = true;  // To prevent multiple clicks.\n",
              "          quickchartButtonEl.classList.add('colab-df-spinner');\n",
              "          try {\n",
              "            const charts = await google.colab.kernel.invokeFunction(\n",
              "                'suggestCharts', [key], {});\n",
              "          } catch (error) {\n",
              "            console.error('Error during call to suggestCharts:', error);\n",
              "          }\n",
              "          quickchartButtonEl.classList.remove('colab-df-spinner');\n",
              "          quickchartButtonEl.classList.add('colab-df-quickchart-complete');\n",
              "        }\n",
              "        (() => {\n",
              "          let quickchartButtonEl =\n",
              "            document.querySelector('#df-9f51b91f-8a97-4b5a-8ccf-00a23f45432d button');\n",
              "          quickchartButtonEl.style.display =\n",
              "            google.colab.kernel.accessAllowed ? 'block' : 'none';\n",
              "        })();\n",
              "      </script>\n",
              "    </div>\n",
              "\n",
              "    </div>\n",
              "  </div>\n"
            ],
            "application/vnd.google.colaboratory.intrinsic+json": {
              "type": "dataframe"
            }
          },
          "metadata": {},
          "execution_count": 74
        }
      ]
    },
    {
      "cell_type": "markdown",
      "source": [
        "Uma forma de deixar o código mais limpo e organizado"
      ],
      "metadata": {
        "id": "Cm2EEP2tj71G"
      }
    },
    {
      "cell_type": "code",
      "source": [
        "condicao_1 = dados[\"TP_SEXO\"] == \"M\"\n",
        "condicao_2 = dados[\"IN_TREINEIRO\"] == 1"
      ],
      "metadata": {
        "id": "3oHxaY1mj_Z3"
      },
      "execution_count": 75,
      "outputs": []
    },
    {
      "cell_type": "code",
      "source": [
        "dados[condicao_1 & condicao_2].head()"
      ],
      "metadata": {
        "colab": {
          "base_uri": "https://localhost:8080/",
          "height": 226
        },
        "id": "ERv4fV1Bjrhz",
        "outputId": "1add0c7b-4438-4597-e292-98d5c723ab54"
      },
      "execution_count": 76,
      "outputs": [
        {
          "output_type": "execute_result",
          "data": {
            "text/plain": [
              "     NU_INSCRICAO  NU_ANO  TP_FAIXA_ETARIA TP_SEXO  TP_ESTADO_CIVIL  \\\n",
              "69   210053707047    2021                1       M                1   \n",
              "113  210051127853    2021                1       M                1   \n",
              "151  210053634740    2021                5       M                1   \n",
              "155  210052073811    2021                1       M                1   \n",
              "204  210053593141    2021                2       M                1   \n",
              "\n",
              "     TP_COR_RACA  TP_NACIONALIDADE  TP_ST_CONCLUSAO  TP_ANO_CONCLUIU  \\\n",
              "69             1                 1                3                0   \n",
              "113            2                 1                3                0   \n",
              "151            2                 1                3                0   \n",
              "155            2                 2                3                0   \n",
              "204            3                 1                3                0   \n",
              "\n",
              "     TP_ESCOLA  TP_ENSINO  IN_TREINEIRO  CO_MUNICIPIO_ESC NO_MUNICIPIO_ESC  \\\n",
              "69           1        NaN             1               NaN              NaN   \n",
              "113          1        NaN             1               NaN              NaN   \n",
              "151          1        NaN             1               NaN              NaN   \n",
              "155          1        NaN             1               NaN              NaN   \n",
              "204          1        NaN             1               NaN              NaN   \n",
              "\n",
              "     CO_UF_ESC SG_UF_ESC  TP_DEPENDENCIA_ADM_ESC  TP_LOCALIZACAO_ESC  \\\n",
              "69         NaN       NaN                     NaN                 NaN   \n",
              "113        NaN       NaN                     NaN                 NaN   \n",
              "151        NaN       NaN                     NaN                 NaN   \n",
              "155        NaN       NaN                     NaN                 NaN   \n",
              "204        NaN       NaN                     NaN                 NaN   \n",
              "\n",
              "     TP_SIT_FUNC_ESC  CO_MUNICIPIO_PROVA NO_MUNICIPIO_PROVA  CO_UF_PROVA  \\\n",
              "69               NaN             2902104              Araci           29   \n",
              "113              NaN             2932903            Valença           29   \n",
              "151              NaN             2927408           Salvador           29   \n",
              "155              NaN             2911204              Gandu           29   \n",
              "204              NaN             2927408           Salvador           29   \n",
              "\n",
              "    SG_UF_PROVA  TP_PRESENCA_CN  TP_PRESENCA_CH  TP_PRESENCA_LC  \\\n",
              "69           BA               1               1               1   \n",
              "113          BA               1               1               1   \n",
              "151          BA               0               0               0   \n",
              "155          BA               0               0               0   \n",
              "204          BA               1               1               1   \n",
              "\n",
              "     TP_PRESENCA_MT  CO_PROVA_CN  CO_PROVA_CH  CO_PROVA_LC  CO_PROVA_MT  \\\n",
              "69                1        912.0        882.0        891.0        901.0   \n",
              "113               1        911.0        880.0        890.0        902.0   \n",
              "151               0          NaN          NaN          NaN          NaN   \n",
              "155               0          NaN          NaN          NaN          NaN   \n",
              "204               1        909.0        881.0        892.0        899.0   \n",
              "\n",
              "     NU_NOTA_CN  NU_NOTA_CH  NU_NOTA_LC  NU_NOTA_MT  \\\n",
              "69        521.7       566.7       569.5       702.3   \n",
              "113       494.4       408.4       504.1       483.3   \n",
              "151         NaN         NaN         NaN         NaN   \n",
              "155         NaN         NaN         NaN         NaN   \n",
              "204       541.6       646.9       510.6       601.0   \n",
              "\n",
              "                                   TX_RESPOSTAS_CN  \\\n",
              "69   DDD*CEEDECBBEACBAACABEDCEACEEEABCACCCCBDBEDED   \n",
              "113  CBECBCEBEDBADCEBADABBAACBDBAEBBEDCBDAEBDBEBCE   \n",
              "151                                            NaN   \n",
              "155                                            NaN   \n",
              "204  AEDDABDEADBDEBCAADDCBBCCDCBADECACCDDCEADBCACA   \n",
              "\n",
              "                                   TX_RESPOSTAS_CH  \\\n",
              "69   DDEDEBCAEDCCBBBEACABAEEADBABCDABBDECBEBACAEAC   \n",
              "113  ECEBADDABBACCCBDADEECACABCACBADCBAEACCCAABBCA   \n",
              "151                                            NaN   \n",
              "155                                            NaN   \n",
              "204  BCECCAEABABCEAEBAACAEDEBBEBABCBBAEEBBEDECBBBA   \n",
              "\n",
              "                                       TX_RESPOSTAS_LC  \\\n",
              "69   ABACC99999DAEADCBDACDDCACDDACADAAEDCDACDDCDACE...   \n",
              "113  BACBA99999CECACBBACCBBEDAEEBADEBEEBACDACACEACD...   \n",
              "151                                                NaN   \n",
              "155                                                NaN   \n",
              "204  DACAC99999ACBDDEBEEBCCBBCEAAADAAADAECDEBADCBAA...   \n",
              "\n",
              "                                   TX_RESPOSTAS_MT  TP_LINGUA  \\\n",
              "69   CCEDEBCCDDCDBEBCCBCAEAABDAEEDCEADDABDBABCDACB          0   \n",
              "113  AACBCACDDBABCDCBDADBDCEDDBBDACECBDDCADCECBDCA          0   \n",
              "151                                            NaN          1   \n",
              "155                                            NaN          1   \n",
              "204  CADEEBDDDCBBCBBBBEDDCDAABDBABBEDCCCDDDDBDBCAC          0   \n",
              "\n",
              "                                    TX_GABARITO_CN  \\\n",
              "69   DABCEDEBEEBBCABEDDCBCBECDADCDAACBDCCCDBBBEBAB   \n",
              "113  CDBBBCABEDEDEAAEBACCCBDABCDCBCBDECDADCDBBEEBB   \n",
              "151                                            NaN   \n",
              "155                                            NaN   \n",
              "204  EDECABEDABCBEBACCDCBBEEBBCBDAAECDCBDCDBBBADCD   \n",
              "\n",
              "                                    TX_GABARITO_CH  \\\n",
              "69   EBAAEADBCACBBABEECBAAEEBBBADCBADBCEDDEBBCAEAB   \n",
              "113  BBBAAEECBBABEECEBAAEADBCACAEABEDDEBBBADBCBADC   \n",
              "151                                            NaN   \n",
              "155                                            NaN   \n",
              "204  BEECCAEABADBCAEBAAEEDDEBBBADBCBAAEEBBBADCCBBA   \n",
              "\n",
              "                                        TX_GABARITO_LC  \\\n",
              "69   ACABBACAEADCEADABDACDCEABDDADBEDDDEBBACCDDDCCE...   \n",
              "113  ABBCAEAACADDCACDCADABBBBDEBBACEADCEBDDACEEDDDB...   \n",
              "151                                                NaN   \n",
              "155                                                NaN   \n",
              "204  ABBACAAECACDBDDADEBDDCBDCEDBEDDBBBBDCEEAADABAC...   \n",
              "\n",
              "                                    TX_GABARITO_MT  TP_STATUS_REDACAO  \\\n",
              "69   DCCAEBABDDCABEECCBCCEXADDCEECDEBADCABBDBDEDCE                1.0   \n",
              "113  ECCCABBDBDDDCEDDCABXEEEBABEDCEDCCAEBADBCCECDA                1.0   \n",
              "151                                            NaN                NaN   \n",
              "155                                            NaN                NaN   \n",
              "204  EEXEBABDDCECCBCCECDCAEBADEABBDBDEDCEDCCADDCAB                1.0   \n",
              "\n",
              "     NU_NOTA_COMP1  NU_NOTA_COMP2  NU_NOTA_COMP3  NU_NOTA_COMP4  \\\n",
              "69           160.0          200.0          160.0          200.0   \n",
              "113          120.0          120.0          120.0          140.0   \n",
              "151            NaN            NaN            NaN            NaN   \n",
              "155            NaN            NaN            NaN            NaN   \n",
              "204          140.0           40.0           40.0          140.0   \n",
              "\n",
              "     NU_NOTA_COMP5  NU_NOTA_REDACAO  \n",
              "69           180.0            900.0  \n",
              "113          160.0            660.0  \n",
              "151            NaN              NaN  \n",
              "155            NaN              NaN  \n",
              "204           40.0            400.0  "
            ],
            "text/html": [
              "\n",
              "  <div id=\"df-bb02dd65-c8fa-4da1-997f-f09dd9e6eea9\" class=\"colab-df-container\">\n",
              "    <div>\n",
              "<style scoped>\n",
              "    .dataframe tbody tr th:only-of-type {\n",
              "        vertical-align: middle;\n",
              "    }\n",
              "\n",
              "    .dataframe tbody tr th {\n",
              "        vertical-align: top;\n",
              "    }\n",
              "\n",
              "    .dataframe thead th {\n",
              "        text-align: right;\n",
              "    }\n",
              "</style>\n",
              "<table border=\"1\" class=\"dataframe\">\n",
              "  <thead>\n",
              "    <tr style=\"text-align: right;\">\n",
              "      <th></th>\n",
              "      <th>NU_INSCRICAO</th>\n",
              "      <th>NU_ANO</th>\n",
              "      <th>TP_FAIXA_ETARIA</th>\n",
              "      <th>TP_SEXO</th>\n",
              "      <th>TP_ESTADO_CIVIL</th>\n",
              "      <th>TP_COR_RACA</th>\n",
              "      <th>TP_NACIONALIDADE</th>\n",
              "      <th>TP_ST_CONCLUSAO</th>\n",
              "      <th>TP_ANO_CONCLUIU</th>\n",
              "      <th>TP_ESCOLA</th>\n",
              "      <th>TP_ENSINO</th>\n",
              "      <th>IN_TREINEIRO</th>\n",
              "      <th>CO_MUNICIPIO_ESC</th>\n",
              "      <th>NO_MUNICIPIO_ESC</th>\n",
              "      <th>CO_UF_ESC</th>\n",
              "      <th>SG_UF_ESC</th>\n",
              "      <th>TP_DEPENDENCIA_ADM_ESC</th>\n",
              "      <th>TP_LOCALIZACAO_ESC</th>\n",
              "      <th>TP_SIT_FUNC_ESC</th>\n",
              "      <th>CO_MUNICIPIO_PROVA</th>\n",
              "      <th>NO_MUNICIPIO_PROVA</th>\n",
              "      <th>CO_UF_PROVA</th>\n",
              "      <th>SG_UF_PROVA</th>\n",
              "      <th>TP_PRESENCA_CN</th>\n",
              "      <th>TP_PRESENCA_CH</th>\n",
              "      <th>TP_PRESENCA_LC</th>\n",
              "      <th>TP_PRESENCA_MT</th>\n",
              "      <th>CO_PROVA_CN</th>\n",
              "      <th>CO_PROVA_CH</th>\n",
              "      <th>CO_PROVA_LC</th>\n",
              "      <th>CO_PROVA_MT</th>\n",
              "      <th>NU_NOTA_CN</th>\n",
              "      <th>NU_NOTA_CH</th>\n",
              "      <th>NU_NOTA_LC</th>\n",
              "      <th>NU_NOTA_MT</th>\n",
              "      <th>TX_RESPOSTAS_CN</th>\n",
              "      <th>TX_RESPOSTAS_CH</th>\n",
              "      <th>TX_RESPOSTAS_LC</th>\n",
              "      <th>TX_RESPOSTAS_MT</th>\n",
              "      <th>TP_LINGUA</th>\n",
              "      <th>TX_GABARITO_CN</th>\n",
              "      <th>TX_GABARITO_CH</th>\n",
              "      <th>TX_GABARITO_LC</th>\n",
              "      <th>TX_GABARITO_MT</th>\n",
              "      <th>TP_STATUS_REDACAO</th>\n",
              "      <th>NU_NOTA_COMP1</th>\n",
              "      <th>NU_NOTA_COMP2</th>\n",
              "      <th>NU_NOTA_COMP3</th>\n",
              "      <th>NU_NOTA_COMP4</th>\n",
              "      <th>NU_NOTA_COMP5</th>\n",
              "      <th>NU_NOTA_REDACAO</th>\n",
              "    </tr>\n",
              "  </thead>\n",
              "  <tbody>\n",
              "    <tr>\n",
              "      <th>69</th>\n",
              "      <td>210053707047</td>\n",
              "      <td>2021</td>\n",
              "      <td>1</td>\n",
              "      <td>M</td>\n",
              "      <td>1</td>\n",
              "      <td>1</td>\n",
              "      <td>1</td>\n",
              "      <td>3</td>\n",
              "      <td>0</td>\n",
              "      <td>1</td>\n",
              "      <td>NaN</td>\n",
              "      <td>1</td>\n",
              "      <td>NaN</td>\n",
              "      <td>NaN</td>\n",
              "      <td>NaN</td>\n",
              "      <td>NaN</td>\n",
              "      <td>NaN</td>\n",
              "      <td>NaN</td>\n",
              "      <td>NaN</td>\n",
              "      <td>2902104</td>\n",
              "      <td>Araci</td>\n",
              "      <td>29</td>\n",
              "      <td>BA</td>\n",
              "      <td>1</td>\n",
              "      <td>1</td>\n",
              "      <td>1</td>\n",
              "      <td>1</td>\n",
              "      <td>912.0</td>\n",
              "      <td>882.0</td>\n",
              "      <td>891.0</td>\n",
              "      <td>901.0</td>\n",
              "      <td>521.7</td>\n",
              "      <td>566.7</td>\n",
              "      <td>569.5</td>\n",
              "      <td>702.3</td>\n",
              "      <td>DDD*CEEDECBBEACBAACABEDCEACEEEABCACCCCBDBEDED</td>\n",
              "      <td>DDEDEBCAEDCCBBBEACABAEEADBABCDABBDECBEBACAEAC</td>\n",
              "      <td>ABACC99999DAEADCBDACDDCACDDACADAAEDCDACDDCDACE...</td>\n",
              "      <td>CCEDEBCCDDCDBEBCCBCAEAABDAEEDCEADDABDBABCDACB</td>\n",
              "      <td>0</td>\n",
              "      <td>DABCEDEBEEBBCABEDDCBCBECDADCDAACBDCCCDBBBEBAB</td>\n",
              "      <td>EBAAEADBCACBBABEECBAAEEBBBADCBADBCEDDEBBCAEAB</td>\n",
              "      <td>ACABBACAEADCEADABDACDCEABDDADBEDDDEBBACCDDDCCE...</td>\n",
              "      <td>DCCAEBABDDCABEECCBCCEXADDCEECDEBADCABBDBDEDCE</td>\n",
              "      <td>1.0</td>\n",
              "      <td>160.0</td>\n",
              "      <td>200.0</td>\n",
              "      <td>160.0</td>\n",
              "      <td>200.0</td>\n",
              "      <td>180.0</td>\n",
              "      <td>900.0</td>\n",
              "    </tr>\n",
              "    <tr>\n",
              "      <th>113</th>\n",
              "      <td>210051127853</td>\n",
              "      <td>2021</td>\n",
              "      <td>1</td>\n",
              "      <td>M</td>\n",
              "      <td>1</td>\n",
              "      <td>2</td>\n",
              "      <td>1</td>\n",
              "      <td>3</td>\n",
              "      <td>0</td>\n",
              "      <td>1</td>\n",
              "      <td>NaN</td>\n",
              "      <td>1</td>\n",
              "      <td>NaN</td>\n",
              "      <td>NaN</td>\n",
              "      <td>NaN</td>\n",
              "      <td>NaN</td>\n",
              "      <td>NaN</td>\n",
              "      <td>NaN</td>\n",
              "      <td>NaN</td>\n",
              "      <td>2932903</td>\n",
              "      <td>Valença</td>\n",
              "      <td>29</td>\n",
              "      <td>BA</td>\n",
              "      <td>1</td>\n",
              "      <td>1</td>\n",
              "      <td>1</td>\n",
              "      <td>1</td>\n",
              "      <td>911.0</td>\n",
              "      <td>880.0</td>\n",
              "      <td>890.0</td>\n",
              "      <td>902.0</td>\n",
              "      <td>494.4</td>\n",
              "      <td>408.4</td>\n",
              "      <td>504.1</td>\n",
              "      <td>483.3</td>\n",
              "      <td>CBECBCEBEDBADCEBADABBAACBDBAEBBEDCBDAEBDBEBCE</td>\n",
              "      <td>ECEBADDABBACCCBDADEECACABCACBADCBAEACCCAABBCA</td>\n",
              "      <td>BACBA99999CECACBBACCBBEDAEEBADEBEEBACDACACEACD...</td>\n",
              "      <td>AACBCACDDBABCDCBDADBDCEDDBBDACECBDDCADCECBDCA</td>\n",
              "      <td>0</td>\n",
              "      <td>CDBBBCABEDEDEAAEBACCCBDABCDCBCBDECDADCDBBEEBB</td>\n",
              "      <td>BBBAAEECBBABEECEBAAEADBCACAEABEDDEBBBADBCBADC</td>\n",
              "      <td>ABBCAEAACADDCACDCADABBBBDEBBACEADCEBDDACEEDDDB...</td>\n",
              "      <td>ECCCABBDBDDDCEDDCABXEEEBABEDCEDCCAEBADBCCECDA</td>\n",
              "      <td>1.0</td>\n",
              "      <td>120.0</td>\n",
              "      <td>120.0</td>\n",
              "      <td>120.0</td>\n",
              "      <td>140.0</td>\n",
              "      <td>160.0</td>\n",
              "      <td>660.0</td>\n",
              "    </tr>\n",
              "    <tr>\n",
              "      <th>151</th>\n",
              "      <td>210053634740</td>\n",
              "      <td>2021</td>\n",
              "      <td>5</td>\n",
              "      <td>M</td>\n",
              "      <td>1</td>\n",
              "      <td>2</td>\n",
              "      <td>1</td>\n",
              "      <td>3</td>\n",
              "      <td>0</td>\n",
              "      <td>1</td>\n",
              "      <td>NaN</td>\n",
              "      <td>1</td>\n",
              "      <td>NaN</td>\n",
              "      <td>NaN</td>\n",
              "      <td>NaN</td>\n",
              "      <td>NaN</td>\n",
              "      <td>NaN</td>\n",
              "      <td>NaN</td>\n",
              "      <td>NaN</td>\n",
              "      <td>2927408</td>\n",
              "      <td>Salvador</td>\n",
              "      <td>29</td>\n",
              "      <td>BA</td>\n",
              "      <td>0</td>\n",
              "      <td>0</td>\n",
              "      <td>0</td>\n",
              "      <td>0</td>\n",
              "      <td>NaN</td>\n",
              "      <td>NaN</td>\n",
              "      <td>NaN</td>\n",
              "      <td>NaN</td>\n",
              "      <td>NaN</td>\n",
              "      <td>NaN</td>\n",
              "      <td>NaN</td>\n",
              "      <td>NaN</td>\n",
              "      <td>NaN</td>\n",
              "      <td>NaN</td>\n",
              "      <td>NaN</td>\n",
              "      <td>NaN</td>\n",
              "      <td>1</td>\n",
              "      <td>NaN</td>\n",
              "      <td>NaN</td>\n",
              "      <td>NaN</td>\n",
              "      <td>NaN</td>\n",
              "      <td>NaN</td>\n",
              "      <td>NaN</td>\n",
              "      <td>NaN</td>\n",
              "      <td>NaN</td>\n",
              "      <td>NaN</td>\n",
              "      <td>NaN</td>\n",
              "      <td>NaN</td>\n",
              "    </tr>\n",
              "    <tr>\n",
              "      <th>155</th>\n",
              "      <td>210052073811</td>\n",
              "      <td>2021</td>\n",
              "      <td>1</td>\n",
              "      <td>M</td>\n",
              "      <td>1</td>\n",
              "      <td>2</td>\n",
              "      <td>2</td>\n",
              "      <td>3</td>\n",
              "      <td>0</td>\n",
              "      <td>1</td>\n",
              "      <td>NaN</td>\n",
              "      <td>1</td>\n",
              "      <td>NaN</td>\n",
              "      <td>NaN</td>\n",
              "      <td>NaN</td>\n",
              "      <td>NaN</td>\n",
              "      <td>NaN</td>\n",
              "      <td>NaN</td>\n",
              "      <td>NaN</td>\n",
              "      <td>2911204</td>\n",
              "      <td>Gandu</td>\n",
              "      <td>29</td>\n",
              "      <td>BA</td>\n",
              "      <td>0</td>\n",
              "      <td>0</td>\n",
              "      <td>0</td>\n",
              "      <td>0</td>\n",
              "      <td>NaN</td>\n",
              "      <td>NaN</td>\n",
              "      <td>NaN</td>\n",
              "      <td>NaN</td>\n",
              "      <td>NaN</td>\n",
              "      <td>NaN</td>\n",
              "      <td>NaN</td>\n",
              "      <td>NaN</td>\n",
              "      <td>NaN</td>\n",
              "      <td>NaN</td>\n",
              "      <td>NaN</td>\n",
              "      <td>NaN</td>\n",
              "      <td>1</td>\n",
              "      <td>NaN</td>\n",
              "      <td>NaN</td>\n",
              "      <td>NaN</td>\n",
              "      <td>NaN</td>\n",
              "      <td>NaN</td>\n",
              "      <td>NaN</td>\n",
              "      <td>NaN</td>\n",
              "      <td>NaN</td>\n",
              "      <td>NaN</td>\n",
              "      <td>NaN</td>\n",
              "      <td>NaN</td>\n",
              "    </tr>\n",
              "    <tr>\n",
              "      <th>204</th>\n",
              "      <td>210053593141</td>\n",
              "      <td>2021</td>\n",
              "      <td>2</td>\n",
              "      <td>M</td>\n",
              "      <td>1</td>\n",
              "      <td>3</td>\n",
              "      <td>1</td>\n",
              "      <td>3</td>\n",
              "      <td>0</td>\n",
              "      <td>1</td>\n",
              "      <td>NaN</td>\n",
              "      <td>1</td>\n",
              "      <td>NaN</td>\n",
              "      <td>NaN</td>\n",
              "      <td>NaN</td>\n",
              "      <td>NaN</td>\n",
              "      <td>NaN</td>\n",
              "      <td>NaN</td>\n",
              "      <td>NaN</td>\n",
              "      <td>2927408</td>\n",
              "      <td>Salvador</td>\n",
              "      <td>29</td>\n",
              "      <td>BA</td>\n",
              "      <td>1</td>\n",
              "      <td>1</td>\n",
              "      <td>1</td>\n",
              "      <td>1</td>\n",
              "      <td>909.0</td>\n",
              "      <td>881.0</td>\n",
              "      <td>892.0</td>\n",
              "      <td>899.0</td>\n",
              "      <td>541.6</td>\n",
              "      <td>646.9</td>\n",
              "      <td>510.6</td>\n",
              "      <td>601.0</td>\n",
              "      <td>AEDDABDEADBDEBCAADDCBBCCDCBADECACCDDCEADBCACA</td>\n",
              "      <td>BCECCAEABABCEAEBAACAEDEBBEBABCBBAEEBBEDECBBBA</td>\n",
              "      <td>DACAC99999ACBDDEBEEBCCBBCEAAADAAADAECDEBADCBAA...</td>\n",
              "      <td>CADEEBDDDCBBCBBBBEDDCDAABDBABBEDCCCDDDDBDBCAC</td>\n",
              "      <td>0</td>\n",
              "      <td>EDECABEDABCBEBACCDCBBEEBBCBDAAECDCBDCDBBBADCD</td>\n",
              "      <td>BEECCAEABADBCAEBAAEEDDEBBBADBCBAAEEBBBADCCBBA</td>\n",
              "      <td>ABBACAAECACDBDDADEBDDCBDCEDBEDDBBBBDCEEAADABAC...</td>\n",
              "      <td>EEXEBABDDCECCBCCECDCAEBADEABBDBDEDCEDCCADDCAB</td>\n",
              "      <td>1.0</td>\n",
              "      <td>140.0</td>\n",
              "      <td>40.0</td>\n",
              "      <td>40.0</td>\n",
              "      <td>140.0</td>\n",
              "      <td>40.0</td>\n",
              "      <td>400.0</td>\n",
              "    </tr>\n",
              "  </tbody>\n",
              "</table>\n",
              "</div>\n",
              "    <div class=\"colab-df-buttons\">\n",
              "\n",
              "  <div class=\"colab-df-container\">\n",
              "    <button class=\"colab-df-convert\" onclick=\"convertToInteractive('df-bb02dd65-c8fa-4da1-997f-f09dd9e6eea9')\"\n",
              "            title=\"Convert this dataframe to an interactive table.\"\n",
              "            style=\"display:none;\">\n",
              "\n",
              "  <svg xmlns=\"http://www.w3.org/2000/svg\" height=\"24px\" viewBox=\"0 -960 960 960\">\n",
              "    <path d=\"M120-120v-720h720v720H120Zm60-500h600v-160H180v160Zm220 220h160v-160H400v160Zm0 220h160v-160H400v160ZM180-400h160v-160H180v160Zm440 0h160v-160H620v160ZM180-180h160v-160H180v160Zm440 0h160v-160H620v160Z\"/>\n",
              "  </svg>\n",
              "    </button>\n",
              "\n",
              "  <style>\n",
              "    .colab-df-container {\n",
              "      display:flex;\n",
              "      gap: 12px;\n",
              "    }\n",
              "\n",
              "    .colab-df-convert {\n",
              "      background-color: #E8F0FE;\n",
              "      border: none;\n",
              "      border-radius: 50%;\n",
              "      cursor: pointer;\n",
              "      display: none;\n",
              "      fill: #1967D2;\n",
              "      height: 32px;\n",
              "      padding: 0 0 0 0;\n",
              "      width: 32px;\n",
              "    }\n",
              "\n",
              "    .colab-df-convert:hover {\n",
              "      background-color: #E2EBFA;\n",
              "      box-shadow: 0px 1px 2px rgba(60, 64, 67, 0.3), 0px 1px 3px 1px rgba(60, 64, 67, 0.15);\n",
              "      fill: #174EA6;\n",
              "    }\n",
              "\n",
              "    .colab-df-buttons div {\n",
              "      margin-bottom: 4px;\n",
              "    }\n",
              "\n",
              "    [theme=dark] .colab-df-convert {\n",
              "      background-color: #3B4455;\n",
              "      fill: #D2E3FC;\n",
              "    }\n",
              "\n",
              "    [theme=dark] .colab-df-convert:hover {\n",
              "      background-color: #434B5C;\n",
              "      box-shadow: 0px 1px 3px 1px rgba(0, 0, 0, 0.15);\n",
              "      filter: drop-shadow(0px 1px 2px rgba(0, 0, 0, 0.3));\n",
              "      fill: #FFFFFF;\n",
              "    }\n",
              "  </style>\n",
              "\n",
              "    <script>\n",
              "      const buttonEl =\n",
              "        document.querySelector('#df-bb02dd65-c8fa-4da1-997f-f09dd9e6eea9 button.colab-df-convert');\n",
              "      buttonEl.style.display =\n",
              "        google.colab.kernel.accessAllowed ? 'block' : 'none';\n",
              "\n",
              "      async function convertToInteractive(key) {\n",
              "        const element = document.querySelector('#df-bb02dd65-c8fa-4da1-997f-f09dd9e6eea9');\n",
              "        const dataTable =\n",
              "          await google.colab.kernel.invokeFunction('convertToInteractive',\n",
              "                                                    [key], {});\n",
              "        if (!dataTable) return;\n",
              "\n",
              "        const docLinkHtml = 'Like what you see? Visit the ' +\n",
              "          '<a target=\"_blank\" href=https://colab.research.google.com/notebooks/data_table.ipynb>data table notebook</a>'\n",
              "          + ' to learn more about interactive tables.';\n",
              "        element.innerHTML = '';\n",
              "        dataTable['output_type'] = 'display_data';\n",
              "        await google.colab.output.renderOutput(dataTable, element);\n",
              "        const docLink = document.createElement('div');\n",
              "        docLink.innerHTML = docLinkHtml;\n",
              "        element.appendChild(docLink);\n",
              "      }\n",
              "    </script>\n",
              "  </div>\n",
              "\n",
              "\n",
              "    <div id=\"df-7d8901f5-b945-4808-bd29-206546bc5f9f\">\n",
              "      <button class=\"colab-df-quickchart\" onclick=\"quickchart('df-7d8901f5-b945-4808-bd29-206546bc5f9f')\"\n",
              "                title=\"Suggest charts\"\n",
              "                style=\"display:none;\">\n",
              "\n",
              "<svg xmlns=\"http://www.w3.org/2000/svg\" height=\"24px\"viewBox=\"0 0 24 24\"\n",
              "     width=\"24px\">\n",
              "    <g>\n",
              "        <path d=\"M19 3H5c-1.1 0-2 .9-2 2v14c0 1.1.9 2 2 2h14c1.1 0 2-.9 2-2V5c0-1.1-.9-2-2-2zM9 17H7v-7h2v7zm4 0h-2V7h2v10zm4 0h-2v-4h2v4z\"/>\n",
              "    </g>\n",
              "</svg>\n",
              "      </button>\n",
              "\n",
              "<style>\n",
              "  .colab-df-quickchart {\n",
              "      --bg-color: #E8F0FE;\n",
              "      --fill-color: #1967D2;\n",
              "      --hover-bg-color: #E2EBFA;\n",
              "      --hover-fill-color: #174EA6;\n",
              "      --disabled-fill-color: #AAA;\n",
              "      --disabled-bg-color: #DDD;\n",
              "  }\n",
              "\n",
              "  [theme=dark] .colab-df-quickchart {\n",
              "      --bg-color: #3B4455;\n",
              "      --fill-color: #D2E3FC;\n",
              "      --hover-bg-color: #434B5C;\n",
              "      --hover-fill-color: #FFFFFF;\n",
              "      --disabled-bg-color: #3B4455;\n",
              "      --disabled-fill-color: #666;\n",
              "  }\n",
              "\n",
              "  .colab-df-quickchart {\n",
              "    background-color: var(--bg-color);\n",
              "    border: none;\n",
              "    border-radius: 50%;\n",
              "    cursor: pointer;\n",
              "    display: none;\n",
              "    fill: var(--fill-color);\n",
              "    height: 32px;\n",
              "    padding: 0;\n",
              "    width: 32px;\n",
              "  }\n",
              "\n",
              "  .colab-df-quickchart:hover {\n",
              "    background-color: var(--hover-bg-color);\n",
              "    box-shadow: 0 1px 2px rgba(60, 64, 67, 0.3), 0 1px 3px 1px rgba(60, 64, 67, 0.15);\n",
              "    fill: var(--button-hover-fill-color);\n",
              "  }\n",
              "\n",
              "  .colab-df-quickchart-complete:disabled,\n",
              "  .colab-df-quickchart-complete:disabled:hover {\n",
              "    background-color: var(--disabled-bg-color);\n",
              "    fill: var(--disabled-fill-color);\n",
              "    box-shadow: none;\n",
              "  }\n",
              "\n",
              "  .colab-df-spinner {\n",
              "    border: 2px solid var(--fill-color);\n",
              "    border-color: transparent;\n",
              "    border-bottom-color: var(--fill-color);\n",
              "    animation:\n",
              "      spin 1s steps(1) infinite;\n",
              "  }\n",
              "\n",
              "  @keyframes spin {\n",
              "    0% {\n",
              "      border-color: transparent;\n",
              "      border-bottom-color: var(--fill-color);\n",
              "      border-left-color: var(--fill-color);\n",
              "    }\n",
              "    20% {\n",
              "      border-color: transparent;\n",
              "      border-left-color: var(--fill-color);\n",
              "      border-top-color: var(--fill-color);\n",
              "    }\n",
              "    30% {\n",
              "      border-color: transparent;\n",
              "      border-left-color: var(--fill-color);\n",
              "      border-top-color: var(--fill-color);\n",
              "      border-right-color: var(--fill-color);\n",
              "    }\n",
              "    40% {\n",
              "      border-color: transparent;\n",
              "      border-right-color: var(--fill-color);\n",
              "      border-top-color: var(--fill-color);\n",
              "    }\n",
              "    60% {\n",
              "      border-color: transparent;\n",
              "      border-right-color: var(--fill-color);\n",
              "    }\n",
              "    80% {\n",
              "      border-color: transparent;\n",
              "      border-right-color: var(--fill-color);\n",
              "      border-bottom-color: var(--fill-color);\n",
              "    }\n",
              "    90% {\n",
              "      border-color: transparent;\n",
              "      border-bottom-color: var(--fill-color);\n",
              "    }\n",
              "  }\n",
              "</style>\n",
              "\n",
              "      <script>\n",
              "        async function quickchart(key) {\n",
              "          const quickchartButtonEl =\n",
              "            document.querySelector('#' + key + ' button');\n",
              "          quickchartButtonEl.disabled = true;  // To prevent multiple clicks.\n",
              "          quickchartButtonEl.classList.add('colab-df-spinner');\n",
              "          try {\n",
              "            const charts = await google.colab.kernel.invokeFunction(\n",
              "                'suggestCharts', [key], {});\n",
              "          } catch (error) {\n",
              "            console.error('Error during call to suggestCharts:', error);\n",
              "          }\n",
              "          quickchartButtonEl.classList.remove('colab-df-spinner');\n",
              "          quickchartButtonEl.classList.add('colab-df-quickchart-complete');\n",
              "        }\n",
              "        (() => {\n",
              "          let quickchartButtonEl =\n",
              "            document.querySelector('#df-7d8901f5-b945-4808-bd29-206546bc5f9f button');\n",
              "          quickchartButtonEl.style.display =\n",
              "            google.colab.kernel.accessAllowed ? 'block' : 'none';\n",
              "        })();\n",
              "      </script>\n",
              "    </div>\n",
              "\n",
              "    </div>\n",
              "  </div>\n"
            ],
            "application/vnd.google.colaboratory.intrinsic+json": {
              "type": "dataframe"
            }
          },
          "metadata": {},
          "execution_count": 76
        }
      ]
    },
    {
      "cell_type": "markdown",
      "source": [
        "##Negação"
      ],
      "metadata": {
        "id": "lBXR65TroNxr"
      }
    },
    {
      "cell_type": "code",
      "source": [
        "mascara_bool = dados[\"NO_MUNICIPIO_PROVA\"].isin([\"Itabuna\",\"Salvador\"])"
      ],
      "metadata": {
        "id": "TrdKg-JRj_Xu"
      },
      "execution_count": 78,
      "outputs": []
    },
    {
      "cell_type": "code",
      "source": [
        "dados[dados[\"NO_MUNICIPIO_PROVA\"].isin([\"Itabuna\",\"Salvador\"])][\"NO_MUNICIPIO_PROVA\"].unique()"
      ],
      "metadata": {
        "colab": {
          "base_uri": "https://localhost:8080/"
        },
        "id": "l_IKUoXsokx-",
        "outputId": "4440b2e1-3cad-4c85-c374-66817199189f"
      },
      "execution_count": 85,
      "outputs": [
        {
          "output_type": "execute_result",
          "data": {
            "text/plain": [
              "array(['Salvador', 'Itabuna'], dtype=object)"
            ]
          },
          "metadata": {},
          "execution_count": 85
        }
      ]
    },
    {
      "cell_type": "code",
      "source": [
        "dados[mascara_bool][\"NO_MUNICIPIO_PROVA\"].unique()"
      ],
      "metadata": {
        "colab": {
          "base_uri": "https://localhost:8080/"
        },
        "id": "1bo-ymUcpBZU",
        "outputId": "2a1d763f-494d-4b2e-bc71-cb419f33ef39"
      },
      "execution_count": 86,
      "outputs": [
        {
          "output_type": "execute_result",
          "data": {
            "text/plain": [
              "array(['Salvador', 'Itabuna'], dtype=object)"
            ]
          },
          "metadata": {},
          "execution_count": 86
        }
      ]
    },
    {
      "cell_type": "code",
      "source": [
        "dados[mascara_bool]"
      ],
      "metadata": {
        "colab": {
          "base_uri": "https://localhost:8080/",
          "height": 443
        },
        "id": "6MfMHwBeocx3",
        "outputId": "cc236e81-a7dd-4aed-d25f-c5056821e032"
      },
      "execution_count": 79,
      "outputs": [
        {
          "output_type": "execute_result",
          "data": {
            "text/plain": [
              "        NU_INSCRICAO  NU_ANO  TP_FAIXA_ETARIA TP_SEXO  TP_ESTADO_CIVIL  \\\n",
              "1       210054173438    2021                5       F                1   \n",
              "6       210053741476    2021                6       F                1   \n",
              "9       210054171092    2021                4       M                1   \n",
              "14      210053702687    2021                6       F                1   \n",
              "17      210054087112    2021               12       M                1   \n",
              "...              ...     ...              ...     ...              ...   \n",
              "266183  210053939844    2021               16       F                0   \n",
              "266188  210054023670    2021                5       F                1   \n",
              "266191  210051995005    2021               11       M                0   \n",
              "266192  210053234415    2021               12       M                2   \n",
              "266193  210054027870    2021                5       F                1   \n",
              "\n",
              "        TP_COR_RACA  TP_NACIONALIDADE  TP_ST_CONCLUSAO  TP_ANO_CONCLUIU  \\\n",
              "1                 2                 1                2                0   \n",
              "6                 3                 1                1                3   \n",
              "9                 2                 1                1                1   \n",
              "14                1                 1                1                4   \n",
              "17                3                 1                1               14   \n",
              "...             ...               ...              ...              ...   \n",
              "266183            2                 1                4                0   \n",
              "266188            3                 1                1                2   \n",
              "266191            2                 1                1               12   \n",
              "266192            2                 1                1               15   \n",
              "266193            2                 1                1                2   \n",
              "\n",
              "        TP_ESCOLA  TP_ENSINO  IN_TREINEIRO  CO_MUNICIPIO_ESC NO_MUNICIPIO_ESC  \\\n",
              "1               2        1.0             0         2927408.0         Salvador   \n",
              "6               1        NaN             0               NaN              NaN   \n",
              "9               1        NaN             0               NaN              NaN   \n",
              "14              1        NaN             0               NaN              NaN   \n",
              "17              1        NaN             0               NaN              NaN   \n",
              "...           ...        ...           ...               ...              ...   \n",
              "266183          1        NaN             0               NaN              NaN   \n",
              "266188          1        NaN             0               NaN              NaN   \n",
              "266191          1        NaN             0               NaN              NaN   \n",
              "266192          1        NaN             0               NaN              NaN   \n",
              "266193          1        NaN             0               NaN              NaN   \n",
              "\n",
              "        CO_UF_ESC SG_UF_ESC  TP_DEPENDENCIA_ADM_ESC  TP_LOCALIZACAO_ESC  \\\n",
              "1            29.0        BA                     1.0                 1.0   \n",
              "6             NaN       NaN                     NaN                 NaN   \n",
              "9             NaN       NaN                     NaN                 NaN   \n",
              "14            NaN       NaN                     NaN                 NaN   \n",
              "17            NaN       NaN                     NaN                 NaN   \n",
              "...           ...       ...                     ...                 ...   \n",
              "266183        NaN       NaN                     NaN                 NaN   \n",
              "266188        NaN       NaN                     NaN                 NaN   \n",
              "266191        NaN       NaN                     NaN                 NaN   \n",
              "266192        NaN       NaN                     NaN                 NaN   \n",
              "266193        NaN       NaN                     NaN                 NaN   \n",
              "\n",
              "        TP_SIT_FUNC_ESC  CO_MUNICIPIO_PROVA NO_MUNICIPIO_PROVA  CO_UF_PROVA  \\\n",
              "1                   1.0             2927408           Salvador           29   \n",
              "6                   NaN             2927408           Salvador           29   \n",
              "9                   NaN             2927408           Salvador           29   \n",
              "14                  NaN             2927408           Salvador           29   \n",
              "17                  NaN             2927408           Salvador           29   \n",
              "...                 ...                 ...                ...          ...   \n",
              "266183              NaN             2927408           Salvador           29   \n",
              "266188              NaN             2927408           Salvador           29   \n",
              "266191              NaN             2927408           Salvador           29   \n",
              "266192              NaN             2927408           Salvador           29   \n",
              "266193              NaN             2927408           Salvador           29   \n",
              "\n",
              "       SG_UF_PROVA  TP_PRESENCA_CN  TP_PRESENCA_CH  TP_PRESENCA_LC  \\\n",
              "1               BA               0               0               0   \n",
              "6               BA               1               1               1   \n",
              "9               BA               0               0               0   \n",
              "14              BA               1               1               1   \n",
              "17              BA               1               1               1   \n",
              "...            ...             ...             ...             ...   \n",
              "266183          BA               0               0               0   \n",
              "266188          BA               1               1               1   \n",
              "266191          BA               0               0               0   \n",
              "266192          BA               0               0               0   \n",
              "266193          BA               0               0               0   \n",
              "\n",
              "        TP_PRESENCA_MT  CO_PROVA_CN  CO_PROVA_CH  CO_PROVA_LC  CO_PROVA_MT  \\\n",
              "1                    0          NaN          NaN          NaN          NaN   \n",
              "6                    1        910.0        879.0        889.0        900.0   \n",
              "9                    0          NaN          NaN          NaN          NaN   \n",
              "14                   1        911.0        880.0        890.0        902.0   \n",
              "17                   1        909.0        881.0        892.0        899.0   \n",
              "...                ...          ...          ...          ...          ...   \n",
              "266183               0          NaN          NaN          NaN          NaN   \n",
              "266188               1       1045.0       1017.0       1028.0       1035.0   \n",
              "266191               0          NaN          NaN          NaN          NaN   \n",
              "266192               0          NaN          NaN          NaN          NaN   \n",
              "266193               0          NaN          NaN          NaN          NaN   \n",
              "\n",
              "        NU_NOTA_CN  NU_NOTA_CH  NU_NOTA_LC  NU_NOTA_MT  \\\n",
              "1              NaN         NaN         NaN         NaN   \n",
              "6            453.4       438.3       503.4       379.5   \n",
              "9              NaN         NaN         NaN         NaN   \n",
              "14           603.3       622.5       571.7       729.2   \n",
              "17           414.6       420.5       368.6       399.4   \n",
              "...            ...         ...         ...         ...   \n",
              "266183         NaN         NaN         NaN         NaN   \n",
              "266188       463.8       474.9       333.3       357.8   \n",
              "266191         NaN         NaN         NaN         NaN   \n",
              "266192         NaN         NaN         NaN         NaN   \n",
              "266193         NaN         NaN         NaN         NaN   \n",
              "\n",
              "                                      TX_RESPOSTAS_CN  \\\n",
              "1                                                 NaN   \n",
              "6       BCDBECADBCCDCEBBBCEDCBCEBACDBEEAEDCDBCAACEEBD   \n",
              "9                                                 NaN   \n",
              "14      CCCCBBEDEACBEEBEBCCACDDABAADACDDECDABBABBEEBA   \n",
              "17      ADBDECBCCCADBEACDADEBCAEACBADEDACDEBDCEBCADCA   \n",
              "...                                               ...   \n",
              "266183                                            NaN   \n",
              "266188  AEEECBDDBBCBDBCCBBABEEBCEADDCCBDEDDAEEACCECEE   \n",
              "266191                                            NaN   \n",
              "266192                                            NaN   \n",
              "266193                                            NaN   \n",
              "\n",
              "                                      TX_RESPOSTAS_CH  \\\n",
              "1                                                 NaN   \n",
              "6       BDDCABAEEAABECBBCBEDBEABACBCCEDEBAEBAACBBECAC   \n",
              "9                                                 NaN   \n",
              "14      CBBAAAACBBABEECCCAAEAEAAACAEBEBDBABBDADBEAEEC   \n",
              "17      DACBADDCEEEBAADAADEAEBDBADEDDAABAEAEBCBEAAADB   \n",
              "...                                               ...   \n",
              "266183                                            NaN   \n",
              "266188  DBCECABAEBACDADCEDBCCBEEACEBAACECEEDCABBDEEBD   \n",
              "266191                                            NaN   \n",
              "266192                                            NaN   \n",
              "266193                                            NaN   \n",
              "\n",
              "                                          TX_RESPOSTAS_LC  \\\n",
              "1                                                     NaN   \n",
              "6       BABAC99999ACCDEADAECADBBADBBCEDCBADBCCABDABDAB...   \n",
              "9                                                     NaN   \n",
              "14      99999AAAEADDEACDBACCDBEECCCBACEADEEBDDACDADACD...   \n",
              "17      99999DBCCEEABECEDCADACACACAADBEBEEECCACCCEAEED...   \n",
              "...                                                   ...   \n",
              "266183                                                NaN   \n",
              "266188  CBCDB99999CABBCBACECCEABBBCEEDDCCBDDCAEDBBDEAC...   \n",
              "266191                                                NaN   \n",
              "266192                                                NaN   \n",
              "266193                                                NaN   \n",
              "\n",
              "                                      TX_RESPOSTAS_MT  TP_LINGUA  \\\n",
              "1                                                 NaN          0   \n",
              "6       DCDDABDEDBADAEACBCDEAABCBDBCAEBAABECEDABEBBCC          0   \n",
              "9                                                 NaN          0   \n",
              "14      DACCCBBDBEDDEEDDCBBBEEEBABDBABCBCACAEDBBDBCDA          1   \n",
              "17      BDEACDCBEDCAEBAACDBBEDCAADCBEDCEBDCAEDBCDBDEE          1   \n",
              "...                                               ...        ...   \n",
              "266183                                            NaN          1   \n",
              "266188  ECECBDDECBABAACCCCCACEAEDDDCCADAEEDECCDBDCEDB          0   \n",
              "266191                                            NaN          1   \n",
              "266192                                            NaN          1   \n",
              "266193                                            NaN          0   \n",
              "\n",
              "                                       TX_GABARITO_CN  \\\n",
              "1                                                 NaN   \n",
              "6       ADCDCDBBBECDCCDCBCBDABCAADCBEBABEEBBBCABEDEDE   \n",
              "9                                                 NaN   \n",
              "14      CDBBBCABEDEDEAAEBACCCBDABCDCBCBDECDADCDBBEEBB   \n",
              "17      EDECABEDABCBEBACCDCBBEEBBCBDAAECDCBDCDBBBADCD   \n",
              "...                                               ...   \n",
              "266183                                            NaN   \n",
              "266188  BACEECDDDEABEEDCBACBDABCCAEAAEABACCDAAACCAEEA   \n",
              "266191                                            NaN   \n",
              "266192                                            NaN   \n",
              "266193                                            NaN   \n",
              "\n",
              "                                       TX_GABARITO_CH  \\\n",
              "1                                                 NaN   \n",
              "6       BADCBADBCEDDEBBADBCABEECCAEABEBAAECBBABAAEEBB   \n",
              "9                                                 NaN   \n",
              "14      BBBAAEECBBABEECEBAAEADBCACAEABEDDEBBBADBCBADC   \n",
              "17      BEECCAEABADBCAEBAAEEDDEBBBADBCBAAEEBBBADCCBBA   \n",
              "...                                               ...   \n",
              "266183                                            NaN   \n",
              "266188  ACBCBACADEABDBDBABBCCBABABDDBBAEDAEEEEBAAEBED   \n",
              "266191                                            NaN   \n",
              "266192                                            NaN   \n",
              "266193                                            NaN   \n",
              "\n",
              "                                           TX_GABARITO_LC  \\\n",
              "1                                                     NaN   \n",
              "6       CAABBCAEAABDCDEADCEDBEDDDABBBBDEBCEADABDBACACD...   \n",
              "9                                                     NaN   \n",
              "14      ABBCAEAACADDCACDCADABBBBDEBBACEADCEBDDACEEDDDB...   \n",
              "17      ABBACAAECACDBDDADEBDDCBDCEDBEDDBBBBDCEEAADABAC...   \n",
              "...                                                   ...   \n",
              "266183                                                NaN   \n",
              "266188  ADCECCBBCEDDAEBABACBCACBEDACCEAEDACABAAABBAAEB...   \n",
              "266191                                                NaN   \n",
              "266192                                                NaN   \n",
              "266193                                                NaN   \n",
              "\n",
              "                                       TX_GABARITO_MT  TP_STATUS_REDACAO  \\\n",
              "1                                                 NaN                NaN   \n",
              "6       DDCABDCCAEDCEBBDBDAEEBADCAECDBCCCCDDCEEBABXEE                1.0   \n",
              "9                                                 NaN                NaN   \n",
              "14      ECCCABBDBDDDCEDDCABXEEEBABEDCEDCCAEBADBCCECDA                1.0   \n",
              "17      EEXEBABDDCECCBCCECDCAEBADEABBDBDEDCEDCCADDCAB                1.0   \n",
              "...                                               ...                ...   \n",
              "266183                                            NaN                NaN   \n",
              "266188  DBDBBDBAACBADBBDECBDBBACEBCBDCCECDEEDCADEABBB                1.0   \n",
              "266191                                            NaN                NaN   \n",
              "266192                                            NaN                NaN   \n",
              "266193                                            NaN                NaN   \n",
              "\n",
              "        NU_NOTA_COMP1  NU_NOTA_COMP2  NU_NOTA_COMP3  NU_NOTA_COMP4  \\\n",
              "1                 NaN            NaN            NaN            NaN   \n",
              "6               100.0          140.0          120.0          120.0   \n",
              "9                 NaN            NaN            NaN            NaN   \n",
              "14              160.0          200.0          160.0          160.0   \n",
              "17               80.0          120.0           80.0          100.0   \n",
              "...               ...            ...            ...            ...   \n",
              "266183            NaN            NaN            NaN            NaN   \n",
              "266188           80.0           40.0           40.0          120.0   \n",
              "266191            NaN            NaN            NaN            NaN   \n",
              "266192            NaN            NaN            NaN            NaN   \n",
              "266193            NaN            NaN            NaN            NaN   \n",
              "\n",
              "        NU_NOTA_COMP5  NU_NOTA_REDACAO  \n",
              "1                 NaN              NaN  \n",
              "6               120.0            600.0  \n",
              "9                 NaN              NaN  \n",
              "14              180.0            860.0  \n",
              "17              100.0            480.0  \n",
              "...               ...              ...  \n",
              "266183            NaN              NaN  \n",
              "266188            0.0            280.0  \n",
              "266191            NaN              NaN  \n",
              "266192            NaN              NaN  \n",
              "266193            NaN              NaN  \n",
              "\n",
              "[63884 rows x 51 columns]"
            ],
            "text/html": [
              "\n",
              "  <div id=\"df-9a2a32b8-6a01-4cf1-a36d-745415dc4dd8\" class=\"colab-df-container\">\n",
              "    <div>\n",
              "<style scoped>\n",
              "    .dataframe tbody tr th:only-of-type {\n",
              "        vertical-align: middle;\n",
              "    }\n",
              "\n",
              "    .dataframe tbody tr th {\n",
              "        vertical-align: top;\n",
              "    }\n",
              "\n",
              "    .dataframe thead th {\n",
              "        text-align: right;\n",
              "    }\n",
              "</style>\n",
              "<table border=\"1\" class=\"dataframe\">\n",
              "  <thead>\n",
              "    <tr style=\"text-align: right;\">\n",
              "      <th></th>\n",
              "      <th>NU_INSCRICAO</th>\n",
              "      <th>NU_ANO</th>\n",
              "      <th>TP_FAIXA_ETARIA</th>\n",
              "      <th>TP_SEXO</th>\n",
              "      <th>TP_ESTADO_CIVIL</th>\n",
              "      <th>TP_COR_RACA</th>\n",
              "      <th>TP_NACIONALIDADE</th>\n",
              "      <th>TP_ST_CONCLUSAO</th>\n",
              "      <th>TP_ANO_CONCLUIU</th>\n",
              "      <th>TP_ESCOLA</th>\n",
              "      <th>TP_ENSINO</th>\n",
              "      <th>IN_TREINEIRO</th>\n",
              "      <th>CO_MUNICIPIO_ESC</th>\n",
              "      <th>NO_MUNICIPIO_ESC</th>\n",
              "      <th>CO_UF_ESC</th>\n",
              "      <th>SG_UF_ESC</th>\n",
              "      <th>TP_DEPENDENCIA_ADM_ESC</th>\n",
              "      <th>TP_LOCALIZACAO_ESC</th>\n",
              "      <th>TP_SIT_FUNC_ESC</th>\n",
              "      <th>CO_MUNICIPIO_PROVA</th>\n",
              "      <th>NO_MUNICIPIO_PROVA</th>\n",
              "      <th>CO_UF_PROVA</th>\n",
              "      <th>SG_UF_PROVA</th>\n",
              "      <th>TP_PRESENCA_CN</th>\n",
              "      <th>TP_PRESENCA_CH</th>\n",
              "      <th>TP_PRESENCA_LC</th>\n",
              "      <th>TP_PRESENCA_MT</th>\n",
              "      <th>CO_PROVA_CN</th>\n",
              "      <th>CO_PROVA_CH</th>\n",
              "      <th>CO_PROVA_LC</th>\n",
              "      <th>CO_PROVA_MT</th>\n",
              "      <th>NU_NOTA_CN</th>\n",
              "      <th>NU_NOTA_CH</th>\n",
              "      <th>NU_NOTA_LC</th>\n",
              "      <th>NU_NOTA_MT</th>\n",
              "      <th>TX_RESPOSTAS_CN</th>\n",
              "      <th>TX_RESPOSTAS_CH</th>\n",
              "      <th>TX_RESPOSTAS_LC</th>\n",
              "      <th>TX_RESPOSTAS_MT</th>\n",
              "      <th>TP_LINGUA</th>\n",
              "      <th>TX_GABARITO_CN</th>\n",
              "      <th>TX_GABARITO_CH</th>\n",
              "      <th>TX_GABARITO_LC</th>\n",
              "      <th>TX_GABARITO_MT</th>\n",
              "      <th>TP_STATUS_REDACAO</th>\n",
              "      <th>NU_NOTA_COMP1</th>\n",
              "      <th>NU_NOTA_COMP2</th>\n",
              "      <th>NU_NOTA_COMP3</th>\n",
              "      <th>NU_NOTA_COMP4</th>\n",
              "      <th>NU_NOTA_COMP5</th>\n",
              "      <th>NU_NOTA_REDACAO</th>\n",
              "    </tr>\n",
              "  </thead>\n",
              "  <tbody>\n",
              "    <tr>\n",
              "      <th>1</th>\n",
              "      <td>210054173438</td>\n",
              "      <td>2021</td>\n",
              "      <td>5</td>\n",
              "      <td>F</td>\n",
              "      <td>1</td>\n",
              "      <td>2</td>\n",
              "      <td>1</td>\n",
              "      <td>2</td>\n",
              "      <td>0</td>\n",
              "      <td>2</td>\n",
              "      <td>1.0</td>\n",
              "      <td>0</td>\n",
              "      <td>2927408.0</td>\n",
              "      <td>Salvador</td>\n",
              "      <td>29.0</td>\n",
              "      <td>BA</td>\n",
              "      <td>1.0</td>\n",
              "      <td>1.0</td>\n",
              "      <td>1.0</td>\n",
              "      <td>2927408</td>\n",
              "      <td>Salvador</td>\n",
              "      <td>29</td>\n",
              "      <td>BA</td>\n",
              "      <td>0</td>\n",
              "      <td>0</td>\n",
              "      <td>0</td>\n",
              "      <td>0</td>\n",
              "      <td>NaN</td>\n",
              "      <td>NaN</td>\n",
              "      <td>NaN</td>\n",
              "      <td>NaN</td>\n",
              "      <td>NaN</td>\n",
              "      <td>NaN</td>\n",
              "      <td>NaN</td>\n",
              "      <td>NaN</td>\n",
              "      <td>NaN</td>\n",
              "      <td>NaN</td>\n",
              "      <td>NaN</td>\n",
              "      <td>NaN</td>\n",
              "      <td>0</td>\n",
              "      <td>NaN</td>\n",
              "      <td>NaN</td>\n",
              "      <td>NaN</td>\n",
              "      <td>NaN</td>\n",
              "      <td>NaN</td>\n",
              "      <td>NaN</td>\n",
              "      <td>NaN</td>\n",
              "      <td>NaN</td>\n",
              "      <td>NaN</td>\n",
              "      <td>NaN</td>\n",
              "      <td>NaN</td>\n",
              "    </tr>\n",
              "    <tr>\n",
              "      <th>6</th>\n",
              "      <td>210053741476</td>\n",
              "      <td>2021</td>\n",
              "      <td>6</td>\n",
              "      <td>F</td>\n",
              "      <td>1</td>\n",
              "      <td>3</td>\n",
              "      <td>1</td>\n",
              "      <td>1</td>\n",
              "      <td>3</td>\n",
              "      <td>1</td>\n",
              "      <td>NaN</td>\n",
              "      <td>0</td>\n",
              "      <td>NaN</td>\n",
              "      <td>NaN</td>\n",
              "      <td>NaN</td>\n",
              "      <td>NaN</td>\n",
              "      <td>NaN</td>\n",
              "      <td>NaN</td>\n",
              "      <td>NaN</td>\n",
              "      <td>2927408</td>\n",
              "      <td>Salvador</td>\n",
              "      <td>29</td>\n",
              "      <td>BA</td>\n",
              "      <td>1</td>\n",
              "      <td>1</td>\n",
              "      <td>1</td>\n",
              "      <td>1</td>\n",
              "      <td>910.0</td>\n",
              "      <td>879.0</td>\n",
              "      <td>889.0</td>\n",
              "      <td>900.0</td>\n",
              "      <td>453.4</td>\n",
              "      <td>438.3</td>\n",
              "      <td>503.4</td>\n",
              "      <td>379.5</td>\n",
              "      <td>BCDBECADBCCDCEBBBCEDCBCEBACDBEEAEDCDBCAACEEBD</td>\n",
              "      <td>BDDCABAEEAABECBBCBEDBEABACBCCEDEBAEBAACBBECAC</td>\n",
              "      <td>BABAC99999ACCDEADAECADBBADBBCEDCBADBCCABDABDAB...</td>\n",
              "      <td>DCDDABDEDBADAEACBCDEAABCBDBCAEBAABECEDABEBBCC</td>\n",
              "      <td>0</td>\n",
              "      <td>ADCDCDBBBECDCCDCBCBDABCAADCBEBABEEBBBCABEDEDE</td>\n",
              "      <td>BADCBADBCEDDEBBADBCABEECCAEABEBAAECBBABAAEEBB</td>\n",
              "      <td>CAABBCAEAABDCDEADCEDBEDDDABBBBDEBCEADABDBACACD...</td>\n",
              "      <td>DDCABDCCAEDCEBBDBDAEEBADCAECDBCCCCDDCEEBABXEE</td>\n",
              "      <td>1.0</td>\n",
              "      <td>100.0</td>\n",
              "      <td>140.0</td>\n",
              "      <td>120.0</td>\n",
              "      <td>120.0</td>\n",
              "      <td>120.0</td>\n",
              "      <td>600.0</td>\n",
              "    </tr>\n",
              "    <tr>\n",
              "      <th>9</th>\n",
              "      <td>210054171092</td>\n",
              "      <td>2021</td>\n",
              "      <td>4</td>\n",
              "      <td>M</td>\n",
              "      <td>1</td>\n",
              "      <td>2</td>\n",
              "      <td>1</td>\n",
              "      <td>1</td>\n",
              "      <td>1</td>\n",
              "      <td>1</td>\n",
              "      <td>NaN</td>\n",
              "      <td>0</td>\n",
              "      <td>NaN</td>\n",
              "      <td>NaN</td>\n",
              "      <td>NaN</td>\n",
              "      <td>NaN</td>\n",
              "      <td>NaN</td>\n",
              "      <td>NaN</td>\n",
              "      <td>NaN</td>\n",
              "      <td>2927408</td>\n",
              "      <td>Salvador</td>\n",
              "      <td>29</td>\n",
              "      <td>BA</td>\n",
              "      <td>0</td>\n",
              "      <td>0</td>\n",
              "      <td>0</td>\n",
              "      <td>0</td>\n",
              "      <td>NaN</td>\n",
              "      <td>NaN</td>\n",
              "      <td>NaN</td>\n",
              "      <td>NaN</td>\n",
              "      <td>NaN</td>\n",
              "      <td>NaN</td>\n",
              "      <td>NaN</td>\n",
              "      <td>NaN</td>\n",
              "      <td>NaN</td>\n",
              "      <td>NaN</td>\n",
              "      <td>NaN</td>\n",
              "      <td>NaN</td>\n",
              "      <td>0</td>\n",
              "      <td>NaN</td>\n",
              "      <td>NaN</td>\n",
              "      <td>NaN</td>\n",
              "      <td>NaN</td>\n",
              "      <td>NaN</td>\n",
              "      <td>NaN</td>\n",
              "      <td>NaN</td>\n",
              "      <td>NaN</td>\n",
              "      <td>NaN</td>\n",
              "      <td>NaN</td>\n",
              "      <td>NaN</td>\n",
              "    </tr>\n",
              "    <tr>\n",
              "      <th>14</th>\n",
              "      <td>210053702687</td>\n",
              "      <td>2021</td>\n",
              "      <td>6</td>\n",
              "      <td>F</td>\n",
              "      <td>1</td>\n",
              "      <td>1</td>\n",
              "      <td>1</td>\n",
              "      <td>1</td>\n",
              "      <td>4</td>\n",
              "      <td>1</td>\n",
              "      <td>NaN</td>\n",
              "      <td>0</td>\n",
              "      <td>NaN</td>\n",
              "      <td>NaN</td>\n",
              "      <td>NaN</td>\n",
              "      <td>NaN</td>\n",
              "      <td>NaN</td>\n",
              "      <td>NaN</td>\n",
              "      <td>NaN</td>\n",
              "      <td>2927408</td>\n",
              "      <td>Salvador</td>\n",
              "      <td>29</td>\n",
              "      <td>BA</td>\n",
              "      <td>1</td>\n",
              "      <td>1</td>\n",
              "      <td>1</td>\n",
              "      <td>1</td>\n",
              "      <td>911.0</td>\n",
              "      <td>880.0</td>\n",
              "      <td>890.0</td>\n",
              "      <td>902.0</td>\n",
              "      <td>603.3</td>\n",
              "      <td>622.5</td>\n",
              "      <td>571.7</td>\n",
              "      <td>729.2</td>\n",
              "      <td>CCCCBBEDEACBEEBEBCCACDDABAADACDDECDABBABBEEBA</td>\n",
              "      <td>CBBAAAACBBABEECCCAAEAEAAACAEBEBDBABBDADBEAEEC</td>\n",
              "      <td>99999AAAEADDEACDBACCDBEECCCBACEADEEBDDACDADACD...</td>\n",
              "      <td>DACCCBBDBEDDEEDDCBBBEEEBABDBABCBCACAEDBBDBCDA</td>\n",
              "      <td>1</td>\n",
              "      <td>CDBBBCABEDEDEAAEBACCCBDABCDCBCBDECDADCDBBEEBB</td>\n",
              "      <td>BBBAAEECBBABEECEBAAEADBCACAEABEDDEBBBADBCBADC</td>\n",
              "      <td>ABBCAEAACADDCACDCADABBBBDEBBACEADCEBDDACEEDDDB...</td>\n",
              "      <td>ECCCABBDBDDDCEDDCABXEEEBABEDCEDCCAEBADBCCECDA</td>\n",
              "      <td>1.0</td>\n",
              "      <td>160.0</td>\n",
              "      <td>200.0</td>\n",
              "      <td>160.0</td>\n",
              "      <td>160.0</td>\n",
              "      <td>180.0</td>\n",
              "      <td>860.0</td>\n",
              "    </tr>\n",
              "    <tr>\n",
              "      <th>17</th>\n",
              "      <td>210054087112</td>\n",
              "      <td>2021</td>\n",
              "      <td>12</td>\n",
              "      <td>M</td>\n",
              "      <td>1</td>\n",
              "      <td>3</td>\n",
              "      <td>1</td>\n",
              "      <td>1</td>\n",
              "      <td>14</td>\n",
              "      <td>1</td>\n",
              "      <td>NaN</td>\n",
              "      <td>0</td>\n",
              "      <td>NaN</td>\n",
              "      <td>NaN</td>\n",
              "      <td>NaN</td>\n",
              "      <td>NaN</td>\n",
              "      <td>NaN</td>\n",
              "      <td>NaN</td>\n",
              "      <td>NaN</td>\n",
              "      <td>2927408</td>\n",
              "      <td>Salvador</td>\n",
              "      <td>29</td>\n",
              "      <td>BA</td>\n",
              "      <td>1</td>\n",
              "      <td>1</td>\n",
              "      <td>1</td>\n",
              "      <td>1</td>\n",
              "      <td>909.0</td>\n",
              "      <td>881.0</td>\n",
              "      <td>892.0</td>\n",
              "      <td>899.0</td>\n",
              "      <td>414.6</td>\n",
              "      <td>420.5</td>\n",
              "      <td>368.6</td>\n",
              "      <td>399.4</td>\n",
              "      <td>ADBDECBCCCADBEACDADEBCAEACBADEDACDEBDCEBCADCA</td>\n",
              "      <td>DACBADDCEEEBAADAADEAEBDBADEDDAABAEAEBCBEAAADB</td>\n",
              "      <td>99999DBCCEEABECEDCADACACACAADBEBEEECCACCCEAEED...</td>\n",
              "      <td>BDEACDCBEDCAEBAACDBBEDCAADCBEDCEBDCAEDBCDBDEE</td>\n",
              "      <td>1</td>\n",
              "      <td>EDECABEDABCBEBACCDCBBEEBBCBDAAECDCBDCDBBBADCD</td>\n",
              "      <td>BEECCAEABADBCAEBAAEEDDEBBBADBCBAAEEBBBADCCBBA</td>\n",
              "      <td>ABBACAAECACDBDDADEBDDCBDCEDBEDDBBBBDCEEAADABAC...</td>\n",
              "      <td>EEXEBABDDCECCBCCECDCAEBADEABBDBDEDCEDCCADDCAB</td>\n",
              "      <td>1.0</td>\n",
              "      <td>80.0</td>\n",
              "      <td>120.0</td>\n",
              "      <td>80.0</td>\n",
              "      <td>100.0</td>\n",
              "      <td>100.0</td>\n",
              "      <td>480.0</td>\n",
              "    </tr>\n",
              "    <tr>\n",
              "      <th>...</th>\n",
              "      <td>...</td>\n",
              "      <td>...</td>\n",
              "      <td>...</td>\n",
              "      <td>...</td>\n",
              "      <td>...</td>\n",
              "      <td>...</td>\n",
              "      <td>...</td>\n",
              "      <td>...</td>\n",
              "      <td>...</td>\n",
              "      <td>...</td>\n",
              "      <td>...</td>\n",
              "      <td>...</td>\n",
              "      <td>...</td>\n",
              "      <td>...</td>\n",
              "      <td>...</td>\n",
              "      <td>...</td>\n",
              "      <td>...</td>\n",
              "      <td>...</td>\n",
              "      <td>...</td>\n",
              "      <td>...</td>\n",
              "      <td>...</td>\n",
              "      <td>...</td>\n",
              "      <td>...</td>\n",
              "      <td>...</td>\n",
              "      <td>...</td>\n",
              "      <td>...</td>\n",
              "      <td>...</td>\n",
              "      <td>...</td>\n",
              "      <td>...</td>\n",
              "      <td>...</td>\n",
              "      <td>...</td>\n",
              "      <td>...</td>\n",
              "      <td>...</td>\n",
              "      <td>...</td>\n",
              "      <td>...</td>\n",
              "      <td>...</td>\n",
              "      <td>...</td>\n",
              "      <td>...</td>\n",
              "      <td>...</td>\n",
              "      <td>...</td>\n",
              "      <td>...</td>\n",
              "      <td>...</td>\n",
              "      <td>...</td>\n",
              "      <td>...</td>\n",
              "      <td>...</td>\n",
              "      <td>...</td>\n",
              "      <td>...</td>\n",
              "      <td>...</td>\n",
              "      <td>...</td>\n",
              "      <td>...</td>\n",
              "      <td>...</td>\n",
              "    </tr>\n",
              "    <tr>\n",
              "      <th>266183</th>\n",
              "      <td>210053939844</td>\n",
              "      <td>2021</td>\n",
              "      <td>16</td>\n",
              "      <td>F</td>\n",
              "      <td>0</td>\n",
              "      <td>2</td>\n",
              "      <td>1</td>\n",
              "      <td>4</td>\n",
              "      <td>0</td>\n",
              "      <td>1</td>\n",
              "      <td>NaN</td>\n",
              "      <td>0</td>\n",
              "      <td>NaN</td>\n",
              "      <td>NaN</td>\n",
              "      <td>NaN</td>\n",
              "      <td>NaN</td>\n",
              "      <td>NaN</td>\n",
              "      <td>NaN</td>\n",
              "      <td>NaN</td>\n",
              "      <td>2927408</td>\n",
              "      <td>Salvador</td>\n",
              "      <td>29</td>\n",
              "      <td>BA</td>\n",
              "      <td>0</td>\n",
              "      <td>0</td>\n",
              "      <td>0</td>\n",
              "      <td>0</td>\n",
              "      <td>NaN</td>\n",
              "      <td>NaN</td>\n",
              "      <td>NaN</td>\n",
              "      <td>NaN</td>\n",
              "      <td>NaN</td>\n",
              "      <td>NaN</td>\n",
              "      <td>NaN</td>\n",
              "      <td>NaN</td>\n",
              "      <td>NaN</td>\n",
              "      <td>NaN</td>\n",
              "      <td>NaN</td>\n",
              "      <td>NaN</td>\n",
              "      <td>1</td>\n",
              "      <td>NaN</td>\n",
              "      <td>NaN</td>\n",
              "      <td>NaN</td>\n",
              "      <td>NaN</td>\n",
              "      <td>NaN</td>\n",
              "      <td>NaN</td>\n",
              "      <td>NaN</td>\n",
              "      <td>NaN</td>\n",
              "      <td>NaN</td>\n",
              "      <td>NaN</td>\n",
              "      <td>NaN</td>\n",
              "    </tr>\n",
              "    <tr>\n",
              "      <th>266188</th>\n",
              "      <td>210054023670</td>\n",
              "      <td>2021</td>\n",
              "      <td>5</td>\n",
              "      <td>F</td>\n",
              "      <td>1</td>\n",
              "      <td>3</td>\n",
              "      <td>1</td>\n",
              "      <td>1</td>\n",
              "      <td>2</td>\n",
              "      <td>1</td>\n",
              "      <td>NaN</td>\n",
              "      <td>0</td>\n",
              "      <td>NaN</td>\n",
              "      <td>NaN</td>\n",
              "      <td>NaN</td>\n",
              "      <td>NaN</td>\n",
              "      <td>NaN</td>\n",
              "      <td>NaN</td>\n",
              "      <td>NaN</td>\n",
              "      <td>2927408</td>\n",
              "      <td>Salvador</td>\n",
              "      <td>29</td>\n",
              "      <td>BA</td>\n",
              "      <td>1</td>\n",
              "      <td>1</td>\n",
              "      <td>1</td>\n",
              "      <td>1</td>\n",
              "      <td>1045.0</td>\n",
              "      <td>1017.0</td>\n",
              "      <td>1028.0</td>\n",
              "      <td>1035.0</td>\n",
              "      <td>463.8</td>\n",
              "      <td>474.9</td>\n",
              "      <td>333.3</td>\n",
              "      <td>357.8</td>\n",
              "      <td>AEEECBDDBBCBDBCCBBABEEBCEADDCCBDEDDAEEACCECEE</td>\n",
              "      <td>DBCECABAEBACDADCEDBCCBEEACEBAACECEEDCABBDEEBD</td>\n",
              "      <td>CBCDB99999CABBCBACECCEABBBCEEDDCCBDDCAEDBBDEAC...</td>\n",
              "      <td>ECECBDDECBABAACCCCCACEAEDDDCCADAEEDECCDBDCEDB</td>\n",
              "      <td>0</td>\n",
              "      <td>BACEECDDDEABEEDCBACBDABCCAEAAEABACCDAAACCAEEA</td>\n",
              "      <td>ACBCBACADEABDBDBABBCCBABABDDBBAEDAEEEEBAAEBED</td>\n",
              "      <td>ADCECCBBCEDDAEBABACBCACBEDACCEAEDACABAAABBAAEB...</td>\n",
              "      <td>DBDBBDBAACBADBBDECBDBBACEBCBDCCECDEEDCADEABBB</td>\n",
              "      <td>1.0</td>\n",
              "      <td>80.0</td>\n",
              "      <td>40.0</td>\n",
              "      <td>40.0</td>\n",
              "      <td>120.0</td>\n",
              "      <td>0.0</td>\n",
              "      <td>280.0</td>\n",
              "    </tr>\n",
              "    <tr>\n",
              "      <th>266191</th>\n",
              "      <td>210051995005</td>\n",
              "      <td>2021</td>\n",
              "      <td>11</td>\n",
              "      <td>M</td>\n",
              "      <td>0</td>\n",
              "      <td>2</td>\n",
              "      <td>1</td>\n",
              "      <td>1</td>\n",
              "      <td>12</td>\n",
              "      <td>1</td>\n",
              "      <td>NaN</td>\n",
              "      <td>0</td>\n",
              "      <td>NaN</td>\n",
              "      <td>NaN</td>\n",
              "      <td>NaN</td>\n",
              "      <td>NaN</td>\n",
              "      <td>NaN</td>\n",
              "      <td>NaN</td>\n",
              "      <td>NaN</td>\n",
              "      <td>2927408</td>\n",
              "      <td>Salvador</td>\n",
              "      <td>29</td>\n",
              "      <td>BA</td>\n",
              "      <td>0</td>\n",
              "      <td>0</td>\n",
              "      <td>0</td>\n",
              "      <td>0</td>\n",
              "      <td>NaN</td>\n",
              "      <td>NaN</td>\n",
              "      <td>NaN</td>\n",
              "      <td>NaN</td>\n",
              "      <td>NaN</td>\n",
              "      <td>NaN</td>\n",
              "      <td>NaN</td>\n",
              "      <td>NaN</td>\n",
              "      <td>NaN</td>\n",
              "      <td>NaN</td>\n",
              "      <td>NaN</td>\n",
              "      <td>NaN</td>\n",
              "      <td>1</td>\n",
              "      <td>NaN</td>\n",
              "      <td>NaN</td>\n",
              "      <td>NaN</td>\n",
              "      <td>NaN</td>\n",
              "      <td>NaN</td>\n",
              "      <td>NaN</td>\n",
              "      <td>NaN</td>\n",
              "      <td>NaN</td>\n",
              "      <td>NaN</td>\n",
              "      <td>NaN</td>\n",
              "      <td>NaN</td>\n",
              "    </tr>\n",
              "    <tr>\n",
              "      <th>266192</th>\n",
              "      <td>210053234415</td>\n",
              "      <td>2021</td>\n",
              "      <td>12</td>\n",
              "      <td>M</td>\n",
              "      <td>2</td>\n",
              "      <td>2</td>\n",
              "      <td>1</td>\n",
              "      <td>1</td>\n",
              "      <td>15</td>\n",
              "      <td>1</td>\n",
              "      <td>NaN</td>\n",
              "      <td>0</td>\n",
              "      <td>NaN</td>\n",
              "      <td>NaN</td>\n",
              "      <td>NaN</td>\n",
              "      <td>NaN</td>\n",
              "      <td>NaN</td>\n",
              "      <td>NaN</td>\n",
              "      <td>NaN</td>\n",
              "      <td>2927408</td>\n",
              "      <td>Salvador</td>\n",
              "      <td>29</td>\n",
              "      <td>BA</td>\n",
              "      <td>0</td>\n",
              "      <td>0</td>\n",
              "      <td>0</td>\n",
              "      <td>0</td>\n",
              "      <td>NaN</td>\n",
              "      <td>NaN</td>\n",
              "      <td>NaN</td>\n",
              "      <td>NaN</td>\n",
              "      <td>NaN</td>\n",
              "      <td>NaN</td>\n",
              "      <td>NaN</td>\n",
              "      <td>NaN</td>\n",
              "      <td>NaN</td>\n",
              "      <td>NaN</td>\n",
              "      <td>NaN</td>\n",
              "      <td>NaN</td>\n",
              "      <td>1</td>\n",
              "      <td>NaN</td>\n",
              "      <td>NaN</td>\n",
              "      <td>NaN</td>\n",
              "      <td>NaN</td>\n",
              "      <td>NaN</td>\n",
              "      <td>NaN</td>\n",
              "      <td>NaN</td>\n",
              "      <td>NaN</td>\n",
              "      <td>NaN</td>\n",
              "      <td>NaN</td>\n",
              "      <td>NaN</td>\n",
              "    </tr>\n",
              "    <tr>\n",
              "      <th>266193</th>\n",
              "      <td>210054027870</td>\n",
              "      <td>2021</td>\n",
              "      <td>5</td>\n",
              "      <td>F</td>\n",
              "      <td>1</td>\n",
              "      <td>2</td>\n",
              "      <td>1</td>\n",
              "      <td>1</td>\n",
              "      <td>2</td>\n",
              "      <td>1</td>\n",
              "      <td>NaN</td>\n",
              "      <td>0</td>\n",
              "      <td>NaN</td>\n",
              "      <td>NaN</td>\n",
              "      <td>NaN</td>\n",
              "      <td>NaN</td>\n",
              "      <td>NaN</td>\n",
              "      <td>NaN</td>\n",
              "      <td>NaN</td>\n",
              "      <td>2927408</td>\n",
              "      <td>Salvador</td>\n",
              "      <td>29</td>\n",
              "      <td>BA</td>\n",
              "      <td>0</td>\n",
              "      <td>0</td>\n",
              "      <td>0</td>\n",
              "      <td>0</td>\n",
              "      <td>NaN</td>\n",
              "      <td>NaN</td>\n",
              "      <td>NaN</td>\n",
              "      <td>NaN</td>\n",
              "      <td>NaN</td>\n",
              "      <td>NaN</td>\n",
              "      <td>NaN</td>\n",
              "      <td>NaN</td>\n",
              "      <td>NaN</td>\n",
              "      <td>NaN</td>\n",
              "      <td>NaN</td>\n",
              "      <td>NaN</td>\n",
              "      <td>0</td>\n",
              "      <td>NaN</td>\n",
              "      <td>NaN</td>\n",
              "      <td>NaN</td>\n",
              "      <td>NaN</td>\n",
              "      <td>NaN</td>\n",
              "      <td>NaN</td>\n",
              "      <td>NaN</td>\n",
              "      <td>NaN</td>\n",
              "      <td>NaN</td>\n",
              "      <td>NaN</td>\n",
              "      <td>NaN</td>\n",
              "    </tr>\n",
              "  </tbody>\n",
              "</table>\n",
              "<p>63884 rows × 51 columns</p>\n",
              "</div>\n",
              "    <div class=\"colab-df-buttons\">\n",
              "\n",
              "  <div class=\"colab-df-container\">\n",
              "    <button class=\"colab-df-convert\" onclick=\"convertToInteractive('df-9a2a32b8-6a01-4cf1-a36d-745415dc4dd8')\"\n",
              "            title=\"Convert this dataframe to an interactive table.\"\n",
              "            style=\"display:none;\">\n",
              "\n",
              "  <svg xmlns=\"http://www.w3.org/2000/svg\" height=\"24px\" viewBox=\"0 -960 960 960\">\n",
              "    <path d=\"M120-120v-720h720v720H120Zm60-500h600v-160H180v160Zm220 220h160v-160H400v160Zm0 220h160v-160H400v160ZM180-400h160v-160H180v160Zm440 0h160v-160H620v160ZM180-180h160v-160H180v160Zm440 0h160v-160H620v160Z\"/>\n",
              "  </svg>\n",
              "    </button>\n",
              "\n",
              "  <style>\n",
              "    .colab-df-container {\n",
              "      display:flex;\n",
              "      gap: 12px;\n",
              "    }\n",
              "\n",
              "    .colab-df-convert {\n",
              "      background-color: #E8F0FE;\n",
              "      border: none;\n",
              "      border-radius: 50%;\n",
              "      cursor: pointer;\n",
              "      display: none;\n",
              "      fill: #1967D2;\n",
              "      height: 32px;\n",
              "      padding: 0 0 0 0;\n",
              "      width: 32px;\n",
              "    }\n",
              "\n",
              "    .colab-df-convert:hover {\n",
              "      background-color: #E2EBFA;\n",
              "      box-shadow: 0px 1px 2px rgba(60, 64, 67, 0.3), 0px 1px 3px 1px rgba(60, 64, 67, 0.15);\n",
              "      fill: #174EA6;\n",
              "    }\n",
              "\n",
              "    .colab-df-buttons div {\n",
              "      margin-bottom: 4px;\n",
              "    }\n",
              "\n",
              "    [theme=dark] .colab-df-convert {\n",
              "      background-color: #3B4455;\n",
              "      fill: #D2E3FC;\n",
              "    }\n",
              "\n",
              "    [theme=dark] .colab-df-convert:hover {\n",
              "      background-color: #434B5C;\n",
              "      box-shadow: 0px 1px 3px 1px rgba(0, 0, 0, 0.15);\n",
              "      filter: drop-shadow(0px 1px 2px rgba(0, 0, 0, 0.3));\n",
              "      fill: #FFFFFF;\n",
              "    }\n",
              "  </style>\n",
              "\n",
              "    <script>\n",
              "      const buttonEl =\n",
              "        document.querySelector('#df-9a2a32b8-6a01-4cf1-a36d-745415dc4dd8 button.colab-df-convert');\n",
              "      buttonEl.style.display =\n",
              "        google.colab.kernel.accessAllowed ? 'block' : 'none';\n",
              "\n",
              "      async function convertToInteractive(key) {\n",
              "        const element = document.querySelector('#df-9a2a32b8-6a01-4cf1-a36d-745415dc4dd8');\n",
              "        const dataTable =\n",
              "          await google.colab.kernel.invokeFunction('convertToInteractive',\n",
              "                                                    [key], {});\n",
              "        if (!dataTable) return;\n",
              "\n",
              "        const docLinkHtml = 'Like what you see? Visit the ' +\n",
              "          '<a target=\"_blank\" href=https://colab.research.google.com/notebooks/data_table.ipynb>data table notebook</a>'\n",
              "          + ' to learn more about interactive tables.';\n",
              "        element.innerHTML = '';\n",
              "        dataTable['output_type'] = 'display_data';\n",
              "        await google.colab.output.renderOutput(dataTable, element);\n",
              "        const docLink = document.createElement('div');\n",
              "        docLink.innerHTML = docLinkHtml;\n",
              "        element.appendChild(docLink);\n",
              "      }\n",
              "    </script>\n",
              "  </div>\n",
              "\n",
              "\n",
              "    <div id=\"df-15bd1b42-e982-4119-b819-910c7742efc8\">\n",
              "      <button class=\"colab-df-quickchart\" onclick=\"quickchart('df-15bd1b42-e982-4119-b819-910c7742efc8')\"\n",
              "                title=\"Suggest charts\"\n",
              "                style=\"display:none;\">\n",
              "\n",
              "<svg xmlns=\"http://www.w3.org/2000/svg\" height=\"24px\"viewBox=\"0 0 24 24\"\n",
              "     width=\"24px\">\n",
              "    <g>\n",
              "        <path d=\"M19 3H5c-1.1 0-2 .9-2 2v14c0 1.1.9 2 2 2h14c1.1 0 2-.9 2-2V5c0-1.1-.9-2-2-2zM9 17H7v-7h2v7zm4 0h-2V7h2v10zm4 0h-2v-4h2v4z\"/>\n",
              "    </g>\n",
              "</svg>\n",
              "      </button>\n",
              "\n",
              "<style>\n",
              "  .colab-df-quickchart {\n",
              "      --bg-color: #E8F0FE;\n",
              "      --fill-color: #1967D2;\n",
              "      --hover-bg-color: #E2EBFA;\n",
              "      --hover-fill-color: #174EA6;\n",
              "      --disabled-fill-color: #AAA;\n",
              "      --disabled-bg-color: #DDD;\n",
              "  }\n",
              "\n",
              "  [theme=dark] .colab-df-quickchart {\n",
              "      --bg-color: #3B4455;\n",
              "      --fill-color: #D2E3FC;\n",
              "      --hover-bg-color: #434B5C;\n",
              "      --hover-fill-color: #FFFFFF;\n",
              "      --disabled-bg-color: #3B4455;\n",
              "      --disabled-fill-color: #666;\n",
              "  }\n",
              "\n",
              "  .colab-df-quickchart {\n",
              "    background-color: var(--bg-color);\n",
              "    border: none;\n",
              "    border-radius: 50%;\n",
              "    cursor: pointer;\n",
              "    display: none;\n",
              "    fill: var(--fill-color);\n",
              "    height: 32px;\n",
              "    padding: 0;\n",
              "    width: 32px;\n",
              "  }\n",
              "\n",
              "  .colab-df-quickchart:hover {\n",
              "    background-color: var(--hover-bg-color);\n",
              "    box-shadow: 0 1px 2px rgba(60, 64, 67, 0.3), 0 1px 3px 1px rgba(60, 64, 67, 0.15);\n",
              "    fill: var(--button-hover-fill-color);\n",
              "  }\n",
              "\n",
              "  .colab-df-quickchart-complete:disabled,\n",
              "  .colab-df-quickchart-complete:disabled:hover {\n",
              "    background-color: var(--disabled-bg-color);\n",
              "    fill: var(--disabled-fill-color);\n",
              "    box-shadow: none;\n",
              "  }\n",
              "\n",
              "  .colab-df-spinner {\n",
              "    border: 2px solid var(--fill-color);\n",
              "    border-color: transparent;\n",
              "    border-bottom-color: var(--fill-color);\n",
              "    animation:\n",
              "      spin 1s steps(1) infinite;\n",
              "  }\n",
              "\n",
              "  @keyframes spin {\n",
              "    0% {\n",
              "      border-color: transparent;\n",
              "      border-bottom-color: var(--fill-color);\n",
              "      border-left-color: var(--fill-color);\n",
              "    }\n",
              "    20% {\n",
              "      border-color: transparent;\n",
              "      border-left-color: var(--fill-color);\n",
              "      border-top-color: var(--fill-color);\n",
              "    }\n",
              "    30% {\n",
              "      border-color: transparent;\n",
              "      border-left-color: var(--fill-color);\n",
              "      border-top-color: var(--fill-color);\n",
              "      border-right-color: var(--fill-color);\n",
              "    }\n",
              "    40% {\n",
              "      border-color: transparent;\n",
              "      border-right-color: var(--fill-color);\n",
              "      border-top-color: var(--fill-color);\n",
              "    }\n",
              "    60% {\n",
              "      border-color: transparent;\n",
              "      border-right-color: var(--fill-color);\n",
              "    }\n",
              "    80% {\n",
              "      border-color: transparent;\n",
              "      border-right-color: var(--fill-color);\n",
              "      border-bottom-color: var(--fill-color);\n",
              "    }\n",
              "    90% {\n",
              "      border-color: transparent;\n",
              "      border-bottom-color: var(--fill-color);\n",
              "    }\n",
              "  }\n",
              "</style>\n",
              "\n",
              "      <script>\n",
              "        async function quickchart(key) {\n",
              "          const quickchartButtonEl =\n",
              "            document.querySelector('#' + key + ' button');\n",
              "          quickchartButtonEl.disabled = true;  // To prevent multiple clicks.\n",
              "          quickchartButtonEl.classList.add('colab-df-spinner');\n",
              "          try {\n",
              "            const charts = await google.colab.kernel.invokeFunction(\n",
              "                'suggestCharts', [key], {});\n",
              "          } catch (error) {\n",
              "            console.error('Error during call to suggestCharts:', error);\n",
              "          }\n",
              "          quickchartButtonEl.classList.remove('colab-df-spinner');\n",
              "          quickchartButtonEl.classList.add('colab-df-quickchart-complete');\n",
              "        }\n",
              "        (() => {\n",
              "          let quickchartButtonEl =\n",
              "            document.querySelector('#df-15bd1b42-e982-4119-b819-910c7742efc8 button');\n",
              "          quickchartButtonEl.style.display =\n",
              "            google.colab.kernel.accessAllowed ? 'block' : 'none';\n",
              "        })();\n",
              "      </script>\n",
              "    </div>\n",
              "\n",
              "    </div>\n",
              "  </div>\n"
            ],
            "application/vnd.google.colaboratory.intrinsic+json": {
              "type": "dataframe"
            }
          },
          "metadata": {},
          "execution_count": 79
        }
      ]
    },
    {
      "cell_type": "code",
      "source": [
        "dados[dados[\"NO_MUNICIPIO_PROVA\"].isin([\"Salvador\"])][\"NO_MUNICIPIO_PROVA\"].unique()"
      ],
      "metadata": {
        "colab": {
          "base_uri": "https://localhost:8080/"
        },
        "id": "lVKuNrd3og2d",
        "outputId": "60398217-da4e-4871-fd8f-28743739231d"
      },
      "execution_count": 91,
      "outputs": [
        {
          "output_type": "execute_result",
          "data": {
            "text/plain": [
              "array(['Salvador'], dtype=object)"
            ]
          },
          "metadata": {},
          "execution_count": 91
        }
      ]
    },
    {
      "cell_type": "markdown",
      "source": [
        "Pegando todos as cidades MENOS Salvador"
      ],
      "metadata": {
        "id": "P9AHYMiCpex2"
      }
    },
    {
      "cell_type": "code",
      "source": [
        "dados[~dados[\"NO_MUNICIPIO_PROVA\"].isin([\"Salvador\"])][\"NO_MUNICIPIO_PROVA\"].unique()"
      ],
      "metadata": {
        "colab": {
          "base_uri": "https://localhost:8080/"
        },
        "id": "YsJrIIVapQzL",
        "outputId": "a02cf263-994c-4b77-ea9f-239a66d32fc8"
      },
      "execution_count": 92,
      "outputs": [
        {
          "output_type": "execute_result",
          "data": {
            "text/plain": [
              "array(['Ruy Barbosa', 'Barreiras', 'Santo Estêvão', 'Feira de Santana',\n",
              "       'Urandi', 'Casa Nova', 'Serrinha', 'Entre Rios', 'Camaçari',\n",
              "       'Vera Cruz', 'Teixeira de Freitas', 'Vitória da Conquista',\n",
              "       'Seabra', 'Eunápolis', 'Pojuca', 'Senhor do Bonfim', 'Caculé',\n",
              "       'Juazeiro', 'Paramirim', 'Itapetinga', 'Ubaitaba', 'Simões Filho',\n",
              "       'Poções', 'Ipirá', 'Brumado', 'Maracás', 'Candeias',\n",
              "       'Coração de Maria', 'Santo Amaro', 'Tucano', 'Amélia Rodrigues',\n",
              "       'Ilhéus', 'Santo Antônio de Jesus', 'Jeremoabo', 'Ipiaú',\n",
              "       'Santana', 'Araci', 'Morro do Chapéu', 'Guanambi',\n",
              "       'Santa Rita de Cássia', 'Cruz das Almas', 'Conceição do Coité',\n",
              "       'Lauro de Freitas', 'Macaúbas', 'Bom Jesus da Lapa', 'Paratinga',\n",
              "       'Baixa Grande', 'Rio Real', 'Nova Viçosa', 'Ribeira do Pombal',\n",
              "       'Correntina', 'Valença', 'Cícero Dantas', 'Santa Maria da Vitória',\n",
              "       'Ibotirama', 'Itaberaba', 'Formosa do Rio Preto', 'Anagé',\n",
              "       'Xique-Xique', 'Alagoinhas', 'Amargosa', 'Paripiranga',\n",
              "       'Paulo Afonso', 'Gandu', 'Valente', 'Riacho de Santana', 'Irará',\n",
              "       'Caetité', 'Jaguaquara', 'Ibicaraí', 'Jaguarari',\n",
              "       'Brotas de Macaúbas', 'Porto Seguro', 'Cachoeira', 'Boquira',\n",
              "       'Ibititá', 'Jacobina', 'Castro Alves', 'Carinhanha', 'Itamaraju',\n",
              "       'Cândido Sales', 'Sapeaçu', 'Itabuna', 'Luís Eduardo Magalhães',\n",
              "       'Inhambupe', 'Catu', 'Euclides da Cunha', 'São Gonçalo dos Campos',\n",
              "       'Palmas de Monte Alto', 'São Sebastião do Passé',\n",
              "       'Livramento de Nossa Senhora', 'Jiquiriçá', 'Nazaré', 'Cordeiros',\n",
              "       'Presidente Tancredo Neves', 'Itambé', 'João Dourado', 'Uibaí',\n",
              "       'Esplanada', 'Barra', 'Jequié', 'Iraquara', 'Ituberá',\n",
              "       'Oliveira dos Brejinhos', 'Rio de Contas', 'Presidente Dutra',\n",
              "       'Mutuípe', 'Cocos', 'Pilão Arcado', 'Caravelas', 'Milagres',\n",
              "       'Campo Formoso', 'Riachão do Jacuípe', 'Irecê', 'Canavieiras',\n",
              "       \"Dias d'Ávila\", 'Coaraci', 'Jussara', 'Canarana', 'Una', 'Ubaíra',\n",
              "       'Barra do Choça', 'São Gabriel', 'Camacan', 'Barra da Estiva',\n",
              "       'Governador Mangabeira', 'Mucuri', 'Sobradinho', 'Prado', 'Curaçá',\n",
              "       'Conceição do Jacuípe', 'Itajuípe', 'Conceição da Feira',\n",
              "       'São Félix', 'Itabela', 'Mata de São João', 'São Felipe',\n",
              "       'Remanso', 'Cansanção', 'Miguel Calmon', 'Serra do Ramalho',\n",
              "       'Maragogipe', 'Capim Grosso', 'Sento Sé', 'Buerarema',\n",
              "       'Medeiros Neto', 'Camamu', 'Muritiba', 'Brejões',\n",
              "       'Riachão das Neves', 'Santaluz', 'Monte Santo', 'Itanhém',\n",
              "       'São Francisco do Conde', 'Campo Alegre de Lourdes',\n",
              "       'Serra Dourada', 'Lapão', 'Itaparica', 'Uauá', 'Pindobaçu',\n",
              "       'Umburanas'], dtype=object)"
            ]
          },
          "metadata": {},
          "execution_count": 92
        }
      ]
    },
    {
      "cell_type": "markdown",
      "source": [
        "#Visualização de dados"
      ],
      "metadata": {
        "id": "Fhkh35fLpq8_"
      }
    },
    {
      "cell_type": "code",
      "source": [
        "dados.columns[(dados.columns.str.contains(\"NOTA\"))]"
      ],
      "metadata": {
        "colab": {
          "base_uri": "https://localhost:8080/"
        },
        "id": "DWvlOLFnpdVD",
        "outputId": "70c5123c-257e-4815-81fa-c12c2f74daf7"
      },
      "execution_count": 97,
      "outputs": [
        {
          "output_type": "execute_result",
          "data": {
            "text/plain": [
              "Index(['NU_NOTA_CN', 'NU_NOTA_CH', 'NU_NOTA_LC', 'NU_NOTA_MT', 'NU_NOTA_COMP1',\n",
              "       'NU_NOTA_COMP2', 'NU_NOTA_COMP3', 'NU_NOTA_COMP4', 'NU_NOTA_COMP5',\n",
              "       'NU_NOTA_REDACAO'],\n",
              "      dtype='object')"
            ]
          },
          "metadata": {},
          "execution_count": 97
        }
      ]
    },
    {
      "cell_type": "markdown",
      "source": [
        "Retirando as competências da redação do ENEM"
      ],
      "metadata": {
        "id": "WQMpgfjKqMgg"
      }
    },
    {
      "cell_type": "code",
      "source": [
        "dados.columns[(dados.columns.str.contains(\"NOTA\")) & (~dados.columns.str.contains(\"COMP\"))].tolist()"
      ],
      "metadata": {
        "colab": {
          "base_uri": "https://localhost:8080/"
        },
        "id": "5uR6teLvp-Ol",
        "outputId": "ea2b498b-b76c-45e8-df03-d32ab6d8da32"
      },
      "execution_count": 99,
      "outputs": [
        {
          "output_type": "execute_result",
          "data": {
            "text/plain": [
              "['NU_NOTA_CN', 'NU_NOTA_CH', 'NU_NOTA_LC', 'NU_NOTA_MT', 'NU_NOTA_REDACAO']"
            ]
          },
          "metadata": {},
          "execution_count": 99
        }
      ]
    },
    {
      "cell_type": "code",
      "source": [
        "provas = dados.columns[(dados.columns.str.contains(\"NOTA\")) & (~dados.columns.str.contains(\"COMP\"))].tolist()\n",
        "id_cadidato = [\"NU_INSCRICAO\"]"
      ],
      "metadata": {
        "id": "eqBGSkDlqL_e"
      },
      "execution_count": 100,
      "outputs": []
    },
    {
      "cell_type": "markdown",
      "source": [
        "##Gerando gráficos"
      ],
      "metadata": {
        "id": "0Zj-BrYvqmsk"
      }
    },
    {
      "cell_type": "code",
      "source": [
        "dados[\"TP_ESCOLA\"].value_counts().plot(kind=\"barh\")\n",
        "plt.title(\"Tipo de escolaridade participantes ENEM 2021\")"
      ],
      "metadata": {
        "colab": {
          "base_uri": "https://localhost:8080/",
          "height": 469
        },
        "id": "xYM3MJERqgdo",
        "outputId": "e6076101-9b93-4a99-937a-074881723fbb"
      },
      "execution_count": 138,
      "outputs": [
        {
          "output_type": "execute_result",
          "data": {
            "text/plain": [
              "Text(0.5, 1.0, 'Tipo de escolaridade participantes ENEM 2021')"
            ]
          },
          "metadata": {},
          "execution_count": 138
        },
        {
          "output_type": "display_data",
          "data": {
            "text/plain": [
              "<Figure size 640x480 with 1 Axes>"
            ],
            "image/png": "[encoded data removed]"
          },
          "metadata": {}
        }
      ]
    },
    {
      "cell_type": "code",
      "source": [
        "dados[\"TP_SEXO\"].value_counts().plot(kind=\"bar\")\n",
        "plt.title(\"Quantidade de homens e mulheres ENEM 2021\")"
      ],
      "metadata": {
        "colab": {
          "base_uri": "https://localhost:8080/",
          "height": 487
        },
        "id": "dwKgseUpqsAh",
        "outputId": "a527c6e0-9965-434e-d911-25f2f3cfa3b7"
      },
      "execution_count": 139,
      "outputs": [
        {
          "output_type": "execute_result",
          "data": {
            "text/plain": [
              "Text(0.5, 1.0, 'Quantidade de homens e mulheres ENEM 2021')"
            ]
          },
          "metadata": {},
          "execution_count": 139
        },
        {
          "output_type": "display_data",
          "data": {
            "text/plain": [
              "<Figure size 640x480 with 1 Axes>"
            ],
            "image/png": "[encoded data removed]"
          },
          "metadata": {}
        }
      ]
    },
    {
      "cell_type": "markdown",
      "source": [
        "##Melhorando a plotagem"
      ],
      "metadata": {
        "id": "REgvi0jwrGn5"
      }
    },
    {
      "cell_type": "code",
      "source": [
        "dados[\"TP_SEXO\"].value_counts().plot(kind=\"bar\", color=\"black\")\n",
        "\n",
        "plt.title(\"Proporção de homens e mulheres ENEM 2021 Ba\")\n",
        "\n",
        "plt.xlabel(\"Sexo\")\n",
        "plt.ylabel(\"Quantidade\")"
      ],
      "metadata": {
        "colab": {
          "base_uri": "https://localhost:8080/",
          "height": 487
        },
        "id": "qxaC9WBarClP",
        "outputId": "fefe62bc-363e-452f-be30-037706afe6ea"
      },
      "execution_count": 113,
      "outputs": [
        {
          "output_type": "execute_result",
          "data": {
            "text/plain": [
              "Text(0, 0.5, 'Quantidade')"
            ]
          },
          "metadata": {},
          "execution_count": 113
        },
        {
          "output_type": "display_data",
          "data": {
            "text/plain": [
              "<Figure size 640x480 with 1 Axes>"
            ],
            "image/png": "[encoded data removed]"
          },
          "metadata": {}
        }
      ]
    },
    {
      "cell_type": "code",
      "source": [
        "(dados[\"NO_MUNICIPIO_PROVA\"]\n",
        ".value_counts()\n",
        ".reset_index()\n",
        ".rename(columns = {\"NO_MUNICIPIO_PROVA\":\"Municipio\",\"count\":\"Quantidade\"})\n",
        ".nlargest(n=10, columns = \"Quantidade\")\n",
        ".set_index(\"Municipio\")\n",
        ".plot(\n",
        "    kind=\"barh\",\n",
        "    color = \"black\",\n",
        "    legend = False,\n",
        "    xlabel=\"Quantidade\",\n",
        "    title=\"Munícipios da Bahia com maior quantidade de inscritos - ENEM 2021\"\n",
        "    )\n",
        " )"
      ],
      "metadata": {
        "colab": {
          "base_uri": "https://localhost:8080/",
          "height": 489
        },
        "id": "CvHlQPhrrOsM",
        "outputId": "b393d45f-212e-48b0-b4fe-1954c4e8f114"
      },
      "execution_count": 135,
      "outputs": [
        {
          "output_type": "execute_result",
          "data": {
            "text/plain": [
              "<Axes: title={'center': 'Munícipios da Bahia com maior quantidade de inscritos - ENEM 2021'}, xlabel='Quantidade', ylabel='Municipio'>"
            ]
          },
          "metadata": {},
          "execution_count": 135
        },
        {
          "output_type": "display_data",
          "data": {
            "text/plain": [
              "<Figure size 640x480 with 1 Axes>"
            ],
            "image/png": "[encoded data removed]"
          },
          "metadata": {}
        }
      ]
    },
    {
      "cell_type": "code",
      "source": [],
      "metadata": {
        "id": "Xw5rWN98s9Z1"
      },
      "execution_count": null,
      "outputs": []
    }
  ]
}